{
 "cells": [
  {
   "cell_type": "markdown",
   "metadata": {
    "slideshow": {
     "slide_type": "slide"
    }
   },
   "source": [
    "<center>\n",
    "\n",
    "# Our Python is in another castle\n",
    "\n",
    "### Videogame data analysis\n",
    "\n",
    "    \n",
    "#### Alan Verdugo\n",
    "#### (Marketing Systems, CIO)\n",
    "\n",
    "</center>"
   ]
  },
  {
   "cell_type": "markdown",
   "metadata": {
    "slideshow": {
     "slide_type": "slide"
    }
   },
   "source": [
    "### A (brief) introduction to Python"
   ]
  },
  {
   "cell_type": "markdown",
   "metadata": {
    "slideshow": {
     "slide_type": "subslide"
    }
   },
   "source": [
    "Python is a popular and friendly programming language\n",
    "\n",
    "It has *MANY* use cases, including:\n",
    "- Data science (AI, ML, statistics, etc.)\n",
    "- Other sciences (physics, biology, chemistry, electro-magnetism, etc.)\n",
    "- System administration\n",
    "- Automation\n",
    "- Web development\n",
    "- Backend\n",
    "- Desktop and mobile apps!\n",
    "- Games!!\n",
    "- Much more!!!"
   ]
  },
  {
   "cell_type": "markdown",
   "metadata": {
    "slideshow": {
     "slide_type": "subslide"
    }
   },
   "source": [
    "<center>\n",
    "\n",
    "![use_cases](use_cases.png)\n",
    "\n",
    "</center>"
   ]
  },
  {
   "cell_type": "markdown",
   "metadata": {
    "slideshow": {
     "slide_type": "slide"
    }
   },
   "source": [
    "### The importance of data analysis"
   ]
  },
  {
   "cell_type": "markdown",
   "metadata": {
    "slideshow": {
     "slide_type": "subslide"
    }
   },
   "source": [
    "<center>\n",
    "\n",
    "![ghost_map1](ghost_map1.jpg)\n",
    "\n",
    "</center>"
   ]
  },
  {
   "cell_type": "markdown",
   "metadata": {
    "slideshow": {
     "slide_type": "subslide"
    }
   },
   "source": [
    "<center>\n",
    "\n",
    "![ghost_map2](ghost_map2.jpg)\n",
    "\n",
    "</center>"
   ]
  },
  {
   "cell_type": "markdown",
   "metadata": {
    "slideshow": {
     "slide_type": "slide"
    }
   },
   "source": [
    "### Let's analyze video games sales data"
   ]
  },
  {
   "cell_type": "markdown",
   "metadata": {
    "slideshow": {
     "slide_type": "slide"
    }
   },
   "source": [
    "### Import modules."
   ]
  },
  {
   "cell_type": "code",
   "execution_count": 19,
   "metadata": {
    "slideshow": {
     "slide_type": "fragment"
    }
   },
   "outputs": [],
   "source": [
    "import pandas as pd\n",
    "import json"
   ]
  },
  {
   "cell_type": "code",
   "execution_count": 24,
   "metadata": {
    "slideshow": {
     "slide_type": "subslide"
    }
   },
   "outputs": [],
   "source": [
    "dataframe = pd.read_csv(\"/home/alan/git/game_data_analysis/vgsales.csv\")\n",
    "dataframe = dataframe.drop(dataframe[dataframe['Year'] > 2015].index)"
   ]
  },
  {
   "cell_type": "code",
   "execution_count": 12,
   "metadata": {
    "slideshow": {
     "slide_type": "slide"
    }
   },
   "outputs": [],
   "source": [
    "import numpy as np\n",
    "import chart_studio.plotly as py\n",
    "from plotly.offline import init_notebook_mode,iplot\n",
    "import plotly.graph_objs as go\n",
    "import plotly.figure_factory as ff\n",
    "import matplotlib.pyplot as plt"
   ]
  },
  {
   "cell_type": "markdown",
   "metadata": {
    "slideshow": {
     "slide_type": "slide"
    }
   },
   "source": [
    "### We can display the dataframe as a table"
   ]
  },
  {
   "cell_type": "code",
   "execution_count": 53,
   "metadata": {
    "slideshow": {
     "slide_type": "subslide"
    }
   },
   "outputs": [
    {
     "data": {
      "application/vnd.plotly.v1+json": {
       "config": {
        "linkText": "Export to plot.ly",
        "plotlyServerURL": "https://plot.ly",
        "showLink": false
       },
       "data": [
        {
         "colorscale": [
          [
           0,
           "#440154"
          ],
          [
           0.1111111111111111,
           "#482878"
          ],
          [
           0.2222222222222222,
           "#3e4989"
          ],
          [
           0.3333333333333333,
           "#31688e"
          ],
          [
           0.4444444444444444,
           "#26828e"
          ],
          [
           0.5555555555555556,
           "#1f9e89"
          ],
          [
           0.6666666666666666,
           "#35b779"
          ],
          [
           0.7777777777777778,
           "#6ece58"
          ],
          [
           0.8888888888888888,
           "#b5de2b"
          ],
          [
           1,
           "#fde725"
          ]
         ],
         "hoverinfo": "none",
         "opacity": 0.75,
         "showscale": false,
         "type": "heatmap",
         "z": [
          [
           0,
           0,
           0,
           0,
           0,
           0,
           0,
           0,
           0,
           0,
           0
          ],
          [
           0.5,
           0.5,
           0.5,
           0.5,
           0.5,
           0.5,
           0.5,
           0.5,
           0.5,
           0.5,
           0.5
          ],
          [
           1,
           1,
           1,
           1,
           1,
           1,
           1,
           1,
           1,
           1,
           1
          ],
          [
           0.5,
           0.5,
           0.5,
           0.5,
           0.5,
           0.5,
           0.5,
           0.5,
           0.5,
           0.5,
           0.5
          ],
          [
           1,
           1,
           1,
           1,
           1,
           1,
           1,
           1,
           1,
           1,
           1
          ]
         ]
        }
       ],
       "layout": {
        "annotations": [
         {
          "align": "left",
          "font": {
           "color": "#ffffff",
           "size": 14
          },
          "showarrow": false,
          "text": "<b>Rank</b>",
          "x": -0.45,
          "xanchor": "left",
          "xref": "x",
          "y": 0,
          "yref": "y"
         },
         {
          "align": "left",
          "font": {
           "color": "#ffffff",
           "size": 14
          },
          "showarrow": false,
          "text": "<b>Name</b>",
          "x": 0.55,
          "xanchor": "left",
          "xref": "x",
          "y": 0,
          "yref": "y"
         },
         {
          "align": "left",
          "font": {
           "color": "#ffffff",
           "size": 14
          },
          "showarrow": false,
          "text": "<b>Platform</b>",
          "x": 1.55,
          "xanchor": "left",
          "xref": "x",
          "y": 0,
          "yref": "y"
         },
         {
          "align": "left",
          "font": {
           "color": "#ffffff",
           "size": 14
          },
          "showarrow": false,
          "text": "<b>Year</b>",
          "x": 2.55,
          "xanchor": "left",
          "xref": "x",
          "y": 0,
          "yref": "y"
         },
         {
          "align": "left",
          "font": {
           "color": "#ffffff",
           "size": 14
          },
          "showarrow": false,
          "text": "<b>Genre</b>",
          "x": 3.55,
          "xanchor": "left",
          "xref": "x",
          "y": 0,
          "yref": "y"
         },
         {
          "align": "left",
          "font": {
           "color": "#ffffff",
           "size": 14
          },
          "showarrow": false,
          "text": "<b>Publisher</b>",
          "x": 4.55,
          "xanchor": "left",
          "xref": "x",
          "y": 0,
          "yref": "y"
         },
         {
          "align": "left",
          "font": {
           "color": "#ffffff",
           "size": 14
          },
          "showarrow": false,
          "text": "<b>NA_Sales</b>",
          "x": 5.55,
          "xanchor": "left",
          "xref": "x",
          "y": 0,
          "yref": "y"
         },
         {
          "align": "left",
          "font": {
           "color": "#ffffff",
           "size": 14
          },
          "showarrow": false,
          "text": "<b>EU_Sales</b>",
          "x": 6.55,
          "xanchor": "left",
          "xref": "x",
          "y": 0,
          "yref": "y"
         },
         {
          "align": "left",
          "font": {
           "color": "#ffffff",
           "size": 14
          },
          "showarrow": false,
          "text": "<b>JP_Sales</b>",
          "x": 7.55,
          "xanchor": "left",
          "xref": "x",
          "y": 0,
          "yref": "y"
         },
         {
          "align": "left",
          "font": {
           "color": "#ffffff",
           "size": 14
          },
          "showarrow": false,
          "text": "<b>Other_Sales</b>",
          "x": 8.55,
          "xanchor": "left",
          "xref": "x",
          "y": 0,
          "yref": "y"
         },
         {
          "align": "left",
          "font": {
           "color": "#ffffff",
           "size": 14
          },
          "showarrow": false,
          "text": "<b>Global_Sales</b>",
          "x": 9.55,
          "xanchor": "left",
          "xref": "x",
          "y": 0,
          "yref": "y"
         },
         {
          "align": "left",
          "font": {
           "color": "#000000",
           "size": 14
          },
          "showarrow": false,
          "text": "1",
          "x": -0.45,
          "xanchor": "left",
          "xref": "x",
          "y": 1,
          "yref": "y"
         },
         {
          "align": "left",
          "font": {
           "color": "#000000",
           "size": 14
          },
          "showarrow": false,
          "text": "Wii Sports",
          "x": 0.55,
          "xanchor": "left",
          "xref": "x",
          "y": 1,
          "yref": "y"
         },
         {
          "align": "left",
          "font": {
           "color": "#000000",
           "size": 14
          },
          "showarrow": false,
          "text": "Wii",
          "x": 1.55,
          "xanchor": "left",
          "xref": "x",
          "y": 1,
          "yref": "y"
         },
         {
          "align": "left",
          "font": {
           "color": "#000000",
           "size": 14
          },
          "showarrow": false,
          "text": "2006.0",
          "x": 2.55,
          "xanchor": "left",
          "xref": "x",
          "y": 1,
          "yref": "y"
         },
         {
          "align": "left",
          "font": {
           "color": "#000000",
           "size": 14
          },
          "showarrow": false,
          "text": "Sports",
          "x": 3.55,
          "xanchor": "left",
          "xref": "x",
          "y": 1,
          "yref": "y"
         },
         {
          "align": "left",
          "font": {
           "color": "#000000",
           "size": 14
          },
          "showarrow": false,
          "text": "Nintendo",
          "x": 4.55,
          "xanchor": "left",
          "xref": "x",
          "y": 1,
          "yref": "y"
         },
         {
          "align": "left",
          "font": {
           "color": "#000000",
           "size": 14
          },
          "showarrow": false,
          "text": "41.49",
          "x": 5.55,
          "xanchor": "left",
          "xref": "x",
          "y": 1,
          "yref": "y"
         },
         {
          "align": "left",
          "font": {
           "color": "#000000",
           "size": 14
          },
          "showarrow": false,
          "text": "29.02",
          "x": 6.55,
          "xanchor": "left",
          "xref": "x",
          "y": 1,
          "yref": "y"
         },
         {
          "align": "left",
          "font": {
           "color": "#000000",
           "size": 14
          },
          "showarrow": false,
          "text": "3.77",
          "x": 7.55,
          "xanchor": "left",
          "xref": "x",
          "y": 1,
          "yref": "y"
         },
         {
          "align": "left",
          "font": {
           "color": "#000000",
           "size": 14
          },
          "showarrow": false,
          "text": "8.46",
          "x": 8.55,
          "xanchor": "left",
          "xref": "x",
          "y": 1,
          "yref": "y"
         },
         {
          "align": "left",
          "font": {
           "color": "#000000",
           "size": 14
          },
          "showarrow": false,
          "text": "82.74",
          "x": 9.55,
          "xanchor": "left",
          "xref": "x",
          "y": 1,
          "yref": "y"
         },
         {
          "align": "left",
          "font": {
           "color": "#000000",
           "size": 14
          },
          "showarrow": false,
          "text": "2",
          "x": -0.45,
          "xanchor": "left",
          "xref": "x",
          "y": 2,
          "yref": "y"
         },
         {
          "align": "left",
          "font": {
           "color": "#000000",
           "size": 14
          },
          "showarrow": false,
          "text": "Super Mario Bros.",
          "x": 0.55,
          "xanchor": "left",
          "xref": "x",
          "y": 2,
          "yref": "y"
         },
         {
          "align": "left",
          "font": {
           "color": "#000000",
           "size": 14
          },
          "showarrow": false,
          "text": "NES",
          "x": 1.55,
          "xanchor": "left",
          "xref": "x",
          "y": 2,
          "yref": "y"
         },
         {
          "align": "left",
          "font": {
           "color": "#000000",
           "size": 14
          },
          "showarrow": false,
          "text": "1985.0",
          "x": 2.55,
          "xanchor": "left",
          "xref": "x",
          "y": 2,
          "yref": "y"
         },
         {
          "align": "left",
          "font": {
           "color": "#000000",
           "size": 14
          },
          "showarrow": false,
          "text": "Platform",
          "x": 3.55,
          "xanchor": "left",
          "xref": "x",
          "y": 2,
          "yref": "y"
         },
         {
          "align": "left",
          "font": {
           "color": "#000000",
           "size": 14
          },
          "showarrow": false,
          "text": "Nintendo",
          "x": 4.55,
          "xanchor": "left",
          "xref": "x",
          "y": 2,
          "yref": "y"
         },
         {
          "align": "left",
          "font": {
           "color": "#000000",
           "size": 14
          },
          "showarrow": false,
          "text": "29.08",
          "x": 5.55,
          "xanchor": "left",
          "xref": "x",
          "y": 2,
          "yref": "y"
         },
         {
          "align": "left",
          "font": {
           "color": "#000000",
           "size": 14
          },
          "showarrow": false,
          "text": "3.58",
          "x": 6.55,
          "xanchor": "left",
          "xref": "x",
          "y": 2,
          "yref": "y"
         },
         {
          "align": "left",
          "font": {
           "color": "#000000",
           "size": 14
          },
          "showarrow": false,
          "text": "6.81",
          "x": 7.55,
          "xanchor": "left",
          "xref": "x",
          "y": 2,
          "yref": "y"
         },
         {
          "align": "left",
          "font": {
           "color": "#000000",
           "size": 14
          },
          "showarrow": false,
          "text": "0.77",
          "x": 8.55,
          "xanchor": "left",
          "xref": "x",
          "y": 2,
          "yref": "y"
         },
         {
          "align": "left",
          "font": {
           "color": "#000000",
           "size": 14
          },
          "showarrow": false,
          "text": "40.24",
          "x": 9.55,
          "xanchor": "left",
          "xref": "x",
          "y": 2,
          "yref": "y"
         },
         {
          "align": "left",
          "font": {
           "color": "#000000",
           "size": 14
          },
          "showarrow": false,
          "text": "3",
          "x": -0.45,
          "xanchor": "left",
          "xref": "x",
          "y": 3,
          "yref": "y"
         },
         {
          "align": "left",
          "font": {
           "color": "#000000",
           "size": 14
          },
          "showarrow": false,
          "text": "Mario Kart Wii",
          "x": 0.55,
          "xanchor": "left",
          "xref": "x",
          "y": 3,
          "yref": "y"
         },
         {
          "align": "left",
          "font": {
           "color": "#000000",
           "size": 14
          },
          "showarrow": false,
          "text": "Wii",
          "x": 1.55,
          "xanchor": "left",
          "xref": "x",
          "y": 3,
          "yref": "y"
         },
         {
          "align": "left",
          "font": {
           "color": "#000000",
           "size": 14
          },
          "showarrow": false,
          "text": "2008.0",
          "x": 2.55,
          "xanchor": "left",
          "xref": "x",
          "y": 3,
          "yref": "y"
         },
         {
          "align": "left",
          "font": {
           "color": "#000000",
           "size": 14
          },
          "showarrow": false,
          "text": "Racing",
          "x": 3.55,
          "xanchor": "left",
          "xref": "x",
          "y": 3,
          "yref": "y"
         },
         {
          "align": "left",
          "font": {
           "color": "#000000",
           "size": 14
          },
          "showarrow": false,
          "text": "Nintendo",
          "x": 4.55,
          "xanchor": "left",
          "xref": "x",
          "y": 3,
          "yref": "y"
         },
         {
          "align": "left",
          "font": {
           "color": "#000000",
           "size": 14
          },
          "showarrow": false,
          "text": "15.85",
          "x": 5.55,
          "xanchor": "left",
          "xref": "x",
          "y": 3,
          "yref": "y"
         },
         {
          "align": "left",
          "font": {
           "color": "#000000",
           "size": 14
          },
          "showarrow": false,
          "text": "12.88",
          "x": 6.55,
          "xanchor": "left",
          "xref": "x",
          "y": 3,
          "yref": "y"
         },
         {
          "align": "left",
          "font": {
           "color": "#000000",
           "size": 14
          },
          "showarrow": false,
          "text": "3.79",
          "x": 7.55,
          "xanchor": "left",
          "xref": "x",
          "y": 3,
          "yref": "y"
         },
         {
          "align": "left",
          "font": {
           "color": "#000000",
           "size": 14
          },
          "showarrow": false,
          "text": "3.31",
          "x": 8.55,
          "xanchor": "left",
          "xref": "x",
          "y": 3,
          "yref": "y"
         },
         {
          "align": "left",
          "font": {
           "color": "#000000",
           "size": 14
          },
          "showarrow": false,
          "text": "35.82",
          "x": 9.55,
          "xanchor": "left",
          "xref": "x",
          "y": 3,
          "yref": "y"
         },
         {
          "align": "left",
          "font": {
           "color": "#000000",
           "size": 14
          },
          "showarrow": false,
          "text": "4",
          "x": -0.45,
          "xanchor": "left",
          "xref": "x",
          "y": 4,
          "yref": "y"
         },
         {
          "align": "left",
          "font": {
           "color": "#000000",
           "size": 14
          },
          "showarrow": false,
          "text": "Wii Sports Resort",
          "x": 0.55,
          "xanchor": "left",
          "xref": "x",
          "y": 4,
          "yref": "y"
         },
         {
          "align": "left",
          "font": {
           "color": "#000000",
           "size": 14
          },
          "showarrow": false,
          "text": "Wii",
          "x": 1.55,
          "xanchor": "left",
          "xref": "x",
          "y": 4,
          "yref": "y"
         },
         {
          "align": "left",
          "font": {
           "color": "#000000",
           "size": 14
          },
          "showarrow": false,
          "text": "2009.0",
          "x": 2.55,
          "xanchor": "left",
          "xref": "x",
          "y": 4,
          "yref": "y"
         },
         {
          "align": "left",
          "font": {
           "color": "#000000",
           "size": 14
          },
          "showarrow": false,
          "text": "Sports",
          "x": 3.55,
          "xanchor": "left",
          "xref": "x",
          "y": 4,
          "yref": "y"
         },
         {
          "align": "left",
          "font": {
           "color": "#000000",
           "size": 14
          },
          "showarrow": false,
          "text": "Nintendo",
          "x": 4.55,
          "xanchor": "left",
          "xref": "x",
          "y": 4,
          "yref": "y"
         },
         {
          "align": "left",
          "font": {
           "color": "#000000",
           "size": 14
          },
          "showarrow": false,
          "text": "15.75",
          "x": 5.55,
          "xanchor": "left",
          "xref": "x",
          "y": 4,
          "yref": "y"
         },
         {
          "align": "left",
          "font": {
           "color": "#000000",
           "size": 14
          },
          "showarrow": false,
          "text": "11.01",
          "x": 6.55,
          "xanchor": "left",
          "xref": "x",
          "y": 4,
          "yref": "y"
         },
         {
          "align": "left",
          "font": {
           "color": "#000000",
           "size": 14
          },
          "showarrow": false,
          "text": "3.28",
          "x": 7.55,
          "xanchor": "left",
          "xref": "x",
          "y": 4,
          "yref": "y"
         },
         {
          "align": "left",
          "font": {
           "color": "#000000",
           "size": 14
          },
          "showarrow": false,
          "text": "2.96",
          "x": 8.55,
          "xanchor": "left",
          "xref": "x",
          "y": 4,
          "yref": "y"
         },
         {
          "align": "left",
          "font": {
           "color": "#000000",
           "size": 14
          },
          "showarrow": false,
          "text": "33.0",
          "x": 9.55,
          "xanchor": "left",
          "xref": "x",
          "y": 4,
          "yref": "y"
         }
        ],
        "height": 200,
        "margin": {
         "b": 0,
         "l": 0,
         "r": 0,
         "t": 0
        },
        "template": {
         "data": {
          "bar": [
           {
            "error_x": {
             "color": "#2a3f5f"
            },
            "error_y": {
             "color": "#2a3f5f"
            },
            "marker": {
             "line": {
              "color": "#E5ECF6",
              "width": 0.5
             }
            },
            "type": "bar"
           }
          ],
          "barpolar": [
           {
            "marker": {
             "line": {
              "color": "#E5ECF6",
              "width": 0.5
             }
            },
            "type": "barpolar"
           }
          ],
          "carpet": [
           {
            "aaxis": {
             "endlinecolor": "#2a3f5f",
             "gridcolor": "white",
             "linecolor": "white",
             "minorgridcolor": "white",
             "startlinecolor": "#2a3f5f"
            },
            "baxis": {
             "endlinecolor": "#2a3f5f",
             "gridcolor": "white",
             "linecolor": "white",
             "minorgridcolor": "white",
             "startlinecolor": "#2a3f5f"
            },
            "type": "carpet"
           }
          ],
          "choropleth": [
           {
            "colorbar": {
             "outlinewidth": 0,
             "ticks": ""
            },
            "type": "choropleth"
           }
          ],
          "contour": [
           {
            "colorbar": {
             "outlinewidth": 0,
             "ticks": ""
            },
            "colorscale": [
             [
              0,
              "#0d0887"
             ],
             [
              0.1111111111111111,
              "#46039f"
             ],
             [
              0.2222222222222222,
              "#7201a8"
             ],
             [
              0.3333333333333333,
              "#9c179e"
             ],
             [
              0.4444444444444444,
              "#bd3786"
             ],
             [
              0.5555555555555556,
              "#d8576b"
             ],
             [
              0.6666666666666666,
              "#ed7953"
             ],
             [
              0.7777777777777778,
              "#fb9f3a"
             ],
             [
              0.8888888888888888,
              "#fdca26"
             ],
             [
              1,
              "#f0f921"
             ]
            ],
            "type": "contour"
           }
          ],
          "contourcarpet": [
           {
            "colorbar": {
             "outlinewidth": 0,
             "ticks": ""
            },
            "type": "contourcarpet"
           }
          ],
          "heatmap": [
           {
            "colorbar": {
             "outlinewidth": 0,
             "ticks": ""
            },
            "colorscale": [
             [
              0,
              "#0d0887"
             ],
             [
              0.1111111111111111,
              "#46039f"
             ],
             [
              0.2222222222222222,
              "#7201a8"
             ],
             [
              0.3333333333333333,
              "#9c179e"
             ],
             [
              0.4444444444444444,
              "#bd3786"
             ],
             [
              0.5555555555555556,
              "#d8576b"
             ],
             [
              0.6666666666666666,
              "#ed7953"
             ],
             [
              0.7777777777777778,
              "#fb9f3a"
             ],
             [
              0.8888888888888888,
              "#fdca26"
             ],
             [
              1,
              "#f0f921"
             ]
            ],
            "type": "heatmap"
           }
          ],
          "heatmapgl": [
           {
            "colorbar": {
             "outlinewidth": 0,
             "ticks": ""
            },
            "colorscale": [
             [
              0,
              "#0d0887"
             ],
             [
              0.1111111111111111,
              "#46039f"
             ],
             [
              0.2222222222222222,
              "#7201a8"
             ],
             [
              0.3333333333333333,
              "#9c179e"
             ],
             [
              0.4444444444444444,
              "#bd3786"
             ],
             [
              0.5555555555555556,
              "#d8576b"
             ],
             [
              0.6666666666666666,
              "#ed7953"
             ],
             [
              0.7777777777777778,
              "#fb9f3a"
             ],
             [
              0.8888888888888888,
              "#fdca26"
             ],
             [
              1,
              "#f0f921"
             ]
            ],
            "type": "heatmapgl"
           }
          ],
          "histogram": [
           {
            "marker": {
             "colorbar": {
              "outlinewidth": 0,
              "ticks": ""
             }
            },
            "type": "histogram"
           }
          ],
          "histogram2d": [
           {
            "colorbar": {
             "outlinewidth": 0,
             "ticks": ""
            },
            "colorscale": [
             [
              0,
              "#0d0887"
             ],
             [
              0.1111111111111111,
              "#46039f"
             ],
             [
              0.2222222222222222,
              "#7201a8"
             ],
             [
              0.3333333333333333,
              "#9c179e"
             ],
             [
              0.4444444444444444,
              "#bd3786"
             ],
             [
              0.5555555555555556,
              "#d8576b"
             ],
             [
              0.6666666666666666,
              "#ed7953"
             ],
             [
              0.7777777777777778,
              "#fb9f3a"
             ],
             [
              0.8888888888888888,
              "#fdca26"
             ],
             [
              1,
              "#f0f921"
             ]
            ],
            "type": "histogram2d"
           }
          ],
          "histogram2dcontour": [
           {
            "colorbar": {
             "outlinewidth": 0,
             "ticks": ""
            },
            "colorscale": [
             [
              0,
              "#0d0887"
             ],
             [
              0.1111111111111111,
              "#46039f"
             ],
             [
              0.2222222222222222,
              "#7201a8"
             ],
             [
              0.3333333333333333,
              "#9c179e"
             ],
             [
              0.4444444444444444,
              "#bd3786"
             ],
             [
              0.5555555555555556,
              "#d8576b"
             ],
             [
              0.6666666666666666,
              "#ed7953"
             ],
             [
              0.7777777777777778,
              "#fb9f3a"
             ],
             [
              0.8888888888888888,
              "#fdca26"
             ],
             [
              1,
              "#f0f921"
             ]
            ],
            "type": "histogram2dcontour"
           }
          ],
          "mesh3d": [
           {
            "colorbar": {
             "outlinewidth": 0,
             "ticks": ""
            },
            "type": "mesh3d"
           }
          ],
          "parcoords": [
           {
            "line": {
             "colorbar": {
              "outlinewidth": 0,
              "ticks": ""
             }
            },
            "type": "parcoords"
           }
          ],
          "pie": [
           {
            "automargin": true,
            "type": "pie"
           }
          ],
          "scatter": [
           {
            "marker": {
             "colorbar": {
              "outlinewidth": 0,
              "ticks": ""
             }
            },
            "type": "scatter"
           }
          ],
          "scatter3d": [
           {
            "line": {
             "colorbar": {
              "outlinewidth": 0,
              "ticks": ""
             }
            },
            "marker": {
             "colorbar": {
              "outlinewidth": 0,
              "ticks": ""
             }
            },
            "type": "scatter3d"
           }
          ],
          "scattercarpet": [
           {
            "marker": {
             "colorbar": {
              "outlinewidth": 0,
              "ticks": ""
             }
            },
            "type": "scattercarpet"
           }
          ],
          "scattergeo": [
           {
            "marker": {
             "colorbar": {
              "outlinewidth": 0,
              "ticks": ""
             }
            },
            "type": "scattergeo"
           }
          ],
          "scattergl": [
           {
            "marker": {
             "colorbar": {
              "outlinewidth": 0,
              "ticks": ""
             }
            },
            "type": "scattergl"
           }
          ],
          "scattermapbox": [
           {
            "marker": {
             "colorbar": {
              "outlinewidth": 0,
              "ticks": ""
             }
            },
            "type": "scattermapbox"
           }
          ],
          "scatterpolar": [
           {
            "marker": {
             "colorbar": {
              "outlinewidth": 0,
              "ticks": ""
             }
            },
            "type": "scatterpolar"
           }
          ],
          "scatterpolargl": [
           {
            "marker": {
             "colorbar": {
              "outlinewidth": 0,
              "ticks": ""
             }
            },
            "type": "scatterpolargl"
           }
          ],
          "scatterternary": [
           {
            "marker": {
             "colorbar": {
              "outlinewidth": 0,
              "ticks": ""
             }
            },
            "type": "scatterternary"
           }
          ],
          "surface": [
           {
            "colorbar": {
             "outlinewidth": 0,
             "ticks": ""
            },
            "colorscale": [
             [
              0,
              "#0d0887"
             ],
             [
              0.1111111111111111,
              "#46039f"
             ],
             [
              0.2222222222222222,
              "#7201a8"
             ],
             [
              0.3333333333333333,
              "#9c179e"
             ],
             [
              0.4444444444444444,
              "#bd3786"
             ],
             [
              0.5555555555555556,
              "#d8576b"
             ],
             [
              0.6666666666666666,
              "#ed7953"
             ],
             [
              0.7777777777777778,
              "#fb9f3a"
             ],
             [
              0.8888888888888888,
              "#fdca26"
             ],
             [
              1,
              "#f0f921"
             ]
            ],
            "type": "surface"
           }
          ],
          "table": [
           {
            "cells": {
             "fill": {
              "color": "#EBF0F8"
             },
             "line": {
              "color": "white"
             }
            },
            "header": {
             "fill": {
              "color": "#C8D4E3"
             },
             "line": {
              "color": "white"
             }
            },
            "type": "table"
           }
          ]
         },
         "layout": {
          "annotationdefaults": {
           "arrowcolor": "#2a3f5f",
           "arrowhead": 0,
           "arrowwidth": 1
          },
          "coloraxis": {
           "colorbar": {
            "outlinewidth": 0,
            "ticks": ""
           }
          },
          "colorscale": {
           "diverging": [
            [
             0,
             "#8e0152"
            ],
            [
             0.1,
             "#c51b7d"
            ],
            [
             0.2,
             "#de77ae"
            ],
            [
             0.3,
             "#f1b6da"
            ],
            [
             0.4,
             "#fde0ef"
            ],
            [
             0.5,
             "#f7f7f7"
            ],
            [
             0.6,
             "#e6f5d0"
            ],
            [
             0.7,
             "#b8e186"
            ],
            [
             0.8,
             "#7fbc41"
            ],
            [
             0.9,
             "#4d9221"
            ],
            [
             1,
             "#276419"
            ]
           ],
           "sequential": [
            [
             0,
             "#0d0887"
            ],
            [
             0.1111111111111111,
             "#46039f"
            ],
            [
             0.2222222222222222,
             "#7201a8"
            ],
            [
             0.3333333333333333,
             "#9c179e"
            ],
            [
             0.4444444444444444,
             "#bd3786"
            ],
            [
             0.5555555555555556,
             "#d8576b"
            ],
            [
             0.6666666666666666,
             "#ed7953"
            ],
            [
             0.7777777777777778,
             "#fb9f3a"
            ],
            [
             0.8888888888888888,
             "#fdca26"
            ],
            [
             1,
             "#f0f921"
            ]
           ],
           "sequentialminus": [
            [
             0,
             "#0d0887"
            ],
            [
             0.1111111111111111,
             "#46039f"
            ],
            [
             0.2222222222222222,
             "#7201a8"
            ],
            [
             0.3333333333333333,
             "#9c179e"
            ],
            [
             0.4444444444444444,
             "#bd3786"
            ],
            [
             0.5555555555555556,
             "#d8576b"
            ],
            [
             0.6666666666666666,
             "#ed7953"
            ],
            [
             0.7777777777777778,
             "#fb9f3a"
            ],
            [
             0.8888888888888888,
             "#fdca26"
            ],
            [
             1,
             "#f0f921"
            ]
           ]
          },
          "colorway": [
           "#636efa",
           "#EF553B",
           "#00cc96",
           "#ab63fa",
           "#FFA15A",
           "#19d3f3",
           "#FF6692",
           "#B6E880",
           "#FF97FF",
           "#FECB52"
          ],
          "font": {
           "color": "#2a3f5f"
          },
          "geo": {
           "bgcolor": "white",
           "lakecolor": "white",
           "landcolor": "#E5ECF6",
           "showlakes": true,
           "showland": true,
           "subunitcolor": "white"
          },
          "hoverlabel": {
           "align": "left"
          },
          "hovermode": "closest",
          "mapbox": {
           "style": "light"
          },
          "paper_bgcolor": "white",
          "plot_bgcolor": "#E5ECF6",
          "polar": {
           "angularaxis": {
            "gridcolor": "white",
            "linecolor": "white",
            "ticks": ""
           },
           "bgcolor": "#E5ECF6",
           "radialaxis": {
            "gridcolor": "white",
            "linecolor": "white",
            "ticks": ""
           }
          },
          "scene": {
           "xaxis": {
            "backgroundcolor": "#E5ECF6",
            "gridcolor": "white",
            "gridwidth": 2,
            "linecolor": "white",
            "showbackground": true,
            "ticks": "",
            "zerolinecolor": "white"
           },
           "yaxis": {
            "backgroundcolor": "#E5ECF6",
            "gridcolor": "white",
            "gridwidth": 2,
            "linecolor": "white",
            "showbackground": true,
            "ticks": "",
            "zerolinecolor": "white"
           },
           "zaxis": {
            "backgroundcolor": "#E5ECF6",
            "gridcolor": "white",
            "gridwidth": 2,
            "linecolor": "white",
            "showbackground": true,
            "ticks": "",
            "zerolinecolor": "white"
           }
          },
          "shapedefaults": {
           "line": {
            "color": "#2a3f5f"
           }
          },
          "ternary": {
           "aaxis": {
            "gridcolor": "white",
            "linecolor": "white",
            "ticks": ""
           },
           "baxis": {
            "gridcolor": "white",
            "linecolor": "white",
            "ticks": ""
           },
           "bgcolor": "#E5ECF6",
           "caxis": {
            "gridcolor": "white",
            "linecolor": "white",
            "ticks": ""
           }
          },
          "title": {
           "x": 0.05
          },
          "xaxis": {
           "automargin": true,
           "gridcolor": "white",
           "linecolor": "white",
           "ticks": "",
           "title": {
            "standoff": 15
           },
           "zerolinecolor": "white",
           "zerolinewidth": 2
          },
          "yaxis": {
           "automargin": true,
           "gridcolor": "white",
           "linecolor": "white",
           "ticks": "",
           "title": {
            "standoff": 15
           },
           "zerolinecolor": "white",
           "zerolinewidth": 2
          }
         }
        },
        "xaxis": {
         "dtick": 1,
         "gridwidth": 2,
         "showticklabels": false,
         "tick0": -0.5,
         "ticks": "",
         "zeroline": false
        },
        "yaxis": {
         "autorange": "reversed",
         "dtick": 1,
         "gridwidth": 2,
         "showticklabels": false,
         "tick0": 0.5,
         "ticks": "",
         "zeroline": false
        }
       }
      },
      "text/html": [
       "<div>                            <div id=\"9a3c0718-8d77-42df-9d95-678c5248ea7c\" class=\"plotly-graph-div\" style=\"height:200px; width:100%;\"></div>            <script type=\"text/javascript\">                require([\"plotly\"], function(Plotly) {                    window.PLOTLYENV=window.PLOTLYENV || {};                                    if (document.getElementById(\"9a3c0718-8d77-42df-9d95-678c5248ea7c\")) {                    Plotly.newPlot(                        \"9a3c0718-8d77-42df-9d95-678c5248ea7c\",                        [{\"colorscale\": [[0.0, \"#440154\"], [0.1111111111111111, \"#482878\"], [0.2222222222222222, \"#3e4989\"], [0.3333333333333333, \"#31688e\"], [0.4444444444444444, \"#26828e\"], [0.5555555555555556, \"#1f9e89\"], [0.6666666666666666, \"#35b779\"], [0.7777777777777778, \"#6ece58\"], [0.8888888888888888, \"#b5de2b\"], [1.0, \"#fde725\"]], \"hoverinfo\": \"none\", \"opacity\": 0.75, \"showscale\": false, \"type\": \"heatmap\", \"z\": [[0, 0, 0, 0, 0, 0, 0, 0, 0, 0, 0], [0.5, 0.5, 0.5, 0.5, 0.5, 0.5, 0.5, 0.5, 0.5, 0.5, 0.5], [1, 1, 1, 1, 1, 1, 1, 1, 1, 1, 1], [0.5, 0.5, 0.5, 0.5, 0.5, 0.5, 0.5, 0.5, 0.5, 0.5, 0.5], [1, 1, 1, 1, 1, 1, 1, 1, 1, 1, 1]]}],                        {\"annotations\": [{\"align\": \"left\", \"font\": {\"color\": \"#ffffff\", \"size\": 14}, \"showarrow\": false, \"text\": \"<b>Rank</b>\", \"x\": -0.45, \"xanchor\": \"left\", \"xref\": \"x\", \"y\": 0, \"yref\": \"y\"}, {\"align\": \"left\", \"font\": {\"color\": \"#ffffff\", \"size\": 14}, \"showarrow\": false, \"text\": \"<b>Name</b>\", \"x\": 0.55, \"xanchor\": \"left\", \"xref\": \"x\", \"y\": 0, \"yref\": \"y\"}, {\"align\": \"left\", \"font\": {\"color\": \"#ffffff\", \"size\": 14}, \"showarrow\": false, \"text\": \"<b>Platform</b>\", \"x\": 1.55, \"xanchor\": \"left\", \"xref\": \"x\", \"y\": 0, \"yref\": \"y\"}, {\"align\": \"left\", \"font\": {\"color\": \"#ffffff\", \"size\": 14}, \"showarrow\": false, \"text\": \"<b>Year</b>\", \"x\": 2.55, \"xanchor\": \"left\", \"xref\": \"x\", \"y\": 0, \"yref\": \"y\"}, {\"align\": \"left\", \"font\": {\"color\": \"#ffffff\", \"size\": 14}, \"showarrow\": false, \"text\": \"<b>Genre</b>\", \"x\": 3.55, \"xanchor\": \"left\", \"xref\": \"x\", \"y\": 0, \"yref\": \"y\"}, {\"align\": \"left\", \"font\": {\"color\": \"#ffffff\", \"size\": 14}, \"showarrow\": false, \"text\": \"<b>Publisher</b>\", \"x\": 4.55, \"xanchor\": \"left\", \"xref\": \"x\", \"y\": 0, \"yref\": \"y\"}, {\"align\": \"left\", \"font\": {\"color\": \"#ffffff\", \"size\": 14}, \"showarrow\": false, \"text\": \"<b>NA_Sales</b>\", \"x\": 5.55, \"xanchor\": \"left\", \"xref\": \"x\", \"y\": 0, \"yref\": \"y\"}, {\"align\": \"left\", \"font\": {\"color\": \"#ffffff\", \"size\": 14}, \"showarrow\": false, \"text\": \"<b>EU_Sales</b>\", \"x\": 6.55, \"xanchor\": \"left\", \"xref\": \"x\", \"y\": 0, \"yref\": \"y\"}, {\"align\": \"left\", \"font\": {\"color\": \"#ffffff\", \"size\": 14}, \"showarrow\": false, \"text\": \"<b>JP_Sales</b>\", \"x\": 7.55, \"xanchor\": \"left\", \"xref\": \"x\", \"y\": 0, \"yref\": \"y\"}, {\"align\": \"left\", \"font\": {\"color\": \"#ffffff\", \"size\": 14}, \"showarrow\": false, \"text\": \"<b>Other_Sales</b>\", \"x\": 8.55, \"xanchor\": \"left\", \"xref\": \"x\", \"y\": 0, \"yref\": \"y\"}, {\"align\": \"left\", \"font\": {\"color\": \"#ffffff\", \"size\": 14}, \"showarrow\": false, \"text\": \"<b>Global_Sales</b>\", \"x\": 9.55, \"xanchor\": \"left\", \"xref\": \"x\", \"y\": 0, \"yref\": \"y\"}, {\"align\": \"left\", \"font\": {\"color\": \"#000000\", \"size\": 14}, \"showarrow\": false, \"text\": \"1\", \"x\": -0.45, \"xanchor\": \"left\", \"xref\": \"x\", \"y\": 1, \"yref\": \"y\"}, {\"align\": \"left\", \"font\": {\"color\": \"#000000\", \"size\": 14}, \"showarrow\": false, \"text\": \"Wii Sports\", \"x\": 0.55, \"xanchor\": \"left\", \"xref\": \"x\", \"y\": 1, \"yref\": \"y\"}, {\"align\": \"left\", \"font\": {\"color\": \"#000000\", \"size\": 14}, \"showarrow\": false, \"text\": \"Wii\", \"x\": 1.55, \"xanchor\": \"left\", \"xref\": \"x\", \"y\": 1, \"yref\": \"y\"}, {\"align\": \"left\", \"font\": {\"color\": \"#000000\", \"size\": 14}, \"showarrow\": false, \"text\": \"2006.0\", \"x\": 2.55, \"xanchor\": \"left\", \"xref\": \"x\", \"y\": 1, \"yref\": \"y\"}, {\"align\": \"left\", \"font\": {\"color\": \"#000000\", \"size\": 14}, \"showarrow\": false, \"text\": \"Sports\", \"x\": 3.55, \"xanchor\": \"left\", \"xref\": \"x\", \"y\": 1, \"yref\": \"y\"}, {\"align\": \"left\", \"font\": {\"color\": \"#000000\", \"size\": 14}, \"showarrow\": false, \"text\": \"Nintendo\", \"x\": 4.55, \"xanchor\": \"left\", \"xref\": \"x\", \"y\": 1, \"yref\": \"y\"}, {\"align\": \"left\", \"font\": {\"color\": \"#000000\", \"size\": 14}, \"showarrow\": false, \"text\": \"41.49\", \"x\": 5.55, \"xanchor\": \"left\", \"xref\": \"x\", \"y\": 1, \"yref\": \"y\"}, {\"align\": \"left\", \"font\": {\"color\": \"#000000\", \"size\": 14}, \"showarrow\": false, \"text\": \"29.02\", \"x\": 6.55, \"xanchor\": \"left\", \"xref\": \"x\", \"y\": 1, \"yref\": \"y\"}, {\"align\": \"left\", \"font\": {\"color\": \"#000000\", \"size\": 14}, \"showarrow\": false, \"text\": \"3.77\", \"x\": 7.55, \"xanchor\": \"left\", \"xref\": \"x\", \"y\": 1, \"yref\": \"y\"}, {\"align\": \"left\", \"font\": {\"color\": \"#000000\", \"size\": 14}, \"showarrow\": false, \"text\": \"8.46\", \"x\": 8.55, \"xanchor\": \"left\", \"xref\": \"x\", \"y\": 1, \"yref\": \"y\"}, {\"align\": \"left\", \"font\": {\"color\": \"#000000\", \"size\": 14}, \"showarrow\": false, \"text\": \"82.74\", \"x\": 9.55, \"xanchor\": \"left\", \"xref\": \"x\", \"y\": 1, \"yref\": \"y\"}, {\"align\": \"left\", \"font\": {\"color\": \"#000000\", \"size\": 14}, \"showarrow\": false, \"text\": \"2\", \"x\": -0.45, \"xanchor\": \"left\", \"xref\": \"x\", \"y\": 2, \"yref\": \"y\"}, {\"align\": \"left\", \"font\": {\"color\": \"#000000\", \"size\": 14}, \"showarrow\": false, \"text\": \"Super Mario Bros.\", \"x\": 0.55, \"xanchor\": \"left\", \"xref\": \"x\", \"y\": 2, \"yref\": \"y\"}, {\"align\": \"left\", \"font\": {\"color\": \"#000000\", \"size\": 14}, \"showarrow\": false, \"text\": \"NES\", \"x\": 1.55, \"xanchor\": \"left\", \"xref\": \"x\", \"y\": 2, \"yref\": \"y\"}, {\"align\": \"left\", \"font\": {\"color\": \"#000000\", \"size\": 14}, \"showarrow\": false, \"text\": \"1985.0\", \"x\": 2.55, \"xanchor\": \"left\", \"xref\": \"x\", \"y\": 2, \"yref\": \"y\"}, {\"align\": \"left\", \"font\": {\"color\": \"#000000\", \"size\": 14}, \"showarrow\": false, \"text\": \"Platform\", \"x\": 3.55, \"xanchor\": \"left\", \"xref\": \"x\", \"y\": 2, \"yref\": \"y\"}, {\"align\": \"left\", \"font\": {\"color\": \"#000000\", \"size\": 14}, \"showarrow\": false, \"text\": \"Nintendo\", \"x\": 4.55, \"xanchor\": \"left\", \"xref\": \"x\", \"y\": 2, \"yref\": \"y\"}, {\"align\": \"left\", \"font\": {\"color\": \"#000000\", \"size\": 14}, \"showarrow\": false, \"text\": \"29.08\", \"x\": 5.55, \"xanchor\": \"left\", \"xref\": \"x\", \"y\": 2, \"yref\": \"y\"}, {\"align\": \"left\", \"font\": {\"color\": \"#000000\", \"size\": 14}, \"showarrow\": false, \"text\": \"3.58\", \"x\": 6.55, \"xanchor\": \"left\", \"xref\": \"x\", \"y\": 2, \"yref\": \"y\"}, {\"align\": \"left\", \"font\": {\"color\": \"#000000\", \"size\": 14}, \"showarrow\": false, \"text\": \"6.81\", \"x\": 7.55, \"xanchor\": \"left\", \"xref\": \"x\", \"y\": 2, \"yref\": \"y\"}, {\"align\": \"left\", \"font\": {\"color\": \"#000000\", \"size\": 14}, \"showarrow\": false, \"text\": \"0.77\", \"x\": 8.55, \"xanchor\": \"left\", \"xref\": \"x\", \"y\": 2, \"yref\": \"y\"}, {\"align\": \"left\", \"font\": {\"color\": \"#000000\", \"size\": 14}, \"showarrow\": false, \"text\": \"40.24\", \"x\": 9.55, \"xanchor\": \"left\", \"xref\": \"x\", \"y\": 2, \"yref\": \"y\"}, {\"align\": \"left\", \"font\": {\"color\": \"#000000\", \"size\": 14}, \"showarrow\": false, \"text\": \"3\", \"x\": -0.45, \"xanchor\": \"left\", \"xref\": \"x\", \"y\": 3, \"yref\": \"y\"}, {\"align\": \"left\", \"font\": {\"color\": \"#000000\", \"size\": 14}, \"showarrow\": false, \"text\": \"Mario Kart Wii\", \"x\": 0.55, \"xanchor\": \"left\", \"xref\": \"x\", \"y\": 3, \"yref\": \"y\"}, {\"align\": \"left\", \"font\": {\"color\": \"#000000\", \"size\": 14}, \"showarrow\": false, \"text\": \"Wii\", \"x\": 1.55, \"xanchor\": \"left\", \"xref\": \"x\", \"y\": 3, \"yref\": \"y\"}, {\"align\": \"left\", \"font\": {\"color\": \"#000000\", \"size\": 14}, \"showarrow\": false, \"text\": \"2008.0\", \"x\": 2.55, \"xanchor\": \"left\", \"xref\": \"x\", \"y\": 3, \"yref\": \"y\"}, {\"align\": \"left\", \"font\": {\"color\": \"#000000\", \"size\": 14}, \"showarrow\": false, \"text\": \"Racing\", \"x\": 3.55, \"xanchor\": \"left\", \"xref\": \"x\", \"y\": 3, \"yref\": \"y\"}, {\"align\": \"left\", \"font\": {\"color\": \"#000000\", \"size\": 14}, \"showarrow\": false, \"text\": \"Nintendo\", \"x\": 4.55, \"xanchor\": \"left\", \"xref\": \"x\", \"y\": 3, \"yref\": \"y\"}, {\"align\": \"left\", \"font\": {\"color\": \"#000000\", \"size\": 14}, \"showarrow\": false, \"text\": \"15.85\", \"x\": 5.55, \"xanchor\": \"left\", \"xref\": \"x\", \"y\": 3, \"yref\": \"y\"}, {\"align\": \"left\", \"font\": {\"color\": \"#000000\", \"size\": 14}, \"showarrow\": false, \"text\": \"12.88\", \"x\": 6.55, \"xanchor\": \"left\", \"xref\": \"x\", \"y\": 3, \"yref\": \"y\"}, {\"align\": \"left\", \"font\": {\"color\": \"#000000\", \"size\": 14}, \"showarrow\": false, \"text\": \"3.79\", \"x\": 7.55, \"xanchor\": \"left\", \"xref\": \"x\", \"y\": 3, \"yref\": \"y\"}, {\"align\": \"left\", \"font\": {\"color\": \"#000000\", \"size\": 14}, \"showarrow\": false, \"text\": \"3.31\", \"x\": 8.55, \"xanchor\": \"left\", \"xref\": \"x\", \"y\": 3, \"yref\": \"y\"}, {\"align\": \"left\", \"font\": {\"color\": \"#000000\", \"size\": 14}, \"showarrow\": false, \"text\": \"35.82\", \"x\": 9.55, \"xanchor\": \"left\", \"xref\": \"x\", \"y\": 3, \"yref\": \"y\"}, {\"align\": \"left\", \"font\": {\"color\": \"#000000\", \"size\": 14}, \"showarrow\": false, \"text\": \"4\", \"x\": -0.45, \"xanchor\": \"left\", \"xref\": \"x\", \"y\": 4, \"yref\": \"y\"}, {\"align\": \"left\", \"font\": {\"color\": \"#000000\", \"size\": 14}, \"showarrow\": false, \"text\": \"Wii Sports Resort\", \"x\": 0.55, \"xanchor\": \"left\", \"xref\": \"x\", \"y\": 4, \"yref\": \"y\"}, {\"align\": \"left\", \"font\": {\"color\": \"#000000\", \"size\": 14}, \"showarrow\": false, \"text\": \"Wii\", \"x\": 1.55, \"xanchor\": \"left\", \"xref\": \"x\", \"y\": 4, \"yref\": \"y\"}, {\"align\": \"left\", \"font\": {\"color\": \"#000000\", \"size\": 14}, \"showarrow\": false, \"text\": \"2009.0\", \"x\": 2.55, \"xanchor\": \"left\", \"xref\": \"x\", \"y\": 4, \"yref\": \"y\"}, {\"align\": \"left\", \"font\": {\"color\": \"#000000\", \"size\": 14}, \"showarrow\": false, \"text\": \"Sports\", \"x\": 3.55, \"xanchor\": \"left\", \"xref\": \"x\", \"y\": 4, \"yref\": \"y\"}, {\"align\": \"left\", \"font\": {\"color\": \"#000000\", \"size\": 14}, \"showarrow\": false, \"text\": \"Nintendo\", \"x\": 4.55, \"xanchor\": \"left\", \"xref\": \"x\", \"y\": 4, \"yref\": \"y\"}, {\"align\": \"left\", \"font\": {\"color\": \"#000000\", \"size\": 14}, \"showarrow\": false, \"text\": \"15.75\", \"x\": 5.55, \"xanchor\": \"left\", \"xref\": \"x\", \"y\": 4, \"yref\": \"y\"}, {\"align\": \"left\", \"font\": {\"color\": \"#000000\", \"size\": 14}, \"showarrow\": false, \"text\": \"11.01\", \"x\": 6.55, \"xanchor\": \"left\", \"xref\": \"x\", \"y\": 4, \"yref\": \"y\"}, {\"align\": \"left\", \"font\": {\"color\": \"#000000\", \"size\": 14}, \"showarrow\": false, \"text\": \"3.28\", \"x\": 7.55, \"xanchor\": \"left\", \"xref\": \"x\", \"y\": 4, \"yref\": \"y\"}, {\"align\": \"left\", \"font\": {\"color\": \"#000000\", \"size\": 14}, \"showarrow\": false, \"text\": \"2.96\", \"x\": 8.55, \"xanchor\": \"left\", \"xref\": \"x\", \"y\": 4, \"yref\": \"y\"}, {\"align\": \"left\", \"font\": {\"color\": \"#000000\", \"size\": 14}, \"showarrow\": false, \"text\": \"33.0\", \"x\": 9.55, \"xanchor\": \"left\", \"xref\": \"x\", \"y\": 4, \"yref\": \"y\"}], \"height\": 200, \"margin\": {\"b\": 0, \"l\": 0, \"r\": 0, \"t\": 0}, \"template\": {\"data\": {\"bar\": [{\"error_x\": {\"color\": \"#2a3f5f\"}, \"error_y\": {\"color\": \"#2a3f5f\"}, \"marker\": {\"line\": {\"color\": \"#E5ECF6\", \"width\": 0.5}}, \"type\": \"bar\"}], \"barpolar\": [{\"marker\": {\"line\": {\"color\": \"#E5ECF6\", \"width\": 0.5}}, \"type\": \"barpolar\"}], \"carpet\": [{\"aaxis\": {\"endlinecolor\": \"#2a3f5f\", \"gridcolor\": \"white\", \"linecolor\": \"white\", \"minorgridcolor\": \"white\", \"startlinecolor\": \"#2a3f5f\"}, \"baxis\": {\"endlinecolor\": \"#2a3f5f\", \"gridcolor\": \"white\", \"linecolor\": \"white\", \"minorgridcolor\": \"white\", \"startlinecolor\": \"#2a3f5f\"}, \"type\": \"carpet\"}], \"choropleth\": [{\"colorbar\": {\"outlinewidth\": 0, \"ticks\": \"\"}, \"type\": \"choropleth\"}], \"contour\": [{\"colorbar\": {\"outlinewidth\": 0, \"ticks\": \"\"}, \"colorscale\": [[0.0, \"#0d0887\"], [0.1111111111111111, \"#46039f\"], [0.2222222222222222, \"#7201a8\"], [0.3333333333333333, \"#9c179e\"], [0.4444444444444444, \"#bd3786\"], [0.5555555555555556, \"#d8576b\"], [0.6666666666666666, \"#ed7953\"], [0.7777777777777778, \"#fb9f3a\"], [0.8888888888888888, \"#fdca26\"], [1.0, \"#f0f921\"]], \"type\": \"contour\"}], \"contourcarpet\": [{\"colorbar\": {\"outlinewidth\": 0, \"ticks\": \"\"}, \"type\": \"contourcarpet\"}], \"heatmap\": [{\"colorbar\": {\"outlinewidth\": 0, \"ticks\": \"\"}, \"colorscale\": [[0.0, \"#0d0887\"], [0.1111111111111111, \"#46039f\"], [0.2222222222222222, \"#7201a8\"], [0.3333333333333333, \"#9c179e\"], [0.4444444444444444, \"#bd3786\"], [0.5555555555555556, \"#d8576b\"], [0.6666666666666666, \"#ed7953\"], [0.7777777777777778, \"#fb9f3a\"], [0.8888888888888888, \"#fdca26\"], [1.0, \"#f0f921\"]], \"type\": \"heatmap\"}], \"heatmapgl\": [{\"colorbar\": {\"outlinewidth\": 0, \"ticks\": \"\"}, \"colorscale\": [[0.0, \"#0d0887\"], [0.1111111111111111, \"#46039f\"], [0.2222222222222222, \"#7201a8\"], [0.3333333333333333, \"#9c179e\"], [0.4444444444444444, \"#bd3786\"], [0.5555555555555556, \"#d8576b\"], [0.6666666666666666, \"#ed7953\"], [0.7777777777777778, \"#fb9f3a\"], [0.8888888888888888, \"#fdca26\"], [1.0, \"#f0f921\"]], \"type\": \"heatmapgl\"}], \"histogram\": [{\"marker\": {\"colorbar\": {\"outlinewidth\": 0, \"ticks\": \"\"}}, \"type\": \"histogram\"}], \"histogram2d\": [{\"colorbar\": {\"outlinewidth\": 0, \"ticks\": \"\"}, \"colorscale\": [[0.0, \"#0d0887\"], [0.1111111111111111, \"#46039f\"], [0.2222222222222222, \"#7201a8\"], [0.3333333333333333, \"#9c179e\"], [0.4444444444444444, \"#bd3786\"], [0.5555555555555556, \"#d8576b\"], [0.6666666666666666, \"#ed7953\"], [0.7777777777777778, \"#fb9f3a\"], [0.8888888888888888, \"#fdca26\"], [1.0, \"#f0f921\"]], \"type\": \"histogram2d\"}], \"histogram2dcontour\": [{\"colorbar\": {\"outlinewidth\": 0, \"ticks\": \"\"}, \"colorscale\": [[0.0, \"#0d0887\"], [0.1111111111111111, \"#46039f\"], [0.2222222222222222, \"#7201a8\"], [0.3333333333333333, \"#9c179e\"], [0.4444444444444444, \"#bd3786\"], [0.5555555555555556, \"#d8576b\"], [0.6666666666666666, \"#ed7953\"], [0.7777777777777778, \"#fb9f3a\"], [0.8888888888888888, \"#fdca26\"], [1.0, \"#f0f921\"]], \"type\": \"histogram2dcontour\"}], \"mesh3d\": [{\"colorbar\": {\"outlinewidth\": 0, \"ticks\": \"\"}, \"type\": \"mesh3d\"}], \"parcoords\": [{\"line\": {\"colorbar\": {\"outlinewidth\": 0, \"ticks\": \"\"}}, \"type\": \"parcoords\"}], \"pie\": [{\"automargin\": true, \"type\": \"pie\"}], \"scatter\": [{\"marker\": {\"colorbar\": {\"outlinewidth\": 0, \"ticks\": \"\"}}, \"type\": \"scatter\"}], \"scatter3d\": [{\"line\": {\"colorbar\": {\"outlinewidth\": 0, \"ticks\": \"\"}}, \"marker\": {\"colorbar\": {\"outlinewidth\": 0, \"ticks\": \"\"}}, \"type\": \"scatter3d\"}], \"scattercarpet\": [{\"marker\": {\"colorbar\": {\"outlinewidth\": 0, \"ticks\": \"\"}}, \"type\": \"scattercarpet\"}], \"scattergeo\": [{\"marker\": {\"colorbar\": {\"outlinewidth\": 0, \"ticks\": \"\"}}, \"type\": \"scattergeo\"}], \"scattergl\": [{\"marker\": {\"colorbar\": {\"outlinewidth\": 0, \"ticks\": \"\"}}, \"type\": \"scattergl\"}], \"scattermapbox\": [{\"marker\": {\"colorbar\": {\"outlinewidth\": 0, \"ticks\": \"\"}}, \"type\": \"scattermapbox\"}], \"scatterpolar\": [{\"marker\": {\"colorbar\": {\"outlinewidth\": 0, \"ticks\": \"\"}}, \"type\": \"scatterpolar\"}], \"scatterpolargl\": [{\"marker\": {\"colorbar\": {\"outlinewidth\": 0, \"ticks\": \"\"}}, \"type\": \"scatterpolargl\"}], \"scatterternary\": [{\"marker\": {\"colorbar\": {\"outlinewidth\": 0, \"ticks\": \"\"}}, \"type\": \"scatterternary\"}], \"surface\": [{\"colorbar\": {\"outlinewidth\": 0, \"ticks\": \"\"}, \"colorscale\": [[0.0, \"#0d0887\"], [0.1111111111111111, \"#46039f\"], [0.2222222222222222, \"#7201a8\"], [0.3333333333333333, \"#9c179e\"], [0.4444444444444444, \"#bd3786\"], [0.5555555555555556, \"#d8576b\"], [0.6666666666666666, \"#ed7953\"], [0.7777777777777778, \"#fb9f3a\"], [0.8888888888888888, \"#fdca26\"], [1.0, \"#f0f921\"]], \"type\": \"surface\"}], \"table\": [{\"cells\": {\"fill\": {\"color\": \"#EBF0F8\"}, \"line\": {\"color\": \"white\"}}, \"header\": {\"fill\": {\"color\": \"#C8D4E3\"}, \"line\": {\"color\": \"white\"}}, \"type\": \"table\"}]}, \"layout\": {\"annotationdefaults\": {\"arrowcolor\": \"#2a3f5f\", \"arrowhead\": 0, \"arrowwidth\": 1}, \"coloraxis\": {\"colorbar\": {\"outlinewidth\": 0, \"ticks\": \"\"}}, \"colorscale\": {\"diverging\": [[0, \"#8e0152\"], [0.1, \"#c51b7d\"], [0.2, \"#de77ae\"], [0.3, \"#f1b6da\"], [0.4, \"#fde0ef\"], [0.5, \"#f7f7f7\"], [0.6, \"#e6f5d0\"], [0.7, \"#b8e186\"], [0.8, \"#7fbc41\"], [0.9, \"#4d9221\"], [1, \"#276419\"]], \"sequential\": [[0.0, \"#0d0887\"], [0.1111111111111111, \"#46039f\"], [0.2222222222222222, \"#7201a8\"], [0.3333333333333333, \"#9c179e\"], [0.4444444444444444, \"#bd3786\"], [0.5555555555555556, \"#d8576b\"], [0.6666666666666666, \"#ed7953\"], [0.7777777777777778, \"#fb9f3a\"], [0.8888888888888888, \"#fdca26\"], [1.0, \"#f0f921\"]], \"sequentialminus\": [[0.0, \"#0d0887\"], [0.1111111111111111, \"#46039f\"], [0.2222222222222222, \"#7201a8\"], [0.3333333333333333, \"#9c179e\"], [0.4444444444444444, \"#bd3786\"], [0.5555555555555556, \"#d8576b\"], [0.6666666666666666, \"#ed7953\"], [0.7777777777777778, \"#fb9f3a\"], [0.8888888888888888, \"#fdca26\"], [1.0, \"#f0f921\"]]}, \"colorway\": [\"#636efa\", \"#EF553B\", \"#00cc96\", \"#ab63fa\", \"#FFA15A\", \"#19d3f3\", \"#FF6692\", \"#B6E880\", \"#FF97FF\", \"#FECB52\"], \"font\": {\"color\": \"#2a3f5f\"}, \"geo\": {\"bgcolor\": \"white\", \"lakecolor\": \"white\", \"landcolor\": \"#E5ECF6\", \"showlakes\": true, \"showland\": true, \"subunitcolor\": \"white\"}, \"hoverlabel\": {\"align\": \"left\"}, \"hovermode\": \"closest\", \"mapbox\": {\"style\": \"light\"}, \"paper_bgcolor\": \"white\", \"plot_bgcolor\": \"#E5ECF6\", \"polar\": {\"angularaxis\": {\"gridcolor\": \"white\", \"linecolor\": \"white\", \"ticks\": \"\"}, \"bgcolor\": \"#E5ECF6\", \"radialaxis\": {\"gridcolor\": \"white\", \"linecolor\": \"white\", \"ticks\": \"\"}}, \"scene\": {\"xaxis\": {\"backgroundcolor\": \"#E5ECF6\", \"gridcolor\": \"white\", \"gridwidth\": 2, \"linecolor\": \"white\", \"showbackground\": true, \"ticks\": \"\", \"zerolinecolor\": \"white\"}, \"yaxis\": {\"backgroundcolor\": \"#E5ECF6\", \"gridcolor\": \"white\", \"gridwidth\": 2, \"linecolor\": \"white\", \"showbackground\": true, \"ticks\": \"\", \"zerolinecolor\": \"white\"}, \"zaxis\": {\"backgroundcolor\": \"#E5ECF6\", \"gridcolor\": \"white\", \"gridwidth\": 2, \"linecolor\": \"white\", \"showbackground\": true, \"ticks\": \"\", \"zerolinecolor\": \"white\"}}, \"shapedefaults\": {\"line\": {\"color\": \"#2a3f5f\"}}, \"ternary\": {\"aaxis\": {\"gridcolor\": \"white\", \"linecolor\": \"white\", \"ticks\": \"\"}, \"baxis\": {\"gridcolor\": \"white\", \"linecolor\": \"white\", \"ticks\": \"\"}, \"bgcolor\": \"#E5ECF6\", \"caxis\": {\"gridcolor\": \"white\", \"linecolor\": \"white\", \"ticks\": \"\"}}, \"title\": {\"x\": 0.05}, \"xaxis\": {\"automargin\": true, \"gridcolor\": \"white\", \"linecolor\": \"white\", \"ticks\": \"\", \"title\": {\"standoff\": 15}, \"zerolinecolor\": \"white\", \"zerolinewidth\": 2}, \"yaxis\": {\"automargin\": true, \"gridcolor\": \"white\", \"linecolor\": \"white\", \"ticks\": \"\", \"title\": {\"standoff\": 15}, \"zerolinecolor\": \"white\", \"zerolinewidth\": 2}}}, \"xaxis\": {\"dtick\": 1, \"gridwidth\": 2, \"showticklabels\": false, \"tick0\": -0.5, \"ticks\": \"\", \"zeroline\": false}, \"yaxis\": {\"autorange\": \"reversed\", \"dtick\": 1, \"gridwidth\": 2, \"showticklabels\": false, \"tick0\": 0.5, \"ticks\": \"\", \"zeroline\": false}},                        {\"responsive\": true}                    ).then(function(){\n",
       "                            \n",
       "var gd = document.getElementById('9a3c0718-8d77-42df-9d95-678c5248ea7c');\n",
       "var x = new MutationObserver(function (mutations, observer) {{\n",
       "        var display = window.getComputedStyle(gd).display;\n",
       "        if (!display || display === 'none') {{\n",
       "            console.log([gd, 'removed!']);\n",
       "            Plotly.purge(gd);\n",
       "            observer.disconnect();\n",
       "        }}\n",
       "}});\n",
       "\n",
       "// Listen for the removal of the full notebook cells\n",
       "var notebookContainer = gd.closest('#notebook-container');\n",
       "if (notebookContainer) {{\n",
       "    x.observe(notebookContainer, {childList: true});\n",
       "}}\n",
       "\n",
       "// Listen for the clearing of the current output cell\n",
       "var outputEl = gd.closest('.output');\n",
       "if (outputEl) {{\n",
       "    x.observe(outputEl, {childList: true});\n",
       "}}\n",
       "\n",
       "                        })                };                });            </script>        </div>"
      ]
     },
     "metadata": {},
     "output_type": "display_data"
    }
   ],
   "source": [
    "top = dataframe.head(4)\n",
    "table = ff.create_table(top, colorscale=\"viridis\")\n",
    "# Other built-in colorscales:\n",
    "# mint        orrd        oranges     oryel       peach       pinkyl      plasma      plotly3\n",
    "# rdpu        redor       reds        sunset      sunsetdark  teal        tealgrn     viridis\n",
    "# gray        haline      ice         matter      solar       speed       tempo       thermal\n",
    "# turbid      armyrose    brbg        earth       fall        geyser      prgn        piyg\n",
    "for i in range(len(table.layout.annotations)):\n",
    "    table.layout.annotations[i].font.size = 14\n",
    "iplot(table)"
   ]
  },
  {
   "cell_type": "markdown",
   "metadata": {
    "slideshow": {
     "slide_type": "slide"
    }
   },
   "source": [
    "### Bar charts!"
   ]
  },
  {
   "cell_type": "code",
   "execution_count": 55,
   "metadata": {
    "slideshow": {
     "slide_type": "subslide"
    }
   },
   "outputs": [
    {
     "data": {
      "application/vnd.plotly.v1+json": {
       "config": {
        "linkText": "Export to plot.ly",
        "plotlyServerURL": "https://plot.ly",
        "showLink": false
       },
       "data": [
        {
         "marker": {
          "color": "crimson",
          "line": {
           "color": "black",
           "width": 2
          }
         },
         "opacity": 0.75,
         "type": "histogram",
         "x": [
          "Nintendo",
          "Nintendo",
          "Nintendo",
          "Nintendo",
          "Nintendo",
          "Nintendo",
          "Nintendo",
          "Nintendo",
          "Nintendo",
          "Nintendo",
          "Nintendo",
          "Nintendo",
          "Nintendo",
          "Nintendo",
          "Nintendo",
          "Microsoft Game Studios",
          "Take-Two Interactive",
          "Take-Two Interactive",
          "Nintendo",
          "Nintendo",
          "Nintendo",
          "Nintendo",
          "Nintendo",
          "Take-Two Interactive",
          "Take-Two Interactive",
          "Nintendo",
          "Nintendo",
          "Nintendo",
          "Sony Computer Entertainment",
          "Activision",
          "Nintendo",
          "Activision",
          "Nintendo",
          "Activision",
          "Activision",
          "Activision",
          "Activision",
          "Activision",
          "Take-Two Interactive",
          "Nintendo",
          "Activision",
          "Nintendo",
          "Nintendo",
          "Microsoft Game Studios",
          "Take-Two Interactive",
          "Nintendo",
          "Nintendo",
          "Sony Computer Entertainment",
          "Nintendo",
          "Nintendo",
          "Nintendo",
          "Take-Two Interactive",
          "Sony Computer Entertainment",
          "Nintendo",
          "Sony Computer Entertainment",
          "Activision",
          "Take-Two Interactive",
          "Nintendo",
          "Nintendo",
          "Nintendo",
          "Ubisoft",
          "Activision",
          "Microsoft Game Studios",
          "Nintendo",
          "Nintendo",
          "Microsoft Game Studios",
          "Sony Computer Entertainment",
          "Activision",
          "Ubisoft",
          "Sony Computer Entertainment",
          "Activision",
          "Nintendo",
          "Microsoft Game Studios",
          "Nintendo",
          "Nintendo",
          "Bethesda Softworks",
          "Nintendo",
          "Electronic Arts",
          "Nintendo",
          "Microsoft Game Studios",
          "Nintendo",
          "Nintendo",
          "Electronic Arts",
          "Electronic Arts",
          "Nintendo",
          "Sega",
          "Sony Computer Entertainment",
          "SquareSoft",
          "Nintendo",
          "Atari",
          "Take-Two Interactive",
          "Nintendo",
          "Electronic Arts",
          "Activision",
          "Nintendo",
          "Sony Computer Entertainment",
          "Nintendo",
          "Nintendo",
          "Activision",
          "Electronic Arts"
         ]
        }
       ],
       "layout": {
        "bargap": 0.2,
        "bargroupgap": 0.1,
        "paper_bgcolor": "rgb(243, 243, 243)",
        "plot_bgcolor": "rgb(243, 243, 243)",
        "template": {
         "data": {
          "bar": [
           {
            "error_x": {
             "color": "#2a3f5f"
            },
            "error_y": {
             "color": "#2a3f5f"
            },
            "marker": {
             "line": {
              "color": "#E5ECF6",
              "width": 0.5
             }
            },
            "type": "bar"
           }
          ],
          "barpolar": [
           {
            "marker": {
             "line": {
              "color": "#E5ECF6",
              "width": 0.5
             }
            },
            "type": "barpolar"
           }
          ],
          "carpet": [
           {
            "aaxis": {
             "endlinecolor": "#2a3f5f",
             "gridcolor": "white",
             "linecolor": "white",
             "minorgridcolor": "white",
             "startlinecolor": "#2a3f5f"
            },
            "baxis": {
             "endlinecolor": "#2a3f5f",
             "gridcolor": "white",
             "linecolor": "white",
             "minorgridcolor": "white",
             "startlinecolor": "#2a3f5f"
            },
            "type": "carpet"
           }
          ],
          "choropleth": [
           {
            "colorbar": {
             "outlinewidth": 0,
             "ticks": ""
            },
            "type": "choropleth"
           }
          ],
          "contour": [
           {
            "colorbar": {
             "outlinewidth": 0,
             "ticks": ""
            },
            "colorscale": [
             [
              0,
              "#0d0887"
             ],
             [
              0.1111111111111111,
              "#46039f"
             ],
             [
              0.2222222222222222,
              "#7201a8"
             ],
             [
              0.3333333333333333,
              "#9c179e"
             ],
             [
              0.4444444444444444,
              "#bd3786"
             ],
             [
              0.5555555555555556,
              "#d8576b"
             ],
             [
              0.6666666666666666,
              "#ed7953"
             ],
             [
              0.7777777777777778,
              "#fb9f3a"
             ],
             [
              0.8888888888888888,
              "#fdca26"
             ],
             [
              1,
              "#f0f921"
             ]
            ],
            "type": "contour"
           }
          ],
          "contourcarpet": [
           {
            "colorbar": {
             "outlinewidth": 0,
             "ticks": ""
            },
            "type": "contourcarpet"
           }
          ],
          "heatmap": [
           {
            "colorbar": {
             "outlinewidth": 0,
             "ticks": ""
            },
            "colorscale": [
             [
              0,
              "#0d0887"
             ],
             [
              0.1111111111111111,
              "#46039f"
             ],
             [
              0.2222222222222222,
              "#7201a8"
             ],
             [
              0.3333333333333333,
              "#9c179e"
             ],
             [
              0.4444444444444444,
              "#bd3786"
             ],
             [
              0.5555555555555556,
              "#d8576b"
             ],
             [
              0.6666666666666666,
              "#ed7953"
             ],
             [
              0.7777777777777778,
              "#fb9f3a"
             ],
             [
              0.8888888888888888,
              "#fdca26"
             ],
             [
              1,
              "#f0f921"
             ]
            ],
            "type": "heatmap"
           }
          ],
          "heatmapgl": [
           {
            "colorbar": {
             "outlinewidth": 0,
             "ticks": ""
            },
            "colorscale": [
             [
              0,
              "#0d0887"
             ],
             [
              0.1111111111111111,
              "#46039f"
             ],
             [
              0.2222222222222222,
              "#7201a8"
             ],
             [
              0.3333333333333333,
              "#9c179e"
             ],
             [
              0.4444444444444444,
              "#bd3786"
             ],
             [
              0.5555555555555556,
              "#d8576b"
             ],
             [
              0.6666666666666666,
              "#ed7953"
             ],
             [
              0.7777777777777778,
              "#fb9f3a"
             ],
             [
              0.8888888888888888,
              "#fdca26"
             ],
             [
              1,
              "#f0f921"
             ]
            ],
            "type": "heatmapgl"
           }
          ],
          "histogram": [
           {
            "marker": {
             "colorbar": {
              "outlinewidth": 0,
              "ticks": ""
             }
            },
            "type": "histogram"
           }
          ],
          "histogram2d": [
           {
            "colorbar": {
             "outlinewidth": 0,
             "ticks": ""
            },
            "colorscale": [
             [
              0,
              "#0d0887"
             ],
             [
              0.1111111111111111,
              "#46039f"
             ],
             [
              0.2222222222222222,
              "#7201a8"
             ],
             [
              0.3333333333333333,
              "#9c179e"
             ],
             [
              0.4444444444444444,
              "#bd3786"
             ],
             [
              0.5555555555555556,
              "#d8576b"
             ],
             [
              0.6666666666666666,
              "#ed7953"
             ],
             [
              0.7777777777777778,
              "#fb9f3a"
             ],
             [
              0.8888888888888888,
              "#fdca26"
             ],
             [
              1,
              "#f0f921"
             ]
            ],
            "type": "histogram2d"
           }
          ],
          "histogram2dcontour": [
           {
            "colorbar": {
             "outlinewidth": 0,
             "ticks": ""
            },
            "colorscale": [
             [
              0,
              "#0d0887"
             ],
             [
              0.1111111111111111,
              "#46039f"
             ],
             [
              0.2222222222222222,
              "#7201a8"
             ],
             [
              0.3333333333333333,
              "#9c179e"
             ],
             [
              0.4444444444444444,
              "#bd3786"
             ],
             [
              0.5555555555555556,
              "#d8576b"
             ],
             [
              0.6666666666666666,
              "#ed7953"
             ],
             [
              0.7777777777777778,
              "#fb9f3a"
             ],
             [
              0.8888888888888888,
              "#fdca26"
             ],
             [
              1,
              "#f0f921"
             ]
            ],
            "type": "histogram2dcontour"
           }
          ],
          "mesh3d": [
           {
            "colorbar": {
             "outlinewidth": 0,
             "ticks": ""
            },
            "type": "mesh3d"
           }
          ],
          "parcoords": [
           {
            "line": {
             "colorbar": {
              "outlinewidth": 0,
              "ticks": ""
             }
            },
            "type": "parcoords"
           }
          ],
          "pie": [
           {
            "automargin": true,
            "type": "pie"
           }
          ],
          "scatter": [
           {
            "marker": {
             "colorbar": {
              "outlinewidth": 0,
              "ticks": ""
             }
            },
            "type": "scatter"
           }
          ],
          "scatter3d": [
           {
            "line": {
             "colorbar": {
              "outlinewidth": 0,
              "ticks": ""
             }
            },
            "marker": {
             "colorbar": {
              "outlinewidth": 0,
              "ticks": ""
             }
            },
            "type": "scatter3d"
           }
          ],
          "scattercarpet": [
           {
            "marker": {
             "colorbar": {
              "outlinewidth": 0,
              "ticks": ""
             }
            },
            "type": "scattercarpet"
           }
          ],
          "scattergeo": [
           {
            "marker": {
             "colorbar": {
              "outlinewidth": 0,
              "ticks": ""
             }
            },
            "type": "scattergeo"
           }
          ],
          "scattergl": [
           {
            "marker": {
             "colorbar": {
              "outlinewidth": 0,
              "ticks": ""
             }
            },
            "type": "scattergl"
           }
          ],
          "scattermapbox": [
           {
            "marker": {
             "colorbar": {
              "outlinewidth": 0,
              "ticks": ""
             }
            },
            "type": "scattermapbox"
           }
          ],
          "scatterpolar": [
           {
            "marker": {
             "colorbar": {
              "outlinewidth": 0,
              "ticks": ""
             }
            },
            "type": "scatterpolar"
           }
          ],
          "scatterpolargl": [
           {
            "marker": {
             "colorbar": {
              "outlinewidth": 0,
              "ticks": ""
             }
            },
            "type": "scatterpolargl"
           }
          ],
          "scatterternary": [
           {
            "marker": {
             "colorbar": {
              "outlinewidth": 0,
              "ticks": ""
             }
            },
            "type": "scatterternary"
           }
          ],
          "surface": [
           {
            "colorbar": {
             "outlinewidth": 0,
             "ticks": ""
            },
            "colorscale": [
             [
              0,
              "#0d0887"
             ],
             [
              0.1111111111111111,
              "#46039f"
             ],
             [
              0.2222222222222222,
              "#7201a8"
             ],
             [
              0.3333333333333333,
              "#9c179e"
             ],
             [
              0.4444444444444444,
              "#bd3786"
             ],
             [
              0.5555555555555556,
              "#d8576b"
             ],
             [
              0.6666666666666666,
              "#ed7953"
             ],
             [
              0.7777777777777778,
              "#fb9f3a"
             ],
             [
              0.8888888888888888,
              "#fdca26"
             ],
             [
              1,
              "#f0f921"
             ]
            ],
            "type": "surface"
           }
          ],
          "table": [
           {
            "cells": {
             "fill": {
              "color": "#EBF0F8"
             },
             "line": {
              "color": "white"
             }
            },
            "header": {
             "fill": {
              "color": "#C8D4E3"
             },
             "line": {
              "color": "white"
             }
            },
            "type": "table"
           }
          ]
         },
         "layout": {
          "annotationdefaults": {
           "arrowcolor": "#2a3f5f",
           "arrowhead": 0,
           "arrowwidth": 1
          },
          "coloraxis": {
           "colorbar": {
            "outlinewidth": 0,
            "ticks": ""
           }
          },
          "colorscale": {
           "diverging": [
            [
             0,
             "#8e0152"
            ],
            [
             0.1,
             "#c51b7d"
            ],
            [
             0.2,
             "#de77ae"
            ],
            [
             0.3,
             "#f1b6da"
            ],
            [
             0.4,
             "#fde0ef"
            ],
            [
             0.5,
             "#f7f7f7"
            ],
            [
             0.6,
             "#e6f5d0"
            ],
            [
             0.7,
             "#b8e186"
            ],
            [
             0.8,
             "#7fbc41"
            ],
            [
             0.9,
             "#4d9221"
            ],
            [
             1,
             "#276419"
            ]
           ],
           "sequential": [
            [
             0,
             "#0d0887"
            ],
            [
             0.1111111111111111,
             "#46039f"
            ],
            [
             0.2222222222222222,
             "#7201a8"
            ],
            [
             0.3333333333333333,
             "#9c179e"
            ],
            [
             0.4444444444444444,
             "#bd3786"
            ],
            [
             0.5555555555555556,
             "#d8576b"
            ],
            [
             0.6666666666666666,
             "#ed7953"
            ],
            [
             0.7777777777777778,
             "#fb9f3a"
            ],
            [
             0.8888888888888888,
             "#fdca26"
            ],
            [
             1,
             "#f0f921"
            ]
           ],
           "sequentialminus": [
            [
             0,
             "#0d0887"
            ],
            [
             0.1111111111111111,
             "#46039f"
            ],
            [
             0.2222222222222222,
             "#7201a8"
            ],
            [
             0.3333333333333333,
             "#9c179e"
            ],
            [
             0.4444444444444444,
             "#bd3786"
            ],
            [
             0.5555555555555556,
             "#d8576b"
            ],
            [
             0.6666666666666666,
             "#ed7953"
            ],
            [
             0.7777777777777778,
             "#fb9f3a"
            ],
            [
             0.8888888888888888,
             "#fdca26"
            ],
            [
             1,
             "#f0f921"
            ]
           ]
          },
          "colorway": [
           "#636efa",
           "#EF553B",
           "#00cc96",
           "#ab63fa",
           "#FFA15A",
           "#19d3f3",
           "#FF6692",
           "#B6E880",
           "#FF97FF",
           "#FECB52"
          ],
          "font": {
           "color": "#2a3f5f"
          },
          "geo": {
           "bgcolor": "white",
           "lakecolor": "white",
           "landcolor": "#E5ECF6",
           "showlakes": true,
           "showland": true,
           "subunitcolor": "white"
          },
          "hoverlabel": {
           "align": "left"
          },
          "hovermode": "closest",
          "mapbox": {
           "style": "light"
          },
          "paper_bgcolor": "white",
          "plot_bgcolor": "#E5ECF6",
          "polar": {
           "angularaxis": {
            "gridcolor": "white",
            "linecolor": "white",
            "ticks": ""
           },
           "bgcolor": "#E5ECF6",
           "radialaxis": {
            "gridcolor": "white",
            "linecolor": "white",
            "ticks": ""
           }
          },
          "scene": {
           "xaxis": {
            "backgroundcolor": "#E5ECF6",
            "gridcolor": "white",
            "gridwidth": 2,
            "linecolor": "white",
            "showbackground": true,
            "ticks": "",
            "zerolinecolor": "white"
           },
           "yaxis": {
            "backgroundcolor": "#E5ECF6",
            "gridcolor": "white",
            "gridwidth": 2,
            "linecolor": "white",
            "showbackground": true,
            "ticks": "",
            "zerolinecolor": "white"
           },
           "zaxis": {
            "backgroundcolor": "#E5ECF6",
            "gridcolor": "white",
            "gridwidth": 2,
            "linecolor": "white",
            "showbackground": true,
            "ticks": "",
            "zerolinecolor": "white"
           }
          },
          "shapedefaults": {
           "line": {
            "color": "#2a3f5f"
           }
          },
          "ternary": {
           "aaxis": {
            "gridcolor": "white",
            "linecolor": "white",
            "ticks": ""
           },
           "baxis": {
            "gridcolor": "white",
            "linecolor": "white",
            "ticks": ""
           },
           "bgcolor": "#E5ECF6",
           "caxis": {
            "gridcolor": "white",
            "linecolor": "white",
            "ticks": ""
           }
          },
          "title": {
           "x": 0.05
          },
          "xaxis": {
           "automargin": true,
           "gridcolor": "white",
           "linecolor": "white",
           "ticks": "",
           "title": {
            "standoff": 15
           },
           "zerolinecolor": "white",
           "zerolinewidth": 2
          },
          "yaxis": {
           "automargin": true,
           "gridcolor": "white",
           "linecolor": "white",
           "ticks": "",
           "title": {
            "standoff": 15
           },
           "zerolinecolor": "white",
           "zerolinewidth": 2
          }
         }
        },
        "title": {
         "text": "Numbers of top 100 videogames publishers"
        },
        "xaxis": {
         "title": {
          "text": "Publishers"
         }
        },
        "yaxis": {
         "title": {
          "text": "Count"
         }
        }
       }
      },
      "text/html": [
       "<div>                            <div id=\"a1c64b5c-4dc3-4694-a930-3584dffb4390\" class=\"plotly-graph-div\" style=\"height:525px; width:100%;\"></div>            <script type=\"text/javascript\">                require([\"plotly\"], function(Plotly) {                    window.PLOTLYENV=window.PLOTLYENV || {};                                    if (document.getElementById(\"a1c64b5c-4dc3-4694-a930-3584dffb4390\")) {                    Plotly.newPlot(                        \"a1c64b5c-4dc3-4694-a930-3584dffb4390\",                        [{\"marker\": {\"color\": \"crimson\", \"line\": {\"color\": \"black\", \"width\": 2}}, \"opacity\": 0.75, \"type\": \"histogram\", \"x\": [\"Nintendo\", \"Nintendo\", \"Nintendo\", \"Nintendo\", \"Nintendo\", \"Nintendo\", \"Nintendo\", \"Nintendo\", \"Nintendo\", \"Nintendo\", \"Nintendo\", \"Nintendo\", \"Nintendo\", \"Nintendo\", \"Nintendo\", \"Microsoft Game Studios\", \"Take-Two Interactive\", \"Take-Two Interactive\", \"Nintendo\", \"Nintendo\", \"Nintendo\", \"Nintendo\", \"Nintendo\", \"Take-Two Interactive\", \"Take-Two Interactive\", \"Nintendo\", \"Nintendo\", \"Nintendo\", \"Sony Computer Entertainment\", \"Activision\", \"Nintendo\", \"Activision\", \"Nintendo\", \"Activision\", \"Activision\", \"Activision\", \"Activision\", \"Activision\", \"Take-Two Interactive\", \"Nintendo\", \"Activision\", \"Nintendo\", \"Nintendo\", \"Microsoft Game Studios\", \"Take-Two Interactive\", \"Nintendo\", \"Nintendo\", \"Sony Computer Entertainment\", \"Nintendo\", \"Nintendo\", \"Nintendo\", \"Take-Two Interactive\", \"Sony Computer Entertainment\", \"Nintendo\", \"Sony Computer Entertainment\", \"Activision\", \"Take-Two Interactive\", \"Nintendo\", \"Nintendo\", \"Nintendo\", \"Ubisoft\", \"Activision\", \"Microsoft Game Studios\", \"Nintendo\", \"Nintendo\", \"Microsoft Game Studios\", \"Sony Computer Entertainment\", \"Activision\", \"Ubisoft\", \"Sony Computer Entertainment\", \"Activision\", \"Nintendo\", \"Microsoft Game Studios\", \"Nintendo\", \"Nintendo\", \"Bethesda Softworks\", \"Nintendo\", \"Electronic Arts\", \"Nintendo\", \"Microsoft Game Studios\", \"Nintendo\", \"Nintendo\", \"Electronic Arts\", \"Electronic Arts\", \"Nintendo\", \"Sega\", \"Sony Computer Entertainment\", \"SquareSoft\", \"Nintendo\", \"Atari\", \"Take-Two Interactive\", \"Nintendo\", \"Electronic Arts\", \"Activision\", \"Nintendo\", \"Sony Computer Entertainment\", \"Nintendo\", \"Nintendo\", \"Activision\", \"Electronic Arts\"]}],                        {\"bargap\": 0.2, \"bargroupgap\": 0.1, \"paper_bgcolor\": \"rgb(243, 243, 243)\", \"plot_bgcolor\": \"rgb(243, 243, 243)\", \"template\": {\"data\": {\"bar\": [{\"error_x\": {\"color\": \"#2a3f5f\"}, \"error_y\": {\"color\": \"#2a3f5f\"}, \"marker\": {\"line\": {\"color\": \"#E5ECF6\", \"width\": 0.5}}, \"type\": \"bar\"}], \"barpolar\": [{\"marker\": {\"line\": {\"color\": \"#E5ECF6\", \"width\": 0.5}}, \"type\": \"barpolar\"}], \"carpet\": [{\"aaxis\": {\"endlinecolor\": \"#2a3f5f\", \"gridcolor\": \"white\", \"linecolor\": \"white\", \"minorgridcolor\": \"white\", \"startlinecolor\": \"#2a3f5f\"}, \"baxis\": {\"endlinecolor\": \"#2a3f5f\", \"gridcolor\": \"white\", \"linecolor\": \"white\", \"minorgridcolor\": \"white\", \"startlinecolor\": \"#2a3f5f\"}, \"type\": \"carpet\"}], \"choropleth\": [{\"colorbar\": {\"outlinewidth\": 0, \"ticks\": \"\"}, \"type\": \"choropleth\"}], \"contour\": [{\"colorbar\": {\"outlinewidth\": 0, \"ticks\": \"\"}, \"colorscale\": [[0.0, \"#0d0887\"], [0.1111111111111111, \"#46039f\"], [0.2222222222222222, \"#7201a8\"], [0.3333333333333333, \"#9c179e\"], [0.4444444444444444, \"#bd3786\"], [0.5555555555555556, \"#d8576b\"], [0.6666666666666666, \"#ed7953\"], [0.7777777777777778, \"#fb9f3a\"], [0.8888888888888888, \"#fdca26\"], [1.0, \"#f0f921\"]], \"type\": \"contour\"}], \"contourcarpet\": [{\"colorbar\": {\"outlinewidth\": 0, \"ticks\": \"\"}, \"type\": \"contourcarpet\"}], \"heatmap\": [{\"colorbar\": {\"outlinewidth\": 0, \"ticks\": \"\"}, \"colorscale\": [[0.0, \"#0d0887\"], [0.1111111111111111, \"#46039f\"], [0.2222222222222222, \"#7201a8\"], [0.3333333333333333, \"#9c179e\"], [0.4444444444444444, \"#bd3786\"], [0.5555555555555556, \"#d8576b\"], [0.6666666666666666, \"#ed7953\"], [0.7777777777777778, \"#fb9f3a\"], [0.8888888888888888, \"#fdca26\"], [1.0, \"#f0f921\"]], \"type\": \"heatmap\"}], \"heatmapgl\": [{\"colorbar\": {\"outlinewidth\": 0, \"ticks\": \"\"}, \"colorscale\": [[0.0, \"#0d0887\"], [0.1111111111111111, \"#46039f\"], [0.2222222222222222, \"#7201a8\"], [0.3333333333333333, \"#9c179e\"], [0.4444444444444444, \"#bd3786\"], [0.5555555555555556, \"#d8576b\"], [0.6666666666666666, \"#ed7953\"], [0.7777777777777778, \"#fb9f3a\"], [0.8888888888888888, \"#fdca26\"], [1.0, \"#f0f921\"]], \"type\": \"heatmapgl\"}], \"histogram\": [{\"marker\": {\"colorbar\": {\"outlinewidth\": 0, \"ticks\": \"\"}}, \"type\": \"histogram\"}], \"histogram2d\": [{\"colorbar\": {\"outlinewidth\": 0, \"ticks\": \"\"}, \"colorscale\": [[0.0, \"#0d0887\"], [0.1111111111111111, \"#46039f\"], [0.2222222222222222, \"#7201a8\"], [0.3333333333333333, \"#9c179e\"], [0.4444444444444444, \"#bd3786\"], [0.5555555555555556, \"#d8576b\"], [0.6666666666666666, \"#ed7953\"], [0.7777777777777778, \"#fb9f3a\"], [0.8888888888888888, \"#fdca26\"], [1.0, \"#f0f921\"]], \"type\": \"histogram2d\"}], \"histogram2dcontour\": [{\"colorbar\": {\"outlinewidth\": 0, \"ticks\": \"\"}, \"colorscale\": [[0.0, \"#0d0887\"], [0.1111111111111111, \"#46039f\"], [0.2222222222222222, \"#7201a8\"], [0.3333333333333333, \"#9c179e\"], [0.4444444444444444, \"#bd3786\"], [0.5555555555555556, \"#d8576b\"], [0.6666666666666666, \"#ed7953\"], [0.7777777777777778, \"#fb9f3a\"], [0.8888888888888888, \"#fdca26\"], [1.0, \"#f0f921\"]], \"type\": \"histogram2dcontour\"}], \"mesh3d\": [{\"colorbar\": {\"outlinewidth\": 0, \"ticks\": \"\"}, \"type\": \"mesh3d\"}], \"parcoords\": [{\"line\": {\"colorbar\": {\"outlinewidth\": 0, \"ticks\": \"\"}}, \"type\": \"parcoords\"}], \"pie\": [{\"automargin\": true, \"type\": \"pie\"}], \"scatter\": [{\"marker\": {\"colorbar\": {\"outlinewidth\": 0, \"ticks\": \"\"}}, \"type\": \"scatter\"}], \"scatter3d\": [{\"line\": {\"colorbar\": {\"outlinewidth\": 0, \"ticks\": \"\"}}, \"marker\": {\"colorbar\": {\"outlinewidth\": 0, \"ticks\": \"\"}}, \"type\": \"scatter3d\"}], \"scattercarpet\": [{\"marker\": {\"colorbar\": {\"outlinewidth\": 0, \"ticks\": \"\"}}, \"type\": \"scattercarpet\"}], \"scattergeo\": [{\"marker\": {\"colorbar\": {\"outlinewidth\": 0, \"ticks\": \"\"}}, \"type\": \"scattergeo\"}], \"scattergl\": [{\"marker\": {\"colorbar\": {\"outlinewidth\": 0, \"ticks\": \"\"}}, \"type\": \"scattergl\"}], \"scattermapbox\": [{\"marker\": {\"colorbar\": {\"outlinewidth\": 0, \"ticks\": \"\"}}, \"type\": \"scattermapbox\"}], \"scatterpolar\": [{\"marker\": {\"colorbar\": {\"outlinewidth\": 0, \"ticks\": \"\"}}, \"type\": \"scatterpolar\"}], \"scatterpolargl\": [{\"marker\": {\"colorbar\": {\"outlinewidth\": 0, \"ticks\": \"\"}}, \"type\": \"scatterpolargl\"}], \"scatterternary\": [{\"marker\": {\"colorbar\": {\"outlinewidth\": 0, \"ticks\": \"\"}}, \"type\": \"scatterternary\"}], \"surface\": [{\"colorbar\": {\"outlinewidth\": 0, \"ticks\": \"\"}, \"colorscale\": [[0.0, \"#0d0887\"], [0.1111111111111111, \"#46039f\"], [0.2222222222222222, \"#7201a8\"], [0.3333333333333333, \"#9c179e\"], [0.4444444444444444, \"#bd3786\"], [0.5555555555555556, \"#d8576b\"], [0.6666666666666666, \"#ed7953\"], [0.7777777777777778, \"#fb9f3a\"], [0.8888888888888888, \"#fdca26\"], [1.0, \"#f0f921\"]], \"type\": \"surface\"}], \"table\": [{\"cells\": {\"fill\": {\"color\": \"#EBF0F8\"}, \"line\": {\"color\": \"white\"}}, \"header\": {\"fill\": {\"color\": \"#C8D4E3\"}, \"line\": {\"color\": \"white\"}}, \"type\": \"table\"}]}, \"layout\": {\"annotationdefaults\": {\"arrowcolor\": \"#2a3f5f\", \"arrowhead\": 0, \"arrowwidth\": 1}, \"coloraxis\": {\"colorbar\": {\"outlinewidth\": 0, \"ticks\": \"\"}}, \"colorscale\": {\"diverging\": [[0, \"#8e0152\"], [0.1, \"#c51b7d\"], [0.2, \"#de77ae\"], [0.3, \"#f1b6da\"], [0.4, \"#fde0ef\"], [0.5, \"#f7f7f7\"], [0.6, \"#e6f5d0\"], [0.7, \"#b8e186\"], [0.8, \"#7fbc41\"], [0.9, \"#4d9221\"], [1, \"#276419\"]], \"sequential\": [[0.0, \"#0d0887\"], [0.1111111111111111, \"#46039f\"], [0.2222222222222222, \"#7201a8\"], [0.3333333333333333, \"#9c179e\"], [0.4444444444444444, \"#bd3786\"], [0.5555555555555556, \"#d8576b\"], [0.6666666666666666, \"#ed7953\"], [0.7777777777777778, \"#fb9f3a\"], [0.8888888888888888, \"#fdca26\"], [1.0, \"#f0f921\"]], \"sequentialminus\": [[0.0, \"#0d0887\"], [0.1111111111111111, \"#46039f\"], [0.2222222222222222, \"#7201a8\"], [0.3333333333333333, \"#9c179e\"], [0.4444444444444444, \"#bd3786\"], [0.5555555555555556, \"#d8576b\"], [0.6666666666666666, \"#ed7953\"], [0.7777777777777778, \"#fb9f3a\"], [0.8888888888888888, \"#fdca26\"], [1.0, \"#f0f921\"]]}, \"colorway\": [\"#636efa\", \"#EF553B\", \"#00cc96\", \"#ab63fa\", \"#FFA15A\", \"#19d3f3\", \"#FF6692\", \"#B6E880\", \"#FF97FF\", \"#FECB52\"], \"font\": {\"color\": \"#2a3f5f\"}, \"geo\": {\"bgcolor\": \"white\", \"lakecolor\": \"white\", \"landcolor\": \"#E5ECF6\", \"showlakes\": true, \"showland\": true, \"subunitcolor\": \"white\"}, \"hoverlabel\": {\"align\": \"left\"}, \"hovermode\": \"closest\", \"mapbox\": {\"style\": \"light\"}, \"paper_bgcolor\": \"white\", \"plot_bgcolor\": \"#E5ECF6\", \"polar\": {\"angularaxis\": {\"gridcolor\": \"white\", \"linecolor\": \"white\", \"ticks\": \"\"}, \"bgcolor\": \"#E5ECF6\", \"radialaxis\": {\"gridcolor\": \"white\", \"linecolor\": \"white\", \"ticks\": \"\"}}, \"scene\": {\"xaxis\": {\"backgroundcolor\": \"#E5ECF6\", \"gridcolor\": \"white\", \"gridwidth\": 2, \"linecolor\": \"white\", \"showbackground\": true, \"ticks\": \"\", \"zerolinecolor\": \"white\"}, \"yaxis\": {\"backgroundcolor\": \"#E5ECF6\", \"gridcolor\": \"white\", \"gridwidth\": 2, \"linecolor\": \"white\", \"showbackground\": true, \"ticks\": \"\", \"zerolinecolor\": \"white\"}, \"zaxis\": {\"backgroundcolor\": \"#E5ECF6\", \"gridcolor\": \"white\", \"gridwidth\": 2, \"linecolor\": \"white\", \"showbackground\": true, \"ticks\": \"\", \"zerolinecolor\": \"white\"}}, \"shapedefaults\": {\"line\": {\"color\": \"#2a3f5f\"}}, \"ternary\": {\"aaxis\": {\"gridcolor\": \"white\", \"linecolor\": \"white\", \"ticks\": \"\"}, \"baxis\": {\"gridcolor\": \"white\", \"linecolor\": \"white\", \"ticks\": \"\"}, \"bgcolor\": \"#E5ECF6\", \"caxis\": {\"gridcolor\": \"white\", \"linecolor\": \"white\", \"ticks\": \"\"}}, \"title\": {\"x\": 0.05}, \"xaxis\": {\"automargin\": true, \"gridcolor\": \"white\", \"linecolor\": \"white\", \"ticks\": \"\", \"title\": {\"standoff\": 15}, \"zerolinecolor\": \"white\", \"zerolinewidth\": 2}, \"yaxis\": {\"automargin\": true, \"gridcolor\": \"white\", \"linecolor\": \"white\", \"ticks\": \"\", \"title\": {\"standoff\": 15}, \"zerolinecolor\": \"white\", \"zerolinewidth\": 2}}}, \"title\": {\"text\": \"Numbers of top 100 videogames publishers\"}, \"xaxis\": {\"title\": {\"text\": \"Publishers\"}}, \"yaxis\": {\"title\": {\"text\": \"Count\"}}},                        {\"responsive\": true}                    ).then(function(){\n",
       "                            \n",
       "var gd = document.getElementById('a1c64b5c-4dc3-4694-a930-3584dffb4390');\n",
       "var x = new MutationObserver(function (mutations, observer) {{\n",
       "        var display = window.getComputedStyle(gd).display;\n",
       "        if (!display || display === 'none') {{\n",
       "            console.log([gd, 'removed!']);\n",
       "            Plotly.purge(gd);\n",
       "            observer.disconnect();\n",
       "        }}\n",
       "}});\n",
       "\n",
       "// Listen for the removal of the full notebook cells\n",
       "var notebookContainer = gd.closest('#notebook-container');\n",
       "if (notebookContainer) {{\n",
       "    x.observe(notebookContainer, {childList: true});\n",
       "}}\n",
       "\n",
       "// Listen for the clearing of the current output cell\n",
       "var outputEl = gd.closest('.output');\n",
       "if (outputEl) {{\n",
       "    x.observe(outputEl, {childList: true});\n",
       "}}\n",
       "\n",
       "                        })                };                });            </script>        </div>"
      ]
     },
     "metadata": {},
     "output_type": "display_data"
    }
   ],
   "source": [
    "df = dataframe.head(100)\n",
    "trace = go.Histogram(x=df.Publisher,\n",
    "                     marker=dict(color=\"crimson\", line=dict(color='black', width=2)),opacity=0.75)\n",
    "layout = go.Layout(\n",
    "    title='Numbers of top 100 videogames publishers',\n",
    "    xaxis=dict(title='Publishers'),\n",
    "    yaxis=dict(title=\"Count\"),\n",
    "    bargap=0.2,\n",
    "    bargroupgap=0.1,\n",
    "    paper_bgcolor=\"rgb(243, 243, 243)\",\n",
    "    plot_bgcolor=\"rgb(243, 243, 243)\")\n",
    "iplot(go.Figure(data=[trace], layout=layout))"
   ]
  },
  {
   "cell_type": "markdown",
   "metadata": {
    "slideshow": {
     "slide_type": "slide"
    }
   },
   "source": [
    "### Rank the top 100 games in a scatter plot"
   ]
  },
  {
   "cell_type": "code",
   "execution_count": 56,
   "metadata": {
    "slideshow": {
     "slide_type": "subslide"
    }
   },
   "outputs": [
    {
     "data": {
      "application/vnd.plotly.v1+json": {
       "config": {
        "linkText": "Export to plot.ly",
        "plotlyServerURL": "https://plot.ly",
        "showLink": false
       },
       "data": [
        {
         "marker": {
          "color": "rgba(28, 149, 249, 0.8)",
          "size": 8
         },
         "mode": "markers",
         "name": "North America",
         "text": [
          "Wii Sports",
          "Super Mario Bros.",
          "Mario Kart Wii",
          "Wii Sports Resort",
          "Pokemon Red/Pokemon Blue",
          "Tetris",
          "New Super Mario Bros.",
          "Wii Play",
          "New Super Mario Bros. Wii",
          "Duck Hunt",
          "Nintendogs",
          "Mario Kart DS",
          "Pokemon Gold/Pokemon Silver",
          "Wii Fit",
          "Wii Fit Plus",
          "Kinect Adventures!",
          "Grand Theft Auto V",
          "Grand Theft Auto: San Andreas",
          "Super Mario World",
          "Brain Age: Train Your Brain in Minutes a Day",
          "Pokemon Diamond/Pokemon Pearl",
          "Super Mario Land",
          "Super Mario Bros. 3",
          "Grand Theft Auto V",
          "Grand Theft Auto: Vice City",
          "Pokemon Ruby/Pokemon Sapphire",
          "Pokemon Black/Pokemon White",
          "Brain Age 2: More Training in Minutes a Day",
          "Gran Turismo 3: A-Spec",
          "Call of Duty: Modern Warfare 3",
          "Pokémon Yellow: Special Pikachu Edition",
          "Call of Duty: Black Ops",
          "Pokemon X/Pokemon Y",
          "Call of Duty: Black Ops 3",
          "Call of Duty: Black Ops II",
          "Call of Duty: Black Ops II",
          "Call of Duty: Modern Warfare 2",
          "Call of Duty: Modern Warfare 3",
          "Grand Theft Auto III",
          "Super Smash Bros. Brawl",
          "Call of Duty: Black Ops",
          "Animal Crossing: Wild World",
          "Mario Kart 7",
          "Halo 3",
          "Grand Theft Auto V",
          "Pokemon HeartGold/Pokemon SoulSilver",
          "Super Mario 64",
          "Gran Turismo 4",
          "Super Mario Galaxy",
          "Pokemon Omega Ruby/Pokemon Alpha Sapphire",
          "Super Mario Land 2: 6 Golden Coins",
          "Grand Theft Auto IV",
          "Gran Turismo",
          "Super Mario 3D Land",
          "Gran Turismo 5",
          "Call of Duty: Modern Warfare 2",
          "Grand Theft Auto IV",
          "Super Mario All-Stars",
          "Pokemon FireRed/Pokemon LeafGreen",
          "Super Mario 64",
          "Just Dance 3",
          "Call of Duty: Ghosts",
          "Halo: Reach",
          "Mario Kart 64",
          "New Super Mario Bros. 2",
          "Halo 4",
          "Final Fantasy VII",
          "Call of Duty: Ghosts",
          "Just Dance 2",
          "Gran Turismo 2",
          "Call of Duty 4: Modern Warfare",
          "Donkey Kong Country",
          "Minecraft",
          "Animal Crossing: New Leaf",
          "Mario Party DS",
          "The Elder Scrolls V: Skyrim",
          "Super Mario Kart",
          "FIFA 16",
          "Wii Party",
          "Halo 2",
          "Mario Party 8",
          "Pokemon Black 2/Pokemon White 2",
          "FIFA Soccer 13",
          "The Sims 3",
          "GoldenEye 007",
          "Mario & Sonic at the Olympic Games",
          "Final Fantasy X",
          "Final Fantasy VIII",
          "Pokémon Platinum Version",
          "Pac-Man",
          "Grand Theft Auto: Liberty City Stories",
          "Super Mario Galaxy 2",
          "Star Wars Battlefront (2015)",
          "Call of Duty: Advanced Warfare",
          "The Legend of Zelda: Ocarina of Time",
          "Crash Bandicoot 2: Cortex Strikes Back",
          "Super Mario Bros. 2",
          "Super Smash Bros. for Wii U and 3DS",
          "Call of Duty: World at War",
          "Battlefield 3"
         ],
         "type": "scatter",
         "x": [
          1,
          2,
          3,
          4,
          5,
          6,
          7,
          8,
          9,
          10,
          11,
          12,
          13,
          14,
          15,
          16,
          17,
          18,
          19,
          20,
          21,
          22,
          23,
          24,
          25,
          26,
          27,
          28,
          29,
          30,
          31,
          32,
          33,
          34,
          35,
          36,
          37,
          38,
          39,
          40,
          41,
          42,
          43,
          44,
          45,
          46,
          47,
          48,
          49,
          50,
          51,
          52,
          53,
          54,
          55,
          56,
          57,
          58,
          59,
          60,
          61,
          62,
          63,
          64,
          65,
          66,
          67,
          68,
          69,
          70,
          71,
          72,
          73,
          74,
          75,
          76,
          77,
          78,
          79,
          80,
          81,
          82,
          83,
          84,
          85,
          86,
          87,
          88,
          89,
          90,
          91,
          92,
          93,
          94,
          95,
          96,
          97,
          98,
          99,
          100
         ],
         "y": [
          41.49,
          29.08,
          15.85,
          15.75,
          11.27,
          23.2,
          11.38,
          14.03,
          14.59,
          26.93,
          9.07,
          9.81,
          9,
          8.94,
          9.09,
          14.97,
          7.01,
          9.43,
          12.78,
          4.75,
          6.42,
          10.83,
          9.54,
          9.63,
          8.41,
          6.06,
          5.57,
          3.44,
          6.85,
          9.03,
          5.89,
          9.67,
          5.17,
          5.77,
          4.99,
          8.25,
          8.52,
          5.54,
          6.99,
          6.75,
          5.98,
          2.55,
          4.74,
          7.97,
          3.8,
          4.4,
          6.91,
          3.01,
          6.16,
          4.23,
          6.16,
          6.76,
          4.02,
          4.89,
          2.96,
          4.99,
          4.76,
          5.99,
          4.34,
          5.08,
          6.05,
          6.72,
          7.03,
          5.55,
          3.66,
          6.63,
          3.01,
          4.09,
          5.84,
          3.88,
          5.91,
          4.36,
          5.58,
          2.01,
          4.46,
          5.03,
          3.54,
          1.11,
          1.79,
          6.82,
          3.81,
          2.91,
          1.06,
          0.98,
          5.8,
          2.58,
          2.91,
          2.28,
          2.82,
          7.28,
          2.9,
          3.66,
          2.93,
          2.8,
          4.1,
          3.78,
          5.39,
          3.24,
          4.79,
          4.46
         ]
        },
        {
         "marker": {
          "color": "rgba(249, 94, 28, 0.8)",
          "size": 8
         },
         "mode": "markers",
         "name": "Europe",
         "text": [
          "Wii Sports",
          "Super Mario Bros.",
          "Mario Kart Wii",
          "Wii Sports Resort",
          "Pokemon Red/Pokemon Blue",
          "Tetris",
          "New Super Mario Bros.",
          "Wii Play",
          "New Super Mario Bros. Wii",
          "Duck Hunt",
          "Nintendogs",
          "Mario Kart DS",
          "Pokemon Gold/Pokemon Silver",
          "Wii Fit",
          "Wii Fit Plus",
          "Kinect Adventures!",
          "Grand Theft Auto V",
          "Grand Theft Auto: San Andreas",
          "Super Mario World",
          "Brain Age: Train Your Brain in Minutes a Day",
          "Pokemon Diamond/Pokemon Pearl",
          "Super Mario Land",
          "Super Mario Bros. 3",
          "Grand Theft Auto V",
          "Grand Theft Auto: Vice City",
          "Pokemon Ruby/Pokemon Sapphire",
          "Pokemon Black/Pokemon White",
          "Brain Age 2: More Training in Minutes a Day",
          "Gran Turismo 3: A-Spec",
          "Call of Duty: Modern Warfare 3",
          "Pokémon Yellow: Special Pikachu Edition",
          "Call of Duty: Black Ops",
          "Pokemon X/Pokemon Y",
          "Call of Duty: Black Ops 3",
          "Call of Duty: Black Ops II",
          "Call of Duty: Black Ops II",
          "Call of Duty: Modern Warfare 2",
          "Call of Duty: Modern Warfare 3",
          "Grand Theft Auto III",
          "Super Smash Bros. Brawl",
          "Call of Duty: Black Ops",
          "Animal Crossing: Wild World",
          "Mario Kart 7",
          "Halo 3",
          "Grand Theft Auto V",
          "Pokemon HeartGold/Pokemon SoulSilver",
          "Super Mario 64",
          "Gran Turismo 4",
          "Super Mario Galaxy",
          "Pokemon Omega Ruby/Pokemon Alpha Sapphire",
          "Super Mario Land 2: 6 Golden Coins",
          "Grand Theft Auto IV",
          "Gran Turismo",
          "Super Mario 3D Land",
          "Gran Turismo 5",
          "Call of Duty: Modern Warfare 2",
          "Grand Theft Auto IV",
          "Super Mario All-Stars",
          "Pokemon FireRed/Pokemon LeafGreen",
          "Super Mario 64",
          "Just Dance 3",
          "Call of Duty: Ghosts",
          "Halo: Reach",
          "Mario Kart 64",
          "New Super Mario Bros. 2",
          "Halo 4",
          "Final Fantasy VII",
          "Call of Duty: Ghosts",
          "Just Dance 2",
          "Gran Turismo 2",
          "Call of Duty 4: Modern Warfare",
          "Donkey Kong Country",
          "Minecraft",
          "Animal Crossing: New Leaf",
          "Mario Party DS",
          "The Elder Scrolls V: Skyrim",
          "Super Mario Kart",
          "FIFA 16",
          "Wii Party",
          "Halo 2",
          "Mario Party 8",
          "Pokemon Black 2/Pokemon White 2",
          "FIFA Soccer 13",
          "The Sims 3",
          "GoldenEye 007",
          "Mario & Sonic at the Olympic Games",
          "Final Fantasy X",
          "Final Fantasy VIII",
          "Pokémon Platinum Version",
          "Pac-Man",
          "Grand Theft Auto: Liberty City Stories",
          "Super Mario Galaxy 2",
          "Star Wars Battlefront (2015)",
          "Call of Duty: Advanced Warfare",
          "The Legend of Zelda: Ocarina of Time",
          "Crash Bandicoot 2: Cortex Strikes Back",
          "Super Mario Bros. 2",
          "Super Smash Bros. for Wii U and 3DS",
          "Call of Duty: World at War",
          "Battlefield 3"
         ],
         "type": "scatter",
         "x": [
          1,
          2,
          3,
          4,
          5,
          6,
          7,
          8,
          9,
          10,
          11,
          12,
          13,
          14,
          15,
          16,
          17,
          18,
          19,
          20,
          21,
          22,
          23,
          24,
          25,
          26,
          27,
          28,
          29,
          30,
          31,
          32,
          33,
          34,
          35,
          36,
          37,
          38,
          39,
          40,
          41,
          42,
          43,
          44,
          45,
          46,
          47,
          48,
          49,
          50,
          51,
          52,
          53,
          54,
          55,
          56,
          57,
          58,
          59,
          60,
          61,
          62,
          63,
          64,
          65,
          66,
          67,
          68,
          69,
          70,
          71,
          72,
          73,
          74,
          75,
          76,
          77,
          78,
          79,
          80,
          81,
          82,
          83,
          84,
          85,
          86,
          87,
          88,
          89,
          90,
          91,
          92,
          93,
          94,
          95,
          96,
          97,
          98,
          99,
          100
         ],
         "y": [
          29.02,
          3.58,
          12.88,
          11.01,
          8.89,
          2.26,
          9.23,
          9.2,
          7.06,
          0.63,
          11,
          7.57,
          6.18,
          8.03,
          8.59,
          4.94,
          9.27,
          0.4,
          3.75,
          9.26,
          4.52,
          2.71,
          3.44,
          5.31,
          5.49,
          3.9,
          3.28,
          5.36,
          5.09,
          4.28,
          5.04,
          3.73,
          4.05,
          5.81,
          5.88,
          4.3,
          3.63,
          5.82,
          4.51,
          2.61,
          4.44,
          3.52,
          3.91,
          2.83,
          5.81,
          2.77,
          2.85,
          0.01,
          3.4,
          3.37,
          2.04,
          3.1,
          3.87,
          2.99,
          4.88,
          3.69,
          3.76,
          2.15,
          2.65,
          3.11,
          3.15,
          2.63,
          1.98,
          1.94,
          3.07,
          2.36,
          2.47,
          3.73,
          2.89,
          3.42,
          2.38,
          1.71,
          2.83,
          2.32,
          1.88,
          2.86,
          1.24,
          6.06,
          3.53,
          1.53,
          2.3,
          1.86,
          5.05,
          6.42,
          2.01,
          3.9,
          2.07,
          1.72,
          1.78,
          0.45,
          2.83,
          2.42,
          3.29,
          3.3,
          1.89,
          2.17,
          1.18,
          1.35,
          1.9,
          2.13
         ]
        },
        {
         "marker": {
          "color": "rgba(150, 26, 80, 0.8)",
          "size": 8
         },
         "mode": "markers",
         "name": "Japan",
         "text": [
          "Wii Sports",
          "Super Mario Bros.",
          "Mario Kart Wii",
          "Wii Sports Resort",
          "Pokemon Red/Pokemon Blue",
          "Tetris",
          "New Super Mario Bros.",
          "Wii Play",
          "New Super Mario Bros. Wii",
          "Duck Hunt",
          "Nintendogs",
          "Mario Kart DS",
          "Pokemon Gold/Pokemon Silver",
          "Wii Fit",
          "Wii Fit Plus",
          "Kinect Adventures!",
          "Grand Theft Auto V",
          "Grand Theft Auto: San Andreas",
          "Super Mario World",
          "Brain Age: Train Your Brain in Minutes a Day",
          "Pokemon Diamond/Pokemon Pearl",
          "Super Mario Land",
          "Super Mario Bros. 3",
          "Grand Theft Auto V",
          "Grand Theft Auto: Vice City",
          "Pokemon Ruby/Pokemon Sapphire",
          "Pokemon Black/Pokemon White",
          "Brain Age 2: More Training in Minutes a Day",
          "Gran Turismo 3: A-Spec",
          "Call of Duty: Modern Warfare 3",
          "Pokémon Yellow: Special Pikachu Edition",
          "Call of Duty: Black Ops",
          "Pokemon X/Pokemon Y",
          "Call of Duty: Black Ops 3",
          "Call of Duty: Black Ops II",
          "Call of Duty: Black Ops II",
          "Call of Duty: Modern Warfare 2",
          "Call of Duty: Modern Warfare 3",
          "Grand Theft Auto III",
          "Super Smash Bros. Brawl",
          "Call of Duty: Black Ops",
          "Animal Crossing: Wild World",
          "Mario Kart 7",
          "Halo 3",
          "Grand Theft Auto V",
          "Pokemon HeartGold/Pokemon SoulSilver",
          "Super Mario 64",
          "Gran Turismo 4",
          "Super Mario Galaxy",
          "Pokemon Omega Ruby/Pokemon Alpha Sapphire",
          "Super Mario Land 2: 6 Golden Coins",
          "Grand Theft Auto IV",
          "Gran Turismo",
          "Super Mario 3D Land",
          "Gran Turismo 5",
          "Call of Duty: Modern Warfare 2",
          "Grand Theft Auto IV",
          "Super Mario All-Stars",
          "Pokemon FireRed/Pokemon LeafGreen",
          "Super Mario 64",
          "Just Dance 3",
          "Call of Duty: Ghosts",
          "Halo: Reach",
          "Mario Kart 64",
          "New Super Mario Bros. 2",
          "Halo 4",
          "Final Fantasy VII",
          "Call of Duty: Ghosts",
          "Just Dance 2",
          "Gran Turismo 2",
          "Call of Duty 4: Modern Warfare",
          "Donkey Kong Country",
          "Minecraft",
          "Animal Crossing: New Leaf",
          "Mario Party DS",
          "The Elder Scrolls V: Skyrim",
          "Super Mario Kart",
          "FIFA 16",
          "Wii Party",
          "Halo 2",
          "Mario Party 8",
          "Pokemon Black 2/Pokemon White 2",
          "FIFA Soccer 13",
          "The Sims 3",
          "GoldenEye 007",
          "Mario & Sonic at the Olympic Games",
          "Final Fantasy X",
          "Final Fantasy VIII",
          "Pokémon Platinum Version",
          "Pac-Man",
          "Grand Theft Auto: Liberty City Stories",
          "Super Mario Galaxy 2",
          "Star Wars Battlefront (2015)",
          "Call of Duty: Advanced Warfare",
          "The Legend of Zelda: Ocarina of Time",
          "Crash Bandicoot 2: Cortex Strikes Back",
          "Super Mario Bros. 2",
          "Super Smash Bros. for Wii U and 3DS",
          "Call of Duty: World at War",
          "Battlefield 3"
         ],
         "type": "scatter",
         "x": [
          1,
          2,
          3,
          4,
          5,
          6,
          7,
          8,
          9,
          10,
          11,
          12,
          13,
          14,
          15,
          16,
          17,
          18,
          19,
          20,
          21,
          22,
          23,
          24,
          25,
          26,
          27,
          28,
          29,
          30,
          31,
          32,
          33,
          34,
          35,
          36,
          37,
          38,
          39,
          40,
          41,
          42,
          43,
          44,
          45,
          46,
          47,
          48,
          49,
          50,
          51,
          52,
          53,
          54,
          55,
          56,
          57,
          58,
          59,
          60,
          61,
          62,
          63,
          64,
          65,
          66,
          67,
          68,
          69,
          70,
          71,
          72,
          73,
          74,
          75,
          76,
          77,
          78,
          79,
          80,
          81,
          82,
          83,
          84,
          85,
          86,
          87,
          88,
          89,
          90,
          91,
          92,
          93,
          94,
          95,
          96,
          97,
          98,
          99,
          100
         ],
         "y": [
          3.77,
          6.81,
          3.79,
          3.28,
          10.22,
          4.22,
          6.5,
          2.93,
          4.7,
          0.28,
          1.93,
          4.13,
          7.2,
          3.6,
          2.53,
          0.24,
          0.97,
          0.41,
          3.54,
          4.16,
          6.04,
          4.18,
          3.84,
          0.06,
          0.47,
          5.38,
          5.65,
          5.32,
          1.87,
          0.13,
          3.12,
          0.11,
          4.34,
          0.35,
          0.65,
          0.07,
          0.08,
          0.49,
          0.3,
          2.66,
          0.48,
          5.33,
          2.67,
          0.13,
          0.36,
          3.96,
          1.91,
          1.1,
          1.2,
          3.08,
          2.69,
          0.14,
          2.54,
          2.13,
          0.81,
          0.38,
          0.44,
          2.12,
          3.15,
          1.25,
          0,
          0.04,
          0.08,
          2.23,
          2.47,
          0.04,
          3.28,
          0.38,
          0.01,
          1.69,
          0.13,
          3,
          0.02,
          4.36,
          1.98,
          0.1,
          3.81,
          0.06,
          2.49,
          0.05,
          1.58,
          3.14,
          0.13,
          0,
          0.13,
          0.66,
          2.73,
          3.63,
          2.69,
          0,
          0.24,
          0.98,
          0.22,
          0.14,
          1.45,
          1.31,
          0.7,
          2.42,
          0,
          0.06
         ]
        },
        {
         "marker": {
          "color": "lime",
          "size": 8
         },
         "mode": "markers",
         "name": "Other",
         "text": [
          "Wii Sports",
          "Super Mario Bros.",
          "Mario Kart Wii",
          "Wii Sports Resort",
          "Pokemon Red/Pokemon Blue",
          "Tetris",
          "New Super Mario Bros.",
          "Wii Play",
          "New Super Mario Bros. Wii",
          "Duck Hunt",
          "Nintendogs",
          "Mario Kart DS",
          "Pokemon Gold/Pokemon Silver",
          "Wii Fit",
          "Wii Fit Plus",
          "Kinect Adventures!",
          "Grand Theft Auto V",
          "Grand Theft Auto: San Andreas",
          "Super Mario World",
          "Brain Age: Train Your Brain in Minutes a Day",
          "Pokemon Diamond/Pokemon Pearl",
          "Super Mario Land",
          "Super Mario Bros. 3",
          "Grand Theft Auto V",
          "Grand Theft Auto: Vice City",
          "Pokemon Ruby/Pokemon Sapphire",
          "Pokemon Black/Pokemon White",
          "Brain Age 2: More Training in Minutes a Day",
          "Gran Turismo 3: A-Spec",
          "Call of Duty: Modern Warfare 3",
          "Pokémon Yellow: Special Pikachu Edition",
          "Call of Duty: Black Ops",
          "Pokemon X/Pokemon Y",
          "Call of Duty: Black Ops 3",
          "Call of Duty: Black Ops II",
          "Call of Duty: Black Ops II",
          "Call of Duty: Modern Warfare 2",
          "Call of Duty: Modern Warfare 3",
          "Grand Theft Auto III",
          "Super Smash Bros. Brawl",
          "Call of Duty: Black Ops",
          "Animal Crossing: Wild World",
          "Mario Kart 7",
          "Halo 3",
          "Grand Theft Auto V",
          "Pokemon HeartGold/Pokemon SoulSilver",
          "Super Mario 64",
          "Gran Turismo 4",
          "Super Mario Galaxy",
          "Pokemon Omega Ruby/Pokemon Alpha Sapphire",
          "Super Mario Land 2: 6 Golden Coins",
          "Grand Theft Auto IV",
          "Gran Turismo",
          "Super Mario 3D Land",
          "Gran Turismo 5",
          "Call of Duty: Modern Warfare 2",
          "Grand Theft Auto IV",
          "Super Mario All-Stars",
          "Pokemon FireRed/Pokemon LeafGreen",
          "Super Mario 64",
          "Just Dance 3",
          "Call of Duty: Ghosts",
          "Halo: Reach",
          "Mario Kart 64",
          "New Super Mario Bros. 2",
          "Halo 4",
          "Final Fantasy VII",
          "Call of Duty: Ghosts",
          "Just Dance 2",
          "Gran Turismo 2",
          "Call of Duty 4: Modern Warfare",
          "Donkey Kong Country",
          "Minecraft",
          "Animal Crossing: New Leaf",
          "Mario Party DS",
          "The Elder Scrolls V: Skyrim",
          "Super Mario Kart",
          "FIFA 16",
          "Wii Party",
          "Halo 2",
          "Mario Party 8",
          "Pokemon Black 2/Pokemon White 2",
          "FIFA Soccer 13",
          "The Sims 3",
          "GoldenEye 007",
          "Mario & Sonic at the Olympic Games",
          "Final Fantasy X",
          "Final Fantasy VIII",
          "Pokémon Platinum Version",
          "Pac-Man",
          "Grand Theft Auto: Liberty City Stories",
          "Super Mario Galaxy 2",
          "Star Wars Battlefront (2015)",
          "Call of Duty: Advanced Warfare",
          "The Legend of Zelda: Ocarina of Time",
          "Crash Bandicoot 2: Cortex Strikes Back",
          "Super Mario Bros. 2",
          "Super Smash Bros. for Wii U and 3DS",
          "Call of Duty: World at War",
          "Battlefield 3"
         ],
         "type": "scatter",
         "x": [
          1,
          2,
          3,
          4,
          5,
          6,
          7,
          8,
          9,
          10,
          11,
          12,
          13,
          14,
          15,
          16,
          17,
          18,
          19,
          20,
          21,
          22,
          23,
          24,
          25,
          26,
          27,
          28,
          29,
          30,
          31,
          32,
          33,
          34,
          35,
          36,
          37,
          38,
          39,
          40,
          41,
          42,
          43,
          44,
          45,
          46,
          47,
          48,
          49,
          50,
          51,
          52,
          53,
          54,
          55,
          56,
          57,
          58,
          59,
          60,
          61,
          62,
          63,
          64,
          65,
          66,
          67,
          68,
          69,
          70,
          71,
          72,
          73,
          74,
          75,
          76,
          77,
          78,
          79,
          80,
          81,
          82,
          83,
          84,
          85,
          86,
          87,
          88,
          89,
          90,
          91,
          92,
          93,
          94,
          95,
          96,
          97,
          98,
          99,
          100
         ],
         "y": [
          8.46,
          0.77,
          3.31,
          2.96,
          1,
          0.58,
          2.9,
          2.85,
          2.26,
          0.47,
          2.75,
          1.92,
          0.71,
          2.15,
          1.79,
          1.67,
          4.14,
          10.57,
          0.55,
          2.05,
          1.37,
          0.42,
          0.46,
          1.38,
          1.78,
          0.5,
          0.82,
          1.18,
          1.16,
          1.32,
          0.59,
          1.13,
          0.79,
          2.31,
          2.52,
          1.12,
          1.29,
          1.62,
          1.3,
          1.02,
          1.83,
          0.88,
          0.89,
          1.21,
          2.02,
          0.77,
          0.23,
          7.53,
          0.76,
          0.65,
          0.29,
          1.03,
          0.52,
          0.78,
          2.12,
          1.63,
          1.62,
          0.29,
          0.35,
          0.98,
          1.07,
          0.82,
          0.78,
          0.15,
          0.63,
          0.73,
          0.96,
          1.38,
          0.78,
          0.5,
          0.9,
          0.23,
          0.77,
          0.41,
          0.7,
          0.85,
          0.18,
          1.26,
          0.68,
          0.08,
          0.73,
          0.43,
          2.01,
          0.71,
          0.15,
          0.91,
          0.33,
          0.23,
          0.55,
          0.08,
          1.75,
          0.64,
          1.23,
          1.37,
          0.16,
          0.31,
          0.19,
          0.43,
          0.69,
          0.69
         ]
        }
       ],
       "layout": {
        "paper_bgcolor": "rgb(243, 243, 243)",
        "plot_bgcolor": "rgb(243, 243, 243)",
        "template": {
         "data": {
          "bar": [
           {
            "error_x": {
             "color": "#2a3f5f"
            },
            "error_y": {
             "color": "#2a3f5f"
            },
            "marker": {
             "line": {
              "color": "#E5ECF6",
              "width": 0.5
             }
            },
            "type": "bar"
           }
          ],
          "barpolar": [
           {
            "marker": {
             "line": {
              "color": "#E5ECF6",
              "width": 0.5
             }
            },
            "type": "barpolar"
           }
          ],
          "carpet": [
           {
            "aaxis": {
             "endlinecolor": "#2a3f5f",
             "gridcolor": "white",
             "linecolor": "white",
             "minorgridcolor": "white",
             "startlinecolor": "#2a3f5f"
            },
            "baxis": {
             "endlinecolor": "#2a3f5f",
             "gridcolor": "white",
             "linecolor": "white",
             "minorgridcolor": "white",
             "startlinecolor": "#2a3f5f"
            },
            "type": "carpet"
           }
          ],
          "choropleth": [
           {
            "colorbar": {
             "outlinewidth": 0,
             "ticks": ""
            },
            "type": "choropleth"
           }
          ],
          "contour": [
           {
            "colorbar": {
             "outlinewidth": 0,
             "ticks": ""
            },
            "colorscale": [
             [
              0,
              "#0d0887"
             ],
             [
              0.1111111111111111,
              "#46039f"
             ],
             [
              0.2222222222222222,
              "#7201a8"
             ],
             [
              0.3333333333333333,
              "#9c179e"
             ],
             [
              0.4444444444444444,
              "#bd3786"
             ],
             [
              0.5555555555555556,
              "#d8576b"
             ],
             [
              0.6666666666666666,
              "#ed7953"
             ],
             [
              0.7777777777777778,
              "#fb9f3a"
             ],
             [
              0.8888888888888888,
              "#fdca26"
             ],
             [
              1,
              "#f0f921"
             ]
            ],
            "type": "contour"
           }
          ],
          "contourcarpet": [
           {
            "colorbar": {
             "outlinewidth": 0,
             "ticks": ""
            },
            "type": "contourcarpet"
           }
          ],
          "heatmap": [
           {
            "colorbar": {
             "outlinewidth": 0,
             "ticks": ""
            },
            "colorscale": [
             [
              0,
              "#0d0887"
             ],
             [
              0.1111111111111111,
              "#46039f"
             ],
             [
              0.2222222222222222,
              "#7201a8"
             ],
             [
              0.3333333333333333,
              "#9c179e"
             ],
             [
              0.4444444444444444,
              "#bd3786"
             ],
             [
              0.5555555555555556,
              "#d8576b"
             ],
             [
              0.6666666666666666,
              "#ed7953"
             ],
             [
              0.7777777777777778,
              "#fb9f3a"
             ],
             [
              0.8888888888888888,
              "#fdca26"
             ],
             [
              1,
              "#f0f921"
             ]
            ],
            "type": "heatmap"
           }
          ],
          "heatmapgl": [
           {
            "colorbar": {
             "outlinewidth": 0,
             "ticks": ""
            },
            "colorscale": [
             [
              0,
              "#0d0887"
             ],
             [
              0.1111111111111111,
              "#46039f"
             ],
             [
              0.2222222222222222,
              "#7201a8"
             ],
             [
              0.3333333333333333,
              "#9c179e"
             ],
             [
              0.4444444444444444,
              "#bd3786"
             ],
             [
              0.5555555555555556,
              "#d8576b"
             ],
             [
              0.6666666666666666,
              "#ed7953"
             ],
             [
              0.7777777777777778,
              "#fb9f3a"
             ],
             [
              0.8888888888888888,
              "#fdca26"
             ],
             [
              1,
              "#f0f921"
             ]
            ],
            "type": "heatmapgl"
           }
          ],
          "histogram": [
           {
            "marker": {
             "colorbar": {
              "outlinewidth": 0,
              "ticks": ""
             }
            },
            "type": "histogram"
           }
          ],
          "histogram2d": [
           {
            "colorbar": {
             "outlinewidth": 0,
             "ticks": ""
            },
            "colorscale": [
             [
              0,
              "#0d0887"
             ],
             [
              0.1111111111111111,
              "#46039f"
             ],
             [
              0.2222222222222222,
              "#7201a8"
             ],
             [
              0.3333333333333333,
              "#9c179e"
             ],
             [
              0.4444444444444444,
              "#bd3786"
             ],
             [
              0.5555555555555556,
              "#d8576b"
             ],
             [
              0.6666666666666666,
              "#ed7953"
             ],
             [
              0.7777777777777778,
              "#fb9f3a"
             ],
             [
              0.8888888888888888,
              "#fdca26"
             ],
             [
              1,
              "#f0f921"
             ]
            ],
            "type": "histogram2d"
           }
          ],
          "histogram2dcontour": [
           {
            "colorbar": {
             "outlinewidth": 0,
             "ticks": ""
            },
            "colorscale": [
             [
              0,
              "#0d0887"
             ],
             [
              0.1111111111111111,
              "#46039f"
             ],
             [
              0.2222222222222222,
              "#7201a8"
             ],
             [
              0.3333333333333333,
              "#9c179e"
             ],
             [
              0.4444444444444444,
              "#bd3786"
             ],
             [
              0.5555555555555556,
              "#d8576b"
             ],
             [
              0.6666666666666666,
              "#ed7953"
             ],
             [
              0.7777777777777778,
              "#fb9f3a"
             ],
             [
              0.8888888888888888,
              "#fdca26"
             ],
             [
              1,
              "#f0f921"
             ]
            ],
            "type": "histogram2dcontour"
           }
          ],
          "mesh3d": [
           {
            "colorbar": {
             "outlinewidth": 0,
             "ticks": ""
            },
            "type": "mesh3d"
           }
          ],
          "parcoords": [
           {
            "line": {
             "colorbar": {
              "outlinewidth": 0,
              "ticks": ""
             }
            },
            "type": "parcoords"
           }
          ],
          "pie": [
           {
            "automargin": true,
            "type": "pie"
           }
          ],
          "scatter": [
           {
            "marker": {
             "colorbar": {
              "outlinewidth": 0,
              "ticks": ""
             }
            },
            "type": "scatter"
           }
          ],
          "scatter3d": [
           {
            "line": {
             "colorbar": {
              "outlinewidth": 0,
              "ticks": ""
             }
            },
            "marker": {
             "colorbar": {
              "outlinewidth": 0,
              "ticks": ""
             }
            },
            "type": "scatter3d"
           }
          ],
          "scattercarpet": [
           {
            "marker": {
             "colorbar": {
              "outlinewidth": 0,
              "ticks": ""
             }
            },
            "type": "scattercarpet"
           }
          ],
          "scattergeo": [
           {
            "marker": {
             "colorbar": {
              "outlinewidth": 0,
              "ticks": ""
             }
            },
            "type": "scattergeo"
           }
          ],
          "scattergl": [
           {
            "marker": {
             "colorbar": {
              "outlinewidth": 0,
              "ticks": ""
             }
            },
            "type": "scattergl"
           }
          ],
          "scattermapbox": [
           {
            "marker": {
             "colorbar": {
              "outlinewidth": 0,
              "ticks": ""
             }
            },
            "type": "scattermapbox"
           }
          ],
          "scatterpolar": [
           {
            "marker": {
             "colorbar": {
              "outlinewidth": 0,
              "ticks": ""
             }
            },
            "type": "scatterpolar"
           }
          ],
          "scatterpolargl": [
           {
            "marker": {
             "colorbar": {
              "outlinewidth": 0,
              "ticks": ""
             }
            },
            "type": "scatterpolargl"
           }
          ],
          "scatterternary": [
           {
            "marker": {
             "colorbar": {
              "outlinewidth": 0,
              "ticks": ""
             }
            },
            "type": "scatterternary"
           }
          ],
          "surface": [
           {
            "colorbar": {
             "outlinewidth": 0,
             "ticks": ""
            },
            "colorscale": [
             [
              0,
              "#0d0887"
             ],
             [
              0.1111111111111111,
              "#46039f"
             ],
             [
              0.2222222222222222,
              "#7201a8"
             ],
             [
              0.3333333333333333,
              "#9c179e"
             ],
             [
              0.4444444444444444,
              "#bd3786"
             ],
             [
              0.5555555555555556,
              "#d8576b"
             ],
             [
              0.6666666666666666,
              "#ed7953"
             ],
             [
              0.7777777777777778,
              "#fb9f3a"
             ],
             [
              0.8888888888888888,
              "#fdca26"
             ],
             [
              1,
              "#f0f921"
             ]
            ],
            "type": "surface"
           }
          ],
          "table": [
           {
            "cells": {
             "fill": {
              "color": "#EBF0F8"
             },
             "line": {
              "color": "white"
             }
            },
            "header": {
             "fill": {
              "color": "#C8D4E3"
             },
             "line": {
              "color": "white"
             }
            },
            "type": "table"
           }
          ]
         },
         "layout": {
          "annotationdefaults": {
           "arrowcolor": "#2a3f5f",
           "arrowhead": 0,
           "arrowwidth": 1
          },
          "coloraxis": {
           "colorbar": {
            "outlinewidth": 0,
            "ticks": ""
           }
          },
          "colorscale": {
           "diverging": [
            [
             0,
             "#8e0152"
            ],
            [
             0.1,
             "#c51b7d"
            ],
            [
             0.2,
             "#de77ae"
            ],
            [
             0.3,
             "#f1b6da"
            ],
            [
             0.4,
             "#fde0ef"
            ],
            [
             0.5,
             "#f7f7f7"
            ],
            [
             0.6,
             "#e6f5d0"
            ],
            [
             0.7,
             "#b8e186"
            ],
            [
             0.8,
             "#7fbc41"
            ],
            [
             0.9,
             "#4d9221"
            ],
            [
             1,
             "#276419"
            ]
           ],
           "sequential": [
            [
             0,
             "#0d0887"
            ],
            [
             0.1111111111111111,
             "#46039f"
            ],
            [
             0.2222222222222222,
             "#7201a8"
            ],
            [
             0.3333333333333333,
             "#9c179e"
            ],
            [
             0.4444444444444444,
             "#bd3786"
            ],
            [
             0.5555555555555556,
             "#d8576b"
            ],
            [
             0.6666666666666666,
             "#ed7953"
            ],
            [
             0.7777777777777778,
             "#fb9f3a"
            ],
            [
             0.8888888888888888,
             "#fdca26"
            ],
            [
             1,
             "#f0f921"
            ]
           ],
           "sequentialminus": [
            [
             0,
             "#0d0887"
            ],
            [
             0.1111111111111111,
             "#46039f"
            ],
            [
             0.2222222222222222,
             "#7201a8"
            ],
            [
             0.3333333333333333,
             "#9c179e"
            ],
            [
             0.4444444444444444,
             "#bd3786"
            ],
            [
             0.5555555555555556,
             "#d8576b"
            ],
            [
             0.6666666666666666,
             "#ed7953"
            ],
            [
             0.7777777777777778,
             "#fb9f3a"
            ],
            [
             0.8888888888888888,
             "#fdca26"
            ],
            [
             1,
             "#f0f921"
            ]
           ]
          },
          "colorway": [
           "#636efa",
           "#EF553B",
           "#00cc96",
           "#ab63fa",
           "#FFA15A",
           "#19d3f3",
           "#FF6692",
           "#B6E880",
           "#FF97FF",
           "#FECB52"
          ],
          "font": {
           "color": "#2a3f5f"
          },
          "geo": {
           "bgcolor": "white",
           "lakecolor": "white",
           "landcolor": "#E5ECF6",
           "showlakes": true,
           "showland": true,
           "subunitcolor": "white"
          },
          "hoverlabel": {
           "align": "left"
          },
          "hovermode": "closest",
          "mapbox": {
           "style": "light"
          },
          "paper_bgcolor": "white",
          "plot_bgcolor": "#E5ECF6",
          "polar": {
           "angularaxis": {
            "gridcolor": "white",
            "linecolor": "white",
            "ticks": ""
           },
           "bgcolor": "#E5ECF6",
           "radialaxis": {
            "gridcolor": "white",
            "linecolor": "white",
            "ticks": ""
           }
          },
          "scene": {
           "xaxis": {
            "backgroundcolor": "#E5ECF6",
            "gridcolor": "white",
            "gridwidth": 2,
            "linecolor": "white",
            "showbackground": true,
            "ticks": "",
            "zerolinecolor": "white"
           },
           "yaxis": {
            "backgroundcolor": "#E5ECF6",
            "gridcolor": "white",
            "gridwidth": 2,
            "linecolor": "white",
            "showbackground": true,
            "ticks": "",
            "zerolinecolor": "white"
           },
           "zaxis": {
            "backgroundcolor": "#E5ECF6",
            "gridcolor": "white",
            "gridwidth": 2,
            "linecolor": "white",
            "showbackground": true,
            "ticks": "",
            "zerolinecolor": "white"
           }
          },
          "shapedefaults": {
           "line": {
            "color": "#2a3f5f"
           }
          },
          "ternary": {
           "aaxis": {
            "gridcolor": "white",
            "linecolor": "white",
            "ticks": ""
           },
           "baxis": {
            "gridcolor": "white",
            "linecolor": "white",
            "ticks": ""
           },
           "bgcolor": "#E5ECF6",
           "caxis": {
            "gridcolor": "white",
            "linecolor": "white",
            "ticks": ""
           }
          },
          "title": {
           "x": 0.05
          },
          "xaxis": {
           "automargin": true,
           "gridcolor": "white",
           "linecolor": "white",
           "ticks": "",
           "title": {
            "standoff": 15
           },
           "zerolinecolor": "white",
           "zerolinewidth": 2
          },
          "yaxis": {
           "automargin": true,
           "gridcolor": "white",
           "linecolor": "white",
           "ticks": "",
           "title": {
            "standoff": 15
           },
           "zerolinecolor": "white",
           "zerolinewidth": 2
          }
         }
        },
        "title": {
         "text": "North America, Europe, Japan and Other Sales of top 100 videogames"
        },
        "xaxis": {
         "gridcolor": "white",
         "ticklen": 5,
         "title": {
          "text": "Rank"
         },
         "zeroline": false,
         "zerolinewidth": 1
        },
        "yaxis": {
         "gridcolor": "white",
         "ticklen": 5,
         "title": {
          "text": "Sales (In millions)"
         },
         "zeroline": false,
         "zerolinewidth": 1
        }
       }
      },
      "text/html": [
       "<div>                            <div id=\"cdc0aacf-9139-4db6-96c3-be4b0504572d\" class=\"plotly-graph-div\" style=\"height:525px; width:100%;\"></div>            <script type=\"text/javascript\">                require([\"plotly\"], function(Plotly) {                    window.PLOTLYENV=window.PLOTLYENV || {};                                    if (document.getElementById(\"cdc0aacf-9139-4db6-96c3-be4b0504572d\")) {                    Plotly.newPlot(                        \"cdc0aacf-9139-4db6-96c3-be4b0504572d\",                        [{\"marker\": {\"color\": \"rgba(28, 149, 249, 0.8)\", \"size\": 8}, \"mode\": \"markers\", \"name\": \"North America\", \"text\": [\"Wii Sports\", \"Super Mario Bros.\", \"Mario Kart Wii\", \"Wii Sports Resort\", \"Pokemon Red/Pokemon Blue\", \"Tetris\", \"New Super Mario Bros.\", \"Wii Play\", \"New Super Mario Bros. Wii\", \"Duck Hunt\", \"Nintendogs\", \"Mario Kart DS\", \"Pokemon Gold/Pokemon Silver\", \"Wii Fit\", \"Wii Fit Plus\", \"Kinect Adventures!\", \"Grand Theft Auto V\", \"Grand Theft Auto: San Andreas\", \"Super Mario World\", \"Brain Age: Train Your Brain in Minutes a Day\", \"Pokemon Diamond/Pokemon Pearl\", \"Super Mario Land\", \"Super Mario Bros. 3\", \"Grand Theft Auto V\", \"Grand Theft Auto: Vice City\", \"Pokemon Ruby/Pokemon Sapphire\", \"Pokemon Black/Pokemon White\", \"Brain Age 2: More Training in Minutes a Day\", \"Gran Turismo 3: A-Spec\", \"Call of Duty: Modern Warfare 3\", \"Pok\\u00e9mon Yellow: Special Pikachu Edition\", \"Call of Duty: Black Ops\", \"Pokemon X/Pokemon Y\", \"Call of Duty: Black Ops 3\", \"Call of Duty: Black Ops II\", \"Call of Duty: Black Ops II\", \"Call of Duty: Modern Warfare 2\", \"Call of Duty: Modern Warfare 3\", \"Grand Theft Auto III\", \"Super Smash Bros. Brawl\", \"Call of Duty: Black Ops\", \"Animal Crossing: Wild World\", \"Mario Kart 7\", \"Halo 3\", \"Grand Theft Auto V\", \"Pokemon HeartGold/Pokemon SoulSilver\", \"Super Mario 64\", \"Gran Turismo 4\", \"Super Mario Galaxy\", \"Pokemon Omega Ruby/Pokemon Alpha Sapphire\", \"Super Mario Land 2: 6 Golden Coins\", \"Grand Theft Auto IV\", \"Gran Turismo\", \"Super Mario 3D Land\", \"Gran Turismo 5\", \"Call of Duty: Modern Warfare 2\", \"Grand Theft Auto IV\", \"Super Mario All-Stars\", \"Pokemon FireRed/Pokemon LeafGreen\", \"Super Mario 64\", \"Just Dance 3\", \"Call of Duty: Ghosts\", \"Halo: Reach\", \"Mario Kart 64\", \"New Super Mario Bros. 2\", \"Halo 4\", \"Final Fantasy VII\", \"Call of Duty: Ghosts\", \"Just Dance 2\", \"Gran Turismo 2\", \"Call of Duty 4: Modern Warfare\", \"Donkey Kong Country\", \"Minecraft\", \"Animal Crossing: New Leaf\", \"Mario Party DS\", \"The Elder Scrolls V: Skyrim\", \"Super Mario Kart\", \"FIFA 16\", \"Wii Party\", \"Halo 2\", \"Mario Party 8\", \"Pokemon Black 2/Pokemon White 2\", \"FIFA Soccer 13\", \"The Sims 3\", \"GoldenEye 007\", \"Mario & Sonic at the Olympic Games\", \"Final Fantasy X\", \"Final Fantasy VIII\", \"Pok\\u00e9mon Platinum Version\", \"Pac-Man\", \"Grand Theft Auto: Liberty City Stories\", \"Super Mario Galaxy 2\", \"Star Wars Battlefront (2015)\", \"Call of Duty: Advanced Warfare\", \"The Legend of Zelda: Ocarina of Time\", \"Crash Bandicoot 2: Cortex Strikes Back\", \"Super Mario Bros. 2\", \"Super Smash Bros. for Wii U and 3DS\", \"Call of Duty: World at War\", \"Battlefield 3\"], \"type\": \"scatter\", \"x\": [1, 2, 3, 4, 5, 6, 7, 8, 9, 10, 11, 12, 13, 14, 15, 16, 17, 18, 19, 20, 21, 22, 23, 24, 25, 26, 27, 28, 29, 30, 31, 32, 33, 34, 35, 36, 37, 38, 39, 40, 41, 42, 43, 44, 45, 46, 47, 48, 49, 50, 51, 52, 53, 54, 55, 56, 57, 58, 59, 60, 61, 62, 63, 64, 65, 66, 67, 68, 69, 70, 71, 72, 73, 74, 75, 76, 77, 78, 79, 80, 81, 82, 83, 84, 85, 86, 87, 88, 89, 90, 91, 92, 93, 94, 95, 96, 97, 98, 99, 100], \"y\": [41.49, 29.08, 15.85, 15.75, 11.27, 23.2, 11.38, 14.03, 14.59, 26.93, 9.07, 9.81, 9.0, 8.94, 9.09, 14.97, 7.01, 9.43, 12.78, 4.75, 6.42, 10.83, 9.54, 9.63, 8.41, 6.06, 5.57, 3.44, 6.85, 9.03, 5.89, 9.67, 5.17, 5.77, 4.99, 8.25, 8.52, 5.54, 6.99, 6.75, 5.98, 2.55, 4.74, 7.97, 3.8, 4.4, 6.91, 3.01, 6.16, 4.23, 6.16, 6.76, 4.02, 4.89, 2.96, 4.99, 4.76, 5.99, 4.34, 5.08, 6.05, 6.72, 7.03, 5.55, 3.66, 6.63, 3.01, 4.09, 5.84, 3.88, 5.91, 4.36, 5.58, 2.01, 4.46, 5.03, 3.54, 1.11, 1.79, 6.82, 3.81, 2.91, 1.06, 0.98, 5.8, 2.58, 2.91, 2.28, 2.82, 7.28, 2.9, 3.66, 2.93, 2.8, 4.1, 3.78, 5.39, 3.24, 4.79, 4.46]}, {\"marker\": {\"color\": \"rgba(249, 94, 28, 0.8)\", \"size\": 8}, \"mode\": \"markers\", \"name\": \"Europe\", \"text\": [\"Wii Sports\", \"Super Mario Bros.\", \"Mario Kart Wii\", \"Wii Sports Resort\", \"Pokemon Red/Pokemon Blue\", \"Tetris\", \"New Super Mario Bros.\", \"Wii Play\", \"New Super Mario Bros. Wii\", \"Duck Hunt\", \"Nintendogs\", \"Mario Kart DS\", \"Pokemon Gold/Pokemon Silver\", \"Wii Fit\", \"Wii Fit Plus\", \"Kinect Adventures!\", \"Grand Theft Auto V\", \"Grand Theft Auto: San Andreas\", \"Super Mario World\", \"Brain Age: Train Your Brain in Minutes a Day\", \"Pokemon Diamond/Pokemon Pearl\", \"Super Mario Land\", \"Super Mario Bros. 3\", \"Grand Theft Auto V\", \"Grand Theft Auto: Vice City\", \"Pokemon Ruby/Pokemon Sapphire\", \"Pokemon Black/Pokemon White\", \"Brain Age 2: More Training in Minutes a Day\", \"Gran Turismo 3: A-Spec\", \"Call of Duty: Modern Warfare 3\", \"Pok\\u00e9mon Yellow: Special Pikachu Edition\", \"Call of Duty: Black Ops\", \"Pokemon X/Pokemon Y\", \"Call of Duty: Black Ops 3\", \"Call of Duty: Black Ops II\", \"Call of Duty: Black Ops II\", \"Call of Duty: Modern Warfare 2\", \"Call of Duty: Modern Warfare 3\", \"Grand Theft Auto III\", \"Super Smash Bros. Brawl\", \"Call of Duty: Black Ops\", \"Animal Crossing: Wild World\", \"Mario Kart 7\", \"Halo 3\", \"Grand Theft Auto V\", \"Pokemon HeartGold/Pokemon SoulSilver\", \"Super Mario 64\", \"Gran Turismo 4\", \"Super Mario Galaxy\", \"Pokemon Omega Ruby/Pokemon Alpha Sapphire\", \"Super Mario Land 2: 6 Golden Coins\", \"Grand Theft Auto IV\", \"Gran Turismo\", \"Super Mario 3D Land\", \"Gran Turismo 5\", \"Call of Duty: Modern Warfare 2\", \"Grand Theft Auto IV\", \"Super Mario All-Stars\", \"Pokemon FireRed/Pokemon LeafGreen\", \"Super Mario 64\", \"Just Dance 3\", \"Call of Duty: Ghosts\", \"Halo: Reach\", \"Mario Kart 64\", \"New Super Mario Bros. 2\", \"Halo 4\", \"Final Fantasy VII\", \"Call of Duty: Ghosts\", \"Just Dance 2\", \"Gran Turismo 2\", \"Call of Duty 4: Modern Warfare\", \"Donkey Kong Country\", \"Minecraft\", \"Animal Crossing: New Leaf\", \"Mario Party DS\", \"The Elder Scrolls V: Skyrim\", \"Super Mario Kart\", \"FIFA 16\", \"Wii Party\", \"Halo 2\", \"Mario Party 8\", \"Pokemon Black 2/Pokemon White 2\", \"FIFA Soccer 13\", \"The Sims 3\", \"GoldenEye 007\", \"Mario & Sonic at the Olympic Games\", \"Final Fantasy X\", \"Final Fantasy VIII\", \"Pok\\u00e9mon Platinum Version\", \"Pac-Man\", \"Grand Theft Auto: Liberty City Stories\", \"Super Mario Galaxy 2\", \"Star Wars Battlefront (2015)\", \"Call of Duty: Advanced Warfare\", \"The Legend of Zelda: Ocarina of Time\", \"Crash Bandicoot 2: Cortex Strikes Back\", \"Super Mario Bros. 2\", \"Super Smash Bros. for Wii U and 3DS\", \"Call of Duty: World at War\", \"Battlefield 3\"], \"type\": \"scatter\", \"x\": [1, 2, 3, 4, 5, 6, 7, 8, 9, 10, 11, 12, 13, 14, 15, 16, 17, 18, 19, 20, 21, 22, 23, 24, 25, 26, 27, 28, 29, 30, 31, 32, 33, 34, 35, 36, 37, 38, 39, 40, 41, 42, 43, 44, 45, 46, 47, 48, 49, 50, 51, 52, 53, 54, 55, 56, 57, 58, 59, 60, 61, 62, 63, 64, 65, 66, 67, 68, 69, 70, 71, 72, 73, 74, 75, 76, 77, 78, 79, 80, 81, 82, 83, 84, 85, 86, 87, 88, 89, 90, 91, 92, 93, 94, 95, 96, 97, 98, 99, 100], \"y\": [29.02, 3.58, 12.88, 11.01, 8.89, 2.26, 9.23, 9.2, 7.06, 0.63, 11.0, 7.57, 6.18, 8.03, 8.59, 4.94, 9.27, 0.4, 3.75, 9.26, 4.52, 2.71, 3.44, 5.31, 5.49, 3.9, 3.28, 5.36, 5.09, 4.28, 5.04, 3.73, 4.05, 5.81, 5.88, 4.3, 3.63, 5.82, 4.51, 2.61, 4.44, 3.52, 3.91, 2.83, 5.81, 2.77, 2.85, 0.01, 3.4, 3.37, 2.04, 3.1, 3.87, 2.99, 4.88, 3.69, 3.76, 2.15, 2.65, 3.11, 3.15, 2.63, 1.98, 1.94, 3.07, 2.36, 2.47, 3.73, 2.89, 3.42, 2.38, 1.71, 2.83, 2.32, 1.88, 2.86, 1.24, 6.06, 3.53, 1.53, 2.3, 1.86, 5.05, 6.42, 2.01, 3.9, 2.07, 1.72, 1.78, 0.45, 2.83, 2.42, 3.29, 3.3, 1.89, 2.17, 1.18, 1.35, 1.9, 2.13]}, {\"marker\": {\"color\": \"rgba(150, 26, 80, 0.8)\", \"size\": 8}, \"mode\": \"markers\", \"name\": \"Japan\", \"text\": [\"Wii Sports\", \"Super Mario Bros.\", \"Mario Kart Wii\", \"Wii Sports Resort\", \"Pokemon Red/Pokemon Blue\", \"Tetris\", \"New Super Mario Bros.\", \"Wii Play\", \"New Super Mario Bros. Wii\", \"Duck Hunt\", \"Nintendogs\", \"Mario Kart DS\", \"Pokemon Gold/Pokemon Silver\", \"Wii Fit\", \"Wii Fit Plus\", \"Kinect Adventures!\", \"Grand Theft Auto V\", \"Grand Theft Auto: San Andreas\", \"Super Mario World\", \"Brain Age: Train Your Brain in Minutes a Day\", \"Pokemon Diamond/Pokemon Pearl\", \"Super Mario Land\", \"Super Mario Bros. 3\", \"Grand Theft Auto V\", \"Grand Theft Auto: Vice City\", \"Pokemon Ruby/Pokemon Sapphire\", \"Pokemon Black/Pokemon White\", \"Brain Age 2: More Training in Minutes a Day\", \"Gran Turismo 3: A-Spec\", \"Call of Duty: Modern Warfare 3\", \"Pok\\u00e9mon Yellow: Special Pikachu Edition\", \"Call of Duty: Black Ops\", \"Pokemon X/Pokemon Y\", \"Call of Duty: Black Ops 3\", \"Call of Duty: Black Ops II\", \"Call of Duty: Black Ops II\", \"Call of Duty: Modern Warfare 2\", \"Call of Duty: Modern Warfare 3\", \"Grand Theft Auto III\", \"Super Smash Bros. Brawl\", \"Call of Duty: Black Ops\", \"Animal Crossing: Wild World\", \"Mario Kart 7\", \"Halo 3\", \"Grand Theft Auto V\", \"Pokemon HeartGold/Pokemon SoulSilver\", \"Super Mario 64\", \"Gran Turismo 4\", \"Super Mario Galaxy\", \"Pokemon Omega Ruby/Pokemon Alpha Sapphire\", \"Super Mario Land 2: 6 Golden Coins\", \"Grand Theft Auto IV\", \"Gran Turismo\", \"Super Mario 3D Land\", \"Gran Turismo 5\", \"Call of Duty: Modern Warfare 2\", \"Grand Theft Auto IV\", \"Super Mario All-Stars\", \"Pokemon FireRed/Pokemon LeafGreen\", \"Super Mario 64\", \"Just Dance 3\", \"Call of Duty: Ghosts\", \"Halo: Reach\", \"Mario Kart 64\", \"New Super Mario Bros. 2\", \"Halo 4\", \"Final Fantasy VII\", \"Call of Duty: Ghosts\", \"Just Dance 2\", \"Gran Turismo 2\", \"Call of Duty 4: Modern Warfare\", \"Donkey Kong Country\", \"Minecraft\", \"Animal Crossing: New Leaf\", \"Mario Party DS\", \"The Elder Scrolls V: Skyrim\", \"Super Mario Kart\", \"FIFA 16\", \"Wii Party\", \"Halo 2\", \"Mario Party 8\", \"Pokemon Black 2/Pokemon White 2\", \"FIFA Soccer 13\", \"The Sims 3\", \"GoldenEye 007\", \"Mario & Sonic at the Olympic Games\", \"Final Fantasy X\", \"Final Fantasy VIII\", \"Pok\\u00e9mon Platinum Version\", \"Pac-Man\", \"Grand Theft Auto: Liberty City Stories\", \"Super Mario Galaxy 2\", \"Star Wars Battlefront (2015)\", \"Call of Duty: Advanced Warfare\", \"The Legend of Zelda: Ocarina of Time\", \"Crash Bandicoot 2: Cortex Strikes Back\", \"Super Mario Bros. 2\", \"Super Smash Bros. for Wii U and 3DS\", \"Call of Duty: World at War\", \"Battlefield 3\"], \"type\": \"scatter\", \"x\": [1, 2, 3, 4, 5, 6, 7, 8, 9, 10, 11, 12, 13, 14, 15, 16, 17, 18, 19, 20, 21, 22, 23, 24, 25, 26, 27, 28, 29, 30, 31, 32, 33, 34, 35, 36, 37, 38, 39, 40, 41, 42, 43, 44, 45, 46, 47, 48, 49, 50, 51, 52, 53, 54, 55, 56, 57, 58, 59, 60, 61, 62, 63, 64, 65, 66, 67, 68, 69, 70, 71, 72, 73, 74, 75, 76, 77, 78, 79, 80, 81, 82, 83, 84, 85, 86, 87, 88, 89, 90, 91, 92, 93, 94, 95, 96, 97, 98, 99, 100], \"y\": [3.77, 6.81, 3.79, 3.28, 10.22, 4.22, 6.5, 2.93, 4.7, 0.28, 1.93, 4.13, 7.2, 3.6, 2.53, 0.24, 0.97, 0.41, 3.54, 4.16, 6.04, 4.18, 3.84, 0.06, 0.47, 5.38, 5.65, 5.32, 1.87, 0.13, 3.12, 0.11, 4.34, 0.35, 0.65, 0.07, 0.08, 0.49, 0.3, 2.66, 0.48, 5.33, 2.67, 0.13, 0.36, 3.96, 1.91, 1.1, 1.2, 3.08, 2.69, 0.14, 2.54, 2.13, 0.81, 0.38, 0.44, 2.12, 3.15, 1.25, 0.0, 0.04, 0.08, 2.23, 2.47, 0.04, 3.28, 0.38, 0.01, 1.69, 0.13, 3.0, 0.02, 4.36, 1.98, 0.1, 3.81, 0.06, 2.49, 0.05, 1.58, 3.14, 0.13, 0.0, 0.13, 0.66, 2.73, 3.63, 2.69, 0.0, 0.24, 0.98, 0.22, 0.14, 1.45, 1.31, 0.7, 2.42, 0.0, 0.06]}, {\"marker\": {\"color\": \"lime\", \"size\": 8}, \"mode\": \"markers\", \"name\": \"Other\", \"text\": [\"Wii Sports\", \"Super Mario Bros.\", \"Mario Kart Wii\", \"Wii Sports Resort\", \"Pokemon Red/Pokemon Blue\", \"Tetris\", \"New Super Mario Bros.\", \"Wii Play\", \"New Super Mario Bros. Wii\", \"Duck Hunt\", \"Nintendogs\", \"Mario Kart DS\", \"Pokemon Gold/Pokemon Silver\", \"Wii Fit\", \"Wii Fit Plus\", \"Kinect Adventures!\", \"Grand Theft Auto V\", \"Grand Theft Auto: San Andreas\", \"Super Mario World\", \"Brain Age: Train Your Brain in Minutes a Day\", \"Pokemon Diamond/Pokemon Pearl\", \"Super Mario Land\", \"Super Mario Bros. 3\", \"Grand Theft Auto V\", \"Grand Theft Auto: Vice City\", \"Pokemon Ruby/Pokemon Sapphire\", \"Pokemon Black/Pokemon White\", \"Brain Age 2: More Training in Minutes a Day\", \"Gran Turismo 3: A-Spec\", \"Call of Duty: Modern Warfare 3\", \"Pok\\u00e9mon Yellow: Special Pikachu Edition\", \"Call of Duty: Black Ops\", \"Pokemon X/Pokemon Y\", \"Call of Duty: Black Ops 3\", \"Call of Duty: Black Ops II\", \"Call of Duty: Black Ops II\", \"Call of Duty: Modern Warfare 2\", \"Call of Duty: Modern Warfare 3\", \"Grand Theft Auto III\", \"Super Smash Bros. Brawl\", \"Call of Duty: Black Ops\", \"Animal Crossing: Wild World\", \"Mario Kart 7\", \"Halo 3\", \"Grand Theft Auto V\", \"Pokemon HeartGold/Pokemon SoulSilver\", \"Super Mario 64\", \"Gran Turismo 4\", \"Super Mario Galaxy\", \"Pokemon Omega Ruby/Pokemon Alpha Sapphire\", \"Super Mario Land 2: 6 Golden Coins\", \"Grand Theft Auto IV\", \"Gran Turismo\", \"Super Mario 3D Land\", \"Gran Turismo 5\", \"Call of Duty: Modern Warfare 2\", \"Grand Theft Auto IV\", \"Super Mario All-Stars\", \"Pokemon FireRed/Pokemon LeafGreen\", \"Super Mario 64\", \"Just Dance 3\", \"Call of Duty: Ghosts\", \"Halo: Reach\", \"Mario Kart 64\", \"New Super Mario Bros. 2\", \"Halo 4\", \"Final Fantasy VII\", \"Call of Duty: Ghosts\", \"Just Dance 2\", \"Gran Turismo 2\", \"Call of Duty 4: Modern Warfare\", \"Donkey Kong Country\", \"Minecraft\", \"Animal Crossing: New Leaf\", \"Mario Party DS\", \"The Elder Scrolls V: Skyrim\", \"Super Mario Kart\", \"FIFA 16\", \"Wii Party\", \"Halo 2\", \"Mario Party 8\", \"Pokemon Black 2/Pokemon White 2\", \"FIFA Soccer 13\", \"The Sims 3\", \"GoldenEye 007\", \"Mario & Sonic at the Olympic Games\", \"Final Fantasy X\", \"Final Fantasy VIII\", \"Pok\\u00e9mon Platinum Version\", \"Pac-Man\", \"Grand Theft Auto: Liberty City Stories\", \"Super Mario Galaxy 2\", \"Star Wars Battlefront (2015)\", \"Call of Duty: Advanced Warfare\", \"The Legend of Zelda: Ocarina of Time\", \"Crash Bandicoot 2: Cortex Strikes Back\", \"Super Mario Bros. 2\", \"Super Smash Bros. for Wii U and 3DS\", \"Call of Duty: World at War\", \"Battlefield 3\"], \"type\": \"scatter\", \"x\": [1, 2, 3, 4, 5, 6, 7, 8, 9, 10, 11, 12, 13, 14, 15, 16, 17, 18, 19, 20, 21, 22, 23, 24, 25, 26, 27, 28, 29, 30, 31, 32, 33, 34, 35, 36, 37, 38, 39, 40, 41, 42, 43, 44, 45, 46, 47, 48, 49, 50, 51, 52, 53, 54, 55, 56, 57, 58, 59, 60, 61, 62, 63, 64, 65, 66, 67, 68, 69, 70, 71, 72, 73, 74, 75, 76, 77, 78, 79, 80, 81, 82, 83, 84, 85, 86, 87, 88, 89, 90, 91, 92, 93, 94, 95, 96, 97, 98, 99, 100], \"y\": [8.46, 0.77, 3.31, 2.96, 1.0, 0.58, 2.9, 2.85, 2.26, 0.47, 2.75, 1.92, 0.71, 2.15, 1.79, 1.67, 4.14, 10.57, 0.55, 2.05, 1.37, 0.42, 0.46, 1.38, 1.78, 0.5, 0.82, 1.18, 1.16, 1.32, 0.59, 1.13, 0.79, 2.31, 2.52, 1.12, 1.29, 1.62, 1.3, 1.02, 1.83, 0.88, 0.89, 1.21, 2.02, 0.77, 0.23, 7.53, 0.76, 0.65, 0.29, 1.03, 0.52, 0.78, 2.12, 1.63, 1.62, 0.29, 0.35, 0.98, 1.07, 0.82, 0.78, 0.15, 0.63, 0.73, 0.96, 1.38, 0.78, 0.5, 0.9, 0.23, 0.77, 0.41, 0.7, 0.85, 0.18, 1.26, 0.68, 0.08, 0.73, 0.43, 2.01, 0.71, 0.15, 0.91, 0.33, 0.23, 0.55, 0.08, 1.75, 0.64, 1.23, 1.37, 0.16, 0.31, 0.19, 0.43, 0.69, 0.69]}],                        {\"paper_bgcolor\": \"rgb(243, 243, 243)\", \"plot_bgcolor\": \"rgb(243, 243, 243)\", \"template\": {\"data\": {\"bar\": [{\"error_x\": {\"color\": \"#2a3f5f\"}, \"error_y\": {\"color\": \"#2a3f5f\"}, \"marker\": {\"line\": {\"color\": \"#E5ECF6\", \"width\": 0.5}}, \"type\": \"bar\"}], \"barpolar\": [{\"marker\": {\"line\": {\"color\": \"#E5ECF6\", \"width\": 0.5}}, \"type\": \"barpolar\"}], \"carpet\": [{\"aaxis\": {\"endlinecolor\": \"#2a3f5f\", \"gridcolor\": \"white\", \"linecolor\": \"white\", \"minorgridcolor\": \"white\", \"startlinecolor\": \"#2a3f5f\"}, \"baxis\": {\"endlinecolor\": \"#2a3f5f\", \"gridcolor\": \"white\", \"linecolor\": \"white\", \"minorgridcolor\": \"white\", \"startlinecolor\": \"#2a3f5f\"}, \"type\": \"carpet\"}], \"choropleth\": [{\"colorbar\": {\"outlinewidth\": 0, \"ticks\": \"\"}, \"type\": \"choropleth\"}], \"contour\": [{\"colorbar\": {\"outlinewidth\": 0, \"ticks\": \"\"}, \"colorscale\": [[0.0, \"#0d0887\"], [0.1111111111111111, \"#46039f\"], [0.2222222222222222, \"#7201a8\"], [0.3333333333333333, \"#9c179e\"], [0.4444444444444444, \"#bd3786\"], [0.5555555555555556, \"#d8576b\"], [0.6666666666666666, \"#ed7953\"], [0.7777777777777778, \"#fb9f3a\"], [0.8888888888888888, \"#fdca26\"], [1.0, \"#f0f921\"]], \"type\": \"contour\"}], \"contourcarpet\": [{\"colorbar\": {\"outlinewidth\": 0, \"ticks\": \"\"}, \"type\": \"contourcarpet\"}], \"heatmap\": [{\"colorbar\": {\"outlinewidth\": 0, \"ticks\": \"\"}, \"colorscale\": [[0.0, \"#0d0887\"], [0.1111111111111111, \"#46039f\"], [0.2222222222222222, \"#7201a8\"], [0.3333333333333333, \"#9c179e\"], [0.4444444444444444, \"#bd3786\"], [0.5555555555555556, \"#d8576b\"], [0.6666666666666666, \"#ed7953\"], [0.7777777777777778, \"#fb9f3a\"], [0.8888888888888888, \"#fdca26\"], [1.0, \"#f0f921\"]], \"type\": \"heatmap\"}], \"heatmapgl\": [{\"colorbar\": {\"outlinewidth\": 0, \"ticks\": \"\"}, \"colorscale\": [[0.0, \"#0d0887\"], [0.1111111111111111, \"#46039f\"], [0.2222222222222222, \"#7201a8\"], [0.3333333333333333, \"#9c179e\"], [0.4444444444444444, \"#bd3786\"], [0.5555555555555556, \"#d8576b\"], [0.6666666666666666, \"#ed7953\"], [0.7777777777777778, \"#fb9f3a\"], [0.8888888888888888, \"#fdca26\"], [1.0, \"#f0f921\"]], \"type\": \"heatmapgl\"}], \"histogram\": [{\"marker\": {\"colorbar\": {\"outlinewidth\": 0, \"ticks\": \"\"}}, \"type\": \"histogram\"}], \"histogram2d\": [{\"colorbar\": {\"outlinewidth\": 0, \"ticks\": \"\"}, \"colorscale\": [[0.0, \"#0d0887\"], [0.1111111111111111, \"#46039f\"], [0.2222222222222222, \"#7201a8\"], [0.3333333333333333, \"#9c179e\"], [0.4444444444444444, \"#bd3786\"], [0.5555555555555556, \"#d8576b\"], [0.6666666666666666, \"#ed7953\"], [0.7777777777777778, \"#fb9f3a\"], [0.8888888888888888, \"#fdca26\"], [1.0, \"#f0f921\"]], \"type\": \"histogram2d\"}], \"histogram2dcontour\": [{\"colorbar\": {\"outlinewidth\": 0, \"ticks\": \"\"}, \"colorscale\": [[0.0, \"#0d0887\"], [0.1111111111111111, \"#46039f\"], [0.2222222222222222, \"#7201a8\"], [0.3333333333333333, \"#9c179e\"], [0.4444444444444444, \"#bd3786\"], [0.5555555555555556, \"#d8576b\"], [0.6666666666666666, \"#ed7953\"], [0.7777777777777778, \"#fb9f3a\"], [0.8888888888888888, \"#fdca26\"], [1.0, \"#f0f921\"]], \"type\": \"histogram2dcontour\"}], \"mesh3d\": [{\"colorbar\": {\"outlinewidth\": 0, \"ticks\": \"\"}, \"type\": \"mesh3d\"}], \"parcoords\": [{\"line\": {\"colorbar\": {\"outlinewidth\": 0, \"ticks\": \"\"}}, \"type\": \"parcoords\"}], \"pie\": [{\"automargin\": true, \"type\": \"pie\"}], \"scatter\": [{\"marker\": {\"colorbar\": {\"outlinewidth\": 0, \"ticks\": \"\"}}, \"type\": \"scatter\"}], \"scatter3d\": [{\"line\": {\"colorbar\": {\"outlinewidth\": 0, \"ticks\": \"\"}}, \"marker\": {\"colorbar\": {\"outlinewidth\": 0, \"ticks\": \"\"}}, \"type\": \"scatter3d\"}], \"scattercarpet\": [{\"marker\": {\"colorbar\": {\"outlinewidth\": 0, \"ticks\": \"\"}}, \"type\": \"scattercarpet\"}], \"scattergeo\": [{\"marker\": {\"colorbar\": {\"outlinewidth\": 0, \"ticks\": \"\"}}, \"type\": \"scattergeo\"}], \"scattergl\": [{\"marker\": {\"colorbar\": {\"outlinewidth\": 0, \"ticks\": \"\"}}, \"type\": \"scattergl\"}], \"scattermapbox\": [{\"marker\": {\"colorbar\": {\"outlinewidth\": 0, \"ticks\": \"\"}}, \"type\": \"scattermapbox\"}], \"scatterpolar\": [{\"marker\": {\"colorbar\": {\"outlinewidth\": 0, \"ticks\": \"\"}}, \"type\": \"scatterpolar\"}], \"scatterpolargl\": [{\"marker\": {\"colorbar\": {\"outlinewidth\": 0, \"ticks\": \"\"}}, \"type\": \"scatterpolargl\"}], \"scatterternary\": [{\"marker\": {\"colorbar\": {\"outlinewidth\": 0, \"ticks\": \"\"}}, \"type\": \"scatterternary\"}], \"surface\": [{\"colorbar\": {\"outlinewidth\": 0, \"ticks\": \"\"}, \"colorscale\": [[0.0, \"#0d0887\"], [0.1111111111111111, \"#46039f\"], [0.2222222222222222, \"#7201a8\"], [0.3333333333333333, \"#9c179e\"], [0.4444444444444444, \"#bd3786\"], [0.5555555555555556, \"#d8576b\"], [0.6666666666666666, \"#ed7953\"], [0.7777777777777778, \"#fb9f3a\"], [0.8888888888888888, \"#fdca26\"], [1.0, \"#f0f921\"]], \"type\": \"surface\"}], \"table\": [{\"cells\": {\"fill\": {\"color\": \"#EBF0F8\"}, \"line\": {\"color\": \"white\"}}, \"header\": {\"fill\": {\"color\": \"#C8D4E3\"}, \"line\": {\"color\": \"white\"}}, \"type\": \"table\"}]}, \"layout\": {\"annotationdefaults\": {\"arrowcolor\": \"#2a3f5f\", \"arrowhead\": 0, \"arrowwidth\": 1}, \"coloraxis\": {\"colorbar\": {\"outlinewidth\": 0, \"ticks\": \"\"}}, \"colorscale\": {\"diverging\": [[0, \"#8e0152\"], [0.1, \"#c51b7d\"], [0.2, \"#de77ae\"], [0.3, \"#f1b6da\"], [0.4, \"#fde0ef\"], [0.5, \"#f7f7f7\"], [0.6, \"#e6f5d0\"], [0.7, \"#b8e186\"], [0.8, \"#7fbc41\"], [0.9, \"#4d9221\"], [1, \"#276419\"]], \"sequential\": [[0.0, \"#0d0887\"], [0.1111111111111111, \"#46039f\"], [0.2222222222222222, \"#7201a8\"], [0.3333333333333333, \"#9c179e\"], [0.4444444444444444, \"#bd3786\"], [0.5555555555555556, \"#d8576b\"], [0.6666666666666666, \"#ed7953\"], [0.7777777777777778, \"#fb9f3a\"], [0.8888888888888888, \"#fdca26\"], [1.0, \"#f0f921\"]], \"sequentialminus\": [[0.0, \"#0d0887\"], [0.1111111111111111, \"#46039f\"], [0.2222222222222222, \"#7201a8\"], [0.3333333333333333, \"#9c179e\"], [0.4444444444444444, \"#bd3786\"], [0.5555555555555556, \"#d8576b\"], [0.6666666666666666, \"#ed7953\"], [0.7777777777777778, \"#fb9f3a\"], [0.8888888888888888, \"#fdca26\"], [1.0, \"#f0f921\"]]}, \"colorway\": [\"#636efa\", \"#EF553B\", \"#00cc96\", \"#ab63fa\", \"#FFA15A\", \"#19d3f3\", \"#FF6692\", \"#B6E880\", \"#FF97FF\", \"#FECB52\"], \"font\": {\"color\": \"#2a3f5f\"}, \"geo\": {\"bgcolor\": \"white\", \"lakecolor\": \"white\", \"landcolor\": \"#E5ECF6\", \"showlakes\": true, \"showland\": true, \"subunitcolor\": \"white\"}, \"hoverlabel\": {\"align\": \"left\"}, \"hovermode\": \"closest\", \"mapbox\": {\"style\": \"light\"}, \"paper_bgcolor\": \"white\", \"plot_bgcolor\": \"#E5ECF6\", \"polar\": {\"angularaxis\": {\"gridcolor\": \"white\", \"linecolor\": \"white\", \"ticks\": \"\"}, \"bgcolor\": \"#E5ECF6\", \"radialaxis\": {\"gridcolor\": \"white\", \"linecolor\": \"white\", \"ticks\": \"\"}}, \"scene\": {\"xaxis\": {\"backgroundcolor\": \"#E5ECF6\", \"gridcolor\": \"white\", \"gridwidth\": 2, \"linecolor\": \"white\", \"showbackground\": true, \"ticks\": \"\", \"zerolinecolor\": \"white\"}, \"yaxis\": {\"backgroundcolor\": \"#E5ECF6\", \"gridcolor\": \"white\", \"gridwidth\": 2, \"linecolor\": \"white\", \"showbackground\": true, \"ticks\": \"\", \"zerolinecolor\": \"white\"}, \"zaxis\": {\"backgroundcolor\": \"#E5ECF6\", \"gridcolor\": \"white\", \"gridwidth\": 2, \"linecolor\": \"white\", \"showbackground\": true, \"ticks\": \"\", \"zerolinecolor\": \"white\"}}, \"shapedefaults\": {\"line\": {\"color\": \"#2a3f5f\"}}, \"ternary\": {\"aaxis\": {\"gridcolor\": \"white\", \"linecolor\": \"white\", \"ticks\": \"\"}, \"baxis\": {\"gridcolor\": \"white\", \"linecolor\": \"white\", \"ticks\": \"\"}, \"bgcolor\": \"#E5ECF6\", \"caxis\": {\"gridcolor\": \"white\", \"linecolor\": \"white\", \"ticks\": \"\"}}, \"title\": {\"x\": 0.05}, \"xaxis\": {\"automargin\": true, \"gridcolor\": \"white\", \"linecolor\": \"white\", \"ticks\": \"\", \"title\": {\"standoff\": 15}, \"zerolinecolor\": \"white\", \"zerolinewidth\": 2}, \"yaxis\": {\"automargin\": true, \"gridcolor\": \"white\", \"linecolor\": \"white\", \"ticks\": \"\", \"title\": {\"standoff\": 15}, \"zerolinecolor\": \"white\", \"zerolinewidth\": 2}}}, \"title\": {\"text\": \"North America, Europe, Japan and Other Sales of top 100 videogames\"}, \"xaxis\": {\"gridcolor\": \"white\", \"ticklen\": 5, \"title\": {\"text\": \"Rank\"}, \"zeroline\": false, \"zerolinewidth\": 1}, \"yaxis\": {\"gridcolor\": \"white\", \"ticklen\": 5, \"title\": {\"text\": \"Sales (In millions)\"}, \"zeroline\": false, \"zerolinewidth\": 1}},                        {\"responsive\": true}                    ).then(function(){\n",
       "                            \n",
       "var gd = document.getElementById('cdc0aacf-9139-4db6-96c3-be4b0504572d');\n",
       "var x = new MutationObserver(function (mutations, observer) {{\n",
       "        var display = window.getComputedStyle(gd).display;\n",
       "        if (!display || display === 'none') {{\n",
       "            console.log([gd, 'removed!']);\n",
       "            Plotly.purge(gd);\n",
       "            observer.disconnect();\n",
       "        }}\n",
       "}});\n",
       "\n",
       "// Listen for the removal of the full notebook cells\n",
       "var notebookContainer = gd.closest('#notebook-container');\n",
       "if (notebookContainer) {{\n",
       "    x.observe(notebookContainer, {childList: true});\n",
       "}}\n",
       "\n",
       "// Listen for the clearing of the current output cell\n",
       "var outputEl = gd.closest('.output');\n",
       "if (outputEl) {{\n",
       "    x.observe(outputEl, {childList: true});\n",
       "}}\n",
       "\n",
       "                        })                };                });            </script>        </div>"
      ]
     },
     "metadata": {},
     "output_type": "display_data"
    }
   ],
   "source": [
    "trace1 = go.Scatter(x = df.Rank,\n",
    "                    y = df.NA_Sales,\n",
    "                    mode = \"markers\",\n",
    "                    name = \"North America\",\n",
    "                    marker = dict(color = 'rgba(28, 149, 249, 0.8)',size=8),\n",
    "                    text = df.Name)\n",
    "trace2 = go.Scatter(x = df.Rank,\n",
    "                    y = df.EU_Sales,\n",
    "                    mode = \"markers\",\n",
    "                    name = \"Europe\",\n",
    "                    marker = dict(color = 'rgba(249, 94, 28, 0.8)',size=8),\n",
    "                    text = df.Name)\n",
    "trace3 = go.Scatter(x = df.Rank,\n",
    "                    y = df.JP_Sales,\n",
    "                    mode = \"markers\",\n",
    "                    name = \"Japan\",\n",
    "                    marker = dict(color = 'rgba(150, 26, 80, 0.8)',size=8),\n",
    "                    text = df.Name)\n",
    "trace4 = go.Scatter(x = df.Rank,\n",
    "                    y = df.Other_Sales,\n",
    "                    mode = \"markers\",\n",
    "                    name = \"Other\",\n",
    "                    marker = dict(color = 'lime',size=8),\n",
    "                    text = df.Name)\n",
    "data = [trace1, trace2, trace3, trace4]\n",
    "layout = dict(title = 'North America, Europe, Japan and Other Sales of top 100 videogames',\n",
    "              xaxis = dict(title='Rank', ticklen=5, zeroline=False, zerolinewidth=1, gridcolor=\"white\"),\n",
    "              yaxis = dict(title='Sales (In millions)', ticklen=5, zeroline=False, zerolinewidth=1, gridcolor=\"white\"),\n",
    "              paper_bgcolor = 'rgb(243, 243, 243)',\n",
    "              plot_bgcolor = 'rgb(243, 243, 243)')\n",
    "iplot(dict(data = data, layout = layout))"
   ]
  },
  {
   "cell_type": "markdown",
   "metadata": {
    "slideshow": {
     "slide_type": "slide"
    }
   },
   "source": [
    "### Another bar chart\n",
    "\n",
    "#### (Now with the proportion of genres in each region)"
   ]
  },
  {
   "cell_type": "code",
   "execution_count": 57,
   "metadata": {
    "slideshow": {
     "slide_type": "subslide"
    }
   },
   "outputs": [
    {
     "data": {
      "application/vnd.plotly.v1+json": {
       "config": {
        "linkText": "Export to plot.ly",
        "plotlyServerURL": "https://plot.ly",
        "showLink": false
       },
       "data": [
        {
         "marker": {
          "color": "rgb(158,202,225)",
          "line": {
           "color": "rgb(8,48,107)",
           "width": 3
          }
         },
         "name": "North America",
         "opacity": 0.75,
         "type": "bar",
         "x": [
          "Action",
          "Adventure",
          "Fighting",
          "Misc",
          "Platform",
          "Puzzle",
          "Racing",
          "Role-Playing",
          "Shooter",
          "Simulation",
          "Sports",
          "Strategy"
         ],
         "xaxis": "x2",
         "y": [
          50.365629657013166,
          44.45474855625316,
          49.879788787776775,
          50.69548337640204,
          53.81164837815031,
          50.53276178811996,
          49.16347207009858,
          35.40089292503567,
          56.43526468135186,
          46.751123825092364,
          51.56609664749744,
          39.279578513343274
         ],
         "yaxis": "y2"
        },
        {
         "marker": {
          "color": "red",
          "line": {
           "color": "rgb(8,48,107)",
           "width": 3
          }
         },
         "name": "Europe",
         "opacity": 0.75,
         "type": "bar",
         "x": [
          "Action",
          "Adventure",
          "Fighting",
          "Misc",
          "Platform",
          "Puzzle",
          "Racing",
          "Role-Playing",
          "Shooter",
          "Simulation",
          "Sports",
          "Strategy"
         ],
         "xaxis": "x2",
         "y": [
          29.957372087381163,
          26.86843991063509,
          22.50758341759361,
          26.69296109002361,
          24.208368503557313,
          20.730761379873393,
          32.482201533406574,
          20.28851689713996,
          29.98282882794467,
          28.93594196975909,
          28.06970896355761,
          25.781697400068687
         ],
         "yaxis": "y2"
        },
        {
         "marker": {
          "color": "orange",
          "line": {
           "color": "rgb(8,48,107)",
           "width": 3
          }
         },
         "name": "Japan",
         "opacity": 0.75,
         "type": "bar",
         "x": [
          "Action",
          "Adventure",
          "Fighting",
          "Misc",
          "Platform",
          "Puzzle",
          "Racing",
          "Role-Playing",
          "Shooter",
          "Simulation",
          "Sports",
          "Strategy"
         ],
         "xaxis": "x2",
         "y": [
          8.903919688550731,
          21.54027736795515,
          19.483204134366993,
          13.223457263319366,
          15.755456409019718,
          23.39661155337818,
          7.760131434830278,
          37.87218788359386,
          3.696217436098734,
          16.193297915815386,
          10.224639718003962,
          28.295727866223746
         ],
         "yaxis": "y2"
        },
        {
         "marker": {
          "color": "purple",
          "line": {
           "color": "rgb(8,48,107)",
           "width": 3
          }
         },
         "name": "Other",
         "opacity": 0.75,
         "type": "bar",
         "x": [
          "Action",
          "Adventure",
          "Fighting",
          "Misc",
          "Platform",
          "Puzzle",
          "Racing",
          "Role-Playing",
          "Shooter",
          "Simulation",
          "Sports",
          "Strategy"
         ],
         "xaxis": "x2",
         "y": [
          10.717627623811568,
          7.039581840408006,
          8.138411414447825,
          9.308967717207423,
          6.1835282768599935,
          5.123494590732766,
          10.553121577218178,
          6.427539459248109,
          9.838590982681795,
          8.045565999182791,
          10.107647778292597,
          6.482648035734684
         ],
         "yaxis": "y2"
        },
        {
         "cells": {
          "align": [
           "left",
           "center"
          ],
          "fill": {
           "color": [
            "silver",
            "rgb(158,202,225)",
            "darksalmon",
            "gold",
            "mediumorchid",
            "yellowgreen"
           ]
          },
          "font": {
           "color": "#506784",
           "size": 12
          },
          "height": 30,
          "line": {
           "color": "rgb(8,48,107)",
           "width": 3
          },
          "values": [
           [
            "Action",
            "Adventure",
            "Fighting",
            "Misc",
            "Platform",
            "Puzzle",
            "Racing",
            "Role-Playing",
            "Shooter",
            "Simulation",
            "Sports",
            "Strategy"
           ],
           [
            872,
            105,
            222,
            410,
            446,
            124,
            359,
            326,
            575,
            183,
            679,
            69
           ],
           [
            519,
            64,
            100,
            216,
            201,
            51,
            237,
            187,
            306,
            113,
            369,
            45
           ],
           [
            154,
            51,
            87,
            107,
            131,
            57,
            57,
            349,
            38,
            63,
            135,
            49
           ],
           [
            186,
            17,
            36,
            75,
            51,
            13,
            77,
            59,
            100,
            32,
            133,
            11
           ],
           [
            1731,
            237,
            445,
            809,
            829,
            245,
            730,
            921,
            1019,
            392,
            1316,
            175
           ]
          ]
         },
         "domain": {
          "x": [
           0.6,
           1
          ],
          "y": [
           0,
           0.95
          ]
         },
         "header": {
          "align": [
           "left",
           "center"
          ],
          "fill": {
           "color": [
            "darkslateblue",
            "blue",
            "red",
            "orange",
            "purple",
            "green"
           ]
          },
          "font": {
           "color": "white",
           "size": 12
          },
          "height": 30,
          "line": {
           "color": "rgb(8,48,107)",
           "width": 3
          },
          "values": [
           "Genre",
           "North America",
           "Europe",
           "Japan",
           "Other",
           "Total"
          ]
         },
         "type": "table"
        }
       ],
       "layout": {
        "annotations": [
         {
          "bgcolor": "lightyellow",
          "borderwidth": 5,
          "font": {
           "family": "Courier New, monospace",
           "size": 15
          },
          "showarrow": false,
          "text": "Sales Percentage According to Region",
          "x": 0.08,
          "xref": "paper",
          "y": 1.02,
          "yref": "paper"
         },
         {
          "bgcolor": "lightyellow",
          "borderwidth": 5,
          "font": {
           "family": "Courier New, monospace",
           "size": 15
          },
          "showarrow": false,
          "text": "Total Sales(In Millions)",
          "x": 0.9,
          "xref": "paper",
          "y": 1.02,
          "yref": "paper"
         }
        ],
        "autosize": false,
        "barmode": "stack",
        "height": 650,
        "legend": {
         "bgcolor": "beige",
         "bordercolor": "beige",
         "borderwidth": 1,
         "font": {
          "color": "#000",
          "family": "Courier New, monospace",
          "size": 11
         },
         "orientation": "h",
         "x": 0.58,
         "y": 0
        },
        "paper_bgcolor": "beige",
        "plot_bgcolor": "beige",
        "template": {
         "data": {
          "bar": [
           {
            "error_x": {
             "color": "#2a3f5f"
            },
            "error_y": {
             "color": "#2a3f5f"
            },
            "marker": {
             "line": {
              "color": "#E5ECF6",
              "width": 0.5
             }
            },
            "type": "bar"
           }
          ],
          "barpolar": [
           {
            "marker": {
             "line": {
              "color": "#E5ECF6",
              "width": 0.5
             }
            },
            "type": "barpolar"
           }
          ],
          "carpet": [
           {
            "aaxis": {
             "endlinecolor": "#2a3f5f",
             "gridcolor": "white",
             "linecolor": "white",
             "minorgridcolor": "white",
             "startlinecolor": "#2a3f5f"
            },
            "baxis": {
             "endlinecolor": "#2a3f5f",
             "gridcolor": "white",
             "linecolor": "white",
             "minorgridcolor": "white",
             "startlinecolor": "#2a3f5f"
            },
            "type": "carpet"
           }
          ],
          "choropleth": [
           {
            "colorbar": {
             "outlinewidth": 0,
             "ticks": ""
            },
            "type": "choropleth"
           }
          ],
          "contour": [
           {
            "colorbar": {
             "outlinewidth": 0,
             "ticks": ""
            },
            "colorscale": [
             [
              0,
              "#0d0887"
             ],
             [
              0.1111111111111111,
              "#46039f"
             ],
             [
              0.2222222222222222,
              "#7201a8"
             ],
             [
              0.3333333333333333,
              "#9c179e"
             ],
             [
              0.4444444444444444,
              "#bd3786"
             ],
             [
              0.5555555555555556,
              "#d8576b"
             ],
             [
              0.6666666666666666,
              "#ed7953"
             ],
             [
              0.7777777777777778,
              "#fb9f3a"
             ],
             [
              0.8888888888888888,
              "#fdca26"
             ],
             [
              1,
              "#f0f921"
             ]
            ],
            "type": "contour"
           }
          ],
          "contourcarpet": [
           {
            "colorbar": {
             "outlinewidth": 0,
             "ticks": ""
            },
            "type": "contourcarpet"
           }
          ],
          "heatmap": [
           {
            "colorbar": {
             "outlinewidth": 0,
             "ticks": ""
            },
            "colorscale": [
             [
              0,
              "#0d0887"
             ],
             [
              0.1111111111111111,
              "#46039f"
             ],
             [
              0.2222222222222222,
              "#7201a8"
             ],
             [
              0.3333333333333333,
              "#9c179e"
             ],
             [
              0.4444444444444444,
              "#bd3786"
             ],
             [
              0.5555555555555556,
              "#d8576b"
             ],
             [
              0.6666666666666666,
              "#ed7953"
             ],
             [
              0.7777777777777778,
              "#fb9f3a"
             ],
             [
              0.8888888888888888,
              "#fdca26"
             ],
             [
              1,
              "#f0f921"
             ]
            ],
            "type": "heatmap"
           }
          ],
          "heatmapgl": [
           {
            "colorbar": {
             "outlinewidth": 0,
             "ticks": ""
            },
            "colorscale": [
             [
              0,
              "#0d0887"
             ],
             [
              0.1111111111111111,
              "#46039f"
             ],
             [
              0.2222222222222222,
              "#7201a8"
             ],
             [
              0.3333333333333333,
              "#9c179e"
             ],
             [
              0.4444444444444444,
              "#bd3786"
             ],
             [
              0.5555555555555556,
              "#d8576b"
             ],
             [
              0.6666666666666666,
              "#ed7953"
             ],
             [
              0.7777777777777778,
              "#fb9f3a"
             ],
             [
              0.8888888888888888,
              "#fdca26"
             ],
             [
              1,
              "#f0f921"
             ]
            ],
            "type": "heatmapgl"
           }
          ],
          "histogram": [
           {
            "marker": {
             "colorbar": {
              "outlinewidth": 0,
              "ticks": ""
             }
            },
            "type": "histogram"
           }
          ],
          "histogram2d": [
           {
            "colorbar": {
             "outlinewidth": 0,
             "ticks": ""
            },
            "colorscale": [
             [
              0,
              "#0d0887"
             ],
             [
              0.1111111111111111,
              "#46039f"
             ],
             [
              0.2222222222222222,
              "#7201a8"
             ],
             [
              0.3333333333333333,
              "#9c179e"
             ],
             [
              0.4444444444444444,
              "#bd3786"
             ],
             [
              0.5555555555555556,
              "#d8576b"
             ],
             [
              0.6666666666666666,
              "#ed7953"
             ],
             [
              0.7777777777777778,
              "#fb9f3a"
             ],
             [
              0.8888888888888888,
              "#fdca26"
             ],
             [
              1,
              "#f0f921"
             ]
            ],
            "type": "histogram2d"
           }
          ],
          "histogram2dcontour": [
           {
            "colorbar": {
             "outlinewidth": 0,
             "ticks": ""
            },
            "colorscale": [
             [
              0,
              "#0d0887"
             ],
             [
              0.1111111111111111,
              "#46039f"
             ],
             [
              0.2222222222222222,
              "#7201a8"
             ],
             [
              0.3333333333333333,
              "#9c179e"
             ],
             [
              0.4444444444444444,
              "#bd3786"
             ],
             [
              0.5555555555555556,
              "#d8576b"
             ],
             [
              0.6666666666666666,
              "#ed7953"
             ],
             [
              0.7777777777777778,
              "#fb9f3a"
             ],
             [
              0.8888888888888888,
              "#fdca26"
             ],
             [
              1,
              "#f0f921"
             ]
            ],
            "type": "histogram2dcontour"
           }
          ],
          "mesh3d": [
           {
            "colorbar": {
             "outlinewidth": 0,
             "ticks": ""
            },
            "type": "mesh3d"
           }
          ],
          "parcoords": [
           {
            "line": {
             "colorbar": {
              "outlinewidth": 0,
              "ticks": ""
             }
            },
            "type": "parcoords"
           }
          ],
          "pie": [
           {
            "automargin": true,
            "type": "pie"
           }
          ],
          "scatter": [
           {
            "marker": {
             "colorbar": {
              "outlinewidth": 0,
              "ticks": ""
             }
            },
            "type": "scatter"
           }
          ],
          "scatter3d": [
           {
            "line": {
             "colorbar": {
              "outlinewidth": 0,
              "ticks": ""
             }
            },
            "marker": {
             "colorbar": {
              "outlinewidth": 0,
              "ticks": ""
             }
            },
            "type": "scatter3d"
           }
          ],
          "scattercarpet": [
           {
            "marker": {
             "colorbar": {
              "outlinewidth": 0,
              "ticks": ""
             }
            },
            "type": "scattercarpet"
           }
          ],
          "scattergeo": [
           {
            "marker": {
             "colorbar": {
              "outlinewidth": 0,
              "ticks": ""
             }
            },
            "type": "scattergeo"
           }
          ],
          "scattergl": [
           {
            "marker": {
             "colorbar": {
              "outlinewidth": 0,
              "ticks": ""
             }
            },
            "type": "scattergl"
           }
          ],
          "scattermapbox": [
           {
            "marker": {
             "colorbar": {
              "outlinewidth": 0,
              "ticks": ""
             }
            },
            "type": "scattermapbox"
           }
          ],
          "scatterpolar": [
           {
            "marker": {
             "colorbar": {
              "outlinewidth": 0,
              "ticks": ""
             }
            },
            "type": "scatterpolar"
           }
          ],
          "scatterpolargl": [
           {
            "marker": {
             "colorbar": {
              "outlinewidth": 0,
              "ticks": ""
             }
            },
            "type": "scatterpolargl"
           }
          ],
          "scatterternary": [
           {
            "marker": {
             "colorbar": {
              "outlinewidth": 0,
              "ticks": ""
             }
            },
            "type": "scatterternary"
           }
          ],
          "surface": [
           {
            "colorbar": {
             "outlinewidth": 0,
             "ticks": ""
            },
            "colorscale": [
             [
              0,
              "#0d0887"
             ],
             [
              0.1111111111111111,
              "#46039f"
             ],
             [
              0.2222222222222222,
              "#7201a8"
             ],
             [
              0.3333333333333333,
              "#9c179e"
             ],
             [
              0.4444444444444444,
              "#bd3786"
             ],
             [
              0.5555555555555556,
              "#d8576b"
             ],
             [
              0.6666666666666666,
              "#ed7953"
             ],
             [
              0.7777777777777778,
              "#fb9f3a"
             ],
             [
              0.8888888888888888,
              "#fdca26"
             ],
             [
              1,
              "#f0f921"
             ]
            ],
            "type": "surface"
           }
          ],
          "table": [
           {
            "cells": {
             "fill": {
              "color": "#EBF0F8"
             },
             "line": {
              "color": "white"
             }
            },
            "header": {
             "fill": {
              "color": "#C8D4E3"
             },
             "line": {
              "color": "white"
             }
            },
            "type": "table"
           }
          ]
         },
         "layout": {
          "annotationdefaults": {
           "arrowcolor": "#2a3f5f",
           "arrowhead": 0,
           "arrowwidth": 1
          },
          "coloraxis": {
           "colorbar": {
            "outlinewidth": 0,
            "ticks": ""
           }
          },
          "colorscale": {
           "diverging": [
            [
             0,
             "#8e0152"
            ],
            [
             0.1,
             "#c51b7d"
            ],
            [
             0.2,
             "#de77ae"
            ],
            [
             0.3,
             "#f1b6da"
            ],
            [
             0.4,
             "#fde0ef"
            ],
            [
             0.5,
             "#f7f7f7"
            ],
            [
             0.6,
             "#e6f5d0"
            ],
            [
             0.7,
             "#b8e186"
            ],
            [
             0.8,
             "#7fbc41"
            ],
            [
             0.9,
             "#4d9221"
            ],
            [
             1,
             "#276419"
            ]
           ],
           "sequential": [
            [
             0,
             "#0d0887"
            ],
            [
             0.1111111111111111,
             "#46039f"
            ],
            [
             0.2222222222222222,
             "#7201a8"
            ],
            [
             0.3333333333333333,
             "#9c179e"
            ],
            [
             0.4444444444444444,
             "#bd3786"
            ],
            [
             0.5555555555555556,
             "#d8576b"
            ],
            [
             0.6666666666666666,
             "#ed7953"
            ],
            [
             0.7777777777777778,
             "#fb9f3a"
            ],
            [
             0.8888888888888888,
             "#fdca26"
            ],
            [
             1,
             "#f0f921"
            ]
           ],
           "sequentialminus": [
            [
             0,
             "#0d0887"
            ],
            [
             0.1111111111111111,
             "#46039f"
            ],
            [
             0.2222222222222222,
             "#7201a8"
            ],
            [
             0.3333333333333333,
             "#9c179e"
            ],
            [
             0.4444444444444444,
             "#bd3786"
            ],
            [
             0.5555555555555556,
             "#d8576b"
            ],
            [
             0.6666666666666666,
             "#ed7953"
            ],
            [
             0.7777777777777778,
             "#fb9f3a"
            ],
            [
             0.8888888888888888,
             "#fdca26"
            ],
            [
             1,
             "#f0f921"
            ]
           ]
          },
          "colorway": [
           "#636efa",
           "#EF553B",
           "#00cc96",
           "#ab63fa",
           "#FFA15A",
           "#19d3f3",
           "#FF6692",
           "#B6E880",
           "#FF97FF",
           "#FECB52"
          ],
          "font": {
           "color": "#2a3f5f"
          },
          "geo": {
           "bgcolor": "white",
           "lakecolor": "white",
           "landcolor": "#E5ECF6",
           "showlakes": true,
           "showland": true,
           "subunitcolor": "white"
          },
          "hoverlabel": {
           "align": "left"
          },
          "hovermode": "closest",
          "mapbox": {
           "style": "light"
          },
          "paper_bgcolor": "white",
          "plot_bgcolor": "#E5ECF6",
          "polar": {
           "angularaxis": {
            "gridcolor": "white",
            "linecolor": "white",
            "ticks": ""
           },
           "bgcolor": "#E5ECF6",
           "radialaxis": {
            "gridcolor": "white",
            "linecolor": "white",
            "ticks": ""
           }
          },
          "scene": {
           "xaxis": {
            "backgroundcolor": "#E5ECF6",
            "gridcolor": "white",
            "gridwidth": 2,
            "linecolor": "white",
            "showbackground": true,
            "ticks": "",
            "zerolinecolor": "white"
           },
           "yaxis": {
            "backgroundcolor": "#E5ECF6",
            "gridcolor": "white",
            "gridwidth": 2,
            "linecolor": "white",
            "showbackground": true,
            "ticks": "",
            "zerolinecolor": "white"
           },
           "zaxis": {
            "backgroundcolor": "#E5ECF6",
            "gridcolor": "white",
            "gridwidth": 2,
            "linecolor": "white",
            "showbackground": true,
            "ticks": "",
            "zerolinecolor": "white"
           }
          },
          "shapedefaults": {
           "line": {
            "color": "#2a3f5f"
           }
          },
          "ternary": {
           "aaxis": {
            "gridcolor": "white",
            "linecolor": "white",
            "ticks": ""
           },
           "baxis": {
            "gridcolor": "white",
            "linecolor": "white",
            "ticks": ""
           },
           "bgcolor": "#E5ECF6",
           "caxis": {
            "gridcolor": "white",
            "linecolor": "white",
            "ticks": ""
           }
          },
          "title": {
           "x": 0.05
          },
          "xaxis": {
           "automargin": true,
           "gridcolor": "white",
           "linecolor": "white",
           "ticks": "",
           "title": {
            "standoff": 15
           },
           "zerolinecolor": "white",
           "zerolinewidth": 2
          },
          "yaxis": {
           "automargin": true,
           "gridcolor": "white",
           "linecolor": "white",
           "ticks": "",
           "title": {
            "standoff": 15
           },
           "zerolinecolor": "white",
           "zerolinewidth": 2
          }
         }
        },
        "title": {
         "font": {
          "color": "black",
          "family": "Courier New, monospace",
          "size": 17
         },
         "text": "North America, Europe, Japan and Other Sales Percentage and Amounts According to Genre"
        },
        "width": 1200,
        "xaxis2": {
         "anchor": "y2",
         "domain": [
          0,
          0.5
         ],
         "tickfont": {
          "family": "Courier New, monospace"
         },
         "title": {
          "font": {
           "family": "Courier New, monospace"
          },
          "text": "Genre"
         }
        },
        "yaxis2": {
         "anchor": "x2",
         "domain": [
          0,
          1
         ],
         "tickfont": {
          "family": "Courier New, monospace"
         },
         "title": {
          "font": {
           "family": "Courier New, monospace"
          },
          "text": "Total Percentage"
         }
        }
       }
      },
      "text/html": [
       "<div>                            <div id=\"942f7d79-fc86-480a-a61c-ebdeb17176de\" class=\"plotly-graph-div\" style=\"height:650px; width:1200px;\"></div>            <script type=\"text/javascript\">                require([\"plotly\"], function(Plotly) {                    window.PLOTLYENV=window.PLOTLYENV || {};                                    if (document.getElementById(\"942f7d79-fc86-480a-a61c-ebdeb17176de\")) {                    Plotly.newPlot(                        \"942f7d79-fc86-480a-a61c-ebdeb17176de\",                        [{\"marker\": {\"color\": \"rgb(158,202,225)\", \"line\": {\"color\": \"rgb(8,48,107)\", \"width\": 3}}, \"name\": \"North America\", \"opacity\": 0.75, \"type\": \"bar\", \"x\": [\"Action\", \"Adventure\", \"Fighting\", \"Misc\", \"Platform\", \"Puzzle\", \"Racing\", \"Role-Playing\", \"Shooter\", \"Simulation\", \"Sports\", \"Strategy\"], \"xaxis\": \"x2\", \"y\": [50.365629657013166, 44.45474855625316, 49.879788787776775, 50.69548337640204, 53.81164837815031, 50.53276178811996, 49.16347207009858, 35.40089292503567, 56.43526468135186, 46.751123825092364, 51.56609664749744, 39.279578513343274], \"yaxis\": \"y2\"}, {\"marker\": {\"color\": \"red\", \"line\": {\"color\": \"rgb(8,48,107)\", \"width\": 3}}, \"name\": \"Europe\", \"opacity\": 0.75, \"type\": \"bar\", \"x\": [\"Action\", \"Adventure\", \"Fighting\", \"Misc\", \"Platform\", \"Puzzle\", \"Racing\", \"Role-Playing\", \"Shooter\", \"Simulation\", \"Sports\", \"Strategy\"], \"xaxis\": \"x2\", \"y\": [29.957372087381163, 26.86843991063509, 22.50758341759361, 26.69296109002361, 24.208368503557313, 20.730761379873393, 32.482201533406574, 20.28851689713996, 29.98282882794467, 28.93594196975909, 28.06970896355761, 25.781697400068687], \"yaxis\": \"y2\"}, {\"marker\": {\"color\": \"orange\", \"line\": {\"color\": \"rgb(8,48,107)\", \"width\": 3}}, \"name\": \"Japan\", \"opacity\": 0.75, \"type\": \"bar\", \"x\": [\"Action\", \"Adventure\", \"Fighting\", \"Misc\", \"Platform\", \"Puzzle\", \"Racing\", \"Role-Playing\", \"Shooter\", \"Simulation\", \"Sports\", \"Strategy\"], \"xaxis\": \"x2\", \"y\": [8.903919688550731, 21.54027736795515, 19.483204134366993, 13.223457263319366, 15.755456409019718, 23.39661155337818, 7.760131434830278, 37.87218788359386, 3.696217436098734, 16.193297915815386, 10.224639718003962, 28.295727866223746], \"yaxis\": \"y2\"}, {\"marker\": {\"color\": \"purple\", \"line\": {\"color\": \"rgb(8,48,107)\", \"width\": 3}}, \"name\": \"Other\", \"opacity\": 0.75, \"type\": \"bar\", \"x\": [\"Action\", \"Adventure\", \"Fighting\", \"Misc\", \"Platform\", \"Puzzle\", \"Racing\", \"Role-Playing\", \"Shooter\", \"Simulation\", \"Sports\", \"Strategy\"], \"xaxis\": \"x2\", \"y\": [10.717627623811568, 7.039581840408006, 8.138411414447825, 9.308967717207423, 6.1835282768599935, 5.123494590732766, 10.553121577218178, 6.427539459248109, 9.838590982681795, 8.045565999182791, 10.107647778292597, 6.482648035734684], \"yaxis\": \"y2\"}, {\"cells\": {\"align\": [\"left\", \"center\"], \"fill\": {\"color\": [\"silver\", \"rgb(158,202,225)\", \"darksalmon\", \"gold\", \"mediumorchid\", \"yellowgreen\"]}, \"font\": {\"color\": \"#506784\", \"size\": 12}, \"height\": 30, \"line\": {\"color\": \"rgb(8,48,107)\", \"width\": 3}, \"values\": [[\"Action\", \"Adventure\", \"Fighting\", \"Misc\", \"Platform\", \"Puzzle\", \"Racing\", \"Role-Playing\", \"Shooter\", \"Simulation\", \"Sports\", \"Strategy\"], [872.0, 105.0, 222.0, 410.0, 446.0, 124.0, 359.0, 326.0, 575.0, 183.0, 679.0, 69.0], [519.0, 64.0, 100.0, 216.0, 201.0, 51.0, 237.0, 187.0, 306.0, 113.0, 369.0, 45.0], [154.0, 51.0, 87.0, 107.0, 131.0, 57.0, 57.0, 349.0, 38.0, 63.0, 135.0, 49.0], [186.0, 17.0, 36.0, 75.0, 51.0, 13.0, 77.0, 59.0, 100.0, 32.0, 133.0, 11.0], [1731.0, 237.0, 445.0, 809.0, 829.0, 245.0, 730.0, 921.0, 1019.0, 392.0, 1316.0, 175.0]]}, \"domain\": {\"x\": [0.6, 1], \"y\": [0, 0.95]}, \"header\": {\"align\": [\"left\", \"center\"], \"fill\": {\"color\": [\"darkslateblue\", \"blue\", \"red\", \"orange\", \"purple\", \"green\"]}, \"font\": {\"color\": \"white\", \"size\": 12}, \"height\": 30, \"line\": {\"color\": \"rgb(8,48,107)\", \"width\": 3}, \"values\": [\"Genre\", \"North America\", \"Europe\", \"Japan\", \"Other\", \"Total\"]}, \"type\": \"table\"}],                        {\"annotations\": [{\"bgcolor\": \"lightyellow\", \"borderwidth\": 5, \"font\": {\"family\": \"Courier New, monospace\", \"size\": 15}, \"showarrow\": false, \"text\": \"Sales Percentage According to Region\", \"x\": 0.08, \"xref\": \"paper\", \"y\": 1.02, \"yref\": \"paper\"}, {\"bgcolor\": \"lightyellow\", \"borderwidth\": 5, \"font\": {\"family\": \"Courier New, monospace\", \"size\": 15}, \"showarrow\": false, \"text\": \"Total Sales(In Millions)\", \"x\": 0.9, \"xref\": \"paper\", \"y\": 1.02, \"yref\": \"paper\"}], \"autosize\": false, \"barmode\": \"stack\", \"height\": 650, \"legend\": {\"bgcolor\": \"beige\", \"bordercolor\": \"beige\", \"borderwidth\": 1, \"font\": {\"color\": \"#000\", \"family\": \"Courier New, monospace\", \"size\": 11}, \"orientation\": \"h\", \"x\": 0.58, \"y\": 0}, \"paper_bgcolor\": \"beige\", \"plot_bgcolor\": \"beige\", \"template\": {\"data\": {\"bar\": [{\"error_x\": {\"color\": \"#2a3f5f\"}, \"error_y\": {\"color\": \"#2a3f5f\"}, \"marker\": {\"line\": {\"color\": \"#E5ECF6\", \"width\": 0.5}}, \"type\": \"bar\"}], \"barpolar\": [{\"marker\": {\"line\": {\"color\": \"#E5ECF6\", \"width\": 0.5}}, \"type\": \"barpolar\"}], \"carpet\": [{\"aaxis\": {\"endlinecolor\": \"#2a3f5f\", \"gridcolor\": \"white\", \"linecolor\": \"white\", \"minorgridcolor\": \"white\", \"startlinecolor\": \"#2a3f5f\"}, \"baxis\": {\"endlinecolor\": \"#2a3f5f\", \"gridcolor\": \"white\", \"linecolor\": \"white\", \"minorgridcolor\": \"white\", \"startlinecolor\": \"#2a3f5f\"}, \"type\": \"carpet\"}], \"choropleth\": [{\"colorbar\": {\"outlinewidth\": 0, \"ticks\": \"\"}, \"type\": \"choropleth\"}], \"contour\": [{\"colorbar\": {\"outlinewidth\": 0, \"ticks\": \"\"}, \"colorscale\": [[0.0, \"#0d0887\"], [0.1111111111111111, \"#46039f\"], [0.2222222222222222, \"#7201a8\"], [0.3333333333333333, \"#9c179e\"], [0.4444444444444444, \"#bd3786\"], [0.5555555555555556, \"#d8576b\"], [0.6666666666666666, \"#ed7953\"], [0.7777777777777778, \"#fb9f3a\"], [0.8888888888888888, \"#fdca26\"], [1.0, \"#f0f921\"]], \"type\": \"contour\"}], \"contourcarpet\": [{\"colorbar\": {\"outlinewidth\": 0, \"ticks\": \"\"}, \"type\": \"contourcarpet\"}], \"heatmap\": [{\"colorbar\": {\"outlinewidth\": 0, \"ticks\": \"\"}, \"colorscale\": [[0.0, \"#0d0887\"], [0.1111111111111111, \"#46039f\"], [0.2222222222222222, \"#7201a8\"], [0.3333333333333333, \"#9c179e\"], [0.4444444444444444, \"#bd3786\"], [0.5555555555555556, \"#d8576b\"], [0.6666666666666666, \"#ed7953\"], [0.7777777777777778, \"#fb9f3a\"], [0.8888888888888888, \"#fdca26\"], [1.0, \"#f0f921\"]], \"type\": \"heatmap\"}], \"heatmapgl\": [{\"colorbar\": {\"outlinewidth\": 0, \"ticks\": \"\"}, \"colorscale\": [[0.0, \"#0d0887\"], [0.1111111111111111, \"#46039f\"], [0.2222222222222222, \"#7201a8\"], [0.3333333333333333, \"#9c179e\"], [0.4444444444444444, \"#bd3786\"], [0.5555555555555556, \"#d8576b\"], [0.6666666666666666, \"#ed7953\"], [0.7777777777777778, \"#fb9f3a\"], [0.8888888888888888, \"#fdca26\"], [1.0, \"#f0f921\"]], \"type\": \"heatmapgl\"}], \"histogram\": [{\"marker\": {\"colorbar\": {\"outlinewidth\": 0, \"ticks\": \"\"}}, \"type\": \"histogram\"}], \"histogram2d\": [{\"colorbar\": {\"outlinewidth\": 0, \"ticks\": \"\"}, \"colorscale\": [[0.0, \"#0d0887\"], [0.1111111111111111, \"#46039f\"], [0.2222222222222222, \"#7201a8\"], [0.3333333333333333, \"#9c179e\"], [0.4444444444444444, \"#bd3786\"], [0.5555555555555556, \"#d8576b\"], [0.6666666666666666, \"#ed7953\"], [0.7777777777777778, \"#fb9f3a\"], [0.8888888888888888, \"#fdca26\"], [1.0, \"#f0f921\"]], \"type\": \"histogram2d\"}], \"histogram2dcontour\": [{\"colorbar\": {\"outlinewidth\": 0, \"ticks\": \"\"}, \"colorscale\": [[0.0, \"#0d0887\"], [0.1111111111111111, \"#46039f\"], [0.2222222222222222, \"#7201a8\"], [0.3333333333333333, \"#9c179e\"], [0.4444444444444444, \"#bd3786\"], [0.5555555555555556, \"#d8576b\"], [0.6666666666666666, \"#ed7953\"], [0.7777777777777778, \"#fb9f3a\"], [0.8888888888888888, \"#fdca26\"], [1.0, \"#f0f921\"]], \"type\": \"histogram2dcontour\"}], \"mesh3d\": [{\"colorbar\": {\"outlinewidth\": 0, \"ticks\": \"\"}, \"type\": \"mesh3d\"}], \"parcoords\": [{\"line\": {\"colorbar\": {\"outlinewidth\": 0, \"ticks\": \"\"}}, \"type\": \"parcoords\"}], \"pie\": [{\"automargin\": true, \"type\": \"pie\"}], \"scatter\": [{\"marker\": {\"colorbar\": {\"outlinewidth\": 0, \"ticks\": \"\"}}, \"type\": \"scatter\"}], \"scatter3d\": [{\"line\": {\"colorbar\": {\"outlinewidth\": 0, \"ticks\": \"\"}}, \"marker\": {\"colorbar\": {\"outlinewidth\": 0, \"ticks\": \"\"}}, \"type\": \"scatter3d\"}], \"scattercarpet\": [{\"marker\": {\"colorbar\": {\"outlinewidth\": 0, \"ticks\": \"\"}}, \"type\": \"scattercarpet\"}], \"scattergeo\": [{\"marker\": {\"colorbar\": {\"outlinewidth\": 0, \"ticks\": \"\"}}, \"type\": \"scattergeo\"}], \"scattergl\": [{\"marker\": {\"colorbar\": {\"outlinewidth\": 0, \"ticks\": \"\"}}, \"type\": \"scattergl\"}], \"scattermapbox\": [{\"marker\": {\"colorbar\": {\"outlinewidth\": 0, \"ticks\": \"\"}}, \"type\": \"scattermapbox\"}], \"scatterpolar\": [{\"marker\": {\"colorbar\": {\"outlinewidth\": 0, \"ticks\": \"\"}}, \"type\": \"scatterpolar\"}], \"scatterpolargl\": [{\"marker\": {\"colorbar\": {\"outlinewidth\": 0, \"ticks\": \"\"}}, \"type\": \"scatterpolargl\"}], \"scatterternary\": [{\"marker\": {\"colorbar\": {\"outlinewidth\": 0, \"ticks\": \"\"}}, \"type\": \"scatterternary\"}], \"surface\": [{\"colorbar\": {\"outlinewidth\": 0, \"ticks\": \"\"}, \"colorscale\": [[0.0, \"#0d0887\"], [0.1111111111111111, \"#46039f\"], [0.2222222222222222, \"#7201a8\"], [0.3333333333333333, \"#9c179e\"], [0.4444444444444444, \"#bd3786\"], [0.5555555555555556, \"#d8576b\"], [0.6666666666666666, \"#ed7953\"], [0.7777777777777778, \"#fb9f3a\"], [0.8888888888888888, \"#fdca26\"], [1.0, \"#f0f921\"]], \"type\": \"surface\"}], \"table\": [{\"cells\": {\"fill\": {\"color\": \"#EBF0F8\"}, \"line\": {\"color\": \"white\"}}, \"header\": {\"fill\": {\"color\": \"#C8D4E3\"}, \"line\": {\"color\": \"white\"}}, \"type\": \"table\"}]}, \"layout\": {\"annotationdefaults\": {\"arrowcolor\": \"#2a3f5f\", \"arrowhead\": 0, \"arrowwidth\": 1}, \"coloraxis\": {\"colorbar\": {\"outlinewidth\": 0, \"ticks\": \"\"}}, \"colorscale\": {\"diverging\": [[0, \"#8e0152\"], [0.1, \"#c51b7d\"], [0.2, \"#de77ae\"], [0.3, \"#f1b6da\"], [0.4, \"#fde0ef\"], [0.5, \"#f7f7f7\"], [0.6, \"#e6f5d0\"], [0.7, \"#b8e186\"], [0.8, \"#7fbc41\"], [0.9, \"#4d9221\"], [1, \"#276419\"]], \"sequential\": [[0.0, \"#0d0887\"], [0.1111111111111111, \"#46039f\"], [0.2222222222222222, \"#7201a8\"], [0.3333333333333333, \"#9c179e\"], [0.4444444444444444, \"#bd3786\"], [0.5555555555555556, \"#d8576b\"], [0.6666666666666666, \"#ed7953\"], [0.7777777777777778, \"#fb9f3a\"], [0.8888888888888888, \"#fdca26\"], [1.0, \"#f0f921\"]], \"sequentialminus\": [[0.0, \"#0d0887\"], [0.1111111111111111, \"#46039f\"], [0.2222222222222222, \"#7201a8\"], [0.3333333333333333, \"#9c179e\"], [0.4444444444444444, \"#bd3786\"], [0.5555555555555556, \"#d8576b\"], [0.6666666666666666, \"#ed7953\"], [0.7777777777777778, \"#fb9f3a\"], [0.8888888888888888, \"#fdca26\"], [1.0, \"#f0f921\"]]}, \"colorway\": [\"#636efa\", \"#EF553B\", \"#00cc96\", \"#ab63fa\", \"#FFA15A\", \"#19d3f3\", \"#FF6692\", \"#B6E880\", \"#FF97FF\", \"#FECB52\"], \"font\": {\"color\": \"#2a3f5f\"}, \"geo\": {\"bgcolor\": \"white\", \"lakecolor\": \"white\", \"landcolor\": \"#E5ECF6\", \"showlakes\": true, \"showland\": true, \"subunitcolor\": \"white\"}, \"hoverlabel\": {\"align\": \"left\"}, \"hovermode\": \"closest\", \"mapbox\": {\"style\": \"light\"}, \"paper_bgcolor\": \"white\", \"plot_bgcolor\": \"#E5ECF6\", \"polar\": {\"angularaxis\": {\"gridcolor\": \"white\", \"linecolor\": \"white\", \"ticks\": \"\"}, \"bgcolor\": \"#E5ECF6\", \"radialaxis\": {\"gridcolor\": \"white\", \"linecolor\": \"white\", \"ticks\": \"\"}}, \"scene\": {\"xaxis\": {\"backgroundcolor\": \"#E5ECF6\", \"gridcolor\": \"white\", \"gridwidth\": 2, \"linecolor\": \"white\", \"showbackground\": true, \"ticks\": \"\", \"zerolinecolor\": \"white\"}, \"yaxis\": {\"backgroundcolor\": \"#E5ECF6\", \"gridcolor\": \"white\", \"gridwidth\": 2, \"linecolor\": \"white\", \"showbackground\": true, \"ticks\": \"\", \"zerolinecolor\": \"white\"}, \"zaxis\": {\"backgroundcolor\": \"#E5ECF6\", \"gridcolor\": \"white\", \"gridwidth\": 2, \"linecolor\": \"white\", \"showbackground\": true, \"ticks\": \"\", \"zerolinecolor\": \"white\"}}, \"shapedefaults\": {\"line\": {\"color\": \"#2a3f5f\"}}, \"ternary\": {\"aaxis\": {\"gridcolor\": \"white\", \"linecolor\": \"white\", \"ticks\": \"\"}, \"baxis\": {\"gridcolor\": \"white\", \"linecolor\": \"white\", \"ticks\": \"\"}, \"bgcolor\": \"#E5ECF6\", \"caxis\": {\"gridcolor\": \"white\", \"linecolor\": \"white\", \"ticks\": \"\"}}, \"title\": {\"x\": 0.05}, \"xaxis\": {\"automargin\": true, \"gridcolor\": \"white\", \"linecolor\": \"white\", \"ticks\": \"\", \"title\": {\"standoff\": 15}, \"zerolinecolor\": \"white\", \"zerolinewidth\": 2}, \"yaxis\": {\"automargin\": true, \"gridcolor\": \"white\", \"linecolor\": \"white\", \"ticks\": \"\", \"title\": {\"standoff\": 15}, \"zerolinecolor\": \"white\", \"zerolinewidth\": 2}}}, \"title\": {\"font\": {\"color\": \"black\", \"family\": \"Courier New, monospace\", \"size\": 17}, \"text\": \"North America, Europe, Japan and Other Sales Percentage and Amounts According to Genre\"}, \"width\": 1200, \"xaxis2\": {\"anchor\": \"y2\", \"domain\": [0, 0.5], \"tickfont\": {\"family\": \"Courier New, monospace\"}, \"title\": {\"font\": {\"family\": \"Courier New, monospace\"}, \"text\": \"Genre\"}}, \"yaxis2\": {\"anchor\": \"x2\", \"domain\": [0, 1], \"tickfont\": {\"family\": \"Courier New, monospace\"}, \"title\": {\"font\": {\"family\": \"Courier New, monospace\"}, \"text\": \"Total Percentage\"}}},                        {\"responsive\": true}                    ).then(function(){\n",
       "                            \n",
       "var gd = document.getElementById('942f7d79-fc86-480a-a61c-ebdeb17176de');\n",
       "var x = new MutationObserver(function (mutations, observer) {{\n",
       "        var display = window.getComputedStyle(gd).display;\n",
       "        if (!display || display === 'none') {{\n",
       "            console.log([gd, 'removed!']);\n",
       "            Plotly.purge(gd);\n",
       "            observer.disconnect();\n",
       "        }}\n",
       "}});\n",
       "\n",
       "// Listen for the removal of the full notebook cells\n",
       "var notebookContainer = gd.closest('#notebook-container');\n",
       "if (notebookContainer) {{\n",
       "    x.observe(notebookContainer, {childList: true});\n",
       "}}\n",
       "\n",
       "// Listen for the clearing of the current output cell\n",
       "var outputEl = gd.closest('.output');\n",
       "if (outputEl) {{\n",
       "    x.observe(outputEl, {childList: true});\n",
       "}}\n",
       "\n",
       "                        })                };                });            </script>        </div>"
      ]
     },
     "metadata": {},
     "output_type": "display_data"
    }
   ],
   "source": [
    "genre=pd.DataFrame(dataframe.groupby(\"Genre\")[[\"NA_Sales\",\"EU_Sales\",\"JP_Sales\",\"Other_Sales\",\"Global_Sales\"]].sum())\n",
    "genre.reset_index(level=0, inplace=True)\n",
    "genrecount=pd.DataFrame(dataframe[\"Genre\"].value_counts())\n",
    "genrecount.reset_index(level=0, inplace=True)\n",
    "genrecount.rename(columns={\"Genre\": \"Counts\",\"index\":\"Genre\"}, inplace=True)\n",
    "genre=pd.merge(genre,genrecount,on=\"Genre\")\n",
    "\n",
    "table_data=genre[[\"Genre\",\"NA_Sales\",\"EU_Sales\",\"JP_Sales\",\"Other_Sales\",\"Global_Sales\"]]\n",
    "table_data = table_data.rename(columns = {\"NA_Sales\": \"North America\", \n",
    "                                  \"EU_Sales\":\"Europe\", \n",
    "                                  \"JP_Sales\": \"Japan\",\"Other_Sales\":\"Other\",\"Global_Sales\":\"Total\"})\n",
    "\n",
    "x=genre.Genre\n",
    "NA_Perce=list(genre[\"NA_Sales\"]/genre[\"Global_Sales\"]*100)\n",
    "EU_Perce=list(genre[\"EU_Sales\"]/genre[\"Global_Sales\"]*100)\n",
    "JP_Perce=list(genre[\"JP_Sales\"]/genre[\"Global_Sales\"]*100)\n",
    "Other_Perce=list(genre[\"Other_Sales\"]/genre[\"Global_Sales\"]*100)\n",
    "\n",
    "trace1 = go.Bar(\n",
    "    x=x,\n",
    "    y=NA_Perce,\n",
    "    name=\"North America\" ,\n",
    "    xaxis='x2', yaxis='y2',\n",
    "    marker=dict(\n",
    "        color='rgb(158,202,225)',\n",
    "        line=dict(\n",
    "            color='rgb(8,48,107)',\n",
    "            width=3),\n",
    "        ),\n",
    "    opacity=0.75)\n",
    "trace2 = go.Bar(\n",
    "    x=x,\n",
    "    y=EU_Perce,\n",
    "    xaxis='x2', yaxis='y2',\n",
    "    marker=dict(\n",
    "        color='red',\n",
    "        line=dict(\n",
    "            color='rgb(8,48,107)',\n",
    "            width=3),\n",
    "        ),\n",
    "    opacity=0.75,\n",
    "    name = \"Europe\",\n",
    "    )\n",
    "trace3 = go.Bar(\n",
    "    x=x,\n",
    "    y=JP_Perce,\n",
    "    xaxis='x2', yaxis='y2',\n",
    "  \n",
    "    marker=dict(\n",
    "        color='orange',\n",
    "        line=dict(\n",
    "            color='rgb(8,48,107)',\n",
    "            width=3),\n",
    "        ),\n",
    "    opacity=0.75,\n",
    "    name = \"Japan\",\n",
    "    )\n",
    "trace4 = go.Bar(\n",
    "    x=x,\n",
    "    y=Other_Perce,\n",
    "    xaxis='x2', yaxis='y2',\n",
    "    \n",
    "    marker=dict(\n",
    "        color='purple',\n",
    "        line=dict(\n",
    "            color='rgb(8,48,107)',\n",
    "            width=3),\n",
    "        ),\n",
    "    opacity=0.75,\n",
    "    name = \"Other\",)\n",
    "trace5=go.Table(\n",
    "  header = dict(\n",
    "    values = table_data.columns,\n",
    "    line = dict(color = 'rgb(8,48,107)',width=3),\n",
    "    fill = dict(color = [\"darkslateblue\",\"blue\",\"red\", \"orange\",\"purple\",\"green\"]),\n",
    "    align = ['left','center'],\n",
    "    font = dict(color = 'white', size = 12),\n",
    "     height=30,\n",
    "  ),\n",
    "  cells = dict(\n",
    "    values = [table_data.Genre,round(table_data[\"North America\"]),round(table_data[\"Europe\"]), round(table_data[\"Japan\"]), round(table_data[\"Other\"]),round(table_data[\"Total\"])],\n",
    "    height=30,\n",
    "    line = dict(color = 'rgb(8,48,107)',width=3),\n",
    "    fill = dict(color = [\"silver\",\"rgb(158,202,225)\",\"darksalmon\", \"gold\",\"mediumorchid\",\"yellowgreen\"]),\n",
    "    align = ['left', 'center'],\n",
    "    font = dict(color = '#506784', size = 12)),\n",
    "    domain=dict(x=[0.60,1],y=[0,0.95]),\n",
    ")\n",
    "\n",
    "data = [trace1, trace2,trace3,trace4,trace5]\n",
    "layout = go.Layout(barmode='stack',autosize=False,width=1200,height=650,\n",
    "                legend=dict(x=.58, y=0,orientation=\"h\",font=dict(family='Courier New, monospace',size=11,color='#000'),\n",
    "                           bgcolor='beige', bordercolor='beige', borderwidth=1),\n",
    "                title='North America, Europe, Japan and Other Sales Percentage and Amounts According to Genre',\n",
    "                titlefont=dict(family='Courier New, monospace',size=17,color='black'),\n",
    "                xaxis2=dict(domain=[0, 0.50],anchor=\"y2\", title='Genre',titlefont=dict(family='Courier New, monospace'),tickfont=dict(family='Courier New, monospace')), yaxis2=dict( domain=[0, 1],anchor='x2',title=\"Total Percentage\",titlefont=dict(family='Courier New, monospace'),tickfont=dict(family='Courier New, monospace')),\n",
    "                paper_bgcolor='beige',plot_bgcolor='beige',\n",
    "                annotations=[ dict( text='Sales Percentage According to Region',x=0.08,y=1.02,xref=\"paper\",yref=\"paper\",showarrow=False,font=dict(size=15,family=\"Courier New, monospace\"),bgcolor=\"lightyellow\",borderwidth=5),dict( text='Total Sales(In Millions)',x=0.9,y=1.02,xref=\"paper\",yref=\"paper\",showarrow=False,font=dict(size=15,family='Courier New, monospace'),bgcolor=\"lightyellow\",borderwidth=5)],\n",
    "                  )\n",
    "iplot(go.Figure(data=data, layout=layout))"
   ]
  },
  {
   "cell_type": "markdown",
   "metadata": {
    "slideshow": {
     "slide_type": "slide"
    }
   },
   "source": [
    "### Now with extra dimensions!\n",
    "\n",
    "#### We can create a 3D visualization data by Rank, Publisher and Release year."
   ]
  },
  {
   "cell_type": "code",
   "execution_count": 48,
   "metadata": {
    "slideshow": {
     "slide_type": "subslide"
    }
   },
   "outputs": [
    {
     "data": {
      "application/vnd.plotly.v1+json": {
       "config": {
        "linkText": "Export to plot.ly",
        "plotlyServerURL": "https://plot.ly",
        "showLink": false
       },
       "data": [
        {
         "marker": {
          "color": [
           1,
           0.47524385726632923,
           0.4206692184220274,
           0.38585010495122857,
           0.3657241634769725,
           0.35201876774910484,
           0.348931966909495,
           0.3367082355846401,
           0.3317693542412644,
           0.3279417212001482,
           0.28410914927768866,
           0.26756389677737996,
           0.26361279170267937,
           0.2589208544264724,
           0.25003086800839613,
           0.24780837140387704,
           0.2426225459933325,
           0.2353376960118533,
           0.23286825534016545,
           0.22805284603037412,
           0.205087047783677,
           0.20237066304482038,
           0.19175206815656257,
           0.18063958513396716,
           0.1777997283615261,
           0.17409556735399434,
           0.1675515495740215,
           0.16730460550685272,
           0.16335350043215213,
           0.16063711569329547,
           0.15915545129028277,
           0.15915545129028277,
           0.15557476231633535,
           0.15421656994690705,
           0.15162365724163476,
           0.147919496234103,
           0.14520311149524634,
           0.14458575132732437,
           0.14014075811828622,
           0.13939992591677985,
           0.13557229287566366,
           0.12989257933078158,
           0.12915174712927524,
           0.12828744289418448,
           0.12631189035683418,
           0.12532411408815905,
           0.12520064205457465,
           0.12236078528213361,
           0.1206321768119521,
           0.11828620817384863,
           0.11643412767008272,
           0.11445857513273244,
           0.11359427089764168,
           0.11161871836029139,
           0.11137177429312262,
           0.11038399802444747,
           0.10890233362143475,
           0.10865538955426597,
           0.10791455735275961,
           0.10705025311766886,
           0.10507470058031856,
           0.10445734041239661,
           0.10038276330411164,
           0.10025929127052723,
           0.09964193110260527,
           0.09890109890109891,
           0.09840721076676134,
           0.09680207433016422,
           0.09593777009507347,
           0.0955673539943203,
           0.09346832942338561,
           0.09322138535621684,
           0.09198666502037288,
           0.09062847265094456,
           0.08976416841585382,
           0.08754167181133474,
           0.08655389554265959,
           0.08322015063588098,
           0.08322015063588098,
           0.08322015063588098,
           0.08235584640079023,
           0.08124459809853068,
           0.08013334979627115,
           0.07852821335967403,
           0.07828126929250526,
           0.07791085319175207,
           0.07778738115816769,
           0.07544141252006421,
           0.07519446845289542,
           0.07482405235214223,
           0.0737128040498827,
           0.07334238794912953,
           0.07309544388196074,
           0.07223113964686999,
           0.07223113964686999,
           0.0719841955797012,
           0.07050253117668849,
           0.07037905914310409,
           0.06939128287442894,
           0.06902086677367576,
           0.06865045067292258,
           0.0685269786393382,
           0.06815656253858501,
           0.06766267440424745,
           0.06729225830349427,
           0.0667983701691567,
           0.06642795406840352,
           0.06568712186689715,
           0.06432892949746882,
           0.06432892949746882,
           0.06420545746388444,
           0.06371156932954686,
           0.06358809729596247,
           0.06358809729596247,
           0.06272379306087172,
           0.06272379306087172,
           0.06260032102728733,
           0.06247684899370293,
           0.06185948882578096,
           0.061489072725027794,
           0.06136560069144339,
           0.06099518459069022,
           0.06074824052352142,
           0.05988393628843067,
           0.05976046425484628,
           0.05976046425484628,
           0.0593900481540931,
           0.058772687986171135,
           0.05864921595258674,
           0.05778491171749599,
           0.057537967650327204,
           0.05741449561674281,
           0.057291023583158414,
           0.056920607482405246,
           0.05667366341523645,
           0.056303247314483267,
           0.056179775280898875,
           0.0559328312137301,
           0.05580935918014569,
           0.055438943079392525,
           0.055438943079392525,
           0.05383380664279541,
           0.05309297444128905,
           0.052846030374120265,
           0.052846030374120265,
           0.052846030374120265,
           0.0523521422397827,
           0.051858254105445124,
           0.05148783800469194,
           0.050500061736016795,
           0.0503765897024324,
           0.05025311766884801,
           0.049265341400172864,
           0.049018397333004074,
           0.04815409309791333,
           0.04728978886282258,
           0.047166316829238185,
           0.046919372762069395,
           0.046919372762069395,
           0.04667242869490061,
           0.04642548462773182,
           0.04630201259414743,
           0.04617854056056304,
           0.04593159649339425,
           0.045808124459809856,
           0.045684652426225464,
           0.045437708359056674,
           0.04531423632547228,
           0.04531423632547228,
           0.04457340412396593,
           0.044326460056797135,
           0.04395604395604395,
           0.04383257192245956,
           0.04383257192245956,
           0.043709099888875176,
           0.04346215582170638,
           0.04346215582170638,
           0.04333868378812199,
           0.04309173972095321,
           0.04296826768736882,
           0.04272132362020003,
           0.04259785158661564,
           0.04259785158661564,
           0.042474379553031245,
           0.042474379553031245,
           0.04235090751944685,
           0.042227435485862455,
           0.04198049141869367,
           0.04198049141869367,
           0.04185701938510927,
           0.04173354735152488,
           0.04173354735152488,
           0.04173354735152488,
           0.04173354735152488,
           0.04161007531794049,
           0.04161007531794049,
           0.0414866032843561,
           0.041116187183602916,
           0.041116187183602916,
           0.041116187183602916,
           0.040992715150018524,
           0.040745771082849734,
           0.04037535498209655,
           0.04037535498209655,
           0.04025188294851216,
           0.04012841091492777,
           0.04012841091492777,
           0.03988146684775899,
           0.039634522780590195,
           0.039634522780590195,
           0.03938757871342142,
           0.03901716261266824,
           0.038893690579083845,
           0.038646746511915055,
           0.03852327447833066,
           0.03827633041116187,
           0.03815285837757748,
           0.03802938634399309,
           0.03802938634399309,
           0.0379059143104087,
           0.037535498209655516,
           0.037165082108902334,
           0.03679466600814916,
           0.03642424990739598,
           0.036177305840227186,
           0.036177305840227186,
           0.036053833806642795,
           0.03568341770588961,
           0.03555994567230522,
           0.035436473638720836,
           0.035313001605136445,
           0.03518952957155204,
           0.03494258550438326,
           0.03494258550438326,
           0.03481911347079887,
           0.03457216940363008,
           0.0343252253364613,
           0.0343252253364613,
           0.033954809235708115,
           0.033831337202123724,
           0.03370786516853933,
           0.03358439313495493,
           0.03358439313495493,
           0.03333744906778615,
           0.03333744906778615,
           0.03321397703420176,
           0.03296703296703297,
           0.032843560933448576,
           0.032596616866279786,
           0.032596616866279786,
           0.032473144832695394,
           0.032349672799111,
           0.03210272873194221,
           0.03197925669835782,
           0.03185578466477343,
           0.03160884059760464,
           0.03160884059760464,
           0.03160884059760464,
           0.03160884059760464,
           0.030991480429682677,
           0.030868008396098285,
           0.030868008396098285,
           0.030744536362513897,
           0.030744536362513897,
           0.030621064328929505,
           0.030497592295345103,
           0.03037412026176071,
           0.03037412026176071,
           0.03037412026176071,
           0.030250648228176323,
           0.030250648228176323,
           0.03012717619459193,
           0.03012717619459193,
           0.03012717619459193,
           0.02988023212742314,
           0.02975676009383875,
           0.02975676009383875,
           0.029509816026669956,
           0.029509816026669956,
           0.029262871959501176,
           0.029262871959501176,
           0.029139399925916784,
           0.029015927892332385,
           0.029015927892332385,
           0.029015927892332385,
           0.028892455858747994,
           0.028892455858747994,
           0.028768983825163602,
           0.028645511791579214,
           0.028522039757994812,
           0.028522039757994812,
           0.02839856772441042,
           0.02839856772441042,
           0.02815162365724164,
           0.02815162365724164,
           0.028028151623657238,
           0.027904679590072846,
           0.027904679590072846,
           0.027781207556488458,
           0.027657735522904067,
           0.02753426348931967,
           0.02679343128781331,
           0.02679343128781331,
           0.02666995925422892,
           0.026546487220644524,
           0.026423015187060132,
           0.026423015187060132,
           0.026299543153475737,
           0.026299543153475737,
           0.02617607111989135,
           0.02617607111989135,
           0.02617607111989135,
           0.025929127052722562,
           0.025929127052722562,
           0.025805655019138164,
           0.025805655019138164,
           0.025682182985553775,
           0.025682182985553775,
           0.02555871095196938,
           0.02543523891838499,
           0.0251882948512162,
           0.025064822817631807,
           0.025064822817631807,
           0.024941350784047415,
           0.024941350784047415,
           0.02481787875046302,
           0.02481787875046302,
           0.02481787875046302,
           0.02444746264970984,
           0.02444746264970984,
           0.024323990616125453,
           0.024200518582541054,
           0.024077046548956666,
           0.024077046548956666,
           0.023953574515372267,
           0.023953574515372267,
           0.023706630448203484,
           0.023706630448203484,
           0.023583158414619092,
           0.023459686381034697,
           0.023459686381034697,
           0.023459686381034697,
           0.023336214347450306,
           0.023336214347450306,
           0.02321274231386591,
           0.02321274231386591,
           0.02321274231386591,
           0.02321274231386591,
           0.02308927028028152,
           0.022965798246697124,
           0.022965798246697124,
           0.022965798246697124,
           0.022965798246697124,
           0.022842326213112732,
           0.022718854179528337,
           0.022595382145943945,
           0.022348438078775158,
           0.02210149401160637,
           0.02210149401160637,
           0.02210149401160637,
           0.021978021978021976,
           0.021978021978021976,
           0.021978021978021976,
           0.021978021978021976,
           0.021854549944437588,
           0.021854549944437588,
           0.021854549944437588,
           0.021854549944437588,
           0.02173107791085319,
           0.02173107791085319,
           0.0216076058772688,
           0.0216076058772688,
           0.0216076058772688,
           0.0216076058772688,
           0.02148413384368441,
           0.02148413384368441,
           0.021360661810100014,
           0.021360661810100014,
           0.021113717742931228,
           0.020990245709346836,
           0.02086677367576244,
           0.02086677367576244,
           0.02086677367576244,
           0.02074330164217805,
           0.020619829608593654,
           0.020619829608593654,
           0.020619829608593654,
           0.020496357575009262,
           0.020496357575009262,
           0.020372885541424867,
           0.020249413507840475,
           0.02012594147425608,
           0.02012594147425608,
           0.02012594147425608,
           0.019878997407087293,
           0.019878997407087293,
           0.019878997407087293,
           0.019632053339918507,
           0.019632053339918507,
           0.01950858130633412,
           0.01950858130633412,
           0.01950858130633412,
           0.01938510927274972,
           0.01938510927274972,
           0.01926163723916533,
           0.01889122113841215,
           0.01889122113841215,
           0.01889122113841215,
           0.018767749104827758,
           0.018767749104827758,
           0.018767749104827758,
           0.018644277071243363,
           0.01839733300407458,
           0.018273860970490184,
           0.018273860970490184,
           0.018150388936905796,
           0.018150388936905796,
           0.018026916903321397,
           0.01790344486973701,
           0.01790344486973701,
           0.01790344486973701,
           0.01777997283615261,
           0.01777997283615261,
           0.01777997283615261,
           0.01777997283615261,
           0.017656500802568222,
           0.017656500802568222,
           0.017533028768983827,
           0.017533028768983827,
           0.017533028768983827,
           0.017533028768983827,
           0.017409556735399435,
           0.01728608470181504,
           0.01728608470181504,
           0.01728608470181504,
           0.01728608470181504,
           0.01728608470181504,
           0.01716261266823065,
           0.017039140634646253,
           0.016915668601061862,
           0.016915668601061862,
           0.016915668601061862,
           0.016915668601061862,
           0.016915668601061862,
           0.016915668601061862,
           0.016792196567477467,
           0.016792196567477467,
           0.01654525250030868,
           0.016421780466724288,
           0.016421780466724288,
           0.016298308433139893,
           0.016298308433139893,
           0.016298308433139893,
           0.016298308433139893,
           0.016298308433139893,
           0.016051364365971106,
           0.015927892332386714,
           0.015927892332386714,
           0.01580442029880232,
           0.01580442029880232,
           0.01568094826521793,
           0.01568094826521793,
           0.01568094826521793,
           0.01568094826521793,
           0.015434004198049142,
           0.015434004198049142,
           0.015434004198049142,
           0.015434004198049142,
           0.015310532164464753,
           0.015310532164464753,
           0.015310532164464753,
           0.015310532164464753,
           0.015310532164464753,
           0.015187060130880356,
           0.015063588097295966,
           0.015063588097295966,
           0.015063588097295966,
           0.01494011606371157,
           0.01494011606371157,
           0.01494011606371157,
           0.014816644030127179,
           0.014693171996542784,
           0.014693171996542784,
           0.014693171996542784,
           0.014693171996542784,
           0.014693171996542784,
           0.014569699962958392,
           0.014446227929373997,
           0.014322755895789607,
           0.014322755895789607,
           0.01419928386220521,
           0.01419928386220521,
           0.01419928386220521,
           0.01419928386220521,
           0.01419928386220521,
           0.01407581182862082,
           0.01407581182862082,
           0.01407581182862082,
           0.013952339795036423,
           0.013952339795036423,
           0.013952339795036423,
           0.013828867761452033,
           0.013705395727867638,
           0.013705395727867638,
           0.013705395727867638,
           0.013581923694283246,
           0.013581923694283246,
           0.013581923694283246,
           0.013581923694283246,
           0.013581923694283246,
           0.013581923694283246,
           0.013458451660698851,
           0.01333497962711446,
           0.01333497962711446,
           0.01333497962711446,
           0.01333497962711446,
           0.013211507593530064,
           0.013211507593530064,
           0.013088035559945674,
           0.013088035559945674,
           0.013088035559945674,
           0.012964563526361278,
           0.012964563526361278,
           0.012964563526361278,
           0.012841091492776888,
           0.012841091492776888,
           0.012841091492776888,
           0.012841091492776888,
           0.012841091492776888,
           0.012841091492776888,
           0.012841091492776888,
           0.012841091492776888,
           0.012841091492776888,
           0.012841091492776888,
           0.01271761945919249,
           0.01271761945919249,
           0.01271761945919249,
           0.01271761945919249,
           0.0125941474256081,
           0.0125941474256081,
           0.0125941474256081,
           0.012470675392023704,
           0.012347203358439314,
           0.012223731324854924,
           0.012100259291270527,
           0.012100259291270527,
           0.011976787257686137,
           0.011853315224101742,
           0.01172984319051735,
           0.01172984319051735,
           0.01172984319051735,
           0.01172984319051735,
           0.011606371156932955,
           0.011606371156932955,
           0.011606371156932955,
           0.011606371156932955,
           0.011482899123348564,
           0.011482899123348564,
           0.011482899123348564,
           0.011482899123348564,
           0.011482899123348564,
           0.011359427089764168,
           0.011359427089764168,
           0.011359427089764168,
           0.011359427089764168,
           0.011235955056179778,
           0.011112483022595382,
           0.011112483022595382,
           0.011112483022595382,
           0.011112483022595382,
           0.011112483022595382,
           0.011112483022595382,
           0.010989010989010992,
           0.010865538955426595,
           0.010865538955426595,
           0.010865538955426595,
           0.010865538955426595,
           0.010742066921842205,
           0.010742066921842205,
           0.010742066921842205,
           0.010742066921842205,
           0.010742066921842205,
           0.010618594888257808,
           0.010618594888257808,
           0.010495122854673418,
           0.010495122854673418,
           0.010371650821089023,
           0.010371650821089023,
           0.010371650821089023,
           0.010248178787504631,
           0.010248178787504631,
           0.010248178787504631,
           0.010248178787504631,
           0.010248178787504631,
           0.010124706753920236,
           0.010124706753920236,
           0.010124706753920236,
           0.010124706753920236,
           0.010001234720335846,
           0.010001234720335846,
           0.010001234720335846,
           0.00975429065316706,
           0.00975429065316706,
           0.00975429065316706,
           0.009630818619582662,
           0.009507346585998272,
           0.009507346585998272,
           0.009507346585998272,
           0.009507346585998272,
           0.009383874552413875,
           0.009260402518829485,
           0.009260402518829485,
           0.009260402518829485,
           0.009136930485245096,
           0.009136930485245096,
           0.009136930485245096,
           0.009136930485245096,
           0.009013458451660699,
           0.009013458451660699,
           0.009013458451660699,
           0.009013458451660699,
           0.009013458451660699,
           0.008889986418076309,
           0.008889986418076309,
           0.008766514384491914,
           0.008643042350907522,
           0.008643042350907522,
           0.008643042350907522,
           0.008519570317323127,
           0.008519570317323127,
           0.008519570317323127,
           0.008396098283738735,
           0.008396098283738735,
           0.00827262625015434,
           0.00827262625015434,
           0.00827262625015434,
           0.00827262625015434,
           0.00814915421656995,
           0.00814915421656995,
           0.00814915421656995,
           0.00814915421656995,
           0.00814915421656995,
           0.008025682182985553,
           0.008025682182985553,
           0.008025682182985553,
           0.008025682182985553,
           0.007902210149401163,
           0.007902210149401163,
           0.007902210149401163,
           0.007902210149401163,
           0.007902210149401163,
           0.007902210149401163,
           0.007902210149401163,
           0.007778738115816767,
           0.007778738115816767,
           0.007778738115816767,
           0.007778738115816767,
           0.007778738115816767,
           0.007778738115816767,
           0.007778738115816767,
           0.007778738115816767,
           0.007655266082232376,
           0.007655266082232376,
           0.007655266082232376,
           0.007655266082232376,
           0.007655266082232376,
           0.00753179404864798,
           0.00753179404864798,
           0.0074083220150635894,
           0.0074083220150635894,
           0.0074083220150635894,
           0.0074083220150635894,
           0.007284849981479193,
           0.007284849981479193,
           0.007284849981479193,
           0.007284849981479193,
           0.0071613779478948035,
           0.0070379059143104074,
           0.0070379059143104074,
           0.0070379059143104074,
           0.0070379059143104074,
           0.0070379059143104074,
           0.006914433880726017,
           0.006914433880726017,
           0.006914433880726017,
           0.006914433880726017,
           0.006914433880726017,
           0.006790961847141621,
           0.006790961847141621,
           0.006790961847141621,
           0.00666748981355723,
           0.00666748981355723,
           0.00666748981355723,
           0.006544017779972834,
           0.006544017779972834,
           0.006544017779972834,
           0.006544017779972834,
           0.006544017779972834,
           0.006544017779972834,
           0.006544017779972834,
           0.006544017779972834,
           0.006544017779972834,
           0.006420545746388444,
           0.006420545746388444,
           0.006420545746388444,
           0.006420545746388444,
           0.006297073712804048,
           0.006297073712804048,
           0.006297073712804048,
           0.006297073712804048,
           0.006173601679219657,
           0.006173601679219657,
           0.006173601679219657,
           0.006173601679219657,
           0.006173601679219657,
           0.006173601679219657,
           0.006173601679219657,
           0.006050129645635267,
           0.005926657612050871,
           0.005926657612050871,
           0.005926657612050871,
           0.005926657612050871,
           0.00580318557846648,
           0.00580318557846648,
           0.00580318557846648,
           0.00580318557846648,
           0.00580318557846648,
           0.005679713544882084,
           0.005679713544882084,
           0.005679713544882084,
           0.005556241511297693,
           0.005556241511297693,
           0.005556241511297693,
           0.005556241511297693,
           0.005556241511297693,
           0.005556241511297693,
           0.005556241511297693,
           0.005432769477713297,
           0.005432769477713297,
           0.005432769477713297,
           0.005432769477713297,
           0.005432769477713297,
           0.005432769477713297,
           0.005309297444128907,
           0.005309297444128907,
           0.005309297444128907,
           0.005309297444128907,
           0.005309297444128907,
           0.005185825410544511,
           0.005185825410544511,
           0.005185825410544511,
           0.005185825410544511,
           0.005062353376960121,
           0.005062353376960121,
           0.0049388813433757246,
           0.0049388813433757246,
           0.0049388813433757246,
           0.0049388813433757246,
           0.004815409309791334,
           0.004815409309791334,
           0.004815409309791334,
           0.004815409309791334,
           0.004815409309791334,
           0.004691937276206938,
           0.004691937276206938,
           0.004691937276206938,
           0.004691937276206938,
           0.004568465242622548,
           0.004568465242622548,
           0.004568465242622548,
           0.004568465242622548,
           0.004568465242622548,
           0.004444993209038152,
           0.004444993209038152,
           0.004444993209038152,
           0.004444993209038152,
           0.004444993209038152,
           0.004444993209038152,
           0.004444993209038152,
           0.004444993209038152,
           0.004444993209038152,
           0.004321521175453761,
           0.004321521175453761,
           0.004321521175453761,
           0.004321521175453761,
           0.004321521175453761,
           0.004198049141869365,
           0.004198049141869365,
           0.004198049141869365,
           0.004198049141869365,
           0.004198049141869365,
           0.004198049141869365,
           0.004198049141869365,
           0.004198049141869365,
           0.004198049141869365,
           0.004074577108284975,
           0.004074577108284975,
           0.004074577108284975,
           0.004074577108284975,
           0.004074577108284975,
           0.004074577108284975,
           0.004074577108284975,
           0.004074577108284975,
           0.004074577108284975,
           0.003951105074700579,
           0.003951105074700579,
           0.003951105074700579,
           0.003951105074700579,
           0.003951105074700579,
           0.003827633041116188,
           0.003827633041116188,
           0.003827633041116188,
           0.003827633041116188,
           0.003827633041116188,
           0.003827633041116188,
           0.003827633041116188,
           0.003827633041116188,
           0.003704161007531792,
           0.003704161007531792,
           0.003704161007531792,
           0.003704161007531792,
           0.003704161007531792,
           0.003704161007531792,
           0.003704161007531792,
           0.003704161007531792,
           0.0035806889739474017,
           0.0035806889739474017,
           0.0035806889739474017,
           0.0035806889739474017,
           0.0035806889739474017,
           0.0035806889739474017,
           0.0035806889739474017,
           0.0034572169403630057,
           0.0034572169403630057,
           0.0034572169403630057,
           0.0034572169403630057,
           0.003333744906778615,
           0.003333744906778615,
           0.003333744906778615,
           0.003333744906778615,
           0.003210272873194219,
           0.0030868008396098285,
           0.0030868008396098285,
           0.0030868008396098285,
           0.0030868008396098285,
           0.0030868008396098285,
           0.0029633288060254355,
           0.0029633288060254355,
           0.0029633288060254355,
           0.002839856772441042,
           0.002839856772441042,
           0.002839856772441042,
           0.002839856772441042,
           0.0027163847388566487,
           0.0027163847388566487,
           0.0027163847388566487,
           0.0027163847388566487,
           0.0027163847388566487,
           0.0027163847388566487,
           0.0027163847388566487,
           0.0025929127052722557,
           0.0025929127052722557,
           0.0025929127052722557,
           0.0025929127052722557,
           0.0025929127052722557,
           0.0025929127052722557,
           0.0024694406716878623,
           0.0024694406716878623,
           0.0024694406716878623,
           0.0024694406716878623,
           0.0024694406716878623,
           0.002345968638103469,
           0.002345968638103469,
           0.002345968638103469,
           0.002345968638103469,
           0.002345968638103469,
           0.002345968638103469,
           0.002345968638103469,
           0.002345968638103469,
           0.002222496604519076,
           0.002222496604519076,
           0.002222496604519076,
           0.002222496604519076,
           0.002222496604519076,
           0.002222496604519076,
           0.002222496604519076,
           0.002222496604519076,
           0.002222496604519076,
           0.0020990245709346825,
           0.0020990245709346825,
           0.0020990245709346825,
           0.0020990245709346825,
           0.0020990245709346825,
           0.0020990245709346825,
           0.0020990245709346825,
           0.0020990245709346825,
           0.0020990245709346825,
           0.0019755525373502895,
           0.0019755525373502895,
           0.0019755525373502895,
           0.0019755525373502895,
           0.0019755525373502895,
           0.001852080503765896,
           0.001852080503765896,
           0.0017286084701815029,
           0.0017286084701815029,
           0.0017286084701815029,
           0.0016051364365971094,
           0.0016051364365971094,
           0.0016051364365971094,
           0.0016051364365971094,
           0.0016051364365971094,
           0.0016051364365971094,
           0.001481664403012719,
           0.001481664403012719,
           0.001481664403012719,
           0.001481664403012719,
           0.001481664403012719,
           0.0013581923694283259,
           0.0013581923694283259,
           0.0013581923694283259,
           0.0013581923694283259,
           0.0013581923694283259,
           0.0013581923694283259,
           0.0013581923694283259,
           0.0013581923694283259,
           0.0013581923694283259,
           0.0013581923694283259,
           0.0013581923694283259,
           0.0012347203358439324,
           0.0012347203358439324,
           0.0012347203358439324,
           0.0012347203358439324,
           0.0012347203358439324,
           0.0012347203358439324,
           0.0011112483022595392,
           0.0011112483022595392,
           0.0011112483022595392,
           0.000987776268675146,
           0.000987776268675146,
           0.000987776268675146,
           0.000987776268675146,
           0.000987776268675146,
           0.000987776268675146,
           0.000987776268675146,
           0.000987776268675146,
           0.0008643042350907527,
           0.0008643042350907527,
           0.0008643042350907527,
           0.0008643042350907527,
           0.0008643042350907527,
           0.0007408322015063595,
           0.0007408322015063595,
           0.0007408322015063595,
           0.0007408322015063595,
           0.0007408322015063595,
           0.0007408322015063595,
           0.0006173601679219662,
           0.0006173601679219662,
           0.0006173601679219662,
           0.0006173601679219662,
           0.0006173601679219662,
           0.000493888134337573,
           0.000493888134337573,
           0.000493888134337573,
           0.00037041610075317976,
           0.00037041610075317976,
           0.00037041610075317976,
           0.00037041610075317976,
           0.00037041610075317976,
           0.00037041610075317976,
           0.00037041610075317976,
           0.00037041610075317976,
           0.0002469440671687865,
           0.0002469440671687865,
           0.0002469440671687865,
           0.0002469440671687865,
           0.0002469440671687865,
           0.0002469440671687865,
           0.0002469440671687865,
           0.0002469440671687865,
           0.0002469440671687865,
           0.00012347203358439325,
           0.00012347203358439325,
           0.00012347203358439325,
           0.00012347203358439325,
           0.00012347203358439325,
           0.00012347203358439325,
           0.00012347203358439325,
           0.00012347203358439325,
           0.00012347203358439325,
           0.00012347203358439325,
           0.00012347203358439325,
           0.00012347203358439325,
           0.00012347203358439325,
           0.00012347203358439325,
           0.00012347203358439325,
           0.00012347203358439325,
           0,
           0
          ],
          "colorbar": {
           "title": {
            "text": "Global Sales"
           }
          },
          "colorscale": [
           [
            0,
            "rgb(150,0,90)"
           ],
           [
            0.125,
            "rgb(0,0,200)"
           ],
           [
            0.25,
            "rgb(0,25,255)"
           ],
           [
            0.375,
            "rgb(0,152,255)"
           ],
           [
            0.5,
            "rgb(44,255,150)"
           ],
           [
            0.625,
            "rgb(151,255,0)"
           ],
           [
            0.75,
            "rgb(255,234,0)"
           ],
           [
            0.875,
            "rgb(255,111,0)"
           ],
           [
            1,
            "rgb(255,0,0)"
           ]
          ],
          "line": {
           "color": "rgb(140, 140, 170)"
          },
          "size": [
           41.49,
           29.08,
           15.85,
           15.75,
           11.27,
           23.2,
           11.38,
           14.03,
           14.59,
           26.93,
           9.07,
           9.81,
           9,
           8.94,
           9.09,
           14.97,
           7.01,
           9.43,
           12.78,
           4.75,
           6.42,
           10.83,
           9.54,
           9.63,
           8.41,
           6.06,
           5.57,
           3.44,
           6.85,
           9.03,
           5.89,
           9.67,
           5.17,
           5.77,
           4.99,
           8.25,
           8.52,
           5.54,
           6.99,
           6.75,
           5.98,
           2.55,
           4.74,
           7.97,
           3.8,
           4.4,
           6.91,
           3.01,
           6.16,
           4.23,
           6.16,
           6.76,
           4.02,
           4.89,
           2.96,
           4.99,
           4.76,
           5.99,
           4.34,
           5.08,
           6.05,
           6.72,
           7.03,
           5.55,
           3.66,
           6.63,
           3.01,
           4.09,
           5.84,
           3.88,
           5.91,
           4.36,
           5.58,
           2.01,
           4.46,
           5.03,
           3.54,
           1.11,
           1.79,
           6.82,
           3.81,
           2.91,
           1.06,
           0.98,
           5.8,
           2.58,
           2.91,
           2.28,
           2.82,
           7.28,
           2.9,
           3.66,
           2.93,
           2.8,
           4.1,
           3.78,
           5.39,
           3.24,
           4.79,
           4.46,
           3.83,
           4.52,
           3.51,
           2.85,
           3.27,
           3.27,
           3.68,
           4.41,
           3.13,
           2.47,
           4.12,
           4.14,
           0.78,
           2.71,
           2.93,
           2.77,
           3.23,
           3.5,
           4.15,
           3.27,
           3.1,
           0.84,
           1.67,
           2.79,
           0.79,
           3.25,
           2.55,
           3.74,
           2.64,
           4.98,
           2.57,
           3.64,
           2.55,
           4.34,
           3.7,
           4.01,
           2.47,
           0.07,
           3.11,
           3.92,
           4.05,
           3.54,
           2.45,
           4.47,
           2.63,
           3.18,
           2.41,
           1.88,
           2.8,
           0.66,
           3.66,
           1.88,
           2.26,
           3.13,
           2.49,
           2.97,
           2.54,
           2.95,
           3.28,
           2.7,
           2.99,
           0.47,
           3.14,
           2.62,
           3.21,
           3.18,
           2.72,
           2.07,
           1.97,
           1.74,
           2.18,
           3.02,
           3.13,
           1.62,
           1.92,
           3.33,
           3.1,
           1.22,
           2.3,
           4.26,
           0.65,
           2.43,
           2.93,
           2.32,
           2.49,
           1.08,
           1.9,
           2.1,
           0.96,
           1.64,
           1.98,
           2.71,
           3.59,
           3.21,
           3.22,
           3.81,
           1.96,
           2.66,
           1.7,
           0.6,
           3.4,
           2.05,
           3.42,
           2.59,
           2.79,
           3.36,
           3.06,
           3.49,
           3.39,
           1.85,
           2.31,
           3.98,
           2.89,
           2.91,
           0,
           2.62,
           2.74,
           2.56,
           1.91,
           0.57,
           2.57,
           2.99,
           2.36,
           1.73,
           3.05,
           1.87,
           1.94,
           2.08,
           2.29,
           3.06,
           2.42,
           2.6,
           1.89,
           1.78,
           1.55,
           1.78,
           3.19,
           4.18,
           4.21,
           3.63,
           2.71,
           0.2,
           1.96,
           1.54,
           2.71,
           2.55,
           2.67,
           2.66,
           0.1,
           2.82,
           2.19,
           2.03,
           1.73,
           3.03,
           2.2,
           0.92,
           2.75,
           4,
           2.51,
           2.64,
           2.11,
           2.23,
           1.41,
           3,
           1.46,
           2.45,
           1.7,
           2.03,
           0.78,
           0.88,
           1.28,
           2.25,
           2.02,
           0.84,
           3.38,
           2.04,
           3.79,
           3.36,
           1.4,
           4.03,
           1.65,
           0.71,
           2.14,
           1.42,
           2.13,
           2.45,
           2.57,
           2.65,
           2.32,
           2.35,
           0.12,
           2.28,
           1.68,
           1.12,
           2.78,
           1.38,
           1.22,
           2.15,
           0.92,
           2.67,
           2.08,
           2.1,
           1.18,
           1.97,
           2.29,
           1.33,
           0.67,
           1.53,
           1.15,
           0.93,
           0.1,
           2.12,
           2.48,
           0.16,
           0.87,
           2.12,
           2.21,
           2.26,
           1.06,
           1.44,
           1.49,
           1.14,
           2.4,
           1.82,
           1.4,
           1.98,
           2.03,
           1.98,
           1.37,
           0.96,
           1.3,
           1.93,
           0.58,
           1.49,
           1.3,
           1.59,
           0,
           2.13,
           1.65,
           1.87,
           2.53,
           2.33,
           0.71,
           2.08,
           2.23,
           0.6,
           0.05,
           1.78,
           2.08,
           1.93,
           2.05,
           2.02,
           1.61,
           2.38,
           2.18,
           2.01,
           1.57,
           1.56,
           1.23,
           1.66,
           1.9,
           1.98,
           2.14,
           0.71,
           1.96,
           2.14,
           2.66,
           1.22,
           2.11,
           1.17,
           2.84,
           1.64,
           2.2,
           0.59,
           0.59,
           1.94,
           2.09,
           2.11,
           2.26,
           0.88,
           0,
           2.39,
           1.55,
           1.34,
           1.82,
           1.13,
           0.86,
           1.75,
           1.73,
           0.46,
           1.56,
           2.03,
           1.08,
           1.43,
           2.47,
           1.9,
           0.65,
           1.63,
           1.9,
           0,
           1.45,
           1.44,
           1.15,
           1.47,
           1.99,
           1.5,
           0.8,
           2.13,
           1.89,
           1.36,
           0.5,
           0.25,
           0.95,
           0.88,
           1.27,
           2.33,
           0.03,
           1.72,
           0.73,
           2.26,
           1.76,
           1.35,
           1.48,
           0,
           2.15,
           1.78,
           1.18,
           1.52,
           1.86,
           0.58,
           2.06,
           1.88,
           1.92,
           1.79,
           1.22,
           0.88,
           1.89,
           0.68,
           1.7,
           2.14,
           2.31,
           0.91,
           1.69,
           0.08,
           1.29,
           1.99,
           0.78,
           2.17,
           2.5,
           1.92,
           1.89,
           1.4,
           1.57,
           1.72,
           1.94,
           1.91,
           1.38,
           2.06,
           1.94,
           1.54,
           1.4,
           1.85,
           2.03,
           1.45,
           2.38,
           2.6,
           1.15,
           1.57,
           1.01,
           1.61,
           1.67,
           0.12,
           1.36,
           0.47,
           1.33,
           0.96,
           1.58,
           1.04,
           1.57,
           1.36,
           1.82,
           1.98,
           2.22,
           1.45,
           1.76,
           2.07,
           1.83,
           0.87,
           1.43,
           1.75,
           0.61,
           1.84,
           1.54,
           1.75,
           0.08,
           0.71,
           0.99,
           1.51,
           1.54,
           2.03,
           1.3,
           0.09,
           1.87,
           2.53,
           2.09,
           1.98,
           1.37,
           1.29,
           1.37,
           1.4,
           0.4,
           1.87,
           1.65,
           2.52,
           1.28,
           1.32,
           1.96,
           1.59,
           0.02,
           1.05,
           1.32,
           1.32,
           1.74,
           1.47,
           0.29,
           1.45,
           1.96,
           1.19,
           0,
           1.98,
           0.89,
           2.19,
           0.3,
           0.46,
           1.68,
           1.27,
           1.44,
           1.2,
           1.41,
           1.24,
           1.25,
           2.56,
           1.43,
           1.07,
           1.02,
           1.33,
           1.52,
           1.49,
           1.75,
           0.99,
           1.47,
           1.25,
           2.42,
           1.85,
           2.38,
           1.63,
           1.46,
           1.23,
           0,
           0.69,
           0.78,
           1.95,
           1.48,
           1.78,
           1.44,
           1.99,
           1.59,
           1.15,
           1.56,
           0.86,
           0,
           2,
           1.53,
           2,
           0.76,
           1.53,
           1.7,
           2.15,
           1.07,
           1.55,
           0.59,
           2.31,
           0.63,
           0.9,
           1.02,
           1.86,
           0.48,
           0.93,
           2.03,
           0.64,
           0.89,
           1.04,
           0.37,
           1.4,
           1.31,
           0.28,
           1.76,
           2.14,
           1.7,
           0.15,
           2.11,
           1.21,
           1.13,
           2.21,
           2.36,
           1.13,
           1.55,
           1.5,
           0.49,
           0.6,
           2.29,
           0.13,
           1.28,
           0.86,
           1.84,
           1.29,
           1.81,
           1.15,
           1.38,
           1.15,
           1.72,
           1.93,
           2.1,
           1.13,
           1.67,
           1.55,
           0,
           0.93,
           2.12,
           1.44,
           0.87,
           1.07,
           1.52,
           1.56,
           1.26,
           1.27,
           0.29,
           1.63,
           2.07,
           0.81,
           1.43,
           0.69,
           2.07,
           2.1,
           0.77,
           2.3,
           2.15,
           0.49,
           1.74,
           1.54,
           1.49,
           1.07,
           1.48,
           1.67,
           1.02,
           1.73,
           1.94,
           1,
           1.46,
           2.04,
           1.16,
           2.18,
           2.28,
           0.96,
           1.25,
           2.03,
           1.38,
           0.69,
           1.07,
           1.39,
           0,
           1.68,
           1.32,
           0.92,
           1.2,
           1.08,
           1.27,
           1.14,
           1.93,
           1.57,
           0.78,
           0.79,
           0.85,
           0.52,
           1.58,
           0.28,
           1.65,
           1.24,
           0.95,
           0.95,
           1.08,
           0.91,
           1.23,
           1.38,
           0.3,
           1.11,
           0,
           0.51,
           0.38,
           1.01,
           1.05,
           0.07,
           1.12,
           1.34,
           1.07,
           1.22,
           0.9,
           1.4,
           1.19,
           1.34,
           0.28,
           0.62,
           1.52,
           1.48,
           1.93,
           0.67,
           0.51,
           1.19,
           1.29,
           1.74,
           1.42,
           1.09,
           1.27,
           0.88,
           1.71,
           1,
           1.03,
           1.45,
           1.47,
           1.06,
           1.78,
           2.06,
           2.01,
           1.11,
           0.15,
           1.28,
           1.06,
           0.34,
           1.17,
           1.68,
           0.87,
           1.04,
           0.59,
           0,
           1.92,
           1.21,
           1.97,
           1.29,
           1.48,
           1.27,
           1.6,
           0.48,
           1.23,
           1.51,
           1.5,
           0.54,
           0.14,
           0.6,
           0.52,
           0.66,
           0.01,
           1.47,
           1.2,
           1.99,
           1.04,
           0.64,
           0.82,
           0.93,
           0.91,
           1.47,
           1.37,
           0.83,
           1.61,
           1.2,
           1.68,
           0.11,
           1.68,
           0.9,
           1.35,
           0.63,
           1.63,
           0.94,
           1.17,
           1.54,
           1.77,
           1.41,
           0.99,
           0,
           1.16,
           1.26,
           1.84,
           1.97,
           0.92,
           0.7,
           0.46,
           1.77,
           1.11,
           0.63,
           1.36,
           0.97,
           0.59,
           2.04,
           0.89,
           0.79,
           1.54,
           0.63,
           1.48,
           0.75,
           1.64,
           1.04,
           0.73,
           1.2,
           0.71,
           1.15,
           0.68,
           1.06,
           0.89,
           0.73,
           1.23,
           1.43,
           1.16,
           1.47,
           0.71,
           1.75,
           0.48,
           1.11,
           1.45,
           0.73,
           1.74,
           0.71,
           1.2,
           0.58,
           1.53,
           1.25,
           1.47,
           1.57,
           1.05,
           1.81,
           1.76,
           0.82,
           0.49,
           0.77,
           0.89,
           0.35,
           0.52,
           1.48,
           0.95,
           0.75,
           1.21,
           0.75,
           0.93,
           1.25,
           1.11,
           0.72,
           0.99,
           0.74,
           1.2,
           0.71,
           1.01,
           1.84,
           1.22,
           0.5,
           1.13,
           0.18,
           0.79,
           1.09,
           1.3,
           0.74,
           1.26,
           1.09,
           1.69,
           0.95,
           0.49,
           1.94,
           0.59,
           0.96,
           1.09,
           1.41,
           1.42,
           1,
           1.15,
           1.1,
           1.48,
           0.34,
           1.06,
           1.53,
           0.56,
           1.51,
           0.86,
           0.92,
           0.73,
           0.87,
           0.76,
           1.03,
           0.94,
           0.26,
           1.06,
           0.72,
           1.14,
           1.3,
           0.77,
           1.08,
           1.03,
           0.59,
           0.73,
           1.56,
           0.21,
           1.05,
           1.37,
           0.92,
           0.25,
           0.89,
           1.42,
           0.47,
           0.96,
           0.22,
           0.53,
           0.73,
           0.87,
           1.75,
           1.12,
           0.94,
           1.37,
           0,
           0.64,
           0.91,
           1.34,
           0.62,
           0.85,
           0.61,
           1.33,
           0.83,
           1.26,
           0.8,
           1.05,
           0,
           0.97,
           1.53,
           0.83,
           1.31,
           0.84,
           1.33,
           0.46,
           0.25,
           1.09,
           0.92,
           0.61,
           1.24,
           1.73,
           1.81,
           0.91,
           0.22,
           0.55,
           1.05,
           1.1,
           0.78,
           0.88,
           1,
           0.93,
           1.66,
           1.41,
           1,
           0.49,
           1.26,
           0.52,
           1.05,
           1.25,
           0.23,
           1.12,
           0.39,
           0.32,
           0.45,
           0.41,
           0.93,
           0.85,
           1.16,
           0.31,
           1.59,
           0.24,
           0.63,
           1.19,
           1.07,
           0.85,
           1.27,
           1.06,
           0.93,
           1.02,
           0.53,
           0.86,
           1.23,
           0.86,
           0.72,
           0.68,
           1.26,
           1.11,
           0.52,
           0.35,
           0.61,
           1.68,
           0.9
          ]
         },
         "mode": "markers",
         "text": [
          "Name:Wii Sports, Rank:1 Global Sales: 82.74 millions",
          "Name:Super Mario Bros., Rank:2 Global Sales: 40.24 millions",
          "Name:Mario Kart Wii, Rank:3 Global Sales: 35.82 millions",
          "Name:Wii Sports Resort, Rank:4 Global Sales: 33.0 millions",
          "Name:Pokemon Red/Pokemon Blue, Rank:5 Global Sales: 31.37 millions",
          "Name:Tetris, Rank:6 Global Sales: 30.26 millions",
          "Name:New Super Mario Bros., Rank:7 Global Sales: 30.01 millions",
          "Name:Wii Play, Rank:8 Global Sales: 29.02 millions",
          "Name:New Super Mario Bros. Wii, Rank:9 Global Sales: 28.62 millions",
          "Name:Duck Hunt, Rank:10 Global Sales: 28.31 millions",
          "Name:Nintendogs, Rank:11 Global Sales: 24.76 millions",
          "Name:Mario Kart DS, Rank:12 Global Sales: 23.42 millions",
          "Name:Pokemon Gold/Pokemon Silver, Rank:13 Global Sales: 23.1 millions",
          "Name:Wii Fit, Rank:14 Global Sales: 22.72 millions",
          "Name:Wii Fit Plus, Rank:15 Global Sales: 22.0 millions",
          "Name:Kinect Adventures!, Rank:16 Global Sales: 21.82 millions",
          "Name:Grand Theft Auto V, Rank:17 Global Sales: 21.4 millions",
          "Name:Grand Theft Auto: San Andreas, Rank:18 Global Sales: 20.81 millions",
          "Name:Super Mario World, Rank:19 Global Sales: 20.61 millions",
          "Name:Brain Age: Train Your Brain in Minutes a Day, Rank:20 Global Sales: 20.22 millions",
          "Name:Pokemon Diamond/Pokemon Pearl, Rank:21 Global Sales: 18.36 millions",
          "Name:Super Mario Land, Rank:22 Global Sales: 18.14 millions",
          "Name:Super Mario Bros. 3, Rank:23 Global Sales: 17.28 millions",
          "Name:Grand Theft Auto V, Rank:24 Global Sales: 16.38 millions",
          "Name:Grand Theft Auto: Vice City, Rank:25 Global Sales: 16.15 millions",
          "Name:Pokemon Ruby/Pokemon Sapphire, Rank:26 Global Sales: 15.85 millions",
          "Name:Pokemon Black/Pokemon White, Rank:27 Global Sales: 15.32 millions",
          "Name:Brain Age 2: More Training in Minutes a Day, Rank:28 Global Sales: 15.3 millions",
          "Name:Gran Turismo 3: A-Spec, Rank:29 Global Sales: 14.98 millions",
          "Name:Call of Duty: Modern Warfare 3, Rank:30 Global Sales: 14.76 millions",
          "Name:Pokémon Yellow: Special Pikachu Edition, Rank:31 Global Sales: 14.64 millions",
          "Name:Call of Duty: Black Ops, Rank:32 Global Sales: 14.64 millions",
          "Name:Pokemon X/Pokemon Y, Rank:33 Global Sales: 14.35 millions",
          "Name:Call of Duty: Black Ops 3, Rank:34 Global Sales: 14.24 millions",
          "Name:Call of Duty: Black Ops II, Rank:35 Global Sales: 14.03 millions",
          "Name:Call of Duty: Black Ops II, Rank:36 Global Sales: 13.73 millions",
          "Name:Call of Duty: Modern Warfare 2, Rank:37 Global Sales: 13.51 millions",
          "Name:Call of Duty: Modern Warfare 3, Rank:38 Global Sales: 13.46 millions",
          "Name:Grand Theft Auto III, Rank:39 Global Sales: 13.1 millions",
          "Name:Super Smash Bros. Brawl, Rank:40 Global Sales: 13.04 millions",
          "Name:Call of Duty: Black Ops, Rank:41 Global Sales: 12.73 millions",
          "Name:Animal Crossing: Wild World, Rank:42 Global Sales: 12.27 millions",
          "Name:Mario Kart 7, Rank:43 Global Sales: 12.21 millions",
          "Name:Halo 3, Rank:44 Global Sales: 12.14 millions",
          "Name:Grand Theft Auto V, Rank:45 Global Sales: 11.98 millions",
          "Name:Pokemon HeartGold/Pokemon SoulSilver, Rank:46 Global Sales: 11.9 millions",
          "Name:Super Mario 64, Rank:47 Global Sales: 11.89 millions",
          "Name:Gran Turismo 4, Rank:48 Global Sales: 11.66 millions",
          "Name:Super Mario Galaxy, Rank:49 Global Sales: 11.52 millions",
          "Name:Pokemon Omega Ruby/Pokemon Alpha Sapphire, Rank:50 Global Sales: 11.33 millions",
          "Name:Super Mario Land 2: 6 Golden Coins, Rank:51 Global Sales: 11.18 millions",
          "Name:Grand Theft Auto IV, Rank:52 Global Sales: 11.02 millions",
          "Name:Gran Turismo, Rank:53 Global Sales: 10.95 millions",
          "Name:Super Mario 3D Land, Rank:54 Global Sales: 10.79 millions",
          "Name:Gran Turismo 5, Rank:55 Global Sales: 10.77 millions",
          "Name:Call of Duty: Modern Warfare 2, Rank:56 Global Sales: 10.69 millions",
          "Name:Grand Theft Auto IV, Rank:57 Global Sales: 10.57 millions",
          "Name:Super Mario All-Stars, Rank:58 Global Sales: 10.55 millions",
          "Name:Pokemon FireRed/Pokemon LeafGreen, Rank:59 Global Sales: 10.49 millions",
          "Name:Super Mario 64, Rank:60 Global Sales: 10.42 millions",
          "Name:Just Dance 3, Rank:61 Global Sales: 10.26 millions",
          "Name:Call of Duty: Ghosts, Rank:62 Global Sales: 10.21 millions",
          "Name:Halo: Reach, Rank:63 Global Sales: 9.88 millions",
          "Name:Mario Kart 64, Rank:64 Global Sales: 9.87 millions",
          "Name:New Super Mario Bros. 2, Rank:65 Global Sales: 9.82 millions",
          "Name:Halo 4, Rank:66 Global Sales: 9.76 millions",
          "Name:Final Fantasy VII, Rank:67 Global Sales: 9.72 millions",
          "Name:Call of Duty: Ghosts, Rank:68 Global Sales: 9.59 millions",
          "Name:Just Dance 2, Rank:69 Global Sales: 9.52 millions",
          "Name:Gran Turismo 2, Rank:70 Global Sales: 9.49 millions",
          "Name:Call of Duty 4: Modern Warfare, Rank:71 Global Sales: 9.32 millions",
          "Name:Donkey Kong Country, Rank:72 Global Sales: 9.3 millions",
          "Name:Minecraft, Rank:73 Global Sales: 9.2 millions",
          "Name:Animal Crossing: New Leaf, Rank:74 Global Sales: 9.09 millions",
          "Name:Mario Party DS, Rank:75 Global Sales: 9.02 millions",
          "Name:The Elder Scrolls V: Skyrim, Rank:76 Global Sales: 8.84 millions",
          "Name:Super Mario Kart, Rank:77 Global Sales: 8.76 millions",
          "Name:FIFA 16, Rank:78 Global Sales: 8.49 millions",
          "Name:Wii Party, Rank:79 Global Sales: 8.49 millions",
          "Name:Halo 2, Rank:80 Global Sales: 8.49 millions",
          "Name:Mario Party 8, Rank:81 Global Sales: 8.42 millions",
          "Name:Pokemon Black 2/Pokemon White 2, Rank:82 Global Sales: 8.33 millions",
          "Name:FIFA Soccer 13, Rank:83 Global Sales: 8.24 millions",
          "Name:The Sims 3, Rank:84 Global Sales: 8.11 millions",
          "Name:GoldenEye 007, Rank:85 Global Sales: 8.09 millions",
          "Name:Mario & Sonic at the Olympic Games, Rank:86 Global Sales: 8.06 millions",
          "Name:Final Fantasy X, Rank:87 Global Sales: 8.05 millions",
          "Name:Final Fantasy VIII, Rank:88 Global Sales: 7.86 millions",
          "Name:Pokémon Platinum Version, Rank:89 Global Sales: 7.84 millions",
          "Name:Pac-Man, Rank:90 Global Sales: 7.81 millions",
          "Name:Grand Theft Auto: Liberty City Stories, Rank:91 Global Sales: 7.72 millions",
          "Name:Super Mario Galaxy 2, Rank:92 Global Sales: 7.69 millions",
          "Name:Star Wars Battlefront (2015), Rank:93 Global Sales: 7.67 millions",
          "Name:Call of Duty: Advanced Warfare, Rank:94 Global Sales: 7.6 millions",
          "Name:The Legend of Zelda: Ocarina of Time, Rank:95 Global Sales: 7.6 millions",
          "Name:Crash Bandicoot 2: Cortex Strikes Back, Rank:96 Global Sales: 7.58 millions",
          "Name:Super Mario Bros. 2, Rank:97 Global Sales: 7.46 millions",
          "Name:Super Smash Bros. for Wii U and 3DS, Rank:98 Global Sales: 7.45 millions",
          "Name:Call of Duty: World at War, Rank:99 Global Sales: 7.37 millions",
          "Name:Battlefield 3, Rank:100 Global Sales: 7.34 millions",
          "Name:The Legend of Zelda: Twilight Princess, Rank:101 Global Sales: 7.31 millions",
          "Name:Call of Duty: Black Ops 3, Rank:102 Global Sales: 7.3 millions",
          "Name:Just Dance, Rank:103 Global Sales: 7.27 millions",
          "Name:Battlefield 3, Rank:104 Global Sales: 7.23 millions",
          "Name:Need for Speed Underground, Rank:105 Global Sales: 7.2 millions",
          "Name:Tekken 3, Rank:106 Global Sales: 7.16 millions",
          "Name:Crash Bandicoot 3: Warped, Rank:107 Global Sales: 7.13 millions",
          "Name:Super Smash Bros. Melee, Rank:108 Global Sales: 7.07 millions",
          "Name:Mario Kart 8, Rank:109 Global Sales: 6.96 millions",
          "Name:Fallout 4, Rank:110 Global Sales: 6.96 millions",
          "Name:Mario Kart: Double Dash!!, Rank:111 Global Sales: 6.95 millions",
          "Name:Just Dance 4, Rank:112 Global Sales: 6.91 millions",
          "Name:FIFA 14, Rank:113 Global Sales: 6.9 millions",
          "Name:Need for Speed Underground 2, Rank:114 Global Sales: 6.9 millions",
          "Name:Medal of Honor: Frontline, Rank:115 Global Sales: 6.83 millions",
          "Name:Uncharted 3: Drake's Deception, Rank:116 Global Sales: 6.83 millions",
          "Name:Crash Bandicoot, Rank:117 Global Sales: 6.82 millions",
          "Name:Zumba Fitness, Rank:118 Global Sales: 6.81 millions",
          "Name:Gears of War 2, Rank:119 Global Sales: 6.76 millions",
          "Name:Uncharted 2: Among Thieves, Rank:120 Global Sales: 6.73 millions",
          "Name:Call of Duty 4: Modern Warfare, Rank:121 Global Sales: 6.72 millions",
          "Name:FIFA 12, Rank:122 Global Sales: 6.69 millions",
          "Name:Big Brain Academy, Rank:123 Global Sales: 6.67 millions",
          "Name:Red Dead Redemption, Rank:124 Global Sales: 6.6 millions",
          "Name:FIFA 15, Rank:125 Global Sales: 6.59 millions",
          "Name:Donkey Kong Country Returns, Rank:126 Global Sales: 6.59 millions",
          "Name:The Elder Scrolls V: Skyrim, Rank:127 Global Sales: 6.56 millions",
          "Name:The Legend of Zelda, Rank:128 Global Sales: 6.51 millions",
          "Name:Assassin's Creed III, Rank:129 Global Sales: 6.5 millions",
          "Name:Halo: Combat Evolved, Rank:130 Global Sales: 6.43 millions",
          "Name:Pokémon Emerald Version, Rank:131 Global Sales: 6.41 millions",
          "Name:Kingdom Hearts, Rank:132 Global Sales: 6.4 millions",
          "Name:Pokémon Crystal Version, Rank:133 Global Sales: 6.39 millions",
          "Name:Halo 3: ODST, Rank:134 Global Sales: 6.36 millions",
          "Name:Red Dead Redemption, Rank:135 Global Sales: 6.34 millions",
          "Name:Super Mario Sunshine, Rank:136 Global Sales: 6.31 millions",
          "Name:Street Fighter II: The World Warrior, Rank:137 Global Sales: 6.3 millions",
          "Name:World of Warcraft, Rank:138 Global Sales: 6.28 millions",
          "Name:Driver, Rank:139 Global Sales: 6.27 millions",
          "Name:Kinect Sports, Rank:140 Global Sales: 6.24 millions",
          "Name:Gears of War 3, Rank:141 Global Sales: 6.24 millions",
          "Name:Gears of War, Rank:142 Global Sales: 6.11 millions",
          "Name:Metal Gear Solid 2: Sons of Liberty, Rank:143 Global Sales: 6.05 millions",
          "Name:Sonic the Hedgehog 2, Rank:144 Global Sales: 6.03 millions",
          "Name:Metal Gear Solid 4: Guns of the Patriots, Rank:145 Global Sales: 6.03 millions",
          "Name:Metal Gear Solid, Rank:146 Global Sales: 6.03 millions",
          "Name:The Last of Us, Rank:147 Global Sales: 5.99 millions",
          "Name:Final Fantasy XII, Rank:148 Global Sales: 5.95 millions",
          "Name:LittleBigPlanet, Rank:149 Global Sales: 5.92 millions",
          "Name:Dragon Quest IX: Sentinels of the Starry Skies, Rank:150 Global Sales: 5.84 millions",
          "Name:LEGO Star Wars: The Complete Saga, Rank:151 Global Sales: 5.83 millions",
          "Name:Resident Evil 2, Rank:152 Global Sales: 5.82 millions",
          "Name:Tekken 2, Rank:153 Global Sales: 5.74 millions",
          "Name:Cooking Mama, Rank:154 Global Sales: 5.72 millions",
          "Name:Destiny, Rank:155 Global Sales: 5.65 millions",
          "Name:Tetris, Rank:156 Global Sales: 5.58 millions",
          "Name:Assassin's Creed II, Rank:157 Global Sales: 5.57 millions",
          "Name:Super Smash Bros., Rank:158 Global Sales: 5.55 millions",
          "Name:Assassin's Creed, Rank:159 Global Sales: 5.55 millions",
          "Name:Batman: Arkham City, Rank:160 Global Sales: 5.53 millions",
          "Name:Forza Motorsport 3, Rank:161 Global Sales: 5.51 millions",
          "Name:Monster Hunter Freedom Unite, Rank:162 Global Sales: 5.5 millions",
          "Name:Super Mario Advance, Rank:163 Global Sales: 5.49 millions",
          "Name:Mario Kart: Super Circuit, Rank:164 Global Sales: 5.47 millions",
          "Name:Super Mario World, Rank:165 Global Sales: 5.46 millions",
          "Name:Pokemon Stadium, Rank:166 Global Sales: 5.45 millions",
          "Name:Call of Duty: World at War, Rank:167 Global Sales: 5.43 millions",
          "Name:Crash Bandicoot: The Wrath of Cortex, Rank:168 Global Sales: 5.42 millions",
          "Name:Minecraft, Rank:169 Global Sales: 5.42 millions",
          "Name:Final Fantasy XIII, Rank:170 Global Sales: 5.36 millions",
          "Name:Dr. Mario, Rank:171 Global Sales: 5.34 millions",
          "Name:Pokemon Pinball, Rank:172 Global Sales: 5.31 millions",
          "Name:Assassin's Creed III, Rank:173 Global Sales: 5.3 millions",
          "Name:Final Fantasy IX, Rank:174 Global Sales: 5.3 millions",
          "Name:Final Fantasy X-2, Rank:175 Global Sales: 5.29 millions",
          "Name:Donkey Kong 64, Rank:176 Global Sales: 5.27 millions",
          "Name:Assassin's Creed II, Rank:177 Global Sales: 5.27 millions",
          "Name:Professor Layton and the Curious Village, Rank:178 Global Sales: 5.26 millions",
          "Name:Tomb Raider II, Rank:179 Global Sales: 5.24 millions",
          "Name:Madden NFL 2004, Rank:180 Global Sales: 5.23 millions",
          "Name:Dragon Quest VIII: Journey of the Cursed King, Rank:181 Global Sales: 5.21 millions",
          "Name:Diablo III, Rank:182 Global Sales: 5.2 millions",
          "Name:Super Mario Bros. 3, Rank:183 Global Sales: 5.2 millions",
          "Name:New Super Mario Bros. U, Rank:184 Global Sales: 5.19 millions",
          "Name:Super Mario Land 3: Wario Land, Rank:185 Global Sales: 5.19 millions",
          "Name:FIFA Soccer 13, Rank:186 Global Sales: 5.18 millions",
          "Name:The Legend of Zelda: Phantom Hourglass, Rank:187 Global Sales: 5.17 millions",
          "Name:Donkey Kong Country 2: Diddy's Kong Quest, Rank:188 Global Sales: 5.15 millions",
          "Name:Tomodachi Life, Rank:189 Global Sales: 5.15 millions",
          "Name:Mario & Sonic at the Olympic Games, Rank:190 Global Sales: 5.14 millions",
          "Name:Medal of Honor: Rising Sun, Rank:191 Global Sales: 5.13 millions",
          "Name:Kirby's Dream Land, Rank:192 Global Sales: 5.13 millions",
          "Name:Fable III, Rank:193 Global Sales: 5.13 millions",
          "Name:Call of Duty: Advanced Warfare, Rank:194 Global Sales: 5.13 millions",
          "Name:Microsoft Flight Simulator, Rank:195 Global Sales: 5.12 millions",
          "Name:Guitar Hero II, Rank:196 Global Sales: 5.12 millions",
          "Name:Resident Evil 5, Rank:197 Global Sales: 5.11 millions",
          "Name:Grand Theft Auto V, Rank:198 Global Sales: 5.08 millions",
          "Name:Grand Theft Auto: Vice City Stories, Rank:199 Global Sales: 5.08 millions",
          "Name:FIFA Soccer 11, Rank:200 Global Sales: 5.08 millions",
          "Name:Super Mario Bros., Rank:201 Global Sales: 5.07 millions",
          "Name:Resident Evil, Rank:202 Global Sales: 5.05 millions",
          "Name:Tony Hawk's Pro Skater, Rank:203 Global Sales: 5.02 millions",
          "Name:Super Smash Bros. for Wii U and 3DS, Rank:204 Global Sales: 5.02 millions",
          "Name:Warzone 2100, Rank:205 Global Sales: 5.01 millions",
          "Name:Spyro the Dragon, Rank:206 Global Sales: 5.0 millions",
          "Name:Link's Crossbow Training, Rank:207 Global Sales: 5.0 millions",
          "Name:Guitar Hero III: Legends of Rock, Rank:208 Global Sales: 4.98 millions",
          "Name:Fallout 3, Rank:209 Global Sales: 4.96 millions",
          "Name:Pokemon Mystery Dungeon: Explorers of Time/Explorers of Darkness, Rank:210 Global Sales: 4.96 millions",
          "Name:Uncharted: Drake's Fortune, Rank:211 Global Sales: 4.94 millions",
          "Name:Madden NFL 06, Rank:212 Global Sales: 4.91 millions",
          "Name:LEGO Star Wars: The Complete Saga, Rank:213 Global Sales: 4.9 millions",
          "Name:Diddy Kong Racing, Rank:214 Global Sales: 4.88 millions",
          "Name:Monster Hunter Freedom 3, Rank:215 Global Sales: 4.87 millions",
          "Name:Dr. Mario, Rank:216 Global Sales: 4.85 millions",
          "Name:God of War III, Rank:217 Global Sales: 4.84 millions",
          "Name:StarCraft II: Wings of Liberty, Rank:218 Global Sales: 4.83 millions",
          "Name:Assassin's Creed, Rank:219 Global Sales: 4.83 millions",
          "Name:FIFA 15, Rank:220 Global Sales: 4.82 millions",
          "Name:Crash Team Racing, Rank:221 Global Sales: 4.79 millions",
          "Name:Batman: Arkham City, Rank:223 Global Sales: 4.76 millions",
          "Name:Driver 2, Rank:224 Global Sales: 4.73 millions",
          "Name:The Simpsons: Hit & Run, Rank:225 Global Sales: 4.7 millions",
          "Name:Tony Hawk's Pro Skater 2, Rank:226 Global Sales: 4.68 millions",
          "Name:Animal Crossing: City Folk, Rank:227 Global Sales: 4.68 millions",
          "Name:The Lord of the Rings: The Two Towers, Rank:228 Global Sales: 4.67 millions",
          "Name:Forza Motorsport 4, Rank:229 Global Sales: 4.64 millions",
          "Name:Tomb Raider, Rank:230 Global Sales: 4.63 millions",
          "Name:Guitar Hero III: Legends of Rock, Rank:231 Global Sales: 4.62 millions",
          "Name:The Legend of Zelda: A Link to the Past, Rank:232 Global Sales: 4.61 millions",
          "Name:The Legend of Zelda: The Wind Waker, Rank:233 Global Sales: 4.6 millions",
          "Name:Mario & Sonic at the Olympic Winter Games, Rank:234 Global Sales: 4.58 millions",
          "Name:Luigi's Mansion: Dark Moon, Rank:235 Global Sales: 4.58 millions",
          "Name:Splatoon, Rank:236 Global Sales: 4.57 millions",
          "Name:The Last of Us, Rank:237 Global Sales: 4.55 millions",
          "Name:Guitar Hero III: Legends of Rock, Rank:238 Global Sales: 4.53 millions",
          "Name:Madden NFL 2005, Rank:239 Global Sales: 4.53 millions",
          "Name:Pitfall!, Rank:240 Global Sales: 4.5 millions",
          "Name:Madden NFL 07, Rank:241 Global Sales: 4.49 millions",
          "Name:Spider-Man: The Movie, Rank:242 Global Sales: 4.48 millions",
          "Name:Dragon Quest VII: Warriors of Eden, Rank:243 Global Sales: 4.47 millions",
          "Name:Uncharted: The Nathan Drake Collection, Rank:244 Global Sales: 4.47 millions",
          "Name:Call of Duty: Advanced Warfare, Rank:245 Global Sales: 4.45 millions",
          "Name:God of War, Rank:246 Global Sales: 4.45 millions",
          "Name:Nintendo Land, Rank:247 Global Sales: 4.44 millions",
          "Name:Michael Jackson: The Experience, Rank:248 Global Sales: 4.42 millions",
          "Name:Tony Hawk's Pro Skater 3, Rank:249 Global Sales: 4.41 millions",
          "Name:Winning Eleven: Pro Evolution Soccer 2007, Rank:250 Global Sales: 4.39 millions",
          "Name:The Elder Scrolls IV: Oblivion, Rank:251 Global Sales: 4.39 millions",
          "Name:Zelda II: The Adventure of Link, Rank:252 Global Sales: 4.38 millions",
          "Name:Need for Speed: Most Wanted, Rank:253 Global Sales: 4.37 millions",
          "Name:Resistance: Fall of Man, Rank:254 Global Sales: 4.35 millions",
          "Name:Sonic the Hedgehog, Rank:255 Global Sales: 4.34 millions",
          "Name:Kingdom Hearts II, Rank:256 Global Sales: 4.33 millions",
          "Name:FIFA 14, Rank:257 Global Sales: 4.31 millions",
          "Name:Call of Duty: Advanced Warfare, Rank:258 Global Sales: 4.31 millions",
          "Name:Asteroids, Rank:259 Global Sales: 4.31 millions",
          "Name:Fable II, Rank:260 Global Sales: 4.31 millions",
          "Name:Halo 5: Guardians, Rank:261 Global Sales: 4.26 millions",
          "Name:Super Mario 3D World, Rank:262 Global Sales: 4.25 millions",
          "Name:Batman: Arkham Asylum, Rank:263 Global Sales: 4.25 millions",
          "Name:Assassin's Creed: Revelations, Rank:264 Global Sales: 4.24 millions",
          "Name:Namco Museum, Rank:265 Global Sales: 4.24 millions",
          "Name:Metal Gear Solid 3: Snake Eater, Rank:266 Global Sales: 4.23 millions",
          "Name:Daxter, Rank:267 Global Sales: 4.22 millions",
          "Name:Warcraft II: Tides of Darkness, Rank:268 Global Sales: 4.21 millions",
          "Name:The Legend of Zelda: Ocarina of Time, Rank:269 Global Sales: 4.21 millions",
          "Name:FIFA Soccer 06, Rank:270 Global Sales: 4.21 millions",
          "Name:EyeToy Play, Rank:271 Global Sales: 4.2 millions",
          "Name:Gran Turismo 5 Prologue, Rank:273 Global Sales: 4.2 millions",
          "Name:Assassin's Creed: Revelations, Rank:274 Global Sales: 4.19 millions",
          "Name:Street Fighter IV, Rank:275 Global Sales: 4.19 millions",
          "Name:FIFA 12, Rank:276 Global Sales: 4.19 millions",
          "Name:Teenage Mutant Ninja Turtles, Rank:277 Global Sales: 4.17 millions",
          "Name:Excitebike, Rank:278 Global Sales: 4.16 millions",
          "Name:Frogger, Rank:279 Global Sales: 4.16 millions",
          "Name:Madden NFL 2003, Rank:280 Global Sales: 4.14 millions",
          "Name:Watch Dogs, Rank:281 Global Sales: 4.14 millions",
          "Name:Half-Life, Rank:282 Global Sales: 4.12 millions",
          "Name:Super Mario World 2: Yoshi's Island, Rank:283 Global Sales: 4.12 millions",
          "Name:FIFA Soccer 07, Rank:284 Global Sales: 4.11 millions",
          "Name:The Legend of Zelda: Skyward Sword, Rank:285 Global Sales: 4.1 millions",
          "Name:Street Fighter II Turbo, Rank:286 Global Sales: 4.1 millions",
          "Name:Carnival Games, Rank:287 Global Sales: 4.1 millions",
          "Name:Fallout 4, Rank:288 Global Sales: 4.09 millions",
          "Name:World of Warcraft: The Burning Crusade, Rank:289 Global Sales: 4.09 millions",
          "Name:Fallout: New Vegas, Rank:290 Global Sales: 4.08 millions",
          "Name:God of War II, Rank:291 Global Sales: 4.07 millions",
          "Name:Forza Motorsport 2, Rank:292 Global Sales: 4.06 millions",
          "Name:World Soccer Winning Eleven 9, Rank:293 Global Sales: 4.06 millions",
          "Name:Namco Museum Vol.3, Rank:294 Global Sales: 4.05 millions",
          "Name:Tekken Tag Tournament, Rank:295 Global Sales: 4.05 millions",
          "Name:Far Cry 4, Rank:296 Global Sales: 4.03 millions",
          "Name:Star Fox 64, Rank:297 Global Sales: 4.03 millions",
          "Name:Minecraft, Rank:298 Global Sales: 4.02 millions",
          "Name:Golf, Rank:299 Global Sales: 4.01 millions",
          "Name:Fallout 3, Rank:300 Global Sales: 4.01 millions",
          "Name:Professor Layton and the Diabolical Box, Rank:301 Global Sales: 4.0 millions",
          "Name:Left 4 Dead 2, Rank:302 Global Sales: 3.99 millions",
          "Name:Namco Museum: 50th Anniversary, Rank:303 Global Sales: 3.98 millions",
          "Name:EA Sports Active, Rank:304 Global Sales: 3.92 millions",
          "Name:Assassin's Creed: Unity, Rank:305 Global Sales: 3.92 millions",
          "Name:Donkey Kong Land, Rank:306 Global Sales: 3.91 millions",
          "Name:Tony Hawk's Underground, Rank:307 Global Sales: 3.9 millions",
          "Name:Assassin's Creed IV: Black Flag, Rank:308 Global Sales: 3.89 millions",
          "Name:Monster Hunter 4 Ultimate, Rank:309 Global Sales: 3.89 millions",
          "Name:MotorStorm, Rank:310 Global Sales: 3.88 millions",
          "Name:The Elder Scrolls V: Skyrim, Rank:311 Global Sales: 3.88 millions",
          "Name:Tekken 5, Rank:312 Global Sales: 3.87 millions",
          "Name:Dragon Warrior III, Rank:313 Global Sales: 3.87 millions",
          "Name:Sports Champions, Rank:314 Global Sales: 3.87 millions",
          "Name:NBA 2K16, Rank:315 Global Sales: 3.85 millions",
          "Name:World Soccer Winning Eleven 8 International, Rank:316 Global Sales: 3.85 millions",
          "Name:Flash Focus: Vision Training in Minutes a Day, Rank:317 Global Sales: 3.84 millions",
          "Name:Namco Museum Vol.1, Rank:318 Global Sales: 3.84 millions",
          "Name:The Legend of Zelda: Link's Awakening, Rank:319 Global Sales: 3.83 millions",
          "Name:Mario & Luigi: Bowser's Inside Story, Rank:320 Global Sales: 3.83 millions",
          "Name:Big Brain Academy: Wii Degree, Rank:321 Global Sales: 3.82 millions",
          "Name:Nintendogs + cats, Rank:322 Global Sales: 3.81 millions",
          "Name:Batman: Arkham Knight, Rank:323 Global Sales: 3.79 millions",
          "Name:Mario & Sonic at the London 2012 Olympic Games, Rank:324 Global Sales: 3.78 millions",
          "Name:LEGO Indiana Jones: The Original Adventures, Rank:325 Global Sales: 3.78 millions",
          "Name:Resident Evil Director's Cut, Rank:326 Global Sales: 3.77 millions",
          "Name:Ratchet & Clank: Size Matters, Rank:327 Global Sales: 3.77 millions",
          "Name:Just Dance 2014, Rank:328 Global Sales: 3.76 millions",
          "Name:The Sims: Unleashed, Rank:329 Global Sales: 3.76 millions",
          "Name:Super Paper Mario, Rank:330 Global Sales: 3.76 millions",
          "Name:Harry Potter and the Sorcerer's Stone, Rank:331 Global Sales: 3.73 millions",
          "Name:The Witcher 3: Wild Hunt, Rank:332 Global Sales: 3.73 millions",
          "Name:Resident Evil 3: Nemesis, Rank:333 Global Sales: 3.72 millions",
          "Name:Spyro: Year of the Dragon, Rank:334 Global Sales: 3.71 millions",
          "Name:FIFA Soccer 2005, Rank:335 Global Sales: 3.7 millions",
          "Name:Pokémon Trading Card Game, Rank:336 Global Sales: 3.7 millions",
          "Name:Battlefield 4, Rank:337 Global Sales: 3.69 millions",
          "Name:MySims, Rank:338 Global Sales: 3.69 millions",
          "Name:Friend Collection, Rank:339 Global Sales: 3.67 millions",
          "Name:Tony Hawk's Pro Skater 4, Rank:340 Global Sales: 3.67 millions",
          "Name:Midnight Club 3: DUB Edition, Rank:341 Global Sales: 3.66 millions",
          "Name:Banjo-Kazooie, Rank:342 Global Sales: 3.65 millions",
          "Name:SOCOM: U.S. Navy SEALs, Rank:343 Global Sales: 3.65 millions",
          "Name:Guitar Hero: World Tour, Rank:344 Global Sales: 3.65 millions",
          "Name:Gran Turismo 6, Rank:345 Global Sales: 3.64 millions",
          "Name:Jak and Daxter: The Precursor Legacy, Rank:346 Global Sales: 3.64 millions",
          "Name:Pokemon Snap, Rank:347 Global Sales: 3.63 millions",
          "Name:FIFA Soccer 10, Rank:348 Global Sales: 3.63 millions",
          "Name:Pro Evolution Soccer 2008, Rank:349 Global Sales: 3.63 millions",
          "Name:Call of Duty: Ghosts, Rank:350 Global Sales: 3.63 millions",
          "Name:Resident Evil 4, Rank:351 Global Sales: 3.62 millions",
          "Name:Star Wars: Battlefront, Rank:353 Global Sales: 3.61 millions",
          "Name:Doom II: Hell on Earth, Rank:354 Global Sales: 3.61 millions",
          "Name:The Simpsons: Road Rage, Rank:355 Global Sales: 3.61 millions",
          "Name:Cooking Mama 2: Dinner With Friends, Rank:356 Global Sales: 3.61 millions",
          "Name:Luigi's Mansion, Rank:357 Global Sales: 3.6 millions",
          "Name:Star Wars: Battlefront II, Rank:358 Global Sales: 3.59 millions",
          "Name:WWF SmackDown!, Rank:359 Global Sales: 3.58 millions",
          "Name:Croc: Legend of the Gobbos, Rank:360 Global Sales: 3.56 millions",
          "Name:Grand Theft Auto: Liberty City Stories, Rank:361 Global Sales: 3.54 millions",
          "Name:The Getaway, Rank:362 Global Sales: 3.54 millions",
          "Name:Tomb Raider III: Adventures of Lara Croft, Rank:363 Global Sales: 3.54 millions",
          "Name:James Bond 007: Agent Under Fire, Rank:364 Global Sales: 3.53 millions",
          "Name:LEGO Star Wars: The Video Game, Rank:365 Global Sales: 3.53 millions",
          "Name:Battlefield 4, Rank:366 Global Sales: 3.53 millions",
          "Name:FIFA Soccer 11, Rank:367 Global Sales: 3.53 millions",
          "Name:Rugrats in Paris: The Movie, Rank:368 Global Sales: 3.52 millions",
          "Name:Spyro 2: Ripto's Rage!, Rank:369 Global Sales: 3.52 millions",
          "Name:Left 4 Dead, Rank:370 Global Sales: 3.52 millions",
          "Name:Mario & Sonic at the Olympic Winter Games, Rank:371 Global Sales: 3.52 millions",
          "Name:Resident Evil 5, Rank:372 Global Sales: 3.51 millions",
          "Name:Donkey Kong Country 3: Dixie Kong's Double Trouble!, Rank:373 Global Sales: 3.51 millions",
          "Name:Assassin's Creed: Brotherhood, Rank:374 Global Sales: 3.5 millions",
          "Name:Kung Fu, Rank:375 Global Sales: 3.5 millions",
          "Name:Batman: Arkham Asylum, Rank:376 Global Sales: 3.5 millions",
          "Name:Clubhouse Games, Rank:377 Global Sales: 3.5 millions",
          "Name:FIFA Soccer 2004, Rank:378 Global Sales: 3.49 millions",
          "Name:Star Wars Battlefront (2015), Rank:379 Global Sales: 3.49 millions",
          "Name:Battlefield: Bad Company 2, Rank:380 Global Sales: 3.48 millions",
          "Name:Guitar Hero: On Tour, Rank:381 Global Sales: 3.48 millions",
          "Name:Assassin's Creed: Unity, Rank:382 Global Sales: 3.46 millions",
          "Name:Far Cry 3, Rank:383 Global Sales: 3.45 millions",
          "Name:Monster Hunter 4, Rank:384 Global Sales: 3.44 millions",
          "Name:Borderlands, Rank:385 Global Sales: 3.44 millions",
          "Name:Tekken 4, Rank:386 Global Sales: 3.44 millions",
          "Name:Battlefield 4, Rank:387 Global Sales: 3.43 millions",
          "Name:LittleBigPlanet 2, Rank:388 Global Sales: 3.42 millions",
          "Name:Grand Theft Auto 2, Rank:389 Global Sales: 3.42 millions",
          "Name:Final Fantasy III, Rank:390 Global Sales: 3.42 millions",
          "Name:Spider-Man 2, Rank:391 Global Sales: 3.41 millions",
          "Name:F-1 Race, Rank:392 Global Sales: 3.41 millions",
          "Name:FIFA Soccer 2003, Rank:393 Global Sales: 3.4 millions",
          "Name:Crash Bash, Rank:394 Global Sales: 3.39 millions",
          "Name:LEGO Batman: The Videogame, Rank:395 Global Sales: 3.38 millions",
          "Name:Metal Gear Solid V: The Phantom Pain, Rank:396 Global Sales: 3.38 millions",
          "Name:The Legend of Zelda: Spirit Tracks, Rank:397 Global Sales: 3.38 millions",
          "Name:WWF War Zone, Rank:398 Global Sales: 3.36 millions",
          "Name:The Legend of Zelda: Majora's Mask, Rank:399 Global Sales: 3.36 millions",
          "Name:Professor Layton and the Unwound Future, Rank:400 Global Sales: 3.36 millions",
          "Name:Rugrats: Search For Reptar, Rank:401 Global Sales: 3.34 millions",
          "Name:Assassin's Creed IV: Black Flag, Rank:402 Global Sales: 3.34 millions",
          "Name:English Training: Have Fun Improving Your Skills!, Rank:403 Global Sales: 3.33 millions",
          "Name:James Bond 007: Nightfire, Rank:404 Global Sales: 3.33 millions",
          "Name:Ratchet & Clank, Rank:405 Global Sales: 3.33 millions",
          "Name:Mario Party 9, Rank:406 Global Sales: 3.32 millions",
          "Name:Star Wars Episode III: Revenge of the Sith, Rank:407 Global Sales: 3.32 millions",
          "Name:Max Payne, Rank:408 Global Sales: 3.31 millions",
          "Name:The Lord of the Rings: The Return of the King, Rank:409 Global Sales: 3.28 millions",
          "Name:Assassin's Creed Syndicate, Rank:410 Global Sales: 3.28 millions",
          "Name:Destiny, Rank:411 Global Sales: 3.28 millions",
          "Name:True Crime: Streets of LA, Rank:412 Global Sales: 3.27 millions",
          "Name:Wii Music, Rank:413 Global Sales: 3.27 millions",
          "Name:Gran Turismo (PSP), Rank:414 Global Sales: 3.27 millions",
          "Name:Monster Hunter X, Rank:415 Global Sales: 3.26 millions",
          "Name:Tekken, Rank:416 Global Sales: 3.24 millions",
          "Name:FIFA 16, Rank:417 Global Sales: 3.23 millions",
          "Name:L.A. Noire, Rank:418 Global Sales: 3.23 millions",
          "Name:Madden NFL 16, Rank:419 Global Sales: 3.22 millions",
          "Name:Yokai Watch 2 Ganso/Honke, Rank:420 Global Sales: 3.22 millions",
          "Name:007: Tomorrow Never Dies, Rank:421 Global Sales: 3.21 millions",
          "Name:Baseball, Rank:422 Global Sales: 3.2 millions",
          "Name:Killer Instinct, Rank:423 Global Sales: 3.2 millions",
          "Name:WWF SmackDown! 2: Know Your Role, Rank:424 Global Sales: 3.2 millions",
          "Name:Crisis Core: Final Fantasy VII, Rank:425 Global Sales: 3.19 millions",
          "Name:God of War: Chains of Olympus, Rank:426 Global Sales: 3.19 millions",
          "Name:Dragon Quest VI: Maboroshi no Daichi, Rank:427 Global Sales: 3.19 millions",
          "Name:Dance Central, Rank:428 Global Sales: 3.19 millions",
          "Name:Enter the Matrix, Rank:429 Global Sales: 3.18 millions",
          "Name:Super Mario Maker, Rank:430 Global Sales: 3.18 millions",
          "Name:Fallout: New Vegas, Rank:431 Global Sales: 3.17 millions",
          "Name:LEGO Batman: The Videogame, Rank:432 Global Sales: 3.17 millions",
          "Name:Rhythm Heaven, Rank:433 Global Sales: 3.17 millions",
          "Name:Ace Combat 04: Shattered Skies, Rank:434 Global Sales: 3.17 millions",
          "Name:Club Penguin: Elite Penguin Force, Rank:435 Global Sales: 3.16 millions",
          "Name:Animal Crossing, Rank:436 Global Sales: 3.15 millions",
          "Name:LEGO Batman: The Videogame, Rank:437 Global Sales: 3.15 millions",
          "Name:Sonic Rush, Rank:438 Global Sales: 3.15 millions",
          "Name:Resident Evil 6, Rank:439 Global Sales: 3.15 millions",
          "Name:Halo: The Master Chief Collection, Rank:440 Global Sales: 3.15 millions",
          "Name:FIFA Soccer 08, Rank:441 Global Sales: 3.14 millions",
          "Name:Spider-Man, Rank:442 Global Sales: 3.13 millions",
          "Name:Need for Speed III: Hot Pursuit, Rank:443 Global Sales: 3.12 millions",
          "Name:Star Wars Episode I Racer, Rank:444 Global Sales: 3.12 millions",
          "Name:Personal Trainer: Cooking, Rank:445 Global Sales: 3.12 millions",
          "Name:The Elder Scrolls IV: Oblivion, Rank:446 Global Sales: 3.12 millions",
          "Name:Dragon Warrior IV, Rank:447 Global Sales: 3.12 millions",
          "Name:Heavy Rain, Rank:448 Global Sales: 3.12 millions",
          "Name:Mass Effect 2, Rank:449 Global Sales: 3.11 millions",
          "Name:FIFA 15, Rank:450 Global Sales: 3.11 millions",
          "Name:Dragon Ball Z: Budokai, Rank:451 Global Sales: 3.09 millions",
          "Name:Madden NFL 2002, Rank:452 Global Sales: 3.08 millions",
          "Name:World Class Track Meet, Rank:453 Global Sales: 3.08 millions",
          "Name:Borderlands 2, Rank:454 Global Sales: 3.07 millions",
          "Name:The Legend of Zelda: A Link Between Worlds, Rank:455 Global Sales: 3.07 millions",
          "Name:Donkey Kong, Rank:456 Global Sales: 3.07 millions",
          "Name:The Sims: Vacation, Rank:457 Global Sales: 3.07 millions",
          "Name:Mass Effect 3, Rank:458 Global Sales: 3.07 millions",
          "Name:Kung Fu Panda, Rank:459 Global Sales: 3.05 millions",
          "Name:Far Cry 3, Rank:460 Global Sales: 3.04 millions",
          "Name:Epic Mickey, Rank:461 Global Sales: 3.04 millions",
          "Name:Saints Row 2, Rank:462 Global Sales: 3.03 millions",
          "Name:Rayman, Rank:463 Global Sales: 3.03 millions",
          "Name:Killzone 2, Rank:464 Global Sales: 3.02 millions",
          "Name:Tom Clancy's Splinter Cell, Rank:465 Global Sales: 3.02 millions",
          "Name:Mike Tyson's Punch-Out!!, Rank:466 Global Sales: 3.02 millions",
          "Name:WWE SmackDown! Shut Your Mouth, Rank:467 Global Sales: 3.02 millions",
          "Name:Gears of War: Ultimate Edition, Rank:468 Global Sales: 3.0 millions",
          "Name:NBA 2K13, Rank:469 Global Sales: 3.0 millions",
          "Name:Dragon Ball Z: Budokai Tenkaichi 3, Rank:470 Global Sales: 3.0 millions",
          "Name:wwe Smackdown vs. Raw 2006, Rank:471 Global Sales: 3.0 millions",
          "Name:Middle-Earth: Shadow of Mordor, Rank:472 Global Sales: 2.99 millions",
          "Name:Star Fox, Rank:473 Global Sales: 2.99 millions",
          "Name:The Sims: Livin Large, Rank:474 Global Sales: 2.99 millions",
          "Name:World Soccer Winning Eleven 6 International, Rank:475 Global Sales: 2.99 millions",
          "Name:Devil May Cry, Rank:476 Global Sales: 2.99 millions",
          "Name:Animal Crossing: Happy Home Designer, Rank:477 Global Sales: 2.98 millions",
          "Name:Battlefield: Bad Company 2, Rank:478 Global Sales: 2.97 millions",
          "Name:The Sims 4, Rank:479 Global Sales: 2.97 millions",
          "Name:Star Wars: The Old Republic, Rank:480 Global Sales: 2.97 millions",
          "Name:Sonic Heroes, Rank:481 Global Sales: 2.96 millions",
          "Name:Kirby Super Star Ultra, Rank:482 Global Sales: 2.96 millions",
          "Name:Hitman 2: Silent Assassin, Rank:483 Global Sales: 2.96 millions",
          "Name:Street Fighter IV, Rank:484 Global Sales: 2.95 millions",
          "Name:Wave Race 64, Rank:485 Global Sales: 2.94 millions",
          "Name:SOCOM II: U.S. Navy SEALs, Rank:486 Global Sales: 2.94 millions",
          "Name:WWE SmackDown! vs. RAW 2006, Rank:487 Global Sales: 2.94 millions",
          "Name:inFAMOUS, Rank:488 Global Sales: 2.94 millions",
          "Name:Pac-Man Collection, Rank:489 Global Sales: 2.94 millions",
          "Name:Mass Effect, Rank:490 Global Sales: 2.93 millions",
          "Name:WarioWare: Smooth Moves, Rank:491 Global Sales: 2.92 millions",
          "Name:Cooking Mama: Cook Off, Rank:492 Global Sales: 2.91 millions",
          "Name:Super Mario World 2: Yoshi's Island, Rank:493 Global Sales: 2.91 millions",
          "Name:FIFA 14, Rank:494 Global Sales: 2.9 millions",
          "Name:Titanfall, Rank:495 Global Sales: 2.9 millions",
          "Name:Sonic Mega Collection Plus, Rank:496 Global Sales: 2.9 millions",
          "Name:Sega Superstars Tennis, Rank:497 Global Sales: 2.9 millions",
          "Name:World Soccer Winning Eleven 7 International, Rank:498 Global Sales: 2.9 millions",
          "Name:Need for Speed: Most Wanted, Rank:499 Global Sales: 2.89 millions",
          "Name:Hot Shots Golf 3, Rank:500 Global Sales: 2.89 millions",
          "Name:Call of Duty: Finest Hour, Rank:501 Global Sales: 2.89 millions",
          "Name:Zumba Fitness 2, Rank:502 Global Sales: 2.88 millions",
          "Name:Syphon Filter, Rank:503 Global Sales: 2.88 millions",
          "Name:Imagine: Babyz, Rank:504 Global Sales: 2.88 millions",
          "Name:Colin McRae Rally, Rank:505 Global Sales: 2.87 millions",
          "Name:Call of Duty: Ghosts, Rank:506 Global Sales: 2.86 millions",
          "Name:Madden NFL 13, Rank:507 Global Sales: 2.86 millions",
          "Name:The Elder Scrolls III: Morrowind, Rank:508 Global Sales: 2.86 millions",
          "Name:Mortal Kombat, Rank:509 Global Sales: 2.85 millions",
          "Name:F-Zero, Rank:510 Global Sales: 2.85 millions",
          "Name:Yoshi's Story, Rank:511 Global Sales: 2.85 millions",
          "Name:Command & Conquer: Red Alert, Rank:512 Global Sales: 2.85 millions",
          "Name:Skylanders: Spyro's Adventure, Rank:513 Global Sales: 2.85 millions",
          "Name:FIFA 16, Rank:514 Global Sales: 2.85 millions",
          "Name:Assassin's Creed: Brotherhood, Rank:515 Global Sales: 2.84 millions",
          "Name:BioShock, Rank:516 Global Sales: 2.83 millions",
          "Name:Madden NFL 10, Rank:517 Global Sales: 2.83 millions",
          "Name:Medal of Honor, Rank:518 Global Sales: 2.83 millions",
          "Name:WWE SmackDown! vs. Raw, Rank:519 Global Sales: 2.83 millions",
          "Name:Metroid Prime, Rank:520 Global Sales: 2.82 millions",
          "Name:Finding Nemo, Rank:521 Global Sales: 2.82 millions",
          "Name:Myst, Rank:522 Global Sales: 2.81 millions",
          "Name:Need for Speed: Hot Pursuit, Rank:523 Global Sales: 2.81 millions",
          "Name:Imagine: Fashion Designer, Rank:524 Global Sales: 2.81 millions",
          "Name:WWE SmackDown! Here Comes the Pain, Rank:525 Global Sales: 2.8 millions",
          "Name:Star Wars: The Force Unleashed, Rank:526 Global Sales: 2.8 millions",
          "Name:Yoshi's Island DS, Rank:527 Global Sales: 2.8 millions",
          "Name:Hot Shots Golf, Rank:528 Global Sales: 2.79 millions",
          "Name:Killzone 3, Rank:529 Global Sales: 2.79 millions",
          "Name:A Bug's Life, Rank:530 Global Sales: 2.79 millions",
          "Name:WWF SmackDown! Just Bring It, Rank:531 Global Sales: 2.79 millions",
          "Name:Dragon Quest V: Tenkuu no Hanayome, Rank:532 Global Sales: 2.79 millions",
          "Name:Mortal Kombat Trilogy, Rank:533 Global Sales: 2.79 millions",
          "Name:Battlefield 3, Rank:534 Global Sales: 2.79 millions",
          "Name:NBA Street, Rank:535 Global Sales: 2.79 millions",
          "Name:Professor Layton and the Last Specter, Rank:536 Global Sales: 2.79 millions",
          "Name:Monster Hunter Tri, Rank:537 Global Sales: 2.79 millions",
          "Name:Jak II, Rank:538 Global Sales: 2.78 millions",
          "Name:inFAMOUS: Second Son, Rank:539 Global Sales: 2.78 millions",
          "Name:Ratchet & Clank: Going Commando, Rank:540 Global Sales: 2.78 millions",
          "Name:Tekken 6, Rank:541 Global Sales: 2.78 millions",
          "Name:The Sims, Rank:542 Global Sales: 2.77 millions",
          "Name:Sonic and the Secret Rings, Rank:543 Global Sales: 2.77 millions",
          "Name:Saints Row: The Third, Rank:544 Global Sales: 2.77 millions",
          "Name:Missile Command, Rank:545 Global Sales: 2.76 millions",
          "Name:Mario Paint, Rank:546 Global Sales: 2.75 millions",
          "Name:Assassin's Creed IV: Black Flag, Rank:547 Global Sales: 2.74 millions",
          "Name:Pokémon Stadium 2, Rank:548 Global Sales: 2.73 millions",
          "Name:Metroid, Rank:549 Global Sales: 2.73 millions",
          "Name:L.A. Noire, Rank:550 Global Sales: 2.72 millions",
          "Name:Call of Duty 3, Rank:551 Global Sales: 2.71 millions",
          "Name:The Legend of Zelda: A Link to the Past, Rank:552 Global Sales: 2.7 millions",
          "Name:Onimusha: Warlords, Rank:553 Global Sales: 2.7 millions",
          "Name:Mortal Kombat X, Rank:554 Global Sales: 2.7 millions",
          "Name:Mario Party, Rank:555 Global Sales: 2.7 millions",
          "Name:Madden NFL 12, Rank:556 Global Sales: 2.69 millions",
          "Name:LEGO Star Wars II: The Original Trilogy, Rank:557 Global Sales: 2.69 millions",
          "Name:Madden NFL 11, Rank:558 Global Sales: 2.69 millions",
          "Name:Mario vs. Donkey Kong: Mini-Land Mayhem!, Rank:559 Global Sales: 2.69 millions",
          "Name:Skate 3, Rank:560 Global Sales: 2.68 millions",
          "Name:Burnout 3: Takedown, Rank:561 Global Sales: 2.68 millions",
          "Name:Yokai Watch 2 Shinuchi, Rank:562 Global Sales: 2.68 millions",
          "Name:Need for Speed: Shift, Rank:563 Global Sales: 2.68 millions",
          "Name:Final Fantasy XIII-2, Rank:564 Global Sales: 2.68 millions",
          "Name:Mortal Kombat, Rank:565 Global Sales: 2.67 millions",
          "Name:Call Of Duty 2: Big Red One, Rank:566 Global Sales: 2.67 millions",
          "Name:Guitar Hero: World Tour, Rank:567 Global Sales: 2.67 millions",
          "Name:Medal of Honor, Rank:568 Global Sales: 2.67 millions",
          "Name:Fable, Rank:569 Global Sales: 2.66 millions",
          "Name:Hannah Montana, Rank:570 Global Sales: 2.65 millions",
          "Name:Tom Clancy's Splinter Cell, Rank:571 Global Sales: 2.65 millions",
          "Name:Skylanders Giants, Rank:572 Global Sales: 2.65 millions",
          "Name:Medal of Honor Heroes, Rank:573 Global Sales: 2.65 millions",
          "Name:Super Mario Bros.: The Lost Levels, Rank:574 Global Sales: 2.65 millions",
          "Name:Star Wars: Shadows of the Empire, Rank:575 Global Sales: 2.65 millions",
          "Name:LEGO Star Wars: The Complete Saga, Rank:576 Global Sales: 2.64 millions",
          "Name:Midnight Club: Street Racing, Rank:577 Global Sales: 2.63 millions",
          "Name:Pac-Man: Adventures in Time, Rank:578 Global Sales: 2.63 millions",
          "Name:Halo Wars, Rank:579 Global Sales: 2.63 millions",
          "Name:God of War Collection, Rank:580 Global Sales: 2.63 millions",
          "Name:ESPN NFL 2K5, Rank:581 Global Sales: 2.62 millions",
          "Name:Mario Strikers Charged, Rank:582 Global Sales: 2.62 millions",
          "Name:Medal of Honor, Rank:583 Global Sales: 2.62 millions",
          "Name:FIFA Soccer 10, Rank:584 Global Sales: 2.62 millions",
          "Name:NBA 2K12, Rank:585 Global Sales: 2.62 millions",
          "Name:Style Savvy, Rank:586 Global Sales: 2.61 millions",
          "Name:Harry Potter and the Chamber of Secrets, Rank:587 Global Sales: 2.61 millions",
          "Name:Super Mario All-Stars: Limited Edition, Rank:588 Global Sales: 2.6 millions",
          "Name:Streets of Rage, Rank:589 Global Sales: 2.6 millions",
          "Name:FIFA Soccer 09, Rank:590 Global Sales: 2.59 millions",
          "Name:Ratchet & Clank Future: Tools of Destruction, Rank:591 Global Sales: 2.59 millions",
          "Name:NBA Live 2005, Rank:592 Global Sales: 2.59 millions",
          "Name:LittleBigPlanet, Rank:593 Global Sales: 2.58 millions",
          "Name:Killzone: Shadow Fall, Rank:594 Global Sales: 2.58 millions",
          "Name:Ghostbusters: The Video Game (DS Version), Rank:595 Global Sales: 2.58 millions",
          "Name:Monster Hunter Freedom 2, Rank:596 Global Sales: 2.58 millions",
          "Name:WWE SmackDown vs. RAW 2007, Rank:597 Global Sales: 2.58 millions",
          "Name:Ratchet & Clank: Up Your Arsenal, Rank:598 Global Sales: 2.57 millions",
          "Name:Art Academy, Rank:599 Global Sales: 2.57 millions",
          "Name:Dragon Age: Origins, Rank:600 Global Sales: 2.57 millions",
          "Name:Madden NFL 08, Rank:601 Global Sales: 2.57 millions",
          "Name:Sonic Adventure 2 Battle, Rank:602 Global Sales: 2.56 millions",
          "Name:Dragon Warrior II, Rank:603 Global Sales: 2.56 millions",
          "Name:Madden NFL 13, Rank:604 Global Sales: 2.56 millions",
          "Name:Pokémon Colosseum, Rank:605 Global Sales: 2.54 millions",
          "Name:Deca Sports, Rank:606 Global Sales: 2.54 millions",
          "Name:Madden NFL 09, Rank:607 Global Sales: 2.54 millions",
          "Name:Space Invaders, Rank:608 Global Sales: 2.53 millions",
          "Name:Crazy Taxi, Rank:609 Global Sales: 2.52 millions",
          "Name:Perfect Dark, Rank:610 Global Sales: 2.52 millions",
          "Name:Game Party, Rank:611 Global Sales: 2.52 millions",
          "Name:Dragon Warrior, Rank:612 Global Sales: 2.52 millions",
          "Name:Tomb Raider (2013), Rank:613 Global Sales: 2.51 millions",
          "Name:Marvel: Ultimate Alliance, Rank:614 Global Sales: 2.5 millions",
          "Name:PES 2009: Pro Evolution Soccer, Rank:615 Global Sales: 2.5 millions",
          "Name:Mario Party 2, Rank:616 Global Sales: 2.5 millions",
          "Name:Saints Row: The Third, Rank:617 Global Sales: 2.49 millions",
          "Name:Rockstar Games Double Pack: Grand Theft Auto III & Grand Theft Auto Vice City, Rank:618 Global Sales: 2.49 millions",
          "Name:LEGO Harry Potter: Years 1-4, Rank:619 Global Sales: 2.49 millions",
          "Name:Mortal Kombat: Deadly Alliance, Rank:620 Global Sales: 2.49 millions",
          "Name:Resistance 2, Rank:621 Global Sales: 2.48 millions",
          "Name:Pure, Rank:622 Global Sales: 2.48 millions",
          "Name:Tomb Raider: The Last Revelation, Rank:623 Global Sales: 2.48 millions",
          "Name:NBA 2K13, Rank:624 Global Sales: 2.48 millions",
          "Name:Rock Band, Rank:625 Global Sales: 2.48 millions",
          "Name:NBA 2K14, Rank:626 Global Sales: 2.47 millions",
          "Name:Mario Party 4, Rank:627 Global Sales: 2.47 millions",
          "Name:uDraw Studio, Rank:628 Global Sales: 2.46 millions",
          "Name:Midnight Club: Los Angeles, Rank:629 Global Sales: 2.45 millions",
          "Name:Final Fantasy V, Rank:630 Global Sales: 2.45 millions",
          "Name:Final Fantasy Tactics, Rank:631 Global Sales: 2.45 millions",
          "Name:Twisted Metal 2, Rank:632 Global Sales: 2.44 millions",
          "Name:Halo: Combat Evolved Anniversary, Rank:633 Global Sales: 2.44 millions",
          "Name:Need for Speed Carbon: Own the City, Rank:634 Global Sales: 2.44 millions",
          "Name:The Sims: Bustin' Out, Rank:635 Global Sales: 2.43 millions",
          "Name:Riven: The Sequel to Myst, Rank:636 Global Sales: 2.43 millions",
          "Name:Tom Clancy's Rainbow Six: Vegas 2, Rank:637 Global Sales: 2.42 millions",
          "Name:Sonic Adventure, Rank:638 Global Sales: 2.42 millions",
          "Name:Ice Hockey, Rank:639 Global Sales: 2.42 millions",
          "Name:pro evolution soccer 2011, Rank:640 Global Sales: 2.42 millions",
          "Name:Dragon Ball Z: Budokai 2, Rank:641 Global Sales: 2.41 millions",
          "Name:ATV Offroad Fury, Rank:642 Global Sales: 2.41 millions",
          "Name:Dino Crisis, Rank:643 Global Sales: 2.41 millions",
          "Name:Minecraft, Rank:644 Global Sales: 2.41 millions",
          "Name:Need for Speed: ProStreet, Rank:645 Global Sales: 2.41 millions",
          "Name:Madden NFL 16, Rank:646 Global Sales: 2.4 millions",
          "Name:Tetris Plus, Rank:647 Global Sales: 2.4 millions",
          "Name:Pro Wrestling, Rank:648 Global Sales: 2.4 millions",
          "Name:Theme Hospital, Rank:649 Global Sales: 2.4 millions",
          "Name:Frogger's Adventures: Temple of the Frog, Rank:650 Global Sales: 2.39 millions",
          "Name:Need for Speed (2015), Rank:651 Global Sales: 2.39 millions",
          "Name:Zumba Fitness, Rank:652 Global Sales: 2.39 millions",
          "Name:LEGO Indiana Jones: The Original Adventures, Rank:653 Global Sales: 2.39 millions",
          "Name:Monopoly, Rank:655 Global Sales: 2.39 millions",
          "Name:Batman: Arkham Origins, Rank:656 Global Sales: 2.39 millions",
          "Name:Dead Island, Rank:657 Global Sales: 2.39 millions",
          "Name:Guitar Hero, Rank:658 Global Sales: 2.38 millions",
          "Name:LEGO Star Wars: The Complete Saga, Rank:659 Global Sales: 2.38 millions",
          "Name:Kinect: Disneyland Adventures, Rank:660 Global Sales: 2.38 millions",
          "Name:WCW/nWo Revenge, Rank:661 Global Sales: 2.38 millions",
          "Name:Bloodborne, Rank:662 Global Sales: 2.38 millions",
          "Name:NBA 2K15, Rank:663 Global Sales: 2.38 millions",
          "Name:Madden NFL 11, Rank:664 Global Sales: 2.38 millions",
          "Name:Yu-Gi-Oh! The Duelists of the Roses, Rank:665 Global Sales: 2.38 millions",
          "Name:Madden NFL 08, Rank:666 Global Sales: 2.37 millions",
          "Name:Half-Life 2, Rank:667 Global Sales: 2.37 millions",
          "Name:The Incredibles, Rank:668 Global Sales: 2.37 millions",
          "Name:Tony Hawk's Underground 2, Rank:669 Global Sales: 2.37 millions",
          "Name:Madden NFL 10, Rank:670 Global Sales: 2.37 millions",
          "Name:Kinect Sports: Season Two, Rank:671 Global Sales: 2.36 millions",
          "Name:Kirby's Dream Land 2, Rank:672 Global Sales: 2.36 millions",
          "Name:LEGO Harry Potter: Years 1-4, Rank:673 Global Sales: 2.35 millions",
          "Name:Donkey Kong Land II, Rank:674 Global Sales: 2.35 millions",
          "Name:Dragon Warrior Monsters, Rank:675 Global Sales: 2.35 millions",
          "Name:Midnight Club: Los Angeles, Rank:676 Global Sales: 2.35 millions",
          "Name:Skylanders SWAP Force, Rank:677 Global Sales: 2.34 millions",
          "Name:WWE SmackDown vs Raw 2008, Rank:678 Global Sales: 2.34 millions",
          "Name:My Fitness Coach, Rank:679 Global Sales: 2.34 millions",
          "Name:Resident Evil - Code: Veronica X, Rank:680 Global Sales: 2.34 millions",
          "Name:The Sims 3, Rank:681 Global Sales: 2.33 millions",
          "Name:The Legend of Zelda: Majora's Mask 3D, Rank:682 Global Sales: 2.32 millions",
          "Name:NBA 2K16, Rank:683 Global Sales: 2.32 millions",
          "Name:Just Dance Kids, Rank:684 Global Sales: 2.32 millions",
          "Name:Mario Tennis, Rank:685 Global Sales: 2.32 millions",
          "Name:Grand Theft Auto, Rank:686 Global Sales: 2.32 millions",
          "Name:James Bond 007: Everything or Nothing, Rank:687 Global Sales: 2.31 millions",
          "Name:WarioWare Touched!, Rank:688 Global Sales: 2.31 millions",
          "Name:Need For Speed: High Stakes, Rank:689 Global Sales: 2.31 millions",
          "Name:Chrono Trigger, Rank:690 Global Sales: 2.31 millions",
          "Name:Cool Boarders 3, Rank:691 Global Sales: 2.31 millions",
          "Name:LEGO Marvel Super Heroes, Rank:692 Global Sales: 2.3 millions",
          "Name:Guild Wars 2, Rank:693 Global Sales: 2.3 millions",
          "Name:Pokemon Ranger: Shadows of Almia, Rank:694 Global Sales: 2.3 millions",
          "Name:Dead Island, Rank:695 Global Sales: 2.29 millions",
          "Name:Tomb Raider II, Rank:696 Global Sales: 2.29 millions",
          "Name:God of War: Ascension, Rank:697 Global Sales: 2.29 millions",
          "Name:Need for Speed Underground 2, Rank:698 Global Sales: 2.28 millions",
          "Name:Pro Evolution Soccer 2010, Rank:699 Global Sales: 2.28 millions",
          "Name:Just Dance 2015, Rank:700 Global Sales: 2.28 millions",
          "Name:Yokai Watch Busters, Rank:701 Global Sales: 2.28 millions",
          "Name:Mario Bros., Rank:702 Global Sales: 2.28 millions",
          "Name:FIFA Soccer 09, Rank:703 Global Sales: 2.28 millions",
          "Name:Star Wars: The Force Unleashed, Rank:704 Global Sales: 2.28 millions",
          "Name:Borderlands 2, Rank:705 Global Sales: 2.28 millions",
          "Name:TOCA Touring Car Championship, Rank:706 Global Sales: 2.28 millions",
          "Name:Paper Mario: Sticker Star, Rank:707 Global Sales: 2.27 millions",
          "Name:Sonic's Ultimate Genesis Collection, Rank:708 Global Sales: 2.27 millions",
          "Name:Super Monkey Ball: Banana Blitz, Rank:709 Global Sales: 2.27 millions",
          "Name:Kirby: Nightmare in Dream Land, Rank:710 Global Sales: 2.27 millions",
          "Name:Wario Land 4, Rank:711 Global Sales: 2.26 millions",
          "Name:Guitar Hero III: Legends of Rock, Rank:712 Global Sales: 2.26 millions",
          "Name:Call of Duty 3, Rank:713 Global Sales: 2.26 millions",
          "Name:Resident Evil 4, Rank:714 Global Sales: 2.26 millions",
          "Name:Minecraft, Rank:715 Global Sales: 2.25 millions",
          "Name:Onimusha 2: Samurai's Destiny, Rank:716 Global Sales: 2.25 millions",
          "Name:Cool Boarders 2, Rank:717 Global Sales: 2.25 millions",
          "Name:Paper Mario: The Thousand-Year Door, Rank:718 Global Sales: 2.25 millions",
          "Name:Madden NFL 12, Rank:719 Global Sales: 2.25 millions",
          "Name:Monster Hunter Tri, Rank:720 Global Sales: 2.25 millions",
          "Name:Dissidia: Final Fantasy, Rank:721 Global Sales: 2.25 millions",
          "Name:Sonic Advance, Rank:722 Global Sales: 2.24 millions",
          "Name:Spyro: Season of Ice, Rank:723 Global Sales: 2.23 millions",
          "Name:Teenage Mutant Ninja Turtles II: The Arcade Game, Rank:724 Global Sales: 2.23 millions",
          "Name:LEGO Indiana Jones: The Original Adventures, Rank:725 Global Sales: 2.23 millions",
          "Name:Dance Dance Revolution X2, Rank:726 Global Sales: 2.23 millions",
          "Name:New Super Luigi U, Rank:727 Global Sales: 2.22 millions",
          "Name:Prince of Persia: The Sands of Time, Rank:728 Global Sales: 2.22 millions",
          "Name:Scribblenauts, Rank:729 Global Sales: 2.22 millions",
          "Name:The Legend of Zelda: Link's Awakening DX, Rank:730 Global Sales: 2.22 millions",
          "Name:Need for Speed: Hot Pursuit, Rank:731 Global Sales: 2.22 millions",
          "Name:BioShock 2, Rank:732 Global Sales: 2.21 millions",
          "Name:Assassin's Creed IV: Black Flag, Rank:733 Global Sales: 2.21 millions",
          "Name:Devil May Cry 3: Dante's Awakening Special Edition, Rank:734 Global Sales: 2.21 millions",
          "Name:Rock Band 2, Rank:735 Global Sales: 2.2 millions",
          "Name:Frogger, Rank:736 Global Sales: 2.2 millions",
          "Name:Guitar Hero II, Rank:737 Global Sales: 2.2 millions",
          "Name:Wario Land 3, Rank:738 Global Sales: 2.2 millions",
          "Name:Pro Yakyuu Family Stadium, Rank:739 Global Sales: 2.2 millions",
          "Name:Sonic Unleashed, Rank:740 Global Sales: 2.2 millions",
          "Name:High School Musical: Makin' the Cut!, Rank:741 Global Sales: 2.2 millions",
          "Name:Pro Evolution Soccer 2012, Rank:742 Global Sales: 2.19 millions",
          "Name:Saints Row, Rank:743 Global Sales: 2.19 millions",
          "Name:Star Wars: Knights of the Old Republic, Rank:744 Global Sales: 2.19 millions",
          "Name:Kirby's Pinball Land, Rank:745 Global Sales: 2.19 millions",
          "Name:Donkey Kong Country, Rank:746 Global Sales: 2.19 millions",
          "Name:Hitman: Absolution, Rank:747 Global Sales: 2.19 millions",
          "Name:Yu-Gi-Oh: Duel Monsters 4, Rank:748 Global Sales: 2.18 millions",
          "Name:ATV Offroad Fury 2, Rank:749 Global Sales: 2.18 millions",
          "Name:Forza Motorsport 5, Rank:750 Global Sales: 2.18 millions",
          "Name:Madden NFL 25, Rank:751 Global Sales: 2.18 millions",
          "Name:Pokemon Ranger, Rank:752 Global Sales: 2.18 millions",
          "Name:Mario & Luigi: Superstar Saga, Rank:753 Global Sales: 2.17 millions",
          "Name:Final Fantasy XIII, Rank:754 Global Sales: 2.17 millions",
          "Name:Star Wars: Rogue Squadron, Rank:755 Global Sales: 2.17 millions",
          "Name:Tennis, Rank:756 Global Sales: 2.17 millions",
          "Name:The Sims: House Party, Rank:757 Global Sales: 2.16 millions",
          "Name:Your Shape featuring Jenny McCarthy, Rank:758 Global Sales: 2.16 millions",
          "Name:Syphon Filter 2, Rank:759 Global Sales: 2.15 millions",
          "Name:Tom Clancy's Rainbow Six: Siege, Rank:760 Global Sales: 2.15 millions",
          "Name:Volleyball, Rank:761 Global Sales: 2.15 millions",
          "Name:FIFA 15, Rank:762 Global Sales: 2.15 millions",
          "Name:Call of Duty: Roads to Victory, Rank:763 Global Sales: 2.14 millions",
          "Name:Super Mario RPG: Legend of the Seven Stars, Rank:764 Global Sales: 2.14 millions",
          "Name:Mahjong, Rank:765 Global Sales: 2.14 millions",
          "Name:R.C. Pro-Am, Rank:766 Global Sales: 2.14 millions",
          "Name:SimCity 2000, Rank:767 Global Sales: 2.14 millions",
          "Name:Demon Attack, Rank:768 Global Sales: 2.13 millions",
          "Name:Dance Dance Revolution Extreme, Rank:769 Global Sales: 2.13 millions",
          "Name:Tetris DS, Rank:770 Global Sales: 2.13 millions",
          "Name:Final Fantasy Tactics Advance, Rank:771 Global Sales: 2.13 millions",
          "Name:Toy Story 3: The Video Game, Rank:773 Global Sales: 2.12 millions",
          "Name:Final Fantasy III, Rank:774 Global Sales: 2.12 millions",
          "Name:Kirby's Epic Yarn, Rank:775 Global Sales: 2.12 millions",
          "Name:Project Gotham Racing, Rank:776 Global Sales: 2.12 millions",
          "Name:Golf, Rank:777 Global Sales: 2.12 millions",
          "Name:NBA 2K12, Rank:778 Global Sales: 2.11 millions",
          "Name:Borderlands, Rank:779 Global Sales: 2.11 millions",
          "Name:Tony Hawk's Pro Skater, Rank:780 Global Sales: 2.11 millions",
          "Name:PES 2009: Pro Evolution Soccer, Rank:781 Global Sales: 2.11 millions",
          "Name:Need for Speed: Hot Pursuit 2, Rank:782 Global Sales: 2.11 millions",
          "Name:Mario Sports Mix, Rank:783 Global Sales: 2.11 millions",
          "Name:Rock Band, Rank:784 Global Sales: 2.11 millions",
          "Name:Dynasty Warriors 4, Rank:785 Global Sales: 2.11 millions",
          "Name:Mortal Kombat, Rank:786 Global Sales: 2.11 millions",
          "Name:Parasite Eve, Rank:787 Global Sales: 2.1 millions",
          "Name:Scooby-Doo! Night of 100 Frights, Rank:788 Global Sales: 2.1 millions",
          "Name:Project Gotham Racing (JP weekly sales), Rank:789 Global Sales: 2.1 millions",
          "Name:Need for Speed: Most Wanted 5-1-0, Rank:790 Global Sales: 2.1 millions",
          "Name:Portal 2, Rank:791 Global Sales: 2.1 millions",
          "Name:Devil May Cry 3: Dante's Awakening, Rank:792 Global Sales: 2.09 millions",
          "Name:Derby Stallion, Rank:793 Global Sales: 2.09 millions",
          "Name:Dead Rising, Rank:794 Global Sales: 2.09 millions",
          "Name:Finding Nemo, Rank:795 Global Sales: 2.09 millions",
          "Name:NBA 2K11, Rank:796 Global Sales: 2.09 millions",
          "Name:Wipeout: The Game, Rank:797 Global Sales: 2.09 millions",
          "Name:The Sims 2: Pets, Rank:798 Global Sales: 2.09 millions",
          "Name:Battlefield: Hardline, Rank:799 Global Sales: 2.09 millions",
          "Name:Metal Gear Solid: Peace Walker, Rank:800 Global Sales: 2.09 millions",
          "Name:World of Warcraft: Cataclysm, Rank:801 Global Sales: 2.08 millions",
          "Name:Tetris Worlds, Rank:802 Global Sales: 2.08 millions",
          "Name:Need For Speed: Undercover, Rank:803 Global Sales: 2.08 millions",
          "Name:Dance Dance Revolution: Hottest Party, Rank:804 Global Sales: 2.08 millions",
          "Name:Mario Party 5, Rank:805 Global Sales: 2.08 millions",
          "Name:Ghostbusters: The Video Game (DS Version), Rank:806 Global Sales: 2.08 millions",
          "Name:Sim Theme Park, Rank:807 Global Sales: 2.08 millions",
          "Name:Warcraft: Orcs & Humans, Rank:808 Global Sales: 2.08 millions",
          "Name:Skate 3, Rank:809 Global Sales: 2.08 millions",
          "Name:Spec Ops: Airborne Commando, Rank:810 Global Sales: 2.07 millions",
          "Name:Kingdom Hearts: Birth by Sleep, Rank:811 Global Sales: 2.07 millions",
          "Name:UFC 2009 Undisputed, Rank:812 Global Sales: 2.07 millions",
          "Name:Dark Souls, Rank:813 Global Sales: 2.07 millions",
          "Name:Yu-Gi-Oh! The Eternal Duelist Soul, Rank:814 Global Sales: 2.07 millions",
          "Name:Need for Speed: ProStreet, Rank:815 Global Sales: 2.06 millions",
          "Name:The Sims 3, Rank:816 Global Sales: 2.06 millions",
          "Name:Tom Clancy's Splinter Cell: Conviction, Rank:817 Global Sales: 2.06 millions",
          "Name:Pokemon Mystery Dungeon: Red/Blue Rescue Team, Rank:818 Global Sales: 2.06 millions",
          "Name:The Incredibles, Rank:819 Global Sales: 2.06 millions",
          "Name:R4: Ridge Racer Type 4, Rank:820 Global Sales: 2.06 millions",
          "Name:SoulCalibur II, Rank:821 Global Sales: 2.06 millions",
          "Name:Mario & Luigi: Dream Team, Rank:822 Global Sales: 2.06 millions",
          "Name:Need for Speed: ProStreet, Rank:823 Global Sales: 2.05 millions",
          "Name:Carnival Games, Rank:824 Global Sales: 2.05 millions",
          "Name:NBA 2K14, Rank:825 Global Sales: 2.05 millions",
          "Name:Pokémon Mystery Dungeon: Blue Rescue Team, Rank:826 Global Sales: 2.05 millions",
          "Name:Sonic Mega Collection, Rank:827 Global Sales: 2.05 millions",
          "Name:Diablo III, Rank:828 Global Sales: 2.05 millions",
          "Name:NBA Jam, Rank:829 Global Sales: 2.05 millions",
          "Name:PGR4 - Project Gotham Racing 4, Rank:830 Global Sales: 2.05 millions",
          "Name:Kingdom Hearts 358/2 Days, Rank:831 Global Sales: 2.04 millions",
          "Name:Dance Central 2, Rank:832 Global Sales: 2.04 millions",
          "Name:Rayman Raving Rabbids: TV Party, Rank:833 Global Sales: 2.04 millions",
          "Name:SOCOM: U.S. Navy SEALs: Combined Assault, Rank:834 Global Sales: 2.04 millions",
          "Name:Peter Jackson's King Kong: The Official Game of the Movie, Rank:835 Global Sales: 2.04 millions",
          "Name:Donkey Kong Country, Rank:836 Global Sales: 2.04 millions",
          "Name:Need for Speed: The Run, Rank:837 Global Sales: 2.04 millions",
          "Name:Madden NFL 15, Rank:838 Global Sales: 2.03 millions",
          "Name:1080°: TenEighty Snowboarding, Rank:839 Global Sales: 2.03 millions",
          "Name:Just Dance 3, Rank:840 Global Sales: 2.03 millions",
          "Name:NBA Live 2004, Rank:841 Global Sales: 2.03 millions",
          "Name:Dead Space, Rank:842 Global Sales: 2.02 millions",
          "Name:Call of Duty 2, Rank:843 Global Sales: 2.02 millions",
          "Name:Madden NFL 15, Rank:844 Global Sales: 2.02 millions",
          "Name:Forza Horizon, Rank:845 Global Sales: 2.02 millions",
          "Name:TouchMaster, Rank:846 Global Sales: 2.01 millions",
          "Name:LEGO Marvel Super Heroes, Rank:848 Global Sales: 2.0 millions",
          "Name:Fire Emblem: Awakening, Rank:849 Global Sales: 2.0 millions",
          "Name:DriveClub, Rank:850 Global Sales: 2.0 millions",
          "Name:Super Street Fighter II, Rank:851 Global Sales: 2.0 millions",
          "Name:Mortal Kombat vs. DC Universe, Rank:852 Global Sales: 2.0 millions",
          "Name:Tenchu: Stealth Assassins, Rank:853 Global Sales: 1.99 millions",
          "Name:Tennis, Rank:854 Global Sales: 1.99 millions",
          "Name:Harry Potter and the Chamber of Secrets, Rank:855 Global Sales: 1.99 millions",
          "Name:Harry Potter and the Chamber of Secrets, Rank:856 Global Sales: 1.98 millions",
          "Name:SimCity, Rank:857 Global Sales: 1.98 millions",
          "Name:Battlefield 4, Rank:858 Global Sales: 1.98 millions",
          "Name:Resident Evil 6, Rank:859 Global Sales: 1.98 millions",
          "Name:Dragon Age: Inquisition, Rank:860 Global Sales: 1.97 millions",
          "Name:Sonic Classic Collection, Rank:861 Global Sales: 1.97 millions",
          "Name:Spyro: Enter the Dragonfly, Rank:862 Global Sales: 1.97 millions",
          "Name:Call of Duty: World at War, Rank:863 Global Sales: 1.97 millions",
          "Name:Devil May Cry 2, Rank:864 Global Sales: 1.97 millions",
          "Name:Burnout Paradise, Rank:865 Global Sales: 1.97 millions",
          "Name:E.T.: The Extra Terrestrial, Rank:866 Global Sales: 1.97 millions",
          "Name:BioShock Infinite, Rank:867 Global Sales: 1.96 millions",
          "Name:Hot Shots Golf: Open Tee, Rank:868 Global Sales: 1.96 millions",
          "Name:Rad Racer, Rank:869 Global Sales: 1.96 millions",
          "Name:Soccer, Rank:870 Global Sales: 1.96 millions",
          "Name:Kirby Squeak Squad, Rank:871 Global Sales: 1.96 millions",
          "Name:Tom Clancy's Rainbow Six: Vegas, Rank:872 Global Sales: 1.96 millions",
          "Name:Destiny, Rank:873 Global Sales: 1.95 millions",
          "Name:Crash Nitro Kart, Rank:874 Global Sales: 1.95 millions",
          "Name:Grand Theft Auto: San Andreas, Rank:875 Global Sales: 1.95 millions",
          "Name:Star Wars: Dark Forces, Rank:876 Global Sales: 1.95 millions",
          "Name:NBA Street Vol. 2, Rank:877 Global Sales: 1.95 millions",
          "Name:Def Jam Vendetta, Rank:878 Global Sales: 1.94 millions",
          "Name:FIFA Soccer 09, Rank:879 Global Sales: 1.94 millions",
          "Name:Who wants to be a millionaire, Rank:880 Global Sales: 1.94 millions",
          "Name:Scooby Doo and the Cyber Chase, Rank:881 Global Sales: 1.94 millions",
          "Name:Alleyway, Rank:882 Global Sales: 1.94 millions",
          "Name:Dragon Ball Z: Budokai 3, Rank:883 Global Sales: 1.94 millions",
          "Name:Jet Moto 2, Rank:884 Global Sales: 1.94 millions",
          "Name:Tom Clancy's Ghost Recon, Rank:885 Global Sales: 1.94 millions",
          "Name:X-Men Legends, Rank:886 Global Sales: 1.93 millions",
          "Name:Batman: Arkham Origins, Rank:887 Global Sales: 1.93 millions",
          "Name:Guitar Hero: World Tour, Rank:888 Global Sales: 1.93 millions",
          "Name:Mortal Kombat II, Rank:889 Global Sales: 1.93 millions",
          "Name:Virtua Fighter 2, Rank:890 Global Sales: 1.93 millions",
          "Name:Tetris DX, Rank:891 Global Sales: 1.93 millions",
          "Name:Mortal Kombat vs. DC Universe, Rank:892 Global Sales: 1.93 millions",
          "Name:Watch Dogs, Rank:893 Global Sales: 1.93 millions",
          "Name:Mario Super Sluggers, Rank:894 Global Sales: 1.93 millions",
          "Name:Tomb Raider (2013), Rank:895 Global Sales: 1.92 millions",
          "Name:The Legend of Zelda: Oracle of Ages, Rank:896 Global Sales: 1.92 millions",
          "Name:Need for Speed: Shift, Rank:897 Global Sales: 1.92 millions",
          "Name:Monopoly, Rank:898 Global Sales: 1.92 millions",
          "Name:Red Faction, Rank:899 Global Sales: 1.92 millions",
          "Name:The Sims: Makin' Magic, Rank:900 Global Sales: 1.92 millions",
          "Name:MX Unleashed, Rank:901 Global Sales: 1.92 millions",
          "Name:PaRappa The Rapper, Rank:902 Global Sales: 1.92 millions",
          "Name:Toy Story Mania!, Rank:903 Global Sales: 1.92 millions",
          "Name:Mario Party 3, Rank:904 Global Sales: 1.91 millions",
          "Name:Star Wars: The Force Unleashed, Rank:905 Global Sales: 1.91 millions",
          "Name:Game Party 2, Rank:906 Global Sales: 1.91 millions",
          "Name:Destiny: The Taken King, Rank:907 Global Sales: 1.91 millions",
          "Name:LEGO Star Wars III: The Clone Wars, Rank:908 Global Sales: 1.91 millions",
          "Name:Star Wars Rogue Leader: Rogue Squadron II, Rank:909 Global Sales: 1.9 millions",
          "Name:Max Payne 3, Rank:910 Global Sales: 1.9 millions",
          "Name:Need for Speed Rivals, Rank:911 Global Sales: 1.89 millions",
          "Name:Madden NFL 09, Rank:912 Global Sales: 1.89 millions",
          "Name:Yokai Watch, Rank:913 Global Sales: 1.89 millions",
          "Name:Ratchet & Clank Future: A Crack in Time, Rank:914 Global Sales: 1.88 millions",
          "Name:Yu-Gi-Oh! Forbidden Memories, Rank:915 Global Sales: 1.88 millions",
          "Name:Mortal Kombat: Deception, Rank:916 Global Sales: 1.88 millions",
          "Name:Hot Shots Golf 2, Rank:917 Global Sales: 1.88 millions",
          "Name:Medal of Honor: European Assault (All Region sales), Rank:918 Global Sales: 1.88 millions",
          "Name:WCW Nitro, Rank:919 Global Sales: 1.88 millions",
          "Name:High School Musical: Sing It!, Rank:920 Global Sales: 1.87 millions",
          "Name:Star Fox Adventures, Rank:921 Global Sales: 1.87 millions",
          "Name:FIFA 2000, Rank:922 Global Sales: 1.87 millions",
          "Name:Dynasty Warriors 3, Rank:923 Global Sales: 1.87 millions",
          "Name:Donkey Kong Country Returns, Rank:924 Global Sales: 1.87 millions",
          "Name:The Legend of Zelda: Oracle of Seasons, Rank:925 Global Sales: 1.86 millions",
          "Name:Madden NFL 06, Rank:926 Global Sales: 1.86 millions",
          "Name:Shrek 2, Rank:927 Global Sales: 1.86 millions",
          "Name:The Legend of Dragoon, Rank:928 Global Sales: 1.86 millions",
          "Name:Turok 2: Seeds of Evil, Rank:929 Global Sales: 1.86 millions",
          "Name:SingStar, Rank:930 Global Sales: 1.86 millions",
          "Name:LittleBigPlanet 3, Rank:931 Global Sales: 1.86 millions",
          "Name:NBA Live 2002, Rank:932 Global Sales: 1.86 millions",
          "Name:Phineas and Ferb, Rank:933 Global Sales: 1.86 millions",
          "Name:Chrono Cross, Rank:934 Global Sales: 1.86 millions",
          "Name:GoldenEye 007 (2010), Rank:935 Global Sales: 1.86 millions",
          "Name:Mario Party: Island Tour, Rank:936 Global Sales: 1.85 millions",
          "Name:Jak 3, Rank:937 Global Sales: 1.85 millions",
          "Name:Rayman Raving Rabbids 2, Rank:938 Global Sales: 1.85 millions",
          "Name:Kingdom Hearts: Chain of Memories, Rank:939 Global Sales: 1.85 millions",
          "Name:Pinball, Rank:940 Global Sales: 1.85 millions",
          "Name:inFAMOUS 2, Rank:941 Global Sales: 1.85 millions",
          "Name:Gran Turismo Concept 2001 Tokyo, Rank:942 Global Sales: 1.84 millions",
          "Name:Demon's Souls, Rank:943 Global Sales: 1.84 millions",
          "Name:NCAA Football 06, Rank:944 Global Sales: 1.84 millions",
          "Name:Hey You, Pikachu!, Rank:945 Global Sales: 1.83 millions",
          "Name:2 Games in 1: Sonic Advance & ChuChu Rocket!, Rank:946 Global Sales: 1.83 millions",
          "Name:World of Warcraft: Mists of Pandaria, Rank:947 Global Sales: 1.83 millions",
          "Name:Jet Moto, Rank:948 Global Sales: 1.83 millions",
          "Name:Just Cause 3, Rank:949 Global Sales: 1.83 millions",
          "Name:Secret of Mana, Rank:950 Global Sales: 1.83 millions",
          "Name:The Orange Box, Rank:951 Global Sales: 1.83 millions",
          "Name:Air Combat, Rank:952 Global Sales: 1.83 millions",
          "Name:Kirby: Triple Deluxe, Rank:953 Global Sales: 1.82 millions",
          "Name:Sonic & Knuckles, Rank:954 Global Sales: 1.82 millions",
          "Name:Namco Museum, Rank:955 Global Sales: 1.82 millions",
          "Name:The Sims: Hot Date, Rank:956 Global Sales: 1.82 millions",
          "Name:Metroid Prime 3: Corruption, Rank:957 Global Sales: 1.82 millions",
          "Name:Dragon Quest VI: Realms of Revelation, Rank:958 Global Sales: 1.81 millions",
          "Name:The Evil Within, Rank:959 Global Sales: 1.81 millions",
          "Name:DDRMAX2: Dance Dance Revolution, Rank:960 Global Sales: 1.81 millions",
          "Name:Crazy Taxi, Rank:961 Global Sales: 1.81 millions",
          "Name:Virtua Fighter 4, Rank:962 Global Sales: 1.81 millions",
          "Name:Sly 2: Band of Thieves, Rank:963 Global Sales: 1.81 millions",
          "Name:Guitar Hero: World Tour, Rank:964 Global Sales: 1.8 millions",
          "Name:Sonic Advance 2, Rank:965 Global Sales: 1.8 millions",
          "Name:Madden NFL 07, Rank:966 Global Sales: 1.8 millions",
          "Name:NBA 2K11, Rank:967 Global Sales: 1.8 millions",
          "Name:NFL GameDay 2000, Rank:968 Global Sales: 1.8 millions",
          "Name:Call of Duty: Black Ops 3, Rank:969 Global Sales: 1.79 millions",
          "Name:Disney's The Lion King, Rank:970 Global Sales: 1.79 millions",
          "Name:Beyond: Two Souls, Rank:971 Global Sales: 1.79 millions",
          "Name:Kinect Star Wars, Rank:972 Global Sales: 1.78 millions",
          "Name:Midnight Club II, Rank:973 Global Sales: 1.78 millions",
          "Name:Dragon Quest Monsters: Joker, Rank:974 Global Sales: 1.78 millions",
          "Name:SpongeBob SquarePants: SuperSponge, Rank:975 Global Sales: 1.78 millions",
          "Name:The Getaway: Black Monday, Rank:976 Global Sales: 1.78 millions",
          "Name:Professor Layton and the Mask of Miracle, Rank:977 Global Sales: 1.78 millions",
          "Name:Just Cause 2, Rank:978 Global Sales: 1.78 millions",
          "Name:Dragon's Dogma, Rank:979 Global Sales: 1.78 millions",
          "Name:The Legend of Zelda: The Wind Waker, Rank:980 Global Sales: 1.77 millions",
          "Name:50 Cent: Bulletproof, Rank:981 Global Sales: 1.77 millions",
          "Name:High School Musical: Sing It!, Rank:982 Global Sales: 1.77 millions",
          "Name:Wii Party U, Rank:983 Global Sales: 1.77 millions",
          "Name:Madden NFL 25, Rank:984 Global Sales: 1.77 millions",
          "Name:Final Fantasy II, Rank:985 Global Sales: 1.77 millions",
          "Name:Kirby 64: The Crystal Shards, Rank:986 Global Sales: 1.77 millions",
          "Name:Dead or Alive 3, Rank:987 Global Sales: 1.77 millions",
          "Name:UFC 2009 Undisputed, Rank:988 Global Sales: 1.77 millions",
          "Name:Metroid II: Return of Samus, Rank:989 Global Sales: 1.76 millions",
          "Name:WWF Attitude, Rank:990 Global Sales: 1.76 millions",
          "Name:The SpongeBob SquarePants Movie, Rank:991 Global Sales: 1.76 millions",
          "Name:Golden Sun, Rank:992 Global Sales: 1.76 millions",
          "Name:Sonic the Hedgehog 3, Rank:993 Global Sales: 1.76 millions",
          "Name:Kid Icarus, Rank:994 Global Sales: 1.76 millions",
          "Name:Def Jam: Fight for NY, Rank:995 Global Sales: 1.76 millions",
          "Name:Tom Clancy's Ghost Recon, Rank:996 Global Sales: 1.76 millions",
          "Name:State of Emergency, Rank:997 Global Sales: 1.76 millions",
          "Name:BioShock Infinite, Rank:998 Global Sales: 1.76 millions",
          "Name:Hitman: Absolution, Rank:999 Global Sales: 1.76 millions",
          "Name:2 Games in 1 Double Pack: The Incredibles / Finding Nemo: The Continuing Adventures, Rank:1000 Global Sales: 1.76 millions",
          "Name:Call of Duty: Black Ops 3, Rank:1001 Global Sales: 1.76 millions",
          "Name:The Urbz: Sims in the City, Rank:1002 Global Sales: 1.76 millions",
          "Name:FIFA Soccer 08, Rank:1003 Global Sales: 1.76 millions",
          "Name:Star Wars: Starfighter, Rank:1004 Global Sales: 1.76 millions",
          "Name:Madden NFL 2000, Rank:1005 Global Sales: 1.75 millions",
          "Name:Kingdom Hearts, Rank:1006 Global Sales: 1.75 millions"
         ],
         "type": "scatter3d",
         "x": [
          2006,
          1985,
          2008,
          2009,
          1996,
          1989,
          2006,
          2006,
          2009,
          1984,
          2005,
          2005,
          1999,
          2007,
          2009,
          2010,
          2013,
          2004,
          1990,
          2005,
          2006,
          1989,
          1988,
          2013,
          2002,
          2002,
          2010,
          2005,
          2001,
          2011,
          1998,
          2010,
          2013,
          2015,
          2012,
          2012,
          2009,
          2011,
          2001,
          2008,
          2010,
          2005,
          2011,
          2007,
          2014,
          2009,
          1996,
          2004,
          2007,
          2014,
          1992,
          2008,
          1997,
          2011,
          2010,
          2009,
          2008,
          1993,
          2004,
          2004,
          2011,
          2013,
          2010,
          1996,
          2012,
          2012,
          1997,
          2013,
          2010,
          1999,
          2007,
          1994,
          2013,
          2012,
          2007,
          2011,
          1992,
          2015,
          2010,
          2004,
          2007,
          2012,
          2012,
          2009,
          1997,
          2007,
          2001,
          1999,
          2008,
          1982,
          2005,
          2010,
          2015,
          2014,
          1998,
          1997,
          1988,
          2014,
          2008,
          2011,
          2006,
          2015,
          2009,
          2011,
          2003,
          1998,
          1998,
          2001,
          2014,
          2015,
          2003,
          2012,
          2013,
          2004,
          2002,
          2011,
          1996,
          2010,
          2008,
          2009,
          2007,
          2011,
          2005,
          2010,
          2014,
          2010,
          2011,
          1986,
          2012,
          2001,
          2004,
          2002,
          2000,
          2009,
          2010,
          2002,
          1992,
          2004,
          1999,
          2010,
          2011,
          2006,
          2001,
          1992,
          2008,
          1998,
          2013,
          2006,
          2008,
          2009,
          2007,
          1998,
          1996,
          2006,
          2014,
          1988,
          2009,
          1999,
          2007,
          2011,
          2009,
          2008,
          2001,
          2001,
          2001,
          1999,
          2008,
          2001,
          2014,
          2009,
          1989,
          1999,
          2012,
          2000,
          2003,
          1999,
          2009,
          2007,
          1997,
          null,
          2004,
          2012,
          2003,
          2012,
          1994,
          2012,
          2007,
          1995,
          2013,
          2008,
          2003,
          1992,
          2010,
          2014,
          1996,
          2006,
          2009,
          2014,
          2006,
          2010,
          1999,
          1996,
          1999,
          2014,
          1999,
          1998,
          2007,
          2007,
          2008,
          2007,
          2007,
          2005,
          2007,
          1997,
          2010,
          1990,
          2010,
          2010,
          2007,
          2014,
          1999,
          2011,
          2000,
          2003,
          2000,
          2008,
          2002,
          2011,
          1996,
          2007,
          1991,
          2002,
          2009,
          2013,
          2015,
          2014,
          2007,
          2004,
          1981,
          2006,
          2002,
          2000,
          2015,
          2014,
          2005,
          2012,
          2010,
          2001,
          2006,
          2006,
          1987,
          2005,
          2006,
          1991,
          2005,
          2013,
          2014,
          1980,
          2008,
          2015,
          2013,
          2009,
          2011,
          2001,
          2004,
          2006,
          1995,
          2011,
          2005,
          2003,
          2007,
          2011,
          2009,
          2011,
          1989,
          1984,
          1997,
          2002,
          2014,
          1997,
          1995,
          2006,
          2011,
          1992,
          2007,
          2015,
          2007,
          2010,
          2007,
          2007,
          2005,
          1996,
          2000,
          2014,
          1997,
          2014,
          1984,
          2008,
          2007,
          2009,
          2005,
          2009,
          2014,
          1994,
          2003,
          2013,
          2014,
          2006,
          2011,
          2005,
          1988,
          2010,
          2015,
          2004,
          2007,
          1995,
          1992,
          2009,
          2007,
          2011,
          2015,
          2011,
          2008,
          1996,
          2007,
          2013,
          2002,
          2007,
          2001,
          2015,
          1999,
          2000,
          2004,
          1998,
          2013,
          2007,
          2009,
          2002,
          2005,
          1998,
          2002,
          2008,
          2013,
          2001,
          1999,
          2009,
          2007,
          2013,
          2005,
          2004,
          1994,
          2001,
          2007,
          2001,
          2005,
          2000,
          1997,
          2006,
          2002,
          1997,
          2001,
          2005,
          2013,
          2010,
          2000,
          1999,
          2008,
          2009,
          2009,
          1996,
          2010,
          1985,
          2009,
          2006,
          null,
          2015,
          2010,
          2008,
          2014,
          2012,
          2013,
          2009,
          2002,
          2013,
          2011,
          1998,
          1994,
          2004,
          1990,
          2002,
          2000,
          2008,
          2015,
          2009,
          1998,
          2000,
          2008,
          1998,
          2013,
          2006,
          2002,
          2002,
          2012,
          2005,
          2001,
          2003,
          2015,
          2014,
          2003,
          2008,
          2009,
          2015,
          1995,
          2015,
          2011,
          2015,
          2014,
          1999,
          1983,
          1995,
          2000,
          2007,
          2008,
          1995,
          2010,
          2003,
          2015,
          2010,
          null,
          2008,
          2001,
          2008,
          2001,
          2008,
          2005,
          2012,
          2014,
          2007,
          2000,
          1998,
          1999,
          2006,
          2007,
          1990,
          2010,
          2010,
          2014,
          2002,
          2001,
          1986,
          2012,
          2013,
          1994,
          2002,
          2012,
          2008,
          2012,
          2010,
          2008,
          1995,
          2009,
          2002,
          1987,
          2002,
          2015,
          2012,
          2007,
          null,
          2014,
          1993,
          2000,
          2002,
          2001,
          2015,
          2010,
          2014,
          2011,
          2003,
          2008,
          2002,
          2009,
          1996,
          2003,
          2005,
          2009,
          2001,
          2007,
          2006,
          2007,
          2002,
          2013,
          2014,
          2004,
          2008,
          2003,
          2012,
          2001,
          2004,
          2011,
          1999,
          2007,
          1998,
          2013,
          2012,
          2002,
          2011,
          1990,
          1997,
          1996,
          2011,
          2015,
          2010,
          2007,
          2009,
          2010,
          2002,
          2002,
          2003,
          1994,
          2010,
          2007,
          2003,
          2008,
          2006,
          1997,
          2011,
          1998,
          2001,
          1992,
          1996,
          2011,
          2001,
          2009,
          2011,
          2003,
          2014,
          2003,
          2009,
          2003,
          2007,
          2011,
          1980,
          1992,
          2013,
          2000,
          1986,
          2011,
          2006,
          2002,
          2001,
          2015,
          1998,
          2011,
          2006,
          2010,
          2010,
          2010,
          2004,
          2014,
          2009,
          2011,
          1992,
          2005,
          2008,
          1998,
          2004,
          2006,
          2003,
          2012,
          2006,
          1986,
          1996,
          2007,
          2000,
          2006,
          2009,
          2009,
          2004,
          2007,
          2010,
          2009,
          2011,
          2008,
          2002,
          2010,
          1990,
          2008,
          2007,
          2004,
          2009,
          2013,
          2009,
          2007,
          2006,
          2004,
          2010,
          2009,
          2007,
          2001,
          1987,
          2012,
          2003,
          2008,
          2008,
          null,
          2001,
          2000,
          2007,
          1986,
          2013,
          2006,
          2008,
          1999,
          2011,
          2003,
          2010,
          2002,
          2008,
          2008,
          1998,
          2012,
          null,
          2013,
          2002,
          2010,
          2008,
          1992,
          1997,
          1996,
          2011,
          2006,
          2003,
          1997,
          2008,
          1998,
          1988,
          2010,
          2003,
          2001,
          1998,
          2014,
          2007,
          2015,
          1996,
          1987,
          1997,
          null,
          2015,
          2010,
          null,
          1994,
          2013,
          2011,
          2005,
          2007,
          2011,
          1998,
          2015,
          2014,
          2010,
          2001,
          2007,
          2004,
          2004,
          2004,
          2009,
          2011,
          1995,
          2010,
          1996,
          1998,
          2008,
          2013,
          2007,
          2008,
          2001,
          2010,
          2015,
          2015,
          2010,
          2000,
          1997,
          2004,
          2004,
          1999,
          1995,
          1998,
          2013,
          2012,
          2008,
          2011,
          1997,
          2013,
          2004,
          2009,
          2014,
          2015,
          1983,
          2008,
          2008,
          2012,
          1997,
          2012,
          2009,
          2006,
          2002,
          2001,
          2007,
          null,
          2007,
          2014,
          2002,
          1997,
          2004,
          2011,
          2009,
          2008,
          2001,
          2001,
          1990,
          2008,
          2009,
          2013,
          2003,
          2009,
          1998,
          2010,
          2010,
          2013,
          2006,
          2008,
          1981,
          2007,
          2000,
          1986,
          2008,
          2007,
          2011,
          2006,
          2003,
          1992,
          2000,
          2012,
          2000,
          2002,
          2013,
          2013,
          2006,
          2003,
          2010,
          1998,
          1984,
          2001,
          2009,
          2000,
          2015,
          1987,
          2014,
          2007,
          1996,
          1983,
          1988,
          1992,
          1981,
          2004,
          2006,
          2003,
          2010,
          2006,
          2010,
          2001,
          1989,
          2011,
          2009,
          2000,
          2008,
          2002,
          2010,
          null,
          2003,
          2011,
          1998,
          2002,
          2002,
          2005,
          2011,
          2005,
          1997,
          2006,
          2003,
          2010,
          2009,
          2006,
          2015,
          2010,
          2010,
          2002,
          2008,
          2007,
          2003,
          2010,
          1998,
          1994,
          2010,
          2002,
          2010,
          2009,
          2011,
          2001,
          2007,
          2010,
          2010,
          2005,
          2004,
          1998,
          2003,
          2013,
          2007,
          2008,
          2013,
          2005,
          2002,
          2013,
          1992,
          2007,
          2009,
          2011,
          2008,
          2006,
          2005,
          2003,
          2011,
          2014,
          1998,
          2011,
          2003,
          2008,
          2005,
          2014,
          2012,
          2007,
          2013,
          2012,
          2014,
          1993,
          2008,
          1997,
          1989,
          2002,
          2002,
          1991,
          2013,
          2012,
          2014,
          2010,
          2002,
          2008,
          2003,
          2008,
          1981,
          2013,
          2004,
          1986,
          1985,
          2006,
          2006,
          2014,
          2003,
          2005,
          1994,
          2003,
          2003,
          2008,
          1999,
          2001,
          1989,
          2004,
          1997,
          2002,
          2004,
          2013,
          2008,
          1993,
          1995,
          1998,
          2008,
          2014,
          2008,
          2013,
          2001,
          2009,
          2008,
          2001,
          2003,
          2004,
          1996,
          2009,
          2000,
          2008,
          2008,
          2015,
          2011,
          2001,
          2012,
          2013,
          2008,
          2013,
          2009,
          1999,
          2004,
          1999,
          2005,
          1998,
          2007,
          2002,
          1998,
          2001,
          2013,
          2001,
          2005,
          2004,
          1999,
          1997,
          2004,
          2014,
          2001,
          2009,
          1999,
          2010,
          2013,
          2004,
          2007,
          2004,
          1984,
          2011,
          2001,
          2009,
          2005,
          1998,
          2005,
          2012,
          1996,
          2015,
          1993,
          2007,
          1995,
          2014,
          1994,
          2001,
          2001,
          2007,
          2010,
          2014,
          2003,
          2000,
          2002,
          2004,
          2008,
          2002,
          2006,
          2010,
          1999,
          2015,
          1994,
          2013,
          2012,
          2003,
          2006,
          2001,
          2004,
          2011,
          2010,
          2012,
          2013,
          2005,
          2007,
          2013,
          2013,
          1991,
          2000,
          2001,
          2009,
          1991,
          1998,
          2004,
          2001,
          1994,
          1986,
          2004,
          2002,
          2002,
          2013,
          2012,
          2007,
          2015,
          2004,
          2007,
          2001,
          1998,
          2013
         ],
         "y": [
          "Nintendo",
          "Nintendo",
          "Nintendo",
          "Nintendo",
          "Nintendo",
          "Nintendo",
          "Nintendo",
          "Nintendo",
          "Nintendo",
          "Nintendo",
          "Nintendo",
          "Nintendo",
          "Nintendo",
          "Nintendo",
          "Nintendo",
          "Microsoft Game Studios",
          "Take-Two Interactive",
          "Take-Two Interactive",
          "Nintendo",
          "Nintendo",
          "Nintendo",
          "Nintendo",
          "Nintendo",
          "Take-Two Interactive",
          "Take-Two Interactive",
          "Nintendo",
          "Nintendo",
          "Nintendo",
          "Sony Computer Entertainment",
          "Activision",
          "Nintendo",
          "Activision",
          "Nintendo",
          "Activision",
          "Activision",
          "Activision",
          "Activision",
          "Activision",
          "Take-Two Interactive",
          "Nintendo",
          "Activision",
          "Nintendo",
          "Nintendo",
          "Microsoft Game Studios",
          "Take-Two Interactive",
          "Nintendo",
          "Nintendo",
          "Sony Computer Entertainment",
          "Nintendo",
          "Nintendo",
          "Nintendo",
          "Take-Two Interactive",
          "Sony Computer Entertainment",
          "Nintendo",
          "Sony Computer Entertainment",
          "Activision",
          "Take-Two Interactive",
          "Nintendo",
          "Nintendo",
          "Nintendo",
          "Ubisoft",
          "Activision",
          "Microsoft Game Studios",
          "Nintendo",
          "Nintendo",
          "Microsoft Game Studios",
          "Sony Computer Entertainment",
          "Activision",
          "Ubisoft",
          "Sony Computer Entertainment",
          "Activision",
          "Nintendo",
          "Microsoft Game Studios",
          "Nintendo",
          "Nintendo",
          "Bethesda Softworks",
          "Nintendo",
          "Electronic Arts",
          "Nintendo",
          "Microsoft Game Studios",
          "Nintendo",
          "Nintendo",
          "Electronic Arts",
          "Electronic Arts",
          "Nintendo",
          "Sega",
          "Sony Computer Entertainment",
          "SquareSoft",
          "Nintendo",
          "Atari",
          "Take-Two Interactive",
          "Nintendo",
          "Electronic Arts",
          "Activision",
          "Nintendo",
          "Sony Computer Entertainment",
          "Nintendo",
          "Nintendo",
          "Activision",
          "Electronic Arts",
          "Nintendo",
          "Activision",
          "Ubisoft",
          "Electronic Arts",
          "Electronic Arts",
          "Sony Computer Entertainment",
          "Sony Computer Entertainment",
          "Nintendo",
          "Nintendo",
          "Bethesda Softworks",
          "Nintendo",
          "Ubisoft",
          "Electronic Arts",
          "Electronic Arts",
          "Electronic Arts",
          "Sony Computer Entertainment",
          "Sony Computer Entertainment",
          "505 Games",
          "Microsoft Game Studios",
          "Sony Computer Entertainment",
          "Activision",
          "Electronic Arts",
          "Nintendo",
          "Take-Two Interactive",
          "Electronic Arts",
          "Nintendo",
          "Bethesda Softworks",
          "Nintendo",
          "Ubisoft",
          "Microsoft Game Studios",
          "Nintendo",
          "Sony Computer Entertainment",
          "Nintendo",
          "Microsoft Game Studios",
          "Take-Two Interactive",
          "Nintendo",
          "Capcom",
          "Activision",
          "GT Interactive",
          "Microsoft Game Studios",
          "Microsoft Game Studios",
          "Microsoft Game Studios",
          "Konami Digital Entertainment",
          "Sega",
          "Konami Digital Entertainment",
          "Konami Digital Entertainment",
          "Sony Computer Entertainment Europe",
          "Square Enix",
          "Sony Computer Entertainment",
          "Nintendo",
          "LucasArts",
          "Virgin Interactive",
          "Sony Computer Entertainment",
          "505 Games",
          "Activision",
          "Nintendo",
          "Ubisoft",
          "Nintendo",
          "Ubisoft",
          "Warner Bros. Interactive Entertainment",
          "Microsoft Game Studios",
          "Capcom",
          "Nintendo",
          "Nintendo",
          "Nintendo",
          "Nintendo",
          "Activision",
          "Universal Interactive",
          "Sony Computer Entertainment",
          "Square Enix",
          "Nintendo",
          "Nintendo",
          "Ubisoft",
          "SquareSoft",
          "Electronic Arts",
          "Nintendo",
          "Ubisoft",
          "Nintendo",
          "Eidos Interactive",
          "Electronic Arts",
          "Square Enix",
          "Activision",
          "Nintendo",
          "Nintendo",
          "Nintendo",
          "Electronic Arts",
          "Nintendo",
          "Nintendo",
          "Nintendo",
          "Sega",
          "Electronic Arts",
          "Nintendo",
          "Microsoft Game Studios",
          "Activision",
          "Microsoft Game Studios",
          "RedOctane",
          "Capcom",
          "Take-Two Interactive",
          "Take-Two Interactive",
          "Electronic Arts",
          "Nintendo",
          "Virgin Interactive",
          "Activision",
          "Nintendo",
          "Eidos Interactive",
          "Sony Computer Entertainment",
          "Nintendo",
          "Activision",
          "Bethesda Softworks",
          "Nintendo",
          "Sony Computer Entertainment",
          "Electronic Arts",
          "LucasArts",
          "Nintendo",
          "Capcom",
          "Nintendo",
          "Sony Computer Entertainment",
          "Activision",
          "Ubisoft",
          "Electronic Arts",
          "Sony Computer Entertainment",
          "Warner Bros. Interactive Entertainment",
          "Atari",
          "Vivendi Games",
          "Activision",
          "Nintendo",
          "Electronic Arts",
          "Microsoft Game Studios",
          "Eidos Interactive",
          "Activision",
          "Nintendo",
          "Nintendo",
          "Sega",
          "Nintendo",
          "Nintendo",
          "Sony Computer Entertainment",
          "Activision",
          "Electronic Arts",
          "Activision",
          "Electronic Arts",
          "Activision",
          "Enix Corporation",
          "Sony Computer Entertainment",
          "Activision",
          "Sony Computer Entertainment",
          "Nintendo",
          "Ubisoft",
          "Activision",
          "Konami Digital Entertainment",
          "Take-Two Interactive",
          "Nintendo",
          "Electronic Arts",
          "Sony Computer Entertainment",
          "Sega",
          "Square Enix",
          "Electronic Arts",
          "Activision",
          "Atari",
          "Microsoft Game Studios",
          "Microsoft Game Studios",
          "Nintendo",
          "Eidos Interactive",
          "Ubisoft",
          "Namco Bandai Games",
          "Konami Digital Entertainment",
          "Sony Computer Entertainment",
          "Activision",
          "Nintendo",
          "Electronic Arts",
          "Sony Computer Entertainment",
          "Sony Computer Entertainment",
          "Ubisoft",
          "Capcom",
          "Electronic Arts",
          "Palcom",
          "Nintendo",
          "Hasbro Interactive",
          "Electronic Arts",
          "Ubisoft",
          "Vivendi Games",
          "Nintendo",
          "Electronic Arts",
          "Nintendo",
          "Capcom",
          "Take-Two Interactive",
          "Bethesda Softworks",
          "Activision",
          "Bethesda Softworks",
          "Sony Computer Entertainment",
          "Microsoft Game Studios",
          "Konami Digital Entertainment",
          "Sony Computer Entertainment",
          "Namco Bandai Games",
          "Ubisoft",
          "Nintendo",
          "Sony Computer Entertainment Europe",
          "Nintendo",
          "Bethesda Softworks",
          "Nintendo",
          "Electronic Arts",
          "Namco Bandai Games",
          "Electronic Arts",
          "Ubisoft",
          "Nintendo",
          "Activision",
          "Ubisoft",
          "Nintendo",
          "Sony Computer Entertainment",
          "Bethesda Softworks",
          "Namco Bandai Games",
          "Enix Corporation",
          "Sony Computer Entertainment",
          "Take-Two Interactive",
          "Konami Digital Entertainment",
          "Nintendo",
          "Sony Computer Entertainment",
          "Nintendo",
          "Nintendo",
          "Nintendo",
          "Nintendo",
          "Warner Bros. Interactive Entertainment",
          "Sega",
          "Activision",
          "Virgin Interactive",
          "Sony Computer Entertainment",
          "Ubisoft",
          "Electronic Arts",
          "Nintendo",
          "Electronic Arts",
          "Namco Bandai Games",
          "Eidos Interactive",
          "Sony Computer Entertainment",
          "Electronic Arts",
          "Nintendo",
          "Electronic Arts",
          "Electronic Arts",
          "Nintendo",
          "Activision",
          "Take-Two Interactive",
          "Nintendo",
          "Sony Computer Entertainment",
          "Activision",
          "Sony Computer Entertainment",
          "Sony Computer Entertainment",
          "Nintendo",
          "Electronic Arts",
          "Konami Digital Entertainment",
          "Activision",
          "Capcom",
          "LucasArts",
          "Virgin Interactive",
          "Electronic Arts",
          "505 Games",
          "Nintendo",
          "LucasArts",
          "THQ",
          "Fox Interactive",
          "Take-Two Interactive",
          "Sony Computer Entertainment",
          "Eidos Interactive",
          "Electronic Arts",
          "Eidos Interactive",
          "Electronic Arts",
          "Electronic Arts",
          "THQ",
          "Sony Computer Entertainment",
          "Electronic Arts",
          "Sega",
          "Capcom",
          "Nintendo",
          "Ubisoft",
          "Nintendo",
          "Eidos Interactive",
          "Nintendo",
          "Electronic Arts",
          "Electronic Arts",
          "Electronic Arts",
          "Activision",
          "Ubisoft",
          "Ubisoft",
          "Capcom",
          "Take-Two Interactive",
          "Namco Bandai Games",
          "Electronic Arts",
          "Sony Computer Entertainment",
          "Take-Two Interactive",
          "SquareSoft",
          "Activision",
          "Nintendo",
          "Electronic Arts",
          "Sony Computer Entertainment",
          "Warner Bros. Interactive Entertainment",
          "Konami Digital Entertainment",
          "Nintendo",
          "Acclaim Entertainment",
          "Nintendo",
          "Nintendo",
          "THQ",
          "Ubisoft",
          "Nintendo",
          "Electronic Arts",
          "Sony Computer Entertainment",
          "Nintendo",
          "LucasArts",
          "Take-Two Interactive",
          "Electronic Arts",
          "Ubisoft",
          "Activision",
          "Activision",
          "Nintendo",
          "Sony Computer Entertainment",
          "Capcom",
          "Sony Computer Entertainment",
          "Electronic Arts",
          "Take-Two Interactive",
          "Electronic Arts",
          "Nintendo",
          "Electronic Arts",
          "Nintendo",
          "Nintendo",
          "THQ",
          "Square Enix",
          "Sony Computer Entertainment",
          "Enix Corporation",
          "MTV Games",
          "Atari",
          "Nintendo",
          "Bethesda Softworks",
          "Warner Bros. Interactive Entertainment",
          "Nintendo",
          "Sony Computer Entertainment Europe",
          "Disney Interactive Studios",
          "Nintendo",
          "Warner Bros. Interactive Entertainment",
          "Sega",
          "Capcom",
          "Microsoft Game Studios",
          "Electronic Arts",
          "Activision",
          "Electronic Arts",
          "Nintendo",
          "Nintendo",
          "Ubisoft",
          "Enix Corporation",
          "Sony Computer Entertainment",
          "Electronic Arts",
          "Electronic Arts",
          "Atari",
          "Electronic Arts",
          "Namco Bandai Games",
          "Take-Two Interactive",
          "Nintendo",
          "Nintendo",
          "Electronic Arts",
          "Electronic Arts",
          "Activision",
          "Ubisoft",
          "Disney Interactive Studios",
          "THQ",
          "Ubisoft",
          "Sony Computer Entertainment",
          "Ubisoft",
          "Nintendo",
          "THQ",
          "Microsoft Game Studios",
          "Take-Two Interactive",
          "Atari",
          null,
          "Warner Bros. Interactive Entertainment",
          "Nintendo",
          "Electronic Arts",
          "Konami Digital Entertainment",
          "Capcom",
          "Nintendo",
          "Electronic Arts",
          "Electronic Arts",
          "Electronic Arts",
          "Sega",
          "Nintendo",
          "Eidos Interactive",
          "Capcom",
          "Nintendo",
          "Sony Computer Entertainment",
          "THQ",
          "Sony Computer Entertainment",
          "Atari",
          "Microsoft Game Studios",
          "Nintendo",
          "505 Games",
          "Nintendo",
          "Electronic Arts",
          "Electronic Arts",
          "Sega",
          "Sega",
          "Konami Digital Entertainment",
          "Electronic Arts",
          "Sony Computer Entertainment",
          "Activision",
          "Majesco Entertainment",
          "Sony Computer Entertainment",
          "Ubisoft",
          "Codemasters",
          "Activision",
          "Electronic Arts",
          "Ubisoft",
          "Warner Bros. Interactive Entertainment",
          "Nintendo",
          "Nintendo",
          "Virgin Interactive",
          "Activision",
          "Electronic Arts",
          "Ubisoft",
          "Take-Two Interactive",
          "Electronic Arts",
          "Electronic Arts",
          "THQ",
          "Nintendo",
          "THQ",
          "Red Orb",
          "Electronic Arts",
          "Ubisoft",
          "THQ",
          "LucasArts",
          "Nintendo",
          "Sony Computer Entertainment",
          "Sony Computer Entertainment",
          "Sony Computer Entertainment",
          "THQ",
          "Enix Corporation",
          "GT Interactive",
          "Electronic Arts",
          "Electronic Arts",
          "Nintendo",
          "Nintendo",
          "Sony Computer Entertainment",
          "Sony Computer Entertainment",
          "Sony Computer Entertainment",
          "Namco Bandai Games",
          "Electronic Arts",
          "Sega",
          "THQ",
          "Atari",
          "Nintendo",
          "Ubisoft",
          "Nintendo",
          "Nintendo",
          "Take-Two Interactive",
          "Activision",
          "Nintendo",
          "Virgin Interactive",
          "Warner Bros. Interactive Entertainment",
          "Nintendo",
          "Electronic Arts",
          "LucasArts",
          "Electronic Arts",
          "Nintendo",
          "Electronic Arts",
          "Electronic Arts",
          "Level 5",
          "Electronic Arts",
          "Square Enix",
          "Arena Entertainment",
          "Activision",
          "Activision",
          "Electronic Arts",
          "Microsoft Game Studios",
          "Disney Interactive Studios",
          "Ubisoft",
          "Activision",
          "Electronic Arts",
          "Nintendo",
          "Nintendo",
          "LucasArts",
          "Take-Two Interactive",
          "Sony Computer Entertainment",
          "Microsoft Game Studios",
          "Sony Computer Entertainment",
          "Sega",
          "Nintendo",
          "Electronic Arts",
          "Electronic Arts",
          "Take-Two Interactive",
          "Nintendo",
          "Electronic Arts",
          "Nintendo",
          "Sega",
          "Electronic Arts",
          "Sony Computer Entertainment",
          "Electronic Arts",
          "Sony Computer Entertainment",
          "Sony Computer Entertainment",
          "Take-Two Interactive",
          "Capcom",
          "THQ",
          "Sony Computer Entertainment",
          "Nintendo",
          "Electronic Arts",
          "Electronic Arts",
          "Sega",
          "Enix Corporation",
          "Electronic Arts",
          "Nintendo",
          "Konami Digital Entertainment",
          "Electronic Arts",
          "Atari",
          "Acclaim Entertainment",
          "Nintendo",
          "Midway Games",
          "Capcom",
          "Square Enix",
          "Activision",
          "Konami Digital Entertainment",
          "Nintendo",
          "THQ",
          "Take-Two Interactive",
          "Warner Bros. Interactive Entertainment",
          "Midway Games",
          "Sony Computer Entertainment",
          "Disney Interactive Studios",
          "Eidos Interactive",
          "Take-Two Interactive",
          "Electronic Arts",
          "Take-Two Interactive",
          "Nintendo",
          "THQ",
          "Take-Two Interactive",
          "SquareSoft",
          "SquareSoft",
          "Sony Computer Entertainment",
          "Microsoft Game Studios",
          "Electronic Arts",
          "Electronic Arts",
          "Red Orb",
          "Ubisoft",
          "Sega",
          "Nintendo",
          "Konami Digital Entertainment",
          "Atari",
          "Sony Computer Entertainment",
          "Capcom",
          "Microsoft Game Studios",
          "Electronic Arts",
          "Electronic Arts",
          "JVC",
          "Nintendo",
          "Electronic Arts",
          "Konami Digital Entertainment",
          "Electronic Arts",
          "505 Games",
          "LucasArts",
          "Hasbro Interactive",
          "Warner Bros. Interactive Entertainment",
          "Deep Silver",
          "RedOctane",
          "LucasArts",
          "Microsoft Game Studios",
          "THQ",
          "Sony Computer Entertainment",
          "Take-Two Interactive",
          "Electronic Arts",
          "Konami Digital Entertainment",
          "Electronic Arts",
          "Vivendi Games",
          "THQ",
          "Activision",
          "Electronic Arts",
          "Microsoft Game Studios",
          "Nintendo",
          "Warner Bros. Interactive Entertainment",
          "Nintendo",
          "Eidos Interactive",
          "Take-Two Interactive",
          "Activision",
          "THQ",
          "Ubisoft",
          "Capcom",
          "Electronic Arts",
          "Nintendo",
          "Take-Two Interactive",
          "Ubisoft",
          "Nintendo",
          "Take-Two Interactive",
          "Electronic Arts",
          "Nintendo",
          "Electronic Arts",
          "SquareSoft",
          "989 Studios",
          "Warner Bros. Interactive Entertainment",
          "NCSoft",
          "Nintendo",
          "Deep Silver",
          "Eidos Interactive",
          "Sony Computer Entertainment",
          "Electronic Arts",
          "Konami Digital Entertainment",
          "Ubisoft",
          "Level 5",
          "Nintendo",
          "Electronic Arts",
          "LucasArts",
          "Take-Two Interactive",
          "Codemasters",
          "Nintendo",
          "Sega",
          "Sega",
          "Nintendo",
          "Nintendo",
          "Activision",
          "Activision",
          "Capcom",
          "Sony Computer Entertainment Europe",
          "Capcom",
          "UEP Systems",
          "Nintendo",
          "Electronic Arts",
          "Nintendo",
          "Square Enix",
          "Sega",
          "Vivendi Games",
          "Konami Digital Entertainment",
          "Activision",
          "Konami Digital Entertainment",
          "Nintendo",
          "Ubisoft",
          "Warner Bros. Interactive Entertainment",
          "Nintendo",
          "Electronic Arts",
          "Take-Two Interactive",
          "Ubisoft",
          "Capcom",
          "Electronic Arts",
          "Parker Bros.",
          "Activision",
          "Nintendo",
          "Namco Bandai Games",
          "Sega",
          "Disney Interactive Studios",
          "Konami Digital Entertainment",
          "THQ",
          "Activision",
          "Nintendo",
          "Nintendo",
          "Square Enix",
          "Konami Digital Entertainment",
          "THQ",
          "Microsoft Game Studios",
          "Electronic Arts",
          "Nintendo",
          "Nintendo",
          "Square Enix",
          "Nintendo",
          "Nintendo",
          "Electronic Arts",
          "Ubisoft",
          "Sony Computer Entertainment",
          "Ubisoft",
          "Nintendo",
          "Electronic Arts",
          "Activision",
          "Nintendo",
          "Nintendo",
          "Nintendo",
          "Maxis",
          "Imagic",
          "Konami Digital Entertainment",
          "Nintendo",
          "SquareSoft",
          "Disney Interactive Studios",
          "Square Enix",
          "Nintendo",
          "Microsoft Game Studios",
          "Nintendo",
          "Take-Two Interactive",
          "Take-Two Interactive",
          "Activision",
          "Konami Digital Entertainment",
          "Electronic Arts",
          "Nintendo",
          "MTV Games",
          "Tecmo Koei",
          "Warner Bros. Interactive Entertainment",
          "SquareSoft",
          "THQ",
          "Microsoft Game Studios",
          "Electronic Arts",
          "Valve Software",
          "Capcom",
          "ASCII Entertainment",
          "Capcom",
          "THQ",
          "Take-Two Interactive",
          "Mindscape",
          "Electronic Arts",
          "Electronic Arts",
          "Konami Digital Entertainment",
          "Activision",
          "THQ",
          "Electronic Arts",
          "Konami Digital Entertainment",
          "Nintendo",
          "Take-Two Interactive",
          "Electronic Arts",
          "Activision",
          "Electronic Arts",
          "Take-Two Interactive",
          "Square Enix",
          "THQ",
          "Namco Bandai Games",
          "Konami Digital Entertainment",
          "Electronic Arts",
          "Electronic Arts",
          "Ubisoft",
          "Nintendo",
          "THQ",
          "Namco Bandai Games",
          "Namco Bandai Games",
          "Nintendo",
          "Electronic Arts",
          "Take-Two Interactive",
          "Take-Two Interactive",
          "Nintendo",
          "Infogrames",
          "Activision",
          "Arena Entertainment",
          "Microsoft Game Studios",
          "Square Enix",
          "Microsoft Game Studios",
          "Ubisoft",
          "Sony Computer Entertainment",
          "Ubisoft",
          "Nintendo",
          "Electronic Arts",
          "Electronic Arts",
          "Nintendo",
          "Ubisoft",
          "Electronic Arts",
          "Electronic Arts",
          "Activision",
          "Electronic Arts",
          "Microsoft Game Studios",
          "Midway Games",
          "Warner Bros. Interactive Entertainment",
          "Nintendo",
          "Sony Computer Entertainment",
          "Nintendo",
          "Midway Games",
          "Activision",
          "Nintendo",
          "Electronic Arts",
          "Electronic Arts",
          "Nintendo",
          "Electronic Arts",
          "Capcom",
          "Electronic Arts",
          "Sega",
          "Universal Interactive",
          "Activision",
          "Capcom",
          "Electronic Arts",
          "Atari",
          "Take-Two Interactive",
          "Sony Computer Entertainment",
          "Nintendo",
          "Nintendo",
          "Nintendo",
          "Ubisoft",
          "Activision",
          "Vivendi Games",
          "Take-Two Interactive",
          "LucasArts",
          "Electronic Arts",
          "Electronic Arts",
          "Electronic Arts",
          "Disney Interactive Studios",
          "THQ",
          "Nintendo",
          "Atari",
          "Sony Computer Entertainment",
          "Ubisoft",
          "Activision",
          "Warner Bros. Interactive Entertainment",
          "Activision",
          "Acclaim Entertainment",
          "Sega",
          "Nintendo",
          "Midway Games",
          "Ubisoft",
          "Nintendo",
          "Square Enix",
          "Nintendo",
          "Electronic Arts",
          "Electronic Arts",
          "THQ",
          "Electronic Arts",
          "THQ",
          "Sony Computer Entertainment",
          "Disney Interactive Studios",
          "Nintendo",
          "LucasArts",
          "Midway Games",
          "Activision",
          "LucasArts",
          "LucasArts",
          "Take-Two Interactive",
          "Electronic Arts",
          "Electronic Arts",
          "Nintendo",
          "Sony Computer Entertainment",
          "Konami Digital Entertainment",
          "Midway Games",
          "Sony Computer Entertainment",
          "Electronic Arts",
          "THQ",
          "Disney Interactive Studios",
          "Nintendo",
          "Electronic Arts",
          "THQ",
          "Nintendo",
          "Nintendo",
          "Electronic Arts",
          "Activision",
          "Sony Computer Entertainment",
          "Acclaim Entertainment",
          "Sony Computer Entertainment",
          "Sony Computer Entertainment",
          "Electronic Arts",
          "Disney Interactive Studios",
          "SquareSoft",
          "Activision",
          "Nintendo",
          "Sony Computer Entertainment",
          "Ubisoft",
          "Square Enix",
          "Nintendo",
          "Sony Computer Entertainment",
          "Unknown",
          "Namco Bandai Games",
          "Electronic Arts",
          "Nintendo",
          "THQ",
          "Activision",
          "Sony Computer Entertainment",
          "Square Enix",
          "SquareSoft",
          "Electronic Arts",
          "Sony Computer Entertainment",
          "Nintendo",
          "Sega",
          "Namco Bandai Games",
          "Electronic Arts",
          "Nintendo",
          "Nintendo",
          "Bethesda Softworks",
          "Konami Digital Entertainment",
          "Sega",
          "Sega",
          "Sony Computer Entertainment",
          "Activision",
          "Sega",
          "Electronic Arts",
          "Take-Two Interactive",
          "989 Studios",
          "Activision",
          "Virgin Interactive",
          "Sony Computer Entertainment",
          "Microsoft Game Studios",
          "Take-Two Interactive",
          "Square Enix",
          "THQ",
          "Sony Computer Entertainment",
          "Nintendo",
          "Square Enix",
          "Capcom",
          "Nintendo",
          "Vivendi Games",
          "Disney Interactive Studios",
          "Nintendo",
          "Electronic Arts",
          "Square",
          "Nintendo",
          "Microsoft Game Studios",
          "THQ",
          "Nintendo",
          "Acclaim Entertainment",
          "THQ",
          "Nintendo",
          "Sega",
          "Nintendo",
          "Electronic Arts",
          "Ubisoft",
          "Take-Two Interactive",
          "Take-Two Interactive",
          "Square Enix",
          "THQ",
          "Activision",
          "Electronic Arts",
          "Electronic Arts",
          "Activision",
          "Electronic Arts",
          "Square Enix"
         ],
         "z": [
          1,
          0.47524385726632923,
          0.4206692184220274,
          0.38585010495122857,
          0.3657241634769725,
          0.35201876774910484,
          0.348931966909495,
          0.3367082355846401,
          0.3317693542412644,
          0.3279417212001482,
          0.28410914927768866,
          0.26756389677737996,
          0.26361279170267937,
          0.2589208544264724,
          0.25003086800839613,
          0.24780837140387704,
          0.2426225459933325,
          0.2353376960118533,
          0.23286825534016545,
          0.22805284603037412,
          0.205087047783677,
          0.20237066304482038,
          0.19175206815656257,
          0.18063958513396716,
          0.1777997283615261,
          0.17409556735399434,
          0.1675515495740215,
          0.16730460550685272,
          0.16335350043215213,
          0.16063711569329547,
          0.15915545129028277,
          0.15915545129028277,
          0.15557476231633535,
          0.15421656994690705,
          0.15162365724163476,
          0.147919496234103,
          0.14520311149524634,
          0.14458575132732437,
          0.14014075811828622,
          0.13939992591677985,
          0.13557229287566366,
          0.12989257933078158,
          0.12915174712927524,
          0.12828744289418448,
          0.12631189035683418,
          0.12532411408815905,
          0.12520064205457465,
          0.12236078528213361,
          0.1206321768119521,
          0.11828620817384863,
          0.11643412767008272,
          0.11445857513273244,
          0.11359427089764168,
          0.11161871836029139,
          0.11137177429312262,
          0.11038399802444747,
          0.10890233362143475,
          0.10865538955426597,
          0.10791455735275961,
          0.10705025311766886,
          0.10507470058031856,
          0.10445734041239661,
          0.10038276330411164,
          0.10025929127052723,
          0.09964193110260527,
          0.09890109890109891,
          0.09840721076676134,
          0.09680207433016422,
          0.09593777009507347,
          0.0955673539943203,
          0.09346832942338561,
          0.09322138535621684,
          0.09198666502037288,
          0.09062847265094456,
          0.08976416841585382,
          0.08754167181133474,
          0.08655389554265959,
          0.08322015063588098,
          0.08322015063588098,
          0.08322015063588098,
          0.08235584640079023,
          0.08124459809853068,
          0.08013334979627115,
          0.07852821335967403,
          0.07828126929250526,
          0.07791085319175207,
          0.07778738115816769,
          0.07544141252006421,
          0.07519446845289542,
          0.07482405235214223,
          0.0737128040498827,
          0.07334238794912953,
          0.07309544388196074,
          0.07223113964686999,
          0.07223113964686999,
          0.0719841955797012,
          0.07050253117668849,
          0.07037905914310409,
          0.06939128287442894,
          0.06902086677367576,
          0.06865045067292258,
          0.0685269786393382,
          0.06815656253858501,
          0.06766267440424745,
          0.06729225830349427,
          0.0667983701691567,
          0.06642795406840352,
          0.06568712186689715,
          0.06432892949746882,
          0.06432892949746882,
          0.06420545746388444,
          0.06371156932954686,
          0.06358809729596247,
          0.06358809729596247,
          0.06272379306087172,
          0.06272379306087172,
          0.06260032102728733,
          0.06247684899370293,
          0.06185948882578096,
          0.061489072725027794,
          0.06136560069144339,
          0.06099518459069022,
          0.06074824052352142,
          0.05988393628843067,
          0.05976046425484628,
          0.05976046425484628,
          0.0593900481540931,
          0.058772687986171135,
          0.05864921595258674,
          0.05778491171749599,
          0.057537967650327204,
          0.05741449561674281,
          0.057291023583158414,
          0.056920607482405246,
          0.05667366341523645,
          0.056303247314483267,
          0.056179775280898875,
          0.0559328312137301,
          0.05580935918014569,
          0.055438943079392525,
          0.055438943079392525,
          0.05383380664279541,
          0.05309297444128905,
          0.052846030374120265,
          0.052846030374120265,
          0.052846030374120265,
          0.0523521422397827,
          0.051858254105445124,
          0.05148783800469194,
          0.050500061736016795,
          0.0503765897024324,
          0.05025311766884801,
          0.049265341400172864,
          0.049018397333004074,
          0.04815409309791333,
          0.04728978886282258,
          0.047166316829238185,
          0.046919372762069395,
          0.046919372762069395,
          0.04667242869490061,
          0.04642548462773182,
          0.04630201259414743,
          0.04617854056056304,
          0.04593159649339425,
          0.045808124459809856,
          0.045684652426225464,
          0.045437708359056674,
          0.04531423632547228,
          0.04531423632547228,
          0.04457340412396593,
          0.044326460056797135,
          0.04395604395604395,
          0.04383257192245956,
          0.04383257192245956,
          0.043709099888875176,
          0.04346215582170638,
          0.04346215582170638,
          0.04333868378812199,
          0.04309173972095321,
          0.04296826768736882,
          0.04272132362020003,
          0.04259785158661564,
          0.04259785158661564,
          0.042474379553031245,
          0.042474379553031245,
          0.04235090751944685,
          0.042227435485862455,
          0.04198049141869367,
          0.04198049141869367,
          0.04185701938510927,
          0.04173354735152488,
          0.04173354735152488,
          0.04173354735152488,
          0.04173354735152488,
          0.04161007531794049,
          0.04161007531794049,
          0.0414866032843561,
          0.041116187183602916,
          0.041116187183602916,
          0.041116187183602916,
          0.040992715150018524,
          0.040745771082849734,
          0.04037535498209655,
          0.04037535498209655,
          0.04025188294851216,
          0.04012841091492777,
          0.04012841091492777,
          0.03988146684775899,
          0.039634522780590195,
          0.039634522780590195,
          0.03938757871342142,
          0.03901716261266824,
          0.038893690579083845,
          0.038646746511915055,
          0.03852327447833066,
          0.03827633041116187,
          0.03815285837757748,
          0.03802938634399309,
          0.03802938634399309,
          0.0379059143104087,
          0.037535498209655516,
          0.037165082108902334,
          0.03679466600814916,
          0.03642424990739598,
          0.036177305840227186,
          0.036177305840227186,
          0.036053833806642795,
          0.03568341770588961,
          0.03555994567230522,
          0.035436473638720836,
          0.035313001605136445,
          0.03518952957155204,
          0.03494258550438326,
          0.03494258550438326,
          0.03481911347079887,
          0.03457216940363008,
          0.0343252253364613,
          0.0343252253364613,
          0.033954809235708115,
          0.033831337202123724,
          0.03370786516853933,
          0.03358439313495493,
          0.03358439313495493,
          0.03333744906778615,
          0.03333744906778615,
          0.03321397703420176,
          0.03296703296703297,
          0.032843560933448576,
          0.032596616866279786,
          0.032596616866279786,
          0.032473144832695394,
          0.032349672799111,
          0.03210272873194221,
          0.03197925669835782,
          0.03185578466477343,
          0.03160884059760464,
          0.03160884059760464,
          0.03160884059760464,
          0.03160884059760464,
          0.030991480429682677,
          0.030868008396098285,
          0.030868008396098285,
          0.030744536362513897,
          0.030744536362513897,
          0.030621064328929505,
          0.030497592295345103,
          0.03037412026176071,
          0.03037412026176071,
          0.03037412026176071,
          0.030250648228176323,
          0.030250648228176323,
          0.03012717619459193,
          0.03012717619459193,
          0.03012717619459193,
          0.02988023212742314,
          0.02975676009383875,
          0.02975676009383875,
          0.029509816026669956,
          0.029509816026669956,
          0.029262871959501176,
          0.029262871959501176,
          0.029139399925916784,
          0.029015927892332385,
          0.029015927892332385,
          0.029015927892332385,
          0.028892455858747994,
          0.028892455858747994,
          0.028768983825163602,
          0.028645511791579214,
          0.028522039757994812,
          0.028522039757994812,
          0.02839856772441042,
          0.02839856772441042,
          0.02815162365724164,
          0.02815162365724164,
          0.028028151623657238,
          0.027904679590072846,
          0.027904679590072846,
          0.027781207556488458,
          0.027657735522904067,
          0.02753426348931967,
          0.02679343128781331,
          0.02679343128781331,
          0.02666995925422892,
          0.026546487220644524,
          0.026423015187060132,
          0.026423015187060132,
          0.026299543153475737,
          0.026299543153475737,
          0.02617607111989135,
          0.02617607111989135,
          0.02617607111989135,
          0.025929127052722562,
          0.025929127052722562,
          0.025805655019138164,
          0.025805655019138164,
          0.025682182985553775,
          0.025682182985553775,
          0.02555871095196938,
          0.02543523891838499,
          0.0251882948512162,
          0.025064822817631807,
          0.025064822817631807,
          0.024941350784047415,
          0.024941350784047415,
          0.02481787875046302,
          0.02481787875046302,
          0.02481787875046302,
          0.02444746264970984,
          0.02444746264970984,
          0.024323990616125453,
          0.024200518582541054,
          0.024077046548956666,
          0.024077046548956666,
          0.023953574515372267,
          0.023953574515372267,
          0.023706630448203484,
          0.023706630448203484,
          0.023583158414619092,
          0.023459686381034697,
          0.023459686381034697,
          0.023459686381034697,
          0.023336214347450306,
          0.023336214347450306,
          0.02321274231386591,
          0.02321274231386591,
          0.02321274231386591,
          0.02321274231386591,
          0.02308927028028152,
          0.022965798246697124,
          0.022965798246697124,
          0.022965798246697124,
          0.022965798246697124,
          0.022842326213112732,
          0.022718854179528337,
          0.022595382145943945,
          0.022348438078775158,
          0.02210149401160637,
          0.02210149401160637,
          0.02210149401160637,
          0.021978021978021976,
          0.021978021978021976,
          0.021978021978021976,
          0.021978021978021976,
          0.021854549944437588,
          0.021854549944437588,
          0.021854549944437588,
          0.021854549944437588,
          0.02173107791085319,
          0.02173107791085319,
          0.0216076058772688,
          0.0216076058772688,
          0.0216076058772688,
          0.0216076058772688,
          0.02148413384368441,
          0.02148413384368441,
          0.021360661810100014,
          0.021360661810100014,
          0.021113717742931228,
          0.020990245709346836,
          0.02086677367576244,
          0.02086677367576244,
          0.02086677367576244,
          0.02074330164217805,
          0.020619829608593654,
          0.020619829608593654,
          0.020619829608593654,
          0.020496357575009262,
          0.020496357575009262,
          0.020372885541424867,
          0.020249413507840475,
          0.02012594147425608,
          0.02012594147425608,
          0.02012594147425608,
          0.019878997407087293,
          0.019878997407087293,
          0.019878997407087293,
          0.019632053339918507,
          0.019632053339918507,
          0.01950858130633412,
          0.01950858130633412,
          0.01950858130633412,
          0.01938510927274972,
          0.01938510927274972,
          0.01926163723916533,
          0.01889122113841215,
          0.01889122113841215,
          0.01889122113841215,
          0.018767749104827758,
          0.018767749104827758,
          0.018767749104827758,
          0.018644277071243363,
          0.01839733300407458,
          0.018273860970490184,
          0.018273860970490184,
          0.018150388936905796,
          0.018150388936905796,
          0.018026916903321397,
          0.01790344486973701,
          0.01790344486973701,
          0.01790344486973701,
          0.01777997283615261,
          0.01777997283615261,
          0.01777997283615261,
          0.01777997283615261,
          0.017656500802568222,
          0.017656500802568222,
          0.017533028768983827,
          0.017533028768983827,
          0.017533028768983827,
          0.017533028768983827,
          0.017409556735399435,
          0.01728608470181504,
          0.01728608470181504,
          0.01728608470181504,
          0.01728608470181504,
          0.01728608470181504,
          0.01716261266823065,
          0.017039140634646253,
          0.016915668601061862,
          0.016915668601061862,
          0.016915668601061862,
          0.016915668601061862,
          0.016915668601061862,
          0.016915668601061862,
          0.016792196567477467,
          0.016792196567477467,
          0.01654525250030868,
          0.016421780466724288,
          0.016421780466724288,
          0.016298308433139893,
          0.016298308433139893,
          0.016298308433139893,
          0.016298308433139893,
          0.016298308433139893,
          0.016051364365971106,
          0.015927892332386714,
          0.015927892332386714,
          0.01580442029880232,
          0.01580442029880232,
          0.01568094826521793,
          0.01568094826521793,
          0.01568094826521793,
          0.01568094826521793,
          0.015434004198049142,
          0.015434004198049142,
          0.015434004198049142,
          0.015434004198049142,
          0.015310532164464753,
          0.015310532164464753,
          0.015310532164464753,
          0.015310532164464753,
          0.015310532164464753,
          0.015187060130880356,
          0.015063588097295966,
          0.015063588097295966,
          0.015063588097295966,
          0.01494011606371157,
          0.01494011606371157,
          0.01494011606371157,
          0.014816644030127179,
          0.014693171996542784,
          0.014693171996542784,
          0.014693171996542784,
          0.014693171996542784,
          0.014693171996542784,
          0.014569699962958392,
          0.014446227929373997,
          0.014322755895789607,
          0.014322755895789607,
          0.01419928386220521,
          0.01419928386220521,
          0.01419928386220521,
          0.01419928386220521,
          0.01419928386220521,
          0.01407581182862082,
          0.01407581182862082,
          0.01407581182862082,
          0.013952339795036423,
          0.013952339795036423,
          0.013952339795036423,
          0.013828867761452033,
          0.013705395727867638,
          0.013705395727867638,
          0.013705395727867638,
          0.013581923694283246,
          0.013581923694283246,
          0.013581923694283246,
          0.013581923694283246,
          0.013581923694283246,
          0.013581923694283246,
          0.013458451660698851,
          0.01333497962711446,
          0.01333497962711446,
          0.01333497962711446,
          0.01333497962711446,
          0.013211507593530064,
          0.013211507593530064,
          0.013088035559945674,
          0.013088035559945674,
          0.013088035559945674,
          0.012964563526361278,
          0.012964563526361278,
          0.012964563526361278,
          0.012841091492776888,
          0.012841091492776888,
          0.012841091492776888,
          0.012841091492776888,
          0.012841091492776888,
          0.012841091492776888,
          0.012841091492776888,
          0.012841091492776888,
          0.012841091492776888,
          0.012841091492776888,
          0.01271761945919249,
          0.01271761945919249,
          0.01271761945919249,
          0.01271761945919249,
          0.0125941474256081,
          0.0125941474256081,
          0.0125941474256081,
          0.012470675392023704,
          0.012347203358439314,
          0.012223731324854924,
          0.012100259291270527,
          0.012100259291270527,
          0.011976787257686137,
          0.011853315224101742,
          0.01172984319051735,
          0.01172984319051735,
          0.01172984319051735,
          0.01172984319051735,
          0.011606371156932955,
          0.011606371156932955,
          0.011606371156932955,
          0.011606371156932955,
          0.011482899123348564,
          0.011482899123348564,
          0.011482899123348564,
          0.011482899123348564,
          0.011482899123348564,
          0.011359427089764168,
          0.011359427089764168,
          0.011359427089764168,
          0.011359427089764168,
          0.011235955056179778,
          0.011112483022595382,
          0.011112483022595382,
          0.011112483022595382,
          0.011112483022595382,
          0.011112483022595382,
          0.011112483022595382,
          0.010989010989010992,
          0.010865538955426595,
          0.010865538955426595,
          0.010865538955426595,
          0.010865538955426595,
          0.010742066921842205,
          0.010742066921842205,
          0.010742066921842205,
          0.010742066921842205,
          0.010742066921842205,
          0.010618594888257808,
          0.010618594888257808,
          0.010495122854673418,
          0.010495122854673418,
          0.010371650821089023,
          0.010371650821089023,
          0.010371650821089023,
          0.010248178787504631,
          0.010248178787504631,
          0.010248178787504631,
          0.010248178787504631,
          0.010248178787504631,
          0.010124706753920236,
          0.010124706753920236,
          0.010124706753920236,
          0.010124706753920236,
          0.010001234720335846,
          0.010001234720335846,
          0.010001234720335846,
          0.00975429065316706,
          0.00975429065316706,
          0.00975429065316706,
          0.009630818619582662,
          0.009507346585998272,
          0.009507346585998272,
          0.009507346585998272,
          0.009507346585998272,
          0.009383874552413875,
          0.009260402518829485,
          0.009260402518829485,
          0.009260402518829485,
          0.009136930485245096,
          0.009136930485245096,
          0.009136930485245096,
          0.009136930485245096,
          0.009013458451660699,
          0.009013458451660699,
          0.009013458451660699,
          0.009013458451660699,
          0.009013458451660699,
          0.008889986418076309,
          0.008889986418076309,
          0.008766514384491914,
          0.008643042350907522,
          0.008643042350907522,
          0.008643042350907522,
          0.008519570317323127,
          0.008519570317323127,
          0.008519570317323127,
          0.008396098283738735,
          0.008396098283738735,
          0.00827262625015434,
          0.00827262625015434,
          0.00827262625015434,
          0.00827262625015434,
          0.00814915421656995,
          0.00814915421656995,
          0.00814915421656995,
          0.00814915421656995,
          0.00814915421656995,
          0.008025682182985553,
          0.008025682182985553,
          0.008025682182985553,
          0.008025682182985553,
          0.007902210149401163,
          0.007902210149401163,
          0.007902210149401163,
          0.007902210149401163,
          0.007902210149401163,
          0.007902210149401163,
          0.007902210149401163,
          0.007778738115816767,
          0.007778738115816767,
          0.007778738115816767,
          0.007778738115816767,
          0.007778738115816767,
          0.007778738115816767,
          0.007778738115816767,
          0.007778738115816767,
          0.007655266082232376,
          0.007655266082232376,
          0.007655266082232376,
          0.007655266082232376,
          0.007655266082232376,
          0.00753179404864798,
          0.00753179404864798,
          0.0074083220150635894,
          0.0074083220150635894,
          0.0074083220150635894,
          0.0074083220150635894,
          0.007284849981479193,
          0.007284849981479193,
          0.007284849981479193,
          0.007284849981479193,
          0.0071613779478948035,
          0.0070379059143104074,
          0.0070379059143104074,
          0.0070379059143104074,
          0.0070379059143104074,
          0.0070379059143104074,
          0.006914433880726017,
          0.006914433880726017,
          0.006914433880726017,
          0.006914433880726017,
          0.006914433880726017,
          0.006790961847141621,
          0.006790961847141621,
          0.006790961847141621,
          0.00666748981355723,
          0.00666748981355723,
          0.00666748981355723,
          0.006544017779972834,
          0.006544017779972834,
          0.006544017779972834,
          0.006544017779972834,
          0.006544017779972834,
          0.006544017779972834,
          0.006544017779972834,
          0.006544017779972834,
          0.006544017779972834,
          0.006420545746388444,
          0.006420545746388444,
          0.006420545746388444,
          0.006420545746388444,
          0.006297073712804048,
          0.006297073712804048,
          0.006297073712804048,
          0.006297073712804048,
          0.006173601679219657,
          0.006173601679219657,
          0.006173601679219657,
          0.006173601679219657,
          0.006173601679219657,
          0.006173601679219657,
          0.006173601679219657,
          0.006050129645635267,
          0.005926657612050871,
          0.005926657612050871,
          0.005926657612050871,
          0.005926657612050871,
          0.00580318557846648,
          0.00580318557846648,
          0.00580318557846648,
          0.00580318557846648,
          0.00580318557846648,
          0.005679713544882084,
          0.005679713544882084,
          0.005679713544882084,
          0.005556241511297693,
          0.005556241511297693,
          0.005556241511297693,
          0.005556241511297693,
          0.005556241511297693,
          0.005556241511297693,
          0.005556241511297693,
          0.005432769477713297,
          0.005432769477713297,
          0.005432769477713297,
          0.005432769477713297,
          0.005432769477713297,
          0.005432769477713297,
          0.005309297444128907,
          0.005309297444128907,
          0.005309297444128907,
          0.005309297444128907,
          0.005309297444128907,
          0.005185825410544511,
          0.005185825410544511,
          0.005185825410544511,
          0.005185825410544511,
          0.005062353376960121,
          0.005062353376960121,
          0.0049388813433757246,
          0.0049388813433757246,
          0.0049388813433757246,
          0.0049388813433757246,
          0.004815409309791334,
          0.004815409309791334,
          0.004815409309791334,
          0.004815409309791334,
          0.004815409309791334,
          0.004691937276206938,
          0.004691937276206938,
          0.004691937276206938,
          0.004691937276206938,
          0.004568465242622548,
          0.004568465242622548,
          0.004568465242622548,
          0.004568465242622548,
          0.004568465242622548,
          0.004444993209038152,
          0.004444993209038152,
          0.004444993209038152,
          0.004444993209038152,
          0.004444993209038152,
          0.004444993209038152,
          0.004444993209038152,
          0.004444993209038152,
          0.004444993209038152,
          0.004321521175453761,
          0.004321521175453761,
          0.004321521175453761,
          0.004321521175453761,
          0.004321521175453761,
          0.004198049141869365,
          0.004198049141869365,
          0.004198049141869365,
          0.004198049141869365,
          0.004198049141869365,
          0.004198049141869365,
          0.004198049141869365,
          0.004198049141869365,
          0.004198049141869365,
          0.004074577108284975,
          0.004074577108284975,
          0.004074577108284975,
          0.004074577108284975,
          0.004074577108284975,
          0.004074577108284975,
          0.004074577108284975,
          0.004074577108284975,
          0.004074577108284975,
          0.003951105074700579,
          0.003951105074700579,
          0.003951105074700579,
          0.003951105074700579,
          0.003951105074700579,
          0.003827633041116188,
          0.003827633041116188,
          0.003827633041116188,
          0.003827633041116188,
          0.003827633041116188,
          0.003827633041116188,
          0.003827633041116188,
          0.003827633041116188,
          0.003704161007531792,
          0.003704161007531792,
          0.003704161007531792,
          0.003704161007531792,
          0.003704161007531792,
          0.003704161007531792,
          0.003704161007531792,
          0.003704161007531792,
          0.0035806889739474017,
          0.0035806889739474017,
          0.0035806889739474017,
          0.0035806889739474017,
          0.0035806889739474017,
          0.0035806889739474017,
          0.0035806889739474017,
          0.0034572169403630057,
          0.0034572169403630057,
          0.0034572169403630057,
          0.0034572169403630057,
          0.003333744906778615,
          0.003333744906778615,
          0.003333744906778615,
          0.003333744906778615,
          0.003210272873194219,
          0.0030868008396098285,
          0.0030868008396098285,
          0.0030868008396098285,
          0.0030868008396098285,
          0.0030868008396098285,
          0.0029633288060254355,
          0.0029633288060254355,
          0.0029633288060254355,
          0.002839856772441042,
          0.002839856772441042,
          0.002839856772441042,
          0.002839856772441042,
          0.0027163847388566487,
          0.0027163847388566487,
          0.0027163847388566487,
          0.0027163847388566487,
          0.0027163847388566487,
          0.0027163847388566487,
          0.0027163847388566487,
          0.0025929127052722557,
          0.0025929127052722557,
          0.0025929127052722557,
          0.0025929127052722557,
          0.0025929127052722557,
          0.0025929127052722557,
          0.0024694406716878623,
          0.0024694406716878623,
          0.0024694406716878623,
          0.0024694406716878623,
          0.0024694406716878623,
          0.002345968638103469,
          0.002345968638103469,
          0.002345968638103469,
          0.002345968638103469,
          0.002345968638103469,
          0.002345968638103469,
          0.002345968638103469,
          0.002345968638103469,
          0.002222496604519076,
          0.002222496604519076,
          0.002222496604519076,
          0.002222496604519076,
          0.002222496604519076,
          0.002222496604519076,
          0.002222496604519076,
          0.002222496604519076,
          0.002222496604519076,
          0.0020990245709346825,
          0.0020990245709346825,
          0.0020990245709346825,
          0.0020990245709346825,
          0.0020990245709346825,
          0.0020990245709346825,
          0.0020990245709346825,
          0.0020990245709346825,
          0.0020990245709346825,
          0.0019755525373502895,
          0.0019755525373502895,
          0.0019755525373502895,
          0.0019755525373502895,
          0.0019755525373502895,
          0.001852080503765896,
          0.001852080503765896,
          0.0017286084701815029,
          0.0017286084701815029,
          0.0017286084701815029,
          0.0016051364365971094,
          0.0016051364365971094,
          0.0016051364365971094,
          0.0016051364365971094,
          0.0016051364365971094,
          0.0016051364365971094,
          0.001481664403012719,
          0.001481664403012719,
          0.001481664403012719,
          0.001481664403012719,
          0.001481664403012719,
          0.0013581923694283259,
          0.0013581923694283259,
          0.0013581923694283259,
          0.0013581923694283259,
          0.0013581923694283259,
          0.0013581923694283259,
          0.0013581923694283259,
          0.0013581923694283259,
          0.0013581923694283259,
          0.0013581923694283259,
          0.0013581923694283259,
          0.0012347203358439324,
          0.0012347203358439324,
          0.0012347203358439324,
          0.0012347203358439324,
          0.0012347203358439324,
          0.0012347203358439324,
          0.0011112483022595392,
          0.0011112483022595392,
          0.0011112483022595392,
          0.000987776268675146,
          0.000987776268675146,
          0.000987776268675146,
          0.000987776268675146,
          0.000987776268675146,
          0.000987776268675146,
          0.000987776268675146,
          0.000987776268675146,
          0.0008643042350907527,
          0.0008643042350907527,
          0.0008643042350907527,
          0.0008643042350907527,
          0.0008643042350907527,
          0.0007408322015063595,
          0.0007408322015063595,
          0.0007408322015063595,
          0.0007408322015063595,
          0.0007408322015063595,
          0.0007408322015063595,
          0.0006173601679219662,
          0.0006173601679219662,
          0.0006173601679219662,
          0.0006173601679219662,
          0.0006173601679219662,
          0.000493888134337573,
          0.000493888134337573,
          0.000493888134337573,
          0.00037041610075317976,
          0.00037041610075317976,
          0.00037041610075317976,
          0.00037041610075317976,
          0.00037041610075317976,
          0.00037041610075317976,
          0.00037041610075317976,
          0.00037041610075317976,
          0.0002469440671687865,
          0.0002469440671687865,
          0.0002469440671687865,
          0.0002469440671687865,
          0.0002469440671687865,
          0.0002469440671687865,
          0.0002469440671687865,
          0.0002469440671687865,
          0.0002469440671687865,
          0.00012347203358439325,
          0.00012347203358439325,
          0.00012347203358439325,
          0.00012347203358439325,
          0.00012347203358439325,
          0.00012347203358439325,
          0.00012347203358439325,
          0.00012347203358439325,
          0.00012347203358439325,
          0.00012347203358439325,
          0.00012347203358439325,
          0.00012347203358439325,
          0.00012347203358439325,
          0.00012347203358439325,
          0.00012347203358439325,
          0.00012347203358439325,
          0,
          0
         ]
        }
       ],
       "layout": {
        "height": 800,
        "scene": {
         "bgcolor": "whitesmoke",
         "xaxis": {
          "title": {
           "font": {
            "color": "rgb(20, 24, 54)"
           },
           "text": "Year"
          }
         },
         "yaxis": {
          "title": {
           "font": {
            "color": "rgb(20, 24, 54)"
           },
           "text": "Publisher"
          }
         },
         "zaxis": {
          "title": {
           "font": {
            "color": "rgb(20, 24, 54)"
           },
           "text": "Global Sales"
          }
         }
        },
        "template": {
         "data": {
          "bar": [
           {
            "error_x": {
             "color": "#2a3f5f"
            },
            "error_y": {
             "color": "#2a3f5f"
            },
            "marker": {
             "line": {
              "color": "#E5ECF6",
              "width": 0.5
             }
            },
            "type": "bar"
           }
          ],
          "barpolar": [
           {
            "marker": {
             "line": {
              "color": "#E5ECF6",
              "width": 0.5
             }
            },
            "type": "barpolar"
           }
          ],
          "carpet": [
           {
            "aaxis": {
             "endlinecolor": "#2a3f5f",
             "gridcolor": "white",
             "linecolor": "white",
             "minorgridcolor": "white",
             "startlinecolor": "#2a3f5f"
            },
            "baxis": {
             "endlinecolor": "#2a3f5f",
             "gridcolor": "white",
             "linecolor": "white",
             "minorgridcolor": "white",
             "startlinecolor": "#2a3f5f"
            },
            "type": "carpet"
           }
          ],
          "choropleth": [
           {
            "colorbar": {
             "outlinewidth": 0,
             "ticks": ""
            },
            "type": "choropleth"
           }
          ],
          "contour": [
           {
            "colorbar": {
             "outlinewidth": 0,
             "ticks": ""
            },
            "colorscale": [
             [
              0,
              "#0d0887"
             ],
             [
              0.1111111111111111,
              "#46039f"
             ],
             [
              0.2222222222222222,
              "#7201a8"
             ],
             [
              0.3333333333333333,
              "#9c179e"
             ],
             [
              0.4444444444444444,
              "#bd3786"
             ],
             [
              0.5555555555555556,
              "#d8576b"
             ],
             [
              0.6666666666666666,
              "#ed7953"
             ],
             [
              0.7777777777777778,
              "#fb9f3a"
             ],
             [
              0.8888888888888888,
              "#fdca26"
             ],
             [
              1,
              "#f0f921"
             ]
            ],
            "type": "contour"
           }
          ],
          "contourcarpet": [
           {
            "colorbar": {
             "outlinewidth": 0,
             "ticks": ""
            },
            "type": "contourcarpet"
           }
          ],
          "heatmap": [
           {
            "colorbar": {
             "outlinewidth": 0,
             "ticks": ""
            },
            "colorscale": [
             [
              0,
              "#0d0887"
             ],
             [
              0.1111111111111111,
              "#46039f"
             ],
             [
              0.2222222222222222,
              "#7201a8"
             ],
             [
              0.3333333333333333,
              "#9c179e"
             ],
             [
              0.4444444444444444,
              "#bd3786"
             ],
             [
              0.5555555555555556,
              "#d8576b"
             ],
             [
              0.6666666666666666,
              "#ed7953"
             ],
             [
              0.7777777777777778,
              "#fb9f3a"
             ],
             [
              0.8888888888888888,
              "#fdca26"
             ],
             [
              1,
              "#f0f921"
             ]
            ],
            "type": "heatmap"
           }
          ],
          "heatmapgl": [
           {
            "colorbar": {
             "outlinewidth": 0,
             "ticks": ""
            },
            "colorscale": [
             [
              0,
              "#0d0887"
             ],
             [
              0.1111111111111111,
              "#46039f"
             ],
             [
              0.2222222222222222,
              "#7201a8"
             ],
             [
              0.3333333333333333,
              "#9c179e"
             ],
             [
              0.4444444444444444,
              "#bd3786"
             ],
             [
              0.5555555555555556,
              "#d8576b"
             ],
             [
              0.6666666666666666,
              "#ed7953"
             ],
             [
              0.7777777777777778,
              "#fb9f3a"
             ],
             [
              0.8888888888888888,
              "#fdca26"
             ],
             [
              1,
              "#f0f921"
             ]
            ],
            "type": "heatmapgl"
           }
          ],
          "histogram": [
           {
            "marker": {
             "colorbar": {
              "outlinewidth": 0,
              "ticks": ""
             }
            },
            "type": "histogram"
           }
          ],
          "histogram2d": [
           {
            "colorbar": {
             "outlinewidth": 0,
             "ticks": ""
            },
            "colorscale": [
             [
              0,
              "#0d0887"
             ],
             [
              0.1111111111111111,
              "#46039f"
             ],
             [
              0.2222222222222222,
              "#7201a8"
             ],
             [
              0.3333333333333333,
              "#9c179e"
             ],
             [
              0.4444444444444444,
              "#bd3786"
             ],
             [
              0.5555555555555556,
              "#d8576b"
             ],
             [
              0.6666666666666666,
              "#ed7953"
             ],
             [
              0.7777777777777778,
              "#fb9f3a"
             ],
             [
              0.8888888888888888,
              "#fdca26"
             ],
             [
              1,
              "#f0f921"
             ]
            ],
            "type": "histogram2d"
           }
          ],
          "histogram2dcontour": [
           {
            "colorbar": {
             "outlinewidth": 0,
             "ticks": ""
            },
            "colorscale": [
             [
              0,
              "#0d0887"
             ],
             [
              0.1111111111111111,
              "#46039f"
             ],
             [
              0.2222222222222222,
              "#7201a8"
             ],
             [
              0.3333333333333333,
              "#9c179e"
             ],
             [
              0.4444444444444444,
              "#bd3786"
             ],
             [
              0.5555555555555556,
              "#d8576b"
             ],
             [
              0.6666666666666666,
              "#ed7953"
             ],
             [
              0.7777777777777778,
              "#fb9f3a"
             ],
             [
              0.8888888888888888,
              "#fdca26"
             ],
             [
              1,
              "#f0f921"
             ]
            ],
            "type": "histogram2dcontour"
           }
          ],
          "mesh3d": [
           {
            "colorbar": {
             "outlinewidth": 0,
             "ticks": ""
            },
            "type": "mesh3d"
           }
          ],
          "parcoords": [
           {
            "line": {
             "colorbar": {
              "outlinewidth": 0,
              "ticks": ""
             }
            },
            "type": "parcoords"
           }
          ],
          "pie": [
           {
            "automargin": true,
            "type": "pie"
           }
          ],
          "scatter": [
           {
            "marker": {
             "colorbar": {
              "outlinewidth": 0,
              "ticks": ""
             }
            },
            "type": "scatter"
           }
          ],
          "scatter3d": [
           {
            "line": {
             "colorbar": {
              "outlinewidth": 0,
              "ticks": ""
             }
            },
            "marker": {
             "colorbar": {
              "outlinewidth": 0,
              "ticks": ""
             }
            },
            "type": "scatter3d"
           }
          ],
          "scattercarpet": [
           {
            "marker": {
             "colorbar": {
              "outlinewidth": 0,
              "ticks": ""
             }
            },
            "type": "scattercarpet"
           }
          ],
          "scattergeo": [
           {
            "marker": {
             "colorbar": {
              "outlinewidth": 0,
              "ticks": ""
             }
            },
            "type": "scattergeo"
           }
          ],
          "scattergl": [
           {
            "marker": {
             "colorbar": {
              "outlinewidth": 0,
              "ticks": ""
             }
            },
            "type": "scattergl"
           }
          ],
          "scattermapbox": [
           {
            "marker": {
             "colorbar": {
              "outlinewidth": 0,
              "ticks": ""
             }
            },
            "type": "scattermapbox"
           }
          ],
          "scatterpolar": [
           {
            "marker": {
             "colorbar": {
              "outlinewidth": 0,
              "ticks": ""
             }
            },
            "type": "scatterpolar"
           }
          ],
          "scatterpolargl": [
           {
            "marker": {
             "colorbar": {
              "outlinewidth": 0,
              "ticks": ""
             }
            },
            "type": "scatterpolargl"
           }
          ],
          "scatterternary": [
           {
            "marker": {
             "colorbar": {
              "outlinewidth": 0,
              "ticks": ""
             }
            },
            "type": "scatterternary"
           }
          ],
          "surface": [
           {
            "colorbar": {
             "outlinewidth": 0,
             "ticks": ""
            },
            "colorscale": [
             [
              0,
              "#0d0887"
             ],
             [
              0.1111111111111111,
              "#46039f"
             ],
             [
              0.2222222222222222,
              "#7201a8"
             ],
             [
              0.3333333333333333,
              "#9c179e"
             ],
             [
              0.4444444444444444,
              "#bd3786"
             ],
             [
              0.5555555555555556,
              "#d8576b"
             ],
             [
              0.6666666666666666,
              "#ed7953"
             ],
             [
              0.7777777777777778,
              "#fb9f3a"
             ],
             [
              0.8888888888888888,
              "#fdca26"
             ],
             [
              1,
              "#f0f921"
             ]
            ],
            "type": "surface"
           }
          ],
          "table": [
           {
            "cells": {
             "fill": {
              "color": "#EBF0F8"
             },
             "line": {
              "color": "white"
             }
            },
            "header": {
             "fill": {
              "color": "#C8D4E3"
             },
             "line": {
              "color": "white"
             }
            },
            "type": "table"
           }
          ]
         },
         "layout": {
          "annotationdefaults": {
           "arrowcolor": "#2a3f5f",
           "arrowhead": 0,
           "arrowwidth": 1
          },
          "coloraxis": {
           "colorbar": {
            "outlinewidth": 0,
            "ticks": ""
           }
          },
          "colorscale": {
           "diverging": [
            [
             0,
             "#8e0152"
            ],
            [
             0.1,
             "#c51b7d"
            ],
            [
             0.2,
             "#de77ae"
            ],
            [
             0.3,
             "#f1b6da"
            ],
            [
             0.4,
             "#fde0ef"
            ],
            [
             0.5,
             "#f7f7f7"
            ],
            [
             0.6,
             "#e6f5d0"
            ],
            [
             0.7,
             "#b8e186"
            ],
            [
             0.8,
             "#7fbc41"
            ],
            [
             0.9,
             "#4d9221"
            ],
            [
             1,
             "#276419"
            ]
           ],
           "sequential": [
            [
             0,
             "#0d0887"
            ],
            [
             0.1111111111111111,
             "#46039f"
            ],
            [
             0.2222222222222222,
             "#7201a8"
            ],
            [
             0.3333333333333333,
             "#9c179e"
            ],
            [
             0.4444444444444444,
             "#bd3786"
            ],
            [
             0.5555555555555556,
             "#d8576b"
            ],
            [
             0.6666666666666666,
             "#ed7953"
            ],
            [
             0.7777777777777778,
             "#fb9f3a"
            ],
            [
             0.8888888888888888,
             "#fdca26"
            ],
            [
             1,
             "#f0f921"
            ]
           ],
           "sequentialminus": [
            [
             0,
             "#0d0887"
            ],
            [
             0.1111111111111111,
             "#46039f"
            ],
            [
             0.2222222222222222,
             "#7201a8"
            ],
            [
             0.3333333333333333,
             "#9c179e"
            ],
            [
             0.4444444444444444,
             "#bd3786"
            ],
            [
             0.5555555555555556,
             "#d8576b"
            ],
            [
             0.6666666666666666,
             "#ed7953"
            ],
            [
             0.7777777777777778,
             "#fb9f3a"
            ],
            [
             0.8888888888888888,
             "#fdca26"
            ],
            [
             1,
             "#f0f921"
            ]
           ]
          },
          "colorway": [
           "#636efa",
           "#EF553B",
           "#00cc96",
           "#ab63fa",
           "#FFA15A",
           "#19d3f3",
           "#FF6692",
           "#B6E880",
           "#FF97FF",
           "#FECB52"
          ],
          "font": {
           "color": "#2a3f5f"
          },
          "geo": {
           "bgcolor": "white",
           "lakecolor": "white",
           "landcolor": "#E5ECF6",
           "showlakes": true,
           "showland": true,
           "subunitcolor": "white"
          },
          "hoverlabel": {
           "align": "left"
          },
          "hovermode": "closest",
          "mapbox": {
           "style": "light"
          },
          "paper_bgcolor": "white",
          "plot_bgcolor": "#E5ECF6",
          "polar": {
           "angularaxis": {
            "gridcolor": "white",
            "linecolor": "white",
            "ticks": ""
           },
           "bgcolor": "#E5ECF6",
           "radialaxis": {
            "gridcolor": "white",
            "linecolor": "white",
            "ticks": ""
           }
          },
          "scene": {
           "xaxis": {
            "backgroundcolor": "#E5ECF6",
            "gridcolor": "white",
            "gridwidth": 2,
            "linecolor": "white",
            "showbackground": true,
            "ticks": "",
            "zerolinecolor": "white"
           },
           "yaxis": {
            "backgroundcolor": "#E5ECF6",
            "gridcolor": "white",
            "gridwidth": 2,
            "linecolor": "white",
            "showbackground": true,
            "ticks": "",
            "zerolinecolor": "white"
           },
           "zaxis": {
            "backgroundcolor": "#E5ECF6",
            "gridcolor": "white",
            "gridwidth": 2,
            "linecolor": "white",
            "showbackground": true,
            "ticks": "",
            "zerolinecolor": "white"
           }
          },
          "shapedefaults": {
           "line": {
            "color": "#2a3f5f"
           }
          },
          "ternary": {
           "aaxis": {
            "gridcolor": "white",
            "linecolor": "white",
            "ticks": ""
           },
           "baxis": {
            "gridcolor": "white",
            "linecolor": "white",
            "ticks": ""
           },
           "bgcolor": "#E5ECF6",
           "caxis": {
            "gridcolor": "white",
            "linecolor": "white",
            "ticks": ""
           }
          },
          "title": {
           "x": 0.05
          },
          "xaxis": {
           "automargin": true,
           "gridcolor": "white",
           "linecolor": "white",
           "ticks": "",
           "title": {
            "standoff": 15
           },
           "zerolinecolor": "white",
           "zerolinewidth": 2
          },
          "yaxis": {
           "automargin": true,
           "gridcolor": "white",
           "linecolor": "white",
           "ticks": "",
           "title": {
            "standoff": 15
           },
           "zerolinecolor": "white",
           "zerolinewidth": 2
          }
         }
        },
        "title": {
         "font": {
          "color": "rgb(20, 24, 54)"
         },
         "text": "Top 1000 Video Games, Release Years, Publishers and Sales"
        },
        "width": 800
       }
      },
      "text/html": [
       "<div>                            <div id=\"328bc7a7-b9d6-40db-98f6-478af420e0d0\" class=\"plotly-graph-div\" style=\"height:800px; width:800px;\"></div>            <script type=\"text/javascript\">                require([\"plotly\"], function(Plotly) {                    window.PLOTLYENV=window.PLOTLYENV || {};                                    if (document.getElementById(\"328bc7a7-b9d6-40db-98f6-478af420e0d0\")) {                    Plotly.newPlot(                        \"328bc7a7-b9d6-40db-98f6-478af420e0d0\",                        [{\"marker\": {\"color\": [1.0, 0.47524385726632923, 0.4206692184220274, 0.38585010495122857, 0.3657241634769725, 0.35201876774910484, 0.348931966909495, 0.3367082355846401, 0.3317693542412644, 0.3279417212001482, 0.28410914927768866, 0.26756389677737996, 0.26361279170267937, 0.2589208544264724, 0.25003086800839613, 0.24780837140387704, 0.2426225459933325, 0.2353376960118533, 0.23286825534016545, 0.22805284603037412, 0.205087047783677, 0.20237066304482038, 0.19175206815656257, 0.18063958513396716, 0.1777997283615261, 0.17409556735399434, 0.1675515495740215, 0.16730460550685272, 0.16335350043215213, 0.16063711569329547, 0.15915545129028277, 0.15915545129028277, 0.15557476231633535, 0.15421656994690705, 0.15162365724163476, 0.147919496234103, 0.14520311149524634, 0.14458575132732437, 0.14014075811828622, 0.13939992591677985, 0.13557229287566366, 0.12989257933078158, 0.12915174712927524, 0.12828744289418448, 0.12631189035683418, 0.12532411408815905, 0.12520064205457465, 0.12236078528213361, 0.1206321768119521, 0.11828620817384863, 0.11643412767008272, 0.11445857513273244, 0.11359427089764168, 0.11161871836029139, 0.11137177429312262, 0.11038399802444747, 0.10890233362143475, 0.10865538955426597, 0.10791455735275961, 0.10705025311766886, 0.10507470058031856, 0.10445734041239661, 0.10038276330411164, 0.10025929127052723, 0.09964193110260527, 0.09890109890109891, 0.09840721076676134, 0.09680207433016422, 0.09593777009507347, 0.0955673539943203, 0.09346832942338561, 0.09322138535621684, 0.09198666502037288, 0.09062847265094456, 0.08976416841585382, 0.08754167181133474, 0.08655389554265959, 0.08322015063588098, 0.08322015063588098, 0.08322015063588098, 0.08235584640079023, 0.08124459809853068, 0.08013334979627115, 0.07852821335967403, 0.07828126929250526, 0.07791085319175207, 0.07778738115816769, 0.07544141252006421, 0.07519446845289542, 0.07482405235214223, 0.0737128040498827, 0.07334238794912953, 0.07309544388196074, 0.07223113964686999, 0.07223113964686999, 0.0719841955797012, 0.07050253117668849, 0.07037905914310409, 0.06939128287442894, 0.06902086677367576, 0.06865045067292258, 0.0685269786393382, 0.06815656253858501, 0.06766267440424745, 0.06729225830349427, 0.0667983701691567, 0.06642795406840352, 0.06568712186689715, 0.06432892949746882, 0.06432892949746882, 0.06420545746388444, 0.06371156932954686, 0.06358809729596247, 0.06358809729596247, 0.06272379306087172, 0.06272379306087172, 0.06260032102728733, 0.06247684899370293, 0.06185948882578096, 0.061489072725027794, 0.06136560069144339, 0.06099518459069022, 0.06074824052352142, 0.05988393628843067, 0.05976046425484628, 0.05976046425484628, 0.0593900481540931, 0.058772687986171135, 0.05864921595258674, 0.05778491171749599, 0.057537967650327204, 0.05741449561674281, 0.057291023583158414, 0.056920607482405246, 0.05667366341523645, 0.056303247314483267, 0.056179775280898875, 0.0559328312137301, 0.05580935918014569, 0.055438943079392525, 0.055438943079392525, 0.05383380664279541, 0.05309297444128905, 0.052846030374120265, 0.052846030374120265, 0.052846030374120265, 0.0523521422397827, 0.051858254105445124, 0.05148783800469194, 0.050500061736016795, 0.0503765897024324, 0.05025311766884801, 0.049265341400172864, 0.049018397333004074, 0.04815409309791333, 0.04728978886282258, 0.047166316829238185, 0.046919372762069395, 0.046919372762069395, 0.04667242869490061, 0.04642548462773182, 0.04630201259414743, 0.04617854056056304, 0.04593159649339425, 0.045808124459809856, 0.045684652426225464, 0.045437708359056674, 0.04531423632547228, 0.04531423632547228, 0.04457340412396593, 0.044326460056797135, 0.04395604395604395, 0.04383257192245956, 0.04383257192245956, 0.043709099888875176, 0.04346215582170638, 0.04346215582170638, 0.04333868378812199, 0.04309173972095321, 0.04296826768736882, 0.04272132362020003, 0.04259785158661564, 0.04259785158661564, 0.042474379553031245, 0.042474379553031245, 0.04235090751944685, 0.042227435485862455, 0.04198049141869367, 0.04198049141869367, 0.04185701938510927, 0.04173354735152488, 0.04173354735152488, 0.04173354735152488, 0.04173354735152488, 0.04161007531794049, 0.04161007531794049, 0.0414866032843561, 0.041116187183602916, 0.041116187183602916, 0.041116187183602916, 0.040992715150018524, 0.040745771082849734, 0.04037535498209655, 0.04037535498209655, 0.04025188294851216, 0.04012841091492777, 0.04012841091492777, 0.03988146684775899, 0.039634522780590195, 0.039634522780590195, 0.03938757871342142, 0.03901716261266824, 0.038893690579083845, 0.038646746511915055, 0.03852327447833066, 0.03827633041116187, 0.03815285837757748, 0.03802938634399309, 0.03802938634399309, 0.0379059143104087, 0.037535498209655516, 0.037165082108902334, 0.03679466600814916, 0.03642424990739598, 0.036177305840227186, 0.036177305840227186, 0.036053833806642795, 0.03568341770588961, 0.03555994567230522, 0.035436473638720836, 0.035313001605136445, 0.03518952957155204, 0.03494258550438326, 0.03494258550438326, 0.03481911347079887, 0.03457216940363008, 0.0343252253364613, 0.0343252253364613, 0.033954809235708115, 0.033831337202123724, 0.03370786516853933, 0.03358439313495493, 0.03358439313495493, 0.03333744906778615, 0.03333744906778615, 0.03321397703420176, 0.03296703296703297, 0.032843560933448576, 0.032596616866279786, 0.032596616866279786, 0.032473144832695394, 0.032349672799111, 0.03210272873194221, 0.03197925669835782, 0.03185578466477343, 0.03160884059760464, 0.03160884059760464, 0.03160884059760464, 0.03160884059760464, 0.030991480429682677, 0.030868008396098285, 0.030868008396098285, 0.030744536362513897, 0.030744536362513897, 0.030621064328929505, 0.030497592295345103, 0.03037412026176071, 0.03037412026176071, 0.03037412026176071, 0.030250648228176323, 0.030250648228176323, 0.03012717619459193, 0.03012717619459193, 0.03012717619459193, 0.02988023212742314, 0.02975676009383875, 0.02975676009383875, 0.029509816026669956, 0.029509816026669956, 0.029262871959501176, 0.029262871959501176, 0.029139399925916784, 0.029015927892332385, 0.029015927892332385, 0.029015927892332385, 0.028892455858747994, 0.028892455858747994, 0.028768983825163602, 0.028645511791579214, 0.028522039757994812, 0.028522039757994812, 0.02839856772441042, 0.02839856772441042, 0.02815162365724164, 0.02815162365724164, 0.028028151623657238, 0.027904679590072846, 0.027904679590072846, 0.027781207556488458, 0.027657735522904067, 0.02753426348931967, 0.02679343128781331, 0.02679343128781331, 0.02666995925422892, 0.026546487220644524, 0.026423015187060132, 0.026423015187060132, 0.026299543153475737, 0.026299543153475737, 0.02617607111989135, 0.02617607111989135, 0.02617607111989135, 0.025929127052722562, 0.025929127052722562, 0.025805655019138164, 0.025805655019138164, 0.025682182985553775, 0.025682182985553775, 0.02555871095196938, 0.02543523891838499, 0.0251882948512162, 0.025064822817631807, 0.025064822817631807, 0.024941350784047415, 0.024941350784047415, 0.02481787875046302, 0.02481787875046302, 0.02481787875046302, 0.02444746264970984, 0.02444746264970984, 0.024323990616125453, 0.024200518582541054, 0.024077046548956666, 0.024077046548956666, 0.023953574515372267, 0.023953574515372267, 0.023706630448203484, 0.023706630448203484, 0.023583158414619092, 0.023459686381034697, 0.023459686381034697, 0.023459686381034697, 0.023336214347450306, 0.023336214347450306, 0.02321274231386591, 0.02321274231386591, 0.02321274231386591, 0.02321274231386591, 0.02308927028028152, 0.022965798246697124, 0.022965798246697124, 0.022965798246697124, 0.022965798246697124, 0.022842326213112732, 0.022718854179528337, 0.022595382145943945, 0.022348438078775158, 0.02210149401160637, 0.02210149401160637, 0.02210149401160637, 0.021978021978021976, 0.021978021978021976, 0.021978021978021976, 0.021978021978021976, 0.021854549944437588, 0.021854549944437588, 0.021854549944437588, 0.021854549944437588, 0.02173107791085319, 0.02173107791085319, 0.0216076058772688, 0.0216076058772688, 0.0216076058772688, 0.0216076058772688, 0.02148413384368441, 0.02148413384368441, 0.021360661810100014, 0.021360661810100014, 0.021113717742931228, 0.020990245709346836, 0.02086677367576244, 0.02086677367576244, 0.02086677367576244, 0.02074330164217805, 0.020619829608593654, 0.020619829608593654, 0.020619829608593654, 0.020496357575009262, 0.020496357575009262, 0.020372885541424867, 0.020249413507840475, 0.02012594147425608, 0.02012594147425608, 0.02012594147425608, 0.019878997407087293, 0.019878997407087293, 0.019878997407087293, 0.019632053339918507, 0.019632053339918507, 0.01950858130633412, 0.01950858130633412, 0.01950858130633412, 0.01938510927274972, 0.01938510927274972, 0.01926163723916533, 0.01889122113841215, 0.01889122113841215, 0.01889122113841215, 0.018767749104827758, 0.018767749104827758, 0.018767749104827758, 0.018644277071243363, 0.01839733300407458, 0.018273860970490184, 0.018273860970490184, 0.018150388936905796, 0.018150388936905796, 0.018026916903321397, 0.01790344486973701, 0.01790344486973701, 0.01790344486973701, 0.01777997283615261, 0.01777997283615261, 0.01777997283615261, 0.01777997283615261, 0.017656500802568222, 0.017656500802568222, 0.017533028768983827, 0.017533028768983827, 0.017533028768983827, 0.017533028768983827, 0.017409556735399435, 0.01728608470181504, 0.01728608470181504, 0.01728608470181504, 0.01728608470181504, 0.01728608470181504, 0.01716261266823065, 0.017039140634646253, 0.016915668601061862, 0.016915668601061862, 0.016915668601061862, 0.016915668601061862, 0.016915668601061862, 0.016915668601061862, 0.016792196567477467, 0.016792196567477467, 0.01654525250030868, 0.016421780466724288, 0.016421780466724288, 0.016298308433139893, 0.016298308433139893, 0.016298308433139893, 0.016298308433139893, 0.016298308433139893, 0.016051364365971106, 0.015927892332386714, 0.015927892332386714, 0.01580442029880232, 0.01580442029880232, 0.01568094826521793, 0.01568094826521793, 0.01568094826521793, 0.01568094826521793, 0.015434004198049142, 0.015434004198049142, 0.015434004198049142, 0.015434004198049142, 0.015310532164464753, 0.015310532164464753, 0.015310532164464753, 0.015310532164464753, 0.015310532164464753, 0.015187060130880356, 0.015063588097295966, 0.015063588097295966, 0.015063588097295966, 0.01494011606371157, 0.01494011606371157, 0.01494011606371157, 0.014816644030127179, 0.014693171996542784, 0.014693171996542784, 0.014693171996542784, 0.014693171996542784, 0.014693171996542784, 0.014569699962958392, 0.014446227929373997, 0.014322755895789607, 0.014322755895789607, 0.01419928386220521, 0.01419928386220521, 0.01419928386220521, 0.01419928386220521, 0.01419928386220521, 0.01407581182862082, 0.01407581182862082, 0.01407581182862082, 0.013952339795036423, 0.013952339795036423, 0.013952339795036423, 0.013828867761452033, 0.013705395727867638, 0.013705395727867638, 0.013705395727867638, 0.013581923694283246, 0.013581923694283246, 0.013581923694283246, 0.013581923694283246, 0.013581923694283246, 0.013581923694283246, 0.013458451660698851, 0.01333497962711446, 0.01333497962711446, 0.01333497962711446, 0.01333497962711446, 0.013211507593530064, 0.013211507593530064, 0.013088035559945674, 0.013088035559945674, 0.013088035559945674, 0.012964563526361278, 0.012964563526361278, 0.012964563526361278, 0.012841091492776888, 0.012841091492776888, 0.012841091492776888, 0.012841091492776888, 0.012841091492776888, 0.012841091492776888, 0.012841091492776888, 0.012841091492776888, 0.012841091492776888, 0.012841091492776888, 0.01271761945919249, 0.01271761945919249, 0.01271761945919249, 0.01271761945919249, 0.0125941474256081, 0.0125941474256081, 0.0125941474256081, 0.012470675392023704, 0.012347203358439314, 0.012223731324854924, 0.012100259291270527, 0.012100259291270527, 0.011976787257686137, 0.011853315224101742, 0.01172984319051735, 0.01172984319051735, 0.01172984319051735, 0.01172984319051735, 0.011606371156932955, 0.011606371156932955, 0.011606371156932955, 0.011606371156932955, 0.011482899123348564, 0.011482899123348564, 0.011482899123348564, 0.011482899123348564, 0.011482899123348564, 0.011359427089764168, 0.011359427089764168, 0.011359427089764168, 0.011359427089764168, 0.011235955056179778, 0.011112483022595382, 0.011112483022595382, 0.011112483022595382, 0.011112483022595382, 0.011112483022595382, 0.011112483022595382, 0.010989010989010992, 0.010865538955426595, 0.010865538955426595, 0.010865538955426595, 0.010865538955426595, 0.010742066921842205, 0.010742066921842205, 0.010742066921842205, 0.010742066921842205, 0.010742066921842205, 0.010618594888257808, 0.010618594888257808, 0.010495122854673418, 0.010495122854673418, 0.010371650821089023, 0.010371650821089023, 0.010371650821089023, 0.010248178787504631, 0.010248178787504631, 0.010248178787504631, 0.010248178787504631, 0.010248178787504631, 0.010124706753920236, 0.010124706753920236, 0.010124706753920236, 0.010124706753920236, 0.010001234720335846, 0.010001234720335846, 0.010001234720335846, 0.00975429065316706, 0.00975429065316706, 0.00975429065316706, 0.009630818619582662, 0.009507346585998272, 0.009507346585998272, 0.009507346585998272, 0.009507346585998272, 0.009383874552413875, 0.009260402518829485, 0.009260402518829485, 0.009260402518829485, 0.009136930485245096, 0.009136930485245096, 0.009136930485245096, 0.009136930485245096, 0.009013458451660699, 0.009013458451660699, 0.009013458451660699, 0.009013458451660699, 0.009013458451660699, 0.008889986418076309, 0.008889986418076309, 0.008766514384491914, 0.008643042350907522, 0.008643042350907522, 0.008643042350907522, 0.008519570317323127, 0.008519570317323127, 0.008519570317323127, 0.008396098283738735, 0.008396098283738735, 0.00827262625015434, 0.00827262625015434, 0.00827262625015434, 0.00827262625015434, 0.00814915421656995, 0.00814915421656995, 0.00814915421656995, 0.00814915421656995, 0.00814915421656995, 0.008025682182985553, 0.008025682182985553, 0.008025682182985553, 0.008025682182985553, 0.007902210149401163, 0.007902210149401163, 0.007902210149401163, 0.007902210149401163, 0.007902210149401163, 0.007902210149401163, 0.007902210149401163, 0.007778738115816767, 0.007778738115816767, 0.007778738115816767, 0.007778738115816767, 0.007778738115816767, 0.007778738115816767, 0.007778738115816767, 0.007778738115816767, 0.007655266082232376, 0.007655266082232376, 0.007655266082232376, 0.007655266082232376, 0.007655266082232376, 0.00753179404864798, 0.00753179404864798, 0.0074083220150635894, 0.0074083220150635894, 0.0074083220150635894, 0.0074083220150635894, 0.007284849981479193, 0.007284849981479193, 0.007284849981479193, 0.007284849981479193, 0.0071613779478948035, 0.0070379059143104074, 0.0070379059143104074, 0.0070379059143104074, 0.0070379059143104074, 0.0070379059143104074, 0.006914433880726017, 0.006914433880726017, 0.006914433880726017, 0.006914433880726017, 0.006914433880726017, 0.006790961847141621, 0.006790961847141621, 0.006790961847141621, 0.00666748981355723, 0.00666748981355723, 0.00666748981355723, 0.006544017779972834, 0.006544017779972834, 0.006544017779972834, 0.006544017779972834, 0.006544017779972834, 0.006544017779972834, 0.006544017779972834, 0.006544017779972834, 0.006544017779972834, 0.006420545746388444, 0.006420545746388444, 0.006420545746388444, 0.006420545746388444, 0.006297073712804048, 0.006297073712804048, 0.006297073712804048, 0.006297073712804048, 0.006173601679219657, 0.006173601679219657, 0.006173601679219657, 0.006173601679219657, 0.006173601679219657, 0.006173601679219657, 0.006173601679219657, 0.006050129645635267, 0.005926657612050871, 0.005926657612050871, 0.005926657612050871, 0.005926657612050871, 0.00580318557846648, 0.00580318557846648, 0.00580318557846648, 0.00580318557846648, 0.00580318557846648, 0.005679713544882084, 0.005679713544882084, 0.005679713544882084, 0.005556241511297693, 0.005556241511297693, 0.005556241511297693, 0.005556241511297693, 0.005556241511297693, 0.005556241511297693, 0.005556241511297693, 0.005432769477713297, 0.005432769477713297, 0.005432769477713297, 0.005432769477713297, 0.005432769477713297, 0.005432769477713297, 0.005309297444128907, 0.005309297444128907, 0.005309297444128907, 0.005309297444128907, 0.005309297444128907, 0.005185825410544511, 0.005185825410544511, 0.005185825410544511, 0.005185825410544511, 0.005062353376960121, 0.005062353376960121, 0.0049388813433757246, 0.0049388813433757246, 0.0049388813433757246, 0.0049388813433757246, 0.004815409309791334, 0.004815409309791334, 0.004815409309791334, 0.004815409309791334, 0.004815409309791334, 0.004691937276206938, 0.004691937276206938, 0.004691937276206938, 0.004691937276206938, 0.004568465242622548, 0.004568465242622548, 0.004568465242622548, 0.004568465242622548, 0.004568465242622548, 0.004444993209038152, 0.004444993209038152, 0.004444993209038152, 0.004444993209038152, 0.004444993209038152, 0.004444993209038152, 0.004444993209038152, 0.004444993209038152, 0.004444993209038152, 0.004321521175453761, 0.004321521175453761, 0.004321521175453761, 0.004321521175453761, 0.004321521175453761, 0.004198049141869365, 0.004198049141869365, 0.004198049141869365, 0.004198049141869365, 0.004198049141869365, 0.004198049141869365, 0.004198049141869365, 0.004198049141869365, 0.004198049141869365, 0.004074577108284975, 0.004074577108284975, 0.004074577108284975, 0.004074577108284975, 0.004074577108284975, 0.004074577108284975, 0.004074577108284975, 0.004074577108284975, 0.004074577108284975, 0.003951105074700579, 0.003951105074700579, 0.003951105074700579, 0.003951105074700579, 0.003951105074700579, 0.003827633041116188, 0.003827633041116188, 0.003827633041116188, 0.003827633041116188, 0.003827633041116188, 0.003827633041116188, 0.003827633041116188, 0.003827633041116188, 0.003704161007531792, 0.003704161007531792, 0.003704161007531792, 0.003704161007531792, 0.003704161007531792, 0.003704161007531792, 0.003704161007531792, 0.003704161007531792, 0.0035806889739474017, 0.0035806889739474017, 0.0035806889739474017, 0.0035806889739474017, 0.0035806889739474017, 0.0035806889739474017, 0.0035806889739474017, 0.0034572169403630057, 0.0034572169403630057, 0.0034572169403630057, 0.0034572169403630057, 0.003333744906778615, 0.003333744906778615, 0.003333744906778615, 0.003333744906778615, 0.003210272873194219, 0.0030868008396098285, 0.0030868008396098285, 0.0030868008396098285, 0.0030868008396098285, 0.0030868008396098285, 0.0029633288060254355, 0.0029633288060254355, 0.0029633288060254355, 0.002839856772441042, 0.002839856772441042, 0.002839856772441042, 0.002839856772441042, 0.0027163847388566487, 0.0027163847388566487, 0.0027163847388566487, 0.0027163847388566487, 0.0027163847388566487, 0.0027163847388566487, 0.0027163847388566487, 0.0025929127052722557, 0.0025929127052722557, 0.0025929127052722557, 0.0025929127052722557, 0.0025929127052722557, 0.0025929127052722557, 0.0024694406716878623, 0.0024694406716878623, 0.0024694406716878623, 0.0024694406716878623, 0.0024694406716878623, 0.002345968638103469, 0.002345968638103469, 0.002345968638103469, 0.002345968638103469, 0.002345968638103469, 0.002345968638103469, 0.002345968638103469, 0.002345968638103469, 0.002222496604519076, 0.002222496604519076, 0.002222496604519076, 0.002222496604519076, 0.002222496604519076, 0.002222496604519076, 0.002222496604519076, 0.002222496604519076, 0.002222496604519076, 0.0020990245709346825, 0.0020990245709346825, 0.0020990245709346825, 0.0020990245709346825, 0.0020990245709346825, 0.0020990245709346825, 0.0020990245709346825, 0.0020990245709346825, 0.0020990245709346825, 0.0019755525373502895, 0.0019755525373502895, 0.0019755525373502895, 0.0019755525373502895, 0.0019755525373502895, 0.001852080503765896, 0.001852080503765896, 0.0017286084701815029, 0.0017286084701815029, 0.0017286084701815029, 0.0016051364365971094, 0.0016051364365971094, 0.0016051364365971094, 0.0016051364365971094, 0.0016051364365971094, 0.0016051364365971094, 0.001481664403012719, 0.001481664403012719, 0.001481664403012719, 0.001481664403012719, 0.001481664403012719, 0.0013581923694283259, 0.0013581923694283259, 0.0013581923694283259, 0.0013581923694283259, 0.0013581923694283259, 0.0013581923694283259, 0.0013581923694283259, 0.0013581923694283259, 0.0013581923694283259, 0.0013581923694283259, 0.0013581923694283259, 0.0012347203358439324, 0.0012347203358439324, 0.0012347203358439324, 0.0012347203358439324, 0.0012347203358439324, 0.0012347203358439324, 0.0011112483022595392, 0.0011112483022595392, 0.0011112483022595392, 0.000987776268675146, 0.000987776268675146, 0.000987776268675146, 0.000987776268675146, 0.000987776268675146, 0.000987776268675146, 0.000987776268675146, 0.000987776268675146, 0.0008643042350907527, 0.0008643042350907527, 0.0008643042350907527, 0.0008643042350907527, 0.0008643042350907527, 0.0007408322015063595, 0.0007408322015063595, 0.0007408322015063595, 0.0007408322015063595, 0.0007408322015063595, 0.0007408322015063595, 0.0006173601679219662, 0.0006173601679219662, 0.0006173601679219662, 0.0006173601679219662, 0.0006173601679219662, 0.000493888134337573, 0.000493888134337573, 0.000493888134337573, 0.00037041610075317976, 0.00037041610075317976, 0.00037041610075317976, 0.00037041610075317976, 0.00037041610075317976, 0.00037041610075317976, 0.00037041610075317976, 0.00037041610075317976, 0.0002469440671687865, 0.0002469440671687865, 0.0002469440671687865, 0.0002469440671687865, 0.0002469440671687865, 0.0002469440671687865, 0.0002469440671687865, 0.0002469440671687865, 0.0002469440671687865, 0.00012347203358439325, 0.00012347203358439325, 0.00012347203358439325, 0.00012347203358439325, 0.00012347203358439325, 0.00012347203358439325, 0.00012347203358439325, 0.00012347203358439325, 0.00012347203358439325, 0.00012347203358439325, 0.00012347203358439325, 0.00012347203358439325, 0.00012347203358439325, 0.00012347203358439325, 0.00012347203358439325, 0.00012347203358439325, 0.0, 0.0], \"colorbar\": {\"title\": {\"text\": \"Global Sales\"}}, \"colorscale\": [[0.0, \"rgb(150,0,90)\"], [0.125, \"rgb(0,0,200)\"], [0.25, \"rgb(0,25,255)\"], [0.375, \"rgb(0,152,255)\"], [0.5, \"rgb(44,255,150)\"], [0.625, \"rgb(151,255,0)\"], [0.75, \"rgb(255,234,0)\"], [0.875, \"rgb(255,111,0)\"], [1.0, \"rgb(255,0,0)\"]], \"line\": {\"color\": \"rgb(140, 140, 170)\"}, \"size\": [41.49, 29.08, 15.85, 15.75, 11.27, 23.2, 11.38, 14.03, 14.59, 26.93, 9.07, 9.81, 9.0, 8.94, 9.09, 14.97, 7.01, 9.43, 12.78, 4.75, 6.42, 10.83, 9.54, 9.63, 8.41, 6.06, 5.57, 3.44, 6.85, 9.03, 5.89, 9.67, 5.17, 5.77, 4.99, 8.25, 8.52, 5.54, 6.99, 6.75, 5.98, 2.55, 4.74, 7.97, 3.8, 4.4, 6.91, 3.01, 6.16, 4.23, 6.16, 6.76, 4.02, 4.89, 2.96, 4.99, 4.76, 5.99, 4.34, 5.08, 6.05, 6.72, 7.03, 5.55, 3.66, 6.63, 3.01, 4.09, 5.84, 3.88, 5.91, 4.36, 5.58, 2.01, 4.46, 5.03, 3.54, 1.11, 1.79, 6.82, 3.81, 2.91, 1.06, 0.98, 5.8, 2.58, 2.91, 2.28, 2.82, 7.28, 2.9, 3.66, 2.93, 2.8, 4.1, 3.78, 5.39, 3.24, 4.79, 4.46, 3.83, 4.52, 3.51, 2.85, 3.27, 3.27, 3.68, 4.41, 3.13, 2.47, 4.12, 4.14, 0.78, 2.71, 2.93, 2.77, 3.23, 3.5, 4.15, 3.27, 3.1, 0.84, 1.67, 2.79, 0.79, 3.25, 2.55, 3.74, 2.64, 4.98, 2.57, 3.64, 2.55, 4.34, 3.7, 4.01, 2.47, 0.07, 3.11, 3.92, 4.05, 3.54, 2.45, 4.47, 2.63, 3.18, 2.41, 1.88, 2.8, 0.66, 3.66, 1.88, 2.26, 3.13, 2.49, 2.97, 2.54, 2.95, 3.28, 2.7, 2.99, 0.47, 3.14, 2.62, 3.21, 3.18, 2.72, 2.07, 1.97, 1.74, 2.18, 3.02, 3.13, 1.62, 1.92, 3.33, 3.1, 1.22, 2.3, 4.26, 0.65, 2.43, 2.93, 2.32, 2.49, 1.08, 1.9, 2.1, 0.96, 1.64, 1.98, 2.71, 3.59, 3.21, 3.22, 3.81, 1.96, 2.66, 1.7, 0.6, 3.4, 2.05, 3.42, 2.59, 2.79, 3.36, 3.06, 3.49, 3.39, 1.85, 2.31, 3.98, 2.89, 2.91, 0.0, 2.62, 2.74, 2.56, 1.91, 0.57, 2.57, 2.99, 2.36, 1.73, 3.05, 1.87, 1.94, 2.08, 2.29, 3.06, 2.42, 2.6, 1.89, 1.78, 1.55, 1.78, 3.19, 4.18, 4.21, 3.63, 2.71, 0.2, 1.96, 1.54, 2.71, 2.55, 2.67, 2.66, 0.1, 2.82, 2.19, 2.03, 1.73, 3.03, 2.2, 0.92, 2.75, 4.0, 2.51, 2.64, 2.11, 2.23, 1.41, 3.0, 1.46, 2.45, 1.7, 2.03, 0.78, 0.88, 1.28, 2.25, 2.02, 0.84, 3.38, 2.04, 3.79, 3.36, 1.4, 4.03, 1.65, 0.71, 2.14, 1.42, 2.13, 2.45, 2.57, 2.65, 2.32, 2.35, 0.12, 2.28, 1.68, 1.12, 2.78, 1.38, 1.22, 2.15, 0.92, 2.67, 2.08, 2.1, 1.18, 1.97, 2.29, 1.33, 0.67, 1.53, 1.15, 0.93, 0.1, 2.12, 2.48, 0.16, 0.87, 2.12, 2.21, 2.26, 1.06, 1.44, 1.49, 1.14, 2.4, 1.82, 1.4, 1.98, 2.03, 1.98, 1.37, 0.96, 1.3, 1.93, 0.58, 1.49, 1.3, 1.59, 0.0, 2.13, 1.65, 1.87, 2.53, 2.33, 0.71, 2.08, 2.23, 0.6, 0.05, 1.78, 2.08, 1.93, 2.05, 2.02, 1.61, 2.38, 2.18, 2.01, 1.57, 1.56, 1.23, 1.66, 1.9, 1.98, 2.14, 0.71, 1.96, 2.14, 2.66, 1.22, 2.11, 1.17, 2.84, 1.64, 2.2, 0.59, 0.59, 1.94, 2.09, 2.11, 2.26, 0.88, 0.0, 2.39, 1.55, 1.34, 1.82, 1.13, 0.86, 1.75, 1.73, 0.46, 1.56, 2.03, 1.08, 1.43, 2.47, 1.9, 0.65, 1.63, 1.9, 0.0, 1.45, 1.44, 1.15, 1.47, 1.99, 1.5, 0.8, 2.13, 1.89, 1.36, 0.5, 0.25, 0.95, 0.88, 1.27, 2.33, 0.03, 1.72, 0.73, 2.26, 1.76, 1.35, 1.48, 0.0, 2.15, 1.78, 1.18, 1.52, 1.86, 0.58, 2.06, 1.88, 1.92, 1.79, 1.22, 0.88, 1.89, 0.68, 1.7, 2.14, 2.31, 0.91, 1.69, 0.08, 1.29, 1.99, 0.78, 2.17, 2.5, 1.92, 1.89, 1.4, 1.57, 1.72, 1.94, 1.91, 1.38, 2.06, 1.94, 1.54, 1.4, 1.85, 2.03, 1.45, 2.38, 2.6, 1.15, 1.57, 1.01, 1.61, 1.67, 0.12, 1.36, 0.47, 1.33, 0.96, 1.58, 1.04, 1.57, 1.36, 1.82, 1.98, 2.22, 1.45, 1.76, 2.07, 1.83, 0.87, 1.43, 1.75, 0.61, 1.84, 1.54, 1.75, 0.08, 0.71, 0.99, 1.51, 1.54, 2.03, 1.3, 0.09, 1.87, 2.53, 2.09, 1.98, 1.37, 1.29, 1.37, 1.4, 0.4, 1.87, 1.65, 2.52, 1.28, 1.32, 1.96, 1.59, 0.02, 1.05, 1.32, 1.32, 1.74, 1.47, 0.29, 1.45, 1.96, 1.19, 0.0, 1.98, 0.89, 2.19, 0.3, 0.46, 1.68, 1.27, 1.44, 1.2, 1.41, 1.24, 1.25, 2.56, 1.43, 1.07, 1.02, 1.33, 1.52, 1.49, 1.75, 0.99, 1.47, 1.25, 2.42, 1.85, 2.38, 1.63, 1.46, 1.23, 0.0, 0.69, 0.78, 1.95, 1.48, 1.78, 1.44, 1.99, 1.59, 1.15, 1.56, 0.86, 0.0, 2.0, 1.53, 2.0, 0.76, 1.53, 1.7, 2.15, 1.07, 1.55, 0.59, 2.31, 0.63, 0.9, 1.02, 1.86, 0.48, 0.93, 2.03, 0.64, 0.89, 1.04, 0.37, 1.4, 1.31, 0.28, 1.76, 2.14, 1.7, 0.15, 2.11, 1.21, 1.13, 2.21, 2.36, 1.13, 1.55, 1.5, 0.49, 0.6, 2.29, 0.13, 1.28, 0.86, 1.84, 1.29, 1.81, 1.15, 1.38, 1.15, 1.72, 1.93, 2.1, 1.13, 1.67, 1.55, 0.0, 0.93, 2.12, 1.44, 0.87, 1.07, 1.52, 1.56, 1.26, 1.27, 0.29, 1.63, 2.07, 0.81, 1.43, 0.69, 2.07, 2.1, 0.77, 2.3, 2.15, 0.49, 1.74, 1.54, 1.49, 1.07, 1.48, 1.67, 1.02, 1.73, 1.94, 1.0, 1.46, 2.04, 1.16, 2.18, 2.28, 0.96, 1.25, 2.03, 1.38, 0.69, 1.07, 1.39, 0.0, 1.68, 1.32, 0.92, 1.2, 1.08, 1.27, 1.14, 1.93, 1.57, 0.78, 0.79, 0.85, 0.52, 1.58, 0.28, 1.65, 1.24, 0.95, 0.95, 1.08, 0.91, 1.23, 1.38, 0.3, 1.11, 0.0, 0.51, 0.38, 1.01, 1.05, 0.07, 1.12, 1.34, 1.07, 1.22, 0.9, 1.4, 1.19, 1.34, 0.28, 0.62, 1.52, 1.48, 1.93, 0.67, 0.51, 1.19, 1.29, 1.74, 1.42, 1.09, 1.27, 0.88, 1.71, 1.0, 1.03, 1.45, 1.47, 1.06, 1.78, 2.06, 2.01, 1.11, 0.15, 1.28, 1.06, 0.34, 1.17, 1.68, 0.87, 1.04, 0.59, 0.0, 1.92, 1.21, 1.97, 1.29, 1.48, 1.27, 1.6, 0.48, 1.23, 1.51, 1.5, 0.54, 0.14, 0.6, 0.52, 0.66, 0.01, 1.47, 1.2, 1.99, 1.04, 0.64, 0.82, 0.93, 0.91, 1.47, 1.37, 0.83, 1.61, 1.2, 1.68, 0.11, 1.68, 0.9, 1.35, 0.63, 1.63, 0.94, 1.17, 1.54, 1.77, 1.41, 0.99, 0.0, 1.16, 1.26, 1.84, 1.97, 0.92, 0.7, 0.46, 1.77, 1.11, 0.63, 1.36, 0.97, 0.59, 2.04, 0.89, 0.79, 1.54, 0.63, 1.48, 0.75, 1.64, 1.04, 0.73, 1.2, 0.71, 1.15, 0.68, 1.06, 0.89, 0.73, 1.23, 1.43, 1.16, 1.47, 0.71, 1.75, 0.48, 1.11, 1.45, 0.73, 1.74, 0.71, 1.2, 0.58, 1.53, 1.25, 1.47, 1.57, 1.05, 1.81, 1.76, 0.82, 0.49, 0.77, 0.89, 0.35, 0.52, 1.48, 0.95, 0.75, 1.21, 0.75, 0.93, 1.25, 1.11, 0.72, 0.99, 0.74, 1.2, 0.71, 1.01, 1.84, 1.22, 0.5, 1.13, 0.18, 0.79, 1.09, 1.3, 0.74, 1.26, 1.09, 1.69, 0.95, 0.49, 1.94, 0.59, 0.96, 1.09, 1.41, 1.42, 1.0, 1.15, 1.1, 1.48, 0.34, 1.06, 1.53, 0.56, 1.51, 0.86, 0.92, 0.73, 0.87, 0.76, 1.03, 0.94, 0.26, 1.06, 0.72, 1.14, 1.3, 0.77, 1.08, 1.03, 0.59, 0.73, 1.56, 0.21, 1.05, 1.37, 0.92, 0.25, 0.89, 1.42, 0.47, 0.96, 0.22, 0.53, 0.73, 0.87, 1.75, 1.12, 0.94, 1.37, 0.0, 0.64, 0.91, 1.34, 0.62, 0.85, 0.61, 1.33, 0.83, 1.26, 0.8, 1.05, 0.0, 0.97, 1.53, 0.83, 1.31, 0.84, 1.33, 0.46, 0.25, 1.09, 0.92, 0.61, 1.24, 1.73, 1.81, 0.91, 0.22, 0.55, 1.05, 1.1, 0.78, 0.88, 1.0, 0.93, 1.66, 1.41, 1.0, 0.49, 1.26, 0.52, 1.05, 1.25, 0.23, 1.12, 0.39, 0.32, 0.45, 0.41, 0.93, 0.85, 1.16, 0.31, 1.59, 0.24, 0.63, 1.19, 1.07, 0.85, 1.27, 1.06, 0.93, 1.02, 0.53, 0.86, 1.23, 0.86, 0.72, 0.68, 1.26, 1.11, 0.52, 0.35, 0.61, 1.68, 0.9]}, \"mode\": \"markers\", \"text\": [\"Name:Wii Sports, Rank:1 Global Sales: 82.74 millions\", \"Name:Super Mario Bros., Rank:2 Global Sales: 40.24 millions\", \"Name:Mario Kart Wii, Rank:3 Global Sales: 35.82 millions\", \"Name:Wii Sports Resort, Rank:4 Global Sales: 33.0 millions\", \"Name:Pokemon Red/Pokemon Blue, Rank:5 Global Sales: 31.37 millions\", \"Name:Tetris, Rank:6 Global Sales: 30.26 millions\", \"Name:New Super Mario Bros., Rank:7 Global Sales: 30.01 millions\", \"Name:Wii Play, Rank:8 Global Sales: 29.02 millions\", \"Name:New Super Mario Bros. Wii, Rank:9 Global Sales: 28.62 millions\", \"Name:Duck Hunt, Rank:10 Global Sales: 28.31 millions\", \"Name:Nintendogs, Rank:11 Global Sales: 24.76 millions\", \"Name:Mario Kart DS, Rank:12 Global Sales: 23.42 millions\", \"Name:Pokemon Gold/Pokemon Silver, Rank:13 Global Sales: 23.1 millions\", \"Name:Wii Fit, Rank:14 Global Sales: 22.72 millions\", \"Name:Wii Fit Plus, Rank:15 Global Sales: 22.0 millions\", \"Name:Kinect Adventures!, Rank:16 Global Sales: 21.82 millions\", \"Name:Grand Theft Auto V, Rank:17 Global Sales: 21.4 millions\", \"Name:Grand Theft Auto: San Andreas, Rank:18 Global Sales: 20.81 millions\", \"Name:Super Mario World, Rank:19 Global Sales: 20.61 millions\", \"Name:Brain Age: Train Your Brain in Minutes a Day, Rank:20 Global Sales: 20.22 millions\", \"Name:Pokemon Diamond/Pokemon Pearl, Rank:21 Global Sales: 18.36 millions\", \"Name:Super Mario Land, Rank:22 Global Sales: 18.14 millions\", \"Name:Super Mario Bros. 3, Rank:23 Global Sales: 17.28 millions\", \"Name:Grand Theft Auto V, Rank:24 Global Sales: 16.38 millions\", \"Name:Grand Theft Auto: Vice City, Rank:25 Global Sales: 16.15 millions\", \"Name:Pokemon Ruby/Pokemon Sapphire, Rank:26 Global Sales: 15.85 millions\", \"Name:Pokemon Black/Pokemon White, Rank:27 Global Sales: 15.32 millions\", \"Name:Brain Age 2: More Training in Minutes a Day, Rank:28 Global Sales: 15.3 millions\", \"Name:Gran Turismo 3: A-Spec, Rank:29 Global Sales: 14.98 millions\", \"Name:Call of Duty: Modern Warfare 3, Rank:30 Global Sales: 14.76 millions\", \"Name:Pok\\u00e9mon Yellow: Special Pikachu Edition, Rank:31 Global Sales: 14.64 millions\", \"Name:Call of Duty: Black Ops, Rank:32 Global Sales: 14.64 millions\", \"Name:Pokemon X/Pokemon Y, Rank:33 Global Sales: 14.35 millions\", \"Name:Call of Duty: Black Ops 3, Rank:34 Global Sales: 14.24 millions\", \"Name:Call of Duty: Black Ops II, Rank:35 Global Sales: 14.03 millions\", \"Name:Call of Duty: Black Ops II, Rank:36 Global Sales: 13.73 millions\", \"Name:Call of Duty: Modern Warfare 2, Rank:37 Global Sales: 13.51 millions\", \"Name:Call of Duty: Modern Warfare 3, Rank:38 Global Sales: 13.46 millions\", \"Name:Grand Theft Auto III, Rank:39 Global Sales: 13.1 millions\", \"Name:Super Smash Bros. Brawl, Rank:40 Global Sales: 13.04 millions\", \"Name:Call of Duty: Black Ops, Rank:41 Global Sales: 12.73 millions\", \"Name:Animal Crossing: Wild World, Rank:42 Global Sales: 12.27 millions\", \"Name:Mario Kart 7, Rank:43 Global Sales: 12.21 millions\", \"Name:Halo 3, Rank:44 Global Sales: 12.14 millions\", \"Name:Grand Theft Auto V, Rank:45 Global Sales: 11.98 millions\", \"Name:Pokemon HeartGold/Pokemon SoulSilver, Rank:46 Global Sales: 11.9 millions\", \"Name:Super Mario 64, Rank:47 Global Sales: 11.89 millions\", \"Name:Gran Turismo 4, Rank:48 Global Sales: 11.66 millions\", \"Name:Super Mario Galaxy, Rank:49 Global Sales: 11.52 millions\", \"Name:Pokemon Omega Ruby/Pokemon Alpha Sapphire, Rank:50 Global Sales: 11.33 millions\", \"Name:Super Mario Land 2: 6 Golden Coins, Rank:51 Global Sales: 11.18 millions\", \"Name:Grand Theft Auto IV, Rank:52 Global Sales: 11.02 millions\", \"Name:Gran Turismo, Rank:53 Global Sales: 10.95 millions\", \"Name:Super Mario 3D Land, Rank:54 Global Sales: 10.79 millions\", \"Name:Gran Turismo 5, Rank:55 Global Sales: 10.77 millions\", \"Name:Call of Duty: Modern Warfare 2, Rank:56 Global Sales: 10.69 millions\", \"Name:Grand Theft Auto IV, Rank:57 Global Sales: 10.57 millions\", \"Name:Super Mario All-Stars, Rank:58 Global Sales: 10.55 millions\", \"Name:Pokemon FireRed/Pokemon LeafGreen, Rank:59 Global Sales: 10.49 millions\", \"Name:Super Mario 64, Rank:60 Global Sales: 10.42 millions\", \"Name:Just Dance 3, Rank:61 Global Sales: 10.26 millions\", \"Name:Call of Duty: Ghosts, Rank:62 Global Sales: 10.21 millions\", \"Name:Halo: Reach, Rank:63 Global Sales: 9.88 millions\", \"Name:Mario Kart 64, Rank:64 Global Sales: 9.87 millions\", \"Name:New Super Mario Bros. 2, Rank:65 Global Sales: 9.82 millions\", \"Name:Halo 4, Rank:66 Global Sales: 9.76 millions\", \"Name:Final Fantasy VII, Rank:67 Global Sales: 9.72 millions\", \"Name:Call of Duty: Ghosts, Rank:68 Global Sales: 9.59 millions\", \"Name:Just Dance 2, Rank:69 Global Sales: 9.52 millions\", \"Name:Gran Turismo 2, Rank:70 Global Sales: 9.49 millions\", \"Name:Call of Duty 4: Modern Warfare, Rank:71 Global Sales: 9.32 millions\", \"Name:Donkey Kong Country, Rank:72 Global Sales: 9.3 millions\", \"Name:Minecraft, Rank:73 Global Sales: 9.2 millions\", \"Name:Animal Crossing: New Leaf, Rank:74 Global Sales: 9.09 millions\", \"Name:Mario Party DS, Rank:75 Global Sales: 9.02 millions\", \"Name:The Elder Scrolls V: Skyrim, Rank:76 Global Sales: 8.84 millions\", \"Name:Super Mario Kart, Rank:77 Global Sales: 8.76 millions\", \"Name:FIFA 16, Rank:78 Global Sales: 8.49 millions\", \"Name:Wii Party, Rank:79 Global Sales: 8.49 millions\", \"Name:Halo 2, Rank:80 Global Sales: 8.49 millions\", \"Name:Mario Party 8, Rank:81 Global Sales: 8.42 millions\", \"Name:Pokemon Black 2/Pokemon White 2, Rank:82 Global Sales: 8.33 millions\", \"Name:FIFA Soccer 13, Rank:83 Global Sales: 8.24 millions\", \"Name:The Sims 3, Rank:84 Global Sales: 8.11 millions\", \"Name:GoldenEye 007, Rank:85 Global Sales: 8.09 millions\", \"Name:Mario & Sonic at the Olympic Games, Rank:86 Global Sales: 8.06 millions\", \"Name:Final Fantasy X, Rank:87 Global Sales: 8.05 millions\", \"Name:Final Fantasy VIII, Rank:88 Global Sales: 7.86 millions\", \"Name:Pok\\u00e9mon Platinum Version, Rank:89 Global Sales: 7.84 millions\", \"Name:Pac-Man, Rank:90 Global Sales: 7.81 millions\", \"Name:Grand Theft Auto: Liberty City Stories, Rank:91 Global Sales: 7.72 millions\", \"Name:Super Mario Galaxy 2, Rank:92 Global Sales: 7.69 millions\", \"Name:Star Wars Battlefront (2015), Rank:93 Global Sales: 7.67 millions\", \"Name:Call of Duty: Advanced Warfare, Rank:94 Global Sales: 7.6 millions\", \"Name:The Legend of Zelda: Ocarina of Time, Rank:95 Global Sales: 7.6 millions\", \"Name:Crash Bandicoot 2: Cortex Strikes Back, Rank:96 Global Sales: 7.58 millions\", \"Name:Super Mario Bros. 2, Rank:97 Global Sales: 7.46 millions\", \"Name:Super Smash Bros. for Wii U and 3DS, Rank:98 Global Sales: 7.45 millions\", \"Name:Call of Duty: World at War, Rank:99 Global Sales: 7.37 millions\", \"Name:Battlefield 3, Rank:100 Global Sales: 7.34 millions\", \"Name:The Legend of Zelda: Twilight Princess, Rank:101 Global Sales: 7.31 millions\", \"Name:Call of Duty: Black Ops 3, Rank:102 Global Sales: 7.3 millions\", \"Name:Just Dance, Rank:103 Global Sales: 7.27 millions\", \"Name:Battlefield 3, Rank:104 Global Sales: 7.23 millions\", \"Name:Need for Speed Underground, Rank:105 Global Sales: 7.2 millions\", \"Name:Tekken 3, Rank:106 Global Sales: 7.16 millions\", \"Name:Crash Bandicoot 3: Warped, Rank:107 Global Sales: 7.13 millions\", \"Name:Super Smash Bros. Melee, Rank:108 Global Sales: 7.07 millions\", \"Name:Mario Kart 8, Rank:109 Global Sales: 6.96 millions\", \"Name:Fallout 4, Rank:110 Global Sales: 6.96 millions\", \"Name:Mario Kart: Double Dash!!, Rank:111 Global Sales: 6.95 millions\", \"Name:Just Dance 4, Rank:112 Global Sales: 6.91 millions\", \"Name:FIFA 14, Rank:113 Global Sales: 6.9 millions\", \"Name:Need for Speed Underground 2, Rank:114 Global Sales: 6.9 millions\", \"Name:Medal of Honor: Frontline, Rank:115 Global Sales: 6.83 millions\", \"Name:Uncharted 3: Drake's Deception, Rank:116 Global Sales: 6.83 millions\", \"Name:Crash Bandicoot, Rank:117 Global Sales: 6.82 millions\", \"Name:Zumba Fitness, Rank:118 Global Sales: 6.81 millions\", \"Name:Gears of War 2, Rank:119 Global Sales: 6.76 millions\", \"Name:Uncharted 2: Among Thieves, Rank:120 Global Sales: 6.73 millions\", \"Name:Call of Duty 4: Modern Warfare, Rank:121 Global Sales: 6.72 millions\", \"Name:FIFA 12, Rank:122 Global Sales: 6.69 millions\", \"Name:Big Brain Academy, Rank:123 Global Sales: 6.67 millions\", \"Name:Red Dead Redemption, Rank:124 Global Sales: 6.6 millions\", \"Name:FIFA 15, Rank:125 Global Sales: 6.59 millions\", \"Name:Donkey Kong Country Returns, Rank:126 Global Sales: 6.59 millions\", \"Name:The Elder Scrolls V: Skyrim, Rank:127 Global Sales: 6.56 millions\", \"Name:The Legend of Zelda, Rank:128 Global Sales: 6.51 millions\", \"Name:Assassin's Creed III, Rank:129 Global Sales: 6.5 millions\", \"Name:Halo: Combat Evolved, Rank:130 Global Sales: 6.43 millions\", \"Name:Pok\\u00e9mon Emerald Version, Rank:131 Global Sales: 6.41 millions\", \"Name:Kingdom Hearts, Rank:132 Global Sales: 6.4 millions\", \"Name:Pok\\u00e9mon Crystal Version, Rank:133 Global Sales: 6.39 millions\", \"Name:Halo 3: ODST, Rank:134 Global Sales: 6.36 millions\", \"Name:Red Dead Redemption, Rank:135 Global Sales: 6.34 millions\", \"Name:Super Mario Sunshine, Rank:136 Global Sales: 6.31 millions\", \"Name:Street Fighter II: The World Warrior, Rank:137 Global Sales: 6.3 millions\", \"Name:World of Warcraft, Rank:138 Global Sales: 6.28 millions\", \"Name:Driver, Rank:139 Global Sales: 6.27 millions\", \"Name:Kinect Sports, Rank:140 Global Sales: 6.24 millions\", \"Name:Gears of War 3, Rank:141 Global Sales: 6.24 millions\", \"Name:Gears of War, Rank:142 Global Sales: 6.11 millions\", \"Name:Metal Gear Solid 2: Sons of Liberty, Rank:143 Global Sales: 6.05 millions\", \"Name:Sonic the Hedgehog 2, Rank:144 Global Sales: 6.03 millions\", \"Name:Metal Gear Solid 4: Guns of the Patriots, Rank:145 Global Sales: 6.03 millions\", \"Name:Metal Gear Solid, Rank:146 Global Sales: 6.03 millions\", \"Name:The Last of Us, Rank:147 Global Sales: 5.99 millions\", \"Name:Final Fantasy XII, Rank:148 Global Sales: 5.95 millions\", \"Name:LittleBigPlanet, Rank:149 Global Sales: 5.92 millions\", \"Name:Dragon Quest IX: Sentinels of the Starry Skies, Rank:150 Global Sales: 5.84 millions\", \"Name:LEGO Star Wars: The Complete Saga, Rank:151 Global Sales: 5.83 millions\", \"Name:Resident Evil 2, Rank:152 Global Sales: 5.82 millions\", \"Name:Tekken 2, Rank:153 Global Sales: 5.74 millions\", \"Name:Cooking Mama, Rank:154 Global Sales: 5.72 millions\", \"Name:Destiny, Rank:155 Global Sales: 5.65 millions\", \"Name:Tetris, Rank:156 Global Sales: 5.58 millions\", \"Name:Assassin's Creed II, Rank:157 Global Sales: 5.57 millions\", \"Name:Super Smash Bros., Rank:158 Global Sales: 5.55 millions\", \"Name:Assassin's Creed, Rank:159 Global Sales: 5.55 millions\", \"Name:Batman: Arkham City, Rank:160 Global Sales: 5.53 millions\", \"Name:Forza Motorsport 3, Rank:161 Global Sales: 5.51 millions\", \"Name:Monster Hunter Freedom Unite, Rank:162 Global Sales: 5.5 millions\", \"Name:Super Mario Advance, Rank:163 Global Sales: 5.49 millions\", \"Name:Mario Kart: Super Circuit, Rank:164 Global Sales: 5.47 millions\", \"Name:Super Mario World, Rank:165 Global Sales: 5.46 millions\", \"Name:Pokemon Stadium, Rank:166 Global Sales: 5.45 millions\", \"Name:Call of Duty: World at War, Rank:167 Global Sales: 5.43 millions\", \"Name:Crash Bandicoot: The Wrath of Cortex, Rank:168 Global Sales: 5.42 millions\", \"Name:Minecraft, Rank:169 Global Sales: 5.42 millions\", \"Name:Final Fantasy XIII, Rank:170 Global Sales: 5.36 millions\", \"Name:Dr. Mario, Rank:171 Global Sales: 5.34 millions\", \"Name:Pokemon Pinball, Rank:172 Global Sales: 5.31 millions\", \"Name:Assassin's Creed III, Rank:173 Global Sales: 5.3 millions\", \"Name:Final Fantasy IX, Rank:174 Global Sales: 5.3 millions\", \"Name:Final Fantasy X-2, Rank:175 Global Sales: 5.29 millions\", \"Name:Donkey Kong 64, Rank:176 Global Sales: 5.27 millions\", \"Name:Assassin's Creed II, Rank:177 Global Sales: 5.27 millions\", \"Name:Professor Layton and the Curious Village, Rank:178 Global Sales: 5.26 millions\", \"Name:Tomb Raider II, Rank:179 Global Sales: 5.24 millions\", \"Name:Madden NFL 2004, Rank:180 Global Sales: 5.23 millions\", \"Name:Dragon Quest VIII: Journey of the Cursed King, Rank:181 Global Sales: 5.21 millions\", \"Name:Diablo III, Rank:182 Global Sales: 5.2 millions\", \"Name:Super Mario Bros. 3, Rank:183 Global Sales: 5.2 millions\", \"Name:New Super Mario Bros. U, Rank:184 Global Sales: 5.19 millions\", \"Name:Super Mario Land 3: Wario Land, Rank:185 Global Sales: 5.19 millions\", \"Name:FIFA Soccer 13, Rank:186 Global Sales: 5.18 millions\", \"Name:The Legend of Zelda: Phantom Hourglass, Rank:187 Global Sales: 5.17 millions\", \"Name:Donkey Kong Country 2: Diddy's Kong Quest, Rank:188 Global Sales: 5.15 millions\", \"Name:Tomodachi Life, Rank:189 Global Sales: 5.15 millions\", \"Name:Mario & Sonic at the Olympic Games, Rank:190 Global Sales: 5.14 millions\", \"Name:Medal of Honor: Rising Sun, Rank:191 Global Sales: 5.13 millions\", \"Name:Kirby's Dream Land, Rank:192 Global Sales: 5.13 millions\", \"Name:Fable III, Rank:193 Global Sales: 5.13 millions\", \"Name:Call of Duty: Advanced Warfare, Rank:194 Global Sales: 5.13 millions\", \"Name:Microsoft Flight Simulator, Rank:195 Global Sales: 5.12 millions\", \"Name:Guitar Hero II, Rank:196 Global Sales: 5.12 millions\", \"Name:Resident Evil 5, Rank:197 Global Sales: 5.11 millions\", \"Name:Grand Theft Auto V, Rank:198 Global Sales: 5.08 millions\", \"Name:Grand Theft Auto: Vice City Stories, Rank:199 Global Sales: 5.08 millions\", \"Name:FIFA Soccer 11, Rank:200 Global Sales: 5.08 millions\", \"Name:Super Mario Bros., Rank:201 Global Sales: 5.07 millions\", \"Name:Resident Evil, Rank:202 Global Sales: 5.05 millions\", \"Name:Tony Hawk's Pro Skater, Rank:203 Global Sales: 5.02 millions\", \"Name:Super Smash Bros. for Wii U and 3DS, Rank:204 Global Sales: 5.02 millions\", \"Name:Warzone 2100, Rank:205 Global Sales: 5.01 millions\", \"Name:Spyro the Dragon, Rank:206 Global Sales: 5.0 millions\", \"Name:Link's Crossbow Training, Rank:207 Global Sales: 5.0 millions\", \"Name:Guitar Hero III: Legends of Rock, Rank:208 Global Sales: 4.98 millions\", \"Name:Fallout 3, Rank:209 Global Sales: 4.96 millions\", \"Name:Pokemon Mystery Dungeon: Explorers of Time/Explorers of Darkness, Rank:210 Global Sales: 4.96 millions\", \"Name:Uncharted: Drake's Fortune, Rank:211 Global Sales: 4.94 millions\", \"Name:Madden NFL 06, Rank:212 Global Sales: 4.91 millions\", \"Name:LEGO Star Wars: The Complete Saga, Rank:213 Global Sales: 4.9 millions\", \"Name:Diddy Kong Racing, Rank:214 Global Sales: 4.88 millions\", \"Name:Monster Hunter Freedom 3, Rank:215 Global Sales: 4.87 millions\", \"Name:Dr. Mario, Rank:216 Global Sales: 4.85 millions\", \"Name:God of War III, Rank:217 Global Sales: 4.84 millions\", \"Name:StarCraft II: Wings of Liberty, Rank:218 Global Sales: 4.83 millions\", \"Name:Assassin's Creed, Rank:219 Global Sales: 4.83 millions\", \"Name:FIFA 15, Rank:220 Global Sales: 4.82 millions\", \"Name:Crash Team Racing, Rank:221 Global Sales: 4.79 millions\", \"Name:Batman: Arkham City, Rank:223 Global Sales: 4.76 millions\", \"Name:Driver 2, Rank:224 Global Sales: 4.73 millions\", \"Name:The Simpsons: Hit & Run, Rank:225 Global Sales: 4.7 millions\", \"Name:Tony Hawk's Pro Skater 2, Rank:226 Global Sales: 4.68 millions\", \"Name:Animal Crossing: City Folk, Rank:227 Global Sales: 4.68 millions\", \"Name:The Lord of the Rings: The Two Towers, Rank:228 Global Sales: 4.67 millions\", \"Name:Forza Motorsport 4, Rank:229 Global Sales: 4.64 millions\", \"Name:Tomb Raider, Rank:230 Global Sales: 4.63 millions\", \"Name:Guitar Hero III: Legends of Rock, Rank:231 Global Sales: 4.62 millions\", \"Name:The Legend of Zelda: A Link to the Past, Rank:232 Global Sales: 4.61 millions\", \"Name:The Legend of Zelda: The Wind Waker, Rank:233 Global Sales: 4.6 millions\", \"Name:Mario & Sonic at the Olympic Winter Games, Rank:234 Global Sales: 4.58 millions\", \"Name:Luigi's Mansion: Dark Moon, Rank:235 Global Sales: 4.58 millions\", \"Name:Splatoon, Rank:236 Global Sales: 4.57 millions\", \"Name:The Last of Us, Rank:237 Global Sales: 4.55 millions\", \"Name:Guitar Hero III: Legends of Rock, Rank:238 Global Sales: 4.53 millions\", \"Name:Madden NFL 2005, Rank:239 Global Sales: 4.53 millions\", \"Name:Pitfall!, Rank:240 Global Sales: 4.5 millions\", \"Name:Madden NFL 07, Rank:241 Global Sales: 4.49 millions\", \"Name:Spider-Man: The Movie, Rank:242 Global Sales: 4.48 millions\", \"Name:Dragon Quest VII: Warriors of Eden, Rank:243 Global Sales: 4.47 millions\", \"Name:Uncharted: The Nathan Drake Collection, Rank:244 Global Sales: 4.47 millions\", \"Name:Call of Duty: Advanced Warfare, Rank:245 Global Sales: 4.45 millions\", \"Name:God of War, Rank:246 Global Sales: 4.45 millions\", \"Name:Nintendo Land, Rank:247 Global Sales: 4.44 millions\", \"Name:Michael Jackson: The Experience, Rank:248 Global Sales: 4.42 millions\", \"Name:Tony Hawk's Pro Skater 3, Rank:249 Global Sales: 4.41 millions\", \"Name:Winning Eleven: Pro Evolution Soccer 2007, Rank:250 Global Sales: 4.39 millions\", \"Name:The Elder Scrolls IV: Oblivion, Rank:251 Global Sales: 4.39 millions\", \"Name:Zelda II: The Adventure of Link, Rank:252 Global Sales: 4.38 millions\", \"Name:Need for Speed: Most Wanted, Rank:253 Global Sales: 4.37 millions\", \"Name:Resistance: Fall of Man, Rank:254 Global Sales: 4.35 millions\", \"Name:Sonic the Hedgehog, Rank:255 Global Sales: 4.34 millions\", \"Name:Kingdom Hearts II, Rank:256 Global Sales: 4.33 millions\", \"Name:FIFA 14, Rank:257 Global Sales: 4.31 millions\", \"Name:Call of Duty: Advanced Warfare, Rank:258 Global Sales: 4.31 millions\", \"Name:Asteroids, Rank:259 Global Sales: 4.31 millions\", \"Name:Fable II, Rank:260 Global Sales: 4.31 millions\", \"Name:Halo 5: Guardians, Rank:261 Global Sales: 4.26 millions\", \"Name:Super Mario 3D World, Rank:262 Global Sales: 4.25 millions\", \"Name:Batman: Arkham Asylum, Rank:263 Global Sales: 4.25 millions\", \"Name:Assassin's Creed: Revelations, Rank:264 Global Sales: 4.24 millions\", \"Name:Namco Museum, Rank:265 Global Sales: 4.24 millions\", \"Name:Metal Gear Solid 3: Snake Eater, Rank:266 Global Sales: 4.23 millions\", \"Name:Daxter, Rank:267 Global Sales: 4.22 millions\", \"Name:Warcraft II: Tides of Darkness, Rank:268 Global Sales: 4.21 millions\", \"Name:The Legend of Zelda: Ocarina of Time, Rank:269 Global Sales: 4.21 millions\", \"Name:FIFA Soccer 06, Rank:270 Global Sales: 4.21 millions\", \"Name:EyeToy Play, Rank:271 Global Sales: 4.2 millions\", \"Name:Gran Turismo 5 Prologue, Rank:273 Global Sales: 4.2 millions\", \"Name:Assassin's Creed: Revelations, Rank:274 Global Sales: 4.19 millions\", \"Name:Street Fighter IV, Rank:275 Global Sales: 4.19 millions\", \"Name:FIFA 12, Rank:276 Global Sales: 4.19 millions\", \"Name:Teenage Mutant Ninja Turtles, Rank:277 Global Sales: 4.17 millions\", \"Name:Excitebike, Rank:278 Global Sales: 4.16 millions\", \"Name:Frogger, Rank:279 Global Sales: 4.16 millions\", \"Name:Madden NFL 2003, Rank:280 Global Sales: 4.14 millions\", \"Name:Watch Dogs, Rank:281 Global Sales: 4.14 millions\", \"Name:Half-Life, Rank:282 Global Sales: 4.12 millions\", \"Name:Super Mario World 2: Yoshi's Island, Rank:283 Global Sales: 4.12 millions\", \"Name:FIFA Soccer 07, Rank:284 Global Sales: 4.11 millions\", \"Name:The Legend of Zelda: Skyward Sword, Rank:285 Global Sales: 4.1 millions\", \"Name:Street Fighter II Turbo, Rank:286 Global Sales: 4.1 millions\", \"Name:Carnival Games, Rank:287 Global Sales: 4.1 millions\", \"Name:Fallout 4, Rank:288 Global Sales: 4.09 millions\", \"Name:World of Warcraft: The Burning Crusade, Rank:289 Global Sales: 4.09 millions\", \"Name:Fallout: New Vegas, Rank:290 Global Sales: 4.08 millions\", \"Name:God of War II, Rank:291 Global Sales: 4.07 millions\", \"Name:Forza Motorsport 2, Rank:292 Global Sales: 4.06 millions\", \"Name:World Soccer Winning Eleven 9, Rank:293 Global Sales: 4.06 millions\", \"Name:Namco Museum Vol.3, Rank:294 Global Sales: 4.05 millions\", \"Name:Tekken Tag Tournament, Rank:295 Global Sales: 4.05 millions\", \"Name:Far Cry 4, Rank:296 Global Sales: 4.03 millions\", \"Name:Star Fox 64, Rank:297 Global Sales: 4.03 millions\", \"Name:Minecraft, Rank:298 Global Sales: 4.02 millions\", \"Name:Golf, Rank:299 Global Sales: 4.01 millions\", \"Name:Fallout 3, Rank:300 Global Sales: 4.01 millions\", \"Name:Professor Layton and the Diabolical Box, Rank:301 Global Sales: 4.0 millions\", \"Name:Left 4 Dead 2, Rank:302 Global Sales: 3.99 millions\", \"Name:Namco Museum: 50th Anniversary, Rank:303 Global Sales: 3.98 millions\", \"Name:EA Sports Active, Rank:304 Global Sales: 3.92 millions\", \"Name:Assassin's Creed: Unity, Rank:305 Global Sales: 3.92 millions\", \"Name:Donkey Kong Land, Rank:306 Global Sales: 3.91 millions\", \"Name:Tony Hawk's Underground, Rank:307 Global Sales: 3.9 millions\", \"Name:Assassin's Creed IV: Black Flag, Rank:308 Global Sales: 3.89 millions\", \"Name:Monster Hunter 4 Ultimate, Rank:309 Global Sales: 3.89 millions\", \"Name:MotorStorm, Rank:310 Global Sales: 3.88 millions\", \"Name:The Elder Scrolls V: Skyrim, Rank:311 Global Sales: 3.88 millions\", \"Name:Tekken 5, Rank:312 Global Sales: 3.87 millions\", \"Name:Dragon Warrior III, Rank:313 Global Sales: 3.87 millions\", \"Name:Sports Champions, Rank:314 Global Sales: 3.87 millions\", \"Name:NBA 2K16, Rank:315 Global Sales: 3.85 millions\", \"Name:World Soccer Winning Eleven 8 International, Rank:316 Global Sales: 3.85 millions\", \"Name:Flash Focus: Vision Training in Minutes a Day, Rank:317 Global Sales: 3.84 millions\", \"Name:Namco Museum Vol.1, Rank:318 Global Sales: 3.84 millions\", \"Name:The Legend of Zelda: Link's Awakening, Rank:319 Global Sales: 3.83 millions\", \"Name:Mario & Luigi: Bowser's Inside Story, Rank:320 Global Sales: 3.83 millions\", \"Name:Big Brain Academy: Wii Degree, Rank:321 Global Sales: 3.82 millions\", \"Name:Nintendogs + cats, Rank:322 Global Sales: 3.81 millions\", \"Name:Batman: Arkham Knight, Rank:323 Global Sales: 3.79 millions\", \"Name:Mario & Sonic at the London 2012 Olympic Games, Rank:324 Global Sales: 3.78 millions\", \"Name:LEGO Indiana Jones: The Original Adventures, Rank:325 Global Sales: 3.78 millions\", \"Name:Resident Evil Director's Cut, Rank:326 Global Sales: 3.77 millions\", \"Name:Ratchet & Clank: Size Matters, Rank:327 Global Sales: 3.77 millions\", \"Name:Just Dance 2014, Rank:328 Global Sales: 3.76 millions\", \"Name:The Sims: Unleashed, Rank:329 Global Sales: 3.76 millions\", \"Name:Super Paper Mario, Rank:330 Global Sales: 3.76 millions\", \"Name:Harry Potter and the Sorcerer's Stone, Rank:331 Global Sales: 3.73 millions\", \"Name:The Witcher 3: Wild Hunt, Rank:332 Global Sales: 3.73 millions\", \"Name:Resident Evil 3: Nemesis, Rank:333 Global Sales: 3.72 millions\", \"Name:Spyro: Year of the Dragon, Rank:334 Global Sales: 3.71 millions\", \"Name:FIFA Soccer 2005, Rank:335 Global Sales: 3.7 millions\", \"Name:Pok\\u00e9mon Trading Card Game, Rank:336 Global Sales: 3.7 millions\", \"Name:Battlefield 4, Rank:337 Global Sales: 3.69 millions\", \"Name:MySims, Rank:338 Global Sales: 3.69 millions\", \"Name:Friend Collection, Rank:339 Global Sales: 3.67 millions\", \"Name:Tony Hawk's Pro Skater 4, Rank:340 Global Sales: 3.67 millions\", \"Name:Midnight Club 3: DUB Edition, Rank:341 Global Sales: 3.66 millions\", \"Name:Banjo-Kazooie, Rank:342 Global Sales: 3.65 millions\", \"Name:SOCOM: U.S. Navy SEALs, Rank:343 Global Sales: 3.65 millions\", \"Name:Guitar Hero: World Tour, Rank:344 Global Sales: 3.65 millions\", \"Name:Gran Turismo 6, Rank:345 Global Sales: 3.64 millions\", \"Name:Jak and Daxter: The Precursor Legacy, Rank:346 Global Sales: 3.64 millions\", \"Name:Pokemon Snap, Rank:347 Global Sales: 3.63 millions\", \"Name:FIFA Soccer 10, Rank:348 Global Sales: 3.63 millions\", \"Name:Pro Evolution Soccer 2008, Rank:349 Global Sales: 3.63 millions\", \"Name:Call of Duty: Ghosts, Rank:350 Global Sales: 3.63 millions\", \"Name:Resident Evil 4, Rank:351 Global Sales: 3.62 millions\", \"Name:Star Wars: Battlefront, Rank:353 Global Sales: 3.61 millions\", \"Name:Doom II: Hell on Earth, Rank:354 Global Sales: 3.61 millions\", \"Name:The Simpsons: Road Rage, Rank:355 Global Sales: 3.61 millions\", \"Name:Cooking Mama 2: Dinner With Friends, Rank:356 Global Sales: 3.61 millions\", \"Name:Luigi's Mansion, Rank:357 Global Sales: 3.6 millions\", \"Name:Star Wars: Battlefront II, Rank:358 Global Sales: 3.59 millions\", \"Name:WWF SmackDown!, Rank:359 Global Sales: 3.58 millions\", \"Name:Croc: Legend of the Gobbos, Rank:360 Global Sales: 3.56 millions\", \"Name:Grand Theft Auto: Liberty City Stories, Rank:361 Global Sales: 3.54 millions\", \"Name:The Getaway, Rank:362 Global Sales: 3.54 millions\", \"Name:Tomb Raider III: Adventures of Lara Croft, Rank:363 Global Sales: 3.54 millions\", \"Name:James Bond 007: Agent Under Fire, Rank:364 Global Sales: 3.53 millions\", \"Name:LEGO Star Wars: The Video Game, Rank:365 Global Sales: 3.53 millions\", \"Name:Battlefield 4, Rank:366 Global Sales: 3.53 millions\", \"Name:FIFA Soccer 11, Rank:367 Global Sales: 3.53 millions\", \"Name:Rugrats in Paris: The Movie, Rank:368 Global Sales: 3.52 millions\", \"Name:Spyro 2: Ripto's Rage!, Rank:369 Global Sales: 3.52 millions\", \"Name:Left 4 Dead, Rank:370 Global Sales: 3.52 millions\", \"Name:Mario & Sonic at the Olympic Winter Games, Rank:371 Global Sales: 3.52 millions\", \"Name:Resident Evil 5, Rank:372 Global Sales: 3.51 millions\", \"Name:Donkey Kong Country 3: Dixie Kong's Double Trouble!, Rank:373 Global Sales: 3.51 millions\", \"Name:Assassin's Creed: Brotherhood, Rank:374 Global Sales: 3.5 millions\", \"Name:Kung Fu, Rank:375 Global Sales: 3.5 millions\", \"Name:Batman: Arkham Asylum, Rank:376 Global Sales: 3.5 millions\", \"Name:Clubhouse Games, Rank:377 Global Sales: 3.5 millions\", \"Name:FIFA Soccer 2004, Rank:378 Global Sales: 3.49 millions\", \"Name:Star Wars Battlefront (2015), Rank:379 Global Sales: 3.49 millions\", \"Name:Battlefield: Bad Company 2, Rank:380 Global Sales: 3.48 millions\", \"Name:Guitar Hero: On Tour, Rank:381 Global Sales: 3.48 millions\", \"Name:Assassin's Creed: Unity, Rank:382 Global Sales: 3.46 millions\", \"Name:Far Cry 3, Rank:383 Global Sales: 3.45 millions\", \"Name:Monster Hunter 4, Rank:384 Global Sales: 3.44 millions\", \"Name:Borderlands, Rank:385 Global Sales: 3.44 millions\", \"Name:Tekken 4, Rank:386 Global Sales: 3.44 millions\", \"Name:Battlefield 4, Rank:387 Global Sales: 3.43 millions\", \"Name:LittleBigPlanet 2, Rank:388 Global Sales: 3.42 millions\", \"Name:Grand Theft Auto 2, Rank:389 Global Sales: 3.42 millions\", \"Name:Final Fantasy III, Rank:390 Global Sales: 3.42 millions\", \"Name:Spider-Man 2, Rank:391 Global Sales: 3.41 millions\", \"Name:F-1 Race, Rank:392 Global Sales: 3.41 millions\", \"Name:FIFA Soccer 2003, Rank:393 Global Sales: 3.4 millions\", \"Name:Crash Bash, Rank:394 Global Sales: 3.39 millions\", \"Name:LEGO Batman: The Videogame, Rank:395 Global Sales: 3.38 millions\", \"Name:Metal Gear Solid V: The Phantom Pain, Rank:396 Global Sales: 3.38 millions\", \"Name:The Legend of Zelda: Spirit Tracks, Rank:397 Global Sales: 3.38 millions\", \"Name:WWF War Zone, Rank:398 Global Sales: 3.36 millions\", \"Name:The Legend of Zelda: Majora's Mask, Rank:399 Global Sales: 3.36 millions\", \"Name:Professor Layton and the Unwound Future, Rank:400 Global Sales: 3.36 millions\", \"Name:Rugrats: Search For Reptar, Rank:401 Global Sales: 3.34 millions\", \"Name:Assassin's Creed IV: Black Flag, Rank:402 Global Sales: 3.34 millions\", \"Name:English Training: Have Fun Improving Your Skills!, Rank:403 Global Sales: 3.33 millions\", \"Name:James Bond 007: Nightfire, Rank:404 Global Sales: 3.33 millions\", \"Name:Ratchet & Clank, Rank:405 Global Sales: 3.33 millions\", \"Name:Mario Party 9, Rank:406 Global Sales: 3.32 millions\", \"Name:Star Wars Episode III: Revenge of the Sith, Rank:407 Global Sales: 3.32 millions\", \"Name:Max Payne, Rank:408 Global Sales: 3.31 millions\", \"Name:The Lord of the Rings: The Return of the King, Rank:409 Global Sales: 3.28 millions\", \"Name:Assassin's Creed Syndicate, Rank:410 Global Sales: 3.28 millions\", \"Name:Destiny, Rank:411 Global Sales: 3.28 millions\", \"Name:True Crime: Streets of LA, Rank:412 Global Sales: 3.27 millions\", \"Name:Wii Music, Rank:413 Global Sales: 3.27 millions\", \"Name:Gran Turismo (PSP), Rank:414 Global Sales: 3.27 millions\", \"Name:Monster Hunter X, Rank:415 Global Sales: 3.26 millions\", \"Name:Tekken, Rank:416 Global Sales: 3.24 millions\", \"Name:FIFA 16, Rank:417 Global Sales: 3.23 millions\", \"Name:L.A. Noire, Rank:418 Global Sales: 3.23 millions\", \"Name:Madden NFL 16, Rank:419 Global Sales: 3.22 millions\", \"Name:Yokai Watch 2 Ganso/Honke, Rank:420 Global Sales: 3.22 millions\", \"Name:007: Tomorrow Never Dies, Rank:421 Global Sales: 3.21 millions\", \"Name:Baseball, Rank:422 Global Sales: 3.2 millions\", \"Name:Killer Instinct, Rank:423 Global Sales: 3.2 millions\", \"Name:WWF SmackDown! 2: Know Your Role, Rank:424 Global Sales: 3.2 millions\", \"Name:Crisis Core: Final Fantasy VII, Rank:425 Global Sales: 3.19 millions\", \"Name:God of War: Chains of Olympus, Rank:426 Global Sales: 3.19 millions\", \"Name:Dragon Quest VI: Maboroshi no Daichi, Rank:427 Global Sales: 3.19 millions\", \"Name:Dance Central, Rank:428 Global Sales: 3.19 millions\", \"Name:Enter the Matrix, Rank:429 Global Sales: 3.18 millions\", \"Name:Super Mario Maker, Rank:430 Global Sales: 3.18 millions\", \"Name:Fallout: New Vegas, Rank:431 Global Sales: 3.17 millions\", \"Name:LEGO Batman: The Videogame, Rank:432 Global Sales: 3.17 millions\", \"Name:Rhythm Heaven, Rank:433 Global Sales: 3.17 millions\", \"Name:Ace Combat 04: Shattered Skies, Rank:434 Global Sales: 3.17 millions\", \"Name:Club Penguin: Elite Penguin Force, Rank:435 Global Sales: 3.16 millions\", \"Name:Animal Crossing, Rank:436 Global Sales: 3.15 millions\", \"Name:LEGO Batman: The Videogame, Rank:437 Global Sales: 3.15 millions\", \"Name:Sonic Rush, Rank:438 Global Sales: 3.15 millions\", \"Name:Resident Evil 6, Rank:439 Global Sales: 3.15 millions\", \"Name:Halo: The Master Chief Collection, Rank:440 Global Sales: 3.15 millions\", \"Name:FIFA Soccer 08, Rank:441 Global Sales: 3.14 millions\", \"Name:Spider-Man, Rank:442 Global Sales: 3.13 millions\", \"Name:Need for Speed III: Hot Pursuit, Rank:443 Global Sales: 3.12 millions\", \"Name:Star Wars Episode I Racer, Rank:444 Global Sales: 3.12 millions\", \"Name:Personal Trainer: Cooking, Rank:445 Global Sales: 3.12 millions\", \"Name:The Elder Scrolls IV: Oblivion, Rank:446 Global Sales: 3.12 millions\", \"Name:Dragon Warrior IV, Rank:447 Global Sales: 3.12 millions\", \"Name:Heavy Rain, Rank:448 Global Sales: 3.12 millions\", \"Name:Mass Effect 2, Rank:449 Global Sales: 3.11 millions\", \"Name:FIFA 15, Rank:450 Global Sales: 3.11 millions\", \"Name:Dragon Ball Z: Budokai, Rank:451 Global Sales: 3.09 millions\", \"Name:Madden NFL 2002, Rank:452 Global Sales: 3.08 millions\", \"Name:World Class Track Meet, Rank:453 Global Sales: 3.08 millions\", \"Name:Borderlands 2, Rank:454 Global Sales: 3.07 millions\", \"Name:The Legend of Zelda: A Link Between Worlds, Rank:455 Global Sales: 3.07 millions\", \"Name:Donkey Kong, Rank:456 Global Sales: 3.07 millions\", \"Name:The Sims: Vacation, Rank:457 Global Sales: 3.07 millions\", \"Name:Mass Effect 3, Rank:458 Global Sales: 3.07 millions\", \"Name:Kung Fu Panda, Rank:459 Global Sales: 3.05 millions\", \"Name:Far Cry 3, Rank:460 Global Sales: 3.04 millions\", \"Name:Epic Mickey, Rank:461 Global Sales: 3.04 millions\", \"Name:Saints Row 2, Rank:462 Global Sales: 3.03 millions\", \"Name:Rayman, Rank:463 Global Sales: 3.03 millions\", \"Name:Killzone 2, Rank:464 Global Sales: 3.02 millions\", \"Name:Tom Clancy's Splinter Cell, Rank:465 Global Sales: 3.02 millions\", \"Name:Mike Tyson's Punch-Out!!, Rank:466 Global Sales: 3.02 millions\", \"Name:WWE SmackDown! Shut Your Mouth, Rank:467 Global Sales: 3.02 millions\", \"Name:Gears of War: Ultimate Edition, Rank:468 Global Sales: 3.0 millions\", \"Name:NBA 2K13, Rank:469 Global Sales: 3.0 millions\", \"Name:Dragon Ball Z: Budokai Tenkaichi 3, Rank:470 Global Sales: 3.0 millions\", \"Name:wwe Smackdown vs. Raw 2006, Rank:471 Global Sales: 3.0 millions\", \"Name:Middle-Earth: Shadow of Mordor, Rank:472 Global Sales: 2.99 millions\", \"Name:Star Fox, Rank:473 Global Sales: 2.99 millions\", \"Name:The Sims: Livin Large, Rank:474 Global Sales: 2.99 millions\", \"Name:World Soccer Winning Eleven 6 International, Rank:475 Global Sales: 2.99 millions\", \"Name:Devil May Cry, Rank:476 Global Sales: 2.99 millions\", \"Name:Animal Crossing: Happy Home Designer, Rank:477 Global Sales: 2.98 millions\", \"Name:Battlefield: Bad Company 2, Rank:478 Global Sales: 2.97 millions\", \"Name:The Sims 4, Rank:479 Global Sales: 2.97 millions\", \"Name:Star Wars: The Old Republic, Rank:480 Global Sales: 2.97 millions\", \"Name:Sonic Heroes, Rank:481 Global Sales: 2.96 millions\", \"Name:Kirby Super Star Ultra, Rank:482 Global Sales: 2.96 millions\", \"Name:Hitman 2: Silent Assassin, Rank:483 Global Sales: 2.96 millions\", \"Name:Street Fighter IV, Rank:484 Global Sales: 2.95 millions\", \"Name:Wave Race 64, Rank:485 Global Sales: 2.94 millions\", \"Name:SOCOM II: U.S. Navy SEALs, Rank:486 Global Sales: 2.94 millions\", \"Name:WWE SmackDown! vs. RAW 2006, Rank:487 Global Sales: 2.94 millions\", \"Name:inFAMOUS, Rank:488 Global Sales: 2.94 millions\", \"Name:Pac-Man Collection, Rank:489 Global Sales: 2.94 millions\", \"Name:Mass Effect, Rank:490 Global Sales: 2.93 millions\", \"Name:WarioWare: Smooth Moves, Rank:491 Global Sales: 2.92 millions\", \"Name:Cooking Mama: Cook Off, Rank:492 Global Sales: 2.91 millions\", \"Name:Super Mario World 2: Yoshi's Island, Rank:493 Global Sales: 2.91 millions\", \"Name:FIFA 14, Rank:494 Global Sales: 2.9 millions\", \"Name:Titanfall, Rank:495 Global Sales: 2.9 millions\", \"Name:Sonic Mega Collection Plus, Rank:496 Global Sales: 2.9 millions\", \"Name:Sega Superstars Tennis, Rank:497 Global Sales: 2.9 millions\", \"Name:World Soccer Winning Eleven 7 International, Rank:498 Global Sales: 2.9 millions\", \"Name:Need for Speed: Most Wanted, Rank:499 Global Sales: 2.89 millions\", \"Name:Hot Shots Golf 3, Rank:500 Global Sales: 2.89 millions\", \"Name:Call of Duty: Finest Hour, Rank:501 Global Sales: 2.89 millions\", \"Name:Zumba Fitness 2, Rank:502 Global Sales: 2.88 millions\", \"Name:Syphon Filter, Rank:503 Global Sales: 2.88 millions\", \"Name:Imagine: Babyz, Rank:504 Global Sales: 2.88 millions\", \"Name:Colin McRae Rally, Rank:505 Global Sales: 2.87 millions\", \"Name:Call of Duty: Ghosts, Rank:506 Global Sales: 2.86 millions\", \"Name:Madden NFL 13, Rank:507 Global Sales: 2.86 millions\", \"Name:The Elder Scrolls III: Morrowind, Rank:508 Global Sales: 2.86 millions\", \"Name:Mortal Kombat, Rank:509 Global Sales: 2.85 millions\", \"Name:F-Zero, Rank:510 Global Sales: 2.85 millions\", \"Name:Yoshi's Story, Rank:511 Global Sales: 2.85 millions\", \"Name:Command & Conquer: Red Alert, Rank:512 Global Sales: 2.85 millions\", \"Name:Skylanders: Spyro's Adventure, Rank:513 Global Sales: 2.85 millions\", \"Name:FIFA 16, Rank:514 Global Sales: 2.85 millions\", \"Name:Assassin's Creed: Brotherhood, Rank:515 Global Sales: 2.84 millions\", \"Name:BioShock, Rank:516 Global Sales: 2.83 millions\", \"Name:Madden NFL 10, Rank:517 Global Sales: 2.83 millions\", \"Name:Medal of Honor, Rank:518 Global Sales: 2.83 millions\", \"Name:WWE SmackDown! vs. Raw, Rank:519 Global Sales: 2.83 millions\", \"Name:Metroid Prime, Rank:520 Global Sales: 2.82 millions\", \"Name:Finding Nemo, Rank:521 Global Sales: 2.82 millions\", \"Name:Myst, Rank:522 Global Sales: 2.81 millions\", \"Name:Need for Speed: Hot Pursuit, Rank:523 Global Sales: 2.81 millions\", \"Name:Imagine: Fashion Designer, Rank:524 Global Sales: 2.81 millions\", \"Name:WWE SmackDown! Here Comes the Pain, Rank:525 Global Sales: 2.8 millions\", \"Name:Star Wars: The Force Unleashed, Rank:526 Global Sales: 2.8 millions\", \"Name:Yoshi's Island DS, Rank:527 Global Sales: 2.8 millions\", \"Name:Hot Shots Golf, Rank:528 Global Sales: 2.79 millions\", \"Name:Killzone 3, Rank:529 Global Sales: 2.79 millions\", \"Name:A Bug's Life, Rank:530 Global Sales: 2.79 millions\", \"Name:WWF SmackDown! Just Bring It, Rank:531 Global Sales: 2.79 millions\", \"Name:Dragon Quest V: Tenkuu no Hanayome, Rank:532 Global Sales: 2.79 millions\", \"Name:Mortal Kombat Trilogy, Rank:533 Global Sales: 2.79 millions\", \"Name:Battlefield 3, Rank:534 Global Sales: 2.79 millions\", \"Name:NBA Street, Rank:535 Global Sales: 2.79 millions\", \"Name:Professor Layton and the Last Specter, Rank:536 Global Sales: 2.79 millions\", \"Name:Monster Hunter Tri, Rank:537 Global Sales: 2.79 millions\", \"Name:Jak II, Rank:538 Global Sales: 2.78 millions\", \"Name:inFAMOUS: Second Son, Rank:539 Global Sales: 2.78 millions\", \"Name:Ratchet & Clank: Going Commando, Rank:540 Global Sales: 2.78 millions\", \"Name:Tekken 6, Rank:541 Global Sales: 2.78 millions\", \"Name:The Sims, Rank:542 Global Sales: 2.77 millions\", \"Name:Sonic and the Secret Rings, Rank:543 Global Sales: 2.77 millions\", \"Name:Saints Row: The Third, Rank:544 Global Sales: 2.77 millions\", \"Name:Missile Command, Rank:545 Global Sales: 2.76 millions\", \"Name:Mario Paint, Rank:546 Global Sales: 2.75 millions\", \"Name:Assassin's Creed IV: Black Flag, Rank:547 Global Sales: 2.74 millions\", \"Name:Pok\\u00e9mon Stadium 2, Rank:548 Global Sales: 2.73 millions\", \"Name:Metroid, Rank:549 Global Sales: 2.73 millions\", \"Name:L.A. Noire, Rank:550 Global Sales: 2.72 millions\", \"Name:Call of Duty 3, Rank:551 Global Sales: 2.71 millions\", \"Name:The Legend of Zelda: A Link to the Past, Rank:552 Global Sales: 2.7 millions\", \"Name:Onimusha: Warlords, Rank:553 Global Sales: 2.7 millions\", \"Name:Mortal Kombat X, Rank:554 Global Sales: 2.7 millions\", \"Name:Mario Party, Rank:555 Global Sales: 2.7 millions\", \"Name:Madden NFL 12, Rank:556 Global Sales: 2.69 millions\", \"Name:LEGO Star Wars II: The Original Trilogy, Rank:557 Global Sales: 2.69 millions\", \"Name:Madden NFL 11, Rank:558 Global Sales: 2.69 millions\", \"Name:Mario vs. Donkey Kong: Mini-Land Mayhem!, Rank:559 Global Sales: 2.69 millions\", \"Name:Skate 3, Rank:560 Global Sales: 2.68 millions\", \"Name:Burnout 3: Takedown, Rank:561 Global Sales: 2.68 millions\", \"Name:Yokai Watch 2 Shinuchi, Rank:562 Global Sales: 2.68 millions\", \"Name:Need for Speed: Shift, Rank:563 Global Sales: 2.68 millions\", \"Name:Final Fantasy XIII-2, Rank:564 Global Sales: 2.68 millions\", \"Name:Mortal Kombat, Rank:565 Global Sales: 2.67 millions\", \"Name:Call Of Duty 2: Big Red One, Rank:566 Global Sales: 2.67 millions\", \"Name:Guitar Hero: World Tour, Rank:567 Global Sales: 2.67 millions\", \"Name:Medal of Honor, Rank:568 Global Sales: 2.67 millions\", \"Name:Fable, Rank:569 Global Sales: 2.66 millions\", \"Name:Hannah Montana, Rank:570 Global Sales: 2.65 millions\", \"Name:Tom Clancy's Splinter Cell, Rank:571 Global Sales: 2.65 millions\", \"Name:Skylanders Giants, Rank:572 Global Sales: 2.65 millions\", \"Name:Medal of Honor Heroes, Rank:573 Global Sales: 2.65 millions\", \"Name:Super Mario Bros.: The Lost Levels, Rank:574 Global Sales: 2.65 millions\", \"Name:Star Wars: Shadows of the Empire, Rank:575 Global Sales: 2.65 millions\", \"Name:LEGO Star Wars: The Complete Saga, Rank:576 Global Sales: 2.64 millions\", \"Name:Midnight Club: Street Racing, Rank:577 Global Sales: 2.63 millions\", \"Name:Pac-Man: Adventures in Time, Rank:578 Global Sales: 2.63 millions\", \"Name:Halo Wars, Rank:579 Global Sales: 2.63 millions\", \"Name:God of War Collection, Rank:580 Global Sales: 2.63 millions\", \"Name:ESPN NFL 2K5, Rank:581 Global Sales: 2.62 millions\", \"Name:Mario Strikers Charged, Rank:582 Global Sales: 2.62 millions\", \"Name:Medal of Honor, Rank:583 Global Sales: 2.62 millions\", \"Name:FIFA Soccer 10, Rank:584 Global Sales: 2.62 millions\", \"Name:NBA 2K12, Rank:585 Global Sales: 2.62 millions\", \"Name:Style Savvy, Rank:586 Global Sales: 2.61 millions\", \"Name:Harry Potter and the Chamber of Secrets, Rank:587 Global Sales: 2.61 millions\", \"Name:Super Mario All-Stars: Limited Edition, Rank:588 Global Sales: 2.6 millions\", \"Name:Streets of Rage, Rank:589 Global Sales: 2.6 millions\", \"Name:FIFA Soccer 09, Rank:590 Global Sales: 2.59 millions\", \"Name:Ratchet & Clank Future: Tools of Destruction, Rank:591 Global Sales: 2.59 millions\", \"Name:NBA Live 2005, Rank:592 Global Sales: 2.59 millions\", \"Name:LittleBigPlanet, Rank:593 Global Sales: 2.58 millions\", \"Name:Killzone: Shadow Fall, Rank:594 Global Sales: 2.58 millions\", \"Name:Ghostbusters: The Video Game (DS Version), Rank:595 Global Sales: 2.58 millions\", \"Name:Monster Hunter Freedom 2, Rank:596 Global Sales: 2.58 millions\", \"Name:WWE SmackDown vs. RAW 2007, Rank:597 Global Sales: 2.58 millions\", \"Name:Ratchet & Clank: Up Your Arsenal, Rank:598 Global Sales: 2.57 millions\", \"Name:Art Academy, Rank:599 Global Sales: 2.57 millions\", \"Name:Dragon Age: Origins, Rank:600 Global Sales: 2.57 millions\", \"Name:Madden NFL 08, Rank:601 Global Sales: 2.57 millions\", \"Name:Sonic Adventure 2 Battle, Rank:602 Global Sales: 2.56 millions\", \"Name:Dragon Warrior II, Rank:603 Global Sales: 2.56 millions\", \"Name:Madden NFL 13, Rank:604 Global Sales: 2.56 millions\", \"Name:Pok\\u00e9mon Colosseum, Rank:605 Global Sales: 2.54 millions\", \"Name:Deca Sports, Rank:606 Global Sales: 2.54 millions\", \"Name:Madden NFL 09, Rank:607 Global Sales: 2.54 millions\", \"Name:Space Invaders, Rank:608 Global Sales: 2.53 millions\", \"Name:Crazy Taxi, Rank:609 Global Sales: 2.52 millions\", \"Name:Perfect Dark, Rank:610 Global Sales: 2.52 millions\", \"Name:Game Party, Rank:611 Global Sales: 2.52 millions\", \"Name:Dragon Warrior, Rank:612 Global Sales: 2.52 millions\", \"Name:Tomb Raider (2013), Rank:613 Global Sales: 2.51 millions\", \"Name:Marvel: Ultimate Alliance, Rank:614 Global Sales: 2.5 millions\", \"Name:PES 2009: Pro Evolution Soccer, Rank:615 Global Sales: 2.5 millions\", \"Name:Mario Party 2, Rank:616 Global Sales: 2.5 millions\", \"Name:Saints Row: The Third, Rank:617 Global Sales: 2.49 millions\", \"Name:Rockstar Games Double Pack: Grand Theft Auto III & Grand Theft Auto Vice City, Rank:618 Global Sales: 2.49 millions\", \"Name:LEGO Harry Potter: Years 1-4, Rank:619 Global Sales: 2.49 millions\", \"Name:Mortal Kombat: Deadly Alliance, Rank:620 Global Sales: 2.49 millions\", \"Name:Resistance 2, Rank:621 Global Sales: 2.48 millions\", \"Name:Pure, Rank:622 Global Sales: 2.48 millions\", \"Name:Tomb Raider: The Last Revelation, Rank:623 Global Sales: 2.48 millions\", \"Name:NBA 2K13, Rank:624 Global Sales: 2.48 millions\", \"Name:Rock Band, Rank:625 Global Sales: 2.48 millions\", \"Name:NBA 2K14, Rank:626 Global Sales: 2.47 millions\", \"Name:Mario Party 4, Rank:627 Global Sales: 2.47 millions\", \"Name:uDraw Studio, Rank:628 Global Sales: 2.46 millions\", \"Name:Midnight Club: Los Angeles, Rank:629 Global Sales: 2.45 millions\", \"Name:Final Fantasy V, Rank:630 Global Sales: 2.45 millions\", \"Name:Final Fantasy Tactics, Rank:631 Global Sales: 2.45 millions\", \"Name:Twisted Metal 2, Rank:632 Global Sales: 2.44 millions\", \"Name:Halo: Combat Evolved Anniversary, Rank:633 Global Sales: 2.44 millions\", \"Name:Need for Speed Carbon: Own the City, Rank:634 Global Sales: 2.44 millions\", \"Name:The Sims: Bustin' Out, Rank:635 Global Sales: 2.43 millions\", \"Name:Riven: The Sequel to Myst, Rank:636 Global Sales: 2.43 millions\", \"Name:Tom Clancy's Rainbow Six: Vegas 2, Rank:637 Global Sales: 2.42 millions\", \"Name:Sonic Adventure, Rank:638 Global Sales: 2.42 millions\", \"Name:Ice Hockey, Rank:639 Global Sales: 2.42 millions\", \"Name:pro evolution soccer 2011, Rank:640 Global Sales: 2.42 millions\", \"Name:Dragon Ball Z: Budokai 2, Rank:641 Global Sales: 2.41 millions\", \"Name:ATV Offroad Fury, Rank:642 Global Sales: 2.41 millions\", \"Name:Dino Crisis, Rank:643 Global Sales: 2.41 millions\", \"Name:Minecraft, Rank:644 Global Sales: 2.41 millions\", \"Name:Need for Speed: ProStreet, Rank:645 Global Sales: 2.41 millions\", \"Name:Madden NFL 16, Rank:646 Global Sales: 2.4 millions\", \"Name:Tetris Plus, Rank:647 Global Sales: 2.4 millions\", \"Name:Pro Wrestling, Rank:648 Global Sales: 2.4 millions\", \"Name:Theme Hospital, Rank:649 Global Sales: 2.4 millions\", \"Name:Frogger's Adventures: Temple of the Frog, Rank:650 Global Sales: 2.39 millions\", \"Name:Need for Speed (2015), Rank:651 Global Sales: 2.39 millions\", \"Name:Zumba Fitness, Rank:652 Global Sales: 2.39 millions\", \"Name:LEGO Indiana Jones: The Original Adventures, Rank:653 Global Sales: 2.39 millions\", \"Name:Monopoly, Rank:655 Global Sales: 2.39 millions\", \"Name:Batman: Arkham Origins, Rank:656 Global Sales: 2.39 millions\", \"Name:Dead Island, Rank:657 Global Sales: 2.39 millions\", \"Name:Guitar Hero, Rank:658 Global Sales: 2.38 millions\", \"Name:LEGO Star Wars: The Complete Saga, Rank:659 Global Sales: 2.38 millions\", \"Name:Kinect: Disneyland Adventures, Rank:660 Global Sales: 2.38 millions\", \"Name:WCW/nWo Revenge, Rank:661 Global Sales: 2.38 millions\", \"Name:Bloodborne, Rank:662 Global Sales: 2.38 millions\", \"Name:NBA 2K15, Rank:663 Global Sales: 2.38 millions\", \"Name:Madden NFL 11, Rank:664 Global Sales: 2.38 millions\", \"Name:Yu-Gi-Oh! The Duelists of the Roses, Rank:665 Global Sales: 2.38 millions\", \"Name:Madden NFL 08, Rank:666 Global Sales: 2.37 millions\", \"Name:Half-Life 2, Rank:667 Global Sales: 2.37 millions\", \"Name:The Incredibles, Rank:668 Global Sales: 2.37 millions\", \"Name:Tony Hawk's Underground 2, Rank:669 Global Sales: 2.37 millions\", \"Name:Madden NFL 10, Rank:670 Global Sales: 2.37 millions\", \"Name:Kinect Sports: Season Two, Rank:671 Global Sales: 2.36 millions\", \"Name:Kirby's Dream Land 2, Rank:672 Global Sales: 2.36 millions\", \"Name:LEGO Harry Potter: Years 1-4, Rank:673 Global Sales: 2.35 millions\", \"Name:Donkey Kong Land II, Rank:674 Global Sales: 2.35 millions\", \"Name:Dragon Warrior Monsters, Rank:675 Global Sales: 2.35 millions\", \"Name:Midnight Club: Los Angeles, Rank:676 Global Sales: 2.35 millions\", \"Name:Skylanders SWAP Force, Rank:677 Global Sales: 2.34 millions\", \"Name:WWE SmackDown vs Raw 2008, Rank:678 Global Sales: 2.34 millions\", \"Name:My Fitness Coach, Rank:679 Global Sales: 2.34 millions\", \"Name:Resident Evil - Code: Veronica X, Rank:680 Global Sales: 2.34 millions\", \"Name:The Sims 3, Rank:681 Global Sales: 2.33 millions\", \"Name:The Legend of Zelda: Majora's Mask 3D, Rank:682 Global Sales: 2.32 millions\", \"Name:NBA 2K16, Rank:683 Global Sales: 2.32 millions\", \"Name:Just Dance Kids, Rank:684 Global Sales: 2.32 millions\", \"Name:Mario Tennis, Rank:685 Global Sales: 2.32 millions\", \"Name:Grand Theft Auto, Rank:686 Global Sales: 2.32 millions\", \"Name:James Bond 007: Everything or Nothing, Rank:687 Global Sales: 2.31 millions\", \"Name:WarioWare Touched!, Rank:688 Global Sales: 2.31 millions\", \"Name:Need For Speed: High Stakes, Rank:689 Global Sales: 2.31 millions\", \"Name:Chrono Trigger, Rank:690 Global Sales: 2.31 millions\", \"Name:Cool Boarders 3, Rank:691 Global Sales: 2.31 millions\", \"Name:LEGO Marvel Super Heroes, Rank:692 Global Sales: 2.3 millions\", \"Name:Guild Wars 2, Rank:693 Global Sales: 2.3 millions\", \"Name:Pokemon Ranger: Shadows of Almia, Rank:694 Global Sales: 2.3 millions\", \"Name:Dead Island, Rank:695 Global Sales: 2.29 millions\", \"Name:Tomb Raider II, Rank:696 Global Sales: 2.29 millions\", \"Name:God of War: Ascension, Rank:697 Global Sales: 2.29 millions\", \"Name:Need for Speed Underground 2, Rank:698 Global Sales: 2.28 millions\", \"Name:Pro Evolution Soccer 2010, Rank:699 Global Sales: 2.28 millions\", \"Name:Just Dance 2015, Rank:700 Global Sales: 2.28 millions\", \"Name:Yokai Watch Busters, Rank:701 Global Sales: 2.28 millions\", \"Name:Mario Bros., Rank:702 Global Sales: 2.28 millions\", \"Name:FIFA Soccer 09, Rank:703 Global Sales: 2.28 millions\", \"Name:Star Wars: The Force Unleashed, Rank:704 Global Sales: 2.28 millions\", \"Name:Borderlands 2, Rank:705 Global Sales: 2.28 millions\", \"Name:TOCA Touring Car Championship, Rank:706 Global Sales: 2.28 millions\", \"Name:Paper Mario: Sticker Star, Rank:707 Global Sales: 2.27 millions\", \"Name:Sonic's Ultimate Genesis Collection, Rank:708 Global Sales: 2.27 millions\", \"Name:Super Monkey Ball: Banana Blitz, Rank:709 Global Sales: 2.27 millions\", \"Name:Kirby: Nightmare in Dream Land, Rank:710 Global Sales: 2.27 millions\", \"Name:Wario Land 4, Rank:711 Global Sales: 2.26 millions\", \"Name:Guitar Hero III: Legends of Rock, Rank:712 Global Sales: 2.26 millions\", \"Name:Call of Duty 3, Rank:713 Global Sales: 2.26 millions\", \"Name:Resident Evil 4, Rank:714 Global Sales: 2.26 millions\", \"Name:Minecraft, Rank:715 Global Sales: 2.25 millions\", \"Name:Onimusha 2: Samurai's Destiny, Rank:716 Global Sales: 2.25 millions\", \"Name:Cool Boarders 2, Rank:717 Global Sales: 2.25 millions\", \"Name:Paper Mario: The Thousand-Year Door, Rank:718 Global Sales: 2.25 millions\", \"Name:Madden NFL 12, Rank:719 Global Sales: 2.25 millions\", \"Name:Monster Hunter Tri, Rank:720 Global Sales: 2.25 millions\", \"Name:Dissidia: Final Fantasy, Rank:721 Global Sales: 2.25 millions\", \"Name:Sonic Advance, Rank:722 Global Sales: 2.24 millions\", \"Name:Spyro: Season of Ice, Rank:723 Global Sales: 2.23 millions\", \"Name:Teenage Mutant Ninja Turtles II: The Arcade Game, Rank:724 Global Sales: 2.23 millions\", \"Name:LEGO Indiana Jones: The Original Adventures, Rank:725 Global Sales: 2.23 millions\", \"Name:Dance Dance Revolution X2, Rank:726 Global Sales: 2.23 millions\", \"Name:New Super Luigi U, Rank:727 Global Sales: 2.22 millions\", \"Name:Prince of Persia: The Sands of Time, Rank:728 Global Sales: 2.22 millions\", \"Name:Scribblenauts, Rank:729 Global Sales: 2.22 millions\", \"Name:The Legend of Zelda: Link's Awakening DX, Rank:730 Global Sales: 2.22 millions\", \"Name:Need for Speed: Hot Pursuit, Rank:731 Global Sales: 2.22 millions\", \"Name:BioShock 2, Rank:732 Global Sales: 2.21 millions\", \"Name:Assassin's Creed IV: Black Flag, Rank:733 Global Sales: 2.21 millions\", \"Name:Devil May Cry 3: Dante's Awakening Special Edition, Rank:734 Global Sales: 2.21 millions\", \"Name:Rock Band 2, Rank:735 Global Sales: 2.2 millions\", \"Name:Frogger, Rank:736 Global Sales: 2.2 millions\", \"Name:Guitar Hero II, Rank:737 Global Sales: 2.2 millions\", \"Name:Wario Land 3, Rank:738 Global Sales: 2.2 millions\", \"Name:Pro Yakyuu Family Stadium, Rank:739 Global Sales: 2.2 millions\", \"Name:Sonic Unleashed, Rank:740 Global Sales: 2.2 millions\", \"Name:High School Musical: Makin' the Cut!, Rank:741 Global Sales: 2.2 millions\", \"Name:Pro Evolution Soccer 2012, Rank:742 Global Sales: 2.19 millions\", \"Name:Saints Row, Rank:743 Global Sales: 2.19 millions\", \"Name:Star Wars: Knights of the Old Republic, Rank:744 Global Sales: 2.19 millions\", \"Name:Kirby's Pinball Land, Rank:745 Global Sales: 2.19 millions\", \"Name:Donkey Kong Country, Rank:746 Global Sales: 2.19 millions\", \"Name:Hitman: Absolution, Rank:747 Global Sales: 2.19 millions\", \"Name:Yu-Gi-Oh: Duel Monsters 4, Rank:748 Global Sales: 2.18 millions\", \"Name:ATV Offroad Fury 2, Rank:749 Global Sales: 2.18 millions\", \"Name:Forza Motorsport 5, Rank:750 Global Sales: 2.18 millions\", \"Name:Madden NFL 25, Rank:751 Global Sales: 2.18 millions\", \"Name:Pokemon Ranger, Rank:752 Global Sales: 2.18 millions\", \"Name:Mario & Luigi: Superstar Saga, Rank:753 Global Sales: 2.17 millions\", \"Name:Final Fantasy XIII, Rank:754 Global Sales: 2.17 millions\", \"Name:Star Wars: Rogue Squadron, Rank:755 Global Sales: 2.17 millions\", \"Name:Tennis, Rank:756 Global Sales: 2.17 millions\", \"Name:The Sims: House Party, Rank:757 Global Sales: 2.16 millions\", \"Name:Your Shape featuring Jenny McCarthy, Rank:758 Global Sales: 2.16 millions\", \"Name:Syphon Filter 2, Rank:759 Global Sales: 2.15 millions\", \"Name:Tom Clancy's Rainbow Six: Siege, Rank:760 Global Sales: 2.15 millions\", \"Name:Volleyball, Rank:761 Global Sales: 2.15 millions\", \"Name:FIFA 15, Rank:762 Global Sales: 2.15 millions\", \"Name:Call of Duty: Roads to Victory, Rank:763 Global Sales: 2.14 millions\", \"Name:Super Mario RPG: Legend of the Seven Stars, Rank:764 Global Sales: 2.14 millions\", \"Name:Mahjong, Rank:765 Global Sales: 2.14 millions\", \"Name:R.C. Pro-Am, Rank:766 Global Sales: 2.14 millions\", \"Name:SimCity 2000, Rank:767 Global Sales: 2.14 millions\", \"Name:Demon Attack, Rank:768 Global Sales: 2.13 millions\", \"Name:Dance Dance Revolution Extreme, Rank:769 Global Sales: 2.13 millions\", \"Name:Tetris DS, Rank:770 Global Sales: 2.13 millions\", \"Name:Final Fantasy Tactics Advance, Rank:771 Global Sales: 2.13 millions\", \"Name:Toy Story 3: The Video Game, Rank:773 Global Sales: 2.12 millions\", \"Name:Final Fantasy III, Rank:774 Global Sales: 2.12 millions\", \"Name:Kirby's Epic Yarn, Rank:775 Global Sales: 2.12 millions\", \"Name:Project Gotham Racing, Rank:776 Global Sales: 2.12 millions\", \"Name:Golf, Rank:777 Global Sales: 2.12 millions\", \"Name:NBA 2K12, Rank:778 Global Sales: 2.11 millions\", \"Name:Borderlands, Rank:779 Global Sales: 2.11 millions\", \"Name:Tony Hawk's Pro Skater, Rank:780 Global Sales: 2.11 millions\", \"Name:PES 2009: Pro Evolution Soccer, Rank:781 Global Sales: 2.11 millions\", \"Name:Need for Speed: Hot Pursuit 2, Rank:782 Global Sales: 2.11 millions\", \"Name:Mario Sports Mix, Rank:783 Global Sales: 2.11 millions\", \"Name:Rock Band, Rank:784 Global Sales: 2.11 millions\", \"Name:Dynasty Warriors 4, Rank:785 Global Sales: 2.11 millions\", \"Name:Mortal Kombat, Rank:786 Global Sales: 2.11 millions\", \"Name:Parasite Eve, Rank:787 Global Sales: 2.1 millions\", \"Name:Scooby-Doo! Night of 100 Frights, Rank:788 Global Sales: 2.1 millions\", \"Name:Project Gotham Racing (JP weekly sales), Rank:789 Global Sales: 2.1 millions\", \"Name:Need for Speed: Most Wanted 5-1-0, Rank:790 Global Sales: 2.1 millions\", \"Name:Portal 2, Rank:791 Global Sales: 2.1 millions\", \"Name:Devil May Cry 3: Dante's Awakening, Rank:792 Global Sales: 2.09 millions\", \"Name:Derby Stallion, Rank:793 Global Sales: 2.09 millions\", \"Name:Dead Rising, Rank:794 Global Sales: 2.09 millions\", \"Name:Finding Nemo, Rank:795 Global Sales: 2.09 millions\", \"Name:NBA 2K11, Rank:796 Global Sales: 2.09 millions\", \"Name:Wipeout: The Game, Rank:797 Global Sales: 2.09 millions\", \"Name:The Sims 2: Pets, Rank:798 Global Sales: 2.09 millions\", \"Name:Battlefield: Hardline, Rank:799 Global Sales: 2.09 millions\", \"Name:Metal Gear Solid: Peace Walker, Rank:800 Global Sales: 2.09 millions\", \"Name:World of Warcraft: Cataclysm, Rank:801 Global Sales: 2.08 millions\", \"Name:Tetris Worlds, Rank:802 Global Sales: 2.08 millions\", \"Name:Need For Speed: Undercover, Rank:803 Global Sales: 2.08 millions\", \"Name:Dance Dance Revolution: Hottest Party, Rank:804 Global Sales: 2.08 millions\", \"Name:Mario Party 5, Rank:805 Global Sales: 2.08 millions\", \"Name:Ghostbusters: The Video Game (DS Version), Rank:806 Global Sales: 2.08 millions\", \"Name:Sim Theme Park, Rank:807 Global Sales: 2.08 millions\", \"Name:Warcraft: Orcs & Humans, Rank:808 Global Sales: 2.08 millions\", \"Name:Skate 3, Rank:809 Global Sales: 2.08 millions\", \"Name:Spec Ops: Airborne Commando, Rank:810 Global Sales: 2.07 millions\", \"Name:Kingdom Hearts: Birth by Sleep, Rank:811 Global Sales: 2.07 millions\", \"Name:UFC 2009 Undisputed, Rank:812 Global Sales: 2.07 millions\", \"Name:Dark Souls, Rank:813 Global Sales: 2.07 millions\", \"Name:Yu-Gi-Oh! The Eternal Duelist Soul, Rank:814 Global Sales: 2.07 millions\", \"Name:Need for Speed: ProStreet, Rank:815 Global Sales: 2.06 millions\", \"Name:The Sims 3, Rank:816 Global Sales: 2.06 millions\", \"Name:Tom Clancy's Splinter Cell: Conviction, Rank:817 Global Sales: 2.06 millions\", \"Name:Pokemon Mystery Dungeon: Red/Blue Rescue Team, Rank:818 Global Sales: 2.06 millions\", \"Name:The Incredibles, Rank:819 Global Sales: 2.06 millions\", \"Name:R4: Ridge Racer Type 4, Rank:820 Global Sales: 2.06 millions\", \"Name:SoulCalibur II, Rank:821 Global Sales: 2.06 millions\", \"Name:Mario & Luigi: Dream Team, Rank:822 Global Sales: 2.06 millions\", \"Name:Need for Speed: ProStreet, Rank:823 Global Sales: 2.05 millions\", \"Name:Carnival Games, Rank:824 Global Sales: 2.05 millions\", \"Name:NBA 2K14, Rank:825 Global Sales: 2.05 millions\", \"Name:Pok\\u00e9mon Mystery Dungeon: Blue Rescue Team, Rank:826 Global Sales: 2.05 millions\", \"Name:Sonic Mega Collection, Rank:827 Global Sales: 2.05 millions\", \"Name:Diablo III, Rank:828 Global Sales: 2.05 millions\", \"Name:NBA Jam, Rank:829 Global Sales: 2.05 millions\", \"Name:PGR4 - Project Gotham Racing 4, Rank:830 Global Sales: 2.05 millions\", \"Name:Kingdom Hearts 358/2 Days, Rank:831 Global Sales: 2.04 millions\", \"Name:Dance Central 2, Rank:832 Global Sales: 2.04 millions\", \"Name:Rayman Raving Rabbids: TV Party, Rank:833 Global Sales: 2.04 millions\", \"Name:SOCOM: U.S. Navy SEALs: Combined Assault, Rank:834 Global Sales: 2.04 millions\", \"Name:Peter Jackson's King Kong: The Official Game of the Movie, Rank:835 Global Sales: 2.04 millions\", \"Name:Donkey Kong Country, Rank:836 Global Sales: 2.04 millions\", \"Name:Need for Speed: The Run, Rank:837 Global Sales: 2.04 millions\", \"Name:Madden NFL 15, Rank:838 Global Sales: 2.03 millions\", \"Name:1080\\u00b0: TenEighty Snowboarding, Rank:839 Global Sales: 2.03 millions\", \"Name:Just Dance 3, Rank:840 Global Sales: 2.03 millions\", \"Name:NBA Live 2004, Rank:841 Global Sales: 2.03 millions\", \"Name:Dead Space, Rank:842 Global Sales: 2.02 millions\", \"Name:Call of Duty 2, Rank:843 Global Sales: 2.02 millions\", \"Name:Madden NFL 15, Rank:844 Global Sales: 2.02 millions\", \"Name:Forza Horizon, Rank:845 Global Sales: 2.02 millions\", \"Name:TouchMaster, Rank:846 Global Sales: 2.01 millions\", \"Name:LEGO Marvel Super Heroes, Rank:848 Global Sales: 2.0 millions\", \"Name:Fire Emblem: Awakening, Rank:849 Global Sales: 2.0 millions\", \"Name:DriveClub, Rank:850 Global Sales: 2.0 millions\", \"Name:Super Street Fighter II, Rank:851 Global Sales: 2.0 millions\", \"Name:Mortal Kombat vs. DC Universe, Rank:852 Global Sales: 2.0 millions\", \"Name:Tenchu: Stealth Assassins, Rank:853 Global Sales: 1.99 millions\", \"Name:Tennis, Rank:854 Global Sales: 1.99 millions\", \"Name:Harry Potter and the Chamber of Secrets, Rank:855 Global Sales: 1.99 millions\", \"Name:Harry Potter and the Chamber of Secrets, Rank:856 Global Sales: 1.98 millions\", \"Name:SimCity, Rank:857 Global Sales: 1.98 millions\", \"Name:Battlefield 4, Rank:858 Global Sales: 1.98 millions\", \"Name:Resident Evil 6, Rank:859 Global Sales: 1.98 millions\", \"Name:Dragon Age: Inquisition, Rank:860 Global Sales: 1.97 millions\", \"Name:Sonic Classic Collection, Rank:861 Global Sales: 1.97 millions\", \"Name:Spyro: Enter the Dragonfly, Rank:862 Global Sales: 1.97 millions\", \"Name:Call of Duty: World at War, Rank:863 Global Sales: 1.97 millions\", \"Name:Devil May Cry 2, Rank:864 Global Sales: 1.97 millions\", \"Name:Burnout Paradise, Rank:865 Global Sales: 1.97 millions\", \"Name:E.T.: The Extra Terrestrial, Rank:866 Global Sales: 1.97 millions\", \"Name:BioShock Infinite, Rank:867 Global Sales: 1.96 millions\", \"Name:Hot Shots Golf: Open Tee, Rank:868 Global Sales: 1.96 millions\", \"Name:Rad Racer, Rank:869 Global Sales: 1.96 millions\", \"Name:Soccer, Rank:870 Global Sales: 1.96 millions\", \"Name:Kirby Squeak Squad, Rank:871 Global Sales: 1.96 millions\", \"Name:Tom Clancy's Rainbow Six: Vegas, Rank:872 Global Sales: 1.96 millions\", \"Name:Destiny, Rank:873 Global Sales: 1.95 millions\", \"Name:Crash Nitro Kart, Rank:874 Global Sales: 1.95 millions\", \"Name:Grand Theft Auto: San Andreas, Rank:875 Global Sales: 1.95 millions\", \"Name:Star Wars: Dark Forces, Rank:876 Global Sales: 1.95 millions\", \"Name:NBA Street Vol. 2, Rank:877 Global Sales: 1.95 millions\", \"Name:Def Jam Vendetta, Rank:878 Global Sales: 1.94 millions\", \"Name:FIFA Soccer 09, Rank:879 Global Sales: 1.94 millions\", \"Name:Who wants to be a millionaire, Rank:880 Global Sales: 1.94 millions\", \"Name:Scooby Doo and the Cyber Chase, Rank:881 Global Sales: 1.94 millions\", \"Name:Alleyway, Rank:882 Global Sales: 1.94 millions\", \"Name:Dragon Ball Z: Budokai 3, Rank:883 Global Sales: 1.94 millions\", \"Name:Jet Moto 2, Rank:884 Global Sales: 1.94 millions\", \"Name:Tom Clancy's Ghost Recon, Rank:885 Global Sales: 1.94 millions\", \"Name:X-Men Legends, Rank:886 Global Sales: 1.93 millions\", \"Name:Batman: Arkham Origins, Rank:887 Global Sales: 1.93 millions\", \"Name:Guitar Hero: World Tour, Rank:888 Global Sales: 1.93 millions\", \"Name:Mortal Kombat II, Rank:889 Global Sales: 1.93 millions\", \"Name:Virtua Fighter 2, Rank:890 Global Sales: 1.93 millions\", \"Name:Tetris DX, Rank:891 Global Sales: 1.93 millions\", \"Name:Mortal Kombat vs. DC Universe, Rank:892 Global Sales: 1.93 millions\", \"Name:Watch Dogs, Rank:893 Global Sales: 1.93 millions\", \"Name:Mario Super Sluggers, Rank:894 Global Sales: 1.93 millions\", \"Name:Tomb Raider (2013), Rank:895 Global Sales: 1.92 millions\", \"Name:The Legend of Zelda: Oracle of Ages, Rank:896 Global Sales: 1.92 millions\", \"Name:Need for Speed: Shift, Rank:897 Global Sales: 1.92 millions\", \"Name:Monopoly, Rank:898 Global Sales: 1.92 millions\", \"Name:Red Faction, Rank:899 Global Sales: 1.92 millions\", \"Name:The Sims: Makin' Magic, Rank:900 Global Sales: 1.92 millions\", \"Name:MX Unleashed, Rank:901 Global Sales: 1.92 millions\", \"Name:PaRappa The Rapper, Rank:902 Global Sales: 1.92 millions\", \"Name:Toy Story Mania!, Rank:903 Global Sales: 1.92 millions\", \"Name:Mario Party 3, Rank:904 Global Sales: 1.91 millions\", \"Name:Star Wars: The Force Unleashed, Rank:905 Global Sales: 1.91 millions\", \"Name:Game Party 2, Rank:906 Global Sales: 1.91 millions\", \"Name:Destiny: The Taken King, Rank:907 Global Sales: 1.91 millions\", \"Name:LEGO Star Wars III: The Clone Wars, Rank:908 Global Sales: 1.91 millions\", \"Name:Star Wars Rogue Leader: Rogue Squadron II, Rank:909 Global Sales: 1.9 millions\", \"Name:Max Payne 3, Rank:910 Global Sales: 1.9 millions\", \"Name:Need for Speed Rivals, Rank:911 Global Sales: 1.89 millions\", \"Name:Madden NFL 09, Rank:912 Global Sales: 1.89 millions\", \"Name:Yokai Watch, Rank:913 Global Sales: 1.89 millions\", \"Name:Ratchet & Clank Future: A Crack in Time, Rank:914 Global Sales: 1.88 millions\", \"Name:Yu-Gi-Oh! Forbidden Memories, Rank:915 Global Sales: 1.88 millions\", \"Name:Mortal Kombat: Deception, Rank:916 Global Sales: 1.88 millions\", \"Name:Hot Shots Golf 2, Rank:917 Global Sales: 1.88 millions\", \"Name:Medal of Honor: European Assault (All Region sales), Rank:918 Global Sales: 1.88 millions\", \"Name:WCW Nitro, Rank:919 Global Sales: 1.88 millions\", \"Name:High School Musical: Sing It!, Rank:920 Global Sales: 1.87 millions\", \"Name:Star Fox Adventures, Rank:921 Global Sales: 1.87 millions\", \"Name:FIFA 2000, Rank:922 Global Sales: 1.87 millions\", \"Name:Dynasty Warriors 3, Rank:923 Global Sales: 1.87 millions\", \"Name:Donkey Kong Country Returns, Rank:924 Global Sales: 1.87 millions\", \"Name:The Legend of Zelda: Oracle of Seasons, Rank:925 Global Sales: 1.86 millions\", \"Name:Madden NFL 06, Rank:926 Global Sales: 1.86 millions\", \"Name:Shrek 2, Rank:927 Global Sales: 1.86 millions\", \"Name:The Legend of Dragoon, Rank:928 Global Sales: 1.86 millions\", \"Name:Turok 2: Seeds of Evil, Rank:929 Global Sales: 1.86 millions\", \"Name:SingStar, Rank:930 Global Sales: 1.86 millions\", \"Name:LittleBigPlanet 3, Rank:931 Global Sales: 1.86 millions\", \"Name:NBA Live 2002, Rank:932 Global Sales: 1.86 millions\", \"Name:Phineas and Ferb, Rank:933 Global Sales: 1.86 millions\", \"Name:Chrono Cross, Rank:934 Global Sales: 1.86 millions\", \"Name:GoldenEye 007 (2010), Rank:935 Global Sales: 1.86 millions\", \"Name:Mario Party: Island Tour, Rank:936 Global Sales: 1.85 millions\", \"Name:Jak 3, Rank:937 Global Sales: 1.85 millions\", \"Name:Rayman Raving Rabbids 2, Rank:938 Global Sales: 1.85 millions\", \"Name:Kingdom Hearts: Chain of Memories, Rank:939 Global Sales: 1.85 millions\", \"Name:Pinball, Rank:940 Global Sales: 1.85 millions\", \"Name:inFAMOUS 2, Rank:941 Global Sales: 1.85 millions\", \"Name:Gran Turismo Concept 2001 Tokyo, Rank:942 Global Sales: 1.84 millions\", \"Name:Demon's Souls, Rank:943 Global Sales: 1.84 millions\", \"Name:NCAA Football 06, Rank:944 Global Sales: 1.84 millions\", \"Name:Hey You, Pikachu!, Rank:945 Global Sales: 1.83 millions\", \"Name:2 Games in 1: Sonic Advance & ChuChu Rocket!, Rank:946 Global Sales: 1.83 millions\", \"Name:World of Warcraft: Mists of Pandaria, Rank:947 Global Sales: 1.83 millions\", \"Name:Jet Moto, Rank:948 Global Sales: 1.83 millions\", \"Name:Just Cause 3, Rank:949 Global Sales: 1.83 millions\", \"Name:Secret of Mana, Rank:950 Global Sales: 1.83 millions\", \"Name:The Orange Box, Rank:951 Global Sales: 1.83 millions\", \"Name:Air Combat, Rank:952 Global Sales: 1.83 millions\", \"Name:Kirby: Triple Deluxe, Rank:953 Global Sales: 1.82 millions\", \"Name:Sonic & Knuckles, Rank:954 Global Sales: 1.82 millions\", \"Name:Namco Museum, Rank:955 Global Sales: 1.82 millions\", \"Name:The Sims: Hot Date, Rank:956 Global Sales: 1.82 millions\", \"Name:Metroid Prime 3: Corruption, Rank:957 Global Sales: 1.82 millions\", \"Name:Dragon Quest VI: Realms of Revelation, Rank:958 Global Sales: 1.81 millions\", \"Name:The Evil Within, Rank:959 Global Sales: 1.81 millions\", \"Name:DDRMAX2: Dance Dance Revolution, Rank:960 Global Sales: 1.81 millions\", \"Name:Crazy Taxi, Rank:961 Global Sales: 1.81 millions\", \"Name:Virtua Fighter 4, Rank:962 Global Sales: 1.81 millions\", \"Name:Sly 2: Band of Thieves, Rank:963 Global Sales: 1.81 millions\", \"Name:Guitar Hero: World Tour, Rank:964 Global Sales: 1.8 millions\", \"Name:Sonic Advance 2, Rank:965 Global Sales: 1.8 millions\", \"Name:Madden NFL 07, Rank:966 Global Sales: 1.8 millions\", \"Name:NBA 2K11, Rank:967 Global Sales: 1.8 millions\", \"Name:NFL GameDay 2000, Rank:968 Global Sales: 1.8 millions\", \"Name:Call of Duty: Black Ops 3, Rank:969 Global Sales: 1.79 millions\", \"Name:Disney's The Lion King, Rank:970 Global Sales: 1.79 millions\", \"Name:Beyond: Two Souls, Rank:971 Global Sales: 1.79 millions\", \"Name:Kinect Star Wars, Rank:972 Global Sales: 1.78 millions\", \"Name:Midnight Club II, Rank:973 Global Sales: 1.78 millions\", \"Name:Dragon Quest Monsters: Joker, Rank:974 Global Sales: 1.78 millions\", \"Name:SpongeBob SquarePants: SuperSponge, Rank:975 Global Sales: 1.78 millions\", \"Name:The Getaway: Black Monday, Rank:976 Global Sales: 1.78 millions\", \"Name:Professor Layton and the Mask of Miracle, Rank:977 Global Sales: 1.78 millions\", \"Name:Just Cause 2, Rank:978 Global Sales: 1.78 millions\", \"Name:Dragon's Dogma, Rank:979 Global Sales: 1.78 millions\", \"Name:The Legend of Zelda: The Wind Waker, Rank:980 Global Sales: 1.77 millions\", \"Name:50 Cent: Bulletproof, Rank:981 Global Sales: 1.77 millions\", \"Name:High School Musical: Sing It!, Rank:982 Global Sales: 1.77 millions\", \"Name:Wii Party U, Rank:983 Global Sales: 1.77 millions\", \"Name:Madden NFL 25, Rank:984 Global Sales: 1.77 millions\", \"Name:Final Fantasy II, Rank:985 Global Sales: 1.77 millions\", \"Name:Kirby 64: The Crystal Shards, Rank:986 Global Sales: 1.77 millions\", \"Name:Dead or Alive 3, Rank:987 Global Sales: 1.77 millions\", \"Name:UFC 2009 Undisputed, Rank:988 Global Sales: 1.77 millions\", \"Name:Metroid II: Return of Samus, Rank:989 Global Sales: 1.76 millions\", \"Name:WWF Attitude, Rank:990 Global Sales: 1.76 millions\", \"Name:The SpongeBob SquarePants Movie, Rank:991 Global Sales: 1.76 millions\", \"Name:Golden Sun, Rank:992 Global Sales: 1.76 millions\", \"Name:Sonic the Hedgehog 3, Rank:993 Global Sales: 1.76 millions\", \"Name:Kid Icarus, Rank:994 Global Sales: 1.76 millions\", \"Name:Def Jam: Fight for NY, Rank:995 Global Sales: 1.76 millions\", \"Name:Tom Clancy's Ghost Recon, Rank:996 Global Sales: 1.76 millions\", \"Name:State of Emergency, Rank:997 Global Sales: 1.76 millions\", \"Name:BioShock Infinite, Rank:998 Global Sales: 1.76 millions\", \"Name:Hitman: Absolution, Rank:999 Global Sales: 1.76 millions\", \"Name:2 Games in 1 Double Pack: The Incredibles / Finding Nemo: The Continuing Adventures, Rank:1000 Global Sales: 1.76 millions\", \"Name:Call of Duty: Black Ops 3, Rank:1001 Global Sales: 1.76 millions\", \"Name:The Urbz: Sims in the City, Rank:1002 Global Sales: 1.76 millions\", \"Name:FIFA Soccer 08, Rank:1003 Global Sales: 1.76 millions\", \"Name:Star Wars: Starfighter, Rank:1004 Global Sales: 1.76 millions\", \"Name:Madden NFL 2000, Rank:1005 Global Sales: 1.75 millions\", \"Name:Kingdom Hearts, Rank:1006 Global Sales: 1.75 millions\"], \"type\": \"scatter3d\", \"x\": [2006.0, 1985.0, 2008.0, 2009.0, 1996.0, 1989.0, 2006.0, 2006.0, 2009.0, 1984.0, 2005.0, 2005.0, 1999.0, 2007.0, 2009.0, 2010.0, 2013.0, 2004.0, 1990.0, 2005.0, 2006.0, 1989.0, 1988.0, 2013.0, 2002.0, 2002.0, 2010.0, 2005.0, 2001.0, 2011.0, 1998.0, 2010.0, 2013.0, 2015.0, 2012.0, 2012.0, 2009.0, 2011.0, 2001.0, 2008.0, 2010.0, 2005.0, 2011.0, 2007.0, 2014.0, 2009.0, 1996.0, 2004.0, 2007.0, 2014.0, 1992.0, 2008.0, 1997.0, 2011.0, 2010.0, 2009.0, 2008.0, 1993.0, 2004.0, 2004.0, 2011.0, 2013.0, 2010.0, 1996.0, 2012.0, 2012.0, 1997.0, 2013.0, 2010.0, 1999.0, 2007.0, 1994.0, 2013.0, 2012.0, 2007.0, 2011.0, 1992.0, 2015.0, 2010.0, 2004.0, 2007.0, 2012.0, 2012.0, 2009.0, 1997.0, 2007.0, 2001.0, 1999.0, 2008.0, 1982.0, 2005.0, 2010.0, 2015.0, 2014.0, 1998.0, 1997.0, 1988.0, 2014.0, 2008.0, 2011.0, 2006.0, 2015.0, 2009.0, 2011.0, 2003.0, 1998.0, 1998.0, 2001.0, 2014.0, 2015.0, 2003.0, 2012.0, 2013.0, 2004.0, 2002.0, 2011.0, 1996.0, 2010.0, 2008.0, 2009.0, 2007.0, 2011.0, 2005.0, 2010.0, 2014.0, 2010.0, 2011.0, 1986.0, 2012.0, 2001.0, 2004.0, 2002.0, 2000.0, 2009.0, 2010.0, 2002.0, 1992.0, 2004.0, 1999.0, 2010.0, 2011.0, 2006.0, 2001.0, 1992.0, 2008.0, 1998.0, 2013.0, 2006.0, 2008.0, 2009.0, 2007.0, 1998.0, 1996.0, 2006.0, 2014.0, 1988.0, 2009.0, 1999.0, 2007.0, 2011.0, 2009.0, 2008.0, 2001.0, 2001.0, 2001.0, 1999.0, 2008.0, 2001.0, 2014.0, 2009.0, 1989.0, 1999.0, 2012.0, 2000.0, 2003.0, 1999.0, 2009.0, 2007.0, 1997.0, null, 2004.0, 2012.0, 2003.0, 2012.0, 1994.0, 2012.0, 2007.0, 1995.0, 2013.0, 2008.0, 2003.0, 1992.0, 2010.0, 2014.0, 1996.0, 2006.0, 2009.0, 2014.0, 2006.0, 2010.0, 1999.0, 1996.0, 1999.0, 2014.0, 1999.0, 1998.0, 2007.0, 2007.0, 2008.0, 2007.0, 2007.0, 2005.0, 2007.0, 1997.0, 2010.0, 1990.0, 2010.0, 2010.0, 2007.0, 2014.0, 1999.0, 2011.0, 2000.0, 2003.0, 2000.0, 2008.0, 2002.0, 2011.0, 1996.0, 2007.0, 1991.0, 2002.0, 2009.0, 2013.0, 2015.0, 2014.0, 2007.0, 2004.0, 1981.0, 2006.0, 2002.0, 2000.0, 2015.0, 2014.0, 2005.0, 2012.0, 2010.0, 2001.0, 2006.0, 2006.0, 1987.0, 2005.0, 2006.0, 1991.0, 2005.0, 2013.0, 2014.0, 1980.0, 2008.0, 2015.0, 2013.0, 2009.0, 2011.0, 2001.0, 2004.0, 2006.0, 1995.0, 2011.0, 2005.0, 2003.0, 2007.0, 2011.0, 2009.0, 2011.0, 1989.0, 1984.0, 1997.0, 2002.0, 2014.0, 1997.0, 1995.0, 2006.0, 2011.0, 1992.0, 2007.0, 2015.0, 2007.0, 2010.0, 2007.0, 2007.0, 2005.0, 1996.0, 2000.0, 2014.0, 1997.0, 2014.0, 1984.0, 2008.0, 2007.0, 2009.0, 2005.0, 2009.0, 2014.0, 1994.0, 2003.0, 2013.0, 2014.0, 2006.0, 2011.0, 2005.0, 1988.0, 2010.0, 2015.0, 2004.0, 2007.0, 1995.0, 1992.0, 2009.0, 2007.0, 2011.0, 2015.0, 2011.0, 2008.0, 1996.0, 2007.0, 2013.0, 2002.0, 2007.0, 2001.0, 2015.0, 1999.0, 2000.0, 2004.0, 1998.0, 2013.0, 2007.0, 2009.0, 2002.0, 2005.0, 1998.0, 2002.0, 2008.0, 2013.0, 2001.0, 1999.0, 2009.0, 2007.0, 2013.0, 2005.0, 2004.0, 1994.0, 2001.0, 2007.0, 2001.0, 2005.0, 2000.0, 1997.0, 2006.0, 2002.0, 1997.0, 2001.0, 2005.0, 2013.0, 2010.0, 2000.0, 1999.0, 2008.0, 2009.0, 2009.0, 1996.0, 2010.0, 1985.0, 2009.0, 2006.0, null, 2015.0, 2010.0, 2008.0, 2014.0, 2012.0, 2013.0, 2009.0, 2002.0, 2013.0, 2011.0, 1998.0, 1994.0, 2004.0, 1990.0, 2002.0, 2000.0, 2008.0, 2015.0, 2009.0, 1998.0, 2000.0, 2008.0, 1998.0, 2013.0, 2006.0, 2002.0, 2002.0, 2012.0, 2005.0, 2001.0, 2003.0, 2015.0, 2014.0, 2003.0, 2008.0, 2009.0, 2015.0, 1995.0, 2015.0, 2011.0, 2015.0, 2014.0, 1999.0, 1983.0, 1995.0, 2000.0, 2007.0, 2008.0, 1995.0, 2010.0, 2003.0, 2015.0, 2010.0, null, 2008.0, 2001.0, 2008.0, 2001.0, 2008.0, 2005.0, 2012.0, 2014.0, 2007.0, 2000.0, 1998.0, 1999.0, 2006.0, 2007.0, 1990.0, 2010.0, 2010.0, 2014.0, 2002.0, 2001.0, 1986.0, 2012.0, 2013.0, 1994.0, 2002.0, 2012.0, 2008.0, 2012.0, 2010.0, 2008.0, 1995.0, 2009.0, 2002.0, 1987.0, 2002.0, 2015.0, 2012.0, 2007.0, null, 2014.0, 1993.0, 2000.0, 2002.0, 2001.0, 2015.0, 2010.0, 2014.0, 2011.0, 2003.0, 2008.0, 2002.0, 2009.0, 1996.0, 2003.0, 2005.0, 2009.0, 2001.0, 2007.0, 2006.0, 2007.0, 2002.0, 2013.0, 2014.0, 2004.0, 2008.0, 2003.0, 2012.0, 2001.0, 2004.0, 2011.0, 1999.0, 2007.0, 1998.0, 2013.0, 2012.0, 2002.0, 2011.0, 1990.0, 1997.0, 1996.0, 2011.0, 2015.0, 2010.0, 2007.0, 2009.0, 2010.0, 2002.0, 2002.0, 2003.0, 1994.0, 2010.0, 2007.0, 2003.0, 2008.0, 2006.0, 1997.0, 2011.0, 1998.0, 2001.0, 1992.0, 1996.0, 2011.0, 2001.0, 2009.0, 2011.0, 2003.0, 2014.0, 2003.0, 2009.0, 2003.0, 2007.0, 2011.0, 1980.0, 1992.0, 2013.0, 2000.0, 1986.0, 2011.0, 2006.0, 2002.0, 2001.0, 2015.0, 1998.0, 2011.0, 2006.0, 2010.0, 2010.0, 2010.0, 2004.0, 2014.0, 2009.0, 2011.0, 1992.0, 2005.0, 2008.0, 1998.0, 2004.0, 2006.0, 2003.0, 2012.0, 2006.0, 1986.0, 1996.0, 2007.0, 2000.0, 2006.0, 2009.0, 2009.0, 2004.0, 2007.0, 2010.0, 2009.0, 2011.0, 2008.0, 2002.0, 2010.0, 1990.0, 2008.0, 2007.0, 2004.0, 2009.0, 2013.0, 2009.0, 2007.0, 2006.0, 2004.0, 2010.0, 2009.0, 2007.0, 2001.0, 1987.0, 2012.0, 2003.0, 2008.0, 2008.0, null, 2001.0, 2000.0, 2007.0, 1986.0, 2013.0, 2006.0, 2008.0, 1999.0, 2011.0, 2003.0, 2010.0, 2002.0, 2008.0, 2008.0, 1998.0, 2012.0, null, 2013.0, 2002.0, 2010.0, 2008.0, 1992.0, 1997.0, 1996.0, 2011.0, 2006.0, 2003.0, 1997.0, 2008.0, 1998.0, 1988.0, 2010.0, 2003.0, 2001.0, 1998.0, 2014.0, 2007.0, 2015.0, 1996.0, 1987.0, 1997.0, null, 2015.0, 2010.0, null, 1994.0, 2013.0, 2011.0, 2005.0, 2007.0, 2011.0, 1998.0, 2015.0, 2014.0, 2010.0, 2001.0, 2007.0, 2004.0, 2004.0, 2004.0, 2009.0, 2011.0, 1995.0, 2010.0, 1996.0, 1998.0, 2008.0, 2013.0, 2007.0, 2008.0, 2001.0, 2010.0, 2015.0, 2015.0, 2010.0, 2000.0, 1997.0, 2004.0, 2004.0, 1999.0, 1995.0, 1998.0, 2013.0, 2012.0, 2008.0, 2011.0, 1997.0, 2013.0, 2004.0, 2009.0, 2014.0, 2015.0, 1983.0, 2008.0, 2008.0, 2012.0, 1997.0, 2012.0, 2009.0, 2006.0, 2002.0, 2001.0, 2007.0, null, 2007.0, 2014.0, 2002.0, 1997.0, 2004.0, 2011.0, 2009.0, 2008.0, 2001.0, 2001.0, 1990.0, 2008.0, 2009.0, 2013.0, 2003.0, 2009.0, 1998.0, 2010.0, 2010.0, 2013.0, 2006.0, 2008.0, 1981.0, 2007.0, 2000.0, 1986.0, 2008.0, 2007.0, 2011.0, 2006.0, 2003.0, 1992.0, 2000.0, 2012.0, 2000.0, 2002.0, 2013.0, 2013.0, 2006.0, 2003.0, 2010.0, 1998.0, 1984.0, 2001.0, 2009.0, 2000.0, 2015.0, 1987.0, 2014.0, 2007.0, 1996.0, 1983.0, 1988.0, 1992.0, 1981.0, 2004.0, 2006.0, 2003.0, 2010.0, 2006.0, 2010.0, 2001.0, 1989.0, 2011.0, 2009.0, 2000.0, 2008.0, 2002.0, 2010.0, null, 2003.0, 2011.0, 1998.0, 2002.0, 2002.0, 2005.0, 2011.0, 2005.0, 1997.0, 2006.0, 2003.0, 2010.0, 2009.0, 2006.0, 2015.0, 2010.0, 2010.0, 2002.0, 2008.0, 2007.0, 2003.0, 2010.0, 1998.0, 1994.0, 2010.0, 2002.0, 2010.0, 2009.0, 2011.0, 2001.0, 2007.0, 2010.0, 2010.0, 2005.0, 2004.0, 1998.0, 2003.0, 2013.0, 2007.0, 2008.0, 2013.0, 2005.0, 2002.0, 2013.0, 1992.0, 2007.0, 2009.0, 2011.0, 2008.0, 2006.0, 2005.0, 2003.0, 2011.0, 2014.0, 1998.0, 2011.0, 2003.0, 2008.0, 2005.0, 2014.0, 2012.0, 2007.0, 2013.0, 2012.0, 2014.0, 1993.0, 2008.0, 1997.0, 1989.0, 2002.0, 2002.0, 1991.0, 2013.0, 2012.0, 2014.0, 2010.0, 2002.0, 2008.0, 2003.0, 2008.0, 1981.0, 2013.0, 2004.0, 1986.0, 1985.0, 2006.0, 2006.0, 2014.0, 2003.0, 2005.0, 1994.0, 2003.0, 2003.0, 2008.0, 1999.0, 2001.0, 1989.0, 2004.0, 1997.0, 2002.0, 2004.0, 2013.0, 2008.0, 1993.0, 1995.0, 1998.0, 2008.0, 2014.0, 2008.0, 2013.0, 2001.0, 2009.0, 2008.0, 2001.0, 2003.0, 2004.0, 1996.0, 2009.0, 2000.0, 2008.0, 2008.0, 2015.0, 2011.0, 2001.0, 2012.0, 2013.0, 2008.0, 2013.0, 2009.0, 1999.0, 2004.0, 1999.0, 2005.0, 1998.0, 2007.0, 2002.0, 1998.0, 2001.0, 2013.0, 2001.0, 2005.0, 2004.0, 1999.0, 1997.0, 2004.0, 2014.0, 2001.0, 2009.0, 1999.0, 2010.0, 2013.0, 2004.0, 2007.0, 2004.0, 1984.0, 2011.0, 2001.0, 2009.0, 2005.0, 1998.0, 2005.0, 2012.0, 1996.0, 2015.0, 1993.0, 2007.0, 1995.0, 2014.0, 1994.0, 2001.0, 2001.0, 2007.0, 2010.0, 2014.0, 2003.0, 2000.0, 2002.0, 2004.0, 2008.0, 2002.0, 2006.0, 2010.0, 1999.0, 2015.0, 1994.0, 2013.0, 2012.0, 2003.0, 2006.0, 2001.0, 2004.0, 2011.0, 2010.0, 2012.0, 2013.0, 2005.0, 2007.0, 2013.0, 2013.0, 1991.0, 2000.0, 2001.0, 2009.0, 1991.0, 1998.0, 2004.0, 2001.0, 1994.0, 1986.0, 2004.0, 2002.0, 2002.0, 2013.0, 2012.0, 2007.0, 2015.0, 2004.0, 2007.0, 2001.0, 1998.0, 2013.0], \"y\": [\"Nintendo\", \"Nintendo\", \"Nintendo\", \"Nintendo\", \"Nintendo\", \"Nintendo\", \"Nintendo\", \"Nintendo\", \"Nintendo\", \"Nintendo\", \"Nintendo\", \"Nintendo\", \"Nintendo\", \"Nintendo\", \"Nintendo\", \"Microsoft Game Studios\", \"Take-Two Interactive\", \"Take-Two Interactive\", \"Nintendo\", \"Nintendo\", \"Nintendo\", \"Nintendo\", \"Nintendo\", \"Take-Two Interactive\", \"Take-Two Interactive\", \"Nintendo\", \"Nintendo\", \"Nintendo\", \"Sony Computer Entertainment\", \"Activision\", \"Nintendo\", \"Activision\", \"Nintendo\", \"Activision\", \"Activision\", \"Activision\", \"Activision\", \"Activision\", \"Take-Two Interactive\", \"Nintendo\", \"Activision\", \"Nintendo\", \"Nintendo\", \"Microsoft Game Studios\", \"Take-Two Interactive\", \"Nintendo\", \"Nintendo\", \"Sony Computer Entertainment\", \"Nintendo\", \"Nintendo\", \"Nintendo\", \"Take-Two Interactive\", \"Sony Computer Entertainment\", \"Nintendo\", \"Sony Computer Entertainment\", \"Activision\", \"Take-Two Interactive\", \"Nintendo\", \"Nintendo\", \"Nintendo\", \"Ubisoft\", \"Activision\", \"Microsoft Game Studios\", \"Nintendo\", \"Nintendo\", \"Microsoft Game Studios\", \"Sony Computer Entertainment\", \"Activision\", \"Ubisoft\", \"Sony Computer Entertainment\", \"Activision\", \"Nintendo\", \"Microsoft Game Studios\", \"Nintendo\", \"Nintendo\", \"Bethesda Softworks\", \"Nintendo\", \"Electronic Arts\", \"Nintendo\", \"Microsoft Game Studios\", \"Nintendo\", \"Nintendo\", \"Electronic Arts\", \"Electronic Arts\", \"Nintendo\", \"Sega\", \"Sony Computer Entertainment\", \"SquareSoft\", \"Nintendo\", \"Atari\", \"Take-Two Interactive\", \"Nintendo\", \"Electronic Arts\", \"Activision\", \"Nintendo\", \"Sony Computer Entertainment\", \"Nintendo\", \"Nintendo\", \"Activision\", \"Electronic Arts\", \"Nintendo\", \"Activision\", \"Ubisoft\", \"Electronic Arts\", \"Electronic Arts\", \"Sony Computer Entertainment\", \"Sony Computer Entertainment\", \"Nintendo\", \"Nintendo\", \"Bethesda Softworks\", \"Nintendo\", \"Ubisoft\", \"Electronic Arts\", \"Electronic Arts\", \"Electronic Arts\", \"Sony Computer Entertainment\", \"Sony Computer Entertainment\", \"505 Games\", \"Microsoft Game Studios\", \"Sony Computer Entertainment\", \"Activision\", \"Electronic Arts\", \"Nintendo\", \"Take-Two Interactive\", \"Electronic Arts\", \"Nintendo\", \"Bethesda Softworks\", \"Nintendo\", \"Ubisoft\", \"Microsoft Game Studios\", \"Nintendo\", \"Sony Computer Entertainment\", \"Nintendo\", \"Microsoft Game Studios\", \"Take-Two Interactive\", \"Nintendo\", \"Capcom\", \"Activision\", \"GT Interactive\", \"Microsoft Game Studios\", \"Microsoft Game Studios\", \"Microsoft Game Studios\", \"Konami Digital Entertainment\", \"Sega\", \"Konami Digital Entertainment\", \"Konami Digital Entertainment\", \"Sony Computer Entertainment Europe\", \"Square Enix\", \"Sony Computer Entertainment\", \"Nintendo\", \"LucasArts\", \"Virgin Interactive\", \"Sony Computer Entertainment\", \"505 Games\", \"Activision\", \"Nintendo\", \"Ubisoft\", \"Nintendo\", \"Ubisoft\", \"Warner Bros. Interactive Entertainment\", \"Microsoft Game Studios\", \"Capcom\", \"Nintendo\", \"Nintendo\", \"Nintendo\", \"Nintendo\", \"Activision\", \"Universal Interactive\", \"Sony Computer Entertainment\", \"Square Enix\", \"Nintendo\", \"Nintendo\", \"Ubisoft\", \"SquareSoft\", \"Electronic Arts\", \"Nintendo\", \"Ubisoft\", \"Nintendo\", \"Eidos Interactive\", \"Electronic Arts\", \"Square Enix\", \"Activision\", \"Nintendo\", \"Nintendo\", \"Nintendo\", \"Electronic Arts\", \"Nintendo\", \"Nintendo\", \"Nintendo\", \"Sega\", \"Electronic Arts\", \"Nintendo\", \"Microsoft Game Studios\", \"Activision\", \"Microsoft Game Studios\", \"RedOctane\", \"Capcom\", \"Take-Two Interactive\", \"Take-Two Interactive\", \"Electronic Arts\", \"Nintendo\", \"Virgin Interactive\", \"Activision\", \"Nintendo\", \"Eidos Interactive\", \"Sony Computer Entertainment\", \"Nintendo\", \"Activision\", \"Bethesda Softworks\", \"Nintendo\", \"Sony Computer Entertainment\", \"Electronic Arts\", \"LucasArts\", \"Nintendo\", \"Capcom\", \"Nintendo\", \"Sony Computer Entertainment\", \"Activision\", \"Ubisoft\", \"Electronic Arts\", \"Sony Computer Entertainment\", \"Warner Bros. Interactive Entertainment\", \"Atari\", \"Vivendi Games\", \"Activision\", \"Nintendo\", \"Electronic Arts\", \"Microsoft Game Studios\", \"Eidos Interactive\", \"Activision\", \"Nintendo\", \"Nintendo\", \"Sega\", \"Nintendo\", \"Nintendo\", \"Sony Computer Entertainment\", \"Activision\", \"Electronic Arts\", \"Activision\", \"Electronic Arts\", \"Activision\", \"Enix Corporation\", \"Sony Computer Entertainment\", \"Activision\", \"Sony Computer Entertainment\", \"Nintendo\", \"Ubisoft\", \"Activision\", \"Konami Digital Entertainment\", \"Take-Two Interactive\", \"Nintendo\", \"Electronic Arts\", \"Sony Computer Entertainment\", \"Sega\", \"Square Enix\", \"Electronic Arts\", \"Activision\", \"Atari\", \"Microsoft Game Studios\", \"Microsoft Game Studios\", \"Nintendo\", \"Eidos Interactive\", \"Ubisoft\", \"Namco Bandai Games\", \"Konami Digital Entertainment\", \"Sony Computer Entertainment\", \"Activision\", \"Nintendo\", \"Electronic Arts\", \"Sony Computer Entertainment\", \"Sony Computer Entertainment\", \"Ubisoft\", \"Capcom\", \"Electronic Arts\", \"Palcom\", \"Nintendo\", \"Hasbro Interactive\", \"Electronic Arts\", \"Ubisoft\", \"Vivendi Games\", \"Nintendo\", \"Electronic Arts\", \"Nintendo\", \"Capcom\", \"Take-Two Interactive\", \"Bethesda Softworks\", \"Activision\", \"Bethesda Softworks\", \"Sony Computer Entertainment\", \"Microsoft Game Studios\", \"Konami Digital Entertainment\", \"Sony Computer Entertainment\", \"Namco Bandai Games\", \"Ubisoft\", \"Nintendo\", \"Sony Computer Entertainment Europe\", \"Nintendo\", \"Bethesda Softworks\", \"Nintendo\", \"Electronic Arts\", \"Namco Bandai Games\", \"Electronic Arts\", \"Ubisoft\", \"Nintendo\", \"Activision\", \"Ubisoft\", \"Nintendo\", \"Sony Computer Entertainment\", \"Bethesda Softworks\", \"Namco Bandai Games\", \"Enix Corporation\", \"Sony Computer Entertainment\", \"Take-Two Interactive\", \"Konami Digital Entertainment\", \"Nintendo\", \"Sony Computer Entertainment\", \"Nintendo\", \"Nintendo\", \"Nintendo\", \"Nintendo\", \"Warner Bros. Interactive Entertainment\", \"Sega\", \"Activision\", \"Virgin Interactive\", \"Sony Computer Entertainment\", \"Ubisoft\", \"Electronic Arts\", \"Nintendo\", \"Electronic Arts\", \"Namco Bandai Games\", \"Eidos Interactive\", \"Sony Computer Entertainment\", \"Electronic Arts\", \"Nintendo\", \"Electronic Arts\", \"Electronic Arts\", \"Nintendo\", \"Activision\", \"Take-Two Interactive\", \"Nintendo\", \"Sony Computer Entertainment\", \"Activision\", \"Sony Computer Entertainment\", \"Sony Computer Entertainment\", \"Nintendo\", \"Electronic Arts\", \"Konami Digital Entertainment\", \"Activision\", \"Capcom\", \"LucasArts\", \"Virgin Interactive\", \"Electronic Arts\", \"505 Games\", \"Nintendo\", \"LucasArts\", \"THQ\", \"Fox Interactive\", \"Take-Two Interactive\", \"Sony Computer Entertainment\", \"Eidos Interactive\", \"Electronic Arts\", \"Eidos Interactive\", \"Electronic Arts\", \"Electronic Arts\", \"THQ\", \"Sony Computer Entertainment\", \"Electronic Arts\", \"Sega\", \"Capcom\", \"Nintendo\", \"Ubisoft\", \"Nintendo\", \"Eidos Interactive\", \"Nintendo\", \"Electronic Arts\", \"Electronic Arts\", \"Electronic Arts\", \"Activision\", \"Ubisoft\", \"Ubisoft\", \"Capcom\", \"Take-Two Interactive\", \"Namco Bandai Games\", \"Electronic Arts\", \"Sony Computer Entertainment\", \"Take-Two Interactive\", \"SquareSoft\", \"Activision\", \"Nintendo\", \"Electronic Arts\", \"Sony Computer Entertainment\", \"Warner Bros. Interactive Entertainment\", \"Konami Digital Entertainment\", \"Nintendo\", \"Acclaim Entertainment\", \"Nintendo\", \"Nintendo\", \"THQ\", \"Ubisoft\", \"Nintendo\", \"Electronic Arts\", \"Sony Computer Entertainment\", \"Nintendo\", \"LucasArts\", \"Take-Two Interactive\", \"Electronic Arts\", \"Ubisoft\", \"Activision\", \"Activision\", \"Nintendo\", \"Sony Computer Entertainment\", \"Capcom\", \"Sony Computer Entertainment\", \"Electronic Arts\", \"Take-Two Interactive\", \"Electronic Arts\", \"Nintendo\", \"Electronic Arts\", \"Nintendo\", \"Nintendo\", \"THQ\", \"Square Enix\", \"Sony Computer Entertainment\", \"Enix Corporation\", \"MTV Games\", \"Atari\", \"Nintendo\", \"Bethesda Softworks\", \"Warner Bros. Interactive Entertainment\", \"Nintendo\", \"Sony Computer Entertainment Europe\", \"Disney Interactive Studios\", \"Nintendo\", \"Warner Bros. Interactive Entertainment\", \"Sega\", \"Capcom\", \"Microsoft Game Studios\", \"Electronic Arts\", \"Activision\", \"Electronic Arts\", \"Nintendo\", \"Nintendo\", \"Ubisoft\", \"Enix Corporation\", \"Sony Computer Entertainment\", \"Electronic Arts\", \"Electronic Arts\", \"Atari\", \"Electronic Arts\", \"Namco Bandai Games\", \"Take-Two Interactive\", \"Nintendo\", \"Nintendo\", \"Electronic Arts\", \"Electronic Arts\", \"Activision\", \"Ubisoft\", \"Disney Interactive Studios\", \"THQ\", \"Ubisoft\", \"Sony Computer Entertainment\", \"Ubisoft\", \"Nintendo\", \"THQ\", \"Microsoft Game Studios\", \"Take-Two Interactive\", \"Atari\", null, \"Warner Bros. Interactive Entertainment\", \"Nintendo\", \"Electronic Arts\", \"Konami Digital Entertainment\", \"Capcom\", \"Nintendo\", \"Electronic Arts\", \"Electronic Arts\", \"Electronic Arts\", \"Sega\", \"Nintendo\", \"Eidos Interactive\", \"Capcom\", \"Nintendo\", \"Sony Computer Entertainment\", \"THQ\", \"Sony Computer Entertainment\", \"Atari\", \"Microsoft Game Studios\", \"Nintendo\", \"505 Games\", \"Nintendo\", \"Electronic Arts\", \"Electronic Arts\", \"Sega\", \"Sega\", \"Konami Digital Entertainment\", \"Electronic Arts\", \"Sony Computer Entertainment\", \"Activision\", \"Majesco Entertainment\", \"Sony Computer Entertainment\", \"Ubisoft\", \"Codemasters\", \"Activision\", \"Electronic Arts\", \"Ubisoft\", \"Warner Bros. Interactive Entertainment\", \"Nintendo\", \"Nintendo\", \"Virgin Interactive\", \"Activision\", \"Electronic Arts\", \"Ubisoft\", \"Take-Two Interactive\", \"Electronic Arts\", \"Electronic Arts\", \"THQ\", \"Nintendo\", \"THQ\", \"Red Orb\", \"Electronic Arts\", \"Ubisoft\", \"THQ\", \"LucasArts\", \"Nintendo\", \"Sony Computer Entertainment\", \"Sony Computer Entertainment\", \"Sony Computer Entertainment\", \"THQ\", \"Enix Corporation\", \"GT Interactive\", \"Electronic Arts\", \"Electronic Arts\", \"Nintendo\", \"Nintendo\", \"Sony Computer Entertainment\", \"Sony Computer Entertainment\", \"Sony Computer Entertainment\", \"Namco Bandai Games\", \"Electronic Arts\", \"Sega\", \"THQ\", \"Atari\", \"Nintendo\", \"Ubisoft\", \"Nintendo\", \"Nintendo\", \"Take-Two Interactive\", \"Activision\", \"Nintendo\", \"Virgin Interactive\", \"Warner Bros. Interactive Entertainment\", \"Nintendo\", \"Electronic Arts\", \"LucasArts\", \"Electronic Arts\", \"Nintendo\", \"Electronic Arts\", \"Electronic Arts\", \"Level 5\", \"Electronic Arts\", \"Square Enix\", \"Arena Entertainment\", \"Activision\", \"Activision\", \"Electronic Arts\", \"Microsoft Game Studios\", \"Disney Interactive Studios\", \"Ubisoft\", \"Activision\", \"Electronic Arts\", \"Nintendo\", \"Nintendo\", \"LucasArts\", \"Take-Two Interactive\", \"Sony Computer Entertainment\", \"Microsoft Game Studios\", \"Sony Computer Entertainment\", \"Sega\", \"Nintendo\", \"Electronic Arts\", \"Electronic Arts\", \"Take-Two Interactive\", \"Nintendo\", \"Electronic Arts\", \"Nintendo\", \"Sega\", \"Electronic Arts\", \"Sony Computer Entertainment\", \"Electronic Arts\", \"Sony Computer Entertainment\", \"Sony Computer Entertainment\", \"Take-Two Interactive\", \"Capcom\", \"THQ\", \"Sony Computer Entertainment\", \"Nintendo\", \"Electronic Arts\", \"Electronic Arts\", \"Sega\", \"Enix Corporation\", \"Electronic Arts\", \"Nintendo\", \"Konami Digital Entertainment\", \"Electronic Arts\", \"Atari\", \"Acclaim Entertainment\", \"Nintendo\", \"Midway Games\", \"Capcom\", \"Square Enix\", \"Activision\", \"Konami Digital Entertainment\", \"Nintendo\", \"THQ\", \"Take-Two Interactive\", \"Warner Bros. Interactive Entertainment\", \"Midway Games\", \"Sony Computer Entertainment\", \"Disney Interactive Studios\", \"Eidos Interactive\", \"Take-Two Interactive\", \"Electronic Arts\", \"Take-Two Interactive\", \"Nintendo\", \"THQ\", \"Take-Two Interactive\", \"SquareSoft\", \"SquareSoft\", \"Sony Computer Entertainment\", \"Microsoft Game Studios\", \"Electronic Arts\", \"Electronic Arts\", \"Red Orb\", \"Ubisoft\", \"Sega\", \"Nintendo\", \"Konami Digital Entertainment\", \"Atari\", \"Sony Computer Entertainment\", \"Capcom\", \"Microsoft Game Studios\", \"Electronic Arts\", \"Electronic Arts\", \"JVC\", \"Nintendo\", \"Electronic Arts\", \"Konami Digital Entertainment\", \"Electronic Arts\", \"505 Games\", \"LucasArts\", \"Hasbro Interactive\", \"Warner Bros. Interactive Entertainment\", \"Deep Silver\", \"RedOctane\", \"LucasArts\", \"Microsoft Game Studios\", \"THQ\", \"Sony Computer Entertainment\", \"Take-Two Interactive\", \"Electronic Arts\", \"Konami Digital Entertainment\", \"Electronic Arts\", \"Vivendi Games\", \"THQ\", \"Activision\", \"Electronic Arts\", \"Microsoft Game Studios\", \"Nintendo\", \"Warner Bros. Interactive Entertainment\", \"Nintendo\", \"Eidos Interactive\", \"Take-Two Interactive\", \"Activision\", \"THQ\", \"Ubisoft\", \"Capcom\", \"Electronic Arts\", \"Nintendo\", \"Take-Two Interactive\", \"Ubisoft\", \"Nintendo\", \"Take-Two Interactive\", \"Electronic Arts\", \"Nintendo\", \"Electronic Arts\", \"SquareSoft\", \"989 Studios\", \"Warner Bros. Interactive Entertainment\", \"NCSoft\", \"Nintendo\", \"Deep Silver\", \"Eidos Interactive\", \"Sony Computer Entertainment\", \"Electronic Arts\", \"Konami Digital Entertainment\", \"Ubisoft\", \"Level 5\", \"Nintendo\", \"Electronic Arts\", \"LucasArts\", \"Take-Two Interactive\", \"Codemasters\", \"Nintendo\", \"Sega\", \"Sega\", \"Nintendo\", \"Nintendo\", \"Activision\", \"Activision\", \"Capcom\", \"Sony Computer Entertainment Europe\", \"Capcom\", \"UEP Systems\", \"Nintendo\", \"Electronic Arts\", \"Nintendo\", \"Square Enix\", \"Sega\", \"Vivendi Games\", \"Konami Digital Entertainment\", \"Activision\", \"Konami Digital Entertainment\", \"Nintendo\", \"Ubisoft\", \"Warner Bros. Interactive Entertainment\", \"Nintendo\", \"Electronic Arts\", \"Take-Two Interactive\", \"Ubisoft\", \"Capcom\", \"Electronic Arts\", \"Parker Bros.\", \"Activision\", \"Nintendo\", \"Namco Bandai Games\", \"Sega\", \"Disney Interactive Studios\", \"Konami Digital Entertainment\", \"THQ\", \"Activision\", \"Nintendo\", \"Nintendo\", \"Square Enix\", \"Konami Digital Entertainment\", \"THQ\", \"Microsoft Game Studios\", \"Electronic Arts\", \"Nintendo\", \"Nintendo\", \"Square Enix\", \"Nintendo\", \"Nintendo\", \"Electronic Arts\", \"Ubisoft\", \"Sony Computer Entertainment\", \"Ubisoft\", \"Nintendo\", \"Electronic Arts\", \"Activision\", \"Nintendo\", \"Nintendo\", \"Nintendo\", \"Maxis\", \"Imagic\", \"Konami Digital Entertainment\", \"Nintendo\", \"SquareSoft\", \"Disney Interactive Studios\", \"Square Enix\", \"Nintendo\", \"Microsoft Game Studios\", \"Nintendo\", \"Take-Two Interactive\", \"Take-Two Interactive\", \"Activision\", \"Konami Digital Entertainment\", \"Electronic Arts\", \"Nintendo\", \"MTV Games\", \"Tecmo Koei\", \"Warner Bros. Interactive Entertainment\", \"SquareSoft\", \"THQ\", \"Microsoft Game Studios\", \"Electronic Arts\", \"Valve Software\", \"Capcom\", \"ASCII Entertainment\", \"Capcom\", \"THQ\", \"Take-Two Interactive\", \"Mindscape\", \"Electronic Arts\", \"Electronic Arts\", \"Konami Digital Entertainment\", \"Activision\", \"THQ\", \"Electronic Arts\", \"Konami Digital Entertainment\", \"Nintendo\", \"Take-Two Interactive\", \"Electronic Arts\", \"Activision\", \"Electronic Arts\", \"Take-Two Interactive\", \"Square Enix\", \"THQ\", \"Namco Bandai Games\", \"Konami Digital Entertainment\", \"Electronic Arts\", \"Electronic Arts\", \"Ubisoft\", \"Nintendo\", \"THQ\", \"Namco Bandai Games\", \"Namco Bandai Games\", \"Nintendo\", \"Electronic Arts\", \"Take-Two Interactive\", \"Take-Two Interactive\", \"Nintendo\", \"Infogrames\", \"Activision\", \"Arena Entertainment\", \"Microsoft Game Studios\", \"Square Enix\", \"Microsoft Game Studios\", \"Ubisoft\", \"Sony Computer Entertainment\", \"Ubisoft\", \"Nintendo\", \"Electronic Arts\", \"Electronic Arts\", \"Nintendo\", \"Ubisoft\", \"Electronic Arts\", \"Electronic Arts\", \"Activision\", \"Electronic Arts\", \"Microsoft Game Studios\", \"Midway Games\", \"Warner Bros. Interactive Entertainment\", \"Nintendo\", \"Sony Computer Entertainment\", \"Nintendo\", \"Midway Games\", \"Activision\", \"Nintendo\", \"Electronic Arts\", \"Electronic Arts\", \"Nintendo\", \"Electronic Arts\", \"Capcom\", \"Electronic Arts\", \"Sega\", \"Universal Interactive\", \"Activision\", \"Capcom\", \"Electronic Arts\", \"Atari\", \"Take-Two Interactive\", \"Sony Computer Entertainment\", \"Nintendo\", \"Nintendo\", \"Nintendo\", \"Ubisoft\", \"Activision\", \"Vivendi Games\", \"Take-Two Interactive\", \"LucasArts\", \"Electronic Arts\", \"Electronic Arts\", \"Electronic Arts\", \"Disney Interactive Studios\", \"THQ\", \"Nintendo\", \"Atari\", \"Sony Computer Entertainment\", \"Ubisoft\", \"Activision\", \"Warner Bros. Interactive Entertainment\", \"Activision\", \"Acclaim Entertainment\", \"Sega\", \"Nintendo\", \"Midway Games\", \"Ubisoft\", \"Nintendo\", \"Square Enix\", \"Nintendo\", \"Electronic Arts\", \"Electronic Arts\", \"THQ\", \"Electronic Arts\", \"THQ\", \"Sony Computer Entertainment\", \"Disney Interactive Studios\", \"Nintendo\", \"LucasArts\", \"Midway Games\", \"Activision\", \"LucasArts\", \"LucasArts\", \"Take-Two Interactive\", \"Electronic Arts\", \"Electronic Arts\", \"Nintendo\", \"Sony Computer Entertainment\", \"Konami Digital Entertainment\", \"Midway Games\", \"Sony Computer Entertainment\", \"Electronic Arts\", \"THQ\", \"Disney Interactive Studios\", \"Nintendo\", \"Electronic Arts\", \"THQ\", \"Nintendo\", \"Nintendo\", \"Electronic Arts\", \"Activision\", \"Sony Computer Entertainment\", \"Acclaim Entertainment\", \"Sony Computer Entertainment\", \"Sony Computer Entertainment\", \"Electronic Arts\", \"Disney Interactive Studios\", \"SquareSoft\", \"Activision\", \"Nintendo\", \"Sony Computer Entertainment\", \"Ubisoft\", \"Square Enix\", \"Nintendo\", \"Sony Computer Entertainment\", \"Unknown\", \"Namco Bandai Games\", \"Electronic Arts\", \"Nintendo\", \"THQ\", \"Activision\", \"Sony Computer Entertainment\", \"Square Enix\", \"SquareSoft\", \"Electronic Arts\", \"Sony Computer Entertainment\", \"Nintendo\", \"Sega\", \"Namco Bandai Games\", \"Electronic Arts\", \"Nintendo\", \"Nintendo\", \"Bethesda Softworks\", \"Konami Digital Entertainment\", \"Sega\", \"Sega\", \"Sony Computer Entertainment\", \"Activision\", \"Sega\", \"Electronic Arts\", \"Take-Two Interactive\", \"989 Studios\", \"Activision\", \"Virgin Interactive\", \"Sony Computer Entertainment\", \"Microsoft Game Studios\", \"Take-Two Interactive\", \"Square Enix\", \"THQ\", \"Sony Computer Entertainment\", \"Nintendo\", \"Square Enix\", \"Capcom\", \"Nintendo\", \"Vivendi Games\", \"Disney Interactive Studios\", \"Nintendo\", \"Electronic Arts\", \"Square\", \"Nintendo\", \"Microsoft Game Studios\", \"THQ\", \"Nintendo\", \"Acclaim Entertainment\", \"THQ\", \"Nintendo\", \"Sega\", \"Nintendo\", \"Electronic Arts\", \"Ubisoft\", \"Take-Two Interactive\", \"Take-Two Interactive\", \"Square Enix\", \"THQ\", \"Activision\", \"Electronic Arts\", \"Electronic Arts\", \"Activision\", \"Electronic Arts\", \"Square Enix\"], \"z\": [1.0, 0.47524385726632923, 0.4206692184220274, 0.38585010495122857, 0.3657241634769725, 0.35201876774910484, 0.348931966909495, 0.3367082355846401, 0.3317693542412644, 0.3279417212001482, 0.28410914927768866, 0.26756389677737996, 0.26361279170267937, 0.2589208544264724, 0.25003086800839613, 0.24780837140387704, 0.2426225459933325, 0.2353376960118533, 0.23286825534016545, 0.22805284603037412, 0.205087047783677, 0.20237066304482038, 0.19175206815656257, 0.18063958513396716, 0.1777997283615261, 0.17409556735399434, 0.1675515495740215, 0.16730460550685272, 0.16335350043215213, 0.16063711569329547, 0.15915545129028277, 0.15915545129028277, 0.15557476231633535, 0.15421656994690705, 0.15162365724163476, 0.147919496234103, 0.14520311149524634, 0.14458575132732437, 0.14014075811828622, 0.13939992591677985, 0.13557229287566366, 0.12989257933078158, 0.12915174712927524, 0.12828744289418448, 0.12631189035683418, 0.12532411408815905, 0.12520064205457465, 0.12236078528213361, 0.1206321768119521, 0.11828620817384863, 0.11643412767008272, 0.11445857513273244, 0.11359427089764168, 0.11161871836029139, 0.11137177429312262, 0.11038399802444747, 0.10890233362143475, 0.10865538955426597, 0.10791455735275961, 0.10705025311766886, 0.10507470058031856, 0.10445734041239661, 0.10038276330411164, 0.10025929127052723, 0.09964193110260527, 0.09890109890109891, 0.09840721076676134, 0.09680207433016422, 0.09593777009507347, 0.0955673539943203, 0.09346832942338561, 0.09322138535621684, 0.09198666502037288, 0.09062847265094456, 0.08976416841585382, 0.08754167181133474, 0.08655389554265959, 0.08322015063588098, 0.08322015063588098, 0.08322015063588098, 0.08235584640079023, 0.08124459809853068, 0.08013334979627115, 0.07852821335967403, 0.07828126929250526, 0.07791085319175207, 0.07778738115816769, 0.07544141252006421, 0.07519446845289542, 0.07482405235214223, 0.0737128040498827, 0.07334238794912953, 0.07309544388196074, 0.07223113964686999, 0.07223113964686999, 0.0719841955797012, 0.07050253117668849, 0.07037905914310409, 0.06939128287442894, 0.06902086677367576, 0.06865045067292258, 0.0685269786393382, 0.06815656253858501, 0.06766267440424745, 0.06729225830349427, 0.0667983701691567, 0.06642795406840352, 0.06568712186689715, 0.06432892949746882, 0.06432892949746882, 0.06420545746388444, 0.06371156932954686, 0.06358809729596247, 0.06358809729596247, 0.06272379306087172, 0.06272379306087172, 0.06260032102728733, 0.06247684899370293, 0.06185948882578096, 0.061489072725027794, 0.06136560069144339, 0.06099518459069022, 0.06074824052352142, 0.05988393628843067, 0.05976046425484628, 0.05976046425484628, 0.0593900481540931, 0.058772687986171135, 0.05864921595258674, 0.05778491171749599, 0.057537967650327204, 0.05741449561674281, 0.057291023583158414, 0.056920607482405246, 0.05667366341523645, 0.056303247314483267, 0.056179775280898875, 0.0559328312137301, 0.05580935918014569, 0.055438943079392525, 0.055438943079392525, 0.05383380664279541, 0.05309297444128905, 0.052846030374120265, 0.052846030374120265, 0.052846030374120265, 0.0523521422397827, 0.051858254105445124, 0.05148783800469194, 0.050500061736016795, 0.0503765897024324, 0.05025311766884801, 0.049265341400172864, 0.049018397333004074, 0.04815409309791333, 0.04728978886282258, 0.047166316829238185, 0.046919372762069395, 0.046919372762069395, 0.04667242869490061, 0.04642548462773182, 0.04630201259414743, 0.04617854056056304, 0.04593159649339425, 0.045808124459809856, 0.045684652426225464, 0.045437708359056674, 0.04531423632547228, 0.04531423632547228, 0.04457340412396593, 0.044326460056797135, 0.04395604395604395, 0.04383257192245956, 0.04383257192245956, 0.043709099888875176, 0.04346215582170638, 0.04346215582170638, 0.04333868378812199, 0.04309173972095321, 0.04296826768736882, 0.04272132362020003, 0.04259785158661564, 0.04259785158661564, 0.042474379553031245, 0.042474379553031245, 0.04235090751944685, 0.042227435485862455, 0.04198049141869367, 0.04198049141869367, 0.04185701938510927, 0.04173354735152488, 0.04173354735152488, 0.04173354735152488, 0.04173354735152488, 0.04161007531794049, 0.04161007531794049, 0.0414866032843561, 0.041116187183602916, 0.041116187183602916, 0.041116187183602916, 0.040992715150018524, 0.040745771082849734, 0.04037535498209655, 0.04037535498209655, 0.04025188294851216, 0.04012841091492777, 0.04012841091492777, 0.03988146684775899, 0.039634522780590195, 0.039634522780590195, 0.03938757871342142, 0.03901716261266824, 0.038893690579083845, 0.038646746511915055, 0.03852327447833066, 0.03827633041116187, 0.03815285837757748, 0.03802938634399309, 0.03802938634399309, 0.0379059143104087, 0.037535498209655516, 0.037165082108902334, 0.03679466600814916, 0.03642424990739598, 0.036177305840227186, 0.036177305840227186, 0.036053833806642795, 0.03568341770588961, 0.03555994567230522, 0.035436473638720836, 0.035313001605136445, 0.03518952957155204, 0.03494258550438326, 0.03494258550438326, 0.03481911347079887, 0.03457216940363008, 0.0343252253364613, 0.0343252253364613, 0.033954809235708115, 0.033831337202123724, 0.03370786516853933, 0.03358439313495493, 0.03358439313495493, 0.03333744906778615, 0.03333744906778615, 0.03321397703420176, 0.03296703296703297, 0.032843560933448576, 0.032596616866279786, 0.032596616866279786, 0.032473144832695394, 0.032349672799111, 0.03210272873194221, 0.03197925669835782, 0.03185578466477343, 0.03160884059760464, 0.03160884059760464, 0.03160884059760464, 0.03160884059760464, 0.030991480429682677, 0.030868008396098285, 0.030868008396098285, 0.030744536362513897, 0.030744536362513897, 0.030621064328929505, 0.030497592295345103, 0.03037412026176071, 0.03037412026176071, 0.03037412026176071, 0.030250648228176323, 0.030250648228176323, 0.03012717619459193, 0.03012717619459193, 0.03012717619459193, 0.02988023212742314, 0.02975676009383875, 0.02975676009383875, 0.029509816026669956, 0.029509816026669956, 0.029262871959501176, 0.029262871959501176, 0.029139399925916784, 0.029015927892332385, 0.029015927892332385, 0.029015927892332385, 0.028892455858747994, 0.028892455858747994, 0.028768983825163602, 0.028645511791579214, 0.028522039757994812, 0.028522039757994812, 0.02839856772441042, 0.02839856772441042, 0.02815162365724164, 0.02815162365724164, 0.028028151623657238, 0.027904679590072846, 0.027904679590072846, 0.027781207556488458, 0.027657735522904067, 0.02753426348931967, 0.02679343128781331, 0.02679343128781331, 0.02666995925422892, 0.026546487220644524, 0.026423015187060132, 0.026423015187060132, 0.026299543153475737, 0.026299543153475737, 0.02617607111989135, 0.02617607111989135, 0.02617607111989135, 0.025929127052722562, 0.025929127052722562, 0.025805655019138164, 0.025805655019138164, 0.025682182985553775, 0.025682182985553775, 0.02555871095196938, 0.02543523891838499, 0.0251882948512162, 0.025064822817631807, 0.025064822817631807, 0.024941350784047415, 0.024941350784047415, 0.02481787875046302, 0.02481787875046302, 0.02481787875046302, 0.02444746264970984, 0.02444746264970984, 0.024323990616125453, 0.024200518582541054, 0.024077046548956666, 0.024077046548956666, 0.023953574515372267, 0.023953574515372267, 0.023706630448203484, 0.023706630448203484, 0.023583158414619092, 0.023459686381034697, 0.023459686381034697, 0.023459686381034697, 0.023336214347450306, 0.023336214347450306, 0.02321274231386591, 0.02321274231386591, 0.02321274231386591, 0.02321274231386591, 0.02308927028028152, 0.022965798246697124, 0.022965798246697124, 0.022965798246697124, 0.022965798246697124, 0.022842326213112732, 0.022718854179528337, 0.022595382145943945, 0.022348438078775158, 0.02210149401160637, 0.02210149401160637, 0.02210149401160637, 0.021978021978021976, 0.021978021978021976, 0.021978021978021976, 0.021978021978021976, 0.021854549944437588, 0.021854549944437588, 0.021854549944437588, 0.021854549944437588, 0.02173107791085319, 0.02173107791085319, 0.0216076058772688, 0.0216076058772688, 0.0216076058772688, 0.0216076058772688, 0.02148413384368441, 0.02148413384368441, 0.021360661810100014, 0.021360661810100014, 0.021113717742931228, 0.020990245709346836, 0.02086677367576244, 0.02086677367576244, 0.02086677367576244, 0.02074330164217805, 0.020619829608593654, 0.020619829608593654, 0.020619829608593654, 0.020496357575009262, 0.020496357575009262, 0.020372885541424867, 0.020249413507840475, 0.02012594147425608, 0.02012594147425608, 0.02012594147425608, 0.019878997407087293, 0.019878997407087293, 0.019878997407087293, 0.019632053339918507, 0.019632053339918507, 0.01950858130633412, 0.01950858130633412, 0.01950858130633412, 0.01938510927274972, 0.01938510927274972, 0.01926163723916533, 0.01889122113841215, 0.01889122113841215, 0.01889122113841215, 0.018767749104827758, 0.018767749104827758, 0.018767749104827758, 0.018644277071243363, 0.01839733300407458, 0.018273860970490184, 0.018273860970490184, 0.018150388936905796, 0.018150388936905796, 0.018026916903321397, 0.01790344486973701, 0.01790344486973701, 0.01790344486973701, 0.01777997283615261, 0.01777997283615261, 0.01777997283615261, 0.01777997283615261, 0.017656500802568222, 0.017656500802568222, 0.017533028768983827, 0.017533028768983827, 0.017533028768983827, 0.017533028768983827, 0.017409556735399435, 0.01728608470181504, 0.01728608470181504, 0.01728608470181504, 0.01728608470181504, 0.01728608470181504, 0.01716261266823065, 0.017039140634646253, 0.016915668601061862, 0.016915668601061862, 0.016915668601061862, 0.016915668601061862, 0.016915668601061862, 0.016915668601061862, 0.016792196567477467, 0.016792196567477467, 0.01654525250030868, 0.016421780466724288, 0.016421780466724288, 0.016298308433139893, 0.016298308433139893, 0.016298308433139893, 0.016298308433139893, 0.016298308433139893, 0.016051364365971106, 0.015927892332386714, 0.015927892332386714, 0.01580442029880232, 0.01580442029880232, 0.01568094826521793, 0.01568094826521793, 0.01568094826521793, 0.01568094826521793, 0.015434004198049142, 0.015434004198049142, 0.015434004198049142, 0.015434004198049142, 0.015310532164464753, 0.015310532164464753, 0.015310532164464753, 0.015310532164464753, 0.015310532164464753, 0.015187060130880356, 0.015063588097295966, 0.015063588097295966, 0.015063588097295966, 0.01494011606371157, 0.01494011606371157, 0.01494011606371157, 0.014816644030127179, 0.014693171996542784, 0.014693171996542784, 0.014693171996542784, 0.014693171996542784, 0.014693171996542784, 0.014569699962958392, 0.014446227929373997, 0.014322755895789607, 0.014322755895789607, 0.01419928386220521, 0.01419928386220521, 0.01419928386220521, 0.01419928386220521, 0.01419928386220521, 0.01407581182862082, 0.01407581182862082, 0.01407581182862082, 0.013952339795036423, 0.013952339795036423, 0.013952339795036423, 0.013828867761452033, 0.013705395727867638, 0.013705395727867638, 0.013705395727867638, 0.013581923694283246, 0.013581923694283246, 0.013581923694283246, 0.013581923694283246, 0.013581923694283246, 0.013581923694283246, 0.013458451660698851, 0.01333497962711446, 0.01333497962711446, 0.01333497962711446, 0.01333497962711446, 0.013211507593530064, 0.013211507593530064, 0.013088035559945674, 0.013088035559945674, 0.013088035559945674, 0.012964563526361278, 0.012964563526361278, 0.012964563526361278, 0.012841091492776888, 0.012841091492776888, 0.012841091492776888, 0.012841091492776888, 0.012841091492776888, 0.012841091492776888, 0.012841091492776888, 0.012841091492776888, 0.012841091492776888, 0.012841091492776888, 0.01271761945919249, 0.01271761945919249, 0.01271761945919249, 0.01271761945919249, 0.0125941474256081, 0.0125941474256081, 0.0125941474256081, 0.012470675392023704, 0.012347203358439314, 0.012223731324854924, 0.012100259291270527, 0.012100259291270527, 0.011976787257686137, 0.011853315224101742, 0.01172984319051735, 0.01172984319051735, 0.01172984319051735, 0.01172984319051735, 0.011606371156932955, 0.011606371156932955, 0.011606371156932955, 0.011606371156932955, 0.011482899123348564, 0.011482899123348564, 0.011482899123348564, 0.011482899123348564, 0.011482899123348564, 0.011359427089764168, 0.011359427089764168, 0.011359427089764168, 0.011359427089764168, 0.011235955056179778, 0.011112483022595382, 0.011112483022595382, 0.011112483022595382, 0.011112483022595382, 0.011112483022595382, 0.011112483022595382, 0.010989010989010992, 0.010865538955426595, 0.010865538955426595, 0.010865538955426595, 0.010865538955426595, 0.010742066921842205, 0.010742066921842205, 0.010742066921842205, 0.010742066921842205, 0.010742066921842205, 0.010618594888257808, 0.010618594888257808, 0.010495122854673418, 0.010495122854673418, 0.010371650821089023, 0.010371650821089023, 0.010371650821089023, 0.010248178787504631, 0.010248178787504631, 0.010248178787504631, 0.010248178787504631, 0.010248178787504631, 0.010124706753920236, 0.010124706753920236, 0.010124706753920236, 0.010124706753920236, 0.010001234720335846, 0.010001234720335846, 0.010001234720335846, 0.00975429065316706, 0.00975429065316706, 0.00975429065316706, 0.009630818619582662, 0.009507346585998272, 0.009507346585998272, 0.009507346585998272, 0.009507346585998272, 0.009383874552413875, 0.009260402518829485, 0.009260402518829485, 0.009260402518829485, 0.009136930485245096, 0.009136930485245096, 0.009136930485245096, 0.009136930485245096, 0.009013458451660699, 0.009013458451660699, 0.009013458451660699, 0.009013458451660699, 0.009013458451660699, 0.008889986418076309, 0.008889986418076309, 0.008766514384491914, 0.008643042350907522, 0.008643042350907522, 0.008643042350907522, 0.008519570317323127, 0.008519570317323127, 0.008519570317323127, 0.008396098283738735, 0.008396098283738735, 0.00827262625015434, 0.00827262625015434, 0.00827262625015434, 0.00827262625015434, 0.00814915421656995, 0.00814915421656995, 0.00814915421656995, 0.00814915421656995, 0.00814915421656995, 0.008025682182985553, 0.008025682182985553, 0.008025682182985553, 0.008025682182985553, 0.007902210149401163, 0.007902210149401163, 0.007902210149401163, 0.007902210149401163, 0.007902210149401163, 0.007902210149401163, 0.007902210149401163, 0.007778738115816767, 0.007778738115816767, 0.007778738115816767, 0.007778738115816767, 0.007778738115816767, 0.007778738115816767, 0.007778738115816767, 0.007778738115816767, 0.007655266082232376, 0.007655266082232376, 0.007655266082232376, 0.007655266082232376, 0.007655266082232376, 0.00753179404864798, 0.00753179404864798, 0.0074083220150635894, 0.0074083220150635894, 0.0074083220150635894, 0.0074083220150635894, 0.007284849981479193, 0.007284849981479193, 0.007284849981479193, 0.007284849981479193, 0.0071613779478948035, 0.0070379059143104074, 0.0070379059143104074, 0.0070379059143104074, 0.0070379059143104074, 0.0070379059143104074, 0.006914433880726017, 0.006914433880726017, 0.006914433880726017, 0.006914433880726017, 0.006914433880726017, 0.006790961847141621, 0.006790961847141621, 0.006790961847141621, 0.00666748981355723, 0.00666748981355723, 0.00666748981355723, 0.006544017779972834, 0.006544017779972834, 0.006544017779972834, 0.006544017779972834, 0.006544017779972834, 0.006544017779972834, 0.006544017779972834, 0.006544017779972834, 0.006544017779972834, 0.006420545746388444, 0.006420545746388444, 0.006420545746388444, 0.006420545746388444, 0.006297073712804048, 0.006297073712804048, 0.006297073712804048, 0.006297073712804048, 0.006173601679219657, 0.006173601679219657, 0.006173601679219657, 0.006173601679219657, 0.006173601679219657, 0.006173601679219657, 0.006173601679219657, 0.006050129645635267, 0.005926657612050871, 0.005926657612050871, 0.005926657612050871, 0.005926657612050871, 0.00580318557846648, 0.00580318557846648, 0.00580318557846648, 0.00580318557846648, 0.00580318557846648, 0.005679713544882084, 0.005679713544882084, 0.005679713544882084, 0.005556241511297693, 0.005556241511297693, 0.005556241511297693, 0.005556241511297693, 0.005556241511297693, 0.005556241511297693, 0.005556241511297693, 0.005432769477713297, 0.005432769477713297, 0.005432769477713297, 0.005432769477713297, 0.005432769477713297, 0.005432769477713297, 0.005309297444128907, 0.005309297444128907, 0.005309297444128907, 0.005309297444128907, 0.005309297444128907, 0.005185825410544511, 0.005185825410544511, 0.005185825410544511, 0.005185825410544511, 0.005062353376960121, 0.005062353376960121, 0.0049388813433757246, 0.0049388813433757246, 0.0049388813433757246, 0.0049388813433757246, 0.004815409309791334, 0.004815409309791334, 0.004815409309791334, 0.004815409309791334, 0.004815409309791334, 0.004691937276206938, 0.004691937276206938, 0.004691937276206938, 0.004691937276206938, 0.004568465242622548, 0.004568465242622548, 0.004568465242622548, 0.004568465242622548, 0.004568465242622548, 0.004444993209038152, 0.004444993209038152, 0.004444993209038152, 0.004444993209038152, 0.004444993209038152, 0.004444993209038152, 0.004444993209038152, 0.004444993209038152, 0.004444993209038152, 0.004321521175453761, 0.004321521175453761, 0.004321521175453761, 0.004321521175453761, 0.004321521175453761, 0.004198049141869365, 0.004198049141869365, 0.004198049141869365, 0.004198049141869365, 0.004198049141869365, 0.004198049141869365, 0.004198049141869365, 0.004198049141869365, 0.004198049141869365, 0.004074577108284975, 0.004074577108284975, 0.004074577108284975, 0.004074577108284975, 0.004074577108284975, 0.004074577108284975, 0.004074577108284975, 0.004074577108284975, 0.004074577108284975, 0.003951105074700579, 0.003951105074700579, 0.003951105074700579, 0.003951105074700579, 0.003951105074700579, 0.003827633041116188, 0.003827633041116188, 0.003827633041116188, 0.003827633041116188, 0.003827633041116188, 0.003827633041116188, 0.003827633041116188, 0.003827633041116188, 0.003704161007531792, 0.003704161007531792, 0.003704161007531792, 0.003704161007531792, 0.003704161007531792, 0.003704161007531792, 0.003704161007531792, 0.003704161007531792, 0.0035806889739474017, 0.0035806889739474017, 0.0035806889739474017, 0.0035806889739474017, 0.0035806889739474017, 0.0035806889739474017, 0.0035806889739474017, 0.0034572169403630057, 0.0034572169403630057, 0.0034572169403630057, 0.0034572169403630057, 0.003333744906778615, 0.003333744906778615, 0.003333744906778615, 0.003333744906778615, 0.003210272873194219, 0.0030868008396098285, 0.0030868008396098285, 0.0030868008396098285, 0.0030868008396098285, 0.0030868008396098285, 0.0029633288060254355, 0.0029633288060254355, 0.0029633288060254355, 0.002839856772441042, 0.002839856772441042, 0.002839856772441042, 0.002839856772441042, 0.0027163847388566487, 0.0027163847388566487, 0.0027163847388566487, 0.0027163847388566487, 0.0027163847388566487, 0.0027163847388566487, 0.0027163847388566487, 0.0025929127052722557, 0.0025929127052722557, 0.0025929127052722557, 0.0025929127052722557, 0.0025929127052722557, 0.0025929127052722557, 0.0024694406716878623, 0.0024694406716878623, 0.0024694406716878623, 0.0024694406716878623, 0.0024694406716878623, 0.002345968638103469, 0.002345968638103469, 0.002345968638103469, 0.002345968638103469, 0.002345968638103469, 0.002345968638103469, 0.002345968638103469, 0.002345968638103469, 0.002222496604519076, 0.002222496604519076, 0.002222496604519076, 0.002222496604519076, 0.002222496604519076, 0.002222496604519076, 0.002222496604519076, 0.002222496604519076, 0.002222496604519076, 0.0020990245709346825, 0.0020990245709346825, 0.0020990245709346825, 0.0020990245709346825, 0.0020990245709346825, 0.0020990245709346825, 0.0020990245709346825, 0.0020990245709346825, 0.0020990245709346825, 0.0019755525373502895, 0.0019755525373502895, 0.0019755525373502895, 0.0019755525373502895, 0.0019755525373502895, 0.001852080503765896, 0.001852080503765896, 0.0017286084701815029, 0.0017286084701815029, 0.0017286084701815029, 0.0016051364365971094, 0.0016051364365971094, 0.0016051364365971094, 0.0016051364365971094, 0.0016051364365971094, 0.0016051364365971094, 0.001481664403012719, 0.001481664403012719, 0.001481664403012719, 0.001481664403012719, 0.001481664403012719, 0.0013581923694283259, 0.0013581923694283259, 0.0013581923694283259, 0.0013581923694283259, 0.0013581923694283259, 0.0013581923694283259, 0.0013581923694283259, 0.0013581923694283259, 0.0013581923694283259, 0.0013581923694283259, 0.0013581923694283259, 0.0012347203358439324, 0.0012347203358439324, 0.0012347203358439324, 0.0012347203358439324, 0.0012347203358439324, 0.0012347203358439324, 0.0011112483022595392, 0.0011112483022595392, 0.0011112483022595392, 0.000987776268675146, 0.000987776268675146, 0.000987776268675146, 0.000987776268675146, 0.000987776268675146, 0.000987776268675146, 0.000987776268675146, 0.000987776268675146, 0.0008643042350907527, 0.0008643042350907527, 0.0008643042350907527, 0.0008643042350907527, 0.0008643042350907527, 0.0007408322015063595, 0.0007408322015063595, 0.0007408322015063595, 0.0007408322015063595, 0.0007408322015063595, 0.0007408322015063595, 0.0006173601679219662, 0.0006173601679219662, 0.0006173601679219662, 0.0006173601679219662, 0.0006173601679219662, 0.000493888134337573, 0.000493888134337573, 0.000493888134337573, 0.00037041610075317976, 0.00037041610075317976, 0.00037041610075317976, 0.00037041610075317976, 0.00037041610075317976, 0.00037041610075317976, 0.00037041610075317976, 0.00037041610075317976, 0.0002469440671687865, 0.0002469440671687865, 0.0002469440671687865, 0.0002469440671687865, 0.0002469440671687865, 0.0002469440671687865, 0.0002469440671687865, 0.0002469440671687865, 0.0002469440671687865, 0.00012347203358439325, 0.00012347203358439325, 0.00012347203358439325, 0.00012347203358439325, 0.00012347203358439325, 0.00012347203358439325, 0.00012347203358439325, 0.00012347203358439325, 0.00012347203358439325, 0.00012347203358439325, 0.00012347203358439325, 0.00012347203358439325, 0.00012347203358439325, 0.00012347203358439325, 0.00012347203358439325, 0.00012347203358439325, 0.0, 0.0]}],                        {\"height\": 800, \"scene\": {\"bgcolor\": \"whitesmoke\", \"xaxis\": {\"title\": {\"font\": {\"color\": \"rgb(20, 24, 54)\"}, \"text\": \"Year\"}}, \"yaxis\": {\"title\": {\"font\": {\"color\": \"rgb(20, 24, 54)\"}, \"text\": \"Publisher\"}}, \"zaxis\": {\"title\": {\"font\": {\"color\": \"rgb(20, 24, 54)\"}, \"text\": \"Global Sales\"}}}, \"template\": {\"data\": {\"bar\": [{\"error_x\": {\"color\": \"#2a3f5f\"}, \"error_y\": {\"color\": \"#2a3f5f\"}, \"marker\": {\"line\": {\"color\": \"#E5ECF6\", \"width\": 0.5}}, \"type\": \"bar\"}], \"barpolar\": [{\"marker\": {\"line\": {\"color\": \"#E5ECF6\", \"width\": 0.5}}, \"type\": \"barpolar\"}], \"carpet\": [{\"aaxis\": {\"endlinecolor\": \"#2a3f5f\", \"gridcolor\": \"white\", \"linecolor\": \"white\", \"minorgridcolor\": \"white\", \"startlinecolor\": \"#2a3f5f\"}, \"baxis\": {\"endlinecolor\": \"#2a3f5f\", \"gridcolor\": \"white\", \"linecolor\": \"white\", \"minorgridcolor\": \"white\", \"startlinecolor\": \"#2a3f5f\"}, \"type\": \"carpet\"}], \"choropleth\": [{\"colorbar\": {\"outlinewidth\": 0, \"ticks\": \"\"}, \"type\": \"choropleth\"}], \"contour\": [{\"colorbar\": {\"outlinewidth\": 0, \"ticks\": \"\"}, \"colorscale\": [[0.0, \"#0d0887\"], [0.1111111111111111, \"#46039f\"], [0.2222222222222222, \"#7201a8\"], [0.3333333333333333, \"#9c179e\"], [0.4444444444444444, \"#bd3786\"], [0.5555555555555556, \"#d8576b\"], [0.6666666666666666, \"#ed7953\"], [0.7777777777777778, \"#fb9f3a\"], [0.8888888888888888, \"#fdca26\"], [1.0, \"#f0f921\"]], \"type\": \"contour\"}], \"contourcarpet\": [{\"colorbar\": {\"outlinewidth\": 0, \"ticks\": \"\"}, \"type\": \"contourcarpet\"}], \"heatmap\": [{\"colorbar\": {\"outlinewidth\": 0, \"ticks\": \"\"}, \"colorscale\": [[0.0, \"#0d0887\"], [0.1111111111111111, \"#46039f\"], [0.2222222222222222, \"#7201a8\"], [0.3333333333333333, \"#9c179e\"], [0.4444444444444444, \"#bd3786\"], [0.5555555555555556, \"#d8576b\"], [0.6666666666666666, \"#ed7953\"], [0.7777777777777778, \"#fb9f3a\"], [0.8888888888888888, \"#fdca26\"], [1.0, \"#f0f921\"]], \"type\": \"heatmap\"}], \"heatmapgl\": [{\"colorbar\": {\"outlinewidth\": 0, \"ticks\": \"\"}, \"colorscale\": [[0.0, \"#0d0887\"], [0.1111111111111111, \"#46039f\"], [0.2222222222222222, \"#7201a8\"], [0.3333333333333333, \"#9c179e\"], [0.4444444444444444, \"#bd3786\"], [0.5555555555555556, \"#d8576b\"], [0.6666666666666666, \"#ed7953\"], [0.7777777777777778, \"#fb9f3a\"], [0.8888888888888888, \"#fdca26\"], [1.0, \"#f0f921\"]], \"type\": \"heatmapgl\"}], \"histogram\": [{\"marker\": {\"colorbar\": {\"outlinewidth\": 0, \"ticks\": \"\"}}, \"type\": \"histogram\"}], \"histogram2d\": [{\"colorbar\": {\"outlinewidth\": 0, \"ticks\": \"\"}, \"colorscale\": [[0.0, \"#0d0887\"], [0.1111111111111111, \"#46039f\"], [0.2222222222222222, \"#7201a8\"], [0.3333333333333333, \"#9c179e\"], [0.4444444444444444, \"#bd3786\"], [0.5555555555555556, \"#d8576b\"], [0.6666666666666666, \"#ed7953\"], [0.7777777777777778, \"#fb9f3a\"], [0.8888888888888888, \"#fdca26\"], [1.0, \"#f0f921\"]], \"type\": \"histogram2d\"}], \"histogram2dcontour\": [{\"colorbar\": {\"outlinewidth\": 0, \"ticks\": \"\"}, \"colorscale\": [[0.0, \"#0d0887\"], [0.1111111111111111, \"#46039f\"], [0.2222222222222222, \"#7201a8\"], [0.3333333333333333, \"#9c179e\"], [0.4444444444444444, \"#bd3786\"], [0.5555555555555556, \"#d8576b\"], [0.6666666666666666, \"#ed7953\"], [0.7777777777777778, \"#fb9f3a\"], [0.8888888888888888, \"#fdca26\"], [1.0, \"#f0f921\"]], \"type\": \"histogram2dcontour\"}], \"mesh3d\": [{\"colorbar\": {\"outlinewidth\": 0, \"ticks\": \"\"}, \"type\": \"mesh3d\"}], \"parcoords\": [{\"line\": {\"colorbar\": {\"outlinewidth\": 0, \"ticks\": \"\"}}, \"type\": \"parcoords\"}], \"pie\": [{\"automargin\": true, \"type\": \"pie\"}], \"scatter\": [{\"marker\": {\"colorbar\": {\"outlinewidth\": 0, \"ticks\": \"\"}}, \"type\": \"scatter\"}], \"scatter3d\": [{\"line\": {\"colorbar\": {\"outlinewidth\": 0, \"ticks\": \"\"}}, \"marker\": {\"colorbar\": {\"outlinewidth\": 0, \"ticks\": \"\"}}, \"type\": \"scatter3d\"}], \"scattercarpet\": [{\"marker\": {\"colorbar\": {\"outlinewidth\": 0, \"ticks\": \"\"}}, \"type\": \"scattercarpet\"}], \"scattergeo\": [{\"marker\": {\"colorbar\": {\"outlinewidth\": 0, \"ticks\": \"\"}}, \"type\": \"scattergeo\"}], \"scattergl\": [{\"marker\": {\"colorbar\": {\"outlinewidth\": 0, \"ticks\": \"\"}}, \"type\": \"scattergl\"}], \"scattermapbox\": [{\"marker\": {\"colorbar\": {\"outlinewidth\": 0, \"ticks\": \"\"}}, \"type\": \"scattermapbox\"}], \"scatterpolar\": [{\"marker\": {\"colorbar\": {\"outlinewidth\": 0, \"ticks\": \"\"}}, \"type\": \"scatterpolar\"}], \"scatterpolargl\": [{\"marker\": {\"colorbar\": {\"outlinewidth\": 0, \"ticks\": \"\"}}, \"type\": \"scatterpolargl\"}], \"scatterternary\": [{\"marker\": {\"colorbar\": {\"outlinewidth\": 0, \"ticks\": \"\"}}, \"type\": \"scatterternary\"}], \"surface\": [{\"colorbar\": {\"outlinewidth\": 0, \"ticks\": \"\"}, \"colorscale\": [[0.0, \"#0d0887\"], [0.1111111111111111, \"#46039f\"], [0.2222222222222222, \"#7201a8\"], [0.3333333333333333, \"#9c179e\"], [0.4444444444444444, \"#bd3786\"], [0.5555555555555556, \"#d8576b\"], [0.6666666666666666, \"#ed7953\"], [0.7777777777777778, \"#fb9f3a\"], [0.8888888888888888, \"#fdca26\"], [1.0, \"#f0f921\"]], \"type\": \"surface\"}], \"table\": [{\"cells\": {\"fill\": {\"color\": \"#EBF0F8\"}, \"line\": {\"color\": \"white\"}}, \"header\": {\"fill\": {\"color\": \"#C8D4E3\"}, \"line\": {\"color\": \"white\"}}, \"type\": \"table\"}]}, \"layout\": {\"annotationdefaults\": {\"arrowcolor\": \"#2a3f5f\", \"arrowhead\": 0, \"arrowwidth\": 1}, \"coloraxis\": {\"colorbar\": {\"outlinewidth\": 0, \"ticks\": \"\"}}, \"colorscale\": {\"diverging\": [[0, \"#8e0152\"], [0.1, \"#c51b7d\"], [0.2, \"#de77ae\"], [0.3, \"#f1b6da\"], [0.4, \"#fde0ef\"], [0.5, \"#f7f7f7\"], [0.6, \"#e6f5d0\"], [0.7, \"#b8e186\"], [0.8, \"#7fbc41\"], [0.9, \"#4d9221\"], [1, \"#276419\"]], \"sequential\": [[0.0, \"#0d0887\"], [0.1111111111111111, \"#46039f\"], [0.2222222222222222, \"#7201a8\"], [0.3333333333333333, \"#9c179e\"], [0.4444444444444444, \"#bd3786\"], [0.5555555555555556, \"#d8576b\"], [0.6666666666666666, \"#ed7953\"], [0.7777777777777778, \"#fb9f3a\"], [0.8888888888888888, \"#fdca26\"], [1.0, \"#f0f921\"]], \"sequentialminus\": [[0.0, \"#0d0887\"], [0.1111111111111111, \"#46039f\"], [0.2222222222222222, \"#7201a8\"], [0.3333333333333333, \"#9c179e\"], [0.4444444444444444, \"#bd3786\"], [0.5555555555555556, \"#d8576b\"], [0.6666666666666666, \"#ed7953\"], [0.7777777777777778, \"#fb9f3a\"], [0.8888888888888888, \"#fdca26\"], [1.0, \"#f0f921\"]]}, \"colorway\": [\"#636efa\", \"#EF553B\", \"#00cc96\", \"#ab63fa\", \"#FFA15A\", \"#19d3f3\", \"#FF6692\", \"#B6E880\", \"#FF97FF\", \"#FECB52\"], \"font\": {\"color\": \"#2a3f5f\"}, \"geo\": {\"bgcolor\": \"white\", \"lakecolor\": \"white\", \"landcolor\": \"#E5ECF6\", \"showlakes\": true, \"showland\": true, \"subunitcolor\": \"white\"}, \"hoverlabel\": {\"align\": \"left\"}, \"hovermode\": \"closest\", \"mapbox\": {\"style\": \"light\"}, \"paper_bgcolor\": \"white\", \"plot_bgcolor\": \"#E5ECF6\", \"polar\": {\"angularaxis\": {\"gridcolor\": \"white\", \"linecolor\": \"white\", \"ticks\": \"\"}, \"bgcolor\": \"#E5ECF6\", \"radialaxis\": {\"gridcolor\": \"white\", \"linecolor\": \"white\", \"ticks\": \"\"}}, \"scene\": {\"xaxis\": {\"backgroundcolor\": \"#E5ECF6\", \"gridcolor\": \"white\", \"gridwidth\": 2, \"linecolor\": \"white\", \"showbackground\": true, \"ticks\": \"\", \"zerolinecolor\": \"white\"}, \"yaxis\": {\"backgroundcolor\": \"#E5ECF6\", \"gridcolor\": \"white\", \"gridwidth\": 2, \"linecolor\": \"white\", \"showbackground\": true, \"ticks\": \"\", \"zerolinecolor\": \"white\"}, \"zaxis\": {\"backgroundcolor\": \"#E5ECF6\", \"gridcolor\": \"white\", \"gridwidth\": 2, \"linecolor\": \"white\", \"showbackground\": true, \"ticks\": \"\", \"zerolinecolor\": \"white\"}}, \"shapedefaults\": {\"line\": {\"color\": \"#2a3f5f\"}}, \"ternary\": {\"aaxis\": {\"gridcolor\": \"white\", \"linecolor\": \"white\", \"ticks\": \"\"}, \"baxis\": {\"gridcolor\": \"white\", \"linecolor\": \"white\", \"ticks\": \"\"}, \"bgcolor\": \"#E5ECF6\", \"caxis\": {\"gridcolor\": \"white\", \"linecolor\": \"white\", \"ticks\": \"\"}}, \"title\": {\"x\": 0.05}, \"xaxis\": {\"automargin\": true, \"gridcolor\": \"white\", \"linecolor\": \"white\", \"ticks\": \"\", \"title\": {\"standoff\": 15}, \"zerolinecolor\": \"white\", \"zerolinewidth\": 2}, \"yaxis\": {\"automargin\": true, \"gridcolor\": \"white\", \"linecolor\": \"white\", \"ticks\": \"\", \"title\": {\"standoff\": 15}, \"zerolinecolor\": \"white\", \"zerolinewidth\": 2}}}, \"title\": {\"font\": {\"color\": \"rgb(20, 24, 54)\"}, \"text\": \"Top 1000 Video Games, Release Years, Publishers and Sales\"}, \"width\": 800},                        {\"responsive\": true}                    ).then(function(){\n",
       "                            \n",
       "var gd = document.getElementById('328bc7a7-b9d6-40db-98f6-478af420e0d0');\n",
       "var x = new MutationObserver(function (mutations, observer) {{\n",
       "        var display = window.getComputedStyle(gd).display;\n",
       "        if (!display || display === 'none') {{\n",
       "            console.log([gd, 'removed!']);\n",
       "            Plotly.purge(gd);\n",
       "            observer.disconnect();\n",
       "        }}\n",
       "}});\n",
       "\n",
       "// Listen for the removal of the full notebook cells\n",
       "var notebookContainer = gd.closest('#notebook-container');\n",
       "if (notebookContainer) {{\n",
       "    x.observe(notebookContainer, {childList: true});\n",
       "}}\n",
       "\n",
       "// Listen for the clearing of the current output cell\n",
       "var outputEl = gd.closest('.output');\n",
       "if (outputEl) {{\n",
       "    x.observe(outputEl, {childList: true});\n",
       "}}\n",
       "\n",
       "                        })                };                });            </script>        </div>"
      ]
     },
     "metadata": {},
     "output_type": "display_data"
    }
   ],
   "source": [
    "df1000=dataframe.iloc[:1000,:]\n",
    "\n",
    "df1000[\"normsales\"] = (df1000[\"Global_Sales\"] - np.min(df1000[\"Global_Sales\"]))/(np.max(df1000[\"Global_Sales\"])-np.min(df1000[\"Global_Sales\"]))\n",
    "\n",
    "df1000.Rank=df1000.Rank.astype(\"str\")\n",
    "df1000.Global_Sales=df1000.Global_Sales.astype(\"str\")\n",
    "trace1 = go.Scatter3d(\n",
    "    y=df1000[\"Publisher\"],\n",
    "    x=df1000[\"Year\"],\n",
    "    z=df1000[\"normsales\"],\n",
    "    text=\"Name:\"+ df1000.Name +\",\"+\" Rank:\" + df1000.Rank + \" Global Sales: \" + df1000[\"Global_Sales\"] +\" millions\",\n",
    "    mode='markers',\n",
    "    marker=dict(\n",
    "        size=df1000['NA_Sales'],\n",
    "        color = df1000['normsales'],\n",
    "        colorscale = \"Rainbow\",\n",
    "        colorbar = dict(title = 'Global Sales'),\n",
    "        line=dict(color='rgb(140, 140, 170)'),\n",
    "       \n",
    "    )\n",
    ")\n",
    "\n",
    "data=[trace1]\n",
    "\n",
    "layout=go.Layout(height=800, width=800, title='Top 1000 Video Games, Release Years, Publishers and Sales',\n",
    "            titlefont=dict(color='rgb(20, 24, 54)'),\n",
    "            scene = dict(xaxis=dict(title='Year',\n",
    "                                    titlefont=dict(color='rgb(20, 24, 54)')),\n",
    "                            yaxis=dict(title='Publisher',\n",
    "                                       titlefont=dict(color='rgb(20, 24, 54)')),\n",
    "                            zaxis=dict(title='Global Sales',\n",
    "                                       titlefont=dict(color='rgb(20, 24, 54)')),\n",
    "                            bgcolor = 'whitesmoke'\n",
    "                           ))\n",
    " \n",
    "fig=go.Figure(data=data, layout=layout)\n",
    "iplot(fig)"
   ]
  },
  {
   "cell_type": "markdown",
   "metadata": {
    "slideshow": {
     "slide_type": "slide"
    }
   },
   "source": [
    "### Analyze Starcraft II replays with Jupyter Notebooks\n",
    "\n",
    "#### https://developer.ibm.com/technologies/analytics/patterns/analyze-starcraft-ii-replays-with-jupyter-notebooks/\n",
    "\n",
    "#### https://github.com/IBM/starcraft2-replay-analysis"
   ]
  },
  {
   "cell_type": "markdown",
   "metadata": {
    "slideshow": {
     "slide_type": "slide"
    }
   },
   "source": [
    "### The best Mario Kart character according to data science\n",
    "\n",
    "#### https://medium.com/civis-analytics/the-best-mario-kart-character-according-to-data-science-7dfb65d4c18e"
   ]
  },
  {
   "cell_type": "markdown",
   "metadata": {
    "slideshow": {
     "slide_type": "slide"
    }
   },
   "source": [
    "### Join the Python community!\n",
    "\n",
    "#### Slack:\n",
    "#### #pythonmeetupsgdl (Workspace: Campus Tecnológico GDL)"
   ]
  },
  {
   "cell_type": "markdown",
   "metadata": {
    "slideshow": {
     "slide_type": "slide"
    }
   },
   "source": [
    "### Thank you\n",
    "\n",
    "#### alan.verdugo.munoz1@ibm.com\n",
    "\n",
    "#### Github: https://github.com/alanverdugo/\n",
    "\n",
    "#### This notebook: "
   ]
  },
  {
   "cell_type": "code",
   "execution_count": null,
   "metadata": {
    "slideshow": {
     "slide_type": "subslide"
    }
   },
   "outputs": [],
   "source": [
    "print (df.to_markdown())\n",
    "df_ge.expect_column_values_to_match_regex(\"EMAIL\", r\"(^[a-zA-Z0-9_.+-]+@[a-zA-Z0-9-]+\\.[a-zA-Z0-9-.]+$)\", \n",
    "                                          result_format={'result_format': 'COMPLETE'})"
   ]
  },
  {
   "cell_type": "markdown",
   "metadata": {
    "slideshow": {
     "slide_type": "slide"
    }
   },
   "source": [
    "### Assert that a column matches a strftime format."
   ]
  },
  {
   "cell_type": "code",
   "execution_count": null,
   "metadata": {
    "slideshow": {
     "slide_type": "subslide"
    }
   },
   "outputs": [],
   "source": [
    "print (df.to_markdown())\n",
    "test = df_ge.expect_column_values_to_match_strftime_format(\"TIMESTAMP\", \"%d-%m-%Y\", \n",
    "                                                           result_format={'result_format': 'COMPLETE'})\n",
    "print(test)"
   ]
  },
  {
   "cell_type": "markdown",
   "metadata": {
    "slideshow": {
     "slide_type": "slide"
    }
   },
   "source": [
    "### Drop the \"unexpected\" values from the dataframe."
   ]
  },
  {
   "cell_type": "code",
   "execution_count": null,
   "metadata": {
    "slideshow": {
     "slide_type": "fragment"
    }
   },
   "outputs": [],
   "source": [
    "df.drop(test.result[\"unexpected_index_list\"], inplace=True)\n",
    "print(df.to_markdown())"
   ]
  },
  {
   "cell_type": "markdown",
   "metadata": {
    "slideshow": {
     "slide_type": "slide"
    }
   },
   "source": [
    "### Assert that the values are in a specific range (even works with dates!)."
   ]
  },
  {
   "cell_type": "code",
   "execution_count": null,
   "metadata": {
    "slideshow": {
     "slide_type": "subslide"
    }
   },
   "outputs": [],
   "source": [
    "print (df.to_markdown())\n",
    "test = df_ge.expect_column_values_to_be_between(\"TIMESTAMP\",\n",
    "                                                parse_strings_as_datetimes=True,\n",
    "                                                min_value=\"01-01-2020 00:00:00\",\n",
    "                                                max_value=\"30-12-2020 00:00:00\",\n",
    "                                                result_format={'result_format': 'COMPLETE'})\n",
    "print (test)"
   ]
  },
  {
   "cell_type": "markdown",
   "metadata": {
    "slideshow": {
     "slide_type": "slide"
    }
   },
   "source": [
    "### Since expectations rarely change, we can save them to a configuration file and re-use them."
   ]
  },
  {
   "cell_type": "code",
   "execution_count": null,
   "metadata": {
    "slideshow": {
     "slide_type": "fragment"
    }
   },
   "outputs": [],
   "source": [
    "df_ge.save_expectation_suite('/home/alan/saved_config.json')"
   ]
  },
  {
   "cell_type": "markdown",
   "metadata": {
    "slideshow": {
     "slide_type": "slide"
    }
   },
   "source": [
    "### Create a new dataset."
   ]
  },
  {
   "cell_type": "code",
   "execution_count": null,
   "metadata": {
    "slideshow": {
     "slide_type": "subslide"
    }
   },
   "outputs": [],
   "source": [
    "df2 = pd.DataFrame({\"TIMESTAMP\": [\"26-12-2020 00:00:00\",\n",
    "                                  \"27-01-2020 00:00:00\",\n",
    "                                  \"28-12-2020 00:00:00\",\n",
    "                                  \"29-12-2020\",\n",
    "                                  \"30-12-2020 00:00:00\"],\n",
    "                    \"ISO_COUNTRY\": [pd.np.NaN,\n",
    "                                    \"CN\",\n",
    "                                    \"US\",\n",
    "                                    \"JP\",\n",
    "                                    \"UK\"],\n",
    "                    \"EMAIL\": [\"test1@ibm.com\",\n",
    "                              \"test.2@valid.email.gov\",\n",
    "                              \"test.3@mx1.ibm.com\",\n",
    "                              \"test-4@nsa.gov\",\n",
    "                              \"test5@us.ibm.com\"]})\n",
    "uuid_series = df2.index.to_series().map(lambda x: uuid4())\n",
    "df2.insert(loc=0, column=\"UNIQUE_ID\", value=uuid_series)\n",
    "print (df2.to_markdown())"
   ]
  },
  {
   "cell_type": "markdown",
   "metadata": {
    "slideshow": {
     "slide_type": "slide"
    }
   },
   "source": [
    "### Using expectations files, we can easily validate any dataset against them."
   ]
  },
  {
   "cell_type": "code",
   "execution_count": null,
   "metadata": {
    "slideshow": {
     "slide_type": "subslide"
    }
   },
   "outputs": [],
   "source": [
    "print (df2.to_markdown())\n",
    "df_ge2 = ge.dataset.PandasDataset(df2)\n",
    "validation_results = df_ge2.validate(expectation_suite='/home/alan/saved_config.json',\n",
    "                                     result_format={'result_format': 'COMPLETE'})\n",
    "print(validation_results)"
   ]
  }
 ],
 "metadata": {
  "celltoolbar": "Slideshow",
  "kernelspec": {
   "display_name": "Python 3",
   "language": "python",
   "name": "python3"
  },
  "language_info": {
   "codemirror_mode": {
    "name": "ipython",
    "version": 3
   },
   "file_extension": ".py",
   "mimetype": "text/x-python",
   "name": "python",
   "nbconvert_exporter": "python",
   "pygments_lexer": "ipython3",
   "version": "3.8.5"
  },
  "rise": {
   "enable_chalkboard": true,
   "scroll": true,
   "theme": "white"
  }
 },
 "nbformat": 4,
 "nbformat_minor": 4
}
