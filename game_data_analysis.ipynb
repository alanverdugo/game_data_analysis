{
 "cells": [
  {
   "cell_type": "markdown",
   "metadata": {
    "slideshow": {
     "slide_type": "slide"
    }
   },
   "source": [
    "<center>\n",
    "\n",
    "# Our Python is in another castle\n",
    "\n",
    "### Videogame data analysis\n",
    "\n",
    "    \n",
    "#### Alan Verdugo\n",
    "#### (Marketing Systems, CIO)\n",
    "\n",
    "</center>"
   ]
  },
  {
   "cell_type": "markdown",
   "metadata": {
    "slideshow": {
     "slide_type": "slide"
    }
   },
   "source": [
    "### A (brief) introduction to Python"
   ]
  },
  {
   "cell_type": "markdown",
   "metadata": {
    "slideshow": {
     "slide_type": "subslide"
    }
   },
   "source": [
    "Python is a popular and friendly programming language\n",
    "\n",
    "It has *MANY* use cases, including:\n",
    "- Data science (AI, ML, statistics, etc.)\n",
    "- Other sciences (physics, biology, chemistry, electro-magnetism, etc.)\n",
    "- System administration\n",
    "- Automation\n",
    "- Web development\n",
    "- Backend\n",
    "- Desktop and mobile apps!\n",
    "- Games!!\n",
    "- Much more!!!"
   ]
  },
  {
   "cell_type": "markdown",
   "metadata": {
    "slideshow": {
     "slide_type": "subslide"
    }
   },
   "source": [
    "<center>\n",
    "\n",
    "![use_cases](use_cases.png)\n",
    "\n",
    "</center>"
   ]
  },
  {
   "cell_type": "markdown",
   "metadata": {
    "slideshow": {
     "slide_type": "slide"
    }
   },
   "source": [
    "### The importance of data analysis"
   ]
  },
  {
   "cell_type": "markdown",
   "metadata": {
    "slideshow": {
     "slide_type": "subslide"
    }
   },
   "source": [
    "<center>\n",
    "\n",
    "![ghost_map1](ghost_map1.jpg)\n",
    "\n",
    "</center>"
   ]
  },
  {
   "cell_type": "markdown",
   "metadata": {
    "slideshow": {
     "slide_type": "subslide"
    }
   },
   "source": [
    "<center>\n",
    "\n",
    "![ghost_map2](ghost_map2.jpg)\n",
    "\n",
    "</center>"
   ]
  },
  {
   "cell_type": "markdown",
   "metadata": {
    "slideshow": {
     "slide_type": "slide"
    }
   },
   "source": [
    "### Let's analyze video games sales data"
   ]
  },
  {
   "cell_type": "markdown",
   "metadata": {
    "slideshow": {
     "slide_type": "slide"
    }
   },
   "source": [
    "### Import modules."
   ]
  },
  {
   "cell_type": "code",
   "execution_count": 20,
   "metadata": {
    "slideshow": {
     "slide_type": "fragment"
    }
   },
   "outputs": [],
   "source": [
    "import pandas as pd\n",
    "import json"
   ]
  },
  {
   "cell_type": "code",
   "execution_count": 17,
   "metadata": {
    "slideshow": {
     "slide_type": "subslide"
    }
   },
   "outputs": [],
   "source": [
    "dataframe = pd.read_csv(\"/home/alan/git/game_data_analysis/vgsales.csv\")\n",
    "dataframe = dataframe.drop(dataframe[dataframe['Year'] > 2015].index)"
   ]
  },
  {
   "cell_type": "code",
   "execution_count": 18,
   "metadata": {
    "slideshow": {
     "slide_type": "slide"
    }
   },
   "outputs": [],
   "source": [
    "import numpy as np\n",
    "import chart_studio.plotly as py\n",
    "from plotly.offline import init_notebook_mode,iplot\n",
    "import plotly.graph_objs as go\n",
    "import plotly.figure_factory as ff\n",
    "import matplotlib.pyplot as plt"
   ]
  },
  {
   "cell_type": "markdown",
   "metadata": {
    "slideshow": {
     "slide_type": "slide"
    }
   },
   "source": [
    "### We can display the dataframe as a table"
   ]
  },
  {
   "cell_type": "code",
   "execution_count": 24,
   "metadata": {
    "slideshow": {
     "slide_type": "subslide"
    }
   },
   "outputs": [
    {
     "data": {
      "application/vnd.plotly.v1+json": {
       "config": {
        "linkText": "Export to plot.ly",
        "plotlyServerURL": "https://plot.ly",
        "showLink": false
       },
       "data": [
        {
         "colorscale": [
          [
           0,
           "rgb(3, 5, 18)"
          ],
          [
           0.09090909090909091,
           "rgb(25, 25, 51)"
          ],
          [
           0.18181818181818182,
           "rgb(44, 42, 87)"
          ],
          [
           0.2727272727272727,
           "rgb(58, 60, 125)"
          ],
          [
           0.36363636363636365,
           "rgb(62, 83, 160)"
          ],
          [
           0.45454545454545453,
           "rgb(62, 109, 178)"
          ],
          [
           0.5454545454545454,
           "rgb(72, 134, 187)"
          ],
          [
           0.6363636363636364,
           "rgb(89, 159, 196)"
          ],
          [
           0.7272727272727273,
           "rgb(114, 184, 205)"
          ],
          [
           0.8181818181818182,
           "rgb(149, 207, 216)"
          ],
          [
           0.9090909090909091,
           "rgb(192, 229, 232)"
          ],
          [
           1,
           "rgb(234, 252, 253)"
          ]
         ],
         "hoverinfo": "none",
         "opacity": 0.75,
         "showscale": false,
         "type": "heatmap",
         "z": [
          [
           0,
           0,
           0,
           0,
           0,
           0,
           0,
           0,
           0,
           0,
           0
          ],
          [
           0.5,
           0.5,
           0.5,
           0.5,
           0.5,
           0.5,
           0.5,
           0.5,
           0.5,
           0.5,
           0.5
          ],
          [
           1,
           1,
           1,
           1,
           1,
           1,
           1,
           1,
           1,
           1,
           1
          ],
          [
           0.5,
           0.5,
           0.5,
           0.5,
           0.5,
           0.5,
           0.5,
           0.5,
           0.5,
           0.5,
           0.5
          ],
          [
           1,
           1,
           1,
           1,
           1,
           1,
           1,
           1,
           1,
           1,
           1
          ],
          [
           0.5,
           0.5,
           0.5,
           0.5,
           0.5,
           0.5,
           0.5,
           0.5,
           0.5,
           0.5,
           0.5
          ],
          [
           1,
           1,
           1,
           1,
           1,
           1,
           1,
           1,
           1,
           1,
           1
          ],
          [
           0.5,
           0.5,
           0.5,
           0.5,
           0.5,
           0.5,
           0.5,
           0.5,
           0.5,
           0.5,
           0.5
          ],
          [
           1,
           1,
           1,
           1,
           1,
           1,
           1,
           1,
           1,
           1,
           1
          ],
          [
           0.5,
           0.5,
           0.5,
           0.5,
           0.5,
           0.5,
           0.5,
           0.5,
           0.5,
           0.5,
           0.5
          ],
          [
           1,
           1,
           1,
           1,
           1,
           1,
           1,
           1,
           1,
           1,
           1
          ]
         ]
        }
       ],
       "layout": {
        "annotations": [
         {
          "align": "left",
          "font": {
           "color": "#ffffff",
           "size": 8
          },
          "showarrow": false,
          "text": "<b>Rank</b>",
          "x": -0.45,
          "xanchor": "left",
          "xref": "x",
          "y": 0,
          "yref": "y"
         },
         {
          "align": "left",
          "font": {
           "color": "#ffffff",
           "size": 8
          },
          "showarrow": false,
          "text": "<b>Name</b>",
          "x": 0.55,
          "xanchor": "left",
          "xref": "x",
          "y": 0,
          "yref": "y"
         },
         {
          "align": "left",
          "font": {
           "color": "#ffffff",
           "size": 8
          },
          "showarrow": false,
          "text": "<b>Platform</b>",
          "x": 1.55,
          "xanchor": "left",
          "xref": "x",
          "y": 0,
          "yref": "y"
         },
         {
          "align": "left",
          "font": {
           "color": "#ffffff",
           "size": 8
          },
          "showarrow": false,
          "text": "<b>Year</b>",
          "x": 2.55,
          "xanchor": "left",
          "xref": "x",
          "y": 0,
          "yref": "y"
         },
         {
          "align": "left",
          "font": {
           "color": "#ffffff",
           "size": 8
          },
          "showarrow": false,
          "text": "<b>Genre</b>",
          "x": 3.55,
          "xanchor": "left",
          "xref": "x",
          "y": 0,
          "yref": "y"
         },
         {
          "align": "left",
          "font": {
           "color": "#ffffff",
           "size": 8
          },
          "showarrow": false,
          "text": "<b>Publisher</b>",
          "x": 4.55,
          "xanchor": "left",
          "xref": "x",
          "y": 0,
          "yref": "y"
         },
         {
          "align": "left",
          "font": {
           "color": "#ffffff",
           "size": 8
          },
          "showarrow": false,
          "text": "<b>NA_Sales</b>",
          "x": 5.55,
          "xanchor": "left",
          "xref": "x",
          "y": 0,
          "yref": "y"
         },
         {
          "align": "left",
          "font": {
           "color": "#ffffff",
           "size": 8
          },
          "showarrow": false,
          "text": "<b>EU_Sales</b>",
          "x": 6.55,
          "xanchor": "left",
          "xref": "x",
          "y": 0,
          "yref": "y"
         },
         {
          "align": "left",
          "font": {
           "color": "#ffffff",
           "size": 8
          },
          "showarrow": false,
          "text": "<b>JP_Sales</b>",
          "x": 7.55,
          "xanchor": "left",
          "xref": "x",
          "y": 0,
          "yref": "y"
         },
         {
          "align": "left",
          "font": {
           "color": "#ffffff",
           "size": 8
          },
          "showarrow": false,
          "text": "<b>Other_Sales</b>",
          "x": 8.55,
          "xanchor": "left",
          "xref": "x",
          "y": 0,
          "yref": "y"
         },
         {
          "align": "left",
          "font": {
           "color": "#ffffff",
           "size": 8
          },
          "showarrow": false,
          "text": "<b>Global_Sales</b>",
          "x": 9.55,
          "xanchor": "left",
          "xref": "x",
          "y": 0,
          "yref": "y"
         },
         {
          "align": "left",
          "font": {
           "color": "#000000",
           "size": 8
          },
          "showarrow": false,
          "text": "1",
          "x": -0.45,
          "xanchor": "left",
          "xref": "x",
          "y": 1,
          "yref": "y"
         },
         {
          "align": "left",
          "font": {
           "color": "#000000",
           "size": 8
          },
          "showarrow": false,
          "text": "Wii Sports",
          "x": 0.55,
          "xanchor": "left",
          "xref": "x",
          "y": 1,
          "yref": "y"
         },
         {
          "align": "left",
          "font": {
           "color": "#000000",
           "size": 8
          },
          "showarrow": false,
          "text": "Wii",
          "x": 1.55,
          "xanchor": "left",
          "xref": "x",
          "y": 1,
          "yref": "y"
         },
         {
          "align": "left",
          "font": {
           "color": "#000000",
           "size": 8
          },
          "showarrow": false,
          "text": "2006.0",
          "x": 2.55,
          "xanchor": "left",
          "xref": "x",
          "y": 1,
          "yref": "y"
         },
         {
          "align": "left",
          "font": {
           "color": "#000000",
           "size": 8
          },
          "showarrow": false,
          "text": "Sports",
          "x": 3.55,
          "xanchor": "left",
          "xref": "x",
          "y": 1,
          "yref": "y"
         },
         {
          "align": "left",
          "font": {
           "color": "#000000",
           "size": 8
          },
          "showarrow": false,
          "text": "Nintendo",
          "x": 4.55,
          "xanchor": "left",
          "xref": "x",
          "y": 1,
          "yref": "y"
         },
         {
          "align": "left",
          "font": {
           "color": "#000000",
           "size": 8
          },
          "showarrow": false,
          "text": "41.49",
          "x": 5.55,
          "xanchor": "left",
          "xref": "x",
          "y": 1,
          "yref": "y"
         },
         {
          "align": "left",
          "font": {
           "color": "#000000",
           "size": 8
          },
          "showarrow": false,
          "text": "29.02",
          "x": 6.55,
          "xanchor": "left",
          "xref": "x",
          "y": 1,
          "yref": "y"
         },
         {
          "align": "left",
          "font": {
           "color": "#000000",
           "size": 8
          },
          "showarrow": false,
          "text": "3.77",
          "x": 7.55,
          "xanchor": "left",
          "xref": "x",
          "y": 1,
          "yref": "y"
         },
         {
          "align": "left",
          "font": {
           "color": "#000000",
           "size": 8
          },
          "showarrow": false,
          "text": "8.46",
          "x": 8.55,
          "xanchor": "left",
          "xref": "x",
          "y": 1,
          "yref": "y"
         },
         {
          "align": "left",
          "font": {
           "color": "#000000",
           "size": 8
          },
          "showarrow": false,
          "text": "82.74",
          "x": 9.55,
          "xanchor": "left",
          "xref": "x",
          "y": 1,
          "yref": "y"
         },
         {
          "align": "left",
          "font": {
           "color": "#000000",
           "size": 8
          },
          "showarrow": false,
          "text": "2",
          "x": -0.45,
          "xanchor": "left",
          "xref": "x",
          "y": 2,
          "yref": "y"
         },
         {
          "align": "left",
          "font": {
           "color": "#000000",
           "size": 8
          },
          "showarrow": false,
          "text": "Super Mario Bros.",
          "x": 0.55,
          "xanchor": "left",
          "xref": "x",
          "y": 2,
          "yref": "y"
         },
         {
          "align": "left",
          "font": {
           "color": "#000000",
           "size": 8
          },
          "showarrow": false,
          "text": "NES",
          "x": 1.55,
          "xanchor": "left",
          "xref": "x",
          "y": 2,
          "yref": "y"
         },
         {
          "align": "left",
          "font": {
           "color": "#000000",
           "size": 8
          },
          "showarrow": false,
          "text": "1985.0",
          "x": 2.55,
          "xanchor": "left",
          "xref": "x",
          "y": 2,
          "yref": "y"
         },
         {
          "align": "left",
          "font": {
           "color": "#000000",
           "size": 8
          },
          "showarrow": false,
          "text": "Platform",
          "x": 3.55,
          "xanchor": "left",
          "xref": "x",
          "y": 2,
          "yref": "y"
         },
         {
          "align": "left",
          "font": {
           "color": "#000000",
           "size": 8
          },
          "showarrow": false,
          "text": "Nintendo",
          "x": 4.55,
          "xanchor": "left",
          "xref": "x",
          "y": 2,
          "yref": "y"
         },
         {
          "align": "left",
          "font": {
           "color": "#000000",
           "size": 8
          },
          "showarrow": false,
          "text": "29.08",
          "x": 5.55,
          "xanchor": "left",
          "xref": "x",
          "y": 2,
          "yref": "y"
         },
         {
          "align": "left",
          "font": {
           "color": "#000000",
           "size": 8
          },
          "showarrow": false,
          "text": "3.58",
          "x": 6.55,
          "xanchor": "left",
          "xref": "x",
          "y": 2,
          "yref": "y"
         },
         {
          "align": "left",
          "font": {
           "color": "#000000",
           "size": 8
          },
          "showarrow": false,
          "text": "6.81",
          "x": 7.55,
          "xanchor": "left",
          "xref": "x",
          "y": 2,
          "yref": "y"
         },
         {
          "align": "left",
          "font": {
           "color": "#000000",
           "size": 8
          },
          "showarrow": false,
          "text": "0.77",
          "x": 8.55,
          "xanchor": "left",
          "xref": "x",
          "y": 2,
          "yref": "y"
         },
         {
          "align": "left",
          "font": {
           "color": "#000000",
           "size": 8
          },
          "showarrow": false,
          "text": "40.24",
          "x": 9.55,
          "xanchor": "left",
          "xref": "x",
          "y": 2,
          "yref": "y"
         },
         {
          "align": "left",
          "font": {
           "color": "#000000",
           "size": 8
          },
          "showarrow": false,
          "text": "3",
          "x": -0.45,
          "xanchor": "left",
          "xref": "x",
          "y": 3,
          "yref": "y"
         },
         {
          "align": "left",
          "font": {
           "color": "#000000",
           "size": 8
          },
          "showarrow": false,
          "text": "Mario Kart Wii",
          "x": 0.55,
          "xanchor": "left",
          "xref": "x",
          "y": 3,
          "yref": "y"
         },
         {
          "align": "left",
          "font": {
           "color": "#000000",
           "size": 8
          },
          "showarrow": false,
          "text": "Wii",
          "x": 1.55,
          "xanchor": "left",
          "xref": "x",
          "y": 3,
          "yref": "y"
         },
         {
          "align": "left",
          "font": {
           "color": "#000000",
           "size": 8
          },
          "showarrow": false,
          "text": "2008.0",
          "x": 2.55,
          "xanchor": "left",
          "xref": "x",
          "y": 3,
          "yref": "y"
         },
         {
          "align": "left",
          "font": {
           "color": "#000000",
           "size": 8
          },
          "showarrow": false,
          "text": "Racing",
          "x": 3.55,
          "xanchor": "left",
          "xref": "x",
          "y": 3,
          "yref": "y"
         },
         {
          "align": "left",
          "font": {
           "color": "#000000",
           "size": 8
          },
          "showarrow": false,
          "text": "Nintendo",
          "x": 4.55,
          "xanchor": "left",
          "xref": "x",
          "y": 3,
          "yref": "y"
         },
         {
          "align": "left",
          "font": {
           "color": "#000000",
           "size": 8
          },
          "showarrow": false,
          "text": "15.85",
          "x": 5.55,
          "xanchor": "left",
          "xref": "x",
          "y": 3,
          "yref": "y"
         },
         {
          "align": "left",
          "font": {
           "color": "#000000",
           "size": 8
          },
          "showarrow": false,
          "text": "12.88",
          "x": 6.55,
          "xanchor": "left",
          "xref": "x",
          "y": 3,
          "yref": "y"
         },
         {
          "align": "left",
          "font": {
           "color": "#000000",
           "size": 8
          },
          "showarrow": false,
          "text": "3.79",
          "x": 7.55,
          "xanchor": "left",
          "xref": "x",
          "y": 3,
          "yref": "y"
         },
         {
          "align": "left",
          "font": {
           "color": "#000000",
           "size": 8
          },
          "showarrow": false,
          "text": "3.31",
          "x": 8.55,
          "xanchor": "left",
          "xref": "x",
          "y": 3,
          "yref": "y"
         },
         {
          "align": "left",
          "font": {
           "color": "#000000",
           "size": 8
          },
          "showarrow": false,
          "text": "35.82",
          "x": 9.55,
          "xanchor": "left",
          "xref": "x",
          "y": 3,
          "yref": "y"
         },
         {
          "align": "left",
          "font": {
           "color": "#000000",
           "size": 8
          },
          "showarrow": false,
          "text": "4",
          "x": -0.45,
          "xanchor": "left",
          "xref": "x",
          "y": 4,
          "yref": "y"
         },
         {
          "align": "left",
          "font": {
           "color": "#000000",
           "size": 8
          },
          "showarrow": false,
          "text": "Wii Sports Resort",
          "x": 0.55,
          "xanchor": "left",
          "xref": "x",
          "y": 4,
          "yref": "y"
         },
         {
          "align": "left",
          "font": {
           "color": "#000000",
           "size": 8
          },
          "showarrow": false,
          "text": "Wii",
          "x": 1.55,
          "xanchor": "left",
          "xref": "x",
          "y": 4,
          "yref": "y"
         },
         {
          "align": "left",
          "font": {
           "color": "#000000",
           "size": 8
          },
          "showarrow": false,
          "text": "2009.0",
          "x": 2.55,
          "xanchor": "left",
          "xref": "x",
          "y": 4,
          "yref": "y"
         },
         {
          "align": "left",
          "font": {
           "color": "#000000",
           "size": 8
          },
          "showarrow": false,
          "text": "Sports",
          "x": 3.55,
          "xanchor": "left",
          "xref": "x",
          "y": 4,
          "yref": "y"
         },
         {
          "align": "left",
          "font": {
           "color": "#000000",
           "size": 8
          },
          "showarrow": false,
          "text": "Nintendo",
          "x": 4.55,
          "xanchor": "left",
          "xref": "x",
          "y": 4,
          "yref": "y"
         },
         {
          "align": "left",
          "font": {
           "color": "#000000",
           "size": 8
          },
          "showarrow": false,
          "text": "15.75",
          "x": 5.55,
          "xanchor": "left",
          "xref": "x",
          "y": 4,
          "yref": "y"
         },
         {
          "align": "left",
          "font": {
           "color": "#000000",
           "size": 8
          },
          "showarrow": false,
          "text": "11.01",
          "x": 6.55,
          "xanchor": "left",
          "xref": "x",
          "y": 4,
          "yref": "y"
         },
         {
          "align": "left",
          "font": {
           "color": "#000000",
           "size": 8
          },
          "showarrow": false,
          "text": "3.28",
          "x": 7.55,
          "xanchor": "left",
          "xref": "x",
          "y": 4,
          "yref": "y"
         },
         {
          "align": "left",
          "font": {
           "color": "#000000",
           "size": 8
          },
          "showarrow": false,
          "text": "2.96",
          "x": 8.55,
          "xanchor": "left",
          "xref": "x",
          "y": 4,
          "yref": "y"
         },
         {
          "align": "left",
          "font": {
           "color": "#000000",
           "size": 8
          },
          "showarrow": false,
          "text": "33.0",
          "x": 9.55,
          "xanchor": "left",
          "xref": "x",
          "y": 4,
          "yref": "y"
         },
         {
          "align": "left",
          "font": {
           "color": "#000000",
           "size": 8
          },
          "showarrow": false,
          "text": "5",
          "x": -0.45,
          "xanchor": "left",
          "xref": "x",
          "y": 5,
          "yref": "y"
         },
         {
          "align": "left",
          "font": {
           "color": "#000000",
           "size": 8
          },
          "showarrow": false,
          "text": "Pokemon Red/Pokemon Blue",
          "x": 0.55,
          "xanchor": "left",
          "xref": "x",
          "y": 5,
          "yref": "y"
         },
         {
          "align": "left",
          "font": {
           "color": "#000000",
           "size": 8
          },
          "showarrow": false,
          "text": "GB",
          "x": 1.55,
          "xanchor": "left",
          "xref": "x",
          "y": 5,
          "yref": "y"
         },
         {
          "align": "left",
          "font": {
           "color": "#000000",
           "size": 8
          },
          "showarrow": false,
          "text": "1996.0",
          "x": 2.55,
          "xanchor": "left",
          "xref": "x",
          "y": 5,
          "yref": "y"
         },
         {
          "align": "left",
          "font": {
           "color": "#000000",
           "size": 8
          },
          "showarrow": false,
          "text": "Role-Playing",
          "x": 3.55,
          "xanchor": "left",
          "xref": "x",
          "y": 5,
          "yref": "y"
         },
         {
          "align": "left",
          "font": {
           "color": "#000000",
           "size": 8
          },
          "showarrow": false,
          "text": "Nintendo",
          "x": 4.55,
          "xanchor": "left",
          "xref": "x",
          "y": 5,
          "yref": "y"
         },
         {
          "align": "left",
          "font": {
           "color": "#000000",
           "size": 8
          },
          "showarrow": false,
          "text": "11.27",
          "x": 5.55,
          "xanchor": "left",
          "xref": "x",
          "y": 5,
          "yref": "y"
         },
         {
          "align": "left",
          "font": {
           "color": "#000000",
           "size": 8
          },
          "showarrow": false,
          "text": "8.89",
          "x": 6.55,
          "xanchor": "left",
          "xref": "x",
          "y": 5,
          "yref": "y"
         },
         {
          "align": "left",
          "font": {
           "color": "#000000",
           "size": 8
          },
          "showarrow": false,
          "text": "10.22",
          "x": 7.55,
          "xanchor": "left",
          "xref": "x",
          "y": 5,
          "yref": "y"
         },
         {
          "align": "left",
          "font": {
           "color": "#000000",
           "size": 8
          },
          "showarrow": false,
          "text": "1.0",
          "x": 8.55,
          "xanchor": "left",
          "xref": "x",
          "y": 5,
          "yref": "y"
         },
         {
          "align": "left",
          "font": {
           "color": "#000000",
           "size": 8
          },
          "showarrow": false,
          "text": "31.37",
          "x": 9.55,
          "xanchor": "left",
          "xref": "x",
          "y": 5,
          "yref": "y"
         },
         {
          "align": "left",
          "font": {
           "color": "#000000",
           "size": 8
          },
          "showarrow": false,
          "text": "6",
          "x": -0.45,
          "xanchor": "left",
          "xref": "x",
          "y": 6,
          "yref": "y"
         },
         {
          "align": "left",
          "font": {
           "color": "#000000",
           "size": 8
          },
          "showarrow": false,
          "text": "Tetris",
          "x": 0.55,
          "xanchor": "left",
          "xref": "x",
          "y": 6,
          "yref": "y"
         },
         {
          "align": "left",
          "font": {
           "color": "#000000",
           "size": 8
          },
          "showarrow": false,
          "text": "GB",
          "x": 1.55,
          "xanchor": "left",
          "xref": "x",
          "y": 6,
          "yref": "y"
         },
         {
          "align": "left",
          "font": {
           "color": "#000000",
           "size": 8
          },
          "showarrow": false,
          "text": "1989.0",
          "x": 2.55,
          "xanchor": "left",
          "xref": "x",
          "y": 6,
          "yref": "y"
         },
         {
          "align": "left",
          "font": {
           "color": "#000000",
           "size": 8
          },
          "showarrow": false,
          "text": "Puzzle",
          "x": 3.55,
          "xanchor": "left",
          "xref": "x",
          "y": 6,
          "yref": "y"
         },
         {
          "align": "left",
          "font": {
           "color": "#000000",
           "size": 8
          },
          "showarrow": false,
          "text": "Nintendo",
          "x": 4.55,
          "xanchor": "left",
          "xref": "x",
          "y": 6,
          "yref": "y"
         },
         {
          "align": "left",
          "font": {
           "color": "#000000",
           "size": 8
          },
          "showarrow": false,
          "text": "23.2",
          "x": 5.55,
          "xanchor": "left",
          "xref": "x",
          "y": 6,
          "yref": "y"
         },
         {
          "align": "left",
          "font": {
           "color": "#000000",
           "size": 8
          },
          "showarrow": false,
          "text": "2.26",
          "x": 6.55,
          "xanchor": "left",
          "xref": "x",
          "y": 6,
          "yref": "y"
         },
         {
          "align": "left",
          "font": {
           "color": "#000000",
           "size": 8
          },
          "showarrow": false,
          "text": "4.22",
          "x": 7.55,
          "xanchor": "left",
          "xref": "x",
          "y": 6,
          "yref": "y"
         },
         {
          "align": "left",
          "font": {
           "color": "#000000",
           "size": 8
          },
          "showarrow": false,
          "text": "0.58",
          "x": 8.55,
          "xanchor": "left",
          "xref": "x",
          "y": 6,
          "yref": "y"
         },
         {
          "align": "left",
          "font": {
           "color": "#000000",
           "size": 8
          },
          "showarrow": false,
          "text": "30.26",
          "x": 9.55,
          "xanchor": "left",
          "xref": "x",
          "y": 6,
          "yref": "y"
         },
         {
          "align": "left",
          "font": {
           "color": "#000000",
           "size": 8
          },
          "showarrow": false,
          "text": "7",
          "x": -0.45,
          "xanchor": "left",
          "xref": "x",
          "y": 7,
          "yref": "y"
         },
         {
          "align": "left",
          "font": {
           "color": "#000000",
           "size": 8
          },
          "showarrow": false,
          "text": "New Super Mario Bros.",
          "x": 0.55,
          "xanchor": "left",
          "xref": "x",
          "y": 7,
          "yref": "y"
         },
         {
          "align": "left",
          "font": {
           "color": "#000000",
           "size": 8
          },
          "showarrow": false,
          "text": "DS",
          "x": 1.55,
          "xanchor": "left",
          "xref": "x",
          "y": 7,
          "yref": "y"
         },
         {
          "align": "left",
          "font": {
           "color": "#000000",
           "size": 8
          },
          "showarrow": false,
          "text": "2006.0",
          "x": 2.55,
          "xanchor": "left",
          "xref": "x",
          "y": 7,
          "yref": "y"
         },
         {
          "align": "left",
          "font": {
           "color": "#000000",
           "size": 8
          },
          "showarrow": false,
          "text": "Platform",
          "x": 3.55,
          "xanchor": "left",
          "xref": "x",
          "y": 7,
          "yref": "y"
         },
         {
          "align": "left",
          "font": {
           "color": "#000000",
           "size": 8
          },
          "showarrow": false,
          "text": "Nintendo",
          "x": 4.55,
          "xanchor": "left",
          "xref": "x",
          "y": 7,
          "yref": "y"
         },
         {
          "align": "left",
          "font": {
           "color": "#000000",
           "size": 8
          },
          "showarrow": false,
          "text": "11.38",
          "x": 5.55,
          "xanchor": "left",
          "xref": "x",
          "y": 7,
          "yref": "y"
         },
         {
          "align": "left",
          "font": {
           "color": "#000000",
           "size": 8
          },
          "showarrow": false,
          "text": "9.23",
          "x": 6.55,
          "xanchor": "left",
          "xref": "x",
          "y": 7,
          "yref": "y"
         },
         {
          "align": "left",
          "font": {
           "color": "#000000",
           "size": 8
          },
          "showarrow": false,
          "text": "6.5",
          "x": 7.55,
          "xanchor": "left",
          "xref": "x",
          "y": 7,
          "yref": "y"
         },
         {
          "align": "left",
          "font": {
           "color": "#000000",
           "size": 8
          },
          "showarrow": false,
          "text": "2.9",
          "x": 8.55,
          "xanchor": "left",
          "xref": "x",
          "y": 7,
          "yref": "y"
         },
         {
          "align": "left",
          "font": {
           "color": "#000000",
           "size": 8
          },
          "showarrow": false,
          "text": "30.01",
          "x": 9.55,
          "xanchor": "left",
          "xref": "x",
          "y": 7,
          "yref": "y"
         },
         {
          "align": "left",
          "font": {
           "color": "#000000",
           "size": 8
          },
          "showarrow": false,
          "text": "8",
          "x": -0.45,
          "xanchor": "left",
          "xref": "x",
          "y": 8,
          "yref": "y"
         },
         {
          "align": "left",
          "font": {
           "color": "#000000",
           "size": 8
          },
          "showarrow": false,
          "text": "Wii Play",
          "x": 0.55,
          "xanchor": "left",
          "xref": "x",
          "y": 8,
          "yref": "y"
         },
         {
          "align": "left",
          "font": {
           "color": "#000000",
           "size": 8
          },
          "showarrow": false,
          "text": "Wii",
          "x": 1.55,
          "xanchor": "left",
          "xref": "x",
          "y": 8,
          "yref": "y"
         },
         {
          "align": "left",
          "font": {
           "color": "#000000",
           "size": 8
          },
          "showarrow": false,
          "text": "2006.0",
          "x": 2.55,
          "xanchor": "left",
          "xref": "x",
          "y": 8,
          "yref": "y"
         },
         {
          "align": "left",
          "font": {
           "color": "#000000",
           "size": 8
          },
          "showarrow": false,
          "text": "Misc",
          "x": 3.55,
          "xanchor": "left",
          "xref": "x",
          "y": 8,
          "yref": "y"
         },
         {
          "align": "left",
          "font": {
           "color": "#000000",
           "size": 8
          },
          "showarrow": false,
          "text": "Nintendo",
          "x": 4.55,
          "xanchor": "left",
          "xref": "x",
          "y": 8,
          "yref": "y"
         },
         {
          "align": "left",
          "font": {
           "color": "#000000",
           "size": 8
          },
          "showarrow": false,
          "text": "14.03",
          "x": 5.55,
          "xanchor": "left",
          "xref": "x",
          "y": 8,
          "yref": "y"
         },
         {
          "align": "left",
          "font": {
           "color": "#000000",
           "size": 8
          },
          "showarrow": false,
          "text": "9.2",
          "x": 6.55,
          "xanchor": "left",
          "xref": "x",
          "y": 8,
          "yref": "y"
         },
         {
          "align": "left",
          "font": {
           "color": "#000000",
           "size": 8
          },
          "showarrow": false,
          "text": "2.93",
          "x": 7.55,
          "xanchor": "left",
          "xref": "x",
          "y": 8,
          "yref": "y"
         },
         {
          "align": "left",
          "font": {
           "color": "#000000",
           "size": 8
          },
          "showarrow": false,
          "text": "2.85",
          "x": 8.55,
          "xanchor": "left",
          "xref": "x",
          "y": 8,
          "yref": "y"
         },
         {
          "align": "left",
          "font": {
           "color": "#000000",
           "size": 8
          },
          "showarrow": false,
          "text": "29.02",
          "x": 9.55,
          "xanchor": "left",
          "xref": "x",
          "y": 8,
          "yref": "y"
         },
         {
          "align": "left",
          "font": {
           "color": "#000000",
           "size": 8
          },
          "showarrow": false,
          "text": "9",
          "x": -0.45,
          "xanchor": "left",
          "xref": "x",
          "y": 9,
          "yref": "y"
         },
         {
          "align": "left",
          "font": {
           "color": "#000000",
           "size": 8
          },
          "showarrow": false,
          "text": "New Super Mario Bros. Wii",
          "x": 0.55,
          "xanchor": "left",
          "xref": "x",
          "y": 9,
          "yref": "y"
         },
         {
          "align": "left",
          "font": {
           "color": "#000000",
           "size": 8
          },
          "showarrow": false,
          "text": "Wii",
          "x": 1.55,
          "xanchor": "left",
          "xref": "x",
          "y": 9,
          "yref": "y"
         },
         {
          "align": "left",
          "font": {
           "color": "#000000",
           "size": 8
          },
          "showarrow": false,
          "text": "2009.0",
          "x": 2.55,
          "xanchor": "left",
          "xref": "x",
          "y": 9,
          "yref": "y"
         },
         {
          "align": "left",
          "font": {
           "color": "#000000",
           "size": 8
          },
          "showarrow": false,
          "text": "Platform",
          "x": 3.55,
          "xanchor": "left",
          "xref": "x",
          "y": 9,
          "yref": "y"
         },
         {
          "align": "left",
          "font": {
           "color": "#000000",
           "size": 8
          },
          "showarrow": false,
          "text": "Nintendo",
          "x": 4.55,
          "xanchor": "left",
          "xref": "x",
          "y": 9,
          "yref": "y"
         },
         {
          "align": "left",
          "font": {
           "color": "#000000",
           "size": 8
          },
          "showarrow": false,
          "text": "14.59",
          "x": 5.55,
          "xanchor": "left",
          "xref": "x",
          "y": 9,
          "yref": "y"
         },
         {
          "align": "left",
          "font": {
           "color": "#000000",
           "size": 8
          },
          "showarrow": false,
          "text": "7.06",
          "x": 6.55,
          "xanchor": "left",
          "xref": "x",
          "y": 9,
          "yref": "y"
         },
         {
          "align": "left",
          "font": {
           "color": "#000000",
           "size": 8
          },
          "showarrow": false,
          "text": "4.7",
          "x": 7.55,
          "xanchor": "left",
          "xref": "x",
          "y": 9,
          "yref": "y"
         },
         {
          "align": "left",
          "font": {
           "color": "#000000",
           "size": 8
          },
          "showarrow": false,
          "text": "2.26",
          "x": 8.55,
          "xanchor": "left",
          "xref": "x",
          "y": 9,
          "yref": "y"
         },
         {
          "align": "left",
          "font": {
           "color": "#000000",
           "size": 8
          },
          "showarrow": false,
          "text": "28.62",
          "x": 9.55,
          "xanchor": "left",
          "xref": "x",
          "y": 9,
          "yref": "y"
         },
         {
          "align": "left",
          "font": {
           "color": "#000000",
           "size": 8
          },
          "showarrow": false,
          "text": "10",
          "x": -0.45,
          "xanchor": "left",
          "xref": "x",
          "y": 10,
          "yref": "y"
         },
         {
          "align": "left",
          "font": {
           "color": "#000000",
           "size": 8
          },
          "showarrow": false,
          "text": "Duck Hunt",
          "x": 0.55,
          "xanchor": "left",
          "xref": "x",
          "y": 10,
          "yref": "y"
         },
         {
          "align": "left",
          "font": {
           "color": "#000000",
           "size": 8
          },
          "showarrow": false,
          "text": "NES",
          "x": 1.55,
          "xanchor": "left",
          "xref": "x",
          "y": 10,
          "yref": "y"
         },
         {
          "align": "left",
          "font": {
           "color": "#000000",
           "size": 8
          },
          "showarrow": false,
          "text": "1984.0",
          "x": 2.55,
          "xanchor": "left",
          "xref": "x",
          "y": 10,
          "yref": "y"
         },
         {
          "align": "left",
          "font": {
           "color": "#000000",
           "size": 8
          },
          "showarrow": false,
          "text": "Shooter",
          "x": 3.55,
          "xanchor": "left",
          "xref": "x",
          "y": 10,
          "yref": "y"
         },
         {
          "align": "left",
          "font": {
           "color": "#000000",
           "size": 8
          },
          "showarrow": false,
          "text": "Nintendo",
          "x": 4.55,
          "xanchor": "left",
          "xref": "x",
          "y": 10,
          "yref": "y"
         },
         {
          "align": "left",
          "font": {
           "color": "#000000",
           "size": 8
          },
          "showarrow": false,
          "text": "26.93",
          "x": 5.55,
          "xanchor": "left",
          "xref": "x",
          "y": 10,
          "yref": "y"
         },
         {
          "align": "left",
          "font": {
           "color": "#000000",
           "size": 8
          },
          "showarrow": false,
          "text": "0.63",
          "x": 6.55,
          "xanchor": "left",
          "xref": "x",
          "y": 10,
          "yref": "y"
         },
         {
          "align": "left",
          "font": {
           "color": "#000000",
           "size": 8
          },
          "showarrow": false,
          "text": "0.28",
          "x": 7.55,
          "xanchor": "left",
          "xref": "x",
          "y": 10,
          "yref": "y"
         },
         {
          "align": "left",
          "font": {
           "color": "#000000",
           "size": 8
          },
          "showarrow": false,
          "text": "0.47",
          "x": 8.55,
          "xanchor": "left",
          "xref": "x",
          "y": 10,
          "yref": "y"
         },
         {
          "align": "left",
          "font": {
           "color": "#000000",
           "size": 8
          },
          "showarrow": false,
          "text": "28.31",
          "x": 9.55,
          "xanchor": "left",
          "xref": "x",
          "y": 10,
          "yref": "y"
         }
        ],
        "height": 380,
        "margin": {
         "b": 0,
         "l": 0,
         "r": 0,
         "t": 0
        },
        "template": {
         "data": {
          "bar": [
           {
            "error_x": {
             "color": "#2a3f5f"
            },
            "error_y": {
             "color": "#2a3f5f"
            },
            "marker": {
             "line": {
              "color": "#E5ECF6",
              "width": 0.5
             }
            },
            "type": "bar"
           }
          ],
          "barpolar": [
           {
            "marker": {
             "line": {
              "color": "#E5ECF6",
              "width": 0.5
             }
            },
            "type": "barpolar"
           }
          ],
          "carpet": [
           {
            "aaxis": {
             "endlinecolor": "#2a3f5f",
             "gridcolor": "white",
             "linecolor": "white",
             "minorgridcolor": "white",
             "startlinecolor": "#2a3f5f"
            },
            "baxis": {
             "endlinecolor": "#2a3f5f",
             "gridcolor": "white",
             "linecolor": "white",
             "minorgridcolor": "white",
             "startlinecolor": "#2a3f5f"
            },
            "type": "carpet"
           }
          ],
          "choropleth": [
           {
            "colorbar": {
             "outlinewidth": 0,
             "ticks": ""
            },
            "type": "choropleth"
           }
          ],
          "contour": [
           {
            "colorbar": {
             "outlinewidth": 0,
             "ticks": ""
            },
            "colorscale": [
             [
              0,
              "#0d0887"
             ],
             [
              0.1111111111111111,
              "#46039f"
             ],
             [
              0.2222222222222222,
              "#7201a8"
             ],
             [
              0.3333333333333333,
              "#9c179e"
             ],
             [
              0.4444444444444444,
              "#bd3786"
             ],
             [
              0.5555555555555556,
              "#d8576b"
             ],
             [
              0.6666666666666666,
              "#ed7953"
             ],
             [
              0.7777777777777778,
              "#fb9f3a"
             ],
             [
              0.8888888888888888,
              "#fdca26"
             ],
             [
              1,
              "#f0f921"
             ]
            ],
            "type": "contour"
           }
          ],
          "contourcarpet": [
           {
            "colorbar": {
             "outlinewidth": 0,
             "ticks": ""
            },
            "type": "contourcarpet"
           }
          ],
          "heatmap": [
           {
            "colorbar": {
             "outlinewidth": 0,
             "ticks": ""
            },
            "colorscale": [
             [
              0,
              "#0d0887"
             ],
             [
              0.1111111111111111,
              "#46039f"
             ],
             [
              0.2222222222222222,
              "#7201a8"
             ],
             [
              0.3333333333333333,
              "#9c179e"
             ],
             [
              0.4444444444444444,
              "#bd3786"
             ],
             [
              0.5555555555555556,
              "#d8576b"
             ],
             [
              0.6666666666666666,
              "#ed7953"
             ],
             [
              0.7777777777777778,
              "#fb9f3a"
             ],
             [
              0.8888888888888888,
              "#fdca26"
             ],
             [
              1,
              "#f0f921"
             ]
            ],
            "type": "heatmap"
           }
          ],
          "heatmapgl": [
           {
            "colorbar": {
             "outlinewidth": 0,
             "ticks": ""
            },
            "colorscale": [
             [
              0,
              "#0d0887"
             ],
             [
              0.1111111111111111,
              "#46039f"
             ],
             [
              0.2222222222222222,
              "#7201a8"
             ],
             [
              0.3333333333333333,
              "#9c179e"
             ],
             [
              0.4444444444444444,
              "#bd3786"
             ],
             [
              0.5555555555555556,
              "#d8576b"
             ],
             [
              0.6666666666666666,
              "#ed7953"
             ],
             [
              0.7777777777777778,
              "#fb9f3a"
             ],
             [
              0.8888888888888888,
              "#fdca26"
             ],
             [
              1,
              "#f0f921"
             ]
            ],
            "type": "heatmapgl"
           }
          ],
          "histogram": [
           {
            "marker": {
             "colorbar": {
              "outlinewidth": 0,
              "ticks": ""
             }
            },
            "type": "histogram"
           }
          ],
          "histogram2d": [
           {
            "colorbar": {
             "outlinewidth": 0,
             "ticks": ""
            },
            "colorscale": [
             [
              0,
              "#0d0887"
             ],
             [
              0.1111111111111111,
              "#46039f"
             ],
             [
              0.2222222222222222,
              "#7201a8"
             ],
             [
              0.3333333333333333,
              "#9c179e"
             ],
             [
              0.4444444444444444,
              "#bd3786"
             ],
             [
              0.5555555555555556,
              "#d8576b"
             ],
             [
              0.6666666666666666,
              "#ed7953"
             ],
             [
              0.7777777777777778,
              "#fb9f3a"
             ],
             [
              0.8888888888888888,
              "#fdca26"
             ],
             [
              1,
              "#f0f921"
             ]
            ],
            "type": "histogram2d"
           }
          ],
          "histogram2dcontour": [
           {
            "colorbar": {
             "outlinewidth": 0,
             "ticks": ""
            },
            "colorscale": [
             [
              0,
              "#0d0887"
             ],
             [
              0.1111111111111111,
              "#46039f"
             ],
             [
              0.2222222222222222,
              "#7201a8"
             ],
             [
              0.3333333333333333,
              "#9c179e"
             ],
             [
              0.4444444444444444,
              "#bd3786"
             ],
             [
              0.5555555555555556,
              "#d8576b"
             ],
             [
              0.6666666666666666,
              "#ed7953"
             ],
             [
              0.7777777777777778,
              "#fb9f3a"
             ],
             [
              0.8888888888888888,
              "#fdca26"
             ],
             [
              1,
              "#f0f921"
             ]
            ],
            "type": "histogram2dcontour"
           }
          ],
          "mesh3d": [
           {
            "colorbar": {
             "outlinewidth": 0,
             "ticks": ""
            },
            "type": "mesh3d"
           }
          ],
          "parcoords": [
           {
            "line": {
             "colorbar": {
              "outlinewidth": 0,
              "ticks": ""
             }
            },
            "type": "parcoords"
           }
          ],
          "pie": [
           {
            "automargin": true,
            "type": "pie"
           }
          ],
          "scatter": [
           {
            "marker": {
             "colorbar": {
              "outlinewidth": 0,
              "ticks": ""
             }
            },
            "type": "scatter"
           }
          ],
          "scatter3d": [
           {
            "line": {
             "colorbar": {
              "outlinewidth": 0,
              "ticks": ""
             }
            },
            "marker": {
             "colorbar": {
              "outlinewidth": 0,
              "ticks": ""
             }
            },
            "type": "scatter3d"
           }
          ],
          "scattercarpet": [
           {
            "marker": {
             "colorbar": {
              "outlinewidth": 0,
              "ticks": ""
             }
            },
            "type": "scattercarpet"
           }
          ],
          "scattergeo": [
           {
            "marker": {
             "colorbar": {
              "outlinewidth": 0,
              "ticks": ""
             }
            },
            "type": "scattergeo"
           }
          ],
          "scattergl": [
           {
            "marker": {
             "colorbar": {
              "outlinewidth": 0,
              "ticks": ""
             }
            },
            "type": "scattergl"
           }
          ],
          "scattermapbox": [
           {
            "marker": {
             "colorbar": {
              "outlinewidth": 0,
              "ticks": ""
             }
            },
            "type": "scattermapbox"
           }
          ],
          "scatterpolar": [
           {
            "marker": {
             "colorbar": {
              "outlinewidth": 0,
              "ticks": ""
             }
            },
            "type": "scatterpolar"
           }
          ],
          "scatterpolargl": [
           {
            "marker": {
             "colorbar": {
              "outlinewidth": 0,
              "ticks": ""
             }
            },
            "type": "scatterpolargl"
           }
          ],
          "scatterternary": [
           {
            "marker": {
             "colorbar": {
              "outlinewidth": 0,
              "ticks": ""
             }
            },
            "type": "scatterternary"
           }
          ],
          "surface": [
           {
            "colorbar": {
             "outlinewidth": 0,
             "ticks": ""
            },
            "colorscale": [
             [
              0,
              "#0d0887"
             ],
             [
              0.1111111111111111,
              "#46039f"
             ],
             [
              0.2222222222222222,
              "#7201a8"
             ],
             [
              0.3333333333333333,
              "#9c179e"
             ],
             [
              0.4444444444444444,
              "#bd3786"
             ],
             [
              0.5555555555555556,
              "#d8576b"
             ],
             [
              0.6666666666666666,
              "#ed7953"
             ],
             [
              0.7777777777777778,
              "#fb9f3a"
             ],
             [
              0.8888888888888888,
              "#fdca26"
             ],
             [
              1,
              "#f0f921"
             ]
            ],
            "type": "surface"
           }
          ],
          "table": [
           {
            "cells": {
             "fill": {
              "color": "#EBF0F8"
             },
             "line": {
              "color": "white"
             }
            },
            "header": {
             "fill": {
              "color": "#C8D4E3"
             },
             "line": {
              "color": "white"
             }
            },
            "type": "table"
           }
          ]
         },
         "layout": {
          "annotationdefaults": {
           "arrowcolor": "#2a3f5f",
           "arrowhead": 0,
           "arrowwidth": 1
          },
          "coloraxis": {
           "colorbar": {
            "outlinewidth": 0,
            "ticks": ""
           }
          },
          "colorscale": {
           "diverging": [
            [
             0,
             "#8e0152"
            ],
            [
             0.1,
             "#c51b7d"
            ],
            [
             0.2,
             "#de77ae"
            ],
            [
             0.3,
             "#f1b6da"
            ],
            [
             0.4,
             "#fde0ef"
            ],
            [
             0.5,
             "#f7f7f7"
            ],
            [
             0.6,
             "#e6f5d0"
            ],
            [
             0.7,
             "#b8e186"
            ],
            [
             0.8,
             "#7fbc41"
            ],
            [
             0.9,
             "#4d9221"
            ],
            [
             1,
             "#276419"
            ]
           ],
           "sequential": [
            [
             0,
             "#0d0887"
            ],
            [
             0.1111111111111111,
             "#46039f"
            ],
            [
             0.2222222222222222,
             "#7201a8"
            ],
            [
             0.3333333333333333,
             "#9c179e"
            ],
            [
             0.4444444444444444,
             "#bd3786"
            ],
            [
             0.5555555555555556,
             "#d8576b"
            ],
            [
             0.6666666666666666,
             "#ed7953"
            ],
            [
             0.7777777777777778,
             "#fb9f3a"
            ],
            [
             0.8888888888888888,
             "#fdca26"
            ],
            [
             1,
             "#f0f921"
            ]
           ],
           "sequentialminus": [
            [
             0,
             "#0d0887"
            ],
            [
             0.1111111111111111,
             "#46039f"
            ],
            [
             0.2222222222222222,
             "#7201a8"
            ],
            [
             0.3333333333333333,
             "#9c179e"
            ],
            [
             0.4444444444444444,
             "#bd3786"
            ],
            [
             0.5555555555555556,
             "#d8576b"
            ],
            [
             0.6666666666666666,
             "#ed7953"
            ],
            [
             0.7777777777777778,
             "#fb9f3a"
            ],
            [
             0.8888888888888888,
             "#fdca26"
            ],
            [
             1,
             "#f0f921"
            ]
           ]
          },
          "colorway": [
           "#636efa",
           "#EF553B",
           "#00cc96",
           "#ab63fa",
           "#FFA15A",
           "#19d3f3",
           "#FF6692",
           "#B6E880",
           "#FF97FF",
           "#FECB52"
          ],
          "font": {
           "color": "#2a3f5f"
          },
          "geo": {
           "bgcolor": "white",
           "lakecolor": "white",
           "landcolor": "#E5ECF6",
           "showlakes": true,
           "showland": true,
           "subunitcolor": "white"
          },
          "hoverlabel": {
           "align": "left"
          },
          "hovermode": "closest",
          "mapbox": {
           "style": "light"
          },
          "paper_bgcolor": "white",
          "plot_bgcolor": "#E5ECF6",
          "polar": {
           "angularaxis": {
            "gridcolor": "white",
            "linecolor": "white",
            "ticks": ""
           },
           "bgcolor": "#E5ECF6",
           "radialaxis": {
            "gridcolor": "white",
            "linecolor": "white",
            "ticks": ""
           }
          },
          "scene": {
           "xaxis": {
            "backgroundcolor": "#E5ECF6",
            "gridcolor": "white",
            "gridwidth": 2,
            "linecolor": "white",
            "showbackground": true,
            "ticks": "",
            "zerolinecolor": "white"
           },
           "yaxis": {
            "backgroundcolor": "#E5ECF6",
            "gridcolor": "white",
            "gridwidth": 2,
            "linecolor": "white",
            "showbackground": true,
            "ticks": "",
            "zerolinecolor": "white"
           },
           "zaxis": {
            "backgroundcolor": "#E5ECF6",
            "gridcolor": "white",
            "gridwidth": 2,
            "linecolor": "white",
            "showbackground": true,
            "ticks": "",
            "zerolinecolor": "white"
           }
          },
          "shapedefaults": {
           "line": {
            "color": "#2a3f5f"
           }
          },
          "ternary": {
           "aaxis": {
            "gridcolor": "white",
            "linecolor": "white",
            "ticks": ""
           },
           "baxis": {
            "gridcolor": "white",
            "linecolor": "white",
            "ticks": ""
           },
           "bgcolor": "#E5ECF6",
           "caxis": {
            "gridcolor": "white",
            "linecolor": "white",
            "ticks": ""
           }
          },
          "title": {
           "x": 0.05
          },
          "xaxis": {
           "automargin": true,
           "gridcolor": "white",
           "linecolor": "white",
           "ticks": "",
           "title": {
            "standoff": 15
           },
           "zerolinecolor": "white",
           "zerolinewidth": 2
          },
          "yaxis": {
           "automargin": true,
           "gridcolor": "white",
           "linecolor": "white",
           "ticks": "",
           "title": {
            "standoff": 15
           },
           "zerolinecolor": "white",
           "zerolinewidth": 2
          }
         }
        },
        "xaxis": {
         "dtick": 1,
         "gridwidth": 2,
         "showticklabels": false,
         "tick0": -0.5,
         "ticks": "",
         "zeroline": false
        },
        "yaxis": {
         "autorange": "reversed",
         "dtick": 1,
         "gridwidth": 2,
         "showticklabels": false,
         "tick0": 0.5,
         "ticks": "",
         "zeroline": false
        }
       }
      },
      "text/html": [
       "<div>                            <div id=\"2fcd6b4d-1257-42bc-816c-a1b6b162275b\" class=\"plotly-graph-div\" style=\"height:380px; width:100%;\"></div>            <script type=\"text/javascript\">                require([\"plotly\"], function(Plotly) {                    window.PLOTLYENV=window.PLOTLYENV || {};                                    if (document.getElementById(\"2fcd6b4d-1257-42bc-816c-a1b6b162275b\")) {                    Plotly.newPlot(                        \"2fcd6b4d-1257-42bc-816c-a1b6b162275b\",                        [{\"colorscale\": [[0.0, \"rgb(3, 5, 18)\"], [0.09090909090909091, \"rgb(25, 25, 51)\"], [0.18181818181818182, \"rgb(44, 42, 87)\"], [0.2727272727272727, \"rgb(58, 60, 125)\"], [0.36363636363636365, \"rgb(62, 83, 160)\"], [0.45454545454545453, \"rgb(62, 109, 178)\"], [0.5454545454545454, \"rgb(72, 134, 187)\"], [0.6363636363636364, \"rgb(89, 159, 196)\"], [0.7272727272727273, \"rgb(114, 184, 205)\"], [0.8181818181818182, \"rgb(149, 207, 216)\"], [0.9090909090909091, \"rgb(192, 229, 232)\"], [1.0, \"rgb(234, 252, 253)\"]], \"hoverinfo\": \"none\", \"opacity\": 0.75, \"showscale\": false, \"type\": \"heatmap\", \"z\": [[0, 0, 0, 0, 0, 0, 0, 0, 0, 0, 0], [0.5, 0.5, 0.5, 0.5, 0.5, 0.5, 0.5, 0.5, 0.5, 0.5, 0.5], [1, 1, 1, 1, 1, 1, 1, 1, 1, 1, 1], [0.5, 0.5, 0.5, 0.5, 0.5, 0.5, 0.5, 0.5, 0.5, 0.5, 0.5], [1, 1, 1, 1, 1, 1, 1, 1, 1, 1, 1], [0.5, 0.5, 0.5, 0.5, 0.5, 0.5, 0.5, 0.5, 0.5, 0.5, 0.5], [1, 1, 1, 1, 1, 1, 1, 1, 1, 1, 1], [0.5, 0.5, 0.5, 0.5, 0.5, 0.5, 0.5, 0.5, 0.5, 0.5, 0.5], [1, 1, 1, 1, 1, 1, 1, 1, 1, 1, 1], [0.5, 0.5, 0.5, 0.5, 0.5, 0.5, 0.5, 0.5, 0.5, 0.5, 0.5], [1, 1, 1, 1, 1, 1, 1, 1, 1, 1, 1]]}],                        {\"annotations\": [{\"align\": \"left\", \"font\": {\"color\": \"#ffffff\", \"size\": 8}, \"showarrow\": false, \"text\": \"<b>Rank</b>\", \"x\": -0.45, \"xanchor\": \"left\", \"xref\": \"x\", \"y\": 0, \"yref\": \"y\"}, {\"align\": \"left\", \"font\": {\"color\": \"#ffffff\", \"size\": 8}, \"showarrow\": false, \"text\": \"<b>Name</b>\", \"x\": 0.55, \"xanchor\": \"left\", \"xref\": \"x\", \"y\": 0, \"yref\": \"y\"}, {\"align\": \"left\", \"font\": {\"color\": \"#ffffff\", \"size\": 8}, \"showarrow\": false, \"text\": \"<b>Platform</b>\", \"x\": 1.55, \"xanchor\": \"left\", \"xref\": \"x\", \"y\": 0, \"yref\": \"y\"}, {\"align\": \"left\", \"font\": {\"color\": \"#ffffff\", \"size\": 8}, \"showarrow\": false, \"text\": \"<b>Year</b>\", \"x\": 2.55, \"xanchor\": \"left\", \"xref\": \"x\", \"y\": 0, \"yref\": \"y\"}, {\"align\": \"left\", \"font\": {\"color\": \"#ffffff\", \"size\": 8}, \"showarrow\": false, \"text\": \"<b>Genre</b>\", \"x\": 3.55, \"xanchor\": \"left\", \"xref\": \"x\", \"y\": 0, \"yref\": \"y\"}, {\"align\": \"left\", \"font\": {\"color\": \"#ffffff\", \"size\": 8}, \"showarrow\": false, \"text\": \"<b>Publisher</b>\", \"x\": 4.55, \"xanchor\": \"left\", \"xref\": \"x\", \"y\": 0, \"yref\": \"y\"}, {\"align\": \"left\", \"font\": {\"color\": \"#ffffff\", \"size\": 8}, \"showarrow\": false, \"text\": \"<b>NA_Sales</b>\", \"x\": 5.55, \"xanchor\": \"left\", \"xref\": \"x\", \"y\": 0, \"yref\": \"y\"}, {\"align\": \"left\", \"font\": {\"color\": \"#ffffff\", \"size\": 8}, \"showarrow\": false, \"text\": \"<b>EU_Sales</b>\", \"x\": 6.55, \"xanchor\": \"left\", \"xref\": \"x\", \"y\": 0, \"yref\": \"y\"}, {\"align\": \"left\", \"font\": {\"color\": \"#ffffff\", \"size\": 8}, \"showarrow\": false, \"text\": \"<b>JP_Sales</b>\", \"x\": 7.55, \"xanchor\": \"left\", \"xref\": \"x\", \"y\": 0, \"yref\": \"y\"}, {\"align\": \"left\", \"font\": {\"color\": \"#ffffff\", \"size\": 8}, \"showarrow\": false, \"text\": \"<b>Other_Sales</b>\", \"x\": 8.55, \"xanchor\": \"left\", \"xref\": \"x\", \"y\": 0, \"yref\": \"y\"}, {\"align\": \"left\", \"font\": {\"color\": \"#ffffff\", \"size\": 8}, \"showarrow\": false, \"text\": \"<b>Global_Sales</b>\", \"x\": 9.55, \"xanchor\": \"left\", \"xref\": \"x\", \"y\": 0, \"yref\": \"y\"}, {\"align\": \"left\", \"font\": {\"color\": \"#000000\", \"size\": 8}, \"showarrow\": false, \"text\": \"1\", \"x\": -0.45, \"xanchor\": \"left\", \"xref\": \"x\", \"y\": 1, \"yref\": \"y\"}, {\"align\": \"left\", \"font\": {\"color\": \"#000000\", \"size\": 8}, \"showarrow\": false, \"text\": \"Wii Sports\", \"x\": 0.55, \"xanchor\": \"left\", \"xref\": \"x\", \"y\": 1, \"yref\": \"y\"}, {\"align\": \"left\", \"font\": {\"color\": \"#000000\", \"size\": 8}, \"showarrow\": false, \"text\": \"Wii\", \"x\": 1.55, \"xanchor\": \"left\", \"xref\": \"x\", \"y\": 1, \"yref\": \"y\"}, {\"align\": \"left\", \"font\": {\"color\": \"#000000\", \"size\": 8}, \"showarrow\": false, \"text\": \"2006.0\", \"x\": 2.55, \"xanchor\": \"left\", \"xref\": \"x\", \"y\": 1, \"yref\": \"y\"}, {\"align\": \"left\", \"font\": {\"color\": \"#000000\", \"size\": 8}, \"showarrow\": false, \"text\": \"Sports\", \"x\": 3.55, \"xanchor\": \"left\", \"xref\": \"x\", \"y\": 1, \"yref\": \"y\"}, {\"align\": \"left\", \"font\": {\"color\": \"#000000\", \"size\": 8}, \"showarrow\": false, \"text\": \"Nintendo\", \"x\": 4.55, \"xanchor\": \"left\", \"xref\": \"x\", \"y\": 1, \"yref\": \"y\"}, {\"align\": \"left\", \"font\": {\"color\": \"#000000\", \"size\": 8}, \"showarrow\": false, \"text\": \"41.49\", \"x\": 5.55, \"xanchor\": \"left\", \"xref\": \"x\", \"y\": 1, \"yref\": \"y\"}, {\"align\": \"left\", \"font\": {\"color\": \"#000000\", \"size\": 8}, \"showarrow\": false, \"text\": \"29.02\", \"x\": 6.55, \"xanchor\": \"left\", \"xref\": \"x\", \"y\": 1, \"yref\": \"y\"}, {\"align\": \"left\", \"font\": {\"color\": \"#000000\", \"size\": 8}, \"showarrow\": false, \"text\": \"3.77\", \"x\": 7.55, \"xanchor\": \"left\", \"xref\": \"x\", \"y\": 1, \"yref\": \"y\"}, {\"align\": \"left\", \"font\": {\"color\": \"#000000\", \"size\": 8}, \"showarrow\": false, \"text\": \"8.46\", \"x\": 8.55, \"xanchor\": \"left\", \"xref\": \"x\", \"y\": 1, \"yref\": \"y\"}, {\"align\": \"left\", \"font\": {\"color\": \"#000000\", \"size\": 8}, \"showarrow\": false, \"text\": \"82.74\", \"x\": 9.55, \"xanchor\": \"left\", \"xref\": \"x\", \"y\": 1, \"yref\": \"y\"}, {\"align\": \"left\", \"font\": {\"color\": \"#000000\", \"size\": 8}, \"showarrow\": false, \"text\": \"2\", \"x\": -0.45, \"xanchor\": \"left\", \"xref\": \"x\", \"y\": 2, \"yref\": \"y\"}, {\"align\": \"left\", \"font\": {\"color\": \"#000000\", \"size\": 8}, \"showarrow\": false, \"text\": \"Super Mario Bros.\", \"x\": 0.55, \"xanchor\": \"left\", \"xref\": \"x\", \"y\": 2, \"yref\": \"y\"}, {\"align\": \"left\", \"font\": {\"color\": \"#000000\", \"size\": 8}, \"showarrow\": false, \"text\": \"NES\", \"x\": 1.55, \"xanchor\": \"left\", \"xref\": \"x\", \"y\": 2, \"yref\": \"y\"}, {\"align\": \"left\", \"font\": {\"color\": \"#000000\", \"size\": 8}, \"showarrow\": false, \"text\": \"1985.0\", \"x\": 2.55, \"xanchor\": \"left\", \"xref\": \"x\", \"y\": 2, \"yref\": \"y\"}, {\"align\": \"left\", \"font\": {\"color\": \"#000000\", \"size\": 8}, \"showarrow\": false, \"text\": \"Platform\", \"x\": 3.55, \"xanchor\": \"left\", \"xref\": \"x\", \"y\": 2, \"yref\": \"y\"}, {\"align\": \"left\", \"font\": {\"color\": \"#000000\", \"size\": 8}, \"showarrow\": false, \"text\": \"Nintendo\", \"x\": 4.55, \"xanchor\": \"left\", \"xref\": \"x\", \"y\": 2, \"yref\": \"y\"}, {\"align\": \"left\", \"font\": {\"color\": \"#000000\", \"size\": 8}, \"showarrow\": false, \"text\": \"29.08\", \"x\": 5.55, \"xanchor\": \"left\", \"xref\": \"x\", \"y\": 2, \"yref\": \"y\"}, {\"align\": \"left\", \"font\": {\"color\": \"#000000\", \"size\": 8}, \"showarrow\": false, \"text\": \"3.58\", \"x\": 6.55, \"xanchor\": \"left\", \"xref\": \"x\", \"y\": 2, \"yref\": \"y\"}, {\"align\": \"left\", \"font\": {\"color\": \"#000000\", \"size\": 8}, \"showarrow\": false, \"text\": \"6.81\", \"x\": 7.55, \"xanchor\": \"left\", \"xref\": \"x\", \"y\": 2, \"yref\": \"y\"}, {\"align\": \"left\", \"font\": {\"color\": \"#000000\", \"size\": 8}, \"showarrow\": false, \"text\": \"0.77\", \"x\": 8.55, \"xanchor\": \"left\", \"xref\": \"x\", \"y\": 2, \"yref\": \"y\"}, {\"align\": \"left\", \"font\": {\"color\": \"#000000\", \"size\": 8}, \"showarrow\": false, \"text\": \"40.24\", \"x\": 9.55, \"xanchor\": \"left\", \"xref\": \"x\", \"y\": 2, \"yref\": \"y\"}, {\"align\": \"left\", \"font\": {\"color\": \"#000000\", \"size\": 8}, \"showarrow\": false, \"text\": \"3\", \"x\": -0.45, \"xanchor\": \"left\", \"xref\": \"x\", \"y\": 3, \"yref\": \"y\"}, {\"align\": \"left\", \"font\": {\"color\": \"#000000\", \"size\": 8}, \"showarrow\": false, \"text\": \"Mario Kart Wii\", \"x\": 0.55, \"xanchor\": \"left\", \"xref\": \"x\", \"y\": 3, \"yref\": \"y\"}, {\"align\": \"left\", \"font\": {\"color\": \"#000000\", \"size\": 8}, \"showarrow\": false, \"text\": \"Wii\", \"x\": 1.55, \"xanchor\": \"left\", \"xref\": \"x\", \"y\": 3, \"yref\": \"y\"}, {\"align\": \"left\", \"font\": {\"color\": \"#000000\", \"size\": 8}, \"showarrow\": false, \"text\": \"2008.0\", \"x\": 2.55, \"xanchor\": \"left\", \"xref\": \"x\", \"y\": 3, \"yref\": \"y\"}, {\"align\": \"left\", \"font\": {\"color\": \"#000000\", \"size\": 8}, \"showarrow\": false, \"text\": \"Racing\", \"x\": 3.55, \"xanchor\": \"left\", \"xref\": \"x\", \"y\": 3, \"yref\": \"y\"}, {\"align\": \"left\", \"font\": {\"color\": \"#000000\", \"size\": 8}, \"showarrow\": false, \"text\": \"Nintendo\", \"x\": 4.55, \"xanchor\": \"left\", \"xref\": \"x\", \"y\": 3, \"yref\": \"y\"}, {\"align\": \"left\", \"font\": {\"color\": \"#000000\", \"size\": 8}, \"showarrow\": false, \"text\": \"15.85\", \"x\": 5.55, \"xanchor\": \"left\", \"xref\": \"x\", \"y\": 3, \"yref\": \"y\"}, {\"align\": \"left\", \"font\": {\"color\": \"#000000\", \"size\": 8}, \"showarrow\": false, \"text\": \"12.88\", \"x\": 6.55, \"xanchor\": \"left\", \"xref\": \"x\", \"y\": 3, \"yref\": \"y\"}, {\"align\": \"left\", \"font\": {\"color\": \"#000000\", \"size\": 8}, \"showarrow\": false, \"text\": \"3.79\", \"x\": 7.55, \"xanchor\": \"left\", \"xref\": \"x\", \"y\": 3, \"yref\": \"y\"}, {\"align\": \"left\", \"font\": {\"color\": \"#000000\", \"size\": 8}, \"showarrow\": false, \"text\": \"3.31\", \"x\": 8.55, \"xanchor\": \"left\", \"xref\": \"x\", \"y\": 3, \"yref\": \"y\"}, {\"align\": \"left\", \"font\": {\"color\": \"#000000\", \"size\": 8}, \"showarrow\": false, \"text\": \"35.82\", \"x\": 9.55, \"xanchor\": \"left\", \"xref\": \"x\", \"y\": 3, \"yref\": \"y\"}, {\"align\": \"left\", \"font\": {\"color\": \"#000000\", \"size\": 8}, \"showarrow\": false, \"text\": \"4\", \"x\": -0.45, \"xanchor\": \"left\", \"xref\": \"x\", \"y\": 4, \"yref\": \"y\"}, {\"align\": \"left\", \"font\": {\"color\": \"#000000\", \"size\": 8}, \"showarrow\": false, \"text\": \"Wii Sports Resort\", \"x\": 0.55, \"xanchor\": \"left\", \"xref\": \"x\", \"y\": 4, \"yref\": \"y\"}, {\"align\": \"left\", \"font\": {\"color\": \"#000000\", \"size\": 8}, \"showarrow\": false, \"text\": \"Wii\", \"x\": 1.55, \"xanchor\": \"left\", \"xref\": \"x\", \"y\": 4, \"yref\": \"y\"}, {\"align\": \"left\", \"font\": {\"color\": \"#000000\", \"size\": 8}, \"showarrow\": false, \"text\": \"2009.0\", \"x\": 2.55, \"xanchor\": \"left\", \"xref\": \"x\", \"y\": 4, \"yref\": \"y\"}, {\"align\": \"left\", \"font\": {\"color\": \"#000000\", \"size\": 8}, \"showarrow\": false, \"text\": \"Sports\", \"x\": 3.55, \"xanchor\": \"left\", \"xref\": \"x\", \"y\": 4, \"yref\": \"y\"}, {\"align\": \"left\", \"font\": {\"color\": \"#000000\", \"size\": 8}, \"showarrow\": false, \"text\": \"Nintendo\", \"x\": 4.55, \"xanchor\": \"left\", \"xref\": \"x\", \"y\": 4, \"yref\": \"y\"}, {\"align\": \"left\", \"font\": {\"color\": \"#000000\", \"size\": 8}, \"showarrow\": false, \"text\": \"15.75\", \"x\": 5.55, \"xanchor\": \"left\", \"xref\": \"x\", \"y\": 4, \"yref\": \"y\"}, {\"align\": \"left\", \"font\": {\"color\": \"#000000\", \"size\": 8}, \"showarrow\": false, \"text\": \"11.01\", \"x\": 6.55, \"xanchor\": \"left\", \"xref\": \"x\", \"y\": 4, \"yref\": \"y\"}, {\"align\": \"left\", \"font\": {\"color\": \"#000000\", \"size\": 8}, \"showarrow\": false, \"text\": \"3.28\", \"x\": 7.55, \"xanchor\": \"left\", \"xref\": \"x\", \"y\": 4, \"yref\": \"y\"}, {\"align\": \"left\", \"font\": {\"color\": \"#000000\", \"size\": 8}, \"showarrow\": false, \"text\": \"2.96\", \"x\": 8.55, \"xanchor\": \"left\", \"xref\": \"x\", \"y\": 4, \"yref\": \"y\"}, {\"align\": \"left\", \"font\": {\"color\": \"#000000\", \"size\": 8}, \"showarrow\": false, \"text\": \"33.0\", \"x\": 9.55, \"xanchor\": \"left\", \"xref\": \"x\", \"y\": 4, \"yref\": \"y\"}, {\"align\": \"left\", \"font\": {\"color\": \"#000000\", \"size\": 8}, \"showarrow\": false, \"text\": \"5\", \"x\": -0.45, \"xanchor\": \"left\", \"xref\": \"x\", \"y\": 5, \"yref\": \"y\"}, {\"align\": \"left\", \"font\": {\"color\": \"#000000\", \"size\": 8}, \"showarrow\": false, \"text\": \"Pokemon Red/Pokemon Blue\", \"x\": 0.55, \"xanchor\": \"left\", \"xref\": \"x\", \"y\": 5, \"yref\": \"y\"}, {\"align\": \"left\", \"font\": {\"color\": \"#000000\", \"size\": 8}, \"showarrow\": false, \"text\": \"GB\", \"x\": 1.55, \"xanchor\": \"left\", \"xref\": \"x\", \"y\": 5, \"yref\": \"y\"}, {\"align\": \"left\", \"font\": {\"color\": \"#000000\", \"size\": 8}, \"showarrow\": false, \"text\": \"1996.0\", \"x\": 2.55, \"xanchor\": \"left\", \"xref\": \"x\", \"y\": 5, \"yref\": \"y\"}, {\"align\": \"left\", \"font\": {\"color\": \"#000000\", \"size\": 8}, \"showarrow\": false, \"text\": \"Role-Playing\", \"x\": 3.55, \"xanchor\": \"left\", \"xref\": \"x\", \"y\": 5, \"yref\": \"y\"}, {\"align\": \"left\", \"font\": {\"color\": \"#000000\", \"size\": 8}, \"showarrow\": false, \"text\": \"Nintendo\", \"x\": 4.55, \"xanchor\": \"left\", \"xref\": \"x\", \"y\": 5, \"yref\": \"y\"}, {\"align\": \"left\", \"font\": {\"color\": \"#000000\", \"size\": 8}, \"showarrow\": false, \"text\": \"11.27\", \"x\": 5.55, \"xanchor\": \"left\", \"xref\": \"x\", \"y\": 5, \"yref\": \"y\"}, {\"align\": \"left\", \"font\": {\"color\": \"#000000\", \"size\": 8}, \"showarrow\": false, \"text\": \"8.89\", \"x\": 6.55, \"xanchor\": \"left\", \"xref\": \"x\", \"y\": 5, \"yref\": \"y\"}, {\"align\": \"left\", \"font\": {\"color\": \"#000000\", \"size\": 8}, \"showarrow\": false, \"text\": \"10.22\", \"x\": 7.55, \"xanchor\": \"left\", \"xref\": \"x\", \"y\": 5, \"yref\": \"y\"}, {\"align\": \"left\", \"font\": {\"color\": \"#000000\", \"size\": 8}, \"showarrow\": false, \"text\": \"1.0\", \"x\": 8.55, \"xanchor\": \"left\", \"xref\": \"x\", \"y\": 5, \"yref\": \"y\"}, {\"align\": \"left\", \"font\": {\"color\": \"#000000\", \"size\": 8}, \"showarrow\": false, \"text\": \"31.37\", \"x\": 9.55, \"xanchor\": \"left\", \"xref\": \"x\", \"y\": 5, \"yref\": \"y\"}, {\"align\": \"left\", \"font\": {\"color\": \"#000000\", \"size\": 8}, \"showarrow\": false, \"text\": \"6\", \"x\": -0.45, \"xanchor\": \"left\", \"xref\": \"x\", \"y\": 6, \"yref\": \"y\"}, {\"align\": \"left\", \"font\": {\"color\": \"#000000\", \"size\": 8}, \"showarrow\": false, \"text\": \"Tetris\", \"x\": 0.55, \"xanchor\": \"left\", \"xref\": \"x\", \"y\": 6, \"yref\": \"y\"}, {\"align\": \"left\", \"font\": {\"color\": \"#000000\", \"size\": 8}, \"showarrow\": false, \"text\": \"GB\", \"x\": 1.55, \"xanchor\": \"left\", \"xref\": \"x\", \"y\": 6, \"yref\": \"y\"}, {\"align\": \"left\", \"font\": {\"color\": \"#000000\", \"size\": 8}, \"showarrow\": false, \"text\": \"1989.0\", \"x\": 2.55, \"xanchor\": \"left\", \"xref\": \"x\", \"y\": 6, \"yref\": \"y\"}, {\"align\": \"left\", \"font\": {\"color\": \"#000000\", \"size\": 8}, \"showarrow\": false, \"text\": \"Puzzle\", \"x\": 3.55, \"xanchor\": \"left\", \"xref\": \"x\", \"y\": 6, \"yref\": \"y\"}, {\"align\": \"left\", \"font\": {\"color\": \"#000000\", \"size\": 8}, \"showarrow\": false, \"text\": \"Nintendo\", \"x\": 4.55, \"xanchor\": \"left\", \"xref\": \"x\", \"y\": 6, \"yref\": \"y\"}, {\"align\": \"left\", \"font\": {\"color\": \"#000000\", \"size\": 8}, \"showarrow\": false, \"text\": \"23.2\", \"x\": 5.55, \"xanchor\": \"left\", \"xref\": \"x\", \"y\": 6, \"yref\": \"y\"}, {\"align\": \"left\", \"font\": {\"color\": \"#000000\", \"size\": 8}, \"showarrow\": false, \"text\": \"2.26\", \"x\": 6.55, \"xanchor\": \"left\", \"xref\": \"x\", \"y\": 6, \"yref\": \"y\"}, {\"align\": \"left\", \"font\": {\"color\": \"#000000\", \"size\": 8}, \"showarrow\": false, \"text\": \"4.22\", \"x\": 7.55, \"xanchor\": \"left\", \"xref\": \"x\", \"y\": 6, \"yref\": \"y\"}, {\"align\": \"left\", \"font\": {\"color\": \"#000000\", \"size\": 8}, \"showarrow\": false, \"text\": \"0.58\", \"x\": 8.55, \"xanchor\": \"left\", \"xref\": \"x\", \"y\": 6, \"yref\": \"y\"}, {\"align\": \"left\", \"font\": {\"color\": \"#000000\", \"size\": 8}, \"showarrow\": false, \"text\": \"30.26\", \"x\": 9.55, \"xanchor\": \"left\", \"xref\": \"x\", \"y\": 6, \"yref\": \"y\"}, {\"align\": \"left\", \"font\": {\"color\": \"#000000\", \"size\": 8}, \"showarrow\": false, \"text\": \"7\", \"x\": -0.45, \"xanchor\": \"left\", \"xref\": \"x\", \"y\": 7, \"yref\": \"y\"}, {\"align\": \"left\", \"font\": {\"color\": \"#000000\", \"size\": 8}, \"showarrow\": false, \"text\": \"New Super Mario Bros.\", \"x\": 0.55, \"xanchor\": \"left\", \"xref\": \"x\", \"y\": 7, \"yref\": \"y\"}, {\"align\": \"left\", \"font\": {\"color\": \"#000000\", \"size\": 8}, \"showarrow\": false, \"text\": \"DS\", \"x\": 1.55, \"xanchor\": \"left\", \"xref\": \"x\", \"y\": 7, \"yref\": \"y\"}, {\"align\": \"left\", \"font\": {\"color\": \"#000000\", \"size\": 8}, \"showarrow\": false, \"text\": \"2006.0\", \"x\": 2.55, \"xanchor\": \"left\", \"xref\": \"x\", \"y\": 7, \"yref\": \"y\"}, {\"align\": \"left\", \"font\": {\"color\": \"#000000\", \"size\": 8}, \"showarrow\": false, \"text\": \"Platform\", \"x\": 3.55, \"xanchor\": \"left\", \"xref\": \"x\", \"y\": 7, \"yref\": \"y\"}, {\"align\": \"left\", \"font\": {\"color\": \"#000000\", \"size\": 8}, \"showarrow\": false, \"text\": \"Nintendo\", \"x\": 4.55, \"xanchor\": \"left\", \"xref\": \"x\", \"y\": 7, \"yref\": \"y\"}, {\"align\": \"left\", \"font\": {\"color\": \"#000000\", \"size\": 8}, \"showarrow\": false, \"text\": \"11.38\", \"x\": 5.55, \"xanchor\": \"left\", \"xref\": \"x\", \"y\": 7, \"yref\": \"y\"}, {\"align\": \"left\", \"font\": {\"color\": \"#000000\", \"size\": 8}, \"showarrow\": false, \"text\": \"9.23\", \"x\": 6.55, \"xanchor\": \"left\", \"xref\": \"x\", \"y\": 7, \"yref\": \"y\"}, {\"align\": \"left\", \"font\": {\"color\": \"#000000\", \"size\": 8}, \"showarrow\": false, \"text\": \"6.5\", \"x\": 7.55, \"xanchor\": \"left\", \"xref\": \"x\", \"y\": 7, \"yref\": \"y\"}, {\"align\": \"left\", \"font\": {\"color\": \"#000000\", \"size\": 8}, \"showarrow\": false, \"text\": \"2.9\", \"x\": 8.55, \"xanchor\": \"left\", \"xref\": \"x\", \"y\": 7, \"yref\": \"y\"}, {\"align\": \"left\", \"font\": {\"color\": \"#000000\", \"size\": 8}, \"showarrow\": false, \"text\": \"30.01\", \"x\": 9.55, \"xanchor\": \"left\", \"xref\": \"x\", \"y\": 7, \"yref\": \"y\"}, {\"align\": \"left\", \"font\": {\"color\": \"#000000\", \"size\": 8}, \"showarrow\": false, \"text\": \"8\", \"x\": -0.45, \"xanchor\": \"left\", \"xref\": \"x\", \"y\": 8, \"yref\": \"y\"}, {\"align\": \"left\", \"font\": {\"color\": \"#000000\", \"size\": 8}, \"showarrow\": false, \"text\": \"Wii Play\", \"x\": 0.55, \"xanchor\": \"left\", \"xref\": \"x\", \"y\": 8, \"yref\": \"y\"}, {\"align\": \"left\", \"font\": {\"color\": \"#000000\", \"size\": 8}, \"showarrow\": false, \"text\": \"Wii\", \"x\": 1.55, \"xanchor\": \"left\", \"xref\": \"x\", \"y\": 8, \"yref\": \"y\"}, {\"align\": \"left\", \"font\": {\"color\": \"#000000\", \"size\": 8}, \"showarrow\": false, \"text\": \"2006.0\", \"x\": 2.55, \"xanchor\": \"left\", \"xref\": \"x\", \"y\": 8, \"yref\": \"y\"}, {\"align\": \"left\", \"font\": {\"color\": \"#000000\", \"size\": 8}, \"showarrow\": false, \"text\": \"Misc\", \"x\": 3.55, \"xanchor\": \"left\", \"xref\": \"x\", \"y\": 8, \"yref\": \"y\"}, {\"align\": \"left\", \"font\": {\"color\": \"#000000\", \"size\": 8}, \"showarrow\": false, \"text\": \"Nintendo\", \"x\": 4.55, \"xanchor\": \"left\", \"xref\": \"x\", \"y\": 8, \"yref\": \"y\"}, {\"align\": \"left\", \"font\": {\"color\": \"#000000\", \"size\": 8}, \"showarrow\": false, \"text\": \"14.03\", \"x\": 5.55, \"xanchor\": \"left\", \"xref\": \"x\", \"y\": 8, \"yref\": \"y\"}, {\"align\": \"left\", \"font\": {\"color\": \"#000000\", \"size\": 8}, \"showarrow\": false, \"text\": \"9.2\", \"x\": 6.55, \"xanchor\": \"left\", \"xref\": \"x\", \"y\": 8, \"yref\": \"y\"}, {\"align\": \"left\", \"font\": {\"color\": \"#000000\", \"size\": 8}, \"showarrow\": false, \"text\": \"2.93\", \"x\": 7.55, \"xanchor\": \"left\", \"xref\": \"x\", \"y\": 8, \"yref\": \"y\"}, {\"align\": \"left\", \"font\": {\"color\": \"#000000\", \"size\": 8}, \"showarrow\": false, \"text\": \"2.85\", \"x\": 8.55, \"xanchor\": \"left\", \"xref\": \"x\", \"y\": 8, \"yref\": \"y\"}, {\"align\": \"left\", \"font\": {\"color\": \"#000000\", \"size\": 8}, \"showarrow\": false, \"text\": \"29.02\", \"x\": 9.55, \"xanchor\": \"left\", \"xref\": \"x\", \"y\": 8, \"yref\": \"y\"}, {\"align\": \"left\", \"font\": {\"color\": \"#000000\", \"size\": 8}, \"showarrow\": false, \"text\": \"9\", \"x\": -0.45, \"xanchor\": \"left\", \"xref\": \"x\", \"y\": 9, \"yref\": \"y\"}, {\"align\": \"left\", \"font\": {\"color\": \"#000000\", \"size\": 8}, \"showarrow\": false, \"text\": \"New Super Mario Bros. Wii\", \"x\": 0.55, \"xanchor\": \"left\", \"xref\": \"x\", \"y\": 9, \"yref\": \"y\"}, {\"align\": \"left\", \"font\": {\"color\": \"#000000\", \"size\": 8}, \"showarrow\": false, \"text\": \"Wii\", \"x\": 1.55, \"xanchor\": \"left\", \"xref\": \"x\", \"y\": 9, \"yref\": \"y\"}, {\"align\": \"left\", \"font\": {\"color\": \"#000000\", \"size\": 8}, \"showarrow\": false, \"text\": \"2009.0\", \"x\": 2.55, \"xanchor\": \"left\", \"xref\": \"x\", \"y\": 9, \"yref\": \"y\"}, {\"align\": \"left\", \"font\": {\"color\": \"#000000\", \"size\": 8}, \"showarrow\": false, \"text\": \"Platform\", \"x\": 3.55, \"xanchor\": \"left\", \"xref\": \"x\", \"y\": 9, \"yref\": \"y\"}, {\"align\": \"left\", \"font\": {\"color\": \"#000000\", \"size\": 8}, \"showarrow\": false, \"text\": \"Nintendo\", \"x\": 4.55, \"xanchor\": \"left\", \"xref\": \"x\", \"y\": 9, \"yref\": \"y\"}, {\"align\": \"left\", \"font\": {\"color\": \"#000000\", \"size\": 8}, \"showarrow\": false, \"text\": \"14.59\", \"x\": 5.55, \"xanchor\": \"left\", \"xref\": \"x\", \"y\": 9, \"yref\": \"y\"}, {\"align\": \"left\", \"font\": {\"color\": \"#000000\", \"size\": 8}, \"showarrow\": false, \"text\": \"7.06\", \"x\": 6.55, \"xanchor\": \"left\", \"xref\": \"x\", \"y\": 9, \"yref\": \"y\"}, {\"align\": \"left\", \"font\": {\"color\": \"#000000\", \"size\": 8}, \"showarrow\": false, \"text\": \"4.7\", \"x\": 7.55, \"xanchor\": \"left\", \"xref\": \"x\", \"y\": 9, \"yref\": \"y\"}, {\"align\": \"left\", \"font\": {\"color\": \"#000000\", \"size\": 8}, \"showarrow\": false, \"text\": \"2.26\", \"x\": 8.55, \"xanchor\": \"left\", \"xref\": \"x\", \"y\": 9, \"yref\": \"y\"}, {\"align\": \"left\", \"font\": {\"color\": \"#000000\", \"size\": 8}, \"showarrow\": false, \"text\": \"28.62\", \"x\": 9.55, \"xanchor\": \"left\", \"xref\": \"x\", \"y\": 9, \"yref\": \"y\"}, {\"align\": \"left\", \"font\": {\"color\": \"#000000\", \"size\": 8}, \"showarrow\": false, \"text\": \"10\", \"x\": -0.45, \"xanchor\": \"left\", \"xref\": \"x\", \"y\": 10, \"yref\": \"y\"}, {\"align\": \"left\", \"font\": {\"color\": \"#000000\", \"size\": 8}, \"showarrow\": false, \"text\": \"Duck Hunt\", \"x\": 0.55, \"xanchor\": \"left\", \"xref\": \"x\", \"y\": 10, \"yref\": \"y\"}, {\"align\": \"left\", \"font\": {\"color\": \"#000000\", \"size\": 8}, \"showarrow\": false, \"text\": \"NES\", \"x\": 1.55, \"xanchor\": \"left\", \"xref\": \"x\", \"y\": 10, \"yref\": \"y\"}, {\"align\": \"left\", \"font\": {\"color\": \"#000000\", \"size\": 8}, \"showarrow\": false, \"text\": \"1984.0\", \"x\": 2.55, \"xanchor\": \"left\", \"xref\": \"x\", \"y\": 10, \"yref\": \"y\"}, {\"align\": \"left\", \"font\": {\"color\": \"#000000\", \"size\": 8}, \"showarrow\": false, \"text\": \"Shooter\", \"x\": 3.55, \"xanchor\": \"left\", \"xref\": \"x\", \"y\": 10, \"yref\": \"y\"}, {\"align\": \"left\", \"font\": {\"color\": \"#000000\", \"size\": 8}, \"showarrow\": false, \"text\": \"Nintendo\", \"x\": 4.55, \"xanchor\": \"left\", \"xref\": \"x\", \"y\": 10, \"yref\": \"y\"}, {\"align\": \"left\", \"font\": {\"color\": \"#000000\", \"size\": 8}, \"showarrow\": false, \"text\": \"26.93\", \"x\": 5.55, \"xanchor\": \"left\", \"xref\": \"x\", \"y\": 10, \"yref\": \"y\"}, {\"align\": \"left\", \"font\": {\"color\": \"#000000\", \"size\": 8}, \"showarrow\": false, \"text\": \"0.63\", \"x\": 6.55, \"xanchor\": \"left\", \"xref\": \"x\", \"y\": 10, \"yref\": \"y\"}, {\"align\": \"left\", \"font\": {\"color\": \"#000000\", \"size\": 8}, \"showarrow\": false, \"text\": \"0.28\", \"x\": 7.55, \"xanchor\": \"left\", \"xref\": \"x\", \"y\": 10, \"yref\": \"y\"}, {\"align\": \"left\", \"font\": {\"color\": \"#000000\", \"size\": 8}, \"showarrow\": false, \"text\": \"0.47\", \"x\": 8.55, \"xanchor\": \"left\", \"xref\": \"x\", \"y\": 10, \"yref\": \"y\"}, {\"align\": \"left\", \"font\": {\"color\": \"#000000\", \"size\": 8}, \"showarrow\": false, \"text\": \"28.31\", \"x\": 9.55, \"xanchor\": \"left\", \"xref\": \"x\", \"y\": 10, \"yref\": \"y\"}], \"height\": 380, \"margin\": {\"b\": 0, \"l\": 0, \"r\": 0, \"t\": 0}, \"template\": {\"data\": {\"bar\": [{\"error_x\": {\"color\": \"#2a3f5f\"}, \"error_y\": {\"color\": \"#2a3f5f\"}, \"marker\": {\"line\": {\"color\": \"#E5ECF6\", \"width\": 0.5}}, \"type\": \"bar\"}], \"barpolar\": [{\"marker\": {\"line\": {\"color\": \"#E5ECF6\", \"width\": 0.5}}, \"type\": \"barpolar\"}], \"carpet\": [{\"aaxis\": {\"endlinecolor\": \"#2a3f5f\", \"gridcolor\": \"white\", \"linecolor\": \"white\", \"minorgridcolor\": \"white\", \"startlinecolor\": \"#2a3f5f\"}, \"baxis\": {\"endlinecolor\": \"#2a3f5f\", \"gridcolor\": \"white\", \"linecolor\": \"white\", \"minorgridcolor\": \"white\", \"startlinecolor\": \"#2a3f5f\"}, \"type\": \"carpet\"}], \"choropleth\": [{\"colorbar\": {\"outlinewidth\": 0, \"ticks\": \"\"}, \"type\": \"choropleth\"}], \"contour\": [{\"colorbar\": {\"outlinewidth\": 0, \"ticks\": \"\"}, \"colorscale\": [[0.0, \"#0d0887\"], [0.1111111111111111, \"#46039f\"], [0.2222222222222222, \"#7201a8\"], [0.3333333333333333, \"#9c179e\"], [0.4444444444444444, \"#bd3786\"], [0.5555555555555556, \"#d8576b\"], [0.6666666666666666, \"#ed7953\"], [0.7777777777777778, \"#fb9f3a\"], [0.8888888888888888, \"#fdca26\"], [1.0, \"#f0f921\"]], \"type\": \"contour\"}], \"contourcarpet\": [{\"colorbar\": {\"outlinewidth\": 0, \"ticks\": \"\"}, \"type\": \"contourcarpet\"}], \"heatmap\": [{\"colorbar\": {\"outlinewidth\": 0, \"ticks\": \"\"}, \"colorscale\": [[0.0, \"#0d0887\"], [0.1111111111111111, \"#46039f\"], [0.2222222222222222, \"#7201a8\"], [0.3333333333333333, \"#9c179e\"], [0.4444444444444444, \"#bd3786\"], [0.5555555555555556, \"#d8576b\"], [0.6666666666666666, \"#ed7953\"], [0.7777777777777778, \"#fb9f3a\"], [0.8888888888888888, \"#fdca26\"], [1.0, \"#f0f921\"]], \"type\": \"heatmap\"}], \"heatmapgl\": [{\"colorbar\": {\"outlinewidth\": 0, \"ticks\": \"\"}, \"colorscale\": [[0.0, \"#0d0887\"], [0.1111111111111111, \"#46039f\"], [0.2222222222222222, \"#7201a8\"], [0.3333333333333333, \"#9c179e\"], [0.4444444444444444, \"#bd3786\"], [0.5555555555555556, \"#d8576b\"], [0.6666666666666666, \"#ed7953\"], [0.7777777777777778, \"#fb9f3a\"], [0.8888888888888888, \"#fdca26\"], [1.0, \"#f0f921\"]], \"type\": \"heatmapgl\"}], \"histogram\": [{\"marker\": {\"colorbar\": {\"outlinewidth\": 0, \"ticks\": \"\"}}, \"type\": \"histogram\"}], \"histogram2d\": [{\"colorbar\": {\"outlinewidth\": 0, \"ticks\": \"\"}, \"colorscale\": [[0.0, \"#0d0887\"], [0.1111111111111111, \"#46039f\"], [0.2222222222222222, \"#7201a8\"], [0.3333333333333333, \"#9c179e\"], [0.4444444444444444, \"#bd3786\"], [0.5555555555555556, \"#d8576b\"], [0.6666666666666666, \"#ed7953\"], [0.7777777777777778, \"#fb9f3a\"], [0.8888888888888888, \"#fdca26\"], [1.0, \"#f0f921\"]], \"type\": \"histogram2d\"}], \"histogram2dcontour\": [{\"colorbar\": {\"outlinewidth\": 0, \"ticks\": \"\"}, \"colorscale\": [[0.0, \"#0d0887\"], [0.1111111111111111, \"#46039f\"], [0.2222222222222222, \"#7201a8\"], [0.3333333333333333, \"#9c179e\"], [0.4444444444444444, \"#bd3786\"], [0.5555555555555556, \"#d8576b\"], [0.6666666666666666, \"#ed7953\"], [0.7777777777777778, \"#fb9f3a\"], [0.8888888888888888, \"#fdca26\"], [1.0, \"#f0f921\"]], \"type\": \"histogram2dcontour\"}], \"mesh3d\": [{\"colorbar\": {\"outlinewidth\": 0, \"ticks\": \"\"}, \"type\": \"mesh3d\"}], \"parcoords\": [{\"line\": {\"colorbar\": {\"outlinewidth\": 0, \"ticks\": \"\"}}, \"type\": \"parcoords\"}], \"pie\": [{\"automargin\": true, \"type\": \"pie\"}], \"scatter\": [{\"marker\": {\"colorbar\": {\"outlinewidth\": 0, \"ticks\": \"\"}}, \"type\": \"scatter\"}], \"scatter3d\": [{\"line\": {\"colorbar\": {\"outlinewidth\": 0, \"ticks\": \"\"}}, \"marker\": {\"colorbar\": {\"outlinewidth\": 0, \"ticks\": \"\"}}, \"type\": \"scatter3d\"}], \"scattercarpet\": [{\"marker\": {\"colorbar\": {\"outlinewidth\": 0, \"ticks\": \"\"}}, \"type\": \"scattercarpet\"}], \"scattergeo\": [{\"marker\": {\"colorbar\": {\"outlinewidth\": 0, \"ticks\": \"\"}}, \"type\": \"scattergeo\"}], \"scattergl\": [{\"marker\": {\"colorbar\": {\"outlinewidth\": 0, \"ticks\": \"\"}}, \"type\": \"scattergl\"}], \"scattermapbox\": [{\"marker\": {\"colorbar\": {\"outlinewidth\": 0, \"ticks\": \"\"}}, \"type\": \"scattermapbox\"}], \"scatterpolar\": [{\"marker\": {\"colorbar\": {\"outlinewidth\": 0, \"ticks\": \"\"}}, \"type\": \"scatterpolar\"}], \"scatterpolargl\": [{\"marker\": {\"colorbar\": {\"outlinewidth\": 0, \"ticks\": \"\"}}, \"type\": \"scatterpolargl\"}], \"scatterternary\": [{\"marker\": {\"colorbar\": {\"outlinewidth\": 0, \"ticks\": \"\"}}, \"type\": \"scatterternary\"}], \"surface\": [{\"colorbar\": {\"outlinewidth\": 0, \"ticks\": \"\"}, \"colorscale\": [[0.0, \"#0d0887\"], [0.1111111111111111, \"#46039f\"], [0.2222222222222222, \"#7201a8\"], [0.3333333333333333, \"#9c179e\"], [0.4444444444444444, \"#bd3786\"], [0.5555555555555556, \"#d8576b\"], [0.6666666666666666, \"#ed7953\"], [0.7777777777777778, \"#fb9f3a\"], [0.8888888888888888, \"#fdca26\"], [1.0, \"#f0f921\"]], \"type\": \"surface\"}], \"table\": [{\"cells\": {\"fill\": {\"color\": \"#EBF0F8\"}, \"line\": {\"color\": \"white\"}}, \"header\": {\"fill\": {\"color\": \"#C8D4E3\"}, \"line\": {\"color\": \"white\"}}, \"type\": \"table\"}]}, \"layout\": {\"annotationdefaults\": {\"arrowcolor\": \"#2a3f5f\", \"arrowhead\": 0, \"arrowwidth\": 1}, \"coloraxis\": {\"colorbar\": {\"outlinewidth\": 0, \"ticks\": \"\"}}, \"colorscale\": {\"diverging\": [[0, \"#8e0152\"], [0.1, \"#c51b7d\"], [0.2, \"#de77ae\"], [0.3, \"#f1b6da\"], [0.4, \"#fde0ef\"], [0.5, \"#f7f7f7\"], [0.6, \"#e6f5d0\"], [0.7, \"#b8e186\"], [0.8, \"#7fbc41\"], [0.9, \"#4d9221\"], [1, \"#276419\"]], \"sequential\": [[0.0, \"#0d0887\"], [0.1111111111111111, \"#46039f\"], [0.2222222222222222, \"#7201a8\"], [0.3333333333333333, \"#9c179e\"], [0.4444444444444444, \"#bd3786\"], [0.5555555555555556, \"#d8576b\"], [0.6666666666666666, \"#ed7953\"], [0.7777777777777778, \"#fb9f3a\"], [0.8888888888888888, \"#fdca26\"], [1.0, \"#f0f921\"]], \"sequentialminus\": [[0.0, \"#0d0887\"], [0.1111111111111111, \"#46039f\"], [0.2222222222222222, \"#7201a8\"], [0.3333333333333333, \"#9c179e\"], [0.4444444444444444, \"#bd3786\"], [0.5555555555555556, \"#d8576b\"], [0.6666666666666666, \"#ed7953\"], [0.7777777777777778, \"#fb9f3a\"], [0.8888888888888888, \"#fdca26\"], [1.0, \"#f0f921\"]]}, \"colorway\": [\"#636efa\", \"#EF553B\", \"#00cc96\", \"#ab63fa\", \"#FFA15A\", \"#19d3f3\", \"#FF6692\", \"#B6E880\", \"#FF97FF\", \"#FECB52\"], \"font\": {\"color\": \"#2a3f5f\"}, \"geo\": {\"bgcolor\": \"white\", \"lakecolor\": \"white\", \"landcolor\": \"#E5ECF6\", \"showlakes\": true, \"showland\": true, \"subunitcolor\": \"white\"}, \"hoverlabel\": {\"align\": \"left\"}, \"hovermode\": \"closest\", \"mapbox\": {\"style\": \"light\"}, \"paper_bgcolor\": \"white\", \"plot_bgcolor\": \"#E5ECF6\", \"polar\": {\"angularaxis\": {\"gridcolor\": \"white\", \"linecolor\": \"white\", \"ticks\": \"\"}, \"bgcolor\": \"#E5ECF6\", \"radialaxis\": {\"gridcolor\": \"white\", \"linecolor\": \"white\", \"ticks\": \"\"}}, \"scene\": {\"xaxis\": {\"backgroundcolor\": \"#E5ECF6\", \"gridcolor\": \"white\", \"gridwidth\": 2, \"linecolor\": \"white\", \"showbackground\": true, \"ticks\": \"\", \"zerolinecolor\": \"white\"}, \"yaxis\": {\"backgroundcolor\": \"#E5ECF6\", \"gridcolor\": \"white\", \"gridwidth\": 2, \"linecolor\": \"white\", \"showbackground\": true, \"ticks\": \"\", \"zerolinecolor\": \"white\"}, \"zaxis\": {\"backgroundcolor\": \"#E5ECF6\", \"gridcolor\": \"white\", \"gridwidth\": 2, \"linecolor\": \"white\", \"showbackground\": true, \"ticks\": \"\", \"zerolinecolor\": \"white\"}}, \"shapedefaults\": {\"line\": {\"color\": \"#2a3f5f\"}}, \"ternary\": {\"aaxis\": {\"gridcolor\": \"white\", \"linecolor\": \"white\", \"ticks\": \"\"}, \"baxis\": {\"gridcolor\": \"white\", \"linecolor\": \"white\", \"ticks\": \"\"}, \"bgcolor\": \"#E5ECF6\", \"caxis\": {\"gridcolor\": \"white\", \"linecolor\": \"white\", \"ticks\": \"\"}}, \"title\": {\"x\": 0.05}, \"xaxis\": {\"automargin\": true, \"gridcolor\": \"white\", \"linecolor\": \"white\", \"ticks\": \"\", \"title\": {\"standoff\": 15}, \"zerolinecolor\": \"white\", \"zerolinewidth\": 2}, \"yaxis\": {\"automargin\": true, \"gridcolor\": \"white\", \"linecolor\": \"white\", \"ticks\": \"\", \"title\": {\"standoff\": 15}, \"zerolinecolor\": \"white\", \"zerolinewidth\": 2}}}, \"xaxis\": {\"dtick\": 1, \"gridwidth\": 2, \"showticklabels\": false, \"tick0\": -0.5, \"ticks\": \"\", \"zeroline\": false}, \"yaxis\": {\"autorange\": \"reversed\", \"dtick\": 1, \"gridwidth\": 2, \"showticklabels\": false, \"tick0\": 0.5, \"ticks\": \"\", \"zeroline\": false}},                        {\"responsive\": true}                    ).then(function(){\n",
       "                            \n",
       "var gd = document.getElementById('2fcd6b4d-1257-42bc-816c-a1b6b162275b');\n",
       "var x = new MutationObserver(function (mutations, observer) {{\n",
       "        var display = window.getComputedStyle(gd).display;\n",
       "        if (!display || display === 'none') {{\n",
       "            console.log([gd, 'removed!']);\n",
       "            Plotly.purge(gd);\n",
       "            observer.disconnect();\n",
       "        }}\n",
       "}});\n",
       "\n",
       "// Listen for the removal of the full notebook cells\n",
       "var notebookContainer = gd.closest('#notebook-container');\n",
       "if (notebookContainer) {{\n",
       "    x.observe(notebookContainer, {childList: true});\n",
       "}}\n",
       "\n",
       "// Listen for the clearing of the current output cell\n",
       "var outputEl = gd.closest('.output');\n",
       "if (outputEl) {{\n",
       "    x.observe(outputEl, {childList: true});\n",
       "}}\n",
       "\n",
       "                        })                };                });            </script>        </div>"
      ]
     },
     "metadata": {},
     "output_type": "display_data"
    }
   ],
   "source": [
    "top = dataframe.head(10)\n",
    "table = ff.create_table(top, colorscale=\"ice\")\n",
    "# Other built-in colorscales:\n",
    "# mint        orrd        oranges     oryel       peach       pinkyl      plasma      plotly3\n",
    "# rdpu        redor       reds        sunset      sunsetdark  teal        tealgrn     viridis\n",
    "# gray        haline      ice         matter      solar       speed       tempo       thermal\n",
    "# turbid      armyrose    brbg        earth       fall        geyser      prgn        piyg\n",
    "for i in range(len(table.layout.annotations)):\n",
    "    table.layout.annotations[i].font.size = 8\n",
    "iplot(table)"
   ]
  },
  {
   "cell_type": "markdown",
   "metadata": {
    "slideshow": {
     "slide_type": "slide"
    }
   },
   "source": [
    "### Bar charts!"
   ]
  },
  {
   "cell_type": "code",
   "execution_count": 26,
   "metadata": {
    "slideshow": {
     "slide_type": "subslide"
    }
   },
   "outputs": [
    {
     "data": {
      "application/vnd.plotly.v1+json": {
       "config": {
        "linkText": "Export to plot.ly",
        "plotlyServerURL": "https://plot.ly",
        "showLink": false
       },
       "data": [
        {
         "marker": {
          "color": "crimson",
          "line": {
           "color": "black",
           "width": 2
          }
         },
         "opacity": 0.75,
         "type": "histogram",
         "x": [
          "Wii",
          "NES",
          "Wii",
          "Wii",
          "GB",
          "GB",
          "DS",
          "Wii",
          "Wii",
          "NES",
          "DS",
          "DS",
          "GB",
          "Wii",
          "Wii",
          "X360",
          "PS3",
          "PS2",
          "SNES",
          "DS",
          "DS",
          "GB",
          "NES",
          "X360",
          "PS2",
          "GBA",
          "DS",
          "DS",
          "PS2",
          "X360",
          "GB",
          "X360",
          "3DS",
          "PS4",
          "PS3",
          "X360",
          "X360",
          "PS3",
          "PS2",
          "Wii",
          "PS3",
          "DS",
          "3DS",
          "X360",
          "PS4",
          "DS",
          "N64",
          "PS2",
          "Wii",
          "3DS",
          "GB",
          "X360",
          "PS",
          "3DS",
          "PS3",
          "PS3",
          "PS3",
          "SNES",
          "GBA",
          "DS",
          "Wii",
          "X360",
          "X360",
          "N64",
          "3DS",
          "X360",
          "PS",
          "PS3",
          "Wii",
          "PS",
          "X360",
          "SNES",
          "X360",
          "3DS",
          "DS",
          "X360",
          "SNES",
          "PS4",
          "Wii",
          "XB",
          "Wii",
          "DS",
          "PS3",
          "PC",
          "N64",
          "Wii",
          "PS2",
          "PS",
          "DS",
          "2600",
          "PSP",
          "Wii",
          "PS4",
          "PS4",
          "N64",
          "PS",
          "NES",
          "3DS",
          "X360",
          "X360"
         ]
        }
       ],
       "layout": {
        "bargap": 0.2,
        "bargroupgap": 0.1,
        "paper_bgcolor": "rgb(243, 243, 243)",
        "plot_bgcolor": "rgb(243, 243, 243)",
        "template": {
         "data": {
          "bar": [
           {
            "error_x": {
             "color": "#2a3f5f"
            },
            "error_y": {
             "color": "#2a3f5f"
            },
            "marker": {
             "line": {
              "color": "#E5ECF6",
              "width": 0.5
             }
            },
            "type": "bar"
           }
          ],
          "barpolar": [
           {
            "marker": {
             "line": {
              "color": "#E5ECF6",
              "width": 0.5
             }
            },
            "type": "barpolar"
           }
          ],
          "carpet": [
           {
            "aaxis": {
             "endlinecolor": "#2a3f5f",
             "gridcolor": "white",
             "linecolor": "white",
             "minorgridcolor": "white",
             "startlinecolor": "#2a3f5f"
            },
            "baxis": {
             "endlinecolor": "#2a3f5f",
             "gridcolor": "white",
             "linecolor": "white",
             "minorgridcolor": "white",
             "startlinecolor": "#2a3f5f"
            },
            "type": "carpet"
           }
          ],
          "choropleth": [
           {
            "colorbar": {
             "outlinewidth": 0,
             "ticks": ""
            },
            "type": "choropleth"
           }
          ],
          "contour": [
           {
            "colorbar": {
             "outlinewidth": 0,
             "ticks": ""
            },
            "colorscale": [
             [
              0,
              "#0d0887"
             ],
             [
              0.1111111111111111,
              "#46039f"
             ],
             [
              0.2222222222222222,
              "#7201a8"
             ],
             [
              0.3333333333333333,
              "#9c179e"
             ],
             [
              0.4444444444444444,
              "#bd3786"
             ],
             [
              0.5555555555555556,
              "#d8576b"
             ],
             [
              0.6666666666666666,
              "#ed7953"
             ],
             [
              0.7777777777777778,
              "#fb9f3a"
             ],
             [
              0.8888888888888888,
              "#fdca26"
             ],
             [
              1,
              "#f0f921"
             ]
            ],
            "type": "contour"
           }
          ],
          "contourcarpet": [
           {
            "colorbar": {
             "outlinewidth": 0,
             "ticks": ""
            },
            "type": "contourcarpet"
           }
          ],
          "heatmap": [
           {
            "colorbar": {
             "outlinewidth": 0,
             "ticks": ""
            },
            "colorscale": [
             [
              0,
              "#0d0887"
             ],
             [
              0.1111111111111111,
              "#46039f"
             ],
             [
              0.2222222222222222,
              "#7201a8"
             ],
             [
              0.3333333333333333,
              "#9c179e"
             ],
             [
              0.4444444444444444,
              "#bd3786"
             ],
             [
              0.5555555555555556,
              "#d8576b"
             ],
             [
              0.6666666666666666,
              "#ed7953"
             ],
             [
              0.7777777777777778,
              "#fb9f3a"
             ],
             [
              0.8888888888888888,
              "#fdca26"
             ],
             [
              1,
              "#f0f921"
             ]
            ],
            "type": "heatmap"
           }
          ],
          "heatmapgl": [
           {
            "colorbar": {
             "outlinewidth": 0,
             "ticks": ""
            },
            "colorscale": [
             [
              0,
              "#0d0887"
             ],
             [
              0.1111111111111111,
              "#46039f"
             ],
             [
              0.2222222222222222,
              "#7201a8"
             ],
             [
              0.3333333333333333,
              "#9c179e"
             ],
             [
              0.4444444444444444,
              "#bd3786"
             ],
             [
              0.5555555555555556,
              "#d8576b"
             ],
             [
              0.6666666666666666,
              "#ed7953"
             ],
             [
              0.7777777777777778,
              "#fb9f3a"
             ],
             [
              0.8888888888888888,
              "#fdca26"
             ],
             [
              1,
              "#f0f921"
             ]
            ],
            "type": "heatmapgl"
           }
          ],
          "histogram": [
           {
            "marker": {
             "colorbar": {
              "outlinewidth": 0,
              "ticks": ""
             }
            },
            "type": "histogram"
           }
          ],
          "histogram2d": [
           {
            "colorbar": {
             "outlinewidth": 0,
             "ticks": ""
            },
            "colorscale": [
             [
              0,
              "#0d0887"
             ],
             [
              0.1111111111111111,
              "#46039f"
             ],
             [
              0.2222222222222222,
              "#7201a8"
             ],
             [
              0.3333333333333333,
              "#9c179e"
             ],
             [
              0.4444444444444444,
              "#bd3786"
             ],
             [
              0.5555555555555556,
              "#d8576b"
             ],
             [
              0.6666666666666666,
              "#ed7953"
             ],
             [
              0.7777777777777778,
              "#fb9f3a"
             ],
             [
              0.8888888888888888,
              "#fdca26"
             ],
             [
              1,
              "#f0f921"
             ]
            ],
            "type": "histogram2d"
           }
          ],
          "histogram2dcontour": [
           {
            "colorbar": {
             "outlinewidth": 0,
             "ticks": ""
            },
            "colorscale": [
             [
              0,
              "#0d0887"
             ],
             [
              0.1111111111111111,
              "#46039f"
             ],
             [
              0.2222222222222222,
              "#7201a8"
             ],
             [
              0.3333333333333333,
              "#9c179e"
             ],
             [
              0.4444444444444444,
              "#bd3786"
             ],
             [
              0.5555555555555556,
              "#d8576b"
             ],
             [
              0.6666666666666666,
              "#ed7953"
             ],
             [
              0.7777777777777778,
              "#fb9f3a"
             ],
             [
              0.8888888888888888,
              "#fdca26"
             ],
             [
              1,
              "#f0f921"
             ]
            ],
            "type": "histogram2dcontour"
           }
          ],
          "mesh3d": [
           {
            "colorbar": {
             "outlinewidth": 0,
             "ticks": ""
            },
            "type": "mesh3d"
           }
          ],
          "parcoords": [
           {
            "line": {
             "colorbar": {
              "outlinewidth": 0,
              "ticks": ""
             }
            },
            "type": "parcoords"
           }
          ],
          "pie": [
           {
            "automargin": true,
            "type": "pie"
           }
          ],
          "scatter": [
           {
            "marker": {
             "colorbar": {
              "outlinewidth": 0,
              "ticks": ""
             }
            },
            "type": "scatter"
           }
          ],
          "scatter3d": [
           {
            "line": {
             "colorbar": {
              "outlinewidth": 0,
              "ticks": ""
             }
            },
            "marker": {
             "colorbar": {
              "outlinewidth": 0,
              "ticks": ""
             }
            },
            "type": "scatter3d"
           }
          ],
          "scattercarpet": [
           {
            "marker": {
             "colorbar": {
              "outlinewidth": 0,
              "ticks": ""
             }
            },
            "type": "scattercarpet"
           }
          ],
          "scattergeo": [
           {
            "marker": {
             "colorbar": {
              "outlinewidth": 0,
              "ticks": ""
             }
            },
            "type": "scattergeo"
           }
          ],
          "scattergl": [
           {
            "marker": {
             "colorbar": {
              "outlinewidth": 0,
              "ticks": ""
             }
            },
            "type": "scattergl"
           }
          ],
          "scattermapbox": [
           {
            "marker": {
             "colorbar": {
              "outlinewidth": 0,
              "ticks": ""
             }
            },
            "type": "scattermapbox"
           }
          ],
          "scatterpolar": [
           {
            "marker": {
             "colorbar": {
              "outlinewidth": 0,
              "ticks": ""
             }
            },
            "type": "scatterpolar"
           }
          ],
          "scatterpolargl": [
           {
            "marker": {
             "colorbar": {
              "outlinewidth": 0,
              "ticks": ""
             }
            },
            "type": "scatterpolargl"
           }
          ],
          "scatterternary": [
           {
            "marker": {
             "colorbar": {
              "outlinewidth": 0,
              "ticks": ""
             }
            },
            "type": "scatterternary"
           }
          ],
          "surface": [
           {
            "colorbar": {
             "outlinewidth": 0,
             "ticks": ""
            },
            "colorscale": [
             [
              0,
              "#0d0887"
             ],
             [
              0.1111111111111111,
              "#46039f"
             ],
             [
              0.2222222222222222,
              "#7201a8"
             ],
             [
              0.3333333333333333,
              "#9c179e"
             ],
             [
              0.4444444444444444,
              "#bd3786"
             ],
             [
              0.5555555555555556,
              "#d8576b"
             ],
             [
              0.6666666666666666,
              "#ed7953"
             ],
             [
              0.7777777777777778,
              "#fb9f3a"
             ],
             [
              0.8888888888888888,
              "#fdca26"
             ],
             [
              1,
              "#f0f921"
             ]
            ],
            "type": "surface"
           }
          ],
          "table": [
           {
            "cells": {
             "fill": {
              "color": "#EBF0F8"
             },
             "line": {
              "color": "white"
             }
            },
            "header": {
             "fill": {
              "color": "#C8D4E3"
             },
             "line": {
              "color": "white"
             }
            },
            "type": "table"
           }
          ]
         },
         "layout": {
          "annotationdefaults": {
           "arrowcolor": "#2a3f5f",
           "arrowhead": 0,
           "arrowwidth": 1
          },
          "coloraxis": {
           "colorbar": {
            "outlinewidth": 0,
            "ticks": ""
           }
          },
          "colorscale": {
           "diverging": [
            [
             0,
             "#8e0152"
            ],
            [
             0.1,
             "#c51b7d"
            ],
            [
             0.2,
             "#de77ae"
            ],
            [
             0.3,
             "#f1b6da"
            ],
            [
             0.4,
             "#fde0ef"
            ],
            [
             0.5,
             "#f7f7f7"
            ],
            [
             0.6,
             "#e6f5d0"
            ],
            [
             0.7,
             "#b8e186"
            ],
            [
             0.8,
             "#7fbc41"
            ],
            [
             0.9,
             "#4d9221"
            ],
            [
             1,
             "#276419"
            ]
           ],
           "sequential": [
            [
             0,
             "#0d0887"
            ],
            [
             0.1111111111111111,
             "#46039f"
            ],
            [
             0.2222222222222222,
             "#7201a8"
            ],
            [
             0.3333333333333333,
             "#9c179e"
            ],
            [
             0.4444444444444444,
             "#bd3786"
            ],
            [
             0.5555555555555556,
             "#d8576b"
            ],
            [
             0.6666666666666666,
             "#ed7953"
            ],
            [
             0.7777777777777778,
             "#fb9f3a"
            ],
            [
             0.8888888888888888,
             "#fdca26"
            ],
            [
             1,
             "#f0f921"
            ]
           ],
           "sequentialminus": [
            [
             0,
             "#0d0887"
            ],
            [
             0.1111111111111111,
             "#46039f"
            ],
            [
             0.2222222222222222,
             "#7201a8"
            ],
            [
             0.3333333333333333,
             "#9c179e"
            ],
            [
             0.4444444444444444,
             "#bd3786"
            ],
            [
             0.5555555555555556,
             "#d8576b"
            ],
            [
             0.6666666666666666,
             "#ed7953"
            ],
            [
             0.7777777777777778,
             "#fb9f3a"
            ],
            [
             0.8888888888888888,
             "#fdca26"
            ],
            [
             1,
             "#f0f921"
            ]
           ]
          },
          "colorway": [
           "#636efa",
           "#EF553B",
           "#00cc96",
           "#ab63fa",
           "#FFA15A",
           "#19d3f3",
           "#FF6692",
           "#B6E880",
           "#FF97FF",
           "#FECB52"
          ],
          "font": {
           "color": "#2a3f5f"
          },
          "geo": {
           "bgcolor": "white",
           "lakecolor": "white",
           "landcolor": "#E5ECF6",
           "showlakes": true,
           "showland": true,
           "subunitcolor": "white"
          },
          "hoverlabel": {
           "align": "left"
          },
          "hovermode": "closest",
          "mapbox": {
           "style": "light"
          },
          "paper_bgcolor": "white",
          "plot_bgcolor": "#E5ECF6",
          "polar": {
           "angularaxis": {
            "gridcolor": "white",
            "linecolor": "white",
            "ticks": ""
           },
           "bgcolor": "#E5ECF6",
           "radialaxis": {
            "gridcolor": "white",
            "linecolor": "white",
            "ticks": ""
           }
          },
          "scene": {
           "xaxis": {
            "backgroundcolor": "#E5ECF6",
            "gridcolor": "white",
            "gridwidth": 2,
            "linecolor": "white",
            "showbackground": true,
            "ticks": "",
            "zerolinecolor": "white"
           },
           "yaxis": {
            "backgroundcolor": "#E5ECF6",
            "gridcolor": "white",
            "gridwidth": 2,
            "linecolor": "white",
            "showbackground": true,
            "ticks": "",
            "zerolinecolor": "white"
           },
           "zaxis": {
            "backgroundcolor": "#E5ECF6",
            "gridcolor": "white",
            "gridwidth": 2,
            "linecolor": "white",
            "showbackground": true,
            "ticks": "",
            "zerolinecolor": "white"
           }
          },
          "shapedefaults": {
           "line": {
            "color": "#2a3f5f"
           }
          },
          "ternary": {
           "aaxis": {
            "gridcolor": "white",
            "linecolor": "white",
            "ticks": ""
           },
           "baxis": {
            "gridcolor": "white",
            "linecolor": "white",
            "ticks": ""
           },
           "bgcolor": "#E5ECF6",
           "caxis": {
            "gridcolor": "white",
            "linecolor": "white",
            "ticks": ""
           }
          },
          "title": {
           "x": 0.05
          },
          "xaxis": {
           "automargin": true,
           "gridcolor": "white",
           "linecolor": "white",
           "ticks": "",
           "title": {
            "standoff": 15
           },
           "zerolinecolor": "white",
           "zerolinewidth": 2
          },
          "yaxis": {
           "automargin": true,
           "gridcolor": "white",
           "linecolor": "white",
           "ticks": "",
           "title": {
            "standoff": 15
           },
           "zerolinecolor": "white",
           "zerolinewidth": 2
          }
         }
        },
        "title": {
         "text": "Numbers of top 100 videogames publishers"
        },
        "xaxis": {
         "title": {
          "text": "Publishers"
         }
        },
        "yaxis": {
         "title": {
          "text": "Count"
         }
        }
       }
      },
      "text/html": [
       "<div>                            <div id=\"c5de958c-9714-49f8-ac1a-9b9404b2eb0a\" class=\"plotly-graph-div\" style=\"height:525px; width:100%;\"></div>            <script type=\"text/javascript\">                require([\"plotly\"], function(Plotly) {                    window.PLOTLYENV=window.PLOTLYENV || {};                                    if (document.getElementById(\"c5de958c-9714-49f8-ac1a-9b9404b2eb0a\")) {                    Plotly.newPlot(                        \"c5de958c-9714-49f8-ac1a-9b9404b2eb0a\",                        [{\"marker\": {\"color\": \"crimson\", \"line\": {\"color\": \"black\", \"width\": 2}}, \"opacity\": 0.75, \"type\": \"histogram\", \"x\": [\"Wii\", \"NES\", \"Wii\", \"Wii\", \"GB\", \"GB\", \"DS\", \"Wii\", \"Wii\", \"NES\", \"DS\", \"DS\", \"GB\", \"Wii\", \"Wii\", \"X360\", \"PS3\", \"PS2\", \"SNES\", \"DS\", \"DS\", \"GB\", \"NES\", \"X360\", \"PS2\", \"GBA\", \"DS\", \"DS\", \"PS2\", \"X360\", \"GB\", \"X360\", \"3DS\", \"PS4\", \"PS3\", \"X360\", \"X360\", \"PS3\", \"PS2\", \"Wii\", \"PS3\", \"DS\", \"3DS\", \"X360\", \"PS4\", \"DS\", \"N64\", \"PS2\", \"Wii\", \"3DS\", \"GB\", \"X360\", \"PS\", \"3DS\", \"PS3\", \"PS3\", \"PS3\", \"SNES\", \"GBA\", \"DS\", \"Wii\", \"X360\", \"X360\", \"N64\", \"3DS\", \"X360\", \"PS\", \"PS3\", \"Wii\", \"PS\", \"X360\", \"SNES\", \"X360\", \"3DS\", \"DS\", \"X360\", \"SNES\", \"PS4\", \"Wii\", \"XB\", \"Wii\", \"DS\", \"PS3\", \"PC\", \"N64\", \"Wii\", \"PS2\", \"PS\", \"DS\", \"2600\", \"PSP\", \"Wii\", \"PS4\", \"PS4\", \"N64\", \"PS\", \"NES\", \"3DS\", \"X360\", \"X360\"]}],                        {\"bargap\": 0.2, \"bargroupgap\": 0.1, \"paper_bgcolor\": \"rgb(243, 243, 243)\", \"plot_bgcolor\": \"rgb(243, 243, 243)\", \"template\": {\"data\": {\"bar\": [{\"error_x\": {\"color\": \"#2a3f5f\"}, \"error_y\": {\"color\": \"#2a3f5f\"}, \"marker\": {\"line\": {\"color\": \"#E5ECF6\", \"width\": 0.5}}, \"type\": \"bar\"}], \"barpolar\": [{\"marker\": {\"line\": {\"color\": \"#E5ECF6\", \"width\": 0.5}}, \"type\": \"barpolar\"}], \"carpet\": [{\"aaxis\": {\"endlinecolor\": \"#2a3f5f\", \"gridcolor\": \"white\", \"linecolor\": \"white\", \"minorgridcolor\": \"white\", \"startlinecolor\": \"#2a3f5f\"}, \"baxis\": {\"endlinecolor\": \"#2a3f5f\", \"gridcolor\": \"white\", \"linecolor\": \"white\", \"minorgridcolor\": \"white\", \"startlinecolor\": \"#2a3f5f\"}, \"type\": \"carpet\"}], \"choropleth\": [{\"colorbar\": {\"outlinewidth\": 0, \"ticks\": \"\"}, \"type\": \"choropleth\"}], \"contour\": [{\"colorbar\": {\"outlinewidth\": 0, \"ticks\": \"\"}, \"colorscale\": [[0.0, \"#0d0887\"], [0.1111111111111111, \"#46039f\"], [0.2222222222222222, \"#7201a8\"], [0.3333333333333333, \"#9c179e\"], [0.4444444444444444, \"#bd3786\"], [0.5555555555555556, \"#d8576b\"], [0.6666666666666666, \"#ed7953\"], [0.7777777777777778, \"#fb9f3a\"], [0.8888888888888888, \"#fdca26\"], [1.0, \"#f0f921\"]], \"type\": \"contour\"}], \"contourcarpet\": [{\"colorbar\": {\"outlinewidth\": 0, \"ticks\": \"\"}, \"type\": \"contourcarpet\"}], \"heatmap\": [{\"colorbar\": {\"outlinewidth\": 0, \"ticks\": \"\"}, \"colorscale\": [[0.0, \"#0d0887\"], [0.1111111111111111, \"#46039f\"], [0.2222222222222222, \"#7201a8\"], [0.3333333333333333, \"#9c179e\"], [0.4444444444444444, \"#bd3786\"], [0.5555555555555556, \"#d8576b\"], [0.6666666666666666, \"#ed7953\"], [0.7777777777777778, \"#fb9f3a\"], [0.8888888888888888, \"#fdca26\"], [1.0, \"#f0f921\"]], \"type\": \"heatmap\"}], \"heatmapgl\": [{\"colorbar\": {\"outlinewidth\": 0, \"ticks\": \"\"}, \"colorscale\": [[0.0, \"#0d0887\"], [0.1111111111111111, \"#46039f\"], [0.2222222222222222, \"#7201a8\"], [0.3333333333333333, \"#9c179e\"], [0.4444444444444444, \"#bd3786\"], [0.5555555555555556, \"#d8576b\"], [0.6666666666666666, \"#ed7953\"], [0.7777777777777778, \"#fb9f3a\"], [0.8888888888888888, \"#fdca26\"], [1.0, \"#f0f921\"]], \"type\": \"heatmapgl\"}], \"histogram\": [{\"marker\": {\"colorbar\": {\"outlinewidth\": 0, \"ticks\": \"\"}}, \"type\": \"histogram\"}], \"histogram2d\": [{\"colorbar\": {\"outlinewidth\": 0, \"ticks\": \"\"}, \"colorscale\": [[0.0, \"#0d0887\"], [0.1111111111111111, \"#46039f\"], [0.2222222222222222, \"#7201a8\"], [0.3333333333333333, \"#9c179e\"], [0.4444444444444444, \"#bd3786\"], [0.5555555555555556, \"#d8576b\"], [0.6666666666666666, \"#ed7953\"], [0.7777777777777778, \"#fb9f3a\"], [0.8888888888888888, \"#fdca26\"], [1.0, \"#f0f921\"]], \"type\": \"histogram2d\"}], \"histogram2dcontour\": [{\"colorbar\": {\"outlinewidth\": 0, \"ticks\": \"\"}, \"colorscale\": [[0.0, \"#0d0887\"], [0.1111111111111111, \"#46039f\"], [0.2222222222222222, \"#7201a8\"], [0.3333333333333333, \"#9c179e\"], [0.4444444444444444, \"#bd3786\"], [0.5555555555555556, \"#d8576b\"], [0.6666666666666666, \"#ed7953\"], [0.7777777777777778, \"#fb9f3a\"], [0.8888888888888888, \"#fdca26\"], [1.0, \"#f0f921\"]], \"type\": \"histogram2dcontour\"}], \"mesh3d\": [{\"colorbar\": {\"outlinewidth\": 0, \"ticks\": \"\"}, \"type\": \"mesh3d\"}], \"parcoords\": [{\"line\": {\"colorbar\": {\"outlinewidth\": 0, \"ticks\": \"\"}}, \"type\": \"parcoords\"}], \"pie\": [{\"automargin\": true, \"type\": \"pie\"}], \"scatter\": [{\"marker\": {\"colorbar\": {\"outlinewidth\": 0, \"ticks\": \"\"}}, \"type\": \"scatter\"}], \"scatter3d\": [{\"line\": {\"colorbar\": {\"outlinewidth\": 0, \"ticks\": \"\"}}, \"marker\": {\"colorbar\": {\"outlinewidth\": 0, \"ticks\": \"\"}}, \"type\": \"scatter3d\"}], \"scattercarpet\": [{\"marker\": {\"colorbar\": {\"outlinewidth\": 0, \"ticks\": \"\"}}, \"type\": \"scattercarpet\"}], \"scattergeo\": [{\"marker\": {\"colorbar\": {\"outlinewidth\": 0, \"ticks\": \"\"}}, \"type\": \"scattergeo\"}], \"scattergl\": [{\"marker\": {\"colorbar\": {\"outlinewidth\": 0, \"ticks\": \"\"}}, \"type\": \"scattergl\"}], \"scattermapbox\": [{\"marker\": {\"colorbar\": {\"outlinewidth\": 0, \"ticks\": \"\"}}, \"type\": \"scattermapbox\"}], \"scatterpolar\": [{\"marker\": {\"colorbar\": {\"outlinewidth\": 0, \"ticks\": \"\"}}, \"type\": \"scatterpolar\"}], \"scatterpolargl\": [{\"marker\": {\"colorbar\": {\"outlinewidth\": 0, \"ticks\": \"\"}}, \"type\": \"scatterpolargl\"}], \"scatterternary\": [{\"marker\": {\"colorbar\": {\"outlinewidth\": 0, \"ticks\": \"\"}}, \"type\": \"scatterternary\"}], \"surface\": [{\"colorbar\": {\"outlinewidth\": 0, \"ticks\": \"\"}, \"colorscale\": [[0.0, \"#0d0887\"], [0.1111111111111111, \"#46039f\"], [0.2222222222222222, \"#7201a8\"], [0.3333333333333333, \"#9c179e\"], [0.4444444444444444, \"#bd3786\"], [0.5555555555555556, \"#d8576b\"], [0.6666666666666666, \"#ed7953\"], [0.7777777777777778, \"#fb9f3a\"], [0.8888888888888888, \"#fdca26\"], [1.0, \"#f0f921\"]], \"type\": \"surface\"}], \"table\": [{\"cells\": {\"fill\": {\"color\": \"#EBF0F8\"}, \"line\": {\"color\": \"white\"}}, \"header\": {\"fill\": {\"color\": \"#C8D4E3\"}, \"line\": {\"color\": \"white\"}}, \"type\": \"table\"}]}, \"layout\": {\"annotationdefaults\": {\"arrowcolor\": \"#2a3f5f\", \"arrowhead\": 0, \"arrowwidth\": 1}, \"coloraxis\": {\"colorbar\": {\"outlinewidth\": 0, \"ticks\": \"\"}}, \"colorscale\": {\"diverging\": [[0, \"#8e0152\"], [0.1, \"#c51b7d\"], [0.2, \"#de77ae\"], [0.3, \"#f1b6da\"], [0.4, \"#fde0ef\"], [0.5, \"#f7f7f7\"], [0.6, \"#e6f5d0\"], [0.7, \"#b8e186\"], [0.8, \"#7fbc41\"], [0.9, \"#4d9221\"], [1, \"#276419\"]], \"sequential\": [[0.0, \"#0d0887\"], [0.1111111111111111, \"#46039f\"], [0.2222222222222222, \"#7201a8\"], [0.3333333333333333, \"#9c179e\"], [0.4444444444444444, \"#bd3786\"], [0.5555555555555556, \"#d8576b\"], [0.6666666666666666, \"#ed7953\"], [0.7777777777777778, \"#fb9f3a\"], [0.8888888888888888, \"#fdca26\"], [1.0, \"#f0f921\"]], \"sequentialminus\": [[0.0, \"#0d0887\"], [0.1111111111111111, \"#46039f\"], [0.2222222222222222, \"#7201a8\"], [0.3333333333333333, \"#9c179e\"], [0.4444444444444444, \"#bd3786\"], [0.5555555555555556, \"#d8576b\"], [0.6666666666666666, \"#ed7953\"], [0.7777777777777778, \"#fb9f3a\"], [0.8888888888888888, \"#fdca26\"], [1.0, \"#f0f921\"]]}, \"colorway\": [\"#636efa\", \"#EF553B\", \"#00cc96\", \"#ab63fa\", \"#FFA15A\", \"#19d3f3\", \"#FF6692\", \"#B6E880\", \"#FF97FF\", \"#FECB52\"], \"font\": {\"color\": \"#2a3f5f\"}, \"geo\": {\"bgcolor\": \"white\", \"lakecolor\": \"white\", \"landcolor\": \"#E5ECF6\", \"showlakes\": true, \"showland\": true, \"subunitcolor\": \"white\"}, \"hoverlabel\": {\"align\": \"left\"}, \"hovermode\": \"closest\", \"mapbox\": {\"style\": \"light\"}, \"paper_bgcolor\": \"white\", \"plot_bgcolor\": \"#E5ECF6\", \"polar\": {\"angularaxis\": {\"gridcolor\": \"white\", \"linecolor\": \"white\", \"ticks\": \"\"}, \"bgcolor\": \"#E5ECF6\", \"radialaxis\": {\"gridcolor\": \"white\", \"linecolor\": \"white\", \"ticks\": \"\"}}, \"scene\": {\"xaxis\": {\"backgroundcolor\": \"#E5ECF6\", \"gridcolor\": \"white\", \"gridwidth\": 2, \"linecolor\": \"white\", \"showbackground\": true, \"ticks\": \"\", \"zerolinecolor\": \"white\"}, \"yaxis\": {\"backgroundcolor\": \"#E5ECF6\", \"gridcolor\": \"white\", \"gridwidth\": 2, \"linecolor\": \"white\", \"showbackground\": true, \"ticks\": \"\", \"zerolinecolor\": \"white\"}, \"zaxis\": {\"backgroundcolor\": \"#E5ECF6\", \"gridcolor\": \"white\", \"gridwidth\": 2, \"linecolor\": \"white\", \"showbackground\": true, \"ticks\": \"\", \"zerolinecolor\": \"white\"}}, \"shapedefaults\": {\"line\": {\"color\": \"#2a3f5f\"}}, \"ternary\": {\"aaxis\": {\"gridcolor\": \"white\", \"linecolor\": \"white\", \"ticks\": \"\"}, \"baxis\": {\"gridcolor\": \"white\", \"linecolor\": \"white\", \"ticks\": \"\"}, \"bgcolor\": \"#E5ECF6\", \"caxis\": {\"gridcolor\": \"white\", \"linecolor\": \"white\", \"ticks\": \"\"}}, \"title\": {\"x\": 0.05}, \"xaxis\": {\"automargin\": true, \"gridcolor\": \"white\", \"linecolor\": \"white\", \"ticks\": \"\", \"title\": {\"standoff\": 15}, \"zerolinecolor\": \"white\", \"zerolinewidth\": 2}, \"yaxis\": {\"automargin\": true, \"gridcolor\": \"white\", \"linecolor\": \"white\", \"ticks\": \"\", \"title\": {\"standoff\": 15}, \"zerolinecolor\": \"white\", \"zerolinewidth\": 2}}}, \"title\": {\"text\": \"Numbers of top 100 videogames publishers\"}, \"xaxis\": {\"title\": {\"text\": \"Publishers\"}}, \"yaxis\": {\"title\": {\"text\": \"Count\"}}},                        {\"responsive\": true}                    ).then(function(){\n",
       "                            \n",
       "var gd = document.getElementById('c5de958c-9714-49f8-ac1a-9b9404b2eb0a');\n",
       "var x = new MutationObserver(function (mutations, observer) {{\n",
       "        var display = window.getComputedStyle(gd).display;\n",
       "        if (!display || display === 'none') {{\n",
       "            console.log([gd, 'removed!']);\n",
       "            Plotly.purge(gd);\n",
       "            observer.disconnect();\n",
       "        }}\n",
       "}});\n",
       "\n",
       "// Listen for the removal of the full notebook cells\n",
       "var notebookContainer = gd.closest('#notebook-container');\n",
       "if (notebookContainer) {{\n",
       "    x.observe(notebookContainer, {childList: true});\n",
       "}}\n",
       "\n",
       "// Listen for the clearing of the current output cell\n",
       "var outputEl = gd.closest('.output');\n",
       "if (outputEl) {{\n",
       "    x.observe(outputEl, {childList: true});\n",
       "}}\n",
       "\n",
       "                        })                };                });            </script>        </div>"
      ]
     },
     "metadata": {},
     "output_type": "display_data"
    }
   ],
   "source": [
    "df = dataframe.head(100)\n",
    "trace = go.Histogram(x=df.Platform,\n",
    "                     marker=dict(color=\"crimson\", line=dict(color='black', width=2)),opacity=0.75)\n",
    "layout = go.Layout(\n",
    "    title='Numbers of top 100 videogames publishers',\n",
    "    xaxis=dict(title='Publishers'),\n",
    "    yaxis=dict(title=\"Count\"),\n",
    "    bargap=0.2,\n",
    "    bargroupgap=0.1,\n",
    "    paper_bgcolor=\"rgb(243, 243, 243)\",\n",
    "    plot_bgcolor=\"rgb(243, 243, 243)\")\n",
    "iplot(go.Figure(data=[trace], layout=layout))"
   ]
  },
  {
   "cell_type": "markdown",
   "metadata": {
    "slideshow": {
     "slide_type": "slide"
    }
   },
   "source": [
    "### Rank the top 100 games in a scatter plot"
   ]
  },
  {
   "cell_type": "code",
   "execution_count": 27,
   "metadata": {
    "slideshow": {
     "slide_type": "subslide"
    }
   },
   "outputs": [
    {
     "data": {
      "application/vnd.plotly.v1+json": {
       "config": {
        "linkText": "Export to plot.ly",
        "plotlyServerURL": "https://plot.ly",
        "showLink": false
       },
       "data": [
        {
         "marker": {
          "color": "rgba(28, 149, 249, 0.8)",
          "size": 8
         },
         "mode": "markers",
         "name": "North America",
         "text": [
          "Wii Sports",
          "Super Mario Bros.",
          "Mario Kart Wii",
          "Wii Sports Resort",
          "Pokemon Red/Pokemon Blue",
          "Tetris",
          "New Super Mario Bros.",
          "Wii Play",
          "New Super Mario Bros. Wii",
          "Duck Hunt",
          "Nintendogs",
          "Mario Kart DS",
          "Pokemon Gold/Pokemon Silver",
          "Wii Fit",
          "Wii Fit Plus",
          "Kinect Adventures!",
          "Grand Theft Auto V",
          "Grand Theft Auto: San Andreas",
          "Super Mario World",
          "Brain Age: Train Your Brain in Minutes a Day",
          "Pokemon Diamond/Pokemon Pearl",
          "Super Mario Land",
          "Super Mario Bros. 3",
          "Grand Theft Auto V",
          "Grand Theft Auto: Vice City",
          "Pokemon Ruby/Pokemon Sapphire",
          "Pokemon Black/Pokemon White",
          "Brain Age 2: More Training in Minutes a Day",
          "Gran Turismo 3: A-Spec",
          "Call of Duty: Modern Warfare 3",
          "Pokémon Yellow: Special Pikachu Edition",
          "Call of Duty: Black Ops",
          "Pokemon X/Pokemon Y",
          "Call of Duty: Black Ops 3",
          "Call of Duty: Black Ops II",
          "Call of Duty: Black Ops II",
          "Call of Duty: Modern Warfare 2",
          "Call of Duty: Modern Warfare 3",
          "Grand Theft Auto III",
          "Super Smash Bros. Brawl",
          "Call of Duty: Black Ops",
          "Animal Crossing: Wild World",
          "Mario Kart 7",
          "Halo 3",
          "Grand Theft Auto V",
          "Pokemon HeartGold/Pokemon SoulSilver",
          "Super Mario 64",
          "Gran Turismo 4",
          "Super Mario Galaxy",
          "Pokemon Omega Ruby/Pokemon Alpha Sapphire",
          "Super Mario Land 2: 6 Golden Coins",
          "Grand Theft Auto IV",
          "Gran Turismo",
          "Super Mario 3D Land",
          "Gran Turismo 5",
          "Call of Duty: Modern Warfare 2",
          "Grand Theft Auto IV",
          "Super Mario All-Stars",
          "Pokemon FireRed/Pokemon LeafGreen",
          "Super Mario 64",
          "Just Dance 3",
          "Call of Duty: Ghosts",
          "Halo: Reach",
          "Mario Kart 64",
          "New Super Mario Bros. 2",
          "Halo 4",
          "Final Fantasy VII",
          "Call of Duty: Ghosts",
          "Just Dance 2",
          "Gran Turismo 2",
          "Call of Duty 4: Modern Warfare",
          "Donkey Kong Country",
          "Minecraft",
          "Animal Crossing: New Leaf",
          "Mario Party DS",
          "The Elder Scrolls V: Skyrim",
          "Super Mario Kart",
          "FIFA 16",
          "Wii Party",
          "Halo 2",
          "Mario Party 8",
          "Pokemon Black 2/Pokemon White 2",
          "FIFA Soccer 13",
          "The Sims 3",
          "GoldenEye 007",
          "Mario & Sonic at the Olympic Games",
          "Final Fantasy X",
          "Final Fantasy VIII",
          "Pokémon Platinum Version",
          "Pac-Man",
          "Grand Theft Auto: Liberty City Stories",
          "Super Mario Galaxy 2",
          "Star Wars Battlefront (2015)",
          "Call of Duty: Advanced Warfare",
          "The Legend of Zelda: Ocarina of Time",
          "Crash Bandicoot 2: Cortex Strikes Back",
          "Super Mario Bros. 2",
          "Super Smash Bros. for Wii U and 3DS",
          "Call of Duty: World at War",
          "Battlefield 3"
         ],
         "type": "scatter",
         "x": [
          1,
          2,
          3,
          4,
          5,
          6,
          7,
          8,
          9,
          10,
          11,
          12,
          13,
          14,
          15,
          16,
          17,
          18,
          19,
          20,
          21,
          22,
          23,
          24,
          25,
          26,
          27,
          28,
          29,
          30,
          31,
          32,
          33,
          34,
          35,
          36,
          37,
          38,
          39,
          40,
          41,
          42,
          43,
          44,
          45,
          46,
          47,
          48,
          49,
          50,
          51,
          52,
          53,
          54,
          55,
          56,
          57,
          58,
          59,
          60,
          61,
          62,
          63,
          64,
          65,
          66,
          67,
          68,
          69,
          70,
          71,
          72,
          73,
          74,
          75,
          76,
          77,
          78,
          79,
          80,
          81,
          82,
          83,
          84,
          85,
          86,
          87,
          88,
          89,
          90,
          91,
          92,
          93,
          94,
          95,
          96,
          97,
          98,
          99,
          100
         ],
         "y": [
          41.49,
          29.08,
          15.85,
          15.75,
          11.27,
          23.2,
          11.38,
          14.03,
          14.59,
          26.93,
          9.07,
          9.81,
          9,
          8.94,
          9.09,
          14.97,
          7.01,
          9.43,
          12.78,
          4.75,
          6.42,
          10.83,
          9.54,
          9.63,
          8.41,
          6.06,
          5.57,
          3.44,
          6.85,
          9.03,
          5.89,
          9.67,
          5.17,
          5.77,
          4.99,
          8.25,
          8.52,
          5.54,
          6.99,
          6.75,
          5.98,
          2.55,
          4.74,
          7.97,
          3.8,
          4.4,
          6.91,
          3.01,
          6.16,
          4.23,
          6.16,
          6.76,
          4.02,
          4.89,
          2.96,
          4.99,
          4.76,
          5.99,
          4.34,
          5.08,
          6.05,
          6.72,
          7.03,
          5.55,
          3.66,
          6.63,
          3.01,
          4.09,
          5.84,
          3.88,
          5.91,
          4.36,
          5.58,
          2.01,
          4.46,
          5.03,
          3.54,
          1.11,
          1.79,
          6.82,
          3.81,
          2.91,
          1.06,
          0.98,
          5.8,
          2.58,
          2.91,
          2.28,
          2.82,
          7.28,
          2.9,
          3.66,
          2.93,
          2.8,
          4.1,
          3.78,
          5.39,
          3.24,
          4.79,
          4.46
         ]
        },
        {
         "marker": {
          "color": "rgba(249, 94, 28, 0.8)",
          "size": 8
         },
         "mode": "markers",
         "name": "Europe",
         "text": [
          "Wii Sports",
          "Super Mario Bros.",
          "Mario Kart Wii",
          "Wii Sports Resort",
          "Pokemon Red/Pokemon Blue",
          "Tetris",
          "New Super Mario Bros.",
          "Wii Play",
          "New Super Mario Bros. Wii",
          "Duck Hunt",
          "Nintendogs",
          "Mario Kart DS",
          "Pokemon Gold/Pokemon Silver",
          "Wii Fit",
          "Wii Fit Plus",
          "Kinect Adventures!",
          "Grand Theft Auto V",
          "Grand Theft Auto: San Andreas",
          "Super Mario World",
          "Brain Age: Train Your Brain in Minutes a Day",
          "Pokemon Diamond/Pokemon Pearl",
          "Super Mario Land",
          "Super Mario Bros. 3",
          "Grand Theft Auto V",
          "Grand Theft Auto: Vice City",
          "Pokemon Ruby/Pokemon Sapphire",
          "Pokemon Black/Pokemon White",
          "Brain Age 2: More Training in Minutes a Day",
          "Gran Turismo 3: A-Spec",
          "Call of Duty: Modern Warfare 3",
          "Pokémon Yellow: Special Pikachu Edition",
          "Call of Duty: Black Ops",
          "Pokemon X/Pokemon Y",
          "Call of Duty: Black Ops 3",
          "Call of Duty: Black Ops II",
          "Call of Duty: Black Ops II",
          "Call of Duty: Modern Warfare 2",
          "Call of Duty: Modern Warfare 3",
          "Grand Theft Auto III",
          "Super Smash Bros. Brawl",
          "Call of Duty: Black Ops",
          "Animal Crossing: Wild World",
          "Mario Kart 7",
          "Halo 3",
          "Grand Theft Auto V",
          "Pokemon HeartGold/Pokemon SoulSilver",
          "Super Mario 64",
          "Gran Turismo 4",
          "Super Mario Galaxy",
          "Pokemon Omega Ruby/Pokemon Alpha Sapphire",
          "Super Mario Land 2: 6 Golden Coins",
          "Grand Theft Auto IV",
          "Gran Turismo",
          "Super Mario 3D Land",
          "Gran Turismo 5",
          "Call of Duty: Modern Warfare 2",
          "Grand Theft Auto IV",
          "Super Mario All-Stars",
          "Pokemon FireRed/Pokemon LeafGreen",
          "Super Mario 64",
          "Just Dance 3",
          "Call of Duty: Ghosts",
          "Halo: Reach",
          "Mario Kart 64",
          "New Super Mario Bros. 2",
          "Halo 4",
          "Final Fantasy VII",
          "Call of Duty: Ghosts",
          "Just Dance 2",
          "Gran Turismo 2",
          "Call of Duty 4: Modern Warfare",
          "Donkey Kong Country",
          "Minecraft",
          "Animal Crossing: New Leaf",
          "Mario Party DS",
          "The Elder Scrolls V: Skyrim",
          "Super Mario Kart",
          "FIFA 16",
          "Wii Party",
          "Halo 2",
          "Mario Party 8",
          "Pokemon Black 2/Pokemon White 2",
          "FIFA Soccer 13",
          "The Sims 3",
          "GoldenEye 007",
          "Mario & Sonic at the Olympic Games",
          "Final Fantasy X",
          "Final Fantasy VIII",
          "Pokémon Platinum Version",
          "Pac-Man",
          "Grand Theft Auto: Liberty City Stories",
          "Super Mario Galaxy 2",
          "Star Wars Battlefront (2015)",
          "Call of Duty: Advanced Warfare",
          "The Legend of Zelda: Ocarina of Time",
          "Crash Bandicoot 2: Cortex Strikes Back",
          "Super Mario Bros. 2",
          "Super Smash Bros. for Wii U and 3DS",
          "Call of Duty: World at War",
          "Battlefield 3"
         ],
         "type": "scatter",
         "x": [
          1,
          2,
          3,
          4,
          5,
          6,
          7,
          8,
          9,
          10,
          11,
          12,
          13,
          14,
          15,
          16,
          17,
          18,
          19,
          20,
          21,
          22,
          23,
          24,
          25,
          26,
          27,
          28,
          29,
          30,
          31,
          32,
          33,
          34,
          35,
          36,
          37,
          38,
          39,
          40,
          41,
          42,
          43,
          44,
          45,
          46,
          47,
          48,
          49,
          50,
          51,
          52,
          53,
          54,
          55,
          56,
          57,
          58,
          59,
          60,
          61,
          62,
          63,
          64,
          65,
          66,
          67,
          68,
          69,
          70,
          71,
          72,
          73,
          74,
          75,
          76,
          77,
          78,
          79,
          80,
          81,
          82,
          83,
          84,
          85,
          86,
          87,
          88,
          89,
          90,
          91,
          92,
          93,
          94,
          95,
          96,
          97,
          98,
          99,
          100
         ],
         "y": [
          29.02,
          3.58,
          12.88,
          11.01,
          8.89,
          2.26,
          9.23,
          9.2,
          7.06,
          0.63,
          11,
          7.57,
          6.18,
          8.03,
          8.59,
          4.94,
          9.27,
          0.4,
          3.75,
          9.26,
          4.52,
          2.71,
          3.44,
          5.31,
          5.49,
          3.9,
          3.28,
          5.36,
          5.09,
          4.28,
          5.04,
          3.73,
          4.05,
          5.81,
          5.88,
          4.3,
          3.63,
          5.82,
          4.51,
          2.61,
          4.44,
          3.52,
          3.91,
          2.83,
          5.81,
          2.77,
          2.85,
          0.01,
          3.4,
          3.37,
          2.04,
          3.1,
          3.87,
          2.99,
          4.88,
          3.69,
          3.76,
          2.15,
          2.65,
          3.11,
          3.15,
          2.63,
          1.98,
          1.94,
          3.07,
          2.36,
          2.47,
          3.73,
          2.89,
          3.42,
          2.38,
          1.71,
          2.83,
          2.32,
          1.88,
          2.86,
          1.24,
          6.06,
          3.53,
          1.53,
          2.3,
          1.86,
          5.05,
          6.42,
          2.01,
          3.9,
          2.07,
          1.72,
          1.78,
          0.45,
          2.83,
          2.42,
          3.29,
          3.3,
          1.89,
          2.17,
          1.18,
          1.35,
          1.9,
          2.13
         ]
        },
        {
         "marker": {
          "color": "rgba(150, 26, 80, 0.8)",
          "size": 8
         },
         "mode": "markers",
         "name": "Japan",
         "text": [
          "Wii Sports",
          "Super Mario Bros.",
          "Mario Kart Wii",
          "Wii Sports Resort",
          "Pokemon Red/Pokemon Blue",
          "Tetris",
          "New Super Mario Bros.",
          "Wii Play",
          "New Super Mario Bros. Wii",
          "Duck Hunt",
          "Nintendogs",
          "Mario Kart DS",
          "Pokemon Gold/Pokemon Silver",
          "Wii Fit",
          "Wii Fit Plus",
          "Kinect Adventures!",
          "Grand Theft Auto V",
          "Grand Theft Auto: San Andreas",
          "Super Mario World",
          "Brain Age: Train Your Brain in Minutes a Day",
          "Pokemon Diamond/Pokemon Pearl",
          "Super Mario Land",
          "Super Mario Bros. 3",
          "Grand Theft Auto V",
          "Grand Theft Auto: Vice City",
          "Pokemon Ruby/Pokemon Sapphire",
          "Pokemon Black/Pokemon White",
          "Brain Age 2: More Training in Minutes a Day",
          "Gran Turismo 3: A-Spec",
          "Call of Duty: Modern Warfare 3",
          "Pokémon Yellow: Special Pikachu Edition",
          "Call of Duty: Black Ops",
          "Pokemon X/Pokemon Y",
          "Call of Duty: Black Ops 3",
          "Call of Duty: Black Ops II",
          "Call of Duty: Black Ops II",
          "Call of Duty: Modern Warfare 2",
          "Call of Duty: Modern Warfare 3",
          "Grand Theft Auto III",
          "Super Smash Bros. Brawl",
          "Call of Duty: Black Ops",
          "Animal Crossing: Wild World",
          "Mario Kart 7",
          "Halo 3",
          "Grand Theft Auto V",
          "Pokemon HeartGold/Pokemon SoulSilver",
          "Super Mario 64",
          "Gran Turismo 4",
          "Super Mario Galaxy",
          "Pokemon Omega Ruby/Pokemon Alpha Sapphire",
          "Super Mario Land 2: 6 Golden Coins",
          "Grand Theft Auto IV",
          "Gran Turismo",
          "Super Mario 3D Land",
          "Gran Turismo 5",
          "Call of Duty: Modern Warfare 2",
          "Grand Theft Auto IV",
          "Super Mario All-Stars",
          "Pokemon FireRed/Pokemon LeafGreen",
          "Super Mario 64",
          "Just Dance 3",
          "Call of Duty: Ghosts",
          "Halo: Reach",
          "Mario Kart 64",
          "New Super Mario Bros. 2",
          "Halo 4",
          "Final Fantasy VII",
          "Call of Duty: Ghosts",
          "Just Dance 2",
          "Gran Turismo 2",
          "Call of Duty 4: Modern Warfare",
          "Donkey Kong Country",
          "Minecraft",
          "Animal Crossing: New Leaf",
          "Mario Party DS",
          "The Elder Scrolls V: Skyrim",
          "Super Mario Kart",
          "FIFA 16",
          "Wii Party",
          "Halo 2",
          "Mario Party 8",
          "Pokemon Black 2/Pokemon White 2",
          "FIFA Soccer 13",
          "The Sims 3",
          "GoldenEye 007",
          "Mario & Sonic at the Olympic Games",
          "Final Fantasy X",
          "Final Fantasy VIII",
          "Pokémon Platinum Version",
          "Pac-Man",
          "Grand Theft Auto: Liberty City Stories",
          "Super Mario Galaxy 2",
          "Star Wars Battlefront (2015)",
          "Call of Duty: Advanced Warfare",
          "The Legend of Zelda: Ocarina of Time",
          "Crash Bandicoot 2: Cortex Strikes Back",
          "Super Mario Bros. 2",
          "Super Smash Bros. for Wii U and 3DS",
          "Call of Duty: World at War",
          "Battlefield 3"
         ],
         "type": "scatter",
         "x": [
          1,
          2,
          3,
          4,
          5,
          6,
          7,
          8,
          9,
          10,
          11,
          12,
          13,
          14,
          15,
          16,
          17,
          18,
          19,
          20,
          21,
          22,
          23,
          24,
          25,
          26,
          27,
          28,
          29,
          30,
          31,
          32,
          33,
          34,
          35,
          36,
          37,
          38,
          39,
          40,
          41,
          42,
          43,
          44,
          45,
          46,
          47,
          48,
          49,
          50,
          51,
          52,
          53,
          54,
          55,
          56,
          57,
          58,
          59,
          60,
          61,
          62,
          63,
          64,
          65,
          66,
          67,
          68,
          69,
          70,
          71,
          72,
          73,
          74,
          75,
          76,
          77,
          78,
          79,
          80,
          81,
          82,
          83,
          84,
          85,
          86,
          87,
          88,
          89,
          90,
          91,
          92,
          93,
          94,
          95,
          96,
          97,
          98,
          99,
          100
         ],
         "y": [
          3.77,
          6.81,
          3.79,
          3.28,
          10.22,
          4.22,
          6.5,
          2.93,
          4.7,
          0.28,
          1.93,
          4.13,
          7.2,
          3.6,
          2.53,
          0.24,
          0.97,
          0.41,
          3.54,
          4.16,
          6.04,
          4.18,
          3.84,
          0.06,
          0.47,
          5.38,
          5.65,
          5.32,
          1.87,
          0.13,
          3.12,
          0.11,
          4.34,
          0.35,
          0.65,
          0.07,
          0.08,
          0.49,
          0.3,
          2.66,
          0.48,
          5.33,
          2.67,
          0.13,
          0.36,
          3.96,
          1.91,
          1.1,
          1.2,
          3.08,
          2.69,
          0.14,
          2.54,
          2.13,
          0.81,
          0.38,
          0.44,
          2.12,
          3.15,
          1.25,
          0,
          0.04,
          0.08,
          2.23,
          2.47,
          0.04,
          3.28,
          0.38,
          0.01,
          1.69,
          0.13,
          3,
          0.02,
          4.36,
          1.98,
          0.1,
          3.81,
          0.06,
          2.49,
          0.05,
          1.58,
          3.14,
          0.13,
          0,
          0.13,
          0.66,
          2.73,
          3.63,
          2.69,
          0,
          0.24,
          0.98,
          0.22,
          0.14,
          1.45,
          1.31,
          0.7,
          2.42,
          0,
          0.06
         ]
        },
        {
         "marker": {
          "color": "lime",
          "size": 8
         },
         "mode": "markers",
         "name": "Other",
         "text": [
          "Wii Sports",
          "Super Mario Bros.",
          "Mario Kart Wii",
          "Wii Sports Resort",
          "Pokemon Red/Pokemon Blue",
          "Tetris",
          "New Super Mario Bros.",
          "Wii Play",
          "New Super Mario Bros. Wii",
          "Duck Hunt",
          "Nintendogs",
          "Mario Kart DS",
          "Pokemon Gold/Pokemon Silver",
          "Wii Fit",
          "Wii Fit Plus",
          "Kinect Adventures!",
          "Grand Theft Auto V",
          "Grand Theft Auto: San Andreas",
          "Super Mario World",
          "Brain Age: Train Your Brain in Minutes a Day",
          "Pokemon Diamond/Pokemon Pearl",
          "Super Mario Land",
          "Super Mario Bros. 3",
          "Grand Theft Auto V",
          "Grand Theft Auto: Vice City",
          "Pokemon Ruby/Pokemon Sapphire",
          "Pokemon Black/Pokemon White",
          "Brain Age 2: More Training in Minutes a Day",
          "Gran Turismo 3: A-Spec",
          "Call of Duty: Modern Warfare 3",
          "Pokémon Yellow: Special Pikachu Edition",
          "Call of Duty: Black Ops",
          "Pokemon X/Pokemon Y",
          "Call of Duty: Black Ops 3",
          "Call of Duty: Black Ops II",
          "Call of Duty: Black Ops II",
          "Call of Duty: Modern Warfare 2",
          "Call of Duty: Modern Warfare 3",
          "Grand Theft Auto III",
          "Super Smash Bros. Brawl",
          "Call of Duty: Black Ops",
          "Animal Crossing: Wild World",
          "Mario Kart 7",
          "Halo 3",
          "Grand Theft Auto V",
          "Pokemon HeartGold/Pokemon SoulSilver",
          "Super Mario 64",
          "Gran Turismo 4",
          "Super Mario Galaxy",
          "Pokemon Omega Ruby/Pokemon Alpha Sapphire",
          "Super Mario Land 2: 6 Golden Coins",
          "Grand Theft Auto IV",
          "Gran Turismo",
          "Super Mario 3D Land",
          "Gran Turismo 5",
          "Call of Duty: Modern Warfare 2",
          "Grand Theft Auto IV",
          "Super Mario All-Stars",
          "Pokemon FireRed/Pokemon LeafGreen",
          "Super Mario 64",
          "Just Dance 3",
          "Call of Duty: Ghosts",
          "Halo: Reach",
          "Mario Kart 64",
          "New Super Mario Bros. 2",
          "Halo 4",
          "Final Fantasy VII",
          "Call of Duty: Ghosts",
          "Just Dance 2",
          "Gran Turismo 2",
          "Call of Duty 4: Modern Warfare",
          "Donkey Kong Country",
          "Minecraft",
          "Animal Crossing: New Leaf",
          "Mario Party DS",
          "The Elder Scrolls V: Skyrim",
          "Super Mario Kart",
          "FIFA 16",
          "Wii Party",
          "Halo 2",
          "Mario Party 8",
          "Pokemon Black 2/Pokemon White 2",
          "FIFA Soccer 13",
          "The Sims 3",
          "GoldenEye 007",
          "Mario & Sonic at the Olympic Games",
          "Final Fantasy X",
          "Final Fantasy VIII",
          "Pokémon Platinum Version",
          "Pac-Man",
          "Grand Theft Auto: Liberty City Stories",
          "Super Mario Galaxy 2",
          "Star Wars Battlefront (2015)",
          "Call of Duty: Advanced Warfare",
          "The Legend of Zelda: Ocarina of Time",
          "Crash Bandicoot 2: Cortex Strikes Back",
          "Super Mario Bros. 2",
          "Super Smash Bros. for Wii U and 3DS",
          "Call of Duty: World at War",
          "Battlefield 3"
         ],
         "type": "scatter",
         "x": [
          1,
          2,
          3,
          4,
          5,
          6,
          7,
          8,
          9,
          10,
          11,
          12,
          13,
          14,
          15,
          16,
          17,
          18,
          19,
          20,
          21,
          22,
          23,
          24,
          25,
          26,
          27,
          28,
          29,
          30,
          31,
          32,
          33,
          34,
          35,
          36,
          37,
          38,
          39,
          40,
          41,
          42,
          43,
          44,
          45,
          46,
          47,
          48,
          49,
          50,
          51,
          52,
          53,
          54,
          55,
          56,
          57,
          58,
          59,
          60,
          61,
          62,
          63,
          64,
          65,
          66,
          67,
          68,
          69,
          70,
          71,
          72,
          73,
          74,
          75,
          76,
          77,
          78,
          79,
          80,
          81,
          82,
          83,
          84,
          85,
          86,
          87,
          88,
          89,
          90,
          91,
          92,
          93,
          94,
          95,
          96,
          97,
          98,
          99,
          100
         ],
         "y": [
          8.46,
          0.77,
          3.31,
          2.96,
          1,
          0.58,
          2.9,
          2.85,
          2.26,
          0.47,
          2.75,
          1.92,
          0.71,
          2.15,
          1.79,
          1.67,
          4.14,
          10.57,
          0.55,
          2.05,
          1.37,
          0.42,
          0.46,
          1.38,
          1.78,
          0.5,
          0.82,
          1.18,
          1.16,
          1.32,
          0.59,
          1.13,
          0.79,
          2.31,
          2.52,
          1.12,
          1.29,
          1.62,
          1.3,
          1.02,
          1.83,
          0.88,
          0.89,
          1.21,
          2.02,
          0.77,
          0.23,
          7.53,
          0.76,
          0.65,
          0.29,
          1.03,
          0.52,
          0.78,
          2.12,
          1.63,
          1.62,
          0.29,
          0.35,
          0.98,
          1.07,
          0.82,
          0.78,
          0.15,
          0.63,
          0.73,
          0.96,
          1.38,
          0.78,
          0.5,
          0.9,
          0.23,
          0.77,
          0.41,
          0.7,
          0.85,
          0.18,
          1.26,
          0.68,
          0.08,
          0.73,
          0.43,
          2.01,
          0.71,
          0.15,
          0.91,
          0.33,
          0.23,
          0.55,
          0.08,
          1.75,
          0.64,
          1.23,
          1.37,
          0.16,
          0.31,
          0.19,
          0.43,
          0.69,
          0.69
         ]
        }
       ],
       "layout": {
        "paper_bgcolor": "rgb(243, 243, 243)",
        "plot_bgcolor": "rgb(243, 243, 243)",
        "template": {
         "data": {
          "bar": [
           {
            "error_x": {
             "color": "#2a3f5f"
            },
            "error_y": {
             "color": "#2a3f5f"
            },
            "marker": {
             "line": {
              "color": "#E5ECF6",
              "width": 0.5
             }
            },
            "type": "bar"
           }
          ],
          "barpolar": [
           {
            "marker": {
             "line": {
              "color": "#E5ECF6",
              "width": 0.5
             }
            },
            "type": "barpolar"
           }
          ],
          "carpet": [
           {
            "aaxis": {
             "endlinecolor": "#2a3f5f",
             "gridcolor": "white",
             "linecolor": "white",
             "minorgridcolor": "white",
             "startlinecolor": "#2a3f5f"
            },
            "baxis": {
             "endlinecolor": "#2a3f5f",
             "gridcolor": "white",
             "linecolor": "white",
             "minorgridcolor": "white",
             "startlinecolor": "#2a3f5f"
            },
            "type": "carpet"
           }
          ],
          "choropleth": [
           {
            "colorbar": {
             "outlinewidth": 0,
             "ticks": ""
            },
            "type": "choropleth"
           }
          ],
          "contour": [
           {
            "colorbar": {
             "outlinewidth": 0,
             "ticks": ""
            },
            "colorscale": [
             [
              0,
              "#0d0887"
             ],
             [
              0.1111111111111111,
              "#46039f"
             ],
             [
              0.2222222222222222,
              "#7201a8"
             ],
             [
              0.3333333333333333,
              "#9c179e"
             ],
             [
              0.4444444444444444,
              "#bd3786"
             ],
             [
              0.5555555555555556,
              "#d8576b"
             ],
             [
              0.6666666666666666,
              "#ed7953"
             ],
             [
              0.7777777777777778,
              "#fb9f3a"
             ],
             [
              0.8888888888888888,
              "#fdca26"
             ],
             [
              1,
              "#f0f921"
             ]
            ],
            "type": "contour"
           }
          ],
          "contourcarpet": [
           {
            "colorbar": {
             "outlinewidth": 0,
             "ticks": ""
            },
            "type": "contourcarpet"
           }
          ],
          "heatmap": [
           {
            "colorbar": {
             "outlinewidth": 0,
             "ticks": ""
            },
            "colorscale": [
             [
              0,
              "#0d0887"
             ],
             [
              0.1111111111111111,
              "#46039f"
             ],
             [
              0.2222222222222222,
              "#7201a8"
             ],
             [
              0.3333333333333333,
              "#9c179e"
             ],
             [
              0.4444444444444444,
              "#bd3786"
             ],
             [
              0.5555555555555556,
              "#d8576b"
             ],
             [
              0.6666666666666666,
              "#ed7953"
             ],
             [
              0.7777777777777778,
              "#fb9f3a"
             ],
             [
              0.8888888888888888,
              "#fdca26"
             ],
             [
              1,
              "#f0f921"
             ]
            ],
            "type": "heatmap"
           }
          ],
          "heatmapgl": [
           {
            "colorbar": {
             "outlinewidth": 0,
             "ticks": ""
            },
            "colorscale": [
             [
              0,
              "#0d0887"
             ],
             [
              0.1111111111111111,
              "#46039f"
             ],
             [
              0.2222222222222222,
              "#7201a8"
             ],
             [
              0.3333333333333333,
              "#9c179e"
             ],
             [
              0.4444444444444444,
              "#bd3786"
             ],
             [
              0.5555555555555556,
              "#d8576b"
             ],
             [
              0.6666666666666666,
              "#ed7953"
             ],
             [
              0.7777777777777778,
              "#fb9f3a"
             ],
             [
              0.8888888888888888,
              "#fdca26"
             ],
             [
              1,
              "#f0f921"
             ]
            ],
            "type": "heatmapgl"
           }
          ],
          "histogram": [
           {
            "marker": {
             "colorbar": {
              "outlinewidth": 0,
              "ticks": ""
             }
            },
            "type": "histogram"
           }
          ],
          "histogram2d": [
           {
            "colorbar": {
             "outlinewidth": 0,
             "ticks": ""
            },
            "colorscale": [
             [
              0,
              "#0d0887"
             ],
             [
              0.1111111111111111,
              "#46039f"
             ],
             [
              0.2222222222222222,
              "#7201a8"
             ],
             [
              0.3333333333333333,
              "#9c179e"
             ],
             [
              0.4444444444444444,
              "#bd3786"
             ],
             [
              0.5555555555555556,
              "#d8576b"
             ],
             [
              0.6666666666666666,
              "#ed7953"
             ],
             [
              0.7777777777777778,
              "#fb9f3a"
             ],
             [
              0.8888888888888888,
              "#fdca26"
             ],
             [
              1,
              "#f0f921"
             ]
            ],
            "type": "histogram2d"
           }
          ],
          "histogram2dcontour": [
           {
            "colorbar": {
             "outlinewidth": 0,
             "ticks": ""
            },
            "colorscale": [
             [
              0,
              "#0d0887"
             ],
             [
              0.1111111111111111,
              "#46039f"
             ],
             [
              0.2222222222222222,
              "#7201a8"
             ],
             [
              0.3333333333333333,
              "#9c179e"
             ],
             [
              0.4444444444444444,
              "#bd3786"
             ],
             [
              0.5555555555555556,
              "#d8576b"
             ],
             [
              0.6666666666666666,
              "#ed7953"
             ],
             [
              0.7777777777777778,
              "#fb9f3a"
             ],
             [
              0.8888888888888888,
              "#fdca26"
             ],
             [
              1,
              "#f0f921"
             ]
            ],
            "type": "histogram2dcontour"
           }
          ],
          "mesh3d": [
           {
            "colorbar": {
             "outlinewidth": 0,
             "ticks": ""
            },
            "type": "mesh3d"
           }
          ],
          "parcoords": [
           {
            "line": {
             "colorbar": {
              "outlinewidth": 0,
              "ticks": ""
             }
            },
            "type": "parcoords"
           }
          ],
          "pie": [
           {
            "automargin": true,
            "type": "pie"
           }
          ],
          "scatter": [
           {
            "marker": {
             "colorbar": {
              "outlinewidth": 0,
              "ticks": ""
             }
            },
            "type": "scatter"
           }
          ],
          "scatter3d": [
           {
            "line": {
             "colorbar": {
              "outlinewidth": 0,
              "ticks": ""
             }
            },
            "marker": {
             "colorbar": {
              "outlinewidth": 0,
              "ticks": ""
             }
            },
            "type": "scatter3d"
           }
          ],
          "scattercarpet": [
           {
            "marker": {
             "colorbar": {
              "outlinewidth": 0,
              "ticks": ""
             }
            },
            "type": "scattercarpet"
           }
          ],
          "scattergeo": [
           {
            "marker": {
             "colorbar": {
              "outlinewidth": 0,
              "ticks": ""
             }
            },
            "type": "scattergeo"
           }
          ],
          "scattergl": [
           {
            "marker": {
             "colorbar": {
              "outlinewidth": 0,
              "ticks": ""
             }
            },
            "type": "scattergl"
           }
          ],
          "scattermapbox": [
           {
            "marker": {
             "colorbar": {
              "outlinewidth": 0,
              "ticks": ""
             }
            },
            "type": "scattermapbox"
           }
          ],
          "scatterpolar": [
           {
            "marker": {
             "colorbar": {
              "outlinewidth": 0,
              "ticks": ""
             }
            },
            "type": "scatterpolar"
           }
          ],
          "scatterpolargl": [
           {
            "marker": {
             "colorbar": {
              "outlinewidth": 0,
              "ticks": ""
             }
            },
            "type": "scatterpolargl"
           }
          ],
          "scatterternary": [
           {
            "marker": {
             "colorbar": {
              "outlinewidth": 0,
              "ticks": ""
             }
            },
            "type": "scatterternary"
           }
          ],
          "surface": [
           {
            "colorbar": {
             "outlinewidth": 0,
             "ticks": ""
            },
            "colorscale": [
             [
              0,
              "#0d0887"
             ],
             [
              0.1111111111111111,
              "#46039f"
             ],
             [
              0.2222222222222222,
              "#7201a8"
             ],
             [
              0.3333333333333333,
              "#9c179e"
             ],
             [
              0.4444444444444444,
              "#bd3786"
             ],
             [
              0.5555555555555556,
              "#d8576b"
             ],
             [
              0.6666666666666666,
              "#ed7953"
             ],
             [
              0.7777777777777778,
              "#fb9f3a"
             ],
             [
              0.8888888888888888,
              "#fdca26"
             ],
             [
              1,
              "#f0f921"
             ]
            ],
            "type": "surface"
           }
          ],
          "table": [
           {
            "cells": {
             "fill": {
              "color": "#EBF0F8"
             },
             "line": {
              "color": "white"
             }
            },
            "header": {
             "fill": {
              "color": "#C8D4E3"
             },
             "line": {
              "color": "white"
             }
            },
            "type": "table"
           }
          ]
         },
         "layout": {
          "annotationdefaults": {
           "arrowcolor": "#2a3f5f",
           "arrowhead": 0,
           "arrowwidth": 1
          },
          "coloraxis": {
           "colorbar": {
            "outlinewidth": 0,
            "ticks": ""
           }
          },
          "colorscale": {
           "diverging": [
            [
             0,
             "#8e0152"
            ],
            [
             0.1,
             "#c51b7d"
            ],
            [
             0.2,
             "#de77ae"
            ],
            [
             0.3,
             "#f1b6da"
            ],
            [
             0.4,
             "#fde0ef"
            ],
            [
             0.5,
             "#f7f7f7"
            ],
            [
             0.6,
             "#e6f5d0"
            ],
            [
             0.7,
             "#b8e186"
            ],
            [
             0.8,
             "#7fbc41"
            ],
            [
             0.9,
             "#4d9221"
            ],
            [
             1,
             "#276419"
            ]
           ],
           "sequential": [
            [
             0,
             "#0d0887"
            ],
            [
             0.1111111111111111,
             "#46039f"
            ],
            [
             0.2222222222222222,
             "#7201a8"
            ],
            [
             0.3333333333333333,
             "#9c179e"
            ],
            [
             0.4444444444444444,
             "#bd3786"
            ],
            [
             0.5555555555555556,
             "#d8576b"
            ],
            [
             0.6666666666666666,
             "#ed7953"
            ],
            [
             0.7777777777777778,
             "#fb9f3a"
            ],
            [
             0.8888888888888888,
             "#fdca26"
            ],
            [
             1,
             "#f0f921"
            ]
           ],
           "sequentialminus": [
            [
             0,
             "#0d0887"
            ],
            [
             0.1111111111111111,
             "#46039f"
            ],
            [
             0.2222222222222222,
             "#7201a8"
            ],
            [
             0.3333333333333333,
             "#9c179e"
            ],
            [
             0.4444444444444444,
             "#bd3786"
            ],
            [
             0.5555555555555556,
             "#d8576b"
            ],
            [
             0.6666666666666666,
             "#ed7953"
            ],
            [
             0.7777777777777778,
             "#fb9f3a"
            ],
            [
             0.8888888888888888,
             "#fdca26"
            ],
            [
             1,
             "#f0f921"
            ]
           ]
          },
          "colorway": [
           "#636efa",
           "#EF553B",
           "#00cc96",
           "#ab63fa",
           "#FFA15A",
           "#19d3f3",
           "#FF6692",
           "#B6E880",
           "#FF97FF",
           "#FECB52"
          ],
          "font": {
           "color": "#2a3f5f"
          },
          "geo": {
           "bgcolor": "white",
           "lakecolor": "white",
           "landcolor": "#E5ECF6",
           "showlakes": true,
           "showland": true,
           "subunitcolor": "white"
          },
          "hoverlabel": {
           "align": "left"
          },
          "hovermode": "closest",
          "mapbox": {
           "style": "light"
          },
          "paper_bgcolor": "white",
          "plot_bgcolor": "#E5ECF6",
          "polar": {
           "angularaxis": {
            "gridcolor": "white",
            "linecolor": "white",
            "ticks": ""
           },
           "bgcolor": "#E5ECF6",
           "radialaxis": {
            "gridcolor": "white",
            "linecolor": "white",
            "ticks": ""
           }
          },
          "scene": {
           "xaxis": {
            "backgroundcolor": "#E5ECF6",
            "gridcolor": "white",
            "gridwidth": 2,
            "linecolor": "white",
            "showbackground": true,
            "ticks": "",
            "zerolinecolor": "white"
           },
           "yaxis": {
            "backgroundcolor": "#E5ECF6",
            "gridcolor": "white",
            "gridwidth": 2,
            "linecolor": "white",
            "showbackground": true,
            "ticks": "",
            "zerolinecolor": "white"
           },
           "zaxis": {
            "backgroundcolor": "#E5ECF6",
            "gridcolor": "white",
            "gridwidth": 2,
            "linecolor": "white",
            "showbackground": true,
            "ticks": "",
            "zerolinecolor": "white"
           }
          },
          "shapedefaults": {
           "line": {
            "color": "#2a3f5f"
           }
          },
          "ternary": {
           "aaxis": {
            "gridcolor": "white",
            "linecolor": "white",
            "ticks": ""
           },
           "baxis": {
            "gridcolor": "white",
            "linecolor": "white",
            "ticks": ""
           },
           "bgcolor": "#E5ECF6",
           "caxis": {
            "gridcolor": "white",
            "linecolor": "white",
            "ticks": ""
           }
          },
          "title": {
           "x": 0.05
          },
          "xaxis": {
           "automargin": true,
           "gridcolor": "white",
           "linecolor": "white",
           "ticks": "",
           "title": {
            "standoff": 15
           },
           "zerolinecolor": "white",
           "zerolinewidth": 2
          },
          "yaxis": {
           "automargin": true,
           "gridcolor": "white",
           "linecolor": "white",
           "ticks": "",
           "title": {
            "standoff": 15
           },
           "zerolinecolor": "white",
           "zerolinewidth": 2
          }
         }
        },
        "title": {
         "text": "North America, Europe, Japan and Other Sales of top 100 videogames"
        },
        "xaxis": {
         "gridcolor": "white",
         "ticklen": 5,
         "title": {
          "text": "Rank"
         },
         "zeroline": false,
         "zerolinewidth": 1
        },
        "yaxis": {
         "gridcolor": "white",
         "ticklen": 5,
         "title": {
          "text": "Sales (In millions)"
         },
         "zeroline": false,
         "zerolinewidth": 1
        }
       }
      },
      "text/html": [
       "<div>                            <div id=\"04763075-bc9d-4bf9-aeac-0e92bef68821\" class=\"plotly-graph-div\" style=\"height:525px; width:100%;\"></div>            <script type=\"text/javascript\">                require([\"plotly\"], function(Plotly) {                    window.PLOTLYENV=window.PLOTLYENV || {};                                    if (document.getElementById(\"04763075-bc9d-4bf9-aeac-0e92bef68821\")) {                    Plotly.newPlot(                        \"04763075-bc9d-4bf9-aeac-0e92bef68821\",                        [{\"marker\": {\"color\": \"rgba(28, 149, 249, 0.8)\", \"size\": 8}, \"mode\": \"markers\", \"name\": \"North America\", \"text\": [\"Wii Sports\", \"Super Mario Bros.\", \"Mario Kart Wii\", \"Wii Sports Resort\", \"Pokemon Red/Pokemon Blue\", \"Tetris\", \"New Super Mario Bros.\", \"Wii Play\", \"New Super Mario Bros. Wii\", \"Duck Hunt\", \"Nintendogs\", \"Mario Kart DS\", \"Pokemon Gold/Pokemon Silver\", \"Wii Fit\", \"Wii Fit Plus\", \"Kinect Adventures!\", \"Grand Theft Auto V\", \"Grand Theft Auto: San Andreas\", \"Super Mario World\", \"Brain Age: Train Your Brain in Minutes a Day\", \"Pokemon Diamond/Pokemon Pearl\", \"Super Mario Land\", \"Super Mario Bros. 3\", \"Grand Theft Auto V\", \"Grand Theft Auto: Vice City\", \"Pokemon Ruby/Pokemon Sapphire\", \"Pokemon Black/Pokemon White\", \"Brain Age 2: More Training in Minutes a Day\", \"Gran Turismo 3: A-Spec\", \"Call of Duty: Modern Warfare 3\", \"Pok\\u00e9mon Yellow: Special Pikachu Edition\", \"Call of Duty: Black Ops\", \"Pokemon X/Pokemon Y\", \"Call of Duty: Black Ops 3\", \"Call of Duty: Black Ops II\", \"Call of Duty: Black Ops II\", \"Call of Duty: Modern Warfare 2\", \"Call of Duty: Modern Warfare 3\", \"Grand Theft Auto III\", \"Super Smash Bros. Brawl\", \"Call of Duty: Black Ops\", \"Animal Crossing: Wild World\", \"Mario Kart 7\", \"Halo 3\", \"Grand Theft Auto V\", \"Pokemon HeartGold/Pokemon SoulSilver\", \"Super Mario 64\", \"Gran Turismo 4\", \"Super Mario Galaxy\", \"Pokemon Omega Ruby/Pokemon Alpha Sapphire\", \"Super Mario Land 2: 6 Golden Coins\", \"Grand Theft Auto IV\", \"Gran Turismo\", \"Super Mario 3D Land\", \"Gran Turismo 5\", \"Call of Duty: Modern Warfare 2\", \"Grand Theft Auto IV\", \"Super Mario All-Stars\", \"Pokemon FireRed/Pokemon LeafGreen\", \"Super Mario 64\", \"Just Dance 3\", \"Call of Duty: Ghosts\", \"Halo: Reach\", \"Mario Kart 64\", \"New Super Mario Bros. 2\", \"Halo 4\", \"Final Fantasy VII\", \"Call of Duty: Ghosts\", \"Just Dance 2\", \"Gran Turismo 2\", \"Call of Duty 4: Modern Warfare\", \"Donkey Kong Country\", \"Minecraft\", \"Animal Crossing: New Leaf\", \"Mario Party DS\", \"The Elder Scrolls V: Skyrim\", \"Super Mario Kart\", \"FIFA 16\", \"Wii Party\", \"Halo 2\", \"Mario Party 8\", \"Pokemon Black 2/Pokemon White 2\", \"FIFA Soccer 13\", \"The Sims 3\", \"GoldenEye 007\", \"Mario & Sonic at the Olympic Games\", \"Final Fantasy X\", \"Final Fantasy VIII\", \"Pok\\u00e9mon Platinum Version\", \"Pac-Man\", \"Grand Theft Auto: Liberty City Stories\", \"Super Mario Galaxy 2\", \"Star Wars Battlefront (2015)\", \"Call of Duty: Advanced Warfare\", \"The Legend of Zelda: Ocarina of Time\", \"Crash Bandicoot 2: Cortex Strikes Back\", \"Super Mario Bros. 2\", \"Super Smash Bros. for Wii U and 3DS\", \"Call of Duty: World at War\", \"Battlefield 3\"], \"type\": \"scatter\", \"x\": [1, 2, 3, 4, 5, 6, 7, 8, 9, 10, 11, 12, 13, 14, 15, 16, 17, 18, 19, 20, 21, 22, 23, 24, 25, 26, 27, 28, 29, 30, 31, 32, 33, 34, 35, 36, 37, 38, 39, 40, 41, 42, 43, 44, 45, 46, 47, 48, 49, 50, 51, 52, 53, 54, 55, 56, 57, 58, 59, 60, 61, 62, 63, 64, 65, 66, 67, 68, 69, 70, 71, 72, 73, 74, 75, 76, 77, 78, 79, 80, 81, 82, 83, 84, 85, 86, 87, 88, 89, 90, 91, 92, 93, 94, 95, 96, 97, 98, 99, 100], \"y\": [41.49, 29.08, 15.85, 15.75, 11.27, 23.2, 11.38, 14.03, 14.59, 26.93, 9.07, 9.81, 9.0, 8.94, 9.09, 14.97, 7.01, 9.43, 12.78, 4.75, 6.42, 10.83, 9.54, 9.63, 8.41, 6.06, 5.57, 3.44, 6.85, 9.03, 5.89, 9.67, 5.17, 5.77, 4.99, 8.25, 8.52, 5.54, 6.99, 6.75, 5.98, 2.55, 4.74, 7.97, 3.8, 4.4, 6.91, 3.01, 6.16, 4.23, 6.16, 6.76, 4.02, 4.89, 2.96, 4.99, 4.76, 5.99, 4.34, 5.08, 6.05, 6.72, 7.03, 5.55, 3.66, 6.63, 3.01, 4.09, 5.84, 3.88, 5.91, 4.36, 5.58, 2.01, 4.46, 5.03, 3.54, 1.11, 1.79, 6.82, 3.81, 2.91, 1.06, 0.98, 5.8, 2.58, 2.91, 2.28, 2.82, 7.28, 2.9, 3.66, 2.93, 2.8, 4.1, 3.78, 5.39, 3.24, 4.79, 4.46]}, {\"marker\": {\"color\": \"rgba(249, 94, 28, 0.8)\", \"size\": 8}, \"mode\": \"markers\", \"name\": \"Europe\", \"text\": [\"Wii Sports\", \"Super Mario Bros.\", \"Mario Kart Wii\", \"Wii Sports Resort\", \"Pokemon Red/Pokemon Blue\", \"Tetris\", \"New Super Mario Bros.\", \"Wii Play\", \"New Super Mario Bros. Wii\", \"Duck Hunt\", \"Nintendogs\", \"Mario Kart DS\", \"Pokemon Gold/Pokemon Silver\", \"Wii Fit\", \"Wii Fit Plus\", \"Kinect Adventures!\", \"Grand Theft Auto V\", \"Grand Theft Auto: San Andreas\", \"Super Mario World\", \"Brain Age: Train Your Brain in Minutes a Day\", \"Pokemon Diamond/Pokemon Pearl\", \"Super Mario Land\", \"Super Mario Bros. 3\", \"Grand Theft Auto V\", \"Grand Theft Auto: Vice City\", \"Pokemon Ruby/Pokemon Sapphire\", \"Pokemon Black/Pokemon White\", \"Brain Age 2: More Training in Minutes a Day\", \"Gran Turismo 3: A-Spec\", \"Call of Duty: Modern Warfare 3\", \"Pok\\u00e9mon Yellow: Special Pikachu Edition\", \"Call of Duty: Black Ops\", \"Pokemon X/Pokemon Y\", \"Call of Duty: Black Ops 3\", \"Call of Duty: Black Ops II\", \"Call of Duty: Black Ops II\", \"Call of Duty: Modern Warfare 2\", \"Call of Duty: Modern Warfare 3\", \"Grand Theft Auto III\", \"Super Smash Bros. Brawl\", \"Call of Duty: Black Ops\", \"Animal Crossing: Wild World\", \"Mario Kart 7\", \"Halo 3\", \"Grand Theft Auto V\", \"Pokemon HeartGold/Pokemon SoulSilver\", \"Super Mario 64\", \"Gran Turismo 4\", \"Super Mario Galaxy\", \"Pokemon Omega Ruby/Pokemon Alpha Sapphire\", \"Super Mario Land 2: 6 Golden Coins\", \"Grand Theft Auto IV\", \"Gran Turismo\", \"Super Mario 3D Land\", \"Gran Turismo 5\", \"Call of Duty: Modern Warfare 2\", \"Grand Theft Auto IV\", \"Super Mario All-Stars\", \"Pokemon FireRed/Pokemon LeafGreen\", \"Super Mario 64\", \"Just Dance 3\", \"Call of Duty: Ghosts\", \"Halo: Reach\", \"Mario Kart 64\", \"New Super Mario Bros. 2\", \"Halo 4\", \"Final Fantasy VII\", \"Call of Duty: Ghosts\", \"Just Dance 2\", \"Gran Turismo 2\", \"Call of Duty 4: Modern Warfare\", \"Donkey Kong Country\", \"Minecraft\", \"Animal Crossing: New Leaf\", \"Mario Party DS\", \"The Elder Scrolls V: Skyrim\", \"Super Mario Kart\", \"FIFA 16\", \"Wii Party\", \"Halo 2\", \"Mario Party 8\", \"Pokemon Black 2/Pokemon White 2\", \"FIFA Soccer 13\", \"The Sims 3\", \"GoldenEye 007\", \"Mario & Sonic at the Olympic Games\", \"Final Fantasy X\", \"Final Fantasy VIII\", \"Pok\\u00e9mon Platinum Version\", \"Pac-Man\", \"Grand Theft Auto: Liberty City Stories\", \"Super Mario Galaxy 2\", \"Star Wars Battlefront (2015)\", \"Call of Duty: Advanced Warfare\", \"The Legend of Zelda: Ocarina of Time\", \"Crash Bandicoot 2: Cortex Strikes Back\", \"Super Mario Bros. 2\", \"Super Smash Bros. for Wii U and 3DS\", \"Call of Duty: World at War\", \"Battlefield 3\"], \"type\": \"scatter\", \"x\": [1, 2, 3, 4, 5, 6, 7, 8, 9, 10, 11, 12, 13, 14, 15, 16, 17, 18, 19, 20, 21, 22, 23, 24, 25, 26, 27, 28, 29, 30, 31, 32, 33, 34, 35, 36, 37, 38, 39, 40, 41, 42, 43, 44, 45, 46, 47, 48, 49, 50, 51, 52, 53, 54, 55, 56, 57, 58, 59, 60, 61, 62, 63, 64, 65, 66, 67, 68, 69, 70, 71, 72, 73, 74, 75, 76, 77, 78, 79, 80, 81, 82, 83, 84, 85, 86, 87, 88, 89, 90, 91, 92, 93, 94, 95, 96, 97, 98, 99, 100], \"y\": [29.02, 3.58, 12.88, 11.01, 8.89, 2.26, 9.23, 9.2, 7.06, 0.63, 11.0, 7.57, 6.18, 8.03, 8.59, 4.94, 9.27, 0.4, 3.75, 9.26, 4.52, 2.71, 3.44, 5.31, 5.49, 3.9, 3.28, 5.36, 5.09, 4.28, 5.04, 3.73, 4.05, 5.81, 5.88, 4.3, 3.63, 5.82, 4.51, 2.61, 4.44, 3.52, 3.91, 2.83, 5.81, 2.77, 2.85, 0.01, 3.4, 3.37, 2.04, 3.1, 3.87, 2.99, 4.88, 3.69, 3.76, 2.15, 2.65, 3.11, 3.15, 2.63, 1.98, 1.94, 3.07, 2.36, 2.47, 3.73, 2.89, 3.42, 2.38, 1.71, 2.83, 2.32, 1.88, 2.86, 1.24, 6.06, 3.53, 1.53, 2.3, 1.86, 5.05, 6.42, 2.01, 3.9, 2.07, 1.72, 1.78, 0.45, 2.83, 2.42, 3.29, 3.3, 1.89, 2.17, 1.18, 1.35, 1.9, 2.13]}, {\"marker\": {\"color\": \"rgba(150, 26, 80, 0.8)\", \"size\": 8}, \"mode\": \"markers\", \"name\": \"Japan\", \"text\": [\"Wii Sports\", \"Super Mario Bros.\", \"Mario Kart Wii\", \"Wii Sports Resort\", \"Pokemon Red/Pokemon Blue\", \"Tetris\", \"New Super Mario Bros.\", \"Wii Play\", \"New Super Mario Bros. Wii\", \"Duck Hunt\", \"Nintendogs\", \"Mario Kart DS\", \"Pokemon Gold/Pokemon Silver\", \"Wii Fit\", \"Wii Fit Plus\", \"Kinect Adventures!\", \"Grand Theft Auto V\", \"Grand Theft Auto: San Andreas\", \"Super Mario World\", \"Brain Age: Train Your Brain in Minutes a Day\", \"Pokemon Diamond/Pokemon Pearl\", \"Super Mario Land\", \"Super Mario Bros. 3\", \"Grand Theft Auto V\", \"Grand Theft Auto: Vice City\", \"Pokemon Ruby/Pokemon Sapphire\", \"Pokemon Black/Pokemon White\", \"Brain Age 2: More Training in Minutes a Day\", \"Gran Turismo 3: A-Spec\", \"Call of Duty: Modern Warfare 3\", \"Pok\\u00e9mon Yellow: Special Pikachu Edition\", \"Call of Duty: Black Ops\", \"Pokemon X/Pokemon Y\", \"Call of Duty: Black Ops 3\", \"Call of Duty: Black Ops II\", \"Call of Duty: Black Ops II\", \"Call of Duty: Modern Warfare 2\", \"Call of Duty: Modern Warfare 3\", \"Grand Theft Auto III\", \"Super Smash Bros. Brawl\", \"Call of Duty: Black Ops\", \"Animal Crossing: Wild World\", \"Mario Kart 7\", \"Halo 3\", \"Grand Theft Auto V\", \"Pokemon HeartGold/Pokemon SoulSilver\", \"Super Mario 64\", \"Gran Turismo 4\", \"Super Mario Galaxy\", \"Pokemon Omega Ruby/Pokemon Alpha Sapphire\", \"Super Mario Land 2: 6 Golden Coins\", \"Grand Theft Auto IV\", \"Gran Turismo\", \"Super Mario 3D Land\", \"Gran Turismo 5\", \"Call of Duty: Modern Warfare 2\", \"Grand Theft Auto IV\", \"Super Mario All-Stars\", \"Pokemon FireRed/Pokemon LeafGreen\", \"Super Mario 64\", \"Just Dance 3\", \"Call of Duty: Ghosts\", \"Halo: Reach\", \"Mario Kart 64\", \"New Super Mario Bros. 2\", \"Halo 4\", \"Final Fantasy VII\", \"Call of Duty: Ghosts\", \"Just Dance 2\", \"Gran Turismo 2\", \"Call of Duty 4: Modern Warfare\", \"Donkey Kong Country\", \"Minecraft\", \"Animal Crossing: New Leaf\", \"Mario Party DS\", \"The Elder Scrolls V: Skyrim\", \"Super Mario Kart\", \"FIFA 16\", \"Wii Party\", \"Halo 2\", \"Mario Party 8\", \"Pokemon Black 2/Pokemon White 2\", \"FIFA Soccer 13\", \"The Sims 3\", \"GoldenEye 007\", \"Mario & Sonic at the Olympic Games\", \"Final Fantasy X\", \"Final Fantasy VIII\", \"Pok\\u00e9mon Platinum Version\", \"Pac-Man\", \"Grand Theft Auto: Liberty City Stories\", \"Super Mario Galaxy 2\", \"Star Wars Battlefront (2015)\", \"Call of Duty: Advanced Warfare\", \"The Legend of Zelda: Ocarina of Time\", \"Crash Bandicoot 2: Cortex Strikes Back\", \"Super Mario Bros. 2\", \"Super Smash Bros. for Wii U and 3DS\", \"Call of Duty: World at War\", \"Battlefield 3\"], \"type\": \"scatter\", \"x\": [1, 2, 3, 4, 5, 6, 7, 8, 9, 10, 11, 12, 13, 14, 15, 16, 17, 18, 19, 20, 21, 22, 23, 24, 25, 26, 27, 28, 29, 30, 31, 32, 33, 34, 35, 36, 37, 38, 39, 40, 41, 42, 43, 44, 45, 46, 47, 48, 49, 50, 51, 52, 53, 54, 55, 56, 57, 58, 59, 60, 61, 62, 63, 64, 65, 66, 67, 68, 69, 70, 71, 72, 73, 74, 75, 76, 77, 78, 79, 80, 81, 82, 83, 84, 85, 86, 87, 88, 89, 90, 91, 92, 93, 94, 95, 96, 97, 98, 99, 100], \"y\": [3.77, 6.81, 3.79, 3.28, 10.22, 4.22, 6.5, 2.93, 4.7, 0.28, 1.93, 4.13, 7.2, 3.6, 2.53, 0.24, 0.97, 0.41, 3.54, 4.16, 6.04, 4.18, 3.84, 0.06, 0.47, 5.38, 5.65, 5.32, 1.87, 0.13, 3.12, 0.11, 4.34, 0.35, 0.65, 0.07, 0.08, 0.49, 0.3, 2.66, 0.48, 5.33, 2.67, 0.13, 0.36, 3.96, 1.91, 1.1, 1.2, 3.08, 2.69, 0.14, 2.54, 2.13, 0.81, 0.38, 0.44, 2.12, 3.15, 1.25, 0.0, 0.04, 0.08, 2.23, 2.47, 0.04, 3.28, 0.38, 0.01, 1.69, 0.13, 3.0, 0.02, 4.36, 1.98, 0.1, 3.81, 0.06, 2.49, 0.05, 1.58, 3.14, 0.13, 0.0, 0.13, 0.66, 2.73, 3.63, 2.69, 0.0, 0.24, 0.98, 0.22, 0.14, 1.45, 1.31, 0.7, 2.42, 0.0, 0.06]}, {\"marker\": {\"color\": \"lime\", \"size\": 8}, \"mode\": \"markers\", \"name\": \"Other\", \"text\": [\"Wii Sports\", \"Super Mario Bros.\", \"Mario Kart Wii\", \"Wii Sports Resort\", \"Pokemon Red/Pokemon Blue\", \"Tetris\", \"New Super Mario Bros.\", \"Wii Play\", \"New Super Mario Bros. Wii\", \"Duck Hunt\", \"Nintendogs\", \"Mario Kart DS\", \"Pokemon Gold/Pokemon Silver\", \"Wii Fit\", \"Wii Fit Plus\", \"Kinect Adventures!\", \"Grand Theft Auto V\", \"Grand Theft Auto: San Andreas\", \"Super Mario World\", \"Brain Age: Train Your Brain in Minutes a Day\", \"Pokemon Diamond/Pokemon Pearl\", \"Super Mario Land\", \"Super Mario Bros. 3\", \"Grand Theft Auto V\", \"Grand Theft Auto: Vice City\", \"Pokemon Ruby/Pokemon Sapphire\", \"Pokemon Black/Pokemon White\", \"Brain Age 2: More Training in Minutes a Day\", \"Gran Turismo 3: A-Spec\", \"Call of Duty: Modern Warfare 3\", \"Pok\\u00e9mon Yellow: Special Pikachu Edition\", \"Call of Duty: Black Ops\", \"Pokemon X/Pokemon Y\", \"Call of Duty: Black Ops 3\", \"Call of Duty: Black Ops II\", \"Call of Duty: Black Ops II\", \"Call of Duty: Modern Warfare 2\", \"Call of Duty: Modern Warfare 3\", \"Grand Theft Auto III\", \"Super Smash Bros. Brawl\", \"Call of Duty: Black Ops\", \"Animal Crossing: Wild World\", \"Mario Kart 7\", \"Halo 3\", \"Grand Theft Auto V\", \"Pokemon HeartGold/Pokemon SoulSilver\", \"Super Mario 64\", \"Gran Turismo 4\", \"Super Mario Galaxy\", \"Pokemon Omega Ruby/Pokemon Alpha Sapphire\", \"Super Mario Land 2: 6 Golden Coins\", \"Grand Theft Auto IV\", \"Gran Turismo\", \"Super Mario 3D Land\", \"Gran Turismo 5\", \"Call of Duty: Modern Warfare 2\", \"Grand Theft Auto IV\", \"Super Mario All-Stars\", \"Pokemon FireRed/Pokemon LeafGreen\", \"Super Mario 64\", \"Just Dance 3\", \"Call of Duty: Ghosts\", \"Halo: Reach\", \"Mario Kart 64\", \"New Super Mario Bros. 2\", \"Halo 4\", \"Final Fantasy VII\", \"Call of Duty: Ghosts\", \"Just Dance 2\", \"Gran Turismo 2\", \"Call of Duty 4: Modern Warfare\", \"Donkey Kong Country\", \"Minecraft\", \"Animal Crossing: New Leaf\", \"Mario Party DS\", \"The Elder Scrolls V: Skyrim\", \"Super Mario Kart\", \"FIFA 16\", \"Wii Party\", \"Halo 2\", \"Mario Party 8\", \"Pokemon Black 2/Pokemon White 2\", \"FIFA Soccer 13\", \"The Sims 3\", \"GoldenEye 007\", \"Mario & Sonic at the Olympic Games\", \"Final Fantasy X\", \"Final Fantasy VIII\", \"Pok\\u00e9mon Platinum Version\", \"Pac-Man\", \"Grand Theft Auto: Liberty City Stories\", \"Super Mario Galaxy 2\", \"Star Wars Battlefront (2015)\", \"Call of Duty: Advanced Warfare\", \"The Legend of Zelda: Ocarina of Time\", \"Crash Bandicoot 2: Cortex Strikes Back\", \"Super Mario Bros. 2\", \"Super Smash Bros. for Wii U and 3DS\", \"Call of Duty: World at War\", \"Battlefield 3\"], \"type\": \"scatter\", \"x\": [1, 2, 3, 4, 5, 6, 7, 8, 9, 10, 11, 12, 13, 14, 15, 16, 17, 18, 19, 20, 21, 22, 23, 24, 25, 26, 27, 28, 29, 30, 31, 32, 33, 34, 35, 36, 37, 38, 39, 40, 41, 42, 43, 44, 45, 46, 47, 48, 49, 50, 51, 52, 53, 54, 55, 56, 57, 58, 59, 60, 61, 62, 63, 64, 65, 66, 67, 68, 69, 70, 71, 72, 73, 74, 75, 76, 77, 78, 79, 80, 81, 82, 83, 84, 85, 86, 87, 88, 89, 90, 91, 92, 93, 94, 95, 96, 97, 98, 99, 100], \"y\": [8.46, 0.77, 3.31, 2.96, 1.0, 0.58, 2.9, 2.85, 2.26, 0.47, 2.75, 1.92, 0.71, 2.15, 1.79, 1.67, 4.14, 10.57, 0.55, 2.05, 1.37, 0.42, 0.46, 1.38, 1.78, 0.5, 0.82, 1.18, 1.16, 1.32, 0.59, 1.13, 0.79, 2.31, 2.52, 1.12, 1.29, 1.62, 1.3, 1.02, 1.83, 0.88, 0.89, 1.21, 2.02, 0.77, 0.23, 7.53, 0.76, 0.65, 0.29, 1.03, 0.52, 0.78, 2.12, 1.63, 1.62, 0.29, 0.35, 0.98, 1.07, 0.82, 0.78, 0.15, 0.63, 0.73, 0.96, 1.38, 0.78, 0.5, 0.9, 0.23, 0.77, 0.41, 0.7, 0.85, 0.18, 1.26, 0.68, 0.08, 0.73, 0.43, 2.01, 0.71, 0.15, 0.91, 0.33, 0.23, 0.55, 0.08, 1.75, 0.64, 1.23, 1.37, 0.16, 0.31, 0.19, 0.43, 0.69, 0.69]}],                        {\"paper_bgcolor\": \"rgb(243, 243, 243)\", \"plot_bgcolor\": \"rgb(243, 243, 243)\", \"template\": {\"data\": {\"bar\": [{\"error_x\": {\"color\": \"#2a3f5f\"}, \"error_y\": {\"color\": \"#2a3f5f\"}, \"marker\": {\"line\": {\"color\": \"#E5ECF6\", \"width\": 0.5}}, \"type\": \"bar\"}], \"barpolar\": [{\"marker\": {\"line\": {\"color\": \"#E5ECF6\", \"width\": 0.5}}, \"type\": \"barpolar\"}], \"carpet\": [{\"aaxis\": {\"endlinecolor\": \"#2a3f5f\", \"gridcolor\": \"white\", \"linecolor\": \"white\", \"minorgridcolor\": \"white\", \"startlinecolor\": \"#2a3f5f\"}, \"baxis\": {\"endlinecolor\": \"#2a3f5f\", \"gridcolor\": \"white\", \"linecolor\": \"white\", \"minorgridcolor\": \"white\", \"startlinecolor\": \"#2a3f5f\"}, \"type\": \"carpet\"}], \"choropleth\": [{\"colorbar\": {\"outlinewidth\": 0, \"ticks\": \"\"}, \"type\": \"choropleth\"}], \"contour\": [{\"colorbar\": {\"outlinewidth\": 0, \"ticks\": \"\"}, \"colorscale\": [[0.0, \"#0d0887\"], [0.1111111111111111, \"#46039f\"], [0.2222222222222222, \"#7201a8\"], [0.3333333333333333, \"#9c179e\"], [0.4444444444444444, \"#bd3786\"], [0.5555555555555556, \"#d8576b\"], [0.6666666666666666, \"#ed7953\"], [0.7777777777777778, \"#fb9f3a\"], [0.8888888888888888, \"#fdca26\"], [1.0, \"#f0f921\"]], \"type\": \"contour\"}], \"contourcarpet\": [{\"colorbar\": {\"outlinewidth\": 0, \"ticks\": \"\"}, \"type\": \"contourcarpet\"}], \"heatmap\": [{\"colorbar\": {\"outlinewidth\": 0, \"ticks\": \"\"}, \"colorscale\": [[0.0, \"#0d0887\"], [0.1111111111111111, \"#46039f\"], [0.2222222222222222, \"#7201a8\"], [0.3333333333333333, \"#9c179e\"], [0.4444444444444444, \"#bd3786\"], [0.5555555555555556, \"#d8576b\"], [0.6666666666666666, \"#ed7953\"], [0.7777777777777778, \"#fb9f3a\"], [0.8888888888888888, \"#fdca26\"], [1.0, \"#f0f921\"]], \"type\": \"heatmap\"}], \"heatmapgl\": [{\"colorbar\": {\"outlinewidth\": 0, \"ticks\": \"\"}, \"colorscale\": [[0.0, \"#0d0887\"], [0.1111111111111111, \"#46039f\"], [0.2222222222222222, \"#7201a8\"], [0.3333333333333333, \"#9c179e\"], [0.4444444444444444, \"#bd3786\"], [0.5555555555555556, \"#d8576b\"], [0.6666666666666666, \"#ed7953\"], [0.7777777777777778, \"#fb9f3a\"], [0.8888888888888888, \"#fdca26\"], [1.0, \"#f0f921\"]], \"type\": \"heatmapgl\"}], \"histogram\": [{\"marker\": {\"colorbar\": {\"outlinewidth\": 0, \"ticks\": \"\"}}, \"type\": \"histogram\"}], \"histogram2d\": [{\"colorbar\": {\"outlinewidth\": 0, \"ticks\": \"\"}, \"colorscale\": [[0.0, \"#0d0887\"], [0.1111111111111111, \"#46039f\"], [0.2222222222222222, \"#7201a8\"], [0.3333333333333333, \"#9c179e\"], [0.4444444444444444, \"#bd3786\"], [0.5555555555555556, \"#d8576b\"], [0.6666666666666666, \"#ed7953\"], [0.7777777777777778, \"#fb9f3a\"], [0.8888888888888888, \"#fdca26\"], [1.0, \"#f0f921\"]], \"type\": \"histogram2d\"}], \"histogram2dcontour\": [{\"colorbar\": {\"outlinewidth\": 0, \"ticks\": \"\"}, \"colorscale\": [[0.0, \"#0d0887\"], [0.1111111111111111, \"#46039f\"], [0.2222222222222222, \"#7201a8\"], [0.3333333333333333, \"#9c179e\"], [0.4444444444444444, \"#bd3786\"], [0.5555555555555556, \"#d8576b\"], [0.6666666666666666, \"#ed7953\"], [0.7777777777777778, \"#fb9f3a\"], [0.8888888888888888, \"#fdca26\"], [1.0, \"#f0f921\"]], \"type\": \"histogram2dcontour\"}], \"mesh3d\": [{\"colorbar\": {\"outlinewidth\": 0, \"ticks\": \"\"}, \"type\": \"mesh3d\"}], \"parcoords\": [{\"line\": {\"colorbar\": {\"outlinewidth\": 0, \"ticks\": \"\"}}, \"type\": \"parcoords\"}], \"pie\": [{\"automargin\": true, \"type\": \"pie\"}], \"scatter\": [{\"marker\": {\"colorbar\": {\"outlinewidth\": 0, \"ticks\": \"\"}}, \"type\": \"scatter\"}], \"scatter3d\": [{\"line\": {\"colorbar\": {\"outlinewidth\": 0, \"ticks\": \"\"}}, \"marker\": {\"colorbar\": {\"outlinewidth\": 0, \"ticks\": \"\"}}, \"type\": \"scatter3d\"}], \"scattercarpet\": [{\"marker\": {\"colorbar\": {\"outlinewidth\": 0, \"ticks\": \"\"}}, \"type\": \"scattercarpet\"}], \"scattergeo\": [{\"marker\": {\"colorbar\": {\"outlinewidth\": 0, \"ticks\": \"\"}}, \"type\": \"scattergeo\"}], \"scattergl\": [{\"marker\": {\"colorbar\": {\"outlinewidth\": 0, \"ticks\": \"\"}}, \"type\": \"scattergl\"}], \"scattermapbox\": [{\"marker\": {\"colorbar\": {\"outlinewidth\": 0, \"ticks\": \"\"}}, \"type\": \"scattermapbox\"}], \"scatterpolar\": [{\"marker\": {\"colorbar\": {\"outlinewidth\": 0, \"ticks\": \"\"}}, \"type\": \"scatterpolar\"}], \"scatterpolargl\": [{\"marker\": {\"colorbar\": {\"outlinewidth\": 0, \"ticks\": \"\"}}, \"type\": \"scatterpolargl\"}], \"scatterternary\": [{\"marker\": {\"colorbar\": {\"outlinewidth\": 0, \"ticks\": \"\"}}, \"type\": \"scatterternary\"}], \"surface\": [{\"colorbar\": {\"outlinewidth\": 0, \"ticks\": \"\"}, \"colorscale\": [[0.0, \"#0d0887\"], [0.1111111111111111, \"#46039f\"], [0.2222222222222222, \"#7201a8\"], [0.3333333333333333, \"#9c179e\"], [0.4444444444444444, \"#bd3786\"], [0.5555555555555556, \"#d8576b\"], [0.6666666666666666, \"#ed7953\"], [0.7777777777777778, \"#fb9f3a\"], [0.8888888888888888, \"#fdca26\"], [1.0, \"#f0f921\"]], \"type\": \"surface\"}], \"table\": [{\"cells\": {\"fill\": {\"color\": \"#EBF0F8\"}, \"line\": {\"color\": \"white\"}}, \"header\": {\"fill\": {\"color\": \"#C8D4E3\"}, \"line\": {\"color\": \"white\"}}, \"type\": \"table\"}]}, \"layout\": {\"annotationdefaults\": {\"arrowcolor\": \"#2a3f5f\", \"arrowhead\": 0, \"arrowwidth\": 1}, \"coloraxis\": {\"colorbar\": {\"outlinewidth\": 0, \"ticks\": \"\"}}, \"colorscale\": {\"diverging\": [[0, \"#8e0152\"], [0.1, \"#c51b7d\"], [0.2, \"#de77ae\"], [0.3, \"#f1b6da\"], [0.4, \"#fde0ef\"], [0.5, \"#f7f7f7\"], [0.6, \"#e6f5d0\"], [0.7, \"#b8e186\"], [0.8, \"#7fbc41\"], [0.9, \"#4d9221\"], [1, \"#276419\"]], \"sequential\": [[0.0, \"#0d0887\"], [0.1111111111111111, \"#46039f\"], [0.2222222222222222, \"#7201a8\"], [0.3333333333333333, \"#9c179e\"], [0.4444444444444444, \"#bd3786\"], [0.5555555555555556, \"#d8576b\"], [0.6666666666666666, \"#ed7953\"], [0.7777777777777778, \"#fb9f3a\"], [0.8888888888888888, \"#fdca26\"], [1.0, \"#f0f921\"]], \"sequentialminus\": [[0.0, \"#0d0887\"], [0.1111111111111111, \"#46039f\"], [0.2222222222222222, \"#7201a8\"], [0.3333333333333333, \"#9c179e\"], [0.4444444444444444, \"#bd3786\"], [0.5555555555555556, \"#d8576b\"], [0.6666666666666666, \"#ed7953\"], [0.7777777777777778, \"#fb9f3a\"], [0.8888888888888888, \"#fdca26\"], [1.0, \"#f0f921\"]]}, \"colorway\": [\"#636efa\", \"#EF553B\", \"#00cc96\", \"#ab63fa\", \"#FFA15A\", \"#19d3f3\", \"#FF6692\", \"#B6E880\", \"#FF97FF\", \"#FECB52\"], \"font\": {\"color\": \"#2a3f5f\"}, \"geo\": {\"bgcolor\": \"white\", \"lakecolor\": \"white\", \"landcolor\": \"#E5ECF6\", \"showlakes\": true, \"showland\": true, \"subunitcolor\": \"white\"}, \"hoverlabel\": {\"align\": \"left\"}, \"hovermode\": \"closest\", \"mapbox\": {\"style\": \"light\"}, \"paper_bgcolor\": \"white\", \"plot_bgcolor\": \"#E5ECF6\", \"polar\": {\"angularaxis\": {\"gridcolor\": \"white\", \"linecolor\": \"white\", \"ticks\": \"\"}, \"bgcolor\": \"#E5ECF6\", \"radialaxis\": {\"gridcolor\": \"white\", \"linecolor\": \"white\", \"ticks\": \"\"}}, \"scene\": {\"xaxis\": {\"backgroundcolor\": \"#E5ECF6\", \"gridcolor\": \"white\", \"gridwidth\": 2, \"linecolor\": \"white\", \"showbackground\": true, \"ticks\": \"\", \"zerolinecolor\": \"white\"}, \"yaxis\": {\"backgroundcolor\": \"#E5ECF6\", \"gridcolor\": \"white\", \"gridwidth\": 2, \"linecolor\": \"white\", \"showbackground\": true, \"ticks\": \"\", \"zerolinecolor\": \"white\"}, \"zaxis\": {\"backgroundcolor\": \"#E5ECF6\", \"gridcolor\": \"white\", \"gridwidth\": 2, \"linecolor\": \"white\", \"showbackground\": true, \"ticks\": \"\", \"zerolinecolor\": \"white\"}}, \"shapedefaults\": {\"line\": {\"color\": \"#2a3f5f\"}}, \"ternary\": {\"aaxis\": {\"gridcolor\": \"white\", \"linecolor\": \"white\", \"ticks\": \"\"}, \"baxis\": {\"gridcolor\": \"white\", \"linecolor\": \"white\", \"ticks\": \"\"}, \"bgcolor\": \"#E5ECF6\", \"caxis\": {\"gridcolor\": \"white\", \"linecolor\": \"white\", \"ticks\": \"\"}}, \"title\": {\"x\": 0.05}, \"xaxis\": {\"automargin\": true, \"gridcolor\": \"white\", \"linecolor\": \"white\", \"ticks\": \"\", \"title\": {\"standoff\": 15}, \"zerolinecolor\": \"white\", \"zerolinewidth\": 2}, \"yaxis\": {\"automargin\": true, \"gridcolor\": \"white\", \"linecolor\": \"white\", \"ticks\": \"\", \"title\": {\"standoff\": 15}, \"zerolinecolor\": \"white\", \"zerolinewidth\": 2}}}, \"title\": {\"text\": \"North America, Europe, Japan and Other Sales of top 100 videogames\"}, \"xaxis\": {\"gridcolor\": \"white\", \"ticklen\": 5, \"title\": {\"text\": \"Rank\"}, \"zeroline\": false, \"zerolinewidth\": 1}, \"yaxis\": {\"gridcolor\": \"white\", \"ticklen\": 5, \"title\": {\"text\": \"Sales (In millions)\"}, \"zeroline\": false, \"zerolinewidth\": 1}},                        {\"responsive\": true}                    ).then(function(){\n",
       "                            \n",
       "var gd = document.getElementById('04763075-bc9d-4bf9-aeac-0e92bef68821');\n",
       "var x = new MutationObserver(function (mutations, observer) {{\n",
       "        var display = window.getComputedStyle(gd).display;\n",
       "        if (!display || display === 'none') {{\n",
       "            console.log([gd, 'removed!']);\n",
       "            Plotly.purge(gd);\n",
       "            observer.disconnect();\n",
       "        }}\n",
       "}});\n",
       "\n",
       "// Listen for the removal of the full notebook cells\n",
       "var notebookContainer = gd.closest('#notebook-container');\n",
       "if (notebookContainer) {{\n",
       "    x.observe(notebookContainer, {childList: true});\n",
       "}}\n",
       "\n",
       "// Listen for the clearing of the current output cell\n",
       "var outputEl = gd.closest('.output');\n",
       "if (outputEl) {{\n",
       "    x.observe(outputEl, {childList: true});\n",
       "}}\n",
       "\n",
       "                        })                };                });            </script>        </div>"
      ]
     },
     "metadata": {},
     "output_type": "display_data"
    }
   ],
   "source": [
    "trace1 = go.Scatter(x = df.Rank,\n",
    "                    y = df.NA_Sales,\n",
    "                    mode = \"markers\",\n",
    "                    name = \"North America\",\n",
    "                    marker = dict(color = 'rgba(28, 149, 249, 0.8)',size=8),\n",
    "                    text = df.Name)\n",
    "trace2 = go.Scatter(x = df.Rank,\n",
    "                    y = df.EU_Sales,\n",
    "                    mode = \"markers\",\n",
    "                    name = \"Europe\",\n",
    "                    marker = dict(color = 'rgba(249, 94, 28, 0.8)',size=8),\n",
    "                    text = df.Name)\n",
    "trace3 = go.Scatter(x = df.Rank,\n",
    "                    y = df.JP_Sales,\n",
    "                    mode = \"markers\",\n",
    "                    name = \"Japan\",\n",
    "                    marker = dict(color = 'rgba(150, 26, 80, 0.8)',size=8),\n",
    "                    text = df.Name)\n",
    "trace4 = go.Scatter(x = df.Rank,\n",
    "                    y = df.Other_Sales,\n",
    "                    mode = \"markers\",\n",
    "                    name = \"Other\",\n",
    "                    marker = dict(color = 'lime',size=8),\n",
    "                    text = df.Name)\n",
    "data = [trace1, trace2, trace3, trace4]\n",
    "layout = dict(title = 'North America, Europe, Japan and Other Sales of top 100 videogames',\n",
    "              xaxis = dict(title='Rank', ticklen=5, zeroline=False, zerolinewidth=1, gridcolor=\"white\"),\n",
    "              yaxis = dict(title='Sales (In millions)', ticklen=5, zeroline=False, zerolinewidth=1, gridcolor=\"white\"),\n",
    "              paper_bgcolor = 'rgb(243, 243, 243)',\n",
    "              plot_bgcolor = 'rgb(243, 243, 243)')\n",
    "iplot(dict(data = data, layout = layout))"
   ]
  },
  {
   "cell_type": "markdown",
   "metadata": {
    "slideshow": {
     "slide_type": "slide"
    }
   },
   "source": [
    "### Another bar chart\n",
    "\n",
    "#### (Now with the proportion of genres in each region)"
   ]
  },
  {
   "cell_type": "code",
   "execution_count": 28,
   "metadata": {
    "slideshow": {
     "slide_type": "subslide"
    }
   },
   "outputs": [
    {
     "data": {
      "application/vnd.plotly.v1+json": {
       "config": {
        "linkText": "Export to plot.ly",
        "plotlyServerURL": "https://plot.ly",
        "showLink": false
       },
       "data": [
        {
         "marker": {
          "color": "rgb(158,202,225)",
          "line": {
           "color": "rgb(8,48,107)",
           "width": 3
          }
         },
         "name": "North America",
         "opacity": 0.75,
         "type": "bar",
         "x": [
          "Action",
          "Adventure",
          "Fighting",
          "Misc",
          "Platform",
          "Puzzle",
          "Racing",
          "Role-Playing",
          "Shooter",
          "Simulation",
          "Sports",
          "Strategy"
         ],
         "xaxis": "x2",
         "y": [
          50.365629657013166,
          44.45474855625316,
          49.879788787776775,
          50.69548337640204,
          53.81164837815031,
          50.53276178811996,
          49.16347207009858,
          35.40089292503567,
          56.43526468135186,
          46.751123825092364,
          51.56609664749744,
          39.279578513343274
         ],
         "yaxis": "y2"
        },
        {
         "marker": {
          "color": "red",
          "line": {
           "color": "rgb(8,48,107)",
           "width": 3
          }
         },
         "name": "Europe",
         "opacity": 0.75,
         "type": "bar",
         "x": [
          "Action",
          "Adventure",
          "Fighting",
          "Misc",
          "Platform",
          "Puzzle",
          "Racing",
          "Role-Playing",
          "Shooter",
          "Simulation",
          "Sports",
          "Strategy"
         ],
         "xaxis": "x2",
         "y": [
          29.957372087381163,
          26.86843991063509,
          22.50758341759361,
          26.69296109002361,
          24.208368503557313,
          20.730761379873393,
          32.482201533406574,
          20.28851689713996,
          29.98282882794467,
          28.93594196975909,
          28.06970896355761,
          25.781697400068687
         ],
         "yaxis": "y2"
        },
        {
         "marker": {
          "color": "orange",
          "line": {
           "color": "rgb(8,48,107)",
           "width": 3
          }
         },
         "name": "Japan",
         "opacity": 0.75,
         "type": "bar",
         "x": [
          "Action",
          "Adventure",
          "Fighting",
          "Misc",
          "Platform",
          "Puzzle",
          "Racing",
          "Role-Playing",
          "Shooter",
          "Simulation",
          "Sports",
          "Strategy"
         ],
         "xaxis": "x2",
         "y": [
          8.903919688550731,
          21.54027736795515,
          19.483204134366993,
          13.223457263319366,
          15.755456409019718,
          23.39661155337818,
          7.760131434830278,
          37.87218788359386,
          3.696217436098734,
          16.193297915815386,
          10.224639718003962,
          28.295727866223746
         ],
         "yaxis": "y2"
        },
        {
         "marker": {
          "color": "purple",
          "line": {
           "color": "rgb(8,48,107)",
           "width": 3
          }
         },
         "name": "Other",
         "opacity": 0.75,
         "type": "bar",
         "x": [
          "Action",
          "Adventure",
          "Fighting",
          "Misc",
          "Platform",
          "Puzzle",
          "Racing",
          "Role-Playing",
          "Shooter",
          "Simulation",
          "Sports",
          "Strategy"
         ],
         "xaxis": "x2",
         "y": [
          10.717627623811568,
          7.039581840408006,
          8.138411414447825,
          9.308967717207423,
          6.1835282768599935,
          5.123494590732766,
          10.553121577218178,
          6.427539459248109,
          9.838590982681795,
          8.045565999182791,
          10.107647778292597,
          6.482648035734684
         ],
         "yaxis": "y2"
        },
        {
         "cells": {
          "align": [
           "left",
           "center"
          ],
          "fill": {
           "color": [
            "silver",
            "rgb(158,202,225)",
            "darksalmon",
            "gold",
            "mediumorchid",
            "yellowgreen"
           ]
          },
          "font": {
           "color": "#506784",
           "size": 12
          },
          "height": 30,
          "line": {
           "color": "rgb(8,48,107)",
           "width": 3
          },
          "values": [
           [
            "Action",
            "Adventure",
            "Fighting",
            "Misc",
            "Platform",
            "Puzzle",
            "Racing",
            "Role-Playing",
            "Shooter",
            "Simulation",
            "Sports",
            "Strategy"
           ],
           [
            872,
            105,
            222,
            410,
            446,
            124,
            359,
            326,
            575,
            183,
            679,
            69
           ],
           [
            519,
            64,
            100,
            216,
            201,
            51,
            237,
            187,
            306,
            113,
            369,
            45
           ],
           [
            154,
            51,
            87,
            107,
            131,
            57,
            57,
            349,
            38,
            63,
            135,
            49
           ],
           [
            186,
            17,
            36,
            75,
            51,
            13,
            77,
            59,
            100,
            32,
            133,
            11
           ],
           [
            1731,
            237,
            445,
            809,
            829,
            245,
            730,
            921,
            1019,
            392,
            1316,
            175
           ]
          ]
         },
         "domain": {
          "x": [
           0.6,
           1
          ],
          "y": [
           0,
           0.95
          ]
         },
         "header": {
          "align": [
           "left",
           "center"
          ],
          "fill": {
           "color": [
            "darkslateblue",
            "blue",
            "red",
            "orange",
            "purple",
            "green"
           ]
          },
          "font": {
           "color": "white",
           "size": 12
          },
          "height": 30,
          "line": {
           "color": "rgb(8,48,107)",
           "width": 3
          },
          "values": [
           "Genre",
           "North America",
           "Europe",
           "Japan",
           "Other",
           "Total"
          ]
         },
         "type": "table"
        }
       ],
       "layout": {
        "annotations": [
         {
          "bgcolor": "lightyellow",
          "borderwidth": 5,
          "font": {
           "family": "Courier New, monospace",
           "size": 15
          },
          "showarrow": false,
          "text": "Sales Percentage According to Region",
          "x": 0.08,
          "xref": "paper",
          "y": 1.02,
          "yref": "paper"
         },
         {
          "bgcolor": "lightyellow",
          "borderwidth": 5,
          "font": {
           "family": "Courier New, monospace",
           "size": 15
          },
          "showarrow": false,
          "text": "Total Sales(In Millions)",
          "x": 0.9,
          "xref": "paper",
          "y": 1.02,
          "yref": "paper"
         }
        ],
        "autosize": false,
        "barmode": "stack",
        "height": 650,
        "legend": {
         "bgcolor": "beige",
         "bordercolor": "beige",
         "borderwidth": 1,
         "font": {
          "color": "#000",
          "family": "Courier New, monospace",
          "size": 11
         },
         "orientation": "h",
         "x": 0.58,
         "y": 0
        },
        "paper_bgcolor": "beige",
        "plot_bgcolor": "beige",
        "template": {
         "data": {
          "bar": [
           {
            "error_x": {
             "color": "#2a3f5f"
            },
            "error_y": {
             "color": "#2a3f5f"
            },
            "marker": {
             "line": {
              "color": "#E5ECF6",
              "width": 0.5
             }
            },
            "type": "bar"
           }
          ],
          "barpolar": [
           {
            "marker": {
             "line": {
              "color": "#E5ECF6",
              "width": 0.5
             }
            },
            "type": "barpolar"
           }
          ],
          "carpet": [
           {
            "aaxis": {
             "endlinecolor": "#2a3f5f",
             "gridcolor": "white",
             "linecolor": "white",
             "minorgridcolor": "white",
             "startlinecolor": "#2a3f5f"
            },
            "baxis": {
             "endlinecolor": "#2a3f5f",
             "gridcolor": "white",
             "linecolor": "white",
             "minorgridcolor": "white",
             "startlinecolor": "#2a3f5f"
            },
            "type": "carpet"
           }
          ],
          "choropleth": [
           {
            "colorbar": {
             "outlinewidth": 0,
             "ticks": ""
            },
            "type": "choropleth"
           }
          ],
          "contour": [
           {
            "colorbar": {
             "outlinewidth": 0,
             "ticks": ""
            },
            "colorscale": [
             [
              0,
              "#0d0887"
             ],
             [
              0.1111111111111111,
              "#46039f"
             ],
             [
              0.2222222222222222,
              "#7201a8"
             ],
             [
              0.3333333333333333,
              "#9c179e"
             ],
             [
              0.4444444444444444,
              "#bd3786"
             ],
             [
              0.5555555555555556,
              "#d8576b"
             ],
             [
              0.6666666666666666,
              "#ed7953"
             ],
             [
              0.7777777777777778,
              "#fb9f3a"
             ],
             [
              0.8888888888888888,
              "#fdca26"
             ],
             [
              1,
              "#f0f921"
             ]
            ],
            "type": "contour"
           }
          ],
          "contourcarpet": [
           {
            "colorbar": {
             "outlinewidth": 0,
             "ticks": ""
            },
            "type": "contourcarpet"
           }
          ],
          "heatmap": [
           {
            "colorbar": {
             "outlinewidth": 0,
             "ticks": ""
            },
            "colorscale": [
             [
              0,
              "#0d0887"
             ],
             [
              0.1111111111111111,
              "#46039f"
             ],
             [
              0.2222222222222222,
              "#7201a8"
             ],
             [
              0.3333333333333333,
              "#9c179e"
             ],
             [
              0.4444444444444444,
              "#bd3786"
             ],
             [
              0.5555555555555556,
              "#d8576b"
             ],
             [
              0.6666666666666666,
              "#ed7953"
             ],
             [
              0.7777777777777778,
              "#fb9f3a"
             ],
             [
              0.8888888888888888,
              "#fdca26"
             ],
             [
              1,
              "#f0f921"
             ]
            ],
            "type": "heatmap"
           }
          ],
          "heatmapgl": [
           {
            "colorbar": {
             "outlinewidth": 0,
             "ticks": ""
            },
            "colorscale": [
             [
              0,
              "#0d0887"
             ],
             [
              0.1111111111111111,
              "#46039f"
             ],
             [
              0.2222222222222222,
              "#7201a8"
             ],
             [
              0.3333333333333333,
              "#9c179e"
             ],
             [
              0.4444444444444444,
              "#bd3786"
             ],
             [
              0.5555555555555556,
              "#d8576b"
             ],
             [
              0.6666666666666666,
              "#ed7953"
             ],
             [
              0.7777777777777778,
              "#fb9f3a"
             ],
             [
              0.8888888888888888,
              "#fdca26"
             ],
             [
              1,
              "#f0f921"
             ]
            ],
            "type": "heatmapgl"
           }
          ],
          "histogram": [
           {
            "marker": {
             "colorbar": {
              "outlinewidth": 0,
              "ticks": ""
             }
            },
            "type": "histogram"
           }
          ],
          "histogram2d": [
           {
            "colorbar": {
             "outlinewidth": 0,
             "ticks": ""
            },
            "colorscale": [
             [
              0,
              "#0d0887"
             ],
             [
              0.1111111111111111,
              "#46039f"
             ],
             [
              0.2222222222222222,
              "#7201a8"
             ],
             [
              0.3333333333333333,
              "#9c179e"
             ],
             [
              0.4444444444444444,
              "#bd3786"
             ],
             [
              0.5555555555555556,
              "#d8576b"
             ],
             [
              0.6666666666666666,
              "#ed7953"
             ],
             [
              0.7777777777777778,
              "#fb9f3a"
             ],
             [
              0.8888888888888888,
              "#fdca26"
             ],
             [
              1,
              "#f0f921"
             ]
            ],
            "type": "histogram2d"
           }
          ],
          "histogram2dcontour": [
           {
            "colorbar": {
             "outlinewidth": 0,
             "ticks": ""
            },
            "colorscale": [
             [
              0,
              "#0d0887"
             ],
             [
              0.1111111111111111,
              "#46039f"
             ],
             [
              0.2222222222222222,
              "#7201a8"
             ],
             [
              0.3333333333333333,
              "#9c179e"
             ],
             [
              0.4444444444444444,
              "#bd3786"
             ],
             [
              0.5555555555555556,
              "#d8576b"
             ],
             [
              0.6666666666666666,
              "#ed7953"
             ],
             [
              0.7777777777777778,
              "#fb9f3a"
             ],
             [
              0.8888888888888888,
              "#fdca26"
             ],
             [
              1,
              "#f0f921"
             ]
            ],
            "type": "histogram2dcontour"
           }
          ],
          "mesh3d": [
           {
            "colorbar": {
             "outlinewidth": 0,
             "ticks": ""
            },
            "type": "mesh3d"
           }
          ],
          "parcoords": [
           {
            "line": {
             "colorbar": {
              "outlinewidth": 0,
              "ticks": ""
             }
            },
            "type": "parcoords"
           }
          ],
          "pie": [
           {
            "automargin": true,
            "type": "pie"
           }
          ],
          "scatter": [
           {
            "marker": {
             "colorbar": {
              "outlinewidth": 0,
              "ticks": ""
             }
            },
            "type": "scatter"
           }
          ],
          "scatter3d": [
           {
            "line": {
             "colorbar": {
              "outlinewidth": 0,
              "ticks": ""
             }
            },
            "marker": {
             "colorbar": {
              "outlinewidth": 0,
              "ticks": ""
             }
            },
            "type": "scatter3d"
           }
          ],
          "scattercarpet": [
           {
            "marker": {
             "colorbar": {
              "outlinewidth": 0,
              "ticks": ""
             }
            },
            "type": "scattercarpet"
           }
          ],
          "scattergeo": [
           {
            "marker": {
             "colorbar": {
              "outlinewidth": 0,
              "ticks": ""
             }
            },
            "type": "scattergeo"
           }
          ],
          "scattergl": [
           {
            "marker": {
             "colorbar": {
              "outlinewidth": 0,
              "ticks": ""
             }
            },
            "type": "scattergl"
           }
          ],
          "scattermapbox": [
           {
            "marker": {
             "colorbar": {
              "outlinewidth": 0,
              "ticks": ""
             }
            },
            "type": "scattermapbox"
           }
          ],
          "scatterpolar": [
           {
            "marker": {
             "colorbar": {
              "outlinewidth": 0,
              "ticks": ""
             }
            },
            "type": "scatterpolar"
           }
          ],
          "scatterpolargl": [
           {
            "marker": {
             "colorbar": {
              "outlinewidth": 0,
              "ticks": ""
             }
            },
            "type": "scatterpolargl"
           }
          ],
          "scatterternary": [
           {
            "marker": {
             "colorbar": {
              "outlinewidth": 0,
              "ticks": ""
             }
            },
            "type": "scatterternary"
           }
          ],
          "surface": [
           {
            "colorbar": {
             "outlinewidth": 0,
             "ticks": ""
            },
            "colorscale": [
             [
              0,
              "#0d0887"
             ],
             [
              0.1111111111111111,
              "#46039f"
             ],
             [
              0.2222222222222222,
              "#7201a8"
             ],
             [
              0.3333333333333333,
              "#9c179e"
             ],
             [
              0.4444444444444444,
              "#bd3786"
             ],
             [
              0.5555555555555556,
              "#d8576b"
             ],
             [
              0.6666666666666666,
              "#ed7953"
             ],
             [
              0.7777777777777778,
              "#fb9f3a"
             ],
             [
              0.8888888888888888,
              "#fdca26"
             ],
             [
              1,
              "#f0f921"
             ]
            ],
            "type": "surface"
           }
          ],
          "table": [
           {
            "cells": {
             "fill": {
              "color": "#EBF0F8"
             },
             "line": {
              "color": "white"
             }
            },
            "header": {
             "fill": {
              "color": "#C8D4E3"
             },
             "line": {
              "color": "white"
             }
            },
            "type": "table"
           }
          ]
         },
         "layout": {
          "annotationdefaults": {
           "arrowcolor": "#2a3f5f",
           "arrowhead": 0,
           "arrowwidth": 1
          },
          "coloraxis": {
           "colorbar": {
            "outlinewidth": 0,
            "ticks": ""
           }
          },
          "colorscale": {
           "diverging": [
            [
             0,
             "#8e0152"
            ],
            [
             0.1,
             "#c51b7d"
            ],
            [
             0.2,
             "#de77ae"
            ],
            [
             0.3,
             "#f1b6da"
            ],
            [
             0.4,
             "#fde0ef"
            ],
            [
             0.5,
             "#f7f7f7"
            ],
            [
             0.6,
             "#e6f5d0"
            ],
            [
             0.7,
             "#b8e186"
            ],
            [
             0.8,
             "#7fbc41"
            ],
            [
             0.9,
             "#4d9221"
            ],
            [
             1,
             "#276419"
            ]
           ],
           "sequential": [
            [
             0,
             "#0d0887"
            ],
            [
             0.1111111111111111,
             "#46039f"
            ],
            [
             0.2222222222222222,
             "#7201a8"
            ],
            [
             0.3333333333333333,
             "#9c179e"
            ],
            [
             0.4444444444444444,
             "#bd3786"
            ],
            [
             0.5555555555555556,
             "#d8576b"
            ],
            [
             0.6666666666666666,
             "#ed7953"
            ],
            [
             0.7777777777777778,
             "#fb9f3a"
            ],
            [
             0.8888888888888888,
             "#fdca26"
            ],
            [
             1,
             "#f0f921"
            ]
           ],
           "sequentialminus": [
            [
             0,
             "#0d0887"
            ],
            [
             0.1111111111111111,
             "#46039f"
            ],
            [
             0.2222222222222222,
             "#7201a8"
            ],
            [
             0.3333333333333333,
             "#9c179e"
            ],
            [
             0.4444444444444444,
             "#bd3786"
            ],
            [
             0.5555555555555556,
             "#d8576b"
            ],
            [
             0.6666666666666666,
             "#ed7953"
            ],
            [
             0.7777777777777778,
             "#fb9f3a"
            ],
            [
             0.8888888888888888,
             "#fdca26"
            ],
            [
             1,
             "#f0f921"
            ]
           ]
          },
          "colorway": [
           "#636efa",
           "#EF553B",
           "#00cc96",
           "#ab63fa",
           "#FFA15A",
           "#19d3f3",
           "#FF6692",
           "#B6E880",
           "#FF97FF",
           "#FECB52"
          ],
          "font": {
           "color": "#2a3f5f"
          },
          "geo": {
           "bgcolor": "white",
           "lakecolor": "white",
           "landcolor": "#E5ECF6",
           "showlakes": true,
           "showland": true,
           "subunitcolor": "white"
          },
          "hoverlabel": {
           "align": "left"
          },
          "hovermode": "closest",
          "mapbox": {
           "style": "light"
          },
          "paper_bgcolor": "white",
          "plot_bgcolor": "#E5ECF6",
          "polar": {
           "angularaxis": {
            "gridcolor": "white",
            "linecolor": "white",
            "ticks": ""
           },
           "bgcolor": "#E5ECF6",
           "radialaxis": {
            "gridcolor": "white",
            "linecolor": "white",
            "ticks": ""
           }
          },
          "scene": {
           "xaxis": {
            "backgroundcolor": "#E5ECF6",
            "gridcolor": "white",
            "gridwidth": 2,
            "linecolor": "white",
            "showbackground": true,
            "ticks": "",
            "zerolinecolor": "white"
           },
           "yaxis": {
            "backgroundcolor": "#E5ECF6",
            "gridcolor": "white",
            "gridwidth": 2,
            "linecolor": "white",
            "showbackground": true,
            "ticks": "",
            "zerolinecolor": "white"
           },
           "zaxis": {
            "backgroundcolor": "#E5ECF6",
            "gridcolor": "white",
            "gridwidth": 2,
            "linecolor": "white",
            "showbackground": true,
            "ticks": "",
            "zerolinecolor": "white"
           }
          },
          "shapedefaults": {
           "line": {
            "color": "#2a3f5f"
           }
          },
          "ternary": {
           "aaxis": {
            "gridcolor": "white",
            "linecolor": "white",
            "ticks": ""
           },
           "baxis": {
            "gridcolor": "white",
            "linecolor": "white",
            "ticks": ""
           },
           "bgcolor": "#E5ECF6",
           "caxis": {
            "gridcolor": "white",
            "linecolor": "white",
            "ticks": ""
           }
          },
          "title": {
           "x": 0.05
          },
          "xaxis": {
           "automargin": true,
           "gridcolor": "white",
           "linecolor": "white",
           "ticks": "",
           "title": {
            "standoff": 15
           },
           "zerolinecolor": "white",
           "zerolinewidth": 2
          },
          "yaxis": {
           "automargin": true,
           "gridcolor": "white",
           "linecolor": "white",
           "ticks": "",
           "title": {
            "standoff": 15
           },
           "zerolinecolor": "white",
           "zerolinewidth": 2
          }
         }
        },
        "title": {
         "font": {
          "color": "black",
          "family": "Courier New, monospace",
          "size": 17
         },
         "text": "North America, Europe, Japan and Other Sales Percentage and Amounts According to Genre"
        },
        "width": 1200,
        "xaxis2": {
         "anchor": "y2",
         "domain": [
          0,
          0.5
         ],
         "tickfont": {
          "family": "Courier New, monospace"
         },
         "title": {
          "font": {
           "family": "Courier New, monospace"
          },
          "text": "Genre"
         }
        },
        "yaxis2": {
         "anchor": "x2",
         "domain": [
          0,
          1
         ],
         "tickfont": {
          "family": "Courier New, monospace"
         },
         "title": {
          "font": {
           "family": "Courier New, monospace"
          },
          "text": "Total Percentage"
         }
        }
       }
      },
      "text/html": [
       "<div>                            <div id=\"2a6c12ea-53b2-4a1c-9984-6b9451192298\" class=\"plotly-graph-div\" style=\"height:650px; width:1200px;\"></div>            <script type=\"text/javascript\">                require([\"plotly\"], function(Plotly) {                    window.PLOTLYENV=window.PLOTLYENV || {};                                    if (document.getElementById(\"2a6c12ea-53b2-4a1c-9984-6b9451192298\")) {                    Plotly.newPlot(                        \"2a6c12ea-53b2-4a1c-9984-6b9451192298\",                        [{\"marker\": {\"color\": \"rgb(158,202,225)\", \"line\": {\"color\": \"rgb(8,48,107)\", \"width\": 3}}, \"name\": \"North America\", \"opacity\": 0.75, \"type\": \"bar\", \"x\": [\"Action\", \"Adventure\", \"Fighting\", \"Misc\", \"Platform\", \"Puzzle\", \"Racing\", \"Role-Playing\", \"Shooter\", \"Simulation\", \"Sports\", \"Strategy\"], \"xaxis\": \"x2\", \"y\": [50.365629657013166, 44.45474855625316, 49.879788787776775, 50.69548337640204, 53.81164837815031, 50.53276178811996, 49.16347207009858, 35.40089292503567, 56.43526468135186, 46.751123825092364, 51.56609664749744, 39.279578513343274], \"yaxis\": \"y2\"}, {\"marker\": {\"color\": \"red\", \"line\": {\"color\": \"rgb(8,48,107)\", \"width\": 3}}, \"name\": \"Europe\", \"opacity\": 0.75, \"type\": \"bar\", \"x\": [\"Action\", \"Adventure\", \"Fighting\", \"Misc\", \"Platform\", \"Puzzle\", \"Racing\", \"Role-Playing\", \"Shooter\", \"Simulation\", \"Sports\", \"Strategy\"], \"xaxis\": \"x2\", \"y\": [29.957372087381163, 26.86843991063509, 22.50758341759361, 26.69296109002361, 24.208368503557313, 20.730761379873393, 32.482201533406574, 20.28851689713996, 29.98282882794467, 28.93594196975909, 28.06970896355761, 25.781697400068687], \"yaxis\": \"y2\"}, {\"marker\": {\"color\": \"orange\", \"line\": {\"color\": \"rgb(8,48,107)\", \"width\": 3}}, \"name\": \"Japan\", \"opacity\": 0.75, \"type\": \"bar\", \"x\": [\"Action\", \"Adventure\", \"Fighting\", \"Misc\", \"Platform\", \"Puzzle\", \"Racing\", \"Role-Playing\", \"Shooter\", \"Simulation\", \"Sports\", \"Strategy\"], \"xaxis\": \"x2\", \"y\": [8.903919688550731, 21.54027736795515, 19.483204134366993, 13.223457263319366, 15.755456409019718, 23.39661155337818, 7.760131434830278, 37.87218788359386, 3.696217436098734, 16.193297915815386, 10.224639718003962, 28.295727866223746], \"yaxis\": \"y2\"}, {\"marker\": {\"color\": \"purple\", \"line\": {\"color\": \"rgb(8,48,107)\", \"width\": 3}}, \"name\": \"Other\", \"opacity\": 0.75, \"type\": \"bar\", \"x\": [\"Action\", \"Adventure\", \"Fighting\", \"Misc\", \"Platform\", \"Puzzle\", \"Racing\", \"Role-Playing\", \"Shooter\", \"Simulation\", \"Sports\", \"Strategy\"], \"xaxis\": \"x2\", \"y\": [10.717627623811568, 7.039581840408006, 8.138411414447825, 9.308967717207423, 6.1835282768599935, 5.123494590732766, 10.553121577218178, 6.427539459248109, 9.838590982681795, 8.045565999182791, 10.107647778292597, 6.482648035734684], \"yaxis\": \"y2\"}, {\"cells\": {\"align\": [\"left\", \"center\"], \"fill\": {\"color\": [\"silver\", \"rgb(158,202,225)\", \"darksalmon\", \"gold\", \"mediumorchid\", \"yellowgreen\"]}, \"font\": {\"color\": \"#506784\", \"size\": 12}, \"height\": 30, \"line\": {\"color\": \"rgb(8,48,107)\", \"width\": 3}, \"values\": [[\"Action\", \"Adventure\", \"Fighting\", \"Misc\", \"Platform\", \"Puzzle\", \"Racing\", \"Role-Playing\", \"Shooter\", \"Simulation\", \"Sports\", \"Strategy\"], [872.0, 105.0, 222.0, 410.0, 446.0, 124.0, 359.0, 326.0, 575.0, 183.0, 679.0, 69.0], [519.0, 64.0, 100.0, 216.0, 201.0, 51.0, 237.0, 187.0, 306.0, 113.0, 369.0, 45.0], [154.0, 51.0, 87.0, 107.0, 131.0, 57.0, 57.0, 349.0, 38.0, 63.0, 135.0, 49.0], [186.0, 17.0, 36.0, 75.0, 51.0, 13.0, 77.0, 59.0, 100.0, 32.0, 133.0, 11.0], [1731.0, 237.0, 445.0, 809.0, 829.0, 245.0, 730.0, 921.0, 1019.0, 392.0, 1316.0, 175.0]]}, \"domain\": {\"x\": [0.6, 1], \"y\": [0, 0.95]}, \"header\": {\"align\": [\"left\", \"center\"], \"fill\": {\"color\": [\"darkslateblue\", \"blue\", \"red\", \"orange\", \"purple\", \"green\"]}, \"font\": {\"color\": \"white\", \"size\": 12}, \"height\": 30, \"line\": {\"color\": \"rgb(8,48,107)\", \"width\": 3}, \"values\": [\"Genre\", \"North America\", \"Europe\", \"Japan\", \"Other\", \"Total\"]}, \"type\": \"table\"}],                        {\"annotations\": [{\"bgcolor\": \"lightyellow\", \"borderwidth\": 5, \"font\": {\"family\": \"Courier New, monospace\", \"size\": 15}, \"showarrow\": false, \"text\": \"Sales Percentage According to Region\", \"x\": 0.08, \"xref\": \"paper\", \"y\": 1.02, \"yref\": \"paper\"}, {\"bgcolor\": \"lightyellow\", \"borderwidth\": 5, \"font\": {\"family\": \"Courier New, monospace\", \"size\": 15}, \"showarrow\": false, \"text\": \"Total Sales(In Millions)\", \"x\": 0.9, \"xref\": \"paper\", \"y\": 1.02, \"yref\": \"paper\"}], \"autosize\": false, \"barmode\": \"stack\", \"height\": 650, \"legend\": {\"bgcolor\": \"beige\", \"bordercolor\": \"beige\", \"borderwidth\": 1, \"font\": {\"color\": \"#000\", \"family\": \"Courier New, monospace\", \"size\": 11}, \"orientation\": \"h\", \"x\": 0.58, \"y\": 0}, \"paper_bgcolor\": \"beige\", \"plot_bgcolor\": \"beige\", \"template\": {\"data\": {\"bar\": [{\"error_x\": {\"color\": \"#2a3f5f\"}, \"error_y\": {\"color\": \"#2a3f5f\"}, \"marker\": {\"line\": {\"color\": \"#E5ECF6\", \"width\": 0.5}}, \"type\": \"bar\"}], \"barpolar\": [{\"marker\": {\"line\": {\"color\": \"#E5ECF6\", \"width\": 0.5}}, \"type\": \"barpolar\"}], \"carpet\": [{\"aaxis\": {\"endlinecolor\": \"#2a3f5f\", \"gridcolor\": \"white\", \"linecolor\": \"white\", \"minorgridcolor\": \"white\", \"startlinecolor\": \"#2a3f5f\"}, \"baxis\": {\"endlinecolor\": \"#2a3f5f\", \"gridcolor\": \"white\", \"linecolor\": \"white\", \"minorgridcolor\": \"white\", \"startlinecolor\": \"#2a3f5f\"}, \"type\": \"carpet\"}], \"choropleth\": [{\"colorbar\": {\"outlinewidth\": 0, \"ticks\": \"\"}, \"type\": \"choropleth\"}], \"contour\": [{\"colorbar\": {\"outlinewidth\": 0, \"ticks\": \"\"}, \"colorscale\": [[0.0, \"#0d0887\"], [0.1111111111111111, \"#46039f\"], [0.2222222222222222, \"#7201a8\"], [0.3333333333333333, \"#9c179e\"], [0.4444444444444444, \"#bd3786\"], [0.5555555555555556, \"#d8576b\"], [0.6666666666666666, \"#ed7953\"], [0.7777777777777778, \"#fb9f3a\"], [0.8888888888888888, \"#fdca26\"], [1.0, \"#f0f921\"]], \"type\": \"contour\"}], \"contourcarpet\": [{\"colorbar\": {\"outlinewidth\": 0, \"ticks\": \"\"}, \"type\": \"contourcarpet\"}], \"heatmap\": [{\"colorbar\": {\"outlinewidth\": 0, \"ticks\": \"\"}, \"colorscale\": [[0.0, \"#0d0887\"], [0.1111111111111111, \"#46039f\"], [0.2222222222222222, \"#7201a8\"], [0.3333333333333333, \"#9c179e\"], [0.4444444444444444, \"#bd3786\"], [0.5555555555555556, \"#d8576b\"], [0.6666666666666666, \"#ed7953\"], [0.7777777777777778, \"#fb9f3a\"], [0.8888888888888888, \"#fdca26\"], [1.0, \"#f0f921\"]], \"type\": \"heatmap\"}], \"heatmapgl\": [{\"colorbar\": {\"outlinewidth\": 0, \"ticks\": \"\"}, \"colorscale\": [[0.0, \"#0d0887\"], [0.1111111111111111, \"#46039f\"], [0.2222222222222222, \"#7201a8\"], [0.3333333333333333, \"#9c179e\"], [0.4444444444444444, \"#bd3786\"], [0.5555555555555556, \"#d8576b\"], [0.6666666666666666, \"#ed7953\"], [0.7777777777777778, \"#fb9f3a\"], [0.8888888888888888, \"#fdca26\"], [1.0, \"#f0f921\"]], \"type\": \"heatmapgl\"}], \"histogram\": [{\"marker\": {\"colorbar\": {\"outlinewidth\": 0, \"ticks\": \"\"}}, \"type\": \"histogram\"}], \"histogram2d\": [{\"colorbar\": {\"outlinewidth\": 0, \"ticks\": \"\"}, \"colorscale\": [[0.0, \"#0d0887\"], [0.1111111111111111, \"#46039f\"], [0.2222222222222222, \"#7201a8\"], [0.3333333333333333, \"#9c179e\"], [0.4444444444444444, \"#bd3786\"], [0.5555555555555556, \"#d8576b\"], [0.6666666666666666, \"#ed7953\"], [0.7777777777777778, \"#fb9f3a\"], [0.8888888888888888, \"#fdca26\"], [1.0, \"#f0f921\"]], \"type\": \"histogram2d\"}], \"histogram2dcontour\": [{\"colorbar\": {\"outlinewidth\": 0, \"ticks\": \"\"}, \"colorscale\": [[0.0, \"#0d0887\"], [0.1111111111111111, \"#46039f\"], [0.2222222222222222, \"#7201a8\"], [0.3333333333333333, \"#9c179e\"], [0.4444444444444444, \"#bd3786\"], [0.5555555555555556, \"#d8576b\"], [0.6666666666666666, \"#ed7953\"], [0.7777777777777778, \"#fb9f3a\"], [0.8888888888888888, \"#fdca26\"], [1.0, \"#f0f921\"]], \"type\": \"histogram2dcontour\"}], \"mesh3d\": [{\"colorbar\": {\"outlinewidth\": 0, \"ticks\": \"\"}, \"type\": \"mesh3d\"}], \"parcoords\": [{\"line\": {\"colorbar\": {\"outlinewidth\": 0, \"ticks\": \"\"}}, \"type\": \"parcoords\"}], \"pie\": [{\"automargin\": true, \"type\": \"pie\"}], \"scatter\": [{\"marker\": {\"colorbar\": {\"outlinewidth\": 0, \"ticks\": \"\"}}, \"type\": \"scatter\"}], \"scatter3d\": [{\"line\": {\"colorbar\": {\"outlinewidth\": 0, \"ticks\": \"\"}}, \"marker\": {\"colorbar\": {\"outlinewidth\": 0, \"ticks\": \"\"}}, \"type\": \"scatter3d\"}], \"scattercarpet\": [{\"marker\": {\"colorbar\": {\"outlinewidth\": 0, \"ticks\": \"\"}}, \"type\": \"scattercarpet\"}], \"scattergeo\": [{\"marker\": {\"colorbar\": {\"outlinewidth\": 0, \"ticks\": \"\"}}, \"type\": \"scattergeo\"}], \"scattergl\": [{\"marker\": {\"colorbar\": {\"outlinewidth\": 0, \"ticks\": \"\"}}, \"type\": \"scattergl\"}], \"scattermapbox\": [{\"marker\": {\"colorbar\": {\"outlinewidth\": 0, \"ticks\": \"\"}}, \"type\": \"scattermapbox\"}], \"scatterpolar\": [{\"marker\": {\"colorbar\": {\"outlinewidth\": 0, \"ticks\": \"\"}}, \"type\": \"scatterpolar\"}], \"scatterpolargl\": [{\"marker\": {\"colorbar\": {\"outlinewidth\": 0, \"ticks\": \"\"}}, \"type\": \"scatterpolargl\"}], \"scatterternary\": [{\"marker\": {\"colorbar\": {\"outlinewidth\": 0, \"ticks\": \"\"}}, \"type\": \"scatterternary\"}], \"surface\": [{\"colorbar\": {\"outlinewidth\": 0, \"ticks\": \"\"}, \"colorscale\": [[0.0, \"#0d0887\"], [0.1111111111111111, \"#46039f\"], [0.2222222222222222, \"#7201a8\"], [0.3333333333333333, \"#9c179e\"], [0.4444444444444444, \"#bd3786\"], [0.5555555555555556, \"#d8576b\"], [0.6666666666666666, \"#ed7953\"], [0.7777777777777778, \"#fb9f3a\"], [0.8888888888888888, \"#fdca26\"], [1.0, \"#f0f921\"]], \"type\": \"surface\"}], \"table\": [{\"cells\": {\"fill\": {\"color\": \"#EBF0F8\"}, \"line\": {\"color\": \"white\"}}, \"header\": {\"fill\": {\"color\": \"#C8D4E3\"}, \"line\": {\"color\": \"white\"}}, \"type\": \"table\"}]}, \"layout\": {\"annotationdefaults\": {\"arrowcolor\": \"#2a3f5f\", \"arrowhead\": 0, \"arrowwidth\": 1}, \"coloraxis\": {\"colorbar\": {\"outlinewidth\": 0, \"ticks\": \"\"}}, \"colorscale\": {\"diverging\": [[0, \"#8e0152\"], [0.1, \"#c51b7d\"], [0.2, \"#de77ae\"], [0.3, \"#f1b6da\"], [0.4, \"#fde0ef\"], [0.5, \"#f7f7f7\"], [0.6, \"#e6f5d0\"], [0.7, \"#b8e186\"], [0.8, \"#7fbc41\"], [0.9, \"#4d9221\"], [1, \"#276419\"]], \"sequential\": [[0.0, \"#0d0887\"], [0.1111111111111111, \"#46039f\"], [0.2222222222222222, \"#7201a8\"], [0.3333333333333333, \"#9c179e\"], [0.4444444444444444, \"#bd3786\"], [0.5555555555555556, \"#d8576b\"], [0.6666666666666666, \"#ed7953\"], [0.7777777777777778, \"#fb9f3a\"], [0.8888888888888888, \"#fdca26\"], [1.0, \"#f0f921\"]], \"sequentialminus\": [[0.0, \"#0d0887\"], [0.1111111111111111, \"#46039f\"], [0.2222222222222222, \"#7201a8\"], [0.3333333333333333, \"#9c179e\"], [0.4444444444444444, \"#bd3786\"], [0.5555555555555556, \"#d8576b\"], [0.6666666666666666, \"#ed7953\"], [0.7777777777777778, \"#fb9f3a\"], [0.8888888888888888, \"#fdca26\"], [1.0, \"#f0f921\"]]}, \"colorway\": [\"#636efa\", \"#EF553B\", \"#00cc96\", \"#ab63fa\", \"#FFA15A\", \"#19d3f3\", \"#FF6692\", \"#B6E880\", \"#FF97FF\", \"#FECB52\"], \"font\": {\"color\": \"#2a3f5f\"}, \"geo\": {\"bgcolor\": \"white\", \"lakecolor\": \"white\", \"landcolor\": \"#E5ECF6\", \"showlakes\": true, \"showland\": true, \"subunitcolor\": \"white\"}, \"hoverlabel\": {\"align\": \"left\"}, \"hovermode\": \"closest\", \"mapbox\": {\"style\": \"light\"}, \"paper_bgcolor\": \"white\", \"plot_bgcolor\": \"#E5ECF6\", \"polar\": {\"angularaxis\": {\"gridcolor\": \"white\", \"linecolor\": \"white\", \"ticks\": \"\"}, \"bgcolor\": \"#E5ECF6\", \"radialaxis\": {\"gridcolor\": \"white\", \"linecolor\": \"white\", \"ticks\": \"\"}}, \"scene\": {\"xaxis\": {\"backgroundcolor\": \"#E5ECF6\", \"gridcolor\": \"white\", \"gridwidth\": 2, \"linecolor\": \"white\", \"showbackground\": true, \"ticks\": \"\", \"zerolinecolor\": \"white\"}, \"yaxis\": {\"backgroundcolor\": \"#E5ECF6\", \"gridcolor\": \"white\", \"gridwidth\": 2, \"linecolor\": \"white\", \"showbackground\": true, \"ticks\": \"\", \"zerolinecolor\": \"white\"}, \"zaxis\": {\"backgroundcolor\": \"#E5ECF6\", \"gridcolor\": \"white\", \"gridwidth\": 2, \"linecolor\": \"white\", \"showbackground\": true, \"ticks\": \"\", \"zerolinecolor\": \"white\"}}, \"shapedefaults\": {\"line\": {\"color\": \"#2a3f5f\"}}, \"ternary\": {\"aaxis\": {\"gridcolor\": \"white\", \"linecolor\": \"white\", \"ticks\": \"\"}, \"baxis\": {\"gridcolor\": \"white\", \"linecolor\": \"white\", \"ticks\": \"\"}, \"bgcolor\": \"#E5ECF6\", \"caxis\": {\"gridcolor\": \"white\", \"linecolor\": \"white\", \"ticks\": \"\"}}, \"title\": {\"x\": 0.05}, \"xaxis\": {\"automargin\": true, \"gridcolor\": \"white\", \"linecolor\": \"white\", \"ticks\": \"\", \"title\": {\"standoff\": 15}, \"zerolinecolor\": \"white\", \"zerolinewidth\": 2}, \"yaxis\": {\"automargin\": true, \"gridcolor\": \"white\", \"linecolor\": \"white\", \"ticks\": \"\", \"title\": {\"standoff\": 15}, \"zerolinecolor\": \"white\", \"zerolinewidth\": 2}}}, \"title\": {\"font\": {\"color\": \"black\", \"family\": \"Courier New, monospace\", \"size\": 17}, \"text\": \"North America, Europe, Japan and Other Sales Percentage and Amounts According to Genre\"}, \"width\": 1200, \"xaxis2\": {\"anchor\": \"y2\", \"domain\": [0, 0.5], \"tickfont\": {\"family\": \"Courier New, monospace\"}, \"title\": {\"font\": {\"family\": \"Courier New, monospace\"}, \"text\": \"Genre\"}}, \"yaxis2\": {\"anchor\": \"x2\", \"domain\": [0, 1], \"tickfont\": {\"family\": \"Courier New, monospace\"}, \"title\": {\"font\": {\"family\": \"Courier New, monospace\"}, \"text\": \"Total Percentage\"}}},                        {\"responsive\": true}                    ).then(function(){\n",
       "                            \n",
       "var gd = document.getElementById('2a6c12ea-53b2-4a1c-9984-6b9451192298');\n",
       "var x = new MutationObserver(function (mutations, observer) {{\n",
       "        var display = window.getComputedStyle(gd).display;\n",
       "        if (!display || display === 'none') {{\n",
       "            console.log([gd, 'removed!']);\n",
       "            Plotly.purge(gd);\n",
       "            observer.disconnect();\n",
       "        }}\n",
       "}});\n",
       "\n",
       "// Listen for the removal of the full notebook cells\n",
       "var notebookContainer = gd.closest('#notebook-container');\n",
       "if (notebookContainer) {{\n",
       "    x.observe(notebookContainer, {childList: true});\n",
       "}}\n",
       "\n",
       "// Listen for the clearing of the current output cell\n",
       "var outputEl = gd.closest('.output');\n",
       "if (outputEl) {{\n",
       "    x.observe(outputEl, {childList: true});\n",
       "}}\n",
       "\n",
       "                        })                };                });            </script>        </div>"
      ]
     },
     "metadata": {},
     "output_type": "display_data"
    }
   ],
   "source": [
    "genre=pd.DataFrame(dataframe.groupby(\"Genre\")[[\"NA_Sales\",\"EU_Sales\",\"JP_Sales\",\"Other_Sales\",\"Global_Sales\"]].sum())\n",
    "genre.reset_index(level=0, inplace=True)\n",
    "genrecount=pd.DataFrame(dataframe[\"Genre\"].value_counts())\n",
    "genrecount.reset_index(level=0, inplace=True)\n",
    "genrecount.rename(columns={\"Genre\": \"Counts\",\"index\":\"Genre\"}, inplace=True)\n",
    "genre=pd.merge(genre,genrecount,on=\"Genre\")\n",
    "\n",
    "table_data=genre[[\"Genre\",\"NA_Sales\",\"EU_Sales\",\"JP_Sales\",\"Other_Sales\",\"Global_Sales\"]]\n",
    "table_data = table_data.rename(columns = {\"NA_Sales\": \"North America\", \n",
    "                                  \"EU_Sales\":\"Europe\", \n",
    "                                  \"JP_Sales\": \"Japan\",\"Other_Sales\":\"Other\",\"Global_Sales\":\"Total\"})\n",
    "\n",
    "x=genre.Genre\n",
    "NA_Perce=list(genre[\"NA_Sales\"]/genre[\"Global_Sales\"]*100)\n",
    "EU_Perce=list(genre[\"EU_Sales\"]/genre[\"Global_Sales\"]*100)\n",
    "JP_Perce=list(genre[\"JP_Sales\"]/genre[\"Global_Sales\"]*100)\n",
    "Other_Perce=list(genre[\"Other_Sales\"]/genre[\"Global_Sales\"]*100)\n",
    "\n",
    "trace1 = go.Bar(\n",
    "    x=x,\n",
    "    y=NA_Perce,\n",
    "    name=\"North America\" ,\n",
    "    xaxis='x2', yaxis='y2',\n",
    "    marker=dict(\n",
    "        color='rgb(158,202,225)',\n",
    "        line=dict(\n",
    "            color='rgb(8,48,107)',\n",
    "            width=3),\n",
    "        ),\n",
    "    opacity=0.75)\n",
    "trace2 = go.Bar(\n",
    "    x=x,\n",
    "    y=EU_Perce,\n",
    "    xaxis='x2', yaxis='y2',\n",
    "    marker=dict(\n",
    "        color='red',\n",
    "        line=dict(\n",
    "            color='rgb(8,48,107)',\n",
    "            width=3),\n",
    "        ),\n",
    "    opacity=0.75,\n",
    "    name = \"Europe\",\n",
    "    )\n",
    "trace3 = go.Bar(\n",
    "    x=x,\n",
    "    y=JP_Perce,\n",
    "    xaxis='x2', yaxis='y2',\n",
    "  \n",
    "    marker=dict(\n",
    "        color='orange',\n",
    "        line=dict(\n",
    "            color='rgb(8,48,107)',\n",
    "            width=3),\n",
    "        ),\n",
    "    opacity=0.75,\n",
    "    name = \"Japan\",\n",
    "    )\n",
    "trace4 = go.Bar(\n",
    "    x=x,\n",
    "    y=Other_Perce,\n",
    "    xaxis='x2', yaxis='y2',\n",
    "    \n",
    "    marker=dict(\n",
    "        color='purple',\n",
    "        line=dict(\n",
    "            color='rgb(8,48,107)',\n",
    "            width=3),\n",
    "        ),\n",
    "    opacity=0.75,\n",
    "    name = \"Other\",)\n",
    "trace5=go.Table(\n",
    "  header = dict(\n",
    "    values = table_data.columns,\n",
    "    line = dict(color = 'rgb(8,48,107)',width=3),\n",
    "    fill = dict(color = [\"darkslateblue\",\"blue\",\"red\", \"orange\",\"purple\",\"green\"]),\n",
    "    align = ['left','center'],\n",
    "    font = dict(color = 'white', size = 12),\n",
    "     height=30,\n",
    "  ),\n",
    "  cells = dict(\n",
    "    values = [table_data.Genre,round(table_data[\"North America\"]),round(table_data[\"Europe\"]), round(table_data[\"Japan\"]), round(table_data[\"Other\"]),round(table_data[\"Total\"])],\n",
    "    height=30,\n",
    "    line = dict(color = 'rgb(8,48,107)',width=3),\n",
    "    fill = dict(color = [\"silver\",\"rgb(158,202,225)\",\"darksalmon\", \"gold\",\"mediumorchid\",\"yellowgreen\"]),\n",
    "    align = ['left', 'center'],\n",
    "    font = dict(color = '#506784', size = 12)),\n",
    "    domain=dict(x=[0.60,1],y=[0,0.95]),\n",
    ")\n",
    "\n",
    "data = [trace1, trace2,trace3,trace4,trace5]\n",
    "layout = go.Layout(barmode='stack',autosize=False,width=1200,height=650,\n",
    "                legend=dict(x=.58, y=0,orientation=\"h\",font=dict(family='Courier New, monospace',size=11,color='#000'),\n",
    "                           bgcolor='beige', bordercolor='beige', borderwidth=1),\n",
    "                title='North America, Europe, Japan and Other Sales Percentage and Amounts According to Genre',\n",
    "                titlefont=dict(family='Courier New, monospace',size=17,color='black'),\n",
    "                xaxis2=dict(domain=[0, 0.50],anchor=\"y2\", title='Genre',titlefont=dict(family='Courier New, monospace'),tickfont=dict(family='Courier New, monospace')), yaxis2=dict( domain=[0, 1],anchor='x2',title=\"Total Percentage\",titlefont=dict(family='Courier New, monospace'),tickfont=dict(family='Courier New, monospace')),\n",
    "                paper_bgcolor='beige',plot_bgcolor='beige',\n",
    "                annotations=[ dict( text='Sales Percentage According to Region',x=0.08,y=1.02,xref=\"paper\",yref=\"paper\",showarrow=False,font=dict(size=15,family=\"Courier New, monospace\"),bgcolor=\"lightyellow\",borderwidth=5),dict( text='Total Sales(In Millions)',x=0.9,y=1.02,xref=\"paper\",yref=\"paper\",showarrow=False,font=dict(size=15,family='Courier New, monospace'),bgcolor=\"lightyellow\",borderwidth=5)],\n",
    "                  )\n",
    "iplot(go.Figure(data=data, layout=layout))"
   ]
  },
  {
   "cell_type": "markdown",
   "metadata": {
    "slideshow": {
     "slide_type": "slide"
    }
   },
   "source": [
    "### Now with extra dimensions!\n",
    "\n",
    "#### We can create a 3D visualization data by Rank, Publisher and Release year."
   ]
  },
  {
   "cell_type": "code",
   "execution_count": 30,
   "metadata": {
    "slideshow": {
     "slide_type": "subslide"
    }
   },
   "outputs": [
    {
     "data": {
      "application/vnd.plotly.v1+json": {
       "config": {
        "linkText": "Export to plot.ly",
        "plotlyServerURL": "https://plot.ly",
        "showLink": false
       },
       "data": [
        {
         "marker": {
          "color": [
           1,
           0.4363395225464192,
           0.37771883289124675,
           0.34031830238726796,
           0.31870026525198947,
           0.30397877984084887,
           0.3006631299734749,
           0.2875331564986738,
           0.2822281167108754,
           0.2781167108753316,
           0.23103448275862074,
           0.21326259946949608,
           0.20901856763925733,
           0.2039787798408488,
           0.1944297082228117,
           0.19204244031830242,
           0.18647214854111407,
           0.17864721485411142,
           0.17599469496021222,
           0.17082228116710876,
           0.14615384615384616,
           0.14323607427055707,
           0.13183023872679048,
           0.11989389920424404,
           0.11684350132625994,
           0.11286472148541116,
           0.10583554376657826,
           0.10557029177718835,
           0.10132625994694962,
           0.09840848806366048,
           0.09681697612732097,
           0.09681697612732097,
           0.09297082228116711,
           0.09151193633952256,
           0.08872679045092839,
           0.0847480106100796,
           0.08183023872679046,
           0.08116710875331568,
           0.07639257294429709,
           0.07559681697612732,
           0.07148541114058357,
           0.06538461538461539,
           0.06458885941644564,
           0.06366047745358092,
           0.061538461538461556,
           0.06047745358090187,
           0.06034482758620691,
           0.05729442970822282,
           0.05543766578249337,
           0.05291777188328913,
           0.05092838196286473,
           0.04880636604774536,
           0.047877984084880636,
           0.04575596816976127,
           0.04549071618037136,
           0.04442970822281167,
           0.04283819628647216,
           0.04257294429708224,
           0.041777188328912473,
           0.04084880636604775,
           0.03872679045092838,
           0.0380636604774536,
           0.03368700265251991,
           0.03355437665782493,
           0.032891246684350145,
           0.032095490716180376,
           0.03156498673740055,
           0.02984084880636605,
           0.028912466843501326,
           0.028514588859416455,
           0.026259946949602132,
           0.025994694960212218,
           0.024668435013262595,
           0.02320954907161804,
           0.022281167108753313,
           0.019893899204244034,
           0.01883289124668435,
           0.015251989389920432,
           0.015251989389920432,
           0.015251989389920432,
           0.014323607427055705,
           0.013129973474801066,
           0.011936339522546425,
           0.010212201591511932,
           0.009946949602122017,
           0.009549071618037145,
           0.009416445623342188,
           0.006896551724137938,
           0.006631299734748012,
           0.006233421750663127,
           0.005039787798408487,
           0.004641909814323615,
           0.004376657824933688,
           0.003448275862068963,
           0.003448275862068963,
           0.0031830238726790485,
           0.0015915119363395242,
           0.0014588859416445668,
           0.000397877984084884,
           0
          ],
          "colorbar": {
           "title": {
            "text": "Global Sales"
           }
          },
          "colorscale": [
           [
            0,
            "rgb(150,0,90)"
           ],
           [
            0.125,
            "rgb(0,0,200)"
           ],
           [
            0.25,
            "rgb(0,25,255)"
           ],
           [
            0.375,
            "rgb(0,152,255)"
           ],
           [
            0.5,
            "rgb(44,255,150)"
           ],
           [
            0.625,
            "rgb(151,255,0)"
           ],
           [
            0.75,
            "rgb(255,234,0)"
           ],
           [
            0.875,
            "rgb(255,111,0)"
           ],
           [
            1,
            "rgb(255,0,0)"
           ]
          ],
          "line": {
           "color": "rgb(140, 140, 170)"
          },
          "size": [
           41.49,
           29.08,
           15.85,
           15.75,
           11.27,
           23.2,
           11.38,
           14.03,
           14.59,
           26.93,
           9.07,
           9.81,
           9,
           8.94,
           9.09,
           14.97,
           7.01,
           9.43,
           12.78,
           4.75,
           6.42,
           10.83,
           9.54,
           9.63,
           8.41,
           6.06,
           5.57,
           3.44,
           6.85,
           9.03,
           5.89,
           9.67,
           5.17,
           5.77,
           4.99,
           8.25,
           8.52,
           5.54,
           6.99,
           6.75,
           5.98,
           2.55,
           4.74,
           7.97,
           3.8,
           4.4,
           6.91,
           3.01,
           6.16,
           4.23,
           6.16,
           6.76,
           4.02,
           4.89,
           2.96,
           4.99,
           4.76,
           5.99,
           4.34,
           5.08,
           6.05,
           6.72,
           7.03,
           5.55,
           3.66,
           6.63,
           3.01,
           4.09,
           5.84,
           3.88,
           5.91,
           4.36,
           5.58,
           2.01,
           4.46,
           5.03,
           3.54,
           1.11,
           1.79,
           6.82,
           3.81,
           2.91,
           1.06,
           0.98,
           5.8,
           2.58,
           2.91,
           2.28,
           2.82,
           7.28,
           2.9,
           3.66,
           2.93,
           2.8,
           4.1,
           3.78,
           5.39,
           3.24,
           4.79,
           4.46
          ]
         },
         "mode": "markers",
         "text": [
          "Name:Wii Sports, Rank:1 Global Sales: 82.74 millions",
          "Name:Super Mario Bros., Rank:2 Global Sales: 40.24 millions",
          "Name:Mario Kart Wii, Rank:3 Global Sales: 35.82 millions",
          "Name:Wii Sports Resort, Rank:4 Global Sales: 33.0 millions",
          "Name:Pokemon Red/Pokemon Blue, Rank:5 Global Sales: 31.37 millions",
          "Name:Tetris, Rank:6 Global Sales: 30.26 millions",
          "Name:New Super Mario Bros., Rank:7 Global Sales: 30.01 millions",
          "Name:Wii Play, Rank:8 Global Sales: 29.02 millions",
          "Name:New Super Mario Bros. Wii, Rank:9 Global Sales: 28.62 millions",
          "Name:Duck Hunt, Rank:10 Global Sales: 28.31 millions",
          "Name:Nintendogs, Rank:11 Global Sales: 24.76 millions",
          "Name:Mario Kart DS, Rank:12 Global Sales: 23.42 millions",
          "Name:Pokemon Gold/Pokemon Silver, Rank:13 Global Sales: 23.1 millions",
          "Name:Wii Fit, Rank:14 Global Sales: 22.72 millions",
          "Name:Wii Fit Plus, Rank:15 Global Sales: 22.0 millions",
          "Name:Kinect Adventures!, Rank:16 Global Sales: 21.82 millions",
          "Name:Grand Theft Auto V, Rank:17 Global Sales: 21.4 millions",
          "Name:Grand Theft Auto: San Andreas, Rank:18 Global Sales: 20.81 millions",
          "Name:Super Mario World, Rank:19 Global Sales: 20.61 millions",
          "Name:Brain Age: Train Your Brain in Minutes a Day, Rank:20 Global Sales: 20.22 millions",
          "Name:Pokemon Diamond/Pokemon Pearl, Rank:21 Global Sales: 18.36 millions",
          "Name:Super Mario Land, Rank:22 Global Sales: 18.14 millions",
          "Name:Super Mario Bros. 3, Rank:23 Global Sales: 17.28 millions",
          "Name:Grand Theft Auto V, Rank:24 Global Sales: 16.38 millions",
          "Name:Grand Theft Auto: Vice City, Rank:25 Global Sales: 16.15 millions",
          "Name:Pokemon Ruby/Pokemon Sapphire, Rank:26 Global Sales: 15.85 millions",
          "Name:Pokemon Black/Pokemon White, Rank:27 Global Sales: 15.32 millions",
          "Name:Brain Age 2: More Training in Minutes a Day, Rank:28 Global Sales: 15.3 millions",
          "Name:Gran Turismo 3: A-Spec, Rank:29 Global Sales: 14.98 millions",
          "Name:Call of Duty: Modern Warfare 3, Rank:30 Global Sales: 14.76 millions",
          "Name:Pokémon Yellow: Special Pikachu Edition, Rank:31 Global Sales: 14.64 millions",
          "Name:Call of Duty: Black Ops, Rank:32 Global Sales: 14.64 millions",
          "Name:Pokemon X/Pokemon Y, Rank:33 Global Sales: 14.35 millions",
          "Name:Call of Duty: Black Ops 3, Rank:34 Global Sales: 14.24 millions",
          "Name:Call of Duty: Black Ops II, Rank:35 Global Sales: 14.03 millions",
          "Name:Call of Duty: Black Ops II, Rank:36 Global Sales: 13.73 millions",
          "Name:Call of Duty: Modern Warfare 2, Rank:37 Global Sales: 13.51 millions",
          "Name:Call of Duty: Modern Warfare 3, Rank:38 Global Sales: 13.46 millions",
          "Name:Grand Theft Auto III, Rank:39 Global Sales: 13.1 millions",
          "Name:Super Smash Bros. Brawl, Rank:40 Global Sales: 13.04 millions",
          "Name:Call of Duty: Black Ops, Rank:41 Global Sales: 12.73 millions",
          "Name:Animal Crossing: Wild World, Rank:42 Global Sales: 12.27 millions",
          "Name:Mario Kart 7, Rank:43 Global Sales: 12.21 millions",
          "Name:Halo 3, Rank:44 Global Sales: 12.14 millions",
          "Name:Grand Theft Auto V, Rank:45 Global Sales: 11.98 millions",
          "Name:Pokemon HeartGold/Pokemon SoulSilver, Rank:46 Global Sales: 11.9 millions",
          "Name:Super Mario 64, Rank:47 Global Sales: 11.89 millions",
          "Name:Gran Turismo 4, Rank:48 Global Sales: 11.66 millions",
          "Name:Super Mario Galaxy, Rank:49 Global Sales: 11.52 millions",
          "Name:Pokemon Omega Ruby/Pokemon Alpha Sapphire, Rank:50 Global Sales: 11.33 millions",
          "Name:Super Mario Land 2: 6 Golden Coins, Rank:51 Global Sales: 11.18 millions",
          "Name:Grand Theft Auto IV, Rank:52 Global Sales: 11.02 millions",
          "Name:Gran Turismo, Rank:53 Global Sales: 10.95 millions",
          "Name:Super Mario 3D Land, Rank:54 Global Sales: 10.79 millions",
          "Name:Gran Turismo 5, Rank:55 Global Sales: 10.77 millions",
          "Name:Call of Duty: Modern Warfare 2, Rank:56 Global Sales: 10.69 millions",
          "Name:Grand Theft Auto IV, Rank:57 Global Sales: 10.57 millions",
          "Name:Super Mario All-Stars, Rank:58 Global Sales: 10.55 millions",
          "Name:Pokemon FireRed/Pokemon LeafGreen, Rank:59 Global Sales: 10.49 millions",
          "Name:Super Mario 64, Rank:60 Global Sales: 10.42 millions",
          "Name:Just Dance 3, Rank:61 Global Sales: 10.26 millions",
          "Name:Call of Duty: Ghosts, Rank:62 Global Sales: 10.21 millions",
          "Name:Halo: Reach, Rank:63 Global Sales: 9.88 millions",
          "Name:Mario Kart 64, Rank:64 Global Sales: 9.87 millions",
          "Name:New Super Mario Bros. 2, Rank:65 Global Sales: 9.82 millions",
          "Name:Halo 4, Rank:66 Global Sales: 9.76 millions",
          "Name:Final Fantasy VII, Rank:67 Global Sales: 9.72 millions",
          "Name:Call of Duty: Ghosts, Rank:68 Global Sales: 9.59 millions",
          "Name:Just Dance 2, Rank:69 Global Sales: 9.52 millions",
          "Name:Gran Turismo 2, Rank:70 Global Sales: 9.49 millions",
          "Name:Call of Duty 4: Modern Warfare, Rank:71 Global Sales: 9.32 millions",
          "Name:Donkey Kong Country, Rank:72 Global Sales: 9.3 millions",
          "Name:Minecraft, Rank:73 Global Sales: 9.2 millions",
          "Name:Animal Crossing: New Leaf, Rank:74 Global Sales: 9.09 millions",
          "Name:Mario Party DS, Rank:75 Global Sales: 9.02 millions",
          "Name:The Elder Scrolls V: Skyrim, Rank:76 Global Sales: 8.84 millions",
          "Name:Super Mario Kart, Rank:77 Global Sales: 8.76 millions",
          "Name:FIFA 16, Rank:78 Global Sales: 8.49 millions",
          "Name:Wii Party, Rank:79 Global Sales: 8.49 millions",
          "Name:Halo 2, Rank:80 Global Sales: 8.49 millions",
          "Name:Mario Party 8, Rank:81 Global Sales: 8.42 millions",
          "Name:Pokemon Black 2/Pokemon White 2, Rank:82 Global Sales: 8.33 millions",
          "Name:FIFA Soccer 13, Rank:83 Global Sales: 8.24 millions",
          "Name:The Sims 3, Rank:84 Global Sales: 8.11 millions",
          "Name:GoldenEye 007, Rank:85 Global Sales: 8.09 millions",
          "Name:Mario & Sonic at the Olympic Games, Rank:86 Global Sales: 8.06 millions",
          "Name:Final Fantasy X, Rank:87 Global Sales: 8.05 millions",
          "Name:Final Fantasy VIII, Rank:88 Global Sales: 7.86 millions",
          "Name:Pokémon Platinum Version, Rank:89 Global Sales: 7.84 millions",
          "Name:Pac-Man, Rank:90 Global Sales: 7.81 millions",
          "Name:Grand Theft Auto: Liberty City Stories, Rank:91 Global Sales: 7.72 millions",
          "Name:Super Mario Galaxy 2, Rank:92 Global Sales: 7.69 millions",
          "Name:Star Wars Battlefront (2015), Rank:93 Global Sales: 7.67 millions",
          "Name:Call of Duty: Advanced Warfare, Rank:94 Global Sales: 7.6 millions",
          "Name:The Legend of Zelda: Ocarina of Time, Rank:95 Global Sales: 7.6 millions",
          "Name:Crash Bandicoot 2: Cortex Strikes Back, Rank:96 Global Sales: 7.58 millions",
          "Name:Super Mario Bros. 2, Rank:97 Global Sales: 7.46 millions",
          "Name:Super Smash Bros. for Wii U and 3DS, Rank:98 Global Sales: 7.45 millions",
          "Name:Call of Duty: World at War, Rank:99 Global Sales: 7.37 millions",
          "Name:Battlefield 3, Rank:100 Global Sales: 7.34 millions"
         ],
         "type": "scatter3d",
         "x": [
          2006,
          1985,
          2008,
          2009,
          1996,
          1989,
          2006,
          2006,
          2009,
          1984,
          2005,
          2005,
          1999,
          2007,
          2009,
          2010,
          2013,
          2004,
          1990,
          2005,
          2006,
          1989,
          1988,
          2013,
          2002,
          2002,
          2010,
          2005,
          2001,
          2011,
          1998,
          2010,
          2013,
          2015,
          2012,
          2012,
          2009,
          2011,
          2001,
          2008,
          2010,
          2005,
          2011,
          2007,
          2014,
          2009,
          1996,
          2004,
          2007,
          2014,
          1992,
          2008,
          1997,
          2011,
          2010,
          2009,
          2008,
          1993,
          2004,
          2004,
          2011,
          2013,
          2010,
          1996,
          2012,
          2012,
          1997,
          2013,
          2010,
          1999,
          2007,
          1994,
          2013,
          2012,
          2007,
          2011,
          1992,
          2015,
          2010,
          2004,
          2007,
          2012,
          2012,
          2009,
          1997,
          2007,
          2001,
          1999,
          2008,
          1982,
          2005,
          2010,
          2015,
          2014,
          1998,
          1997,
          1988,
          2014,
          2008,
          2011
         ],
         "y": [
          "Nintendo",
          "Nintendo",
          "Nintendo",
          "Nintendo",
          "Nintendo",
          "Nintendo",
          "Nintendo",
          "Nintendo",
          "Nintendo",
          "Nintendo",
          "Nintendo",
          "Nintendo",
          "Nintendo",
          "Nintendo",
          "Nintendo",
          "Microsoft Game Studios",
          "Take-Two Interactive",
          "Take-Two Interactive",
          "Nintendo",
          "Nintendo",
          "Nintendo",
          "Nintendo",
          "Nintendo",
          "Take-Two Interactive",
          "Take-Two Interactive",
          "Nintendo",
          "Nintendo",
          "Nintendo",
          "Sony Computer Entertainment",
          "Activision",
          "Nintendo",
          "Activision",
          "Nintendo",
          "Activision",
          "Activision",
          "Activision",
          "Activision",
          "Activision",
          "Take-Two Interactive",
          "Nintendo",
          "Activision",
          "Nintendo",
          "Nintendo",
          "Microsoft Game Studios",
          "Take-Two Interactive",
          "Nintendo",
          "Nintendo",
          "Sony Computer Entertainment",
          "Nintendo",
          "Nintendo",
          "Nintendo",
          "Take-Two Interactive",
          "Sony Computer Entertainment",
          "Nintendo",
          "Sony Computer Entertainment",
          "Activision",
          "Take-Two Interactive",
          "Nintendo",
          "Nintendo",
          "Nintendo",
          "Ubisoft",
          "Activision",
          "Microsoft Game Studios",
          "Nintendo",
          "Nintendo",
          "Microsoft Game Studios",
          "Sony Computer Entertainment",
          "Activision",
          "Ubisoft",
          "Sony Computer Entertainment",
          "Activision",
          "Nintendo",
          "Microsoft Game Studios",
          "Nintendo",
          "Nintendo",
          "Bethesda Softworks",
          "Nintendo",
          "Electronic Arts",
          "Nintendo",
          "Microsoft Game Studios",
          "Nintendo",
          "Nintendo",
          "Electronic Arts",
          "Electronic Arts",
          "Nintendo",
          "Sega",
          "Sony Computer Entertainment",
          "SquareSoft",
          "Nintendo",
          "Atari",
          "Take-Two Interactive",
          "Nintendo",
          "Electronic Arts",
          "Activision",
          "Nintendo",
          "Sony Computer Entertainment",
          "Nintendo",
          "Nintendo",
          "Activision",
          "Electronic Arts"
         ],
         "z": [
          1,
          0.4363395225464192,
          0.37771883289124675,
          0.34031830238726796,
          0.31870026525198947,
          0.30397877984084887,
          0.3006631299734749,
          0.2875331564986738,
          0.2822281167108754,
          0.2781167108753316,
          0.23103448275862074,
          0.21326259946949608,
          0.20901856763925733,
          0.2039787798408488,
          0.1944297082228117,
          0.19204244031830242,
          0.18647214854111407,
          0.17864721485411142,
          0.17599469496021222,
          0.17082228116710876,
          0.14615384615384616,
          0.14323607427055707,
          0.13183023872679048,
          0.11989389920424404,
          0.11684350132625994,
          0.11286472148541116,
          0.10583554376657826,
          0.10557029177718835,
          0.10132625994694962,
          0.09840848806366048,
          0.09681697612732097,
          0.09681697612732097,
          0.09297082228116711,
          0.09151193633952256,
          0.08872679045092839,
          0.0847480106100796,
          0.08183023872679046,
          0.08116710875331568,
          0.07639257294429709,
          0.07559681697612732,
          0.07148541114058357,
          0.06538461538461539,
          0.06458885941644564,
          0.06366047745358092,
          0.061538461538461556,
          0.06047745358090187,
          0.06034482758620691,
          0.05729442970822282,
          0.05543766578249337,
          0.05291777188328913,
          0.05092838196286473,
          0.04880636604774536,
          0.047877984084880636,
          0.04575596816976127,
          0.04549071618037136,
          0.04442970822281167,
          0.04283819628647216,
          0.04257294429708224,
          0.041777188328912473,
          0.04084880636604775,
          0.03872679045092838,
          0.0380636604774536,
          0.03368700265251991,
          0.03355437665782493,
          0.032891246684350145,
          0.032095490716180376,
          0.03156498673740055,
          0.02984084880636605,
          0.028912466843501326,
          0.028514588859416455,
          0.026259946949602132,
          0.025994694960212218,
          0.024668435013262595,
          0.02320954907161804,
          0.022281167108753313,
          0.019893899204244034,
          0.01883289124668435,
          0.015251989389920432,
          0.015251989389920432,
          0.015251989389920432,
          0.014323607427055705,
          0.013129973474801066,
          0.011936339522546425,
          0.010212201591511932,
          0.009946949602122017,
          0.009549071618037145,
          0.009416445623342188,
          0.006896551724137938,
          0.006631299734748012,
          0.006233421750663127,
          0.005039787798408487,
          0.004641909814323615,
          0.004376657824933688,
          0.003448275862068963,
          0.003448275862068963,
          0.0031830238726790485,
          0.0015915119363395242,
          0.0014588859416445668,
          0.000397877984084884,
          0
         ]
        }
       ],
       "layout": {
        "height": 800,
        "scene": {
         "bgcolor": "whitesmoke",
         "xaxis": {
          "title": {
           "font": {
            "color": "rgb(20, 24, 54)"
           },
           "text": "Year"
          }
         },
         "yaxis": {
          "title": {
           "font": {
            "color": "rgb(20, 24, 54)"
           },
           "text": "Publisher"
          }
         },
         "zaxis": {
          "title": {
           "font": {
            "color": "rgb(20, 24, 54)"
           },
           "text": "Global Sales"
          }
         }
        },
        "template": {
         "data": {
          "bar": [
           {
            "error_x": {
             "color": "#2a3f5f"
            },
            "error_y": {
             "color": "#2a3f5f"
            },
            "marker": {
             "line": {
              "color": "#E5ECF6",
              "width": 0.5
             }
            },
            "type": "bar"
           }
          ],
          "barpolar": [
           {
            "marker": {
             "line": {
              "color": "#E5ECF6",
              "width": 0.5
             }
            },
            "type": "barpolar"
           }
          ],
          "carpet": [
           {
            "aaxis": {
             "endlinecolor": "#2a3f5f",
             "gridcolor": "white",
             "linecolor": "white",
             "minorgridcolor": "white",
             "startlinecolor": "#2a3f5f"
            },
            "baxis": {
             "endlinecolor": "#2a3f5f",
             "gridcolor": "white",
             "linecolor": "white",
             "minorgridcolor": "white",
             "startlinecolor": "#2a3f5f"
            },
            "type": "carpet"
           }
          ],
          "choropleth": [
           {
            "colorbar": {
             "outlinewidth": 0,
             "ticks": ""
            },
            "type": "choropleth"
           }
          ],
          "contour": [
           {
            "colorbar": {
             "outlinewidth": 0,
             "ticks": ""
            },
            "colorscale": [
             [
              0,
              "#0d0887"
             ],
             [
              0.1111111111111111,
              "#46039f"
             ],
             [
              0.2222222222222222,
              "#7201a8"
             ],
             [
              0.3333333333333333,
              "#9c179e"
             ],
             [
              0.4444444444444444,
              "#bd3786"
             ],
             [
              0.5555555555555556,
              "#d8576b"
             ],
             [
              0.6666666666666666,
              "#ed7953"
             ],
             [
              0.7777777777777778,
              "#fb9f3a"
             ],
             [
              0.8888888888888888,
              "#fdca26"
             ],
             [
              1,
              "#f0f921"
             ]
            ],
            "type": "contour"
           }
          ],
          "contourcarpet": [
           {
            "colorbar": {
             "outlinewidth": 0,
             "ticks": ""
            },
            "type": "contourcarpet"
           }
          ],
          "heatmap": [
           {
            "colorbar": {
             "outlinewidth": 0,
             "ticks": ""
            },
            "colorscale": [
             [
              0,
              "#0d0887"
             ],
             [
              0.1111111111111111,
              "#46039f"
             ],
             [
              0.2222222222222222,
              "#7201a8"
             ],
             [
              0.3333333333333333,
              "#9c179e"
             ],
             [
              0.4444444444444444,
              "#bd3786"
             ],
             [
              0.5555555555555556,
              "#d8576b"
             ],
             [
              0.6666666666666666,
              "#ed7953"
             ],
             [
              0.7777777777777778,
              "#fb9f3a"
             ],
             [
              0.8888888888888888,
              "#fdca26"
             ],
             [
              1,
              "#f0f921"
             ]
            ],
            "type": "heatmap"
           }
          ],
          "heatmapgl": [
           {
            "colorbar": {
             "outlinewidth": 0,
             "ticks": ""
            },
            "colorscale": [
             [
              0,
              "#0d0887"
             ],
             [
              0.1111111111111111,
              "#46039f"
             ],
             [
              0.2222222222222222,
              "#7201a8"
             ],
             [
              0.3333333333333333,
              "#9c179e"
             ],
             [
              0.4444444444444444,
              "#bd3786"
             ],
             [
              0.5555555555555556,
              "#d8576b"
             ],
             [
              0.6666666666666666,
              "#ed7953"
             ],
             [
              0.7777777777777778,
              "#fb9f3a"
             ],
             [
              0.8888888888888888,
              "#fdca26"
             ],
             [
              1,
              "#f0f921"
             ]
            ],
            "type": "heatmapgl"
           }
          ],
          "histogram": [
           {
            "marker": {
             "colorbar": {
              "outlinewidth": 0,
              "ticks": ""
             }
            },
            "type": "histogram"
           }
          ],
          "histogram2d": [
           {
            "colorbar": {
             "outlinewidth": 0,
             "ticks": ""
            },
            "colorscale": [
             [
              0,
              "#0d0887"
             ],
             [
              0.1111111111111111,
              "#46039f"
             ],
             [
              0.2222222222222222,
              "#7201a8"
             ],
             [
              0.3333333333333333,
              "#9c179e"
             ],
             [
              0.4444444444444444,
              "#bd3786"
             ],
             [
              0.5555555555555556,
              "#d8576b"
             ],
             [
              0.6666666666666666,
              "#ed7953"
             ],
             [
              0.7777777777777778,
              "#fb9f3a"
             ],
             [
              0.8888888888888888,
              "#fdca26"
             ],
             [
              1,
              "#f0f921"
             ]
            ],
            "type": "histogram2d"
           }
          ],
          "histogram2dcontour": [
           {
            "colorbar": {
             "outlinewidth": 0,
             "ticks": ""
            },
            "colorscale": [
             [
              0,
              "#0d0887"
             ],
             [
              0.1111111111111111,
              "#46039f"
             ],
             [
              0.2222222222222222,
              "#7201a8"
             ],
             [
              0.3333333333333333,
              "#9c179e"
             ],
             [
              0.4444444444444444,
              "#bd3786"
             ],
             [
              0.5555555555555556,
              "#d8576b"
             ],
             [
              0.6666666666666666,
              "#ed7953"
             ],
             [
              0.7777777777777778,
              "#fb9f3a"
             ],
             [
              0.8888888888888888,
              "#fdca26"
             ],
             [
              1,
              "#f0f921"
             ]
            ],
            "type": "histogram2dcontour"
           }
          ],
          "mesh3d": [
           {
            "colorbar": {
             "outlinewidth": 0,
             "ticks": ""
            },
            "type": "mesh3d"
           }
          ],
          "parcoords": [
           {
            "line": {
             "colorbar": {
              "outlinewidth": 0,
              "ticks": ""
             }
            },
            "type": "parcoords"
           }
          ],
          "pie": [
           {
            "automargin": true,
            "type": "pie"
           }
          ],
          "scatter": [
           {
            "marker": {
             "colorbar": {
              "outlinewidth": 0,
              "ticks": ""
             }
            },
            "type": "scatter"
           }
          ],
          "scatter3d": [
           {
            "line": {
             "colorbar": {
              "outlinewidth": 0,
              "ticks": ""
             }
            },
            "marker": {
             "colorbar": {
              "outlinewidth": 0,
              "ticks": ""
             }
            },
            "type": "scatter3d"
           }
          ],
          "scattercarpet": [
           {
            "marker": {
             "colorbar": {
              "outlinewidth": 0,
              "ticks": ""
             }
            },
            "type": "scattercarpet"
           }
          ],
          "scattergeo": [
           {
            "marker": {
             "colorbar": {
              "outlinewidth": 0,
              "ticks": ""
             }
            },
            "type": "scattergeo"
           }
          ],
          "scattergl": [
           {
            "marker": {
             "colorbar": {
              "outlinewidth": 0,
              "ticks": ""
             }
            },
            "type": "scattergl"
           }
          ],
          "scattermapbox": [
           {
            "marker": {
             "colorbar": {
              "outlinewidth": 0,
              "ticks": ""
             }
            },
            "type": "scattermapbox"
           }
          ],
          "scatterpolar": [
           {
            "marker": {
             "colorbar": {
              "outlinewidth": 0,
              "ticks": ""
             }
            },
            "type": "scatterpolar"
           }
          ],
          "scatterpolargl": [
           {
            "marker": {
             "colorbar": {
              "outlinewidth": 0,
              "ticks": ""
             }
            },
            "type": "scatterpolargl"
           }
          ],
          "scatterternary": [
           {
            "marker": {
             "colorbar": {
              "outlinewidth": 0,
              "ticks": ""
             }
            },
            "type": "scatterternary"
           }
          ],
          "surface": [
           {
            "colorbar": {
             "outlinewidth": 0,
             "ticks": ""
            },
            "colorscale": [
             [
              0,
              "#0d0887"
             ],
             [
              0.1111111111111111,
              "#46039f"
             ],
             [
              0.2222222222222222,
              "#7201a8"
             ],
             [
              0.3333333333333333,
              "#9c179e"
             ],
             [
              0.4444444444444444,
              "#bd3786"
             ],
             [
              0.5555555555555556,
              "#d8576b"
             ],
             [
              0.6666666666666666,
              "#ed7953"
             ],
             [
              0.7777777777777778,
              "#fb9f3a"
             ],
             [
              0.8888888888888888,
              "#fdca26"
             ],
             [
              1,
              "#f0f921"
             ]
            ],
            "type": "surface"
           }
          ],
          "table": [
           {
            "cells": {
             "fill": {
              "color": "#EBF0F8"
             },
             "line": {
              "color": "white"
             }
            },
            "header": {
             "fill": {
              "color": "#C8D4E3"
             },
             "line": {
              "color": "white"
             }
            },
            "type": "table"
           }
          ]
         },
         "layout": {
          "annotationdefaults": {
           "arrowcolor": "#2a3f5f",
           "arrowhead": 0,
           "arrowwidth": 1
          },
          "coloraxis": {
           "colorbar": {
            "outlinewidth": 0,
            "ticks": ""
           }
          },
          "colorscale": {
           "diverging": [
            [
             0,
             "#8e0152"
            ],
            [
             0.1,
             "#c51b7d"
            ],
            [
             0.2,
             "#de77ae"
            ],
            [
             0.3,
             "#f1b6da"
            ],
            [
             0.4,
             "#fde0ef"
            ],
            [
             0.5,
             "#f7f7f7"
            ],
            [
             0.6,
             "#e6f5d0"
            ],
            [
             0.7,
             "#b8e186"
            ],
            [
             0.8,
             "#7fbc41"
            ],
            [
             0.9,
             "#4d9221"
            ],
            [
             1,
             "#276419"
            ]
           ],
           "sequential": [
            [
             0,
             "#0d0887"
            ],
            [
             0.1111111111111111,
             "#46039f"
            ],
            [
             0.2222222222222222,
             "#7201a8"
            ],
            [
             0.3333333333333333,
             "#9c179e"
            ],
            [
             0.4444444444444444,
             "#bd3786"
            ],
            [
             0.5555555555555556,
             "#d8576b"
            ],
            [
             0.6666666666666666,
             "#ed7953"
            ],
            [
             0.7777777777777778,
             "#fb9f3a"
            ],
            [
             0.8888888888888888,
             "#fdca26"
            ],
            [
             1,
             "#f0f921"
            ]
           ],
           "sequentialminus": [
            [
             0,
             "#0d0887"
            ],
            [
             0.1111111111111111,
             "#46039f"
            ],
            [
             0.2222222222222222,
             "#7201a8"
            ],
            [
             0.3333333333333333,
             "#9c179e"
            ],
            [
             0.4444444444444444,
             "#bd3786"
            ],
            [
             0.5555555555555556,
             "#d8576b"
            ],
            [
             0.6666666666666666,
             "#ed7953"
            ],
            [
             0.7777777777777778,
             "#fb9f3a"
            ],
            [
             0.8888888888888888,
             "#fdca26"
            ],
            [
             1,
             "#f0f921"
            ]
           ]
          },
          "colorway": [
           "#636efa",
           "#EF553B",
           "#00cc96",
           "#ab63fa",
           "#FFA15A",
           "#19d3f3",
           "#FF6692",
           "#B6E880",
           "#FF97FF",
           "#FECB52"
          ],
          "font": {
           "color": "#2a3f5f"
          },
          "geo": {
           "bgcolor": "white",
           "lakecolor": "white",
           "landcolor": "#E5ECF6",
           "showlakes": true,
           "showland": true,
           "subunitcolor": "white"
          },
          "hoverlabel": {
           "align": "left"
          },
          "hovermode": "closest",
          "mapbox": {
           "style": "light"
          },
          "paper_bgcolor": "white",
          "plot_bgcolor": "#E5ECF6",
          "polar": {
           "angularaxis": {
            "gridcolor": "white",
            "linecolor": "white",
            "ticks": ""
           },
           "bgcolor": "#E5ECF6",
           "radialaxis": {
            "gridcolor": "white",
            "linecolor": "white",
            "ticks": ""
           }
          },
          "scene": {
           "xaxis": {
            "backgroundcolor": "#E5ECF6",
            "gridcolor": "white",
            "gridwidth": 2,
            "linecolor": "white",
            "showbackground": true,
            "ticks": "",
            "zerolinecolor": "white"
           },
           "yaxis": {
            "backgroundcolor": "#E5ECF6",
            "gridcolor": "white",
            "gridwidth": 2,
            "linecolor": "white",
            "showbackground": true,
            "ticks": "",
            "zerolinecolor": "white"
           },
           "zaxis": {
            "backgroundcolor": "#E5ECF6",
            "gridcolor": "white",
            "gridwidth": 2,
            "linecolor": "white",
            "showbackground": true,
            "ticks": "",
            "zerolinecolor": "white"
           }
          },
          "shapedefaults": {
           "line": {
            "color": "#2a3f5f"
           }
          },
          "ternary": {
           "aaxis": {
            "gridcolor": "white",
            "linecolor": "white",
            "ticks": ""
           },
           "baxis": {
            "gridcolor": "white",
            "linecolor": "white",
            "ticks": ""
           },
           "bgcolor": "#E5ECF6",
           "caxis": {
            "gridcolor": "white",
            "linecolor": "white",
            "ticks": ""
           }
          },
          "title": {
           "x": 0.05
          },
          "xaxis": {
           "automargin": true,
           "gridcolor": "white",
           "linecolor": "white",
           "ticks": "",
           "title": {
            "standoff": 15
           },
           "zerolinecolor": "white",
           "zerolinewidth": 2
          },
          "yaxis": {
           "automargin": true,
           "gridcolor": "white",
           "linecolor": "white",
           "ticks": "",
           "title": {
            "standoff": 15
           },
           "zerolinecolor": "white",
           "zerolinewidth": 2
          }
         }
        },
        "title": {
         "font": {
          "color": "rgb(20, 24, 54)"
         },
         "text": "Top 1000 Video Games, Release Years, Publishers and Sales"
        },
        "width": 800
       }
      },
      "text/html": [
       "<div>                            <div id=\"3fe4d550-1319-4d6b-aea2-3ed3c0590630\" class=\"plotly-graph-div\" style=\"height:800px; width:800px;\"></div>            <script type=\"text/javascript\">                require([\"plotly\"], function(Plotly) {                    window.PLOTLYENV=window.PLOTLYENV || {};                                    if (document.getElementById(\"3fe4d550-1319-4d6b-aea2-3ed3c0590630\")) {                    Plotly.newPlot(                        \"3fe4d550-1319-4d6b-aea2-3ed3c0590630\",                        [{\"marker\": {\"color\": [1.0, 0.4363395225464192, 0.37771883289124675, 0.34031830238726796, 0.31870026525198947, 0.30397877984084887, 0.3006631299734749, 0.2875331564986738, 0.2822281167108754, 0.2781167108753316, 0.23103448275862074, 0.21326259946949608, 0.20901856763925733, 0.2039787798408488, 0.1944297082228117, 0.19204244031830242, 0.18647214854111407, 0.17864721485411142, 0.17599469496021222, 0.17082228116710876, 0.14615384615384616, 0.14323607427055707, 0.13183023872679048, 0.11989389920424404, 0.11684350132625994, 0.11286472148541116, 0.10583554376657826, 0.10557029177718835, 0.10132625994694962, 0.09840848806366048, 0.09681697612732097, 0.09681697612732097, 0.09297082228116711, 0.09151193633952256, 0.08872679045092839, 0.0847480106100796, 0.08183023872679046, 0.08116710875331568, 0.07639257294429709, 0.07559681697612732, 0.07148541114058357, 0.06538461538461539, 0.06458885941644564, 0.06366047745358092, 0.061538461538461556, 0.06047745358090187, 0.06034482758620691, 0.05729442970822282, 0.05543766578249337, 0.05291777188328913, 0.05092838196286473, 0.04880636604774536, 0.047877984084880636, 0.04575596816976127, 0.04549071618037136, 0.04442970822281167, 0.04283819628647216, 0.04257294429708224, 0.041777188328912473, 0.04084880636604775, 0.03872679045092838, 0.0380636604774536, 0.03368700265251991, 0.03355437665782493, 0.032891246684350145, 0.032095490716180376, 0.03156498673740055, 0.02984084880636605, 0.028912466843501326, 0.028514588859416455, 0.026259946949602132, 0.025994694960212218, 0.024668435013262595, 0.02320954907161804, 0.022281167108753313, 0.019893899204244034, 0.01883289124668435, 0.015251989389920432, 0.015251989389920432, 0.015251989389920432, 0.014323607427055705, 0.013129973474801066, 0.011936339522546425, 0.010212201591511932, 0.009946949602122017, 0.009549071618037145, 0.009416445623342188, 0.006896551724137938, 0.006631299734748012, 0.006233421750663127, 0.005039787798408487, 0.004641909814323615, 0.004376657824933688, 0.003448275862068963, 0.003448275862068963, 0.0031830238726790485, 0.0015915119363395242, 0.0014588859416445668, 0.000397877984084884, 0.0], \"colorbar\": {\"title\": {\"text\": \"Global Sales\"}}, \"colorscale\": [[0.0, \"rgb(150,0,90)\"], [0.125, \"rgb(0,0,200)\"], [0.25, \"rgb(0,25,255)\"], [0.375, \"rgb(0,152,255)\"], [0.5, \"rgb(44,255,150)\"], [0.625, \"rgb(151,255,0)\"], [0.75, \"rgb(255,234,0)\"], [0.875, \"rgb(255,111,0)\"], [1.0, \"rgb(255,0,0)\"]], \"line\": {\"color\": \"rgb(140, 140, 170)\"}, \"size\": [41.49, 29.08, 15.85, 15.75, 11.27, 23.2, 11.38, 14.03, 14.59, 26.93, 9.07, 9.81, 9.0, 8.94, 9.09, 14.97, 7.01, 9.43, 12.78, 4.75, 6.42, 10.83, 9.54, 9.63, 8.41, 6.06, 5.57, 3.44, 6.85, 9.03, 5.89, 9.67, 5.17, 5.77, 4.99, 8.25, 8.52, 5.54, 6.99, 6.75, 5.98, 2.55, 4.74, 7.97, 3.8, 4.4, 6.91, 3.01, 6.16, 4.23, 6.16, 6.76, 4.02, 4.89, 2.96, 4.99, 4.76, 5.99, 4.34, 5.08, 6.05, 6.72, 7.03, 5.55, 3.66, 6.63, 3.01, 4.09, 5.84, 3.88, 5.91, 4.36, 5.58, 2.01, 4.46, 5.03, 3.54, 1.11, 1.79, 6.82, 3.81, 2.91, 1.06, 0.98, 5.8, 2.58, 2.91, 2.28, 2.82, 7.28, 2.9, 3.66, 2.93, 2.8, 4.1, 3.78, 5.39, 3.24, 4.79, 4.46]}, \"mode\": \"markers\", \"text\": [\"Name:Wii Sports, Rank:1 Global Sales: 82.74 millions\", \"Name:Super Mario Bros., Rank:2 Global Sales: 40.24 millions\", \"Name:Mario Kart Wii, Rank:3 Global Sales: 35.82 millions\", \"Name:Wii Sports Resort, Rank:4 Global Sales: 33.0 millions\", \"Name:Pokemon Red/Pokemon Blue, Rank:5 Global Sales: 31.37 millions\", \"Name:Tetris, Rank:6 Global Sales: 30.26 millions\", \"Name:New Super Mario Bros., Rank:7 Global Sales: 30.01 millions\", \"Name:Wii Play, Rank:8 Global Sales: 29.02 millions\", \"Name:New Super Mario Bros. Wii, Rank:9 Global Sales: 28.62 millions\", \"Name:Duck Hunt, Rank:10 Global Sales: 28.31 millions\", \"Name:Nintendogs, Rank:11 Global Sales: 24.76 millions\", \"Name:Mario Kart DS, Rank:12 Global Sales: 23.42 millions\", \"Name:Pokemon Gold/Pokemon Silver, Rank:13 Global Sales: 23.1 millions\", \"Name:Wii Fit, Rank:14 Global Sales: 22.72 millions\", \"Name:Wii Fit Plus, Rank:15 Global Sales: 22.0 millions\", \"Name:Kinect Adventures!, Rank:16 Global Sales: 21.82 millions\", \"Name:Grand Theft Auto V, Rank:17 Global Sales: 21.4 millions\", \"Name:Grand Theft Auto: San Andreas, Rank:18 Global Sales: 20.81 millions\", \"Name:Super Mario World, Rank:19 Global Sales: 20.61 millions\", \"Name:Brain Age: Train Your Brain in Minutes a Day, Rank:20 Global Sales: 20.22 millions\", \"Name:Pokemon Diamond/Pokemon Pearl, Rank:21 Global Sales: 18.36 millions\", \"Name:Super Mario Land, Rank:22 Global Sales: 18.14 millions\", \"Name:Super Mario Bros. 3, Rank:23 Global Sales: 17.28 millions\", \"Name:Grand Theft Auto V, Rank:24 Global Sales: 16.38 millions\", \"Name:Grand Theft Auto: Vice City, Rank:25 Global Sales: 16.15 millions\", \"Name:Pokemon Ruby/Pokemon Sapphire, Rank:26 Global Sales: 15.85 millions\", \"Name:Pokemon Black/Pokemon White, Rank:27 Global Sales: 15.32 millions\", \"Name:Brain Age 2: More Training in Minutes a Day, Rank:28 Global Sales: 15.3 millions\", \"Name:Gran Turismo 3: A-Spec, Rank:29 Global Sales: 14.98 millions\", \"Name:Call of Duty: Modern Warfare 3, Rank:30 Global Sales: 14.76 millions\", \"Name:Pok\\u00e9mon Yellow: Special Pikachu Edition, Rank:31 Global Sales: 14.64 millions\", \"Name:Call of Duty: Black Ops, Rank:32 Global Sales: 14.64 millions\", \"Name:Pokemon X/Pokemon Y, Rank:33 Global Sales: 14.35 millions\", \"Name:Call of Duty: Black Ops 3, Rank:34 Global Sales: 14.24 millions\", \"Name:Call of Duty: Black Ops II, Rank:35 Global Sales: 14.03 millions\", \"Name:Call of Duty: Black Ops II, Rank:36 Global Sales: 13.73 millions\", \"Name:Call of Duty: Modern Warfare 2, Rank:37 Global Sales: 13.51 millions\", \"Name:Call of Duty: Modern Warfare 3, Rank:38 Global Sales: 13.46 millions\", \"Name:Grand Theft Auto III, Rank:39 Global Sales: 13.1 millions\", \"Name:Super Smash Bros. Brawl, Rank:40 Global Sales: 13.04 millions\", \"Name:Call of Duty: Black Ops, Rank:41 Global Sales: 12.73 millions\", \"Name:Animal Crossing: Wild World, Rank:42 Global Sales: 12.27 millions\", \"Name:Mario Kart 7, Rank:43 Global Sales: 12.21 millions\", \"Name:Halo 3, Rank:44 Global Sales: 12.14 millions\", \"Name:Grand Theft Auto V, Rank:45 Global Sales: 11.98 millions\", \"Name:Pokemon HeartGold/Pokemon SoulSilver, Rank:46 Global Sales: 11.9 millions\", \"Name:Super Mario 64, Rank:47 Global Sales: 11.89 millions\", \"Name:Gran Turismo 4, Rank:48 Global Sales: 11.66 millions\", \"Name:Super Mario Galaxy, Rank:49 Global Sales: 11.52 millions\", \"Name:Pokemon Omega Ruby/Pokemon Alpha Sapphire, Rank:50 Global Sales: 11.33 millions\", \"Name:Super Mario Land 2: 6 Golden Coins, Rank:51 Global Sales: 11.18 millions\", \"Name:Grand Theft Auto IV, Rank:52 Global Sales: 11.02 millions\", \"Name:Gran Turismo, Rank:53 Global Sales: 10.95 millions\", \"Name:Super Mario 3D Land, Rank:54 Global Sales: 10.79 millions\", \"Name:Gran Turismo 5, Rank:55 Global Sales: 10.77 millions\", \"Name:Call of Duty: Modern Warfare 2, Rank:56 Global Sales: 10.69 millions\", \"Name:Grand Theft Auto IV, Rank:57 Global Sales: 10.57 millions\", \"Name:Super Mario All-Stars, Rank:58 Global Sales: 10.55 millions\", \"Name:Pokemon FireRed/Pokemon LeafGreen, Rank:59 Global Sales: 10.49 millions\", \"Name:Super Mario 64, Rank:60 Global Sales: 10.42 millions\", \"Name:Just Dance 3, Rank:61 Global Sales: 10.26 millions\", \"Name:Call of Duty: Ghosts, Rank:62 Global Sales: 10.21 millions\", \"Name:Halo: Reach, Rank:63 Global Sales: 9.88 millions\", \"Name:Mario Kart 64, Rank:64 Global Sales: 9.87 millions\", \"Name:New Super Mario Bros. 2, Rank:65 Global Sales: 9.82 millions\", \"Name:Halo 4, Rank:66 Global Sales: 9.76 millions\", \"Name:Final Fantasy VII, Rank:67 Global Sales: 9.72 millions\", \"Name:Call of Duty: Ghosts, Rank:68 Global Sales: 9.59 millions\", \"Name:Just Dance 2, Rank:69 Global Sales: 9.52 millions\", \"Name:Gran Turismo 2, Rank:70 Global Sales: 9.49 millions\", \"Name:Call of Duty 4: Modern Warfare, Rank:71 Global Sales: 9.32 millions\", \"Name:Donkey Kong Country, Rank:72 Global Sales: 9.3 millions\", \"Name:Minecraft, Rank:73 Global Sales: 9.2 millions\", \"Name:Animal Crossing: New Leaf, Rank:74 Global Sales: 9.09 millions\", \"Name:Mario Party DS, Rank:75 Global Sales: 9.02 millions\", \"Name:The Elder Scrolls V: Skyrim, Rank:76 Global Sales: 8.84 millions\", \"Name:Super Mario Kart, Rank:77 Global Sales: 8.76 millions\", \"Name:FIFA 16, Rank:78 Global Sales: 8.49 millions\", \"Name:Wii Party, Rank:79 Global Sales: 8.49 millions\", \"Name:Halo 2, Rank:80 Global Sales: 8.49 millions\", \"Name:Mario Party 8, Rank:81 Global Sales: 8.42 millions\", \"Name:Pokemon Black 2/Pokemon White 2, Rank:82 Global Sales: 8.33 millions\", \"Name:FIFA Soccer 13, Rank:83 Global Sales: 8.24 millions\", \"Name:The Sims 3, Rank:84 Global Sales: 8.11 millions\", \"Name:GoldenEye 007, Rank:85 Global Sales: 8.09 millions\", \"Name:Mario & Sonic at the Olympic Games, Rank:86 Global Sales: 8.06 millions\", \"Name:Final Fantasy X, Rank:87 Global Sales: 8.05 millions\", \"Name:Final Fantasy VIII, Rank:88 Global Sales: 7.86 millions\", \"Name:Pok\\u00e9mon Platinum Version, Rank:89 Global Sales: 7.84 millions\", \"Name:Pac-Man, Rank:90 Global Sales: 7.81 millions\", \"Name:Grand Theft Auto: Liberty City Stories, Rank:91 Global Sales: 7.72 millions\", \"Name:Super Mario Galaxy 2, Rank:92 Global Sales: 7.69 millions\", \"Name:Star Wars Battlefront (2015), Rank:93 Global Sales: 7.67 millions\", \"Name:Call of Duty: Advanced Warfare, Rank:94 Global Sales: 7.6 millions\", \"Name:The Legend of Zelda: Ocarina of Time, Rank:95 Global Sales: 7.6 millions\", \"Name:Crash Bandicoot 2: Cortex Strikes Back, Rank:96 Global Sales: 7.58 millions\", \"Name:Super Mario Bros. 2, Rank:97 Global Sales: 7.46 millions\", \"Name:Super Smash Bros. for Wii U and 3DS, Rank:98 Global Sales: 7.45 millions\", \"Name:Call of Duty: World at War, Rank:99 Global Sales: 7.37 millions\", \"Name:Battlefield 3, Rank:100 Global Sales: 7.34 millions\"], \"type\": \"scatter3d\", \"x\": [2006.0, 1985.0, 2008.0, 2009.0, 1996.0, 1989.0, 2006.0, 2006.0, 2009.0, 1984.0, 2005.0, 2005.0, 1999.0, 2007.0, 2009.0, 2010.0, 2013.0, 2004.0, 1990.0, 2005.0, 2006.0, 1989.0, 1988.0, 2013.0, 2002.0, 2002.0, 2010.0, 2005.0, 2001.0, 2011.0, 1998.0, 2010.0, 2013.0, 2015.0, 2012.0, 2012.0, 2009.0, 2011.0, 2001.0, 2008.0, 2010.0, 2005.0, 2011.0, 2007.0, 2014.0, 2009.0, 1996.0, 2004.0, 2007.0, 2014.0, 1992.0, 2008.0, 1997.0, 2011.0, 2010.0, 2009.0, 2008.0, 1993.0, 2004.0, 2004.0, 2011.0, 2013.0, 2010.0, 1996.0, 2012.0, 2012.0, 1997.0, 2013.0, 2010.0, 1999.0, 2007.0, 1994.0, 2013.0, 2012.0, 2007.0, 2011.0, 1992.0, 2015.0, 2010.0, 2004.0, 2007.0, 2012.0, 2012.0, 2009.0, 1997.0, 2007.0, 2001.0, 1999.0, 2008.0, 1982.0, 2005.0, 2010.0, 2015.0, 2014.0, 1998.0, 1997.0, 1988.0, 2014.0, 2008.0, 2011.0], \"y\": [\"Nintendo\", \"Nintendo\", \"Nintendo\", \"Nintendo\", \"Nintendo\", \"Nintendo\", \"Nintendo\", \"Nintendo\", \"Nintendo\", \"Nintendo\", \"Nintendo\", \"Nintendo\", \"Nintendo\", \"Nintendo\", \"Nintendo\", \"Microsoft Game Studios\", \"Take-Two Interactive\", \"Take-Two Interactive\", \"Nintendo\", \"Nintendo\", \"Nintendo\", \"Nintendo\", \"Nintendo\", \"Take-Two Interactive\", \"Take-Two Interactive\", \"Nintendo\", \"Nintendo\", \"Nintendo\", \"Sony Computer Entertainment\", \"Activision\", \"Nintendo\", \"Activision\", \"Nintendo\", \"Activision\", \"Activision\", \"Activision\", \"Activision\", \"Activision\", \"Take-Two Interactive\", \"Nintendo\", \"Activision\", \"Nintendo\", \"Nintendo\", \"Microsoft Game Studios\", \"Take-Two Interactive\", \"Nintendo\", \"Nintendo\", \"Sony Computer Entertainment\", \"Nintendo\", \"Nintendo\", \"Nintendo\", \"Take-Two Interactive\", \"Sony Computer Entertainment\", \"Nintendo\", \"Sony Computer Entertainment\", \"Activision\", \"Take-Two Interactive\", \"Nintendo\", \"Nintendo\", \"Nintendo\", \"Ubisoft\", \"Activision\", \"Microsoft Game Studios\", \"Nintendo\", \"Nintendo\", \"Microsoft Game Studios\", \"Sony Computer Entertainment\", \"Activision\", \"Ubisoft\", \"Sony Computer Entertainment\", \"Activision\", \"Nintendo\", \"Microsoft Game Studios\", \"Nintendo\", \"Nintendo\", \"Bethesda Softworks\", \"Nintendo\", \"Electronic Arts\", \"Nintendo\", \"Microsoft Game Studios\", \"Nintendo\", \"Nintendo\", \"Electronic Arts\", \"Electronic Arts\", \"Nintendo\", \"Sega\", \"Sony Computer Entertainment\", \"SquareSoft\", \"Nintendo\", \"Atari\", \"Take-Two Interactive\", \"Nintendo\", \"Electronic Arts\", \"Activision\", \"Nintendo\", \"Sony Computer Entertainment\", \"Nintendo\", \"Nintendo\", \"Activision\", \"Electronic Arts\"], \"z\": [1.0, 0.4363395225464192, 0.37771883289124675, 0.34031830238726796, 0.31870026525198947, 0.30397877984084887, 0.3006631299734749, 0.2875331564986738, 0.2822281167108754, 0.2781167108753316, 0.23103448275862074, 0.21326259946949608, 0.20901856763925733, 0.2039787798408488, 0.1944297082228117, 0.19204244031830242, 0.18647214854111407, 0.17864721485411142, 0.17599469496021222, 0.17082228116710876, 0.14615384615384616, 0.14323607427055707, 0.13183023872679048, 0.11989389920424404, 0.11684350132625994, 0.11286472148541116, 0.10583554376657826, 0.10557029177718835, 0.10132625994694962, 0.09840848806366048, 0.09681697612732097, 0.09681697612732097, 0.09297082228116711, 0.09151193633952256, 0.08872679045092839, 0.0847480106100796, 0.08183023872679046, 0.08116710875331568, 0.07639257294429709, 0.07559681697612732, 0.07148541114058357, 0.06538461538461539, 0.06458885941644564, 0.06366047745358092, 0.061538461538461556, 0.06047745358090187, 0.06034482758620691, 0.05729442970822282, 0.05543766578249337, 0.05291777188328913, 0.05092838196286473, 0.04880636604774536, 0.047877984084880636, 0.04575596816976127, 0.04549071618037136, 0.04442970822281167, 0.04283819628647216, 0.04257294429708224, 0.041777188328912473, 0.04084880636604775, 0.03872679045092838, 0.0380636604774536, 0.03368700265251991, 0.03355437665782493, 0.032891246684350145, 0.032095490716180376, 0.03156498673740055, 0.02984084880636605, 0.028912466843501326, 0.028514588859416455, 0.026259946949602132, 0.025994694960212218, 0.024668435013262595, 0.02320954907161804, 0.022281167108753313, 0.019893899204244034, 0.01883289124668435, 0.015251989389920432, 0.015251989389920432, 0.015251989389920432, 0.014323607427055705, 0.013129973474801066, 0.011936339522546425, 0.010212201591511932, 0.009946949602122017, 0.009549071618037145, 0.009416445623342188, 0.006896551724137938, 0.006631299734748012, 0.006233421750663127, 0.005039787798408487, 0.004641909814323615, 0.004376657824933688, 0.003448275862068963, 0.003448275862068963, 0.0031830238726790485, 0.0015915119363395242, 0.0014588859416445668, 0.000397877984084884, 0.0]}],                        {\"height\": 800, \"scene\": {\"bgcolor\": \"whitesmoke\", \"xaxis\": {\"title\": {\"font\": {\"color\": \"rgb(20, 24, 54)\"}, \"text\": \"Year\"}}, \"yaxis\": {\"title\": {\"font\": {\"color\": \"rgb(20, 24, 54)\"}, \"text\": \"Publisher\"}}, \"zaxis\": {\"title\": {\"font\": {\"color\": \"rgb(20, 24, 54)\"}, \"text\": \"Global Sales\"}}}, \"template\": {\"data\": {\"bar\": [{\"error_x\": {\"color\": \"#2a3f5f\"}, \"error_y\": {\"color\": \"#2a3f5f\"}, \"marker\": {\"line\": {\"color\": \"#E5ECF6\", \"width\": 0.5}}, \"type\": \"bar\"}], \"barpolar\": [{\"marker\": {\"line\": {\"color\": \"#E5ECF6\", \"width\": 0.5}}, \"type\": \"barpolar\"}], \"carpet\": [{\"aaxis\": {\"endlinecolor\": \"#2a3f5f\", \"gridcolor\": \"white\", \"linecolor\": \"white\", \"minorgridcolor\": \"white\", \"startlinecolor\": \"#2a3f5f\"}, \"baxis\": {\"endlinecolor\": \"#2a3f5f\", \"gridcolor\": \"white\", \"linecolor\": \"white\", \"minorgridcolor\": \"white\", \"startlinecolor\": \"#2a3f5f\"}, \"type\": \"carpet\"}], \"choropleth\": [{\"colorbar\": {\"outlinewidth\": 0, \"ticks\": \"\"}, \"type\": \"choropleth\"}], \"contour\": [{\"colorbar\": {\"outlinewidth\": 0, \"ticks\": \"\"}, \"colorscale\": [[0.0, \"#0d0887\"], [0.1111111111111111, \"#46039f\"], [0.2222222222222222, \"#7201a8\"], [0.3333333333333333, \"#9c179e\"], [0.4444444444444444, \"#bd3786\"], [0.5555555555555556, \"#d8576b\"], [0.6666666666666666, \"#ed7953\"], [0.7777777777777778, \"#fb9f3a\"], [0.8888888888888888, \"#fdca26\"], [1.0, \"#f0f921\"]], \"type\": \"contour\"}], \"contourcarpet\": [{\"colorbar\": {\"outlinewidth\": 0, \"ticks\": \"\"}, \"type\": \"contourcarpet\"}], \"heatmap\": [{\"colorbar\": {\"outlinewidth\": 0, \"ticks\": \"\"}, \"colorscale\": [[0.0, \"#0d0887\"], [0.1111111111111111, \"#46039f\"], [0.2222222222222222, \"#7201a8\"], [0.3333333333333333, \"#9c179e\"], [0.4444444444444444, \"#bd3786\"], [0.5555555555555556, \"#d8576b\"], [0.6666666666666666, \"#ed7953\"], [0.7777777777777778, \"#fb9f3a\"], [0.8888888888888888, \"#fdca26\"], [1.0, \"#f0f921\"]], \"type\": \"heatmap\"}], \"heatmapgl\": [{\"colorbar\": {\"outlinewidth\": 0, \"ticks\": \"\"}, \"colorscale\": [[0.0, \"#0d0887\"], [0.1111111111111111, \"#46039f\"], [0.2222222222222222, \"#7201a8\"], [0.3333333333333333, \"#9c179e\"], [0.4444444444444444, \"#bd3786\"], [0.5555555555555556, \"#d8576b\"], [0.6666666666666666, \"#ed7953\"], [0.7777777777777778, \"#fb9f3a\"], [0.8888888888888888, \"#fdca26\"], [1.0, \"#f0f921\"]], \"type\": \"heatmapgl\"}], \"histogram\": [{\"marker\": {\"colorbar\": {\"outlinewidth\": 0, \"ticks\": \"\"}}, \"type\": \"histogram\"}], \"histogram2d\": [{\"colorbar\": {\"outlinewidth\": 0, \"ticks\": \"\"}, \"colorscale\": [[0.0, \"#0d0887\"], [0.1111111111111111, \"#46039f\"], [0.2222222222222222, \"#7201a8\"], [0.3333333333333333, \"#9c179e\"], [0.4444444444444444, \"#bd3786\"], [0.5555555555555556, \"#d8576b\"], [0.6666666666666666, \"#ed7953\"], [0.7777777777777778, \"#fb9f3a\"], [0.8888888888888888, \"#fdca26\"], [1.0, \"#f0f921\"]], \"type\": \"histogram2d\"}], \"histogram2dcontour\": [{\"colorbar\": {\"outlinewidth\": 0, \"ticks\": \"\"}, \"colorscale\": [[0.0, \"#0d0887\"], [0.1111111111111111, \"#46039f\"], [0.2222222222222222, \"#7201a8\"], [0.3333333333333333, \"#9c179e\"], [0.4444444444444444, \"#bd3786\"], [0.5555555555555556, \"#d8576b\"], [0.6666666666666666, \"#ed7953\"], [0.7777777777777778, \"#fb9f3a\"], [0.8888888888888888, \"#fdca26\"], [1.0, \"#f0f921\"]], \"type\": \"histogram2dcontour\"}], \"mesh3d\": [{\"colorbar\": {\"outlinewidth\": 0, \"ticks\": \"\"}, \"type\": \"mesh3d\"}], \"parcoords\": [{\"line\": {\"colorbar\": {\"outlinewidth\": 0, \"ticks\": \"\"}}, \"type\": \"parcoords\"}], \"pie\": [{\"automargin\": true, \"type\": \"pie\"}], \"scatter\": [{\"marker\": {\"colorbar\": {\"outlinewidth\": 0, \"ticks\": \"\"}}, \"type\": \"scatter\"}], \"scatter3d\": [{\"line\": {\"colorbar\": {\"outlinewidth\": 0, \"ticks\": \"\"}}, \"marker\": {\"colorbar\": {\"outlinewidth\": 0, \"ticks\": \"\"}}, \"type\": \"scatter3d\"}], \"scattercarpet\": [{\"marker\": {\"colorbar\": {\"outlinewidth\": 0, \"ticks\": \"\"}}, \"type\": \"scattercarpet\"}], \"scattergeo\": [{\"marker\": {\"colorbar\": {\"outlinewidth\": 0, \"ticks\": \"\"}}, \"type\": \"scattergeo\"}], \"scattergl\": [{\"marker\": {\"colorbar\": {\"outlinewidth\": 0, \"ticks\": \"\"}}, \"type\": \"scattergl\"}], \"scattermapbox\": [{\"marker\": {\"colorbar\": {\"outlinewidth\": 0, \"ticks\": \"\"}}, \"type\": \"scattermapbox\"}], \"scatterpolar\": [{\"marker\": {\"colorbar\": {\"outlinewidth\": 0, \"ticks\": \"\"}}, \"type\": \"scatterpolar\"}], \"scatterpolargl\": [{\"marker\": {\"colorbar\": {\"outlinewidth\": 0, \"ticks\": \"\"}}, \"type\": \"scatterpolargl\"}], \"scatterternary\": [{\"marker\": {\"colorbar\": {\"outlinewidth\": 0, \"ticks\": \"\"}}, \"type\": \"scatterternary\"}], \"surface\": [{\"colorbar\": {\"outlinewidth\": 0, \"ticks\": \"\"}, \"colorscale\": [[0.0, \"#0d0887\"], [0.1111111111111111, \"#46039f\"], [0.2222222222222222, \"#7201a8\"], [0.3333333333333333, \"#9c179e\"], [0.4444444444444444, \"#bd3786\"], [0.5555555555555556, \"#d8576b\"], [0.6666666666666666, \"#ed7953\"], [0.7777777777777778, \"#fb9f3a\"], [0.8888888888888888, \"#fdca26\"], [1.0, \"#f0f921\"]], \"type\": \"surface\"}], \"table\": [{\"cells\": {\"fill\": {\"color\": \"#EBF0F8\"}, \"line\": {\"color\": \"white\"}}, \"header\": {\"fill\": {\"color\": \"#C8D4E3\"}, \"line\": {\"color\": \"white\"}}, \"type\": \"table\"}]}, \"layout\": {\"annotationdefaults\": {\"arrowcolor\": \"#2a3f5f\", \"arrowhead\": 0, \"arrowwidth\": 1}, \"coloraxis\": {\"colorbar\": {\"outlinewidth\": 0, \"ticks\": \"\"}}, \"colorscale\": {\"diverging\": [[0, \"#8e0152\"], [0.1, \"#c51b7d\"], [0.2, \"#de77ae\"], [0.3, \"#f1b6da\"], [0.4, \"#fde0ef\"], [0.5, \"#f7f7f7\"], [0.6, \"#e6f5d0\"], [0.7, \"#b8e186\"], [0.8, \"#7fbc41\"], [0.9, \"#4d9221\"], [1, \"#276419\"]], \"sequential\": [[0.0, \"#0d0887\"], [0.1111111111111111, \"#46039f\"], [0.2222222222222222, \"#7201a8\"], [0.3333333333333333, \"#9c179e\"], [0.4444444444444444, \"#bd3786\"], [0.5555555555555556, \"#d8576b\"], [0.6666666666666666, \"#ed7953\"], [0.7777777777777778, \"#fb9f3a\"], [0.8888888888888888, \"#fdca26\"], [1.0, \"#f0f921\"]], \"sequentialminus\": [[0.0, \"#0d0887\"], [0.1111111111111111, \"#46039f\"], [0.2222222222222222, \"#7201a8\"], [0.3333333333333333, \"#9c179e\"], [0.4444444444444444, \"#bd3786\"], [0.5555555555555556, \"#d8576b\"], [0.6666666666666666, \"#ed7953\"], [0.7777777777777778, \"#fb9f3a\"], [0.8888888888888888, \"#fdca26\"], [1.0, \"#f0f921\"]]}, \"colorway\": [\"#636efa\", \"#EF553B\", \"#00cc96\", \"#ab63fa\", \"#FFA15A\", \"#19d3f3\", \"#FF6692\", \"#B6E880\", \"#FF97FF\", \"#FECB52\"], \"font\": {\"color\": \"#2a3f5f\"}, \"geo\": {\"bgcolor\": \"white\", \"lakecolor\": \"white\", \"landcolor\": \"#E5ECF6\", \"showlakes\": true, \"showland\": true, \"subunitcolor\": \"white\"}, \"hoverlabel\": {\"align\": \"left\"}, \"hovermode\": \"closest\", \"mapbox\": {\"style\": \"light\"}, \"paper_bgcolor\": \"white\", \"plot_bgcolor\": \"#E5ECF6\", \"polar\": {\"angularaxis\": {\"gridcolor\": \"white\", \"linecolor\": \"white\", \"ticks\": \"\"}, \"bgcolor\": \"#E5ECF6\", \"radialaxis\": {\"gridcolor\": \"white\", \"linecolor\": \"white\", \"ticks\": \"\"}}, \"scene\": {\"xaxis\": {\"backgroundcolor\": \"#E5ECF6\", \"gridcolor\": \"white\", \"gridwidth\": 2, \"linecolor\": \"white\", \"showbackground\": true, \"ticks\": \"\", \"zerolinecolor\": \"white\"}, \"yaxis\": {\"backgroundcolor\": \"#E5ECF6\", \"gridcolor\": \"white\", \"gridwidth\": 2, \"linecolor\": \"white\", \"showbackground\": true, \"ticks\": \"\", \"zerolinecolor\": \"white\"}, \"zaxis\": {\"backgroundcolor\": \"#E5ECF6\", \"gridcolor\": \"white\", \"gridwidth\": 2, \"linecolor\": \"white\", \"showbackground\": true, \"ticks\": \"\", \"zerolinecolor\": \"white\"}}, \"shapedefaults\": {\"line\": {\"color\": \"#2a3f5f\"}}, \"ternary\": {\"aaxis\": {\"gridcolor\": \"white\", \"linecolor\": \"white\", \"ticks\": \"\"}, \"baxis\": {\"gridcolor\": \"white\", \"linecolor\": \"white\", \"ticks\": \"\"}, \"bgcolor\": \"#E5ECF6\", \"caxis\": {\"gridcolor\": \"white\", \"linecolor\": \"white\", \"ticks\": \"\"}}, \"title\": {\"x\": 0.05}, \"xaxis\": {\"automargin\": true, \"gridcolor\": \"white\", \"linecolor\": \"white\", \"ticks\": \"\", \"title\": {\"standoff\": 15}, \"zerolinecolor\": \"white\", \"zerolinewidth\": 2}, \"yaxis\": {\"automargin\": true, \"gridcolor\": \"white\", \"linecolor\": \"white\", \"ticks\": \"\", \"title\": {\"standoff\": 15}, \"zerolinecolor\": \"white\", \"zerolinewidth\": 2}}}, \"title\": {\"font\": {\"color\": \"rgb(20, 24, 54)\"}, \"text\": \"Top 1000 Video Games, Release Years, Publishers and Sales\"}, \"width\": 800},                        {\"responsive\": true}                    ).then(function(){\n",
       "                            \n",
       "var gd = document.getElementById('3fe4d550-1319-4d6b-aea2-3ed3c0590630');\n",
       "var x = new MutationObserver(function (mutations, observer) {{\n",
       "        var display = window.getComputedStyle(gd).display;\n",
       "        if (!display || display === 'none') {{\n",
       "            console.log([gd, 'removed!']);\n",
       "            Plotly.purge(gd);\n",
       "            observer.disconnect();\n",
       "        }}\n",
       "}});\n",
       "\n",
       "// Listen for the removal of the full notebook cells\n",
       "var notebookContainer = gd.closest('#notebook-container');\n",
       "if (notebookContainer) {{\n",
       "    x.observe(notebookContainer, {childList: true});\n",
       "}}\n",
       "\n",
       "// Listen for the clearing of the current output cell\n",
       "var outputEl = gd.closest('.output');\n",
       "if (outputEl) {{\n",
       "    x.observe(outputEl, {childList: true});\n",
       "}}\n",
       "\n",
       "                        })                };                });            </script>        </div>"
      ]
     },
     "metadata": {},
     "output_type": "display_data"
    }
   ],
   "source": [
    "df1000=dataframe.iloc[:100,:]\n",
    "\n",
    "df1000[\"normsales\"] = (df1000[\"Global_Sales\"] - np.min(df1000[\"Global_Sales\"]))/(np.max(df1000[\"Global_Sales\"])-np.min(df1000[\"Global_Sales\"]))\n",
    "\n",
    "df1000.Rank=df1000.Rank.astype(\"str\")\n",
    "df1000.Global_Sales=df1000.Global_Sales.astype(\"str\")\n",
    "trace1 = go.Scatter3d(\n",
    "    y=df1000[\"Publisher\"],\n",
    "    x=df1000[\"Year\"],\n",
    "    z=df1000[\"normsales\"],\n",
    "    text=\"Name:\"+ df1000.Name +\",\"+\" Rank:\" + df1000.Rank + \" Global Sales: \" + df1000[\"Global_Sales\"] +\" millions\",\n",
    "    mode='markers',\n",
    "    marker=dict(\n",
    "        size=df1000['NA_Sales'],\n",
    "        color = df1000['normsales'],\n",
    "        colorscale = \"Rainbow\",\n",
    "        colorbar = dict(title = 'Global Sales'),\n",
    "        line=dict(color='rgb(140, 140, 170)'),\n",
    "       \n",
    "    )\n",
    ")\n",
    "\n",
    "data=[trace1]\n",
    "\n",
    "layout=go.Layout(height=800, width=800, title='Top 1000 Video Games, Release Years, Publishers and Sales',\n",
    "            titlefont=dict(color='rgb(20, 24, 54)'),\n",
    "            scene = dict(xaxis=dict(title='Year',\n",
    "                                    titlefont=dict(color='rgb(20, 24, 54)')),\n",
    "                            yaxis=dict(title='Publisher',\n",
    "                                       titlefont=dict(color='rgb(20, 24, 54)')),\n",
    "                            zaxis=dict(title='Global Sales',\n",
    "                                       titlefont=dict(color='rgb(20, 24, 54)')),\n",
    "                            bgcolor = 'whitesmoke'\n",
    "                           ))\n",
    " \n",
    "fig=go.Figure(data=data, layout=layout)\n",
    "iplot(fig)"
   ]
  },
  {
   "cell_type": "markdown",
   "metadata": {
    "slideshow": {
     "slide_type": "slide"
    }
   },
   "source": [
    "### Analyze Starcraft II replays with Jupyter Notebooks\n",
    "\n",
    "#### https://developer.ibm.com/technologies/analytics/patterns/analyze-starcraft-ii-replays-with-jupyter-notebooks/\n",
    "\n",
    "#### https://github.com/IBM/starcraft2-replay-analysis"
   ]
  },
  {
   "cell_type": "markdown",
   "metadata": {
    "slideshow": {
     "slide_type": "slide"
    }
   },
   "source": [
    "### The best Mario Kart character according to data science\n",
    "\n",
    "#### https://medium.com/civis-analytics/the-best-mario-kart-character-according-to-data-science-7dfb65d4c18e"
   ]
  },
  {
   "cell_type": "markdown",
   "metadata": {
    "slideshow": {
     "slide_type": "slide"
    }
   },
   "source": [
    "### Join the Python community!\n",
    "\n",
    "#### Slack:\n",
    "#### #pythonmeetupsgdl (Workspace: Campus Tecnológico GDL)"
   ]
  },
  {
   "cell_type": "markdown",
   "metadata": {
    "slideshow": {
     "slide_type": "slide"
    }
   },
   "source": [
    "### Thank you\n",
    "\n",
    "#### alan.verdugo.munoz1@ibm.com\n",
    "\n",
    "#### Github: https://github.com/alanverdugo/\n",
    "\n",
    "#### This notebook: https://github.com/alanverdugo/game_data_analysis"
   ]
  }
 ],
 "metadata": {
  "celltoolbar": "Slideshow",
  "kernelspec": {
   "display_name": "Python 3",
   "language": "python",
   "name": "python3"
  },
  "language_info": {
   "codemirror_mode": {
    "name": "ipython",
    "version": 3
   },
   "file_extension": ".py",
   "mimetype": "text/x-python",
   "name": "python",
   "nbconvert_exporter": "python",
   "pygments_lexer": "ipython3",
   "version": "3.8.5"
  },
  "rise": {
   "enable_chalkboard": true,
   "scroll": true,
   "theme": "white"
  }
 },
 "nbformat": 4,
 "nbformat_minor": 4
}
