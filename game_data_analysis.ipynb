{
 "cells": [
  {
   "cell_type": "markdown",
   "metadata": {
    "slideshow": {
     "slide_type": "slide"
    }
   },
   "source": [
    "<center>\n",
    "\n",
    "# Our Python is in another castle\n",
    "\n",
    "### Videogame data analysis\n",
    "\n",
    "    \n",
    "#### Alan Verdugo\n",
    "#### (Marketing Systems, CIO)\n",
    "\n",
    "</center>"
   ]
  },
  {
   "cell_type": "markdown",
   "metadata": {
    "slideshow": {
     "slide_type": "slide"
    }
   },
   "source": [
    "### A (brief) introduction to Python"
   ]
  },
  {
   "cell_type": "markdown",
   "metadata": {
    "slideshow": {
     "slide_type": "subslide"
    }
   },
   "source": [
    "Python is a popular and friendly programming language\n",
    "\n",
    "It has *MANY* use cases, including:\n",
    "- Data science (AI, ML, statistics, etc.)\n",
    "- Other sciences (physics, biology, chemistry, electro-magnetism, etc.)\n",
    "- System administration\n",
    "- Automation\n",
    "- Web development\n",
    "- Backend\n",
    "- Desktop and mobile apps!\n",
    "- Games!!\n",
    "- Much more!!!"
   ]
  },
  {
   "cell_type": "markdown",
   "metadata": {
    "slideshow": {
     "slide_type": "subslide"
    }
   },
   "source": [
    "<center>\n",
    "\n",
    "![use_cases](use_cases.png)\n",
    "\n",
    "</center>"
   ]
  },
  {
   "cell_type": "markdown",
   "metadata": {
    "slideshow": {
     "slide_type": "slide"
    }
   },
   "source": [
    "### The importance of data analysis"
   ]
  },
  {
   "cell_type": "markdown",
   "metadata": {
    "slideshow": {
     "slide_type": "subslide"
    }
   },
   "source": [
    "<center>\n",
    "\n",
    "![ghost_map1](ghost_map1.jpg)\n",
    "\n",
    "</center>"
   ]
  },
  {
   "cell_type": "markdown",
   "metadata": {
    "slideshow": {
     "slide_type": "subslide"
    }
   },
   "source": [
    "<center>\n",
    "\n",
    "![ghost_map2](ghost_map2.jpg)\n",
    "\n",
    "</center>"
   ]
  },
  {
   "cell_type": "markdown",
   "metadata": {
    "slideshow": {
     "slide_type": "slide"
    }
   },
   "source": [
    "### Let's analyze video games sales data"
   ]
  },
  {
   "cell_type": "markdown",
   "metadata": {
    "slideshow": {
     "slide_type": "slide"
    }
   },
   "source": [
    "### Import modules."
   ]
  },
  {
   "cell_type": "code",
   "execution_count": 16,
   "metadata": {
    "slideshow": {
     "slide_type": "fragment"
    }
   },
   "outputs": [],
   "source": [
    "import pandas as pd\n",
    "import json"
   ]
  },
  {
   "cell_type": "code",
   "execution_count": 2,
   "metadata": {
    "slideshow": {
     "slide_type": "subslide"
    }
   },
   "outputs": [],
   "source": [
    "dataframe = pd.read_csv(\"/home/alan/git/game_data_analysis/vgsales.csv\")\n",
    "dataframe = dataframe.drop(dataframe[dataframe['Year'] > 2015].index)"
   ]
  },
  {
   "cell_type": "code",
   "execution_count": 3,
   "metadata": {
    "slideshow": {
     "slide_type": "slide"
    }
   },
   "outputs": [],
   "source": [
    "import numpy as np\n",
    "import chart_studio.plotly as py\n",
    "from plotly.offline import init_notebook_mode,iplot\n",
    "import plotly.graph_objs as go\n",
    "import plotly.figure_factory as ff\n",
    "import matplotlib.pyplot as plt"
   ]
  },
  {
   "cell_type": "markdown",
   "metadata": {
    "slideshow": {
     "slide_type": "slide"
    }
   },
   "source": [
    "### We can display the dataframe as a table"
   ]
  },
  {
   "cell_type": "code",
   "execution_count": null,
   "metadata": {
    "slideshow": {
     "slide_type": "subslide"
    }
   },
   "outputs": [],
   "source": [
    "top = dataframe.head(4)\n",
    "table = ff.create_table(top, colorscale=\"viridis\")\n",
    "# Other built-in colorscales:\n",
    "# mint        orrd        oranges     oryel       peach       pinkyl      plasma      plotly3\n",
    "# rdpu        redor       reds        sunset      sunsetdark  teal        tealgrn     viridis\n",
    "# gray        haline      ice         matter      solar       speed       tempo       thermal\n",
    "# turbid      armyrose    brbg        earth       fall        geyser      prgn        piyg\n",
    "for i in range(len(table.layout.annotations)):\n",
    "    table.layout.annotations[i].font.size = 14\n",
    "iplot(table)"
   ]
  },
  {
   "cell_type": "markdown",
   "metadata": {
    "slideshow": {
     "slide_type": "slide"
    }
   },
   "source": [
    "### Bar charts!"
   ]
  },
  {
   "cell_type": "code",
   "execution_count": null,
   "metadata": {
    "slideshow": {
     "slide_type": "subslide"
    }
   },
   "outputs": [],
   "source": [
    "df = dataframe.head(100)\n",
    "trace = go.Histogram(x=df.Genre,\n",
    "                     marker=dict(color=\"crimson\", line=dict(color='black', width=2)),opacity=0.75)\n",
    "layout = go.Layout(\n",
    "    title='Numbers of top 100 videogames publishers',\n",
    "    xaxis=dict(title='Publishers'),\n",
    "    yaxis=dict(title=\"Count\"),\n",
    "    bargap=0.2,\n",
    "    bargroupgap=0.1,\n",
    "    paper_bgcolor=\"rgb(243, 243, 243)\",\n",
    "    plot_bgcolor=\"rgb(243, 243, 243)\")\n",
    "iplot(go.Figure(data=[trace], layout=layout))"
   ]
  },
  {
   "cell_type": "markdown",
   "metadata": {
    "slideshow": {
     "slide_type": "slide"
    }
   },
   "source": [
    "### Rank the top 100 games in a scatter plot"
   ]
  },
  {
   "cell_type": "code",
   "execution_count": null,
   "metadata": {
    "slideshow": {
     "slide_type": "subslide"
    }
   },
   "outputs": [],
   "source": [
    "trace1 = go.Scatter(x = df.Rank,\n",
    "                    y = df.NA_Sales,\n",
    "                    mode = \"markers\",\n",
    "                    name = \"North America\",\n",
    "                    marker = dict(color = 'rgba(28, 149, 249, 0.8)',size=8),\n",
    "                    text = df.Name)\n",
    "trace2 = go.Scatter(x = df.Rank,\n",
    "                    y = df.EU_Sales,\n",
    "                    mode = \"markers\",\n",
    "                    name = \"Europe\",\n",
    "                    marker = dict(color = 'rgba(249, 94, 28, 0.8)',size=8),\n",
    "                    text = df.Name)\n",
    "trace3 = go.Scatter(x = df.Rank,\n",
    "                    y = df.JP_Sales,\n",
    "                    mode = \"markers\",\n",
    "                    name = \"Japan\",\n",
    "                    marker = dict(color = 'rgba(150, 26, 80, 0.8)',size=8),\n",
    "                    text = df.Name)\n",
    "trace4 = go.Scatter(x = df.Rank,\n",
    "                    y = df.Other_Sales,\n",
    "                    mode = \"markers\",\n",
    "                    name = \"Other\",\n",
    "                    marker = dict(color = 'lime',size=8),\n",
    "                    text = df.Name)\n",
    "data = [trace1, trace2, trace3, trace4]\n",
    "layout = dict(title = 'North America, Europe, Japan and Other Sales of top 100 videogames',\n",
    "              xaxis = dict(title='Rank', ticklen=5, zeroline=False, zerolinewidth=1, gridcolor=\"white\"),\n",
    "              yaxis = dict(title='Sales (In millions)', ticklen=5, zeroline=False, zerolinewidth=1, gridcolor=\"white\"),\n",
    "              paper_bgcolor = 'rgb(243, 243, 243)',\n",
    "              plot_bgcolor = 'rgb(243, 243, 243)')\n",
    "iplot(dict(data = data, layout = layout))"
   ]
  },
  {
   "cell_type": "markdown",
   "metadata": {
    "slideshow": {
     "slide_type": "slide"
    }
   },
   "source": [
    "### Another bar chart\n",
    "\n",
    "#### (Now with the proportion of genres in each region)"
   ]
  },
  {
   "cell_type": "code",
   "execution_count": null,
   "metadata": {
    "slideshow": {
     "slide_type": "subslide"
    }
   },
   "outputs": [],
   "source": [
    "genre=pd.DataFrame(dataframe.groupby(\"Genre\")[[\"NA_Sales\",\"EU_Sales\",\"JP_Sales\",\"Other_Sales\",\"Global_Sales\"]].sum())\n",
    "genre.reset_index(level=0, inplace=True)\n",
    "genrecount=pd.DataFrame(dataframe[\"Genre\"].value_counts())\n",
    "genrecount.reset_index(level=0, inplace=True)\n",
    "genrecount.rename(columns={\"Genre\": \"Counts\",\"index\":\"Genre\"}, inplace=True)\n",
    "genre=pd.merge(genre,genrecount,on=\"Genre\")\n",
    "\n",
    "table_data=genre[[\"Genre\",\"NA_Sales\",\"EU_Sales\",\"JP_Sales\",\"Other_Sales\",\"Global_Sales\"]]\n",
    "table_data = table_data.rename(columns = {\"NA_Sales\": \"North America\", \n",
    "                                  \"EU_Sales\":\"Europe\", \n",
    "                                  \"JP_Sales\": \"Japan\",\"Other_Sales\":\"Other\",\"Global_Sales\":\"Total\"})\n",
    "\n",
    "x=genre.Genre\n",
    "NA_Perce=list(genre[\"NA_Sales\"]/genre[\"Global_Sales\"]*100)\n",
    "EU_Perce=list(genre[\"EU_Sales\"]/genre[\"Global_Sales\"]*100)\n",
    "JP_Perce=list(genre[\"JP_Sales\"]/genre[\"Global_Sales\"]*100)\n",
    "Other_Perce=list(genre[\"Other_Sales\"]/genre[\"Global_Sales\"]*100)\n",
    "\n",
    "trace1 = go.Bar(\n",
    "    x=x,\n",
    "    y=NA_Perce,\n",
    "    name=\"North America\" ,\n",
    "    xaxis='x2', yaxis='y2',\n",
    "    marker=dict(\n",
    "        color='rgb(158,202,225)',\n",
    "        line=dict(\n",
    "            color='rgb(8,48,107)',\n",
    "            width=3),\n",
    "        ),\n",
    "    opacity=0.75)\n",
    "trace2 = go.Bar(\n",
    "    x=x,\n",
    "    y=EU_Perce,\n",
    "    xaxis='x2', yaxis='y2',\n",
    "    marker=dict(\n",
    "        color='red',\n",
    "        line=dict(\n",
    "            color='rgb(8,48,107)',\n",
    "            width=3),\n",
    "        ),\n",
    "    opacity=0.75,\n",
    "    name = \"Europe\",\n",
    "    )\n",
    "trace3 = go.Bar(\n",
    "    x=x,\n",
    "    y=JP_Perce,\n",
    "    xaxis='x2', yaxis='y2',\n",
    "  \n",
    "    marker=dict(\n",
    "        color='orange',\n",
    "        line=dict(\n",
    "            color='rgb(8,48,107)',\n",
    "            width=3),\n",
    "        ),\n",
    "    opacity=0.75,\n",
    "    name = \"Japan\",\n",
    "    )\n",
    "trace4 = go.Bar(\n",
    "    x=x,\n",
    "    y=Other_Perce,\n",
    "    xaxis='x2', yaxis='y2',\n",
    "    \n",
    "    marker=dict(\n",
    "        color='purple',\n",
    "        line=dict(\n",
    "            color='rgb(8,48,107)',\n",
    "            width=3),\n",
    "        ),\n",
    "    opacity=0.75,\n",
    "    name = \"Other\",)\n",
    "trace5=go.Table(\n",
    "  header = dict(\n",
    "    values = table_data.columns,\n",
    "    line = dict(color = 'rgb(8,48,107)',width=3),\n",
    "    fill = dict(color = [\"darkslateblue\",\"blue\",\"red\", \"orange\",\"purple\",\"green\"]),\n",
    "    align = ['left','center'],\n",
    "    font = dict(color = 'white', size = 12),\n",
    "     height=30,\n",
    "  ),\n",
    "  cells = dict(\n",
    "    values = [table_data.Genre,round(table_data[\"North America\"]),round(table_data[\"Europe\"]), round(table_data[\"Japan\"]), round(table_data[\"Other\"]),round(table_data[\"Total\"])],\n",
    "    height=30,\n",
    "    line = dict(color = 'rgb(8,48,107)',width=3),\n",
    "    fill = dict(color = [\"silver\",\"rgb(158,202,225)\",\"darksalmon\", \"gold\",\"mediumorchid\",\"yellowgreen\"]),\n",
    "    align = ['left', 'center'],\n",
    "    font = dict(color = '#506784', size = 12)),\n",
    "    domain=dict(x=[0.60,1],y=[0,0.95]),\n",
    ")\n",
    "\n",
    "data = [trace1, trace2,trace3,trace4,trace5]\n",
    "layout = go.Layout(barmode='stack',autosize=False,width=1200,height=650,\n",
    "                legend=dict(x=.58, y=0,orientation=\"h\",font=dict(family='Courier New, monospace',size=11,color='#000'),\n",
    "                           bgcolor='beige', bordercolor='beige', borderwidth=1),\n",
    "                title='North America, Europe, Japan and Other Sales Percentage and Amounts According to Genre',\n",
    "                titlefont=dict(family='Courier New, monospace',size=17,color='black'),\n",
    "                xaxis2=dict(domain=[0, 0.50],anchor=\"y2\", title='Genre',titlefont=dict(family='Courier New, monospace'),tickfont=dict(family='Courier New, monospace')), yaxis2=dict( domain=[0, 1],anchor='x2',title=\"Total Percentage\",titlefont=dict(family='Courier New, monospace'),tickfont=dict(family='Courier New, monospace')),\n",
    "                paper_bgcolor='beige',plot_bgcolor='beige',\n",
    "                annotations=[ dict( text='Sales Percentage According to Region',x=0.08,y=1.02,xref=\"paper\",yref=\"paper\",showarrow=False,font=dict(size=15,family=\"Courier New, monospace\"),bgcolor=\"lightyellow\",borderwidth=5),dict( text='Total Sales(In Millions)',x=0.9,y=1.02,xref=\"paper\",yref=\"paper\",showarrow=False,font=dict(size=15,family='Courier New, monospace'),bgcolor=\"lightyellow\",borderwidth=5)],\n",
    "                  )\n",
    "iplot(go.Figure(data=data, layout=layout))"
   ]
  },
  {
   "cell_type": "markdown",
   "metadata": {
    "slideshow": {
     "slide_type": "slide"
    }
   },
   "source": [
    "### Now with extra dimensions!\n",
    "\n",
    "#### We can create a 3D visualization data by Rank, Publisher and Release year."
   ]
  },
  {
   "cell_type": "code",
   "execution_count": null,
   "metadata": {
    "slideshow": {
     "slide_type": "subslide"
    }
   },
   "outputs": [],
   "source": [
    "df1000=dataframe.iloc[:1000,:]\n",
    "\n",
    "df1000[\"normsales\"] = (df1000[\"Global_Sales\"] - np.min(df1000[\"Global_Sales\"]))/(np.max(df1000[\"Global_Sales\"])-np.min(df1000[\"Global_Sales\"]))\n",
    "\n",
    "df1000.Rank=df1000.Rank.astype(\"str\")\n",
    "df1000.Global_Sales=df1000.Global_Sales.astype(\"str\")\n",
    "trace1 = go.Scatter3d(\n",
    "    y=df1000[\"Publisher\"],\n",
    "    x=df1000[\"Year\"],\n",
    "    z=df1000[\"normsales\"],\n",
    "    text=\"Name:\"+ df1000.Name +\",\"+\" Rank:\" + df1000.Rank + \" Global Sales: \" + df1000[\"Global_Sales\"] +\" millions\",\n",
    "    mode='markers',\n",
    "    marker=dict(\n",
    "        size=df1000['NA_Sales'],\n",
    "        color = df1000['normsales'],\n",
    "        colorscale = \"Rainbow\",\n",
    "        colorbar = dict(title = 'Global Sales'),\n",
    "        line=dict(color='rgb(140, 140, 170)'),\n",
    "       \n",
    "    )\n",
    ")\n",
    "\n",
    "data=[trace1]\n",
    "\n",
    "layout=go.Layout(height=800, width=800, title='Top 1000 Video Games, Release Years, Publishers and Sales',\n",
    "            titlefont=dict(color='rgb(20, 24, 54)'),\n",
    "            scene = dict(xaxis=dict(title='Year',\n",
    "                                    titlefont=dict(color='rgb(20, 24, 54)')),\n",
    "                            yaxis=dict(title='Publisher',\n",
    "                                       titlefont=dict(color='rgb(20, 24, 54)')),\n",
    "                            zaxis=dict(title='Global Sales',\n",
    "                                       titlefont=dict(color='rgb(20, 24, 54)')),\n",
    "                            bgcolor = 'whitesmoke'\n",
    "                           ))\n",
    " \n",
    "fig=go.Figure(data=data, layout=layout)\n",
    "iplot(fig)"
   ]
  },
  {
   "cell_type": "markdown",
   "metadata": {
    "slideshow": {
     "slide_type": "slide"
    }
   },
   "source": [
    "### Analyze Starcraft II replays with Jupyter Notebooks\n",
    "\n",
    "#### https://developer.ibm.com/technologies/analytics/patterns/analyze-starcraft-ii-replays-with-jupyter-notebooks/\n",
    "\n",
    "#### https://github.com/IBM/starcraft2-replay-analysis"
   ]
  },
  {
   "cell_type": "markdown",
   "metadata": {
    "slideshow": {
     "slide_type": "slide"
    }
   },
   "source": [
    "### The best Mario Kart character according to data science\n",
    "\n",
    "#### https://medium.com/civis-analytics/the-best-mario-kart-character-according-to-data-science-7dfb65d4c18e"
   ]
  },
  {
   "cell_type": "markdown",
   "metadata": {
    "slideshow": {
     "slide_type": "slide"
    }
   },
   "source": [
    "### Join the Python community!\n",
    "\n",
    "#### Slack:\n",
    "#### #pythonmeetupsgdl (Workspace: Campus Tecnológico GDL)"
   ]
  },
  {
   "cell_type": "markdown",
   "metadata": {
    "slideshow": {
     "slide_type": "slide"
    }
   },
   "source": [
    "### Thank you\n",
    "\n",
    "#### alan.verdugo.munoz1@ibm.com\n",
    "\n",
    "#### Github: https://github.com/alanverdugo/\n",
    "\n",
    "#### This notebook: https://github.com/alanverdugo/game_data_analysis"
   ]
  }
 ],
 "metadata": {
  "celltoolbar": "Slideshow",
  "kernelspec": {
   "display_name": "Python 3",
   "language": "python",
   "name": "python3"
  },
  "language_info": {
   "codemirror_mode": {
    "name": "ipython",
    "version": 3
   },
   "file_extension": ".py",
   "mimetype": "text/x-python",
   "name": "python",
   "nbconvert_exporter": "python",
   "pygments_lexer": "ipython3",
   "version": "3.8.5"
  },
  "rise": {
   "enable_chalkboard": true,
   "scroll": true,
   "theme": "white"
  }
 },
 "nbformat": 4,
 "nbformat_minor": 4
}
